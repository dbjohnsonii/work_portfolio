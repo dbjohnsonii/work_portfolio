{
 "cells": [
  {
   "cell_type": "code",
   "execution_count": 1,
   "metadata": {},
   "outputs": [
    {
     "data": {
      "text/html": [
       "<style>.container { width:95% !important; }</style>"
      ],
      "text/plain": [
       "<IPython.core.display.HTML object>"
      ]
     },
     "metadata": {},
     "output_type": "display_data"
    },
    {
     "name": "stdout",
     "output_type": "stream",
     "text": [
      "3.6.5 |Anaconda custom (64-bit)| (default, Mar 29 2018, 13:32:41) [MSC v.1900 64 bit (AMD64)]\n"
     ]
    }
   ],
   "source": [
    "from IPython.core.display import display, HTML\n",
    "display(HTML(\"<style>.container { width:95% !important; }</style>\"))\n",
    "import sys\n",
    "print (sys.version)"
   ]
  },
  {
   "cell_type": "code",
   "execution_count": 2,
   "metadata": {},
   "outputs": [],
   "source": [
    "'''import all necessary libraries'''\n",
    "import pandas as pd #connect to the pandas libraries\n",
    "import numpy as np #import numpy"
   ]
  },
  {
   "cell_type": "code",
   "execution_count": 3,
   "metadata": {},
   "outputs": [],
   "source": [
    "vi_import='d:\\\\djohnson\\\\Desktop\\\\misuse\\\\2018\\jun\\\\audit_files\\\\mc_eu_integ_fee_ytd.csv'\n",
    "mu_import='d:\\\\djohnson\\\\Desktop\\\\misuse\\\\2018\\\\jun\\\\audit_files\\\\mc_row_integ_fee_ytd.csv'\n",
    "mu_e_import='d:\\\\djohnson\\\\Desktop\\\\misuse\\\\2018\\\\jun\\\\audit_files\\\\vi_integ_fee_ytd.csv'"
   ]
  },
  {
   "cell_type": "code",
   "execution_count": 4,
   "metadata": {},
   "outputs": [],
   "source": [
    "vi=pd.read_csv(vi_import,encoding='ISO-8859-1',low_memory=False)\n",
    "mr=pd.read_csv(mu_import,encoding='ISO-8859-1',low_memory=False)\n",
    "me=pd.read_csv(mu_e_import,encoding='ISO-8859-1',low_memory=False)"
   ]
  },
  {
   "cell_type": "code",
   "execution_count": 5,
   "metadata": {},
   "outputs": [],
   "source": [
    "m=pd.concat([vi,mr,me], sort=False).copy()"
   ]
  },
  {
   "cell_type": "code",
   "execution_count": 6,
   "metadata": {},
   "outputs": [],
   "source": [
    "m_final=m.drop(['Unnamed: 0','MONTH_y','STATUSYEAR_y','us_conversion_x','eu_conversion_x','MONTH_x','us_conversion_y','eu_conversion_y','STATUSYEAR.1','MONTH'],axis=1).copy()"
   ]
  },
  {
   "cell_type": "code",
   "execution_count": 7,
   "metadata": {},
   "outputs": [],
   "source": [
    "m_final=m_final[(m_final['ICPLUS_TYPE']=='-')]"
   ]
  },
  {
   "cell_type": "code",
   "execution_count": 8,
   "metadata": {},
   "outputs": [],
   "source": [
    "m_final.to_csv('d:\\\\djohnson\\\\Desktop\\\\misuse\\\\2018\\jun\\\\audit_files\\\\master_audit.csv')"
   ]
  }
 ],
 "metadata": {
  "kernelspec": {
   "display_name": "Python 3",
   "language": "python",
   "name": "python3"
  },
  "language_info": {
   "codemirror_mode": {
    "name": "ipython",
    "version": 3
   },
   "file_extension": ".py",
   "mimetype": "text/x-python",
   "name": "python",
   "nbconvert_exporter": "python",
   "pygments_lexer": "ipython3",
   "version": "3.6.5"
  }
 },
 "nbformat": 4,
 "nbformat_minor": 2
}
