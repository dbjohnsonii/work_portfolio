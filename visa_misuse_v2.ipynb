{
 "cells": [
  {
   "cell_type": "code",
   "execution_count": 1,
   "metadata": {
    "collapsed": false
   },
   "outputs": [
    {
     "data": {
      "text/html": [
       "<style>.container { width:95% !important; }</style>"
      ],
      "text/plain": [
       "<IPython.core.display.HTML object>"
      ]
     },
     "metadata": {},
     "output_type": "display_data"
    },
    {
     "name": "stdout",
     "output_type": "stream",
     "text": [
      "2.7.12 |Anaconda 4.2.0 (64-bit)| (default, Jun 29 2016, 11:07:13) [MSC v.1500 64 bit (AMD64)]\n"
     ]
    }
   ],
   "source": [
    "from IPython.core.display import display, HTML\n",
    "display(HTML(\"<style>.container { width:95% !important; }</style>\"))\n",
    "import sys\n",
    "print (sys.version)"
   ]
  },
  {
   "cell_type": "code",
   "execution_count": 2,
   "metadata": {
    "collapsed": true
   },
   "outputs": [],
   "source": [
    "import pandas as pd #CONNECT TO THE PANDAS LIBRARY\n",
    "import numpy as np #IMPORT NUMPY"
   ]
  },
  {
   "cell_type": "code",
   "execution_count": 3,
   "metadata": {
    "collapsed": true
   },
   "outputs": [],
   "source": [
    "import datetime\n",
    "now = datetime.datetime.now()\n",
    "#day=\"%s/%s\" % (now.month-1,now.year)\n",
    "#day_save=\"%s_%s\" % (now.month-1,now.year)\n",
    "#year=now.year\n",
    "#month=now.month\n",
    "\n",
    "#day=day\n",
    "#print day\n",
    "\n",
    "#day_save=day_save\n",
    "#print day_save\n",
    "\n",
    "#month=month-1\n",
    "#print month\n",
    "month=4\n",
    "day=201804"
   ]
  },
  {
   "cell_type": "code",
   "execution_count": 4,
   "metadata": {
    "collapsed": true
   },
   "outputs": [],
   "source": [
    "acq_col_names=['STATUSMONTH',\n",
    "           'STATUSYEAR',\n",
    "           'ORDERID',\n",
    "           'CONTRACT_ID',\n",
    "           'CLIENT_NAME',\n",
    "           'REQUESTAUTHORIZEDAMOUNT',\n",
    "           'CURRENCYCODE',\n",
    "           'CURRENT_PAYMENTSTATUSID_UPDATED',\n",
    "           'PAYMENTPRODUCTID',\n",
    "           'PAYMENTMETHODID',\n",
    "           'PAYMENTPROCESSORNUMBER',\n",
    "           'CREDITCARDCOMPANY',\n",
    "           'COUNTRYCODE',\n",
    "           'BIN',\n",
    "           'INVOICE_CURRENCY',\n",
    "           'SERVICEPROVIDERGROUPNAME',\n",
    "           'ICPLUS_TYPE',\n",
    "           'GEOGRAPHICAL_AREA_LOCAL_ACQUIRER_DESC']"
   ]
  },
  {
   "cell_type": "code",
   "execution_count": 5,
   "metadata": {
    "collapsed": true
   },
   "outputs": [],
   "source": [
    "curr_col_names=['us_conversion','eu_conversion','CURRENCYCODE','STATUSYEAR','STATUSMONTH']"
   ]
  },
  {
   "cell_type": "code",
   "execution_count": 6,
   "metadata": {
    "collapsed": false,
    "scrolled": true
   },
   "outputs": [
    {
     "name": "stderr",
     "output_type": "stream",
     "text": [
      "C:\\Users\\djohnson\\AppData\\Local\\Continuum\\Anaconda2\\lib\\site-packages\\IPython\\core\\interactiveshell.py:2717: DtypeWarning: Columns (0) have mixed types. Specify dtype option on import or set low_memory=False.\n",
      "  interactivity=interactivity, compiler=compiler, result=result)\n"
     ]
    }
   ],
   "source": [
    "curr=pd.read_csv('G:\\\\Pricing\\\\Pricing Intelligence\\\\Projects\\\\IC_Opt_project\\\\pi_implementation\\\\currency_conversion\\\\monthly\\\\currency_monthly_data.csv')\n",
    "excep=pd.read_csv('G:\\\\Pricing\\\\Pricing Intelligence\\\\Projects\\\\IC_Opt_project\\\\pi_implementation\\\\misuse_of_authorization_fee\\\\reference_tables\\\\mu_exceptions_tbl.csv')\n",
    "\n",
    "prd_ref_tbl=pd.read_csv('G:\\\\Pricing\\\\Pricing Intelligence\\\\Projects\\\\IC_Opt_project\\\\pi_implementation\\\\misuse_of_authorization_fee\\\\reference_tables\\\\vi_product_ref_tbl.csv')\n",
    "prd_ref_tbl=prd_ref_tbl[['CREDITDEBITINDICATOR','CURRENCYCODE','PRODUCT_CODE']]\n",
    "\n",
    "vi=pd.read_csv('d:\\\\djohnson\\\\Desktop\\\\misuse\\\\2018\\\\apr\\\\data_files\\\\visa_misuse.csv',sep=';',names=acq_col_names,skiprows=66)\n",
    "con =pd.read_csv('d:\\\\djohnson\\\\Desktop\\\\misuse\\\\2018\\\\apr\\\\currency_conversion\\\\monthly_currency_average.csv',sep=';',names=curr_col_names,skiprows=9)"
   ]
  },
  {
   "cell_type": "code",
   "execution_count": 7,
   "metadata": {
    "collapsed": false
   },
   "outputs": [],
   "source": [
    "vi_mu_working_data=vi #Create a working reference of the misuse of information"
   ]
  },
  {
   "cell_type": "code",
   "execution_count": 8,
   "metadata": {
    "collapsed": false
   },
   "outputs": [],
   "source": [
    "vi_mu_working_data.rename(columns={'GEOGRAPHICAL_AREA_LOCAL_ACQUIRER_DESC,': 'GEOGRAPHICAL_AREA_LOCAL_ACQUIRER_DESC'}, inplace=True)#Update the name to USD conversion factor\n",
    "vi_mu_working_data['CREDITDEBITINDICATOR']='C'"
   ]
  },
  {
   "cell_type": "code",
   "execution_count": 9,
   "metadata": {
    "collapsed": true
   },
   "outputs": [],
   "source": [
    "vi['CURRENCYCODE']=vi['CURRENCYCODE'].str.strip()\n",
    "vi['ICPLUS_TYPE']=vi['ICPLUS_TYPE'].str.strip()\n",
    "con['CURRENCYCODE']=con['CURRENCYCODE'].str.strip()"
   ]
  },
  {
   "cell_type": "code",
   "execution_count": 10,
   "metadata": {
    "collapsed": true
   },
   "outputs": [],
   "source": [
    "con['STATUSMONTH']=4"
   ]
  },
  {
   "cell_type": "code",
   "execution_count": 11,
   "metadata": {
    "collapsed": false
   },
   "outputs": [
    {
     "data": {
      "text/html": [
       "<div>\n",
       "<table border=\"1\" class=\"dataframe\">\n",
       "  <thead>\n",
       "    <tr style=\"text-align: right;\">\n",
       "      <th></th>\n",
       "      <th>STATUSMONTH</th>\n",
       "      <th>STATUSYEAR</th>\n",
       "      <th>ORDERID</th>\n",
       "      <th>CONTRACT_ID</th>\n",
       "      <th>CLIENT_NAME</th>\n",
       "      <th>REQUESTAUTHORIZEDAMOUNT</th>\n",
       "      <th>CURRENCYCODE</th>\n",
       "      <th>CURRENT_PAYMENTSTATUSID_UPDATED</th>\n",
       "      <th>PAYMENTPRODUCTID</th>\n",
       "      <th>PAYMENTMETHODID</th>\n",
       "      <th>PAYMENTPROCESSORNUMBER</th>\n",
       "      <th>CREDITCARDCOMPANY</th>\n",
       "      <th>COUNTRYCODE</th>\n",
       "      <th>BIN</th>\n",
       "      <th>INVOICE_CURRENCY</th>\n",
       "      <th>SERVICEPROVIDERGROUPNAME</th>\n",
       "      <th>ICPLUS_TYPE</th>\n",
       "      <th>GEOGRAPHICAL_AREA_LOCAL_ACQUIRER_DESC</th>\n",
       "      <th>CREDITDEBITINDICATOR</th>\n",
       "    </tr>\n",
       "  </thead>\n",
       "  <tbody>\n",
       "    <tr>\n",
       "      <th>0</th>\n",
       "      <td>4</td>\n",
       "      <td>2018.0</td>\n",
       "      <td>3.766476e+06</td>\n",
       "      <td>6702.0</td>\n",
       "      <td>WCB - Laithwaites Wine</td>\n",
       "      <td>100.0</td>\n",
       "      <td>USD</td>\n",
       "      <td>600.0</td>\n",
       "      <td>1.0</td>\n",
       "      <td>1.0</td>\n",
       "      <td>283.0</td>\n",
       "      <td>VISA</td>\n",
       "      <td>US</td>\n",
       "      <td>422695.0</td>\n",
       "      <td>USD</td>\n",
       "      <td>Vantiv</td>\n",
       "      <td>Cost Plus</td>\n",
       "      <td>NorthAm</td>\n",
       "      <td>C</td>\n",
       "    </tr>\n",
       "    <tr>\n",
       "      <th>1</th>\n",
       "      <td>4</td>\n",
       "      <td>2018.0</td>\n",
       "      <td>3.786056e+06</td>\n",
       "      <td>7706.0</td>\n",
       "      <td>WSJwine - Wine Cellar-Redbank</td>\n",
       "      <td>100.0</td>\n",
       "      <td>USD</td>\n",
       "      <td>600.0</td>\n",
       "      <td>1.0</td>\n",
       "      <td>1.0</td>\n",
       "      <td>283.0</td>\n",
       "      <td>VISA</td>\n",
       "      <td>US</td>\n",
       "      <td>414720.0</td>\n",
       "      <td>USD</td>\n",
       "      <td>Vantiv</td>\n",
       "      <td>Cost Plus</td>\n",
       "      <td>NorthAm</td>\n",
       "      <td>C</td>\n",
       "    </tr>\n",
       "    <tr>\n",
       "      <th>2</th>\n",
       "      <td>4</td>\n",
       "      <td>2018.0</td>\n",
       "      <td>2.452671e+08</td>\n",
       "      <td>4235.0</td>\n",
       "      <td>Valve Cards US</td>\n",
       "      <td>100.0</td>\n",
       "      <td>USD</td>\n",
       "      <td>600.0</td>\n",
       "      <td>1.0</td>\n",
       "      <td>1.0</td>\n",
       "      <td>372.0</td>\n",
       "      <td>VISA</td>\n",
       "      <td>US</td>\n",
       "      <td>445178.0</td>\n",
       "      <td>USD</td>\n",
       "      <td>Vantiv</td>\n",
       "      <td>Cost Plus</td>\n",
       "      <td>NorthAm</td>\n",
       "      <td>C</td>\n",
       "    </tr>\n",
       "    <tr>\n",
       "      <th>3</th>\n",
       "      <td>4</td>\n",
       "      <td>2018.0</td>\n",
       "      <td>1.233219e+09</td>\n",
       "      <td>6601.0</td>\n",
       "      <td>Tourico Holidays (B2B - US BIN</td>\n",
       "      <td>200.0</td>\n",
       "      <td>USD</td>\n",
       "      <td>600.0</td>\n",
       "      <td>1.0</td>\n",
       "      <td>1.0</td>\n",
       "      <td>283.0</td>\n",
       "      <td>VISA</td>\n",
       "      <td>US</td>\n",
       "      <td>414720.0</td>\n",
       "      <td>USD</td>\n",
       "      <td>Vantiv</td>\n",
       "      <td>Cost Plus</td>\n",
       "      <td>NorthAm</td>\n",
       "      <td>C</td>\n",
       "    </tr>\n",
       "    <tr>\n",
       "      <th>4</th>\n",
       "      <td>4</td>\n",
       "      <td>2018.0</td>\n",
       "      <td>1.028886e+08</td>\n",
       "      <td>3911.0</td>\n",
       "      <td>Linden Lab</td>\n",
       "      <td>100.0</td>\n",
       "      <td>USD</td>\n",
       "      <td>600.0</td>\n",
       "      <td>1.0</td>\n",
       "      <td>1.0</td>\n",
       "      <td>283.0</td>\n",
       "      <td>VISA</td>\n",
       "      <td>US</td>\n",
       "      <td>446561.0</td>\n",
       "      <td>USD</td>\n",
       "      <td>Vantiv</td>\n",
       "      <td>-</td>\n",
       "      <td>NorthAm</td>\n",
       "      <td>C</td>\n",
       "    </tr>\n",
       "  </tbody>\n",
       "</table>\n",
       "</div>"
      ],
      "text/plain": [
       "  STATUSMONTH  STATUSYEAR       ORDERID  CONTRACT_ID  \\\n",
       "0           4      2018.0  3.766476e+06       6702.0   \n",
       "1           4      2018.0  3.786056e+06       7706.0   \n",
       "2           4      2018.0  2.452671e+08       4235.0   \n",
       "3           4      2018.0  1.233219e+09       6601.0   \n",
       "4           4      2018.0  1.028886e+08       3911.0   \n",
       "\n",
       "                      CLIENT_NAME  REQUESTAUTHORIZEDAMOUNT CURRENCYCODE  \\\n",
       "0  WCB - Laithwaites Wine                            100.0          USD   \n",
       "1  WSJwine - Wine Cellar-Redbank                     100.0          USD   \n",
       "2  Valve Cards US                                    100.0          USD   \n",
       "3  Tourico Holidays (B2B - US BIN                    200.0          USD   \n",
       "4  Linden Lab                                        100.0          USD   \n",
       "\n",
       "   CURRENT_PAYMENTSTATUSID_UPDATED  PAYMENTPRODUCTID  PAYMENTMETHODID  \\\n",
       "0                            600.0               1.0              1.0   \n",
       "1                            600.0               1.0              1.0   \n",
       "2                            600.0               1.0              1.0   \n",
       "3                            600.0               1.0              1.0   \n",
       "4                            600.0               1.0              1.0   \n",
       "\n",
       "   PAYMENTPROCESSORNUMBER CREDITCARDCOMPANY COUNTRYCODE       BIN  \\\n",
       "0                   283.0              VISA          US  422695.0   \n",
       "1                   283.0              VISA          US  414720.0   \n",
       "2                   372.0              VISA          US  445178.0   \n",
       "3                   283.0              VISA          US  414720.0   \n",
       "4                   283.0              VISA          US  446561.0   \n",
       "\n",
       "  INVOICE_CURRENCY                  SERVICEPROVIDERGROUPNAME ICPLUS_TYPE  \\\n",
       "0              USD  Vantiv                                     Cost Plus   \n",
       "1              USD  Vantiv                                     Cost Plus   \n",
       "2              USD  Vantiv                                     Cost Plus   \n",
       "3              USD  Vantiv                                     Cost Plus   \n",
       "4              USD  Vantiv                                             -   \n",
       "\n",
       "  GEOGRAPHICAL_AREA_LOCAL_ACQUIRER_DESC CREDITDEBITINDICATOR  \n",
       "0                               NorthAm                    C  \n",
       "1                               NorthAm                    C  \n",
       "2                               NorthAm                    C  \n",
       "3                               NorthAm                    C  \n",
       "4                               NorthAm                    C  "
      ]
     },
     "execution_count": 11,
     "metadata": {},
     "output_type": "execute_result"
    }
   ],
   "source": [
    "vi_mu_working_data.head()"
   ]
  },
  {
   "cell_type": "code",
   "execution_count": 12,
   "metadata": {
    "collapsed": true
   },
   "outputs": [],
   "source": [
    "vi_mu_working_data['PROCESS_INTEGRITY_FEE']=1*0.09"
   ]
  },
  {
   "cell_type": "code",
   "execution_count": 13,
   "metadata": {
    "collapsed": false
   },
   "outputs": [],
   "source": [
    "vi_mu_working_data['REQUESTAUTHORIZEDAMOUNT']=vi_mu_working_data['REQUESTAUTHORIZEDAMOUNT']/100"
   ]
  },
  {
   "cell_type": "code",
   "execution_count": 14,
   "metadata": {
    "collapsed": false
   },
   "outputs": [],
   "source": [
    "vi_mu_working_data=vi_mu_working_data[['STATUSMONTH','STATUSYEAR','CLIENT_NAME','CONTRACT_ID','SERVICEPROVIDERGROUPNAME','GEOGRAPHICAL_AREA_LOCAL_ACQUIRER_DESC','ORDERID','CREDITDEBITINDICATOR','CURRENCYCODE','REQUESTAUTHORIZEDAMOUNT','INVOICE_CURRENCY','ICPLUS_TYPE','PROCESS_INTEGRITY_FEE']]"
   ]
  },
  {
   "cell_type": "code",
   "execution_count": 15,
   "metadata": {
    "collapsed": false
   },
   "outputs": [],
   "source": [
    "vi_mu_working_data=pd.merge(vi_mu_working_data,con,on=['CURRENCYCODE','STATUSMONTH','STATUSYEAR'])\n",
    "vi_mu_working_data['REQUESTAUTHORIZEDAMOUNT']=vi_mu_working_data['REQUESTAUTHORIZEDAMOUNT']/vi_mu_working_data['us_conversion']"
   ]
  },
  {
   "cell_type": "code",
   "execution_count": 16,
   "metadata": {
    "collapsed": true
   },
   "outputs": [],
   "source": [
    "vi_mu_working_data=pd.merge(vi_mu_working_data,prd_ref_tbl,on=['CURRENCYCODE','CREDITDEBITINDICATOR'],how='left')"
   ]
  },
  {
   "cell_type": "code",
   "execution_count": 17,
   "metadata": {
    "collapsed": true
   },
   "outputs": [],
   "source": [
    "vi_mu_working_data=pd.merge(vi_mu_working_data,excep,on=['CONTRACT_ID'],how='left')"
   ]
  },
  {
   "cell_type": "code",
   "execution_count": 18,
   "metadata": {
    "collapsed": false
   },
   "outputs": [
    {
     "name": "stderr",
     "output_type": "stream",
     "text": [
      "C:\\Users\\djohnson\\AppData\\Local\\Continuum\\Anaconda2\\lib\\site-packages\\ipykernel\\__main__.py:1: SettingWithCopyWarning: \n",
      "A value is trying to be set on a copy of a slice from a DataFrame\n",
      "\n",
      "See the caveats in the documentation: http://pandas.pydata.org/pandas-docs/stable/indexing.html#indexing-view-versus-copy\n",
      "  if __name__ == '__main__':\n",
      "C:\\Users\\djohnson\\AppData\\Local\\Continuum\\Anaconda2\\lib\\site-packages\\ipykernel\\__main__.py:2: SettingWithCopyWarning: \n",
      "A value is trying to be set on a copy of a slice from a DataFrame\n",
      "\n",
      "See the caveats in the documentation: http://pandas.pydata.org/pandas-docs/stable/indexing.html#indexing-view-versus-copy\n",
      "  from ipykernel import kernelapp as app\n"
     ]
    }
   ],
   "source": [
    "vi_mu_working_data['ICPLUS_TYPE'][(vi_mu_working_data['CONTRACT_ID']==7162)]=\"-\"\n",
    "vi_mu_working_data['INVOICE_CURRENCY'][(vi_mu_working_data['CONTRACT_ID']==7162)]=\"USD\""
   ]
  },
  {
   "cell_type": "code",
   "execution_count": 19,
   "metadata": {
    "collapsed": true
   },
   "outputs": [],
   "source": [
    "vi_mu_working_data=pd.merge(vi_mu_working_data,curr,on=['CURRENCYCODE'],how='left')\n",
    "vi_mu_working_data.rename(columns={'EUR_CONVERSION_RATE': 'USD_CONVERSION_FACTOR'}, inplace=True)#Update the name to USD conversion factor"
   ]
  },
  {
   "cell_type": "code",
   "execution_count": 20,
   "metadata": {
    "collapsed": true
   },
   "outputs": [],
   "source": [
    "curr_invoice=curr\n",
    "curr_invoice.rename(columns={'CURRENCYCODE': 'INVOICE_CURRENCY'}, inplace=True)"
   ]
  },
  {
   "cell_type": "code",
   "execution_count": 21,
   "metadata": {
    "collapsed": false
   },
   "outputs": [],
   "source": [
    "vi_mu_working_data=pd.merge(vi_mu_working_data,curr_invoice,on=['INVOICE_CURRENCY'],how='left')\n",
    "vi_mu_working_data['INVOICE_CONVERSION_FACTOR']=vi_mu_working_data['EUR_CONVERSION_RATE']"
   ]
  },
  {
   "cell_type": "code",
   "execution_count": 22,
   "metadata": {
    "collapsed": true
   },
   "outputs": [],
   "source": [
    "vi_mu_working_data['CURRENCY_ADJUSTED_INVOICE_AMOUNT']=vi_mu_working_data['PROCESS_INTEGRITY_FEE']/vi_mu_working_data['INVOICE_CONVERSION_FACTOR']"
   ]
  },
  {
   "cell_type": "code",
   "execution_count": 23,
   "metadata": {
    "collapsed": false
   },
   "outputs": [
    {
     "name": "stderr",
     "output_type": "stream",
     "text": [
      "C:\\Users\\djohnson\\AppData\\Local\\Continuum\\Anaconda2\\lib\\site-packages\\ipykernel\\__main__.py:1: SettingWithCopyWarning: \n",
      "A value is trying to be set on a copy of a slice from a DataFrame\n",
      "\n",
      "See the caveats in the documentation: http://pandas.pydata.org/pandas-docs/stable/indexing.html#indexing-view-versus-copy\n",
      "  if __name__ == '__main__':\n"
     ]
    }
   ],
   "source": [
    "vi_mu_working_data['INVOICE_CURRENCY'][(vi_mu_working_data['INVOICE_CURRENCY'].isnull())&(vi_mu_working_data['CURRENCYCODE']=='CAD')]='USD'"
   ]
  },
  {
   "cell_type": "code",
   "execution_count": 24,
   "metadata": {
    "collapsed": false
   },
   "outputs": [
    {
     "name": "stderr",
     "output_type": "stream",
     "text": [
      "C:\\Users\\djohnson\\AppData\\Local\\Continuum\\Anaconda2\\lib\\site-packages\\ipykernel\\__main__.py:5: SettingWithCopyWarning: \n",
      "A value is trying to be set on a copy of a slice from a DataFrame\n",
      "\n",
      "See the caveats in the documentation: http://pandas.pydata.org/pandas-docs/stable/indexing.html#indexing-view-versus-copy\n",
      "C:\\Users\\djohnson\\AppData\\Local\\Continuum\\Anaconda2\\lib\\site-packages\\ipykernel\\__main__.py:6: SettingWithCopyWarning: \n",
      "A value is trying to be set on a copy of a slice from a DataFrame\n",
      "\n",
      "See the caveats in the documentation: http://pandas.pydata.org/pandas-docs/stable/indexing.html#indexing-view-versus-copy\n"
     ]
    }
   ],
   "source": [
    "curr[(curr['INVOICE_CURRENCY']=='EUR')]\n",
    "\n",
    "usd=curr[:].iloc[4]['EUR_CONVERSION_RATE']#Establish the European Conversion Amount\n",
    "vi_mu_working_data['EUR_TOTAL']=0\n",
    "vi_mu_working_data['EUR_TOTAL'][(vi_mu_working_data['INVOICE_CURRENCY']!=\"EUR\")]=vi_mu_working_data['CURRENCY_ADJUSTED_INVOICE_AMOUNT']/usd\n",
    "vi_mu_working_data['EUR_TOTAL'][(vi_mu_working_data['INVOICE_CURRENCY']==\"EUR\")]=vi_mu_working_data['CURRENCY_ADJUSTED_INVOICE_AMOUNT']"
   ]
  },
  {
   "cell_type": "code",
   "execution_count": 25,
   "metadata": {
    "collapsed": false
   },
   "outputs": [
    {
     "name": "stderr",
     "output_type": "stream",
     "text": [
      "C:\\Users\\djohnson\\AppData\\Local\\Continuum\\Anaconda2\\lib\\site-packages\\ipykernel\\__main__.py:4: SettingWithCopyWarning: \n",
      "A value is trying to be set on a copy of a slice from a DataFrame\n",
      "\n",
      "See the caveats in the documentation: http://pandas.pydata.org/pandas-docs/stable/indexing.html#indexing-view-versus-copy\n",
      "C:\\Users\\djohnson\\AppData\\Local\\Continuum\\Anaconda2\\lib\\site-packages\\ipykernel\\__main__.py:5: SettingWithCopyWarning: \n",
      "A value is trying to be set on a copy of a slice from a DataFrame\n",
      "\n",
      "See the caveats in the documentation: http://pandas.pydata.org/pandas-docs/stable/indexing.html#indexing-view-versus-copy\n",
      "C:\\Users\\djohnson\\AppData\\Local\\Continuum\\Anaconda2\\lib\\site-packages\\ipykernel\\__main__.py:8: SettingWithCopyWarning: \n",
      "A value is trying to be set on a copy of a slice from a DataFrame\n",
      "\n",
      "See the caveats in the documentation: http://pandas.pydata.org/pandas-docs/stable/indexing.html#indexing-view-versus-copy\n",
      "C:\\Users\\djohnson\\AppData\\Local\\Continuum\\Anaconda2\\lib\\site-packages\\ipykernel\\__main__.py:9: SettingWithCopyWarning: \n",
      "A value is trying to be set on a copy of a slice from a DataFrame\n",
      "\n",
      "See the caveats in the documentation: http://pandas.pydata.org/pandas-docs/stable/indexing.html#indexing-view-versus-copy\n"
     ]
    }
   ],
   "source": [
    "vi_mu_working_data['Product Description']='Penalty Fees'\n",
    "\n",
    "vi_mu_working_data['Current % Tariff']=0\n",
    "vi_mu_working_data['Current % Tariff'][(vi_mu_working_data['EXCEPTION']=='YES')]=1\n",
    "vi_mu_working_data['Current % Tariff'][(vi_mu_working_data['EXCEPTION']!='YES')]=1.10\n",
    "\n",
    "vi_mu_working_data['Description']=''\n",
    "vi_mu_working_data['Description'][(vi_mu_working_data['EXCEPTION']=='YES')]='Fee 100.00% or as currently in IST ='\n",
    "vi_mu_working_data['Description'][(vi_mu_working_data['EXCEPTION']!='YES')]='Fee 110.00% or as currently in IST ='\n",
    "\n",
    "vi_mu_working_data['Product Code']=420129"
   ]
  },
  {
   "cell_type": "code",
   "execution_count": 26,
   "metadata": {
    "collapsed": false
   },
   "outputs": [
    {
     "name": "stdout",
     "output_type": "stream",
     "text": [
      "<class 'pandas.core.frame.DataFrame'>\n",
      "Int64Index: 33704 entries, 0 to 33703\n",
      "Data columns (total 28 columns):\n",
      "STATUSMONTH                              33704 non-null object\n",
      "STATUSYEAR                               33704 non-null float64\n",
      "CLIENT_NAME                              33704 non-null object\n",
      "CONTRACT_ID                              33704 non-null float64\n",
      "SERVICEPROVIDERGROUPNAME                 33704 non-null object\n",
      "GEOGRAPHICAL_AREA_LOCAL_ACQUIRER_DESC    33704 non-null object\n",
      "ORDERID                                  33704 non-null float64\n",
      "CREDITDEBITINDICATOR                     33704 non-null object\n",
      "CURRENCYCODE                             33704 non-null object\n",
      "REQUESTAUTHORIZEDAMOUNT                  33704 non-null float64\n",
      "INVOICE_CURRENCY                         33704 non-null object\n",
      "ICPLUS_TYPE                              33704 non-null object\n",
      "PROCESS_INTEGRITY_FEE                    33704 non-null float64\n",
      "us_conversion                            33704 non-null float64\n",
      "eu_conversion                            33704 non-null float64\n",
      "PRODUCT_CODE                             33704 non-null float64\n",
      "EXCEPTION                                2427 non-null object\n",
      "Unnamed: 0_x                             28987 non-null float64\n",
      "USD_CONVERSION_FACTOR                    28987 non-null float64\n",
      "Unnamed: 0_y                             33704 non-null int64\n",
      "EUR_CONVERSION_RATE                      33704 non-null float64\n",
      "INVOICE_CONVERSION_FACTOR                33704 non-null float64\n",
      "CURRENCY_ADJUSTED_INVOICE_AMOUNT         33704 non-null float64\n",
      "EUR_TOTAL                                33704 non-null float64\n",
      "Product Description                      33704 non-null object\n",
      "Current % Tariff                         33704 non-null float64\n",
      "Description                              33704 non-null object\n",
      "Product Code                             33704 non-null int64\n",
      "dtypes: float64(15), int64(2), object(11)\n",
      "memory usage: 7.5+ MB\n"
     ]
    }
   ],
   "source": [
    "vi_mu_working_data.info()"
   ]
  },
  {
   "cell_type": "code",
   "execution_count": 27,
   "metadata": {
    "collapsed": false
   },
   "outputs": [],
   "source": [
    "vi_mu_working_data['Total Euros Collected (including current tariff)']=vi_mu_working_data['EUR_TOTAL']*vi_mu_working_data['Current % Tariff']\n",
    "vi_mu_working_data['Invoice Amount (including tariff)']=vi_mu_working_data['CURRENCY_ADJUSTED_INVOICE_AMOUNT']*vi_mu_working_data['Current % Tariff']"
   ]
  },
  {
   "cell_type": "code",
   "execution_count": 28,
   "metadata": {
    "collapsed": false
   },
   "outputs": [],
   "source": [
    "vi_mu_working_data_rev=vi_mu_working_data[['STATUSMONTH'\n",
    "                          ,'STATUSYEAR'\n",
    "                          ,'CLIENT_NAME'\n",
    "                          ,'CONTRACT_ID'\n",
    "                          ,'SERVICEPROVIDERGROUPNAME'\n",
    "                          ,'PRODUCT_CODE'\n",
    "                          ,'GEOGRAPHICAL_AREA_LOCAL_ACQUIRER_DESC'\n",
    "                          ,'ORDERID'\n",
    "                          ,'CREDITDEBITINDICATOR'\n",
    "                          ,'CURRENCYCODE'\n",
    "                          ,'INVOICE_CURRENCY'                         \n",
    "                          ,'REQUESTAUTHORIZEDAMOUNT'\n",
    "                          ,'PROCESS_INTEGRITY_FEE'                                         \n",
    "                          ,'INVOICE_CONVERSION_FACTOR'\n",
    "                          ,'CURRENCY_ADJUSTED_INVOICE_AMOUNT'\n",
    "                          ,'EUR_TOTAL'\n",
    "                          ,'EXCEPTION'                         \n",
    "                          ,'ICPLUS_TYPE']]"
   ]
  },
  {
   "cell_type": "code",
   "execution_count": 29,
   "metadata": {
    "collapsed": true
   },
   "outputs": [],
   "source": [
    "vi_mu_working_data_pivot=vi_mu_working_data_rev"
   ]
  },
  {
   "cell_type": "code",
   "execution_count": 30,
   "metadata": {
    "collapsed": false
   },
   "outputs": [
    {
     "name": "stderr",
     "output_type": "stream",
     "text": [
      "C:\\Users\\djohnson\\AppData\\Local\\Continuum\\Anaconda2\\lib\\site-packages\\ipykernel\\__main__.py:1: SettingWithCopyWarning: \n",
      "A value is trying to be set on a copy of a slice from a DataFrame\n",
      "\n",
      "See the caveats in the documentation: http://pandas.pydata.org/pandas-docs/stable/indexing.html#indexing-view-versus-copy\n",
      "  if __name__ == '__main__':\n",
      "C:\\Users\\djohnson\\AppData\\Local\\Continuum\\Anaconda2\\lib\\site-packages\\pandas\\core\\generic.py:4485: SettingWithCopyWarning: \n",
      "A value is trying to be set on a copy of a slice from a DataFrame\n",
      "\n",
      "See the caveats in the documentation: http://pandas.pydata.org/pandas-docs/stable/indexing.html#indexing-view-versus-copy\n",
      "  self._update_inplace(new_data)\n",
      "C:\\Users\\djohnson\\AppData\\Local\\Continuum\\Anaconda2\\lib\\site-packages\\IPython\\core\\interactiveshell.py:2881: SettingWithCopyWarning: \n",
      "A value is trying to be set on a copy of a slice from a DataFrame\n",
      "\n",
      "See the caveats in the documentation: http://pandas.pydata.org/pandas-docs/stable/indexing.html#indexing-view-versus-copy\n",
      "  exec(code_obj, self.user_global_ns, self.user_ns)\n",
      "C:\\Users\\djohnson\\AppData\\Local\\Continuum\\Anaconda2\\lib\\site-packages\\ipykernel\\__main__.py:2: SettingWithCopyWarning: \n",
      "A value is trying to be set on a copy of a slice from a DataFrame\n",
      "\n",
      "See the caveats in the documentation: http://pandas.pydata.org/pandas-docs/stable/indexing.html#indexing-view-versus-copy\n",
      "  from ipykernel import kernelapp as app\n"
     ]
    }
   ],
   "source": [
    "vi_mu_working_data_pivot['EUR_TOTAL'][(vi_mu_working_data_pivot['EXCEPTION']=='YES')]=vi_mu_working_data_pivot['EUR_TOTAL']*1\n",
    "vi_mu_working_data_pivot['EUR_TOTAL'][(vi_mu_working_data_pivot['EXCEPTION']!='YES')]=vi_mu_working_data_pivot['EUR_TOTAL']*1.10"
   ]
  },
  {
   "cell_type": "code",
   "execution_count": 31,
   "metadata": {
    "collapsed": false
   },
   "outputs": [
    {
     "name": "stdout",
     "output_type": "stream",
     "text": [
      "              EUR_TOTAL                                     \n",
      "ICPLUS_TYPE           -    Cost Plus IC+SF Plus          All\n",
      "STATUSMONTH                                                 \n",
      "4            658.914545  1778.228182     576.36  3013.502727\n",
      "All          658.914545  1778.228182     576.36  3013.502727\n"
     ]
    }
   ],
   "source": [
    "vi_mu_working_data_pivot=vi_mu_working_data_pivot[(vi_mu_working_data_pivot['STATUSMONTH']>=1)]\n",
    "print vi_mu_working_data_pivot.pivot_table(['EUR_TOTAL'],index=['STATUSMONTH'],columns='ICPLUS_TYPE',aggfunc='sum',margins='all')"
   ]
  },
  {
   "cell_type": "code",
   "execution_count": 32,
   "metadata": {
    "collapsed": false
   },
   "outputs": [
    {
     "name": "stdout",
     "output_type": "stream",
     "text": [
      "            ORDERID                              \n",
      "ICPLUS_TYPE       - Cost Plus IC+SF Plus      All\n",
      "STATUSMONTH                                      \n",
      "4            7484.0   19816.0     6404.0  33704.0\n",
      "All          7484.0   19816.0     6404.0  33704.0\n"
     ]
    }
   ],
   "source": [
    "vi_mu_working_data_pivot=vi_mu_working_data_pivot[(vi_mu_working_data_pivot['STATUSMONTH']>=1)]\n",
    "print vi_mu_working_data_pivot.pivot_table(['ORDERID'],index=['STATUSMONTH'],columns='ICPLUS_TYPE',aggfunc='count',margins='all')"
   ]
  },
  {
   "cell_type": "code",
   "execution_count": 33,
   "metadata": {
    "collapsed": false
   },
   "outputs": [
    {
     "name": "stderr",
     "output_type": "stream",
     "text": [
      "C:\\Users\\djohnson\\AppData\\Local\\Continuum\\Anaconda2\\lib\\site-packages\\ipykernel\\__main__.py:2: SettingWithCopyWarning: \n",
      "A value is trying to be set on a copy of a slice from a DataFrame.\n",
      "Try using .loc[row_indexer,col_indexer] = value instead\n",
      "\n",
      "See the caveats in the documentation: http://pandas.pydata.org/pandas-docs/stable/indexing.html#indexing-view-versus-copy\n",
      "  from ipykernel import kernelapp as app\n",
      "C:\\Users\\djohnson\\AppData\\Local\\Continuum\\Anaconda2\\lib\\site-packages\\ipykernel\\__main__.py:4: SettingWithCopyWarning: \n",
      "A value is trying to be set on a copy of a slice from a DataFrame.\n",
      "Try using .loc[row_indexer,col_indexer] = value instead\n",
      "\n",
      "See the caveats in the documentation: http://pandas.pydata.org/pandas-docs/stable/indexing.html#indexing-view-versus-copy\n",
      "C:\\Users\\djohnson\\AppData\\Local\\Continuum\\Anaconda2\\lib\\site-packages\\ipykernel\\__main__.py:5: SettingWithCopyWarning: \n",
      "A value is trying to be set on a copy of a slice from a DataFrame\n",
      "\n",
      "See the caveats in the documentation: http://pandas.pydata.org/pandas-docs/stable/indexing.html#indexing-view-versus-copy\n",
      "C:\\Users\\djohnson\\AppData\\Local\\Continuum\\Anaconda2\\lib\\site-packages\\ipykernel\\__main__.py:6: SettingWithCopyWarning: \n",
      "A value is trying to be set on a copy of a slice from a DataFrame\n",
      "\n",
      "See the caveats in the documentation: http://pandas.pydata.org/pandas-docs/stable/indexing.html#indexing-view-versus-copy\n",
      "C:\\Users\\djohnson\\AppData\\Local\\Continuum\\Anaconda2\\lib\\site-packages\\ipykernel\\__main__.py:8: SettingWithCopyWarning: \n",
      "A value is trying to be set on a copy of a slice from a DataFrame.\n",
      "Try using .loc[row_indexer,col_indexer] = value instead\n",
      "\n",
      "See the caveats in the documentation: http://pandas.pydata.org/pandas-docs/stable/indexing.html#indexing-view-versus-copy\n",
      "C:\\Users\\djohnson\\AppData\\Local\\Continuum\\Anaconda2\\lib\\site-packages\\ipykernel\\__main__.py:9: SettingWithCopyWarning: \n",
      "A value is trying to be set on a copy of a slice from a DataFrame\n",
      "\n",
      "See the caveats in the documentation: http://pandas.pydata.org/pandas-docs/stable/indexing.html#indexing-view-versus-copy\n",
      "C:\\Users\\djohnson\\AppData\\Local\\Continuum\\Anaconda2\\lib\\site-packages\\ipykernel\\__main__.py:10: SettingWithCopyWarning: \n",
      "A value is trying to be set on a copy of a slice from a DataFrame\n",
      "\n",
      "See the caveats in the documentation: http://pandas.pydata.org/pandas-docs/stable/indexing.html#indexing-view-versus-copy\n",
      "C:\\Users\\djohnson\\AppData\\Local\\Continuum\\Anaconda2\\lib\\site-packages\\ipykernel\\__main__.py:14: SettingWithCopyWarning: \n",
      "A value is trying to be set on a copy of a slice from a DataFrame.\n",
      "Try using .loc[row_indexer,col_indexer] = value instead\n",
      "\n",
      "See the caveats in the documentation: http://pandas.pydata.org/pandas-docs/stable/indexing.html#indexing-view-versus-copy\n",
      "C:\\Users\\djohnson\\AppData\\Local\\Continuum\\Anaconda2\\lib\\site-packages\\ipykernel\\__main__.py:15: SettingWithCopyWarning: \n",
      "A value is trying to be set on a copy of a slice from a DataFrame.\n",
      "Try using .loc[row_indexer,col_indexer] = value instead\n",
      "\n",
      "See the caveats in the documentation: http://pandas.pydata.org/pandas-docs/stable/indexing.html#indexing-view-versus-copy\n"
     ]
    }
   ],
   "source": [
    "vi_mu_working_data_rev_rf=vi_mu_working_data_rev\n",
    "vi_mu_working_data_rev_rf['Product Description']='Penalty Fees'\n",
    "\n",
    "vi_mu_working_data_rev_rf['Current % Tariff']=0\n",
    "vi_mu_working_data_rev_rf['Current % Tariff'][(vi_mu_working_data_rev_rf['EXCEPTION']=='YES')]=1\n",
    "vi_mu_working_data_rev_rf['Current % Tariff'][(vi_mu_working_data_rev_rf['EXCEPTION']!='YES')]=1.10\n",
    "\n",
    "vi_mu_working_data_rev_rf['Description']=''\n",
    "vi_mu_working_data_rev_rf['Description'][(vi_mu_working_data_rev_rf['EXCEPTION']=='YES')]='Fee 100.00% or as currently in IST ='\n",
    "vi_mu_working_data_rev_rf['Description'][(vi_mu_working_data_rev_rf['EXCEPTION']!='YES')]='Fee 110.00% or as currently in IST ='\n",
    "\n",
    "\n",
    "\n",
    "vi_mu_working_data_rev_rf['Product Code']=420129\n",
    "vi_mu_working_data_rev_rf['Total invoiced amount']=0\n",
    "\n",
    "vi_mu_working_data_rev_rf=vi_mu_working_data_rev_rf[(vi_mu_working_data_rev_rf['STATUSMONTH']==month)&(vi_mu_working_data_rev_rf['ICPLUS_TYPE']=='-')]\n",
    "vi_mu_working_data_rev_rf=vi_mu_working_data_rev_rf[['CONTRACT_ID'\n",
    "                             ,'Product Code'\n",
    "                             ,'Total invoiced amount'                            \n",
    "                             ,'Product Description'\n",
    "                             ,'INVOICE_CURRENCY'\n",
    "                             ,'ORDERID'\n",
    "                             ,'REQUESTAUTHORIZEDAMOUNT'\n",
    "                             ,'Current % Tariff'\n",
    "                             ,'CURRENCY_ADJUSTED_INVOICE_AMOUNT'\n",
    "                             ,'Description']]\n",
    "\n"
   ]
  },
  {
   "cell_type": "code",
   "execution_count": 34,
   "metadata": {
    "collapsed": false
   },
   "outputs": [],
   "source": [
    "vi_mu_working_data_rev_rf=vi_mu_working_data_rev_rf.groupby(['CONTRACT_ID','Product Code','Product Description','INVOICE_CURRENCY','Current % Tariff','Description','Total invoiced amount'])\\\n",
    ".agg({'ORDERID':'count','REQUESTAUTHORIZEDAMOUNT':'sum','CURRENCY_ADJUSTED_INVOICE_AMOUNT':'sum'}).reset_index()\n",
    "\n",
    "vi_mu_working_data_rev_rf['Current Tariff Amount']=vi_mu_working_data_rev_rf['CURRENCY_ADJUSTED_INVOICE_AMOUNT']/vi_mu_working_data_rev_rf['ORDERID']\n",
    "vi_mu_working_data_rev_rf['Total invoiced percentage']=vi_mu_working_data_rev_rf['CURRENCY_ADJUSTED_INVOICE_AMOUNT']*vi_mu_working_data_rev_rf['Current % Tariff']\n",
    "\n",
    "vi_mu_working_data_rev_rf.rename(columns={'CONTRACT_ID': 'Contract ID'\n",
    "                                            ,'Product Code': 'Product Code'\n",
    "                                            ,'INVOICE_CURRENCY': 'Invoice Currency'\n",
    "                                            ,'ORDERID':'Volume'\n",
    "                                            ,'CURRENCY_ADJUSTED_INVOICE_AMOUNT':'Flow'}, inplace=True)\n",
    "\n",
    "\n",
    "vi_mu_working_data_rev_rf=vi_mu_working_data_rev_rf[['Contract ID'\n",
    "                             ,'Product Code'\n",
    "                             ,'Product Description'\n",
    "                             ,'Invoice Currency'\n",
    "                             ,'Volume'\n",
    "                             ,'Flow'\n",
    "                             ,'Current % Tariff'\n",
    "                             ,'Current Tariff Amount'\n",
    "                             ,'Total invoiced amount'                            \n",
    "                             ,'Total invoiced percentage'\n",
    "                             ,'Description']]\n",
    "\n",
    "\n",
    "vi_mu_working_data_rev_rf['Volume']=0\n",
    "vi_mu_working_data_rev_rf['Current Tariff Amount']=0"
   ]
  },
  {
   "cell_type": "code",
   "execution_count": 35,
   "metadata": {
    "collapsed": false
   },
   "outputs": [
    {
     "name": "stderr",
     "output_type": "stream",
     "text": [
      "C:\\Users\\djohnson\\AppData\\Local\\Continuum\\Anaconda2\\lib\\site-packages\\pandas\\core\\frame.py:2754: SettingWithCopyWarning: \n",
      "A value is trying to be set on a copy of a slice from a DataFrame\n",
      "\n",
      "See the caveats in the documentation: http://pandas.pydata.org/pandas-docs/stable/indexing.html#indexing-view-versus-copy\n",
      "  **kwargs)\n",
      "C:\\Users\\djohnson\\AppData\\Local\\Continuum\\Anaconda2\\lib\\site-packages\\ipykernel\\__main__.py:12: SettingWithCopyWarning: \n",
      "A value is trying to be set on a copy of a slice from a DataFrame.\n",
      "Try using .loc[row_indexer,col_indexer] = value instead\n",
      "\n",
      "See the caveats in the documentation: http://pandas.pydata.org/pandas-docs/stable/indexing.html#indexing-view-versus-copy\n",
      "C:\\Users\\djohnson\\AppData\\Local\\Continuum\\Anaconda2\\lib\\site-packages\\ipykernel\\__main__.py:13: SettingWithCopyWarning: \n",
      "A value is trying to be set on a copy of a slice from a DataFrame\n",
      "\n",
      "See the caveats in the documentation: http://pandas.pydata.org/pandas-docs/stable/indexing.html#indexing-view-versus-copy\n"
     ]
    },
    {
     "name": "stdout",
     "output_type": "stream",
     "text": [
      "  Contract_ID  ProductCode   Value  InvoiceDate Approved\n",
      "0       764.0       420129   0.090       201804    FALSE\n",
      "1       766.0       420129   0.270       201804    FALSE\n",
      "2       991.0       420129   9.603       201804    FALSE\n",
      "3      1086.0       420129  48.906       201804    FALSE\n",
      "4      2415.0       420129   1.485       201804    FALSE\n"
     ]
    }
   ],
   "source": [
    "#display the invoice data\n",
    "vi_mu_working_data_rev_rf['Approved']='FALSE'\n",
    "vi_mu_working_data_rev_rf['InvoiceDate']=day\n",
    "vi_mu_working_data_rev_rf\n",
    "\n",
    "\n",
    "vi_mu_working_data_rev_rf_final=vi_mu_working_data_rev_rf[['Contract ID','Product Code','Total invoiced percentage','InvoiceDate','Approved']]\n",
    "vi_mu_working_data_rev_rf_final.rename(columns={'Contract ID': 'Contract_ID'\n",
    "                                            ,'Product Code':'ProductCode'\n",
    "                                            ,'Total invoiced percentage': 'Value'}, inplace=True)\n",
    "\n",
    "vi_mu_working_data_rev_rf_final['Contract_ID']=vi_mu_working_data_rev_rf_final['Contract_ID'].astype(str)\n",
    "vi_mu_working_data_rev_rf_final['Contract_ID'][(vi_mu_working_data_rev_rf_final['Contract_ID'].str.len()==3)]=\"0\"+vi_mu_working_data_rev_rf_final['Contract_ID']\n",
    "\n",
    "#vi_mu_working_data_rev_rf_final=vi_mu_working_data_rev_rf_final.set_index('Contract_ID')\n",
    "\n",
    "print vi_mu_working_data_rev_rf_final.head()\n",
    "\n",
    "# ## Export the Data for Use and Analysis\n",
    "\n",
    "#vi_mu_working_data_rev_rf.to_csv('G:\\\\Pricing\\\\Pricing Intelligence\\\\Misuse of Authorization\\\\mtm\\\\vi_misuse_month_add_rev_'+day_save+'.csv')\n",
    "#mc_mu_working_data_rev_rf_final.to_csv('d:\\\\djohnson\\\\Pricing Desktop\\\\misuse\\\\vi_integ_fee_ytd'+day_save+'.csv',sep=';')\n",
    "vi_mu_working_data_rev_rf_final.to_csv('d:\\\\djohnson\\\\Desktop\\\\misuse\\\\2018\\\\apr\\\\invoice_files\\\\vi_integ.csv',sep=';')\n",
    "vi_mu_working_data.to_csv('d:\\\\djohnson\\\\Desktop\\\\misuse\\\\2018\\\\apr\\\\audit_files\\\\vi_integ_fee_ytd.csv')"
   ]
  }
 ],
 "metadata": {
  "anaconda-cloud": {},
  "kernelspec": {
   "display_name": "Python [conda root]",
   "language": "python",
   "name": "conda-root-py"
  },
  "language_info": {
   "codemirror_mode": {
    "name": "ipython",
    "version": 2
   },
   "file_extension": ".py",
   "mimetype": "text/x-python",
   "name": "python",
   "nbconvert_exporter": "python",
   "pygments_lexer": "ipython2",
   "version": "2.7.12"
  }
 },
 "nbformat": 4,
 "nbformat_minor": 1
}
