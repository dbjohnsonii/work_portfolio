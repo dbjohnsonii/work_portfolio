{
 "cells": [
  {
   "cell_type": "code",
   "execution_count": 1,
   "metadata": {
    "collapsed": false
   },
   "outputs": [
    {
     "data": {
      "text/html": [
       "<style>.container { width:95% !important; }</style>"
      ],
      "text/plain": [
       "<IPython.core.display.HTML object>"
      ]
     },
     "metadata": {},
     "output_type": "display_data"
    },
    {
     "name": "stdout",
     "output_type": "stream",
     "text": [
      "2.7.12 |Anaconda 4.2.0 (64-bit)| (default, Jun 29 2016, 11:07:13) [MSC v.1500 64 bit (AMD64)]\n"
     ]
    }
   ],
   "source": [
    "from IPython.core.display import display, HTML\n",
    "display(HTML(\"<style>.container { width:95% !important; }</style>\"))\n",
    "import sys\n",
    "print (sys.version)"
   ]
  },
  {
   "cell_type": "code",
   "execution_count": 2,
   "metadata": {
    "collapsed": true
   },
   "outputs": [],
   "source": [
    "import pandas as pd\n",
    "import smtplib #simple mail transfer protocol\n",
    "import mimetypes #for guessing the mime type\n",
    "\n",
    "#import the email modules\n",
    "import email\n",
    "import email.mime.application"
   ]
  },
  {
   "cell_type": "code",
   "execution_count": 3,
   "metadata": {
    "collapsed": true
   },
   "outputs": [],
   "source": [
    "#import the clearing and issuing EEA Definitions for MC and VI\n",
    "issue=pd.read_csv('G:\\\\Pricing\\\\AIB\\\\visa_mastercard_eea_issuing_definitions.csv')\n",
    "clear=pd.read_csv('G:\\\\Pricing\\\\AIB\\\\visa_mastercard_eea_clearing_definitions.csv')"
   ]
  },
  {
   "cell_type": "code",
   "execution_count": 4,
   "metadata": {
    "collapsed": false
   },
   "outputs": [
    {
     "name": "stdout",
     "output_type": "stream",
     "text": [
      "<class 'pandas.core.frame.DataFrame'>\n",
      "RangeIndex: 97 entries, 0 to 96\n",
      "Data columns (total 3 columns):\n",
      "CARD_SCHEME                 97 non-null object\n",
      "ISSUER_COUNTRY              97 non-null object\n",
      "EUROPE_ISSUING_SUBREGION    97 non-null object\n",
      "dtypes: object(3)\n",
      "memory usage: 2.3+ KB\n"
     ]
    }
   ],
   "source": [
    "issue.info()"
   ]
  },
  {
   "cell_type": "code",
   "execution_count": 5,
   "metadata": {
    "collapsed": false
   },
   "outputs": [
    {
     "name": "stdout",
     "output_type": "stream",
     "text": [
      "<class 'pandas.core.frame.DataFrame'>\n",
      "RangeIndex: 97 entries, 0 to 96\n",
      "Data columns (total 3 columns):\n",
      "CARD_SCHEME                  97 non-null object\n",
      "MERCHANT_COUNTRY             97 non-null object\n",
      "EUROPE_CLEARING_SUBREGION    97 non-null object\n",
      "dtypes: object(3)\n",
      "memory usage: 2.3+ KB\n"
     ]
    }
   ],
   "source": [
    "clear.info()"
   ]
  },
  {
   "cell_type": "code",
   "execution_count": 6,
   "metadata": {
    "collapsed": true
   },
   "outputs": [],
   "source": [
    "columns=['CONTRACT_ID','ISSUER_COUNTRY','MERCHANT_COUNTRY','REGIONALITY','BIN_DESC','CARD_SCHEME','description','SECURITY_LEVEL','AIB_SF_RATE_AMOUNT','AIB_SF_RATE_PERC','ROUNDED_TRXN_AMOUNT','AIB_SF_BPS','CREDIT_DEBIT','CONSUMER_CORPORATE']"
   ]
  },
  {
   "cell_type": "code",
   "execution_count": 7,
   "metadata": {
    "collapsed": false
   },
   "outputs": [
    {
     "name": "stderr",
     "output_type": "stream",
     "text": [
      "C:\\Users\\djohnson\\AppData\\Local\\Continuum\\Anaconda2\\lib\\site-packages\\IPython\\core\\interactiveshell.py:2717: DtypeWarning: Columns (0) have mixed types. Specify dtype option on import or set low_memory=False.\n",
      "  interactivity=interactivity, compiler=compiler, result=result)\n"
     ]
    }
   ],
   "source": [
    "df=pd.read_csv('D:\\\\djohnson\\\\Desktop\\\\aib_comp_pull_aib_data_sf.txt',skiprows=47,error_bad_lines=False,sep=';',names=columns,low_memory=True)"
   ]
  },
  {
   "cell_type": "code",
   "execution_count": 8,
   "metadata": {
    "collapsed": false
   },
   "outputs": [
    {
     "data": {
      "text/html": [
       "<div>\n",
       "<table border=\"1\" class=\"dataframe\">\n",
       "  <thead>\n",
       "    <tr style=\"text-align: right;\">\n",
       "      <th></th>\n",
       "      <th>CONTRACT_ID</th>\n",
       "      <th>ISSUER_COUNTRY</th>\n",
       "      <th>MERCHANT_COUNTRY</th>\n",
       "      <th>REGIONALITY</th>\n",
       "      <th>BIN_DESC</th>\n",
       "      <th>CARD_SCHEME</th>\n",
       "      <th>description</th>\n",
       "      <th>SECURITY_LEVEL</th>\n",
       "      <th>AIB_SF_RATE_AMOUNT</th>\n",
       "      <th>AIB_SF_RATE_PERC</th>\n",
       "      <th>ROUNDED_TRXN_AMOUNT</th>\n",
       "      <th>AIB_SF_BPS</th>\n",
       "      <th>CREDIT_DEBIT</th>\n",
       "      <th>CONSUMER_CORPORATE</th>\n",
       "    </tr>\n",
       "  </thead>\n",
       "  <tbody>\n",
       "    <tr>\n",
       "      <th>0</th>\n",
       "      <td>1946</td>\n",
       "      <td>Spain                                         ...</td>\n",
       "      <td>Luxembourg                                    ...</td>\n",
       "      <td>Intra-region                                  ...</td>\n",
       "      <td>CLASSIC</td>\n",
       "      <td>Visa                                          ...</td>\n",
       "      <td>VISALE_D_CardNOTPresent_Intra_EEA             ...</td>\n",
       "      <td>NON-SECURE</td>\n",
       "      <td>.013672727</td>\n",
       "      <td>.0002</td>\n",
       "      <td>15.0</td>\n",
       "      <td>0.001429</td>\n",
       "      <td>Debit</td>\n",
       "      <td>Consumer</td>\n",
       "    </tr>\n",
       "    <tr>\n",
       "      <th>1</th>\n",
       "      <td>1946</td>\n",
       "      <td>Netherlands                                   ...</td>\n",
       "      <td>Luxembourg                                    ...</td>\n",
       "      <td>Intra-region                                  ...</td>\n",
       "      <td>CLASSIC</td>\n",
       "      <td>MasterCard                                    ...</td>\n",
       "      <td>MCSALE_C_NonSecured_Intra_EEA                 ...</td>\n",
       "      <td>NON-SECURE</td>\n",
       "      <td>.03</td>\n",
       "      <td>.00059</td>\n",
       "      <td>27.0</td>\n",
       "      <td>0.001876</td>\n",
       "      <td>Credit</td>\n",
       "      <td>Consumer</td>\n",
       "    </tr>\n",
       "    <tr>\n",
       "      <th>2</th>\n",
       "      <td>1946</td>\n",
       "      <td>Italy                                         ...</td>\n",
       "      <td>Luxembourg                                    ...</td>\n",
       "      <td>Intra-region                                  ...</td>\n",
       "      <td>CLASSIC</td>\n",
       "      <td>Visa                                          ...</td>\n",
       "      <td>VISALE_P_CardNOTPresent_Intra_EEA             ...</td>\n",
       "      <td>NON-SECURE</td>\n",
       "      <td>.01374</td>\n",
       "      <td>.0002</td>\n",
       "      <td>22.0</td>\n",
       "      <td>0.001010</td>\n",
       "      <td>Prepaid</td>\n",
       "      <td>Consumer</td>\n",
       "    </tr>\n",
       "    <tr>\n",
       "      <th>3</th>\n",
       "      <td>1946</td>\n",
       "      <td>Bulgaria                                      ...</td>\n",
       "      <td>Luxembourg                                    ...</td>\n",
       "      <td>Intra-region                                  ...</td>\n",
       "      <td>CLASSIC</td>\n",
       "      <td>Visa                                          ...</td>\n",
       "      <td>VISALE_D_CardNOTPresent_Intra_EEA             ...</td>\n",
       "      <td>NON-SECURE</td>\n",
       "      <td>.01374</td>\n",
       "      <td>.0002</td>\n",
       "      <td>7.0</td>\n",
       "      <td>0.002955</td>\n",
       "      <td>Debit</td>\n",
       "      <td>Consumer</td>\n",
       "    </tr>\n",
       "    <tr>\n",
       "      <th>4</th>\n",
       "      <td>1946</td>\n",
       "      <td>United Kingdom                                ...</td>\n",
       "      <td>Luxembourg                                    ...</td>\n",
       "      <td>Intra-region                                  ...</td>\n",
       "      <td>CLASSIC</td>\n",
       "      <td>Visa                                          ...</td>\n",
       "      <td>VISALE_D_CardNOTPresent_Intra_EEA             ...</td>\n",
       "      <td>NON-SECURE</td>\n",
       "      <td>.01</td>\n",
       "      <td>.0002</td>\n",
       "      <td>9.0</td>\n",
       "      <td>0.002326</td>\n",
       "      <td>Debit</td>\n",
       "      <td>Consumer</td>\n",
       "    </tr>\n",
       "  </tbody>\n",
       "</table>\n",
       "</div>"
      ],
      "text/plain": [
       "  CONTRACT_ID                                     ISSUER_COUNTRY  \\\n",
       "0        1946  Spain                                         ...   \n",
       "1        1946  Netherlands                                   ...   \n",
       "2        1946  Italy                                         ...   \n",
       "3        1946  Bulgaria                                      ...   \n",
       "4        1946  United Kingdom                                ...   \n",
       "\n",
       "                                    MERCHANT_COUNTRY  \\\n",
       "0  Luxembourg                                    ...   \n",
       "1  Luxembourg                                    ...   \n",
       "2  Luxembourg                                    ...   \n",
       "3  Luxembourg                                    ...   \n",
       "4  Luxembourg                                    ...   \n",
       "\n",
       "                                         REGIONALITY         BIN_DESC  \\\n",
       "0  Intra-region                                  ...  CLASSIC           \n",
       "1  Intra-region                                  ...  CLASSIC           \n",
       "2  Intra-region                                  ...  CLASSIC           \n",
       "3  Intra-region                                  ...  CLASSIC           \n",
       "4  Intra-region                                  ...  CLASSIC           \n",
       "\n",
       "                                         CARD_SCHEME  \\\n",
       "0  Visa                                          ...   \n",
       "1  MasterCard                                    ...   \n",
       "2  Visa                                          ...   \n",
       "3  Visa                                          ...   \n",
       "4  Visa                                          ...   \n",
       "\n",
       "                                         description SECURITY_LEVEL  \\\n",
       "0  VISALE_D_CardNOTPresent_Intra_EEA             ...     NON-SECURE   \n",
       "1  MCSALE_C_NonSecured_Intra_EEA                 ...     NON-SECURE   \n",
       "2  VISALE_P_CardNOTPresent_Intra_EEA             ...     NON-SECURE   \n",
       "3  VISALE_D_CardNOTPresent_Intra_EEA             ...     NON-SECURE   \n",
       "4  VISALE_D_CardNOTPresent_Intra_EEA             ...     NON-SECURE   \n",
       "\n",
       "  AIB_SF_RATE_AMOUNT AIB_SF_RATE_PERC  ROUNDED_TRXN_AMOUNT  AIB_SF_BPS  \\\n",
       "0         .013672727            .0002                 15.0    0.001429   \n",
       "1                .03           .00059                 27.0    0.001876   \n",
       "2             .01374            .0002                 22.0    0.001010   \n",
       "3             .01374            .0002                  7.0    0.002955   \n",
       "4                .01            .0002                  9.0    0.002326   \n",
       "\n",
       "  CREDIT_DEBIT CONSUMER_CORPORATE  \n",
       "0      Debit             Consumer  \n",
       "1      Credit            Consumer  \n",
       "2      Prepaid           Consumer  \n",
       "3      Debit             Consumer  \n",
       "4      Debit             Consumer  "
      ]
     },
     "execution_count": 8,
     "metadata": {},
     "output_type": "execute_result"
    }
   ],
   "source": [
    "df.head()"
   ]
  },
  {
   "cell_type": "code",
   "execution_count": 9,
   "metadata": {
    "collapsed": true
   },
   "outputs": [],
   "source": [
    "bb_columns=['TRANSACTION_REF','ADDITIONAL_REFERENCE_2','PAYMENTREFERENCE','BB_TRANSACTION_TYPE','MCC','CONTRACT_ID','IIN','BIN_DESC','ORDERID','PAYMENT_PROCESSOR','MONTH','DAY','YEAR','PERIOD'\n",
    "              ,'ISSUER_COUNTRY','MERCHANT_COUNTRY','TRANSACTION_TYPE','CARD_SCHEME','CREDIT_DEBIT','CONSUMER_CORPORATE','SECURITY_LEVEL','REGIONALITY'\n",
    "              ,'PRODUCT_CODE','SF_FIXED_FEE','SF_PERC_FEE','CON_COM_BIN','VOLUME','ROUNDED_TRXN_AMOUNT','SCHEME_TOTAL_FEE_EUR','FLOW','BB_IC_TOTAL','BB_IC_BPS','BB_SF_BPS']"
   ]
  },
  {
   "cell_type": "code",
   "execution_count": 10,
   "metadata": {
    "collapsed": false
   },
   "outputs": [],
   "source": [
    "bb=pd.read_csv('d:\\\\djohnson\\\\Desktop\\\\aib_comp_pull_bb_data.csv',error_bad_lines=False,sep=';',skiprows=95,names=bb_columns,index_col=False)"
   ]
  },
  {
   "cell_type": "code",
   "execution_count": 11,
   "metadata": {
    "collapsed": true
   },
   "outputs": [],
   "source": [
    "bb['BB_TRANSACTION_TYPE']=bb['BB_TRANSACTION_TYPE'].str.strip()\n",
    "bb['ISSUER_COUNTRY']=bb['ISSUER_COUNTRY'].str.strip()\n",
    "bb['MERCHANT_COUNTRY']=bb['MERCHANT_COUNTRY'].str.strip()\n",
    "bb['CARD_SCHEME']=bb['CARD_SCHEME'].str.strip()\n",
    "bb['CREDIT_DEBIT']=bb['CREDIT_DEBIT'].str.strip()\n",
    "bb['CONSUMER_CORPORATE']=bb['CONSUMER_CORPORATE'].str.strip()\n",
    "bb['REGIONALITY']=bb['REGIONALITY'].str.strip()\n",
    "bb['BIN_DESC']=bb['BIN_DESC'].str.strip()"
   ]
  },
  {
   "cell_type": "code",
   "execution_count": 12,
   "metadata": {
    "collapsed": true
   },
   "outputs": [],
   "source": [
    "bb=bb[(bb['CONTRACT_ID']==1946)|(bb['CONTRACT_ID']==2095)|(bb['CONTRACT_ID']==6886)|(bb['CONTRACT_ID']==6891)]"
   ]
  },
  {
   "cell_type": "code",
   "execution_count": 13,
   "metadata": {
    "collapsed": false
   },
   "outputs": [],
   "source": [
    "#create a new copy and safe old in memory for working purposes and to prevent repeated import from local drive\n",
    "bb1=bb.copy()\n",
    "bb1=bb1.dropna()\n",
    "bb1=bb1.drop(['CON_COM_BIN','BB_IC_BPS','BB_IC_TOTAL','MCC','IIN','PAYMENT_PROCESSOR','VOLUME','PRODUCT_CODE'],axis=1)"
   ]
  },
  {
   "cell_type": "code",
   "execution_count": 14,
   "metadata": {
    "collapsed": true
   },
   "outputs": [],
   "source": [
    "bb1['SECURITY_LEVEL']=bb1['SECURITY_LEVEL'].apply(lambda x:'NON-SECURE' if (7 == x) or (0 == x) or (6 == x) else 'SECURE')"
   ]
  },
  {
   "cell_type": "code",
   "execution_count": 15,
   "metadata": {
    "collapsed": true
   },
   "outputs": [],
   "source": [
    "bb1['CARD_SCHEME']=bb1['CARD_SCHEME'].apply(lambda x:'MasterCard' if ('Mastercard'==x) else 'Visa')"
   ]
  },
  {
   "cell_type": "code",
   "execution_count": 16,
   "metadata": {
    "collapsed": false
   },
   "outputs": [
    {
     "data": {
      "text/html": [
       "<div>\n",
       "<table border=\"1\" class=\"dataframe\">\n",
       "  <thead>\n",
       "    <tr style=\"text-align: right;\">\n",
       "      <th></th>\n",
       "      <th>TRANSACTION_REF</th>\n",
       "      <th>ADDITIONAL_REFERENCE_2</th>\n",
       "      <th>PAYMENTREFERENCE</th>\n",
       "      <th>BB_TRANSACTION_TYPE</th>\n",
       "      <th>CONTRACT_ID</th>\n",
       "      <th>BIN_DESC</th>\n",
       "      <th>ORDERID</th>\n",
       "      <th>MONTH</th>\n",
       "      <th>DAY</th>\n",
       "      <th>YEAR</th>\n",
       "      <th>...</th>\n",
       "      <th>CREDIT_DEBIT</th>\n",
       "      <th>CONSUMER_CORPORATE</th>\n",
       "      <th>SECURITY_LEVEL</th>\n",
       "      <th>REGIONALITY</th>\n",
       "      <th>SF_FIXED_FEE</th>\n",
       "      <th>SF_PERC_FEE</th>\n",
       "      <th>ROUNDED_TRXN_AMOUNT</th>\n",
       "      <th>SCHEME_TOTAL_FEE_EUR</th>\n",
       "      <th>FLOW</th>\n",
       "      <th>BB_SF_BPS</th>\n",
       "    </tr>\n",
       "  </thead>\n",
       "  <tbody>\n",
       "    <tr>\n",
       "      <th>18</th>\n",
       "      <td>225802414299</td>\n",
       "      <td>2.258024e+11</td>\n",
       "      <td>2.258024e+11</td>\n",
       "      <td>Sale</td>\n",
       "      <td>6891.0</td>\n",
       "      <td>CLASSIC</td>\n",
       "      <td>16621009.0</td>\n",
       "      <td>2.0</td>\n",
       "      <td>17.0</td>\n",
       "      <td>2018.0</td>\n",
       "      <td>...</td>\n",
       "      <td>Debit</td>\n",
       "      <td>Consumer</td>\n",
       "      <td>NON-SECURE</td>\n",
       "      <td>Intraregional</td>\n",
       "      <td>0.004896</td>\n",
       "      <td>0.000299</td>\n",
       "      <td>9.0</td>\n",
       "      <td>0.007482</td>\n",
       "      <td>8.65</td>\n",
       "      <td>0.000865</td>\n",
       "    </tr>\n",
       "    <tr>\n",
       "      <th>23</th>\n",
       "      <td>225958428498</td>\n",
       "      <td>2.259584e+11</td>\n",
       "      <td>2.259584e+11</td>\n",
       "      <td>Sale</td>\n",
       "      <td>6891.0</td>\n",
       "      <td>CLASSIC</td>\n",
       "      <td>16727950.0</td>\n",
       "      <td>3.0</td>\n",
       "      <td>13.0</td>\n",
       "      <td>2018.0</td>\n",
       "      <td>...</td>\n",
       "      <td>Debit</td>\n",
       "      <td>Consumer</td>\n",
       "      <td>NON-SECURE</td>\n",
       "      <td>Intraregional</td>\n",
       "      <td>0.004777</td>\n",
       "      <td>0.000299</td>\n",
       "      <td>9.0</td>\n",
       "      <td>0.007363</td>\n",
       "      <td>8.65</td>\n",
       "      <td>0.000851</td>\n",
       "    </tr>\n",
       "    <tr>\n",
       "      <th>24</th>\n",
       "      <td>225958428479</td>\n",
       "      <td>2.259584e+11</td>\n",
       "      <td>2.259584e+11</td>\n",
       "      <td>Sale</td>\n",
       "      <td>6891.0</td>\n",
       "      <td>CLASSIC</td>\n",
       "      <td>16727861.0</td>\n",
       "      <td>3.0</td>\n",
       "      <td>13.0</td>\n",
       "      <td>2018.0</td>\n",
       "      <td>...</td>\n",
       "      <td>Debit</td>\n",
       "      <td>Consumer</td>\n",
       "      <td>NON-SECURE</td>\n",
       "      <td>Intraregional</td>\n",
       "      <td>0.022242</td>\n",
       "      <td>0.001885</td>\n",
       "      <td>9.0</td>\n",
       "      <td>0.038548</td>\n",
       "      <td>8.65</td>\n",
       "      <td>0.004456</td>\n",
       "    </tr>\n",
       "    <tr>\n",
       "      <th>31</th>\n",
       "      <td>225934411851</td>\n",
       "      <td>2.259344e+11</td>\n",
       "      <td>2.259344e+11</td>\n",
       "      <td>Sale</td>\n",
       "      <td>6891.0</td>\n",
       "      <td>CLASSIC</td>\n",
       "      <td>16706067.0</td>\n",
       "      <td>3.0</td>\n",
       "      <td>9.0</td>\n",
       "      <td>2018.0</td>\n",
       "      <td>...</td>\n",
       "      <td>Credit</td>\n",
       "      <td>Consumer</td>\n",
       "      <td>NON-SECURE</td>\n",
       "      <td>Interregional</td>\n",
       "      <td>0.196247</td>\n",
       "      <td>0.005460</td>\n",
       "      <td>9.0</td>\n",
       "      <td>0.243477</td>\n",
       "      <td>8.65</td>\n",
       "      <td>0.028148</td>\n",
       "    </tr>\n",
       "    <tr>\n",
       "      <th>32</th>\n",
       "      <td>225958428399</td>\n",
       "      <td>2.259584e+11</td>\n",
       "      <td>2.259584e+11</td>\n",
       "      <td>Sale</td>\n",
       "      <td>6891.0</td>\n",
       "      <td>CLASSIC</td>\n",
       "      <td>16727242.0</td>\n",
       "      <td>3.0</td>\n",
       "      <td>13.0</td>\n",
       "      <td>2018.0</td>\n",
       "      <td>...</td>\n",
       "      <td>Debit</td>\n",
       "      <td>Consumer</td>\n",
       "      <td>NON-SECURE</td>\n",
       "      <td>Intraregional</td>\n",
       "      <td>0.022242</td>\n",
       "      <td>0.001460</td>\n",
       "      <td>9.0</td>\n",
       "      <td>0.035602</td>\n",
       "      <td>9.15</td>\n",
       "      <td>0.003891</td>\n",
       "    </tr>\n",
       "  </tbody>\n",
       "</table>\n",
       "<p>5 rows × 25 columns</p>\n",
       "</div>"
      ],
      "text/plain": [
       "   TRANSACTION_REF  ADDITIONAL_REFERENCE_2  PAYMENTREFERENCE  \\\n",
       "18    225802414299            2.258024e+11      2.258024e+11   \n",
       "23    225958428498            2.259584e+11      2.259584e+11   \n",
       "24    225958428479            2.259584e+11      2.259584e+11   \n",
       "31    225934411851            2.259344e+11      2.259344e+11   \n",
       "32    225958428399            2.259584e+11      2.259584e+11   \n",
       "\n",
       "   BB_TRANSACTION_TYPE  CONTRACT_ID BIN_DESC     ORDERID  MONTH   DAY    YEAR  \\\n",
       "18                Sale       6891.0  CLASSIC  16621009.0    2.0  17.0  2018.0   \n",
       "23                Sale       6891.0  CLASSIC  16727950.0    3.0  13.0  2018.0   \n",
       "24                Sale       6891.0  CLASSIC  16727861.0    3.0  13.0  2018.0   \n",
       "31                Sale       6891.0  CLASSIC  16706067.0    3.0   9.0  2018.0   \n",
       "32                Sale       6891.0  CLASSIC  16727242.0    3.0  13.0  2018.0   \n",
       "\n",
       "      ...     CREDIT_DEBIT CONSUMER_CORPORATE SECURITY_LEVEL    REGIONALITY  \\\n",
       "18    ...            Debit           Consumer     NON-SECURE  Intraregional   \n",
       "23    ...            Debit           Consumer     NON-SECURE  Intraregional   \n",
       "24    ...            Debit           Consumer     NON-SECURE  Intraregional   \n",
       "31    ...           Credit           Consumer     NON-SECURE  Interregional   \n",
       "32    ...            Debit           Consumer     NON-SECURE  Intraregional   \n",
       "\n",
       "   SF_FIXED_FEE SF_PERC_FEE ROUNDED_TRXN_AMOUNT SCHEME_TOTAL_FEE_EUR  FLOW  \\\n",
       "18     0.004896    0.000299                 9.0             0.007482  8.65   \n",
       "23     0.004777    0.000299                 9.0             0.007363  8.65   \n",
       "24     0.022242    0.001885                 9.0             0.038548  8.65   \n",
       "31     0.196247    0.005460                 9.0             0.243477  8.65   \n",
       "32     0.022242    0.001460                 9.0             0.035602  9.15   \n",
       "\n",
       "    BB_SF_BPS  \n",
       "18   0.000865  \n",
       "23   0.000851  \n",
       "24   0.004456  \n",
       "31   0.028148  \n",
       "32   0.003891  \n",
       "\n",
       "[5 rows x 25 columns]"
      ]
     },
     "execution_count": 16,
     "metadata": {},
     "output_type": "execute_result"
    }
   ],
   "source": [
    "bb1=bb1[(bb1['BB_TRANSACTION_TYPE']=='Sale')]\n",
    "bb1=bb1.rename({'ROUNDED_TRXN_AMOUNT':'FLOW'})\n",
    "bb1.head()"
   ]
  },
  {
   "cell_type": "code",
   "execution_count": 17,
   "metadata": {
    "collapsed": true
   },
   "outputs": [],
   "source": [
    "bb1=pd.merge(bb1,issue,on=['ISSUER_COUNTRY','CARD_SCHEME'],how='left')\n",
    "bb1=pd.merge(bb1,clear,on=['MERCHANT_COUNTRY','CARD_SCHEME'],how='left')"
   ]
  },
  {
   "cell_type": "code",
   "execution_count": 18,
   "metadata": {
    "collapsed": false
   },
   "outputs": [
    {
     "name": "stdout",
     "output_type": "stream",
     "text": [
      "<class 'pandas.core.frame.DataFrame'>\n",
      "Int64Index: 40597 entries, 0 to 40596\n",
      "Data columns (total 27 columns):\n",
      "TRANSACTION_REF              40597 non-null object\n",
      "ADDITIONAL_REFERENCE_2       40597 non-null float64\n",
      "PAYMENTREFERENCE             40597 non-null float64\n",
      "BB_TRANSACTION_TYPE          40597 non-null object\n",
      "CONTRACT_ID                  40597 non-null float64\n",
      "BIN_DESC                     40597 non-null object\n",
      "ORDERID                      40597 non-null float64\n",
      "MONTH                        40597 non-null float64\n",
      "DAY                          40597 non-null float64\n",
      "YEAR                         40597 non-null float64\n",
      "PERIOD                       40597 non-null object\n",
      "ISSUER_COUNTRY               40597 non-null object\n",
      "MERCHANT_COUNTRY             40597 non-null object\n",
      "TRANSACTION_TYPE             40597 non-null object\n",
      "CARD_SCHEME                  40597 non-null object\n",
      "CREDIT_DEBIT                 40597 non-null object\n",
      "CONSUMER_CORPORATE           40597 non-null object\n",
      "SECURITY_LEVEL               40597 non-null object\n",
      "REGIONALITY                  40597 non-null object\n",
      "SF_FIXED_FEE                 40597 non-null float64\n",
      "SF_PERC_FEE                  40597 non-null float64\n",
      "ROUNDED_TRXN_AMOUNT          40597 non-null float64\n",
      "SCHEME_TOTAL_FEE_EUR         40597 non-null float64\n",
      "FLOW                         40597 non-null float64\n",
      "BB_SF_BPS                    40597 non-null float64\n",
      "EUROPE_ISSUING_SUBREGION     26601 non-null object\n",
      "EUROPE_CLEARING_SUBREGION    40597 non-null object\n",
      "dtypes: float64(13), object(14)\n",
      "memory usage: 8.7+ MB\n"
     ]
    }
   ],
   "source": [
    "bb1.info()"
   ]
  },
  {
   "cell_type": "code",
   "execution_count": 19,
   "metadata": {
    "collapsed": false
   },
   "outputs": [
    {
     "name": "stderr",
     "output_type": "stream",
     "text": [
      "C:\\Users\\djohnson\\AppData\\Local\\Continuum\\Anaconda2\\lib\\site-packages\\ipykernel\\__main__.py:2: SettingWithCopyWarning: \n",
      "A value is trying to be set on a copy of a slice from a DataFrame\n",
      "\n",
      "See the caveats in the documentation: http://pandas.pydata.org/pandas-docs/stable/indexing.html#indexing-view-versus-copy\n",
      "  from ipykernel import kernelapp as app\n",
      "C:\\Users\\djohnson\\AppData\\Local\\Continuum\\Anaconda2\\lib\\site-packages\\ipykernel\\__main__.py:3: SettingWithCopyWarning: \n",
      "A value is trying to be set on a copy of a slice from a DataFrame\n",
      "\n",
      "See the caveats in the documentation: http://pandas.pydata.org/pandas-docs/stable/indexing.html#indexing-view-versus-copy\n",
      "  app.launch_new_instance()\n",
      "C:\\Users\\djohnson\\AppData\\Local\\Continuum\\Anaconda2\\lib\\site-packages\\ipykernel\\__main__.py:4: SettingWithCopyWarning: \n",
      "A value is trying to be set on a copy of a slice from a DataFrame\n",
      "\n",
      "See the caveats in the documentation: http://pandas.pydata.org/pandas-docs/stable/indexing.html#indexing-view-versus-copy\n"
     ]
    }
   ],
   "source": [
    "bb1['EEA_DESIGNATION']=''\n",
    "bb1['EEA_DESIGNATION'][(bb1['EUROPE_ISSUING_SUBREGION']=='EEA')&(bb1['EUROPE_CLEARING_SUBREGION']=='EEA')]='EEA'\n",
    "bb1['EEA_DESIGNATION'][(bb1['EUROPE_ISSUING_SUBREGION']!='EEA')|(bb1['EUROPE_CLEARING_SUBREGION']!='EEA')]='NON-EEA'\n",
    "bb1['EUROPE_ISSUING_SUBREGION'][(bb1['EUROPE_ISSUING_SUBREGION']=='')]='NON-EEA'"
   ]
  },
  {
   "cell_type": "code",
   "execution_count": 20,
   "metadata": {
    "collapsed": false
   },
   "outputs": [
    {
     "data": {
      "text/html": [
       "<div>\n",
       "<table border=\"1\" class=\"dataframe\">\n",
       "  <thead>\n",
       "    <tr style=\"text-align: right;\">\n",
       "      <th></th>\n",
       "      <th>TRANSACTION_REF</th>\n",
       "      <th>ADDITIONAL_REFERENCE_2</th>\n",
       "      <th>PAYMENTREFERENCE</th>\n",
       "      <th>BB_TRANSACTION_TYPE</th>\n",
       "      <th>CONTRACT_ID</th>\n",
       "      <th>BIN_DESC</th>\n",
       "      <th>ORDERID</th>\n",
       "      <th>MONTH</th>\n",
       "      <th>DAY</th>\n",
       "      <th>YEAR</th>\n",
       "      <th>...</th>\n",
       "      <th>REGIONALITY</th>\n",
       "      <th>SF_FIXED_FEE</th>\n",
       "      <th>SF_PERC_FEE</th>\n",
       "      <th>ROUNDED_TRXN_AMOUNT</th>\n",
       "      <th>SCHEME_TOTAL_FEE_EUR</th>\n",
       "      <th>FLOW</th>\n",
       "      <th>BB_SF_BPS</th>\n",
       "      <th>EUROPE_ISSUING_SUBREGION</th>\n",
       "      <th>EUROPE_CLEARING_SUBREGION</th>\n",
       "      <th>EEA_DESIGNATION</th>\n",
       "    </tr>\n",
       "  </thead>\n",
       "  <tbody>\n",
       "    <tr>\n",
       "      <th>0</th>\n",
       "      <td>225802414299</td>\n",
       "      <td>2.258024e+11</td>\n",
       "      <td>2.258024e+11</td>\n",
       "      <td>Sale</td>\n",
       "      <td>6891.0</td>\n",
       "      <td>CLASSIC</td>\n",
       "      <td>16621009.0</td>\n",
       "      <td>2.0</td>\n",
       "      <td>17.0</td>\n",
       "      <td>2018.0</td>\n",
       "      <td>...</td>\n",
       "      <td>Intraregional</td>\n",
       "      <td>0.004896</td>\n",
       "      <td>0.000299</td>\n",
       "      <td>9.0</td>\n",
       "      <td>0.007482</td>\n",
       "      <td>8.65</td>\n",
       "      <td>0.000865</td>\n",
       "      <td>EEA</td>\n",
       "      <td>EEA</td>\n",
       "      <td>EEA</td>\n",
       "    </tr>\n",
       "    <tr>\n",
       "      <th>1</th>\n",
       "      <td>225958428498</td>\n",
       "      <td>2.259584e+11</td>\n",
       "      <td>2.259584e+11</td>\n",
       "      <td>Sale</td>\n",
       "      <td>6891.0</td>\n",
       "      <td>CLASSIC</td>\n",
       "      <td>16727950.0</td>\n",
       "      <td>3.0</td>\n",
       "      <td>13.0</td>\n",
       "      <td>2018.0</td>\n",
       "      <td>...</td>\n",
       "      <td>Intraregional</td>\n",
       "      <td>0.004777</td>\n",
       "      <td>0.000299</td>\n",
       "      <td>9.0</td>\n",
       "      <td>0.007363</td>\n",
       "      <td>8.65</td>\n",
       "      <td>0.000851</td>\n",
       "      <td>EEA</td>\n",
       "      <td>EEA</td>\n",
       "      <td>EEA</td>\n",
       "    </tr>\n",
       "    <tr>\n",
       "      <th>2</th>\n",
       "      <td>225958428479</td>\n",
       "      <td>2.259584e+11</td>\n",
       "      <td>2.259584e+11</td>\n",
       "      <td>Sale</td>\n",
       "      <td>6891.0</td>\n",
       "      <td>CLASSIC</td>\n",
       "      <td>16727861.0</td>\n",
       "      <td>3.0</td>\n",
       "      <td>13.0</td>\n",
       "      <td>2018.0</td>\n",
       "      <td>...</td>\n",
       "      <td>Intraregional</td>\n",
       "      <td>0.022242</td>\n",
       "      <td>0.001885</td>\n",
       "      <td>9.0</td>\n",
       "      <td>0.038548</td>\n",
       "      <td>8.65</td>\n",
       "      <td>0.004456</td>\n",
       "      <td>EEA</td>\n",
       "      <td>EEA</td>\n",
       "      <td>EEA</td>\n",
       "    </tr>\n",
       "    <tr>\n",
       "      <th>3</th>\n",
       "      <td>225934411851</td>\n",
       "      <td>2.259344e+11</td>\n",
       "      <td>2.259344e+11</td>\n",
       "      <td>Sale</td>\n",
       "      <td>6891.0</td>\n",
       "      <td>CLASSIC</td>\n",
       "      <td>16706067.0</td>\n",
       "      <td>3.0</td>\n",
       "      <td>9.0</td>\n",
       "      <td>2018.0</td>\n",
       "      <td>...</td>\n",
       "      <td>Interregional</td>\n",
       "      <td>0.196247</td>\n",
       "      <td>0.005460</td>\n",
       "      <td>9.0</td>\n",
       "      <td>0.243477</td>\n",
       "      <td>8.65</td>\n",
       "      <td>0.028148</td>\n",
       "      <td>NaN</td>\n",
       "      <td>EEA</td>\n",
       "      <td>NON-EEA</td>\n",
       "    </tr>\n",
       "    <tr>\n",
       "      <th>4</th>\n",
       "      <td>225958428399</td>\n",
       "      <td>2.259584e+11</td>\n",
       "      <td>2.259584e+11</td>\n",
       "      <td>Sale</td>\n",
       "      <td>6891.0</td>\n",
       "      <td>CLASSIC</td>\n",
       "      <td>16727242.0</td>\n",
       "      <td>3.0</td>\n",
       "      <td>13.0</td>\n",
       "      <td>2018.0</td>\n",
       "      <td>...</td>\n",
       "      <td>Intraregional</td>\n",
       "      <td>0.022242</td>\n",
       "      <td>0.001460</td>\n",
       "      <td>9.0</td>\n",
       "      <td>0.035602</td>\n",
       "      <td>9.15</td>\n",
       "      <td>0.003891</td>\n",
       "      <td>EEA</td>\n",
       "      <td>EEA</td>\n",
       "      <td>EEA</td>\n",
       "    </tr>\n",
       "  </tbody>\n",
       "</table>\n",
       "<p>5 rows × 28 columns</p>\n",
       "</div>"
      ],
      "text/plain": [
       "  TRANSACTION_REF  ADDITIONAL_REFERENCE_2  PAYMENTREFERENCE  \\\n",
       "0    225802414299            2.258024e+11      2.258024e+11   \n",
       "1    225958428498            2.259584e+11      2.259584e+11   \n",
       "2    225958428479            2.259584e+11      2.259584e+11   \n",
       "3    225934411851            2.259344e+11      2.259344e+11   \n",
       "4    225958428399            2.259584e+11      2.259584e+11   \n",
       "\n",
       "  BB_TRANSACTION_TYPE  CONTRACT_ID BIN_DESC     ORDERID  MONTH   DAY    YEAR  \\\n",
       "0                Sale       6891.0  CLASSIC  16621009.0    2.0  17.0  2018.0   \n",
       "1                Sale       6891.0  CLASSIC  16727950.0    3.0  13.0  2018.0   \n",
       "2                Sale       6891.0  CLASSIC  16727861.0    3.0  13.0  2018.0   \n",
       "3                Sale       6891.0  CLASSIC  16706067.0    3.0   9.0  2018.0   \n",
       "4                Sale       6891.0  CLASSIC  16727242.0    3.0  13.0  2018.0   \n",
       "\n",
       "        ...           REGIONALITY SF_FIXED_FEE SF_PERC_FEE  \\\n",
       "0       ...         Intraregional     0.004896    0.000299   \n",
       "1       ...         Intraregional     0.004777    0.000299   \n",
       "2       ...         Intraregional     0.022242    0.001885   \n",
       "3       ...         Interregional     0.196247    0.005460   \n",
       "4       ...         Intraregional     0.022242    0.001460   \n",
       "\n",
       "  ROUNDED_TRXN_AMOUNT SCHEME_TOTAL_FEE_EUR  FLOW BB_SF_BPS  \\\n",
       "0                 9.0             0.007482  8.65  0.000865   \n",
       "1                 9.0             0.007363  8.65  0.000851   \n",
       "2                 9.0             0.038548  8.65  0.004456   \n",
       "3                 9.0             0.243477  8.65  0.028148   \n",
       "4                 9.0             0.035602  9.15  0.003891   \n",
       "\n",
       "  EUROPE_ISSUING_SUBREGION EUROPE_CLEARING_SUBREGION  EEA_DESIGNATION  \n",
       "0                      EEA                       EEA              EEA  \n",
       "1                      EEA                       EEA              EEA  \n",
       "2                      EEA                       EEA              EEA  \n",
       "3                      NaN                       EEA          NON-EEA  \n",
       "4                      EEA                       EEA              EEA  \n",
       "\n",
       "[5 rows x 28 columns]"
      ]
     },
     "execution_count": 20,
     "metadata": {},
     "output_type": "execute_result"
    }
   ],
   "source": [
    "bb1.head()"
   ]
  },
  {
   "cell_type": "code",
   "execution_count": 21,
   "metadata": {
    "collapsed": false
   },
   "outputs": [],
   "source": [
    "df.MERCHANT_COUNTRY=df.MERCHANT_COUNTRY.str.strip()\n",
    "df.REGIONALITY=df.REGIONALITY.str.strip()\n",
    "df.CARD_SCHEME=df.CARD_SCHEME.str.strip()\n",
    "df.ISSUER_COUNTRY=df.ISSUER_COUNTRY.str.strip()\n",
    "df.description=df.description.str.strip()\n",
    "df.BIN_DESC=df.BIN_DESC.str.strip()\n",
    "\n",
    "df.AIB_SF_RATE_AMOUNT=df.AIB_SF_RATE_AMOUNT.str.strip()\n",
    "df.AIB_SF_RATE_PERC=df.AIB_SF_RATE_PERC.str.strip()"
   ]
  },
  {
   "cell_type": "code",
   "execution_count": 22,
   "metadata": {
    "collapsed": true
   },
   "outputs": [],
   "source": [
    "df=pd.merge(df,issue,on=['ISSUER_COUNTRY','CARD_SCHEME'],how='left')\n",
    "df=pd.merge(df,clear,on=['MERCHANT_COUNTRY','CARD_SCHEME'],how='left')"
   ]
  },
  {
   "cell_type": "code",
   "execution_count": 23,
   "metadata": {
    "collapsed": false
   },
   "outputs": [
    {
     "name": "stderr",
     "output_type": "stream",
     "text": [
      "C:\\Users\\djohnson\\AppData\\Local\\Continuum\\Anaconda2\\lib\\site-packages\\ipykernel\\__main__.py:2: SettingWithCopyWarning: \n",
      "A value is trying to be set on a copy of a slice from a DataFrame\n",
      "\n",
      "See the caveats in the documentation: http://pandas.pydata.org/pandas-docs/stable/indexing.html#indexing-view-versus-copy\n",
      "  from ipykernel import kernelapp as app\n",
      "C:\\Users\\djohnson\\AppData\\Local\\Continuum\\Anaconda2\\lib\\site-packages\\ipykernel\\__main__.py:3: SettingWithCopyWarning: \n",
      "A value is trying to be set on a copy of a slice from a DataFrame\n",
      "\n",
      "See the caveats in the documentation: http://pandas.pydata.org/pandas-docs/stable/indexing.html#indexing-view-versus-copy\n",
      "  app.launch_new_instance()\n"
     ]
    }
   ],
   "source": [
    "df['EEA_DESIGNATION']=''\n",
    "df['EEA_DESIGNATION'][(df['EUROPE_ISSUING_SUBREGION']=='EEA')&(df['EUROPE_CLEARING_SUBREGION']=='EEA')]='EEA'\n",
    "df['EEA_DESIGNATION'][(df['EUROPE_ISSUING_SUBREGION']!='EEA')|(df['EUROPE_CLEARING_SUBREGION']!='EEA')]='NON-EEA'"
   ]
  },
  {
   "cell_type": "code",
   "execution_count": 24,
   "metadata": {
    "collapsed": false
   },
   "outputs": [
    {
     "name": "stdout",
     "output_type": "stream",
     "text": [
      "<class 'pandas.core.frame.DataFrame'>\n",
      "Int64Index: 3325809 entries, 0 to 3325808\n",
      "Data columns (total 17 columns):\n",
      "CONTRACT_ID                  object\n",
      "ISSUER_COUNTRY               object\n",
      "MERCHANT_COUNTRY             object\n",
      "REGIONALITY                  object\n",
      "BIN_DESC                     object\n",
      "CARD_SCHEME                  object\n",
      "description                  object\n",
      "SECURITY_LEVEL               object\n",
      "AIB_SF_RATE_AMOUNT           object\n",
      "AIB_SF_RATE_PERC             object\n",
      "ROUNDED_TRXN_AMOUNT          float64\n",
      "AIB_SF_BPS                   float64\n",
      "CREDIT_DEBIT                 object\n",
      "CONSUMER_CORPORATE           object\n",
      "EUROPE_ISSUING_SUBREGION     object\n",
      "EUROPE_CLEARING_SUBREGION    object\n",
      "EEA_DESIGNATION              object\n",
      "dtypes: float64(2), object(15)\n",
      "memory usage: 456.7+ MB\n"
     ]
    }
   ],
   "source": [
    "df.info()"
   ]
  },
  {
   "cell_type": "code",
   "execution_count": 25,
   "metadata": {
    "collapsed": false
   },
   "outputs": [
    {
     "name": "stderr",
     "output_type": "stream",
     "text": [
      "C:\\Users\\djohnson\\AppData\\Local\\Continuum\\Anaconda2\\lib\\site-packages\\ipykernel\\__main__.py:18: SettingWithCopyWarning: \n",
      "A value is trying to be set on a copy of a slice from a DataFrame\n",
      "\n",
      "See the caveats in the documentation: http://pandas.pydata.org/pandas-docs/stable/indexing.html#indexing-view-versus-copy\n",
      "C:\\Users\\djohnson\\AppData\\Local\\Continuum\\Anaconda2\\lib\\site-packages\\ipykernel\\__main__.py:19: SettingWithCopyWarning: \n",
      "A value is trying to be set on a copy of a slice from a DataFrame\n",
      "\n",
      "See the caveats in the documentation: http://pandas.pydata.org/pandas-docs/stable/indexing.html#indexing-view-versus-copy\n",
      "C:\\Users\\djohnson\\AppData\\Local\\Continuum\\Anaconda2\\lib\\site-packages\\ipykernel\\__main__.py:20: SettingWithCopyWarning: \n",
      "A value is trying to be set on a copy of a slice from a DataFrame\n",
      "\n",
      "See the caveats in the documentation: http://pandas.pydata.org/pandas-docs/stable/indexing.html#indexing-view-versus-copy\n"
     ]
    }
   ],
   "source": [
    "df['AIB_SF_BPS']=df['AIB_SF_BPS'].dropna()\n",
    "df['AIB_SF_RATE_AMOUNT']=df['AIB_SF_RATE_AMOUNT'].dropna()\n",
    "df['AIB_SF_RATE_PERC']=df['AIB_SF_RATE_PERC'].dropna()\n",
    "\n",
    "df=df[(df['AIB_SF_BPS']>0)]\n",
    "df=df[(df['AIB_SF_RATE_AMOUNT']!='')]\n",
    "df=df[(df['AIB_SF_RATE_PERC']!='')]\n",
    "\n",
    "df['AIB_SF_BPS']=df['AIB_SF_BPS'].astype(float)\n",
    "df['AIB_SF_RATE_AMOUNT']=df['AIB_SF_RATE_AMOUNT'].astype(float)\n",
    "df['AIB_SF_RATE_PERC']=df['AIB_SF_RATE_PERC'].astype(float)\n",
    "\n",
    "df=df[(df['CREDIT_DEBIT']!='')]\n",
    "df=df.drop('description',axis=1)\n",
    "\n",
    "#update the information to transform any prepaid to debit\n",
    "df['CREDIT_DEBIT']=df['CREDIT_DEBIT'].apply(lambda x:'Debit' if ('Prepaid'==x) or ('Debit'==x) else 'Credit')\n",
    "df['REGIONALITY'][(df['REGIONALITY']=='Inter-region')]='Interregional'\n",
    "df['REGIONALITY'][(df['REGIONALITY']=='Intra-region')]='Intraregional'\n",
    "df['REGIONALITY'][(df['REGIONALITY']=='Domestic')]='Domestic'\n",
    "\n",
    "#drop countries\n",
    "df=df.drop(['ISSUER_COUNTRY','MERCHANT_COUNTRY'],axis=1)"
   ]
  },
  {
   "cell_type": "code",
   "execution_count": 26,
   "metadata": {
    "collapsed": false
   },
   "outputs": [
    {
     "data": {
      "text/plain": [
       "array(['Intraregional', 'Interregional', 'Domestic'], dtype=object)"
      ]
     },
     "execution_count": 26,
     "metadata": {},
     "output_type": "execute_result"
    }
   ],
   "source": [
    "df.REGIONALITY.unique()"
   ]
  },
  {
   "cell_type": "code",
   "execution_count": 27,
   "metadata": {
    "collapsed": false
   },
   "outputs": [],
   "source": [
    "#df=df.groupby(['CONTRACT_ID','CARD_SCHEME','SECURITY_LEVEL','CREDIT_DEBIT','CONSUMER_CORPORATE','ROUNDED_TRXN_AMOUNT','BIN_DESC','REGIONALITY','EEA_DESIGNATION'],as_index=False)[['AIB_SF_BPS','sf_rate_amount','sf_rate_perc']].mean()\n",
    "df=df.groupby(['CARD_SCHEME','SECURITY_LEVEL','CREDIT_DEBIT','CONSUMER_CORPORATE','BIN_DESC','REGIONALITY','EEA_DESIGNATION'],as_index=False)[['AIB_SF_BPS','AIB_SF_RATE_AMOUNT','AIB_SF_RATE_PERC']].mean()"
   ]
  },
  {
   "cell_type": "code",
   "execution_count": 28,
   "metadata": {
    "collapsed": false
   },
   "outputs": [
    {
     "name": "stdout",
     "output_type": "stream",
     "text": [
      "<class 'pandas.core.frame.DataFrame'>\n",
      "Int64Index: 49 entries, 0 to 48\n",
      "Data columns (total 10 columns):\n",
      "CARD_SCHEME           49 non-null object\n",
      "SECURITY_LEVEL        49 non-null object\n",
      "CREDIT_DEBIT          49 non-null object\n",
      "CONSUMER_CORPORATE    49 non-null object\n",
      "BIN_DESC              49 non-null object\n",
      "REGIONALITY           49 non-null object\n",
      "EEA_DESIGNATION       49 non-null object\n",
      "AIB_SF_BPS            49 non-null float64\n",
      "AIB_SF_RATE_AMOUNT    49 non-null float64\n",
      "AIB_SF_RATE_PERC      49 non-null float64\n",
      "dtypes: float64(3), object(7)\n",
      "memory usage: 4.2+ KB\n"
     ]
    }
   ],
   "source": [
    "df.info()"
   ]
  },
  {
   "cell_type": "code",
   "execution_count": 29,
   "metadata": {
    "collapsed": false
   },
   "outputs": [
    {
     "data": {
      "text/html": [
       "<div>\n",
       "<table border=\"1\" class=\"dataframe\">\n",
       "  <thead>\n",
       "    <tr style=\"text-align: right;\">\n",
       "      <th></th>\n",
       "      <th>CARD_SCHEME</th>\n",
       "      <th>SECURITY_LEVEL</th>\n",
       "      <th>CREDIT_DEBIT</th>\n",
       "      <th>CONSUMER_CORPORATE</th>\n",
       "      <th>BIN_DESC</th>\n",
       "      <th>REGIONALITY</th>\n",
       "      <th>EEA_DESIGNATION</th>\n",
       "      <th>AIB_SF_BPS</th>\n",
       "      <th>AIB_SF_RATE_AMOUNT</th>\n",
       "      <th>AIB_SF_RATE_PERC</th>\n",
       "    </tr>\n",
       "  </thead>\n",
       "  <tbody>\n",
       "    <tr>\n",
       "      <th>0</th>\n",
       "      <td>Maestro</td>\n",
       "      <td>NON-SECURE</td>\n",
       "      <td>Credit</td>\n",
       "      <td>Consumer</td>\n",
       "      <td>CLASSIC</td>\n",
       "      <td>Intraregional</td>\n",
       "      <td>EEA</td>\n",
       "      <td>0.014345</td>\n",
       "      <td>0.03</td>\n",
       "      <td>0.00059</td>\n",
       "    </tr>\n",
       "    <tr>\n",
       "      <th>1</th>\n",
       "      <td>Maestro</td>\n",
       "      <td>NON-SECURE</td>\n",
       "      <td>Credit</td>\n",
       "      <td>Consumer</td>\n",
       "      <td>CLASSIC</td>\n",
       "      <td>Intraregional</td>\n",
       "      <td>NON-EEA</td>\n",
       "      <td>0.022996</td>\n",
       "      <td>0.03</td>\n",
       "      <td>0.00464</td>\n",
       "    </tr>\n",
       "    <tr>\n",
       "      <th>2</th>\n",
       "      <td>MasterCard</td>\n",
       "      <td>NON-SECURE</td>\n",
       "      <td>Credit</td>\n",
       "      <td>Commercial</td>\n",
       "      <td>CLASSIC</td>\n",
       "      <td>Domestic</td>\n",
       "      <td>EEA</td>\n",
       "      <td>0.005593</td>\n",
       "      <td>0.03</td>\n",
       "      <td>0.00099</td>\n",
       "    </tr>\n",
       "    <tr>\n",
       "      <th>3</th>\n",
       "      <td>MasterCard</td>\n",
       "      <td>NON-SECURE</td>\n",
       "      <td>Credit</td>\n",
       "      <td>Commercial</td>\n",
       "      <td>CLASSIC</td>\n",
       "      <td>Interregional</td>\n",
       "      <td>NON-EEA</td>\n",
       "      <td>0.020288</td>\n",
       "      <td>0.09</td>\n",
       "      <td>0.00585</td>\n",
       "    </tr>\n",
       "    <tr>\n",
       "      <th>4</th>\n",
       "      <td>MasterCard</td>\n",
       "      <td>NON-SECURE</td>\n",
       "      <td>Credit</td>\n",
       "      <td>Commercial</td>\n",
       "      <td>CLASSIC</td>\n",
       "      <td>Intraregional</td>\n",
       "      <td>EEA</td>\n",
       "      <td>0.008340</td>\n",
       "      <td>0.03</td>\n",
       "      <td>0.00099</td>\n",
       "    </tr>\n",
       "  </tbody>\n",
       "</table>\n",
       "</div>"
      ],
      "text/plain": [
       "  CARD_SCHEME SECURITY_LEVEL CREDIT_DEBIT CONSUMER_CORPORATE BIN_DESC  \\\n",
       "0     Maestro     NON-SECURE       Credit           Consumer  CLASSIC   \n",
       "1     Maestro     NON-SECURE       Credit           Consumer  CLASSIC   \n",
       "2  MasterCard     NON-SECURE       Credit         Commercial  CLASSIC   \n",
       "3  MasterCard     NON-SECURE       Credit         Commercial  CLASSIC   \n",
       "4  MasterCard     NON-SECURE       Credit         Commercial  CLASSIC   \n",
       "\n",
       "     REGIONALITY EEA_DESIGNATION  AIB_SF_BPS  AIB_SF_RATE_AMOUNT  \\\n",
       "0  Intraregional             EEA    0.014345                0.03   \n",
       "1  Intraregional         NON-EEA    0.022996                0.03   \n",
       "2       Domestic             EEA    0.005593                0.03   \n",
       "3  Interregional         NON-EEA    0.020288                0.09   \n",
       "4  Intraregional             EEA    0.008340                0.03   \n",
       "\n",
       "   AIB_SF_RATE_PERC  \n",
       "0           0.00059  \n",
       "1           0.00464  \n",
       "2           0.00099  \n",
       "3           0.00585  \n",
       "4           0.00099  "
      ]
     },
     "execution_count": 29,
     "metadata": {},
     "output_type": "execute_result"
    }
   ],
   "source": [
    "df.head()"
   ]
  },
  {
   "cell_type": "code",
   "execution_count": 30,
   "metadata": {
    "collapsed": true
   },
   "outputs": [],
   "source": [
    "##master_df=pd.merge(bb1,df,on=['CONTRACT_ID','ISSUER_COUNTRY','MERCHANT_COUNTRY','CARD_SCHEME','SECURITY_LEVEL','CREDIT_DEBIT','CONSUMER_CORPORATE','ROUNDED_TRXN_AMOUNT','BIN_DESC'],how='left')\n",
    "##master_df=pd.merge(bb1,df,on=['REGIONALITY','CONTRACT_ID','CARD_SCHEME','SECURITY_LEVEL','CREDIT_DEBIT','CONSUMER_CORPORATE','ROUNDED_TRXN_AMOUNT','BIN_DESC','EEA_DESIGNATION'],how='left')\n",
    "master_df=pd.merge(bb1,df,on=['REGIONALITY','CARD_SCHEME','SECURITY_LEVEL','CREDIT_DEBIT','CONSUMER_CORPORATE','BIN_DESC','EEA_DESIGNATION'],how='left')"
   ]
  },
  {
   "cell_type": "code",
   "execution_count": 31,
   "metadata": {
    "collapsed": false,
    "scrolled": false
   },
   "outputs": [
    {
     "name": "stdout",
     "output_type": "stream",
     "text": [
      "<class 'pandas.core.frame.DataFrame'>\n",
      "Int64Index: 40597 entries, 0 to 40596\n",
      "Data columns (total 31 columns):\n",
      "TRANSACTION_REF              40597 non-null object\n",
      "ADDITIONAL_REFERENCE_2       40597 non-null float64\n",
      "PAYMENTREFERENCE             40597 non-null float64\n",
      "BB_TRANSACTION_TYPE          40597 non-null object\n",
      "CONTRACT_ID                  40597 non-null float64\n",
      "BIN_DESC                     40597 non-null object\n",
      "ORDERID                      40597 non-null float64\n",
      "MONTH                        40597 non-null float64\n",
      "DAY                          40597 non-null float64\n",
      "YEAR                         40597 non-null float64\n",
      "PERIOD                       40597 non-null object\n",
      "ISSUER_COUNTRY               40597 non-null object\n",
      "MERCHANT_COUNTRY             40597 non-null object\n",
      "TRANSACTION_TYPE             40597 non-null object\n",
      "CARD_SCHEME                  40597 non-null object\n",
      "CREDIT_DEBIT                 40597 non-null object\n",
      "CONSUMER_CORPORATE           40597 non-null object\n",
      "SECURITY_LEVEL               40597 non-null object\n",
      "REGIONALITY                  40597 non-null object\n",
      "SF_FIXED_FEE                 40597 non-null float64\n",
      "SF_PERC_FEE                  40597 non-null float64\n",
      "ROUNDED_TRXN_AMOUNT          40597 non-null float64\n",
      "SCHEME_TOTAL_FEE_EUR         40597 non-null float64\n",
      "FLOW                         40597 non-null float64\n",
      "BB_SF_BPS                    40597 non-null float64\n",
      "EUROPE_ISSUING_SUBREGION     26601 non-null object\n",
      "EUROPE_CLEARING_SUBREGION    40597 non-null object\n",
      "EEA_DESIGNATION              40597 non-null object\n",
      "AIB_SF_BPS                   40592 non-null float64\n",
      "AIB_SF_RATE_AMOUNT           40592 non-null float64\n",
      "AIB_SF_RATE_PERC             40592 non-null float64\n",
      "dtypes: float64(16), object(15)\n",
      "memory usage: 9.9+ MB\n"
     ]
    }
   ],
   "source": [
    "master_df.info()"
   ]
  },
  {
   "cell_type": "code",
   "execution_count": 32,
   "metadata": {
    "collapsed": false
   },
   "outputs": [],
   "source": [
    "master_df['EUROPE_ISSUING_SUBREGION']=master_df['EUROPE_ISSUING_SUBREGION'].fillna('NON-EEA')"
   ]
  },
  {
   "cell_type": "code",
   "execution_count": 39,
   "metadata": {
    "collapsed": false
   },
   "outputs": [],
   "source": [
    "master_df['AIB_SF_COST']=(master_df['FLOW']*master_df['AIB_SF_RATE_PERC'])+master_df['AIB_SF_RATE_AMOUNT']"
   ]
  },
  {
   "cell_type": "code",
   "execution_count": 40,
   "metadata": {
    "collapsed": false
   },
   "outputs": [],
   "source": [
    "master_df=master_df[[\n",
    "       'TRANSACTION_REF',\n",
    "        'ADDITIONAL_REFERENCE_2',\n",
    "        'PAYMENTREFERENCE',\n",
    "        'BB_TRANSACTION_TYPE',\n",
    "        'CONTRACT_ID',\n",
    "        'BIN_DESC',\n",
    "        'ORDERID',\n",
    "        'MONTH',\n",
    "        'DAY',\n",
    "        'YEAR',\n",
    "        'PERIOD',\n",
    "        'ISSUER_COUNTRY',\n",
    "        'MERCHANT_COUNTRY',\n",
    "        'TRANSACTION_TYPE',\n",
    "        'CARD_SCHEME',\n",
    "        'CREDIT_DEBIT',\n",
    "        'CONSUMER_CORPORATE',\n",
    "        'SECURITY_LEVEL',\n",
    "        'REGIONALITY',\n",
    "        'EUROPE_ISSUING_SUBREGION',\n",
    "        'EUROPE_CLEARING_SUBREGION',\n",
    "        'EEA_DESIGNATION',\n",
    "        'FLOW',\n",
    "        'SF_FIXED_FEE',\n",
    "        'SF_PERC_FEE',\n",
    "        'AIB_SF_RATE_AMOUNT',\n",
    "        'AIB_SF_RATE_PERC',\n",
    "        'SCHEME_TOTAL_FEE_EUR',\n",
    "        'AIB_SF_COST',\n",
    "        'BB_SF_BPS']]"
   ]
  },
  {
   "cell_type": "code",
   "execution_count": 41,
   "metadata": {
    "collapsed": false
   },
   "outputs": [
    {
     "name": "stderr",
     "output_type": "stream",
     "text": [
      "C:\\Users\\djohnson\\AppData\\Local\\Continuum\\Anaconda2\\lib\\site-packages\\ipykernel\\__main__.py:1: SettingWithCopyWarning: \n",
      "A value is trying to be set on a copy of a slice from a DataFrame.\n",
      "Try using .loc[row_indexer,col_indexer] = value instead\n",
      "\n",
      "See the caveats in the documentation: http://pandas.pydata.org/pandas-docs/stable/indexing.html#indexing-view-versus-copy\n",
      "  if __name__ == '__main__':\n"
     ]
    }
   ],
   "source": [
    "master_df['AIB_SF_BPS']=master_df['AIB_SF_COST']/master_df['FLOW']"
   ]
  },
  {
   "cell_type": "code",
   "execution_count": 43,
   "metadata": {
    "collapsed": false
   },
   "outputs": [
    {
     "data": {
      "text/html": [
       "<div>\n",
       "<table border=\"1\" class=\"dataframe\">\n",
       "  <thead>\n",
       "    <tr style=\"text-align: right;\">\n",
       "      <th></th>\n",
       "      <th>TRANSACTION_REF</th>\n",
       "      <th>ADDITIONAL_REFERENCE_2</th>\n",
       "      <th>PAYMENTREFERENCE</th>\n",
       "      <th>BB_TRANSACTION_TYPE</th>\n",
       "      <th>CONTRACT_ID</th>\n",
       "      <th>BIN_DESC</th>\n",
       "      <th>ORDERID</th>\n",
       "      <th>MONTH</th>\n",
       "      <th>DAY</th>\n",
       "      <th>YEAR</th>\n",
       "      <th>...</th>\n",
       "      <th>EEA_DESIGNATION</th>\n",
       "      <th>FLOW</th>\n",
       "      <th>SF_FIXED_FEE</th>\n",
       "      <th>SF_PERC_FEE</th>\n",
       "      <th>AIB_SF_RATE_AMOUNT</th>\n",
       "      <th>AIB_SF_RATE_PERC</th>\n",
       "      <th>SCHEME_TOTAL_FEE_EUR</th>\n",
       "      <th>AIB_SF_COST</th>\n",
       "      <th>BB_SF_BPS</th>\n",
       "      <th>AIB_SF_BPS</th>\n",
       "    </tr>\n",
       "  </thead>\n",
       "  <tbody>\n",
       "    <tr>\n",
       "      <th>0</th>\n",
       "      <td>225802414299</td>\n",
       "      <td>2.258024e+11</td>\n",
       "      <td>2.258024e+11</td>\n",
       "      <td>Sale</td>\n",
       "      <td>6891.0</td>\n",
       "      <td>CLASSIC</td>\n",
       "      <td>16621009.0</td>\n",
       "      <td>2.0</td>\n",
       "      <td>17.0</td>\n",
       "      <td>2018.0</td>\n",
       "      <td>...</td>\n",
       "      <td>EEA</td>\n",
       "      <td>8.65</td>\n",
       "      <td>0.004896</td>\n",
       "      <td>0.000299</td>\n",
       "      <td>0.014707</td>\n",
       "      <td>0.00020</td>\n",
       "      <td>0.007482</td>\n",
       "      <td>0.016437</td>\n",
       "      <td>0.000865</td>\n",
       "      <td>0.001900</td>\n",
       "    </tr>\n",
       "    <tr>\n",
       "      <th>1</th>\n",
       "      <td>225958428498</td>\n",
       "      <td>2.259584e+11</td>\n",
       "      <td>2.259584e+11</td>\n",
       "      <td>Sale</td>\n",
       "      <td>6891.0</td>\n",
       "      <td>CLASSIC</td>\n",
       "      <td>16727950.0</td>\n",
       "      <td>3.0</td>\n",
       "      <td>13.0</td>\n",
       "      <td>2018.0</td>\n",
       "      <td>...</td>\n",
       "      <td>EEA</td>\n",
       "      <td>8.65</td>\n",
       "      <td>0.004777</td>\n",
       "      <td>0.000299</td>\n",
       "      <td>0.014707</td>\n",
       "      <td>0.00020</td>\n",
       "      <td>0.007363</td>\n",
       "      <td>0.016437</td>\n",
       "      <td>0.000851</td>\n",
       "      <td>0.001900</td>\n",
       "    </tr>\n",
       "    <tr>\n",
       "      <th>2</th>\n",
       "      <td>225958428479</td>\n",
       "      <td>2.259584e+11</td>\n",
       "      <td>2.259584e+11</td>\n",
       "      <td>Sale</td>\n",
       "      <td>6891.0</td>\n",
       "      <td>CLASSIC</td>\n",
       "      <td>16727861.0</td>\n",
       "      <td>3.0</td>\n",
       "      <td>13.0</td>\n",
       "      <td>2018.0</td>\n",
       "      <td>...</td>\n",
       "      <td>EEA</td>\n",
       "      <td>8.65</td>\n",
       "      <td>0.022242</td>\n",
       "      <td>0.001885</td>\n",
       "      <td>0.030000</td>\n",
       "      <td>0.00059</td>\n",
       "      <td>0.038548</td>\n",
       "      <td>0.035103</td>\n",
       "      <td>0.004456</td>\n",
       "      <td>0.004058</td>\n",
       "    </tr>\n",
       "    <tr>\n",
       "      <th>3</th>\n",
       "      <td>225934411851</td>\n",
       "      <td>2.259344e+11</td>\n",
       "      <td>2.259344e+11</td>\n",
       "      <td>Sale</td>\n",
       "      <td>6891.0</td>\n",
       "      <td>CLASSIC</td>\n",
       "      <td>16706067.0</td>\n",
       "      <td>3.0</td>\n",
       "      <td>9.0</td>\n",
       "      <td>2018.0</td>\n",
       "      <td>...</td>\n",
       "      <td>NON-EEA</td>\n",
       "      <td>8.65</td>\n",
       "      <td>0.196247</td>\n",
       "      <td>0.005460</td>\n",
       "      <td>0.090000</td>\n",
       "      <td>0.00545</td>\n",
       "      <td>0.243477</td>\n",
       "      <td>0.137143</td>\n",
       "      <td>0.028148</td>\n",
       "      <td>0.015855</td>\n",
       "    </tr>\n",
       "    <tr>\n",
       "      <th>4</th>\n",
       "      <td>225958428399</td>\n",
       "      <td>2.259584e+11</td>\n",
       "      <td>2.259584e+11</td>\n",
       "      <td>Sale</td>\n",
       "      <td>6891.0</td>\n",
       "      <td>CLASSIC</td>\n",
       "      <td>16727242.0</td>\n",
       "      <td>3.0</td>\n",
       "      <td>13.0</td>\n",
       "      <td>2018.0</td>\n",
       "      <td>...</td>\n",
       "      <td>EEA</td>\n",
       "      <td>9.15</td>\n",
       "      <td>0.022242</td>\n",
       "      <td>0.001460</td>\n",
       "      <td>0.030000</td>\n",
       "      <td>0.00059</td>\n",
       "      <td>0.035602</td>\n",
       "      <td>0.035398</td>\n",
       "      <td>0.003891</td>\n",
       "      <td>0.003869</td>\n",
       "    </tr>\n",
       "  </tbody>\n",
       "</table>\n",
       "<p>5 rows × 31 columns</p>\n",
       "</div>"
      ],
      "text/plain": [
       "  TRANSACTION_REF  ADDITIONAL_REFERENCE_2  PAYMENTREFERENCE  \\\n",
       "0    225802414299            2.258024e+11      2.258024e+11   \n",
       "1    225958428498            2.259584e+11      2.259584e+11   \n",
       "2    225958428479            2.259584e+11      2.259584e+11   \n",
       "3    225934411851            2.259344e+11      2.259344e+11   \n",
       "4    225958428399            2.259584e+11      2.259584e+11   \n",
       "\n",
       "  BB_TRANSACTION_TYPE  CONTRACT_ID BIN_DESC     ORDERID  MONTH   DAY    YEAR  \\\n",
       "0                Sale       6891.0  CLASSIC  16621009.0    2.0  17.0  2018.0   \n",
       "1                Sale       6891.0  CLASSIC  16727950.0    3.0  13.0  2018.0   \n",
       "2                Sale       6891.0  CLASSIC  16727861.0    3.0  13.0  2018.0   \n",
       "3                Sale       6891.0  CLASSIC  16706067.0    3.0   9.0  2018.0   \n",
       "4                Sale       6891.0  CLASSIC  16727242.0    3.0  13.0  2018.0   \n",
       "\n",
       "     ...     EEA_DESIGNATION  FLOW SF_FIXED_FEE SF_PERC_FEE  \\\n",
       "0    ...                 EEA  8.65     0.004896    0.000299   \n",
       "1    ...                 EEA  8.65     0.004777    0.000299   \n",
       "2    ...                 EEA  8.65     0.022242    0.001885   \n",
       "3    ...             NON-EEA  8.65     0.196247    0.005460   \n",
       "4    ...                 EEA  9.15     0.022242    0.001460   \n",
       "\n",
       "  AIB_SF_RATE_AMOUNT AIB_SF_RATE_PERC SCHEME_TOTAL_FEE_EUR AIB_SF_COST  \\\n",
       "0           0.014707          0.00020             0.007482    0.016437   \n",
       "1           0.014707          0.00020             0.007363    0.016437   \n",
       "2           0.030000          0.00059             0.038548    0.035103   \n",
       "3           0.090000          0.00545             0.243477    0.137143   \n",
       "4           0.030000          0.00059             0.035602    0.035398   \n",
       "\n",
       "  BB_SF_BPS AIB_SF_BPS  \n",
       "0  0.000865   0.001900  \n",
       "1  0.000851   0.001900  \n",
       "2  0.004456   0.004058  \n",
       "3  0.028148   0.015855  \n",
       "4  0.003891   0.003869  \n",
       "\n",
       "[5 rows x 31 columns]"
      ]
     },
     "execution_count": 43,
     "metadata": {},
     "output_type": "execute_result"
    }
   ],
   "source": [
    "master_df.head()"
   ]
  },
  {
   "cell_type": "code",
   "execution_count": 45,
   "metadata": {
    "collapsed": false
   },
   "outputs": [],
   "source": [
    "master_df['SF_DIFF_%']=(master_df['BB_SF_BPS']-master_df['AIB_SF_BPS'])/master_df['AIB_SF_BPS']"
   ]
  },
  {
   "cell_type": "code",
   "execution_count": 46,
   "metadata": {
    "collapsed": true
   },
   "outputs": [],
   "source": [
    "master_df['SF_SIGNAL']=''\n",
    "master_df['SF_SIGNAL']=master_df['SF_DIFF_%'].apply(lambda x:'Signal' if (x>=.05) else '')"
   ]
  },
  {
   "cell_type": "code",
   "execution_count": 48,
   "metadata": {
    "collapsed": false
   },
   "outputs": [
    {
     "data": {
      "text/html": [
       "<div>\n",
       "<table border=\"1\" class=\"dataframe\">\n",
       "  <thead>\n",
       "    <tr style=\"text-align: right;\">\n",
       "      <th></th>\n",
       "      <th>TRANSACTION_REF</th>\n",
       "      <th>ADDITIONAL_REFERENCE_2</th>\n",
       "      <th>PAYMENTREFERENCE</th>\n",
       "      <th>BB_TRANSACTION_TYPE</th>\n",
       "      <th>CONTRACT_ID</th>\n",
       "      <th>BIN_DESC</th>\n",
       "      <th>ORDERID</th>\n",
       "      <th>MONTH</th>\n",
       "      <th>DAY</th>\n",
       "      <th>YEAR</th>\n",
       "      <th>...</th>\n",
       "      <th>SF_FIXED_FEE</th>\n",
       "      <th>SF_PERC_FEE</th>\n",
       "      <th>AIB_SF_RATE_AMOUNT</th>\n",
       "      <th>AIB_SF_RATE_PERC</th>\n",
       "      <th>SCHEME_TOTAL_FEE_EUR</th>\n",
       "      <th>AIB_SF_COST</th>\n",
       "      <th>BB_SF_BPS</th>\n",
       "      <th>AIB_SF_BPS</th>\n",
       "      <th>SF_DIFF_%</th>\n",
       "      <th>SF_SIGNAL</th>\n",
       "    </tr>\n",
       "  </thead>\n",
       "  <tbody>\n",
       "    <tr>\n",
       "      <th>0</th>\n",
       "      <td>225802414299</td>\n",
       "      <td>2.258024e+11</td>\n",
       "      <td>2.258024e+11</td>\n",
       "      <td>Sale</td>\n",
       "      <td>6891.0</td>\n",
       "      <td>CLASSIC</td>\n",
       "      <td>16621009.0</td>\n",
       "      <td>2.0</td>\n",
       "      <td>17.0</td>\n",
       "      <td>2018.0</td>\n",
       "      <td>...</td>\n",
       "      <td>0.004896</td>\n",
       "      <td>0.000299</td>\n",
       "      <td>0.014707</td>\n",
       "      <td>0.00020</td>\n",
       "      <td>0.007482</td>\n",
       "      <td>0.016437</td>\n",
       "      <td>0.000865</td>\n",
       "      <td>0.001900</td>\n",
       "      <td>-0.544806</td>\n",
       "      <td></td>\n",
       "    </tr>\n",
       "    <tr>\n",
       "      <th>1</th>\n",
       "      <td>225958428498</td>\n",
       "      <td>2.259584e+11</td>\n",
       "      <td>2.259584e+11</td>\n",
       "      <td>Sale</td>\n",
       "      <td>6891.0</td>\n",
       "      <td>CLASSIC</td>\n",
       "      <td>16727950.0</td>\n",
       "      <td>3.0</td>\n",
       "      <td>13.0</td>\n",
       "      <td>2018.0</td>\n",
       "      <td>...</td>\n",
       "      <td>0.004777</td>\n",
       "      <td>0.000299</td>\n",
       "      <td>0.014707</td>\n",
       "      <td>0.00020</td>\n",
       "      <td>0.007363</td>\n",
       "      <td>0.016437</td>\n",
       "      <td>0.000851</td>\n",
       "      <td>0.001900</td>\n",
       "      <td>-0.552046</td>\n",
       "      <td></td>\n",
       "    </tr>\n",
       "    <tr>\n",
       "      <th>2</th>\n",
       "      <td>225958428479</td>\n",
       "      <td>2.259584e+11</td>\n",
       "      <td>2.259584e+11</td>\n",
       "      <td>Sale</td>\n",
       "      <td>6891.0</td>\n",
       "      <td>CLASSIC</td>\n",
       "      <td>16727861.0</td>\n",
       "      <td>3.0</td>\n",
       "      <td>13.0</td>\n",
       "      <td>2018.0</td>\n",
       "      <td>...</td>\n",
       "      <td>0.022242</td>\n",
       "      <td>0.001885</td>\n",
       "      <td>0.030000</td>\n",
       "      <td>0.00059</td>\n",
       "      <td>0.038548</td>\n",
       "      <td>0.035103</td>\n",
       "      <td>0.004456</td>\n",
       "      <td>0.004058</td>\n",
       "      <td>0.098124</td>\n",
       "      <td>Signal</td>\n",
       "    </tr>\n",
       "    <tr>\n",
       "      <th>3</th>\n",
       "      <td>225934411851</td>\n",
       "      <td>2.259344e+11</td>\n",
       "      <td>2.259344e+11</td>\n",
       "      <td>Sale</td>\n",
       "      <td>6891.0</td>\n",
       "      <td>CLASSIC</td>\n",
       "      <td>16706067.0</td>\n",
       "      <td>3.0</td>\n",
       "      <td>9.0</td>\n",
       "      <td>2018.0</td>\n",
       "      <td>...</td>\n",
       "      <td>0.196247</td>\n",
       "      <td>0.005460</td>\n",
       "      <td>0.090000</td>\n",
       "      <td>0.00545</td>\n",
       "      <td>0.243477</td>\n",
       "      <td>0.137143</td>\n",
       "      <td>0.028148</td>\n",
       "      <td>0.015855</td>\n",
       "      <td>0.775358</td>\n",
       "      <td>Signal</td>\n",
       "    </tr>\n",
       "    <tr>\n",
       "      <th>4</th>\n",
       "      <td>225958428399</td>\n",
       "      <td>2.259584e+11</td>\n",
       "      <td>2.259584e+11</td>\n",
       "      <td>Sale</td>\n",
       "      <td>6891.0</td>\n",
       "      <td>CLASSIC</td>\n",
       "      <td>16727242.0</td>\n",
       "      <td>3.0</td>\n",
       "      <td>13.0</td>\n",
       "      <td>2018.0</td>\n",
       "      <td>...</td>\n",
       "      <td>0.022242</td>\n",
       "      <td>0.001460</td>\n",
       "      <td>0.030000</td>\n",
       "      <td>0.00059</td>\n",
       "      <td>0.035602</td>\n",
       "      <td>0.035398</td>\n",
       "      <td>0.003891</td>\n",
       "      <td>0.003869</td>\n",
       "      <td>0.005749</td>\n",
       "      <td></td>\n",
       "    </tr>\n",
       "  </tbody>\n",
       "</table>\n",
       "<p>5 rows × 33 columns</p>\n",
       "</div>"
      ],
      "text/plain": [
       "  TRANSACTION_REF  ADDITIONAL_REFERENCE_2  PAYMENTREFERENCE  \\\n",
       "0    225802414299            2.258024e+11      2.258024e+11   \n",
       "1    225958428498            2.259584e+11      2.259584e+11   \n",
       "2    225958428479            2.259584e+11      2.259584e+11   \n",
       "3    225934411851            2.259344e+11      2.259344e+11   \n",
       "4    225958428399            2.259584e+11      2.259584e+11   \n",
       "\n",
       "  BB_TRANSACTION_TYPE  CONTRACT_ID BIN_DESC     ORDERID  MONTH   DAY    YEAR  \\\n",
       "0                Sale       6891.0  CLASSIC  16621009.0    2.0  17.0  2018.0   \n",
       "1                Sale       6891.0  CLASSIC  16727950.0    3.0  13.0  2018.0   \n",
       "2                Sale       6891.0  CLASSIC  16727861.0    3.0  13.0  2018.0   \n",
       "3                Sale       6891.0  CLASSIC  16706067.0    3.0   9.0  2018.0   \n",
       "4                Sale       6891.0  CLASSIC  16727242.0    3.0  13.0  2018.0   \n",
       "\n",
       "     ...    SF_FIXED_FEE SF_PERC_FEE AIB_SF_RATE_AMOUNT AIB_SF_RATE_PERC  \\\n",
       "0    ...        0.004896    0.000299           0.014707          0.00020   \n",
       "1    ...        0.004777    0.000299           0.014707          0.00020   \n",
       "2    ...        0.022242    0.001885           0.030000          0.00059   \n",
       "3    ...        0.196247    0.005460           0.090000          0.00545   \n",
       "4    ...        0.022242    0.001460           0.030000          0.00059   \n",
       "\n",
       "  SCHEME_TOTAL_FEE_EUR AIB_SF_COST BB_SF_BPS AIB_SF_BPS SF_DIFF_% SF_SIGNAL  \n",
       "0             0.007482    0.016437  0.000865   0.001900 -0.544806            \n",
       "1             0.007363    0.016437  0.000851   0.001900 -0.552046            \n",
       "2             0.038548    0.035103  0.004456   0.004058  0.098124    Signal  \n",
       "3             0.243477    0.137143  0.028148   0.015855  0.775358    Signal  \n",
       "4             0.035602    0.035398  0.003891   0.003869  0.005749            \n",
       "\n",
       "[5 rows x 33 columns]"
      ]
     },
     "execution_count": 48,
     "metadata": {},
     "output_type": "execute_result"
    }
   ],
   "source": [
    "master_df.head()"
   ]
  },
  {
   "cell_type": "code",
   "execution_count": 58,
   "metadata": {
    "collapsed": false
   },
   "outputs": [
    {
     "name": "stdout",
     "output_type": "stream",
     "text": [
      "total transactions\n",
      "40597.0\n",
      "total signals\n",
      "10949.0\n",
      "percentage\n",
      "0.269699731507\n"
     ]
    }
   ],
   "source": [
    "print 'total transactions'\n",
    "print float(master_df['TRANSACTION_REF'].count())\n",
    "print 'total signals'\n",
    "print float(master_df['TRANSACTION_REF'][(master_df['SF_SIGNAL']=='Signal')].count())\n",
    "print 'percentage'\n",
    "print float(master_df['TRANSACTION_REF'][(master_df['SF_SIGNAL']=='Signal')].count())/float(master_df['TRANSACTION_REF'].count())\n"
   ]
  },
  {
   "cell_type": "code",
   "execution_count": 60,
   "metadata": {
    "collapsed": true
   },
   "outputs": [],
   "source": [
    "master_df.to_csv('d:\\\\djohnson\\\\Desktop\\\\bambora.csv')"
   ]
  },
  {
   "cell_type": "code",
   "execution_count": 61,
   "metadata": {
    "collapsed": true
   },
   "outputs": [],
   "source": [
    "#create a text/plain message\n",
    "msg=email.mime.Multipart.MIMEMultipart()\n",
    "msg['Subject'] ='AIB to Bambora Scheme Fee Comparison Test'\n",
    "msg['From']='dale.johnson@epay.ingenico.com'\n",
    "msg['To']='ariel.Setton@epay.ingenico.com';'dale.johnson@epay.ingenico.com'\n",
    "\n",
    "#The main body is just another attachment\n",
    "body = email.mime.Text.MIMEText(\n",
    "\"\"\"\n",
    "Hello Ariel,\n",
    "This message is being sent to you from the automated AIB to Bambora SF automated application.\n",
    "The data looks at only those merchants and lanes that moved directly from AIB to Bambora.\n",
    "However the system does have the ability to look at all lanes and compare scheme fee costs \n",
    "to see what the cost on a lane would be if it was processed with AIB. The only change that\n",
    "would need to be made is telling the application to do a global comparison instead of the localized one.\n",
    "\n",
    "Please see below the summary data from the most recent application run. Again the number 40k is because the \n",
    "comparison has been localized to only those merchants that were directly moved from AIB to Bambora.\n",
    "\n",
    "total transactions:\n",
    "40597.0\n",
    "total signals:\n",
    "10949.0\n",
    "signal percentage to total:\n",
    "0.269699731507\"\"\")\n",
    "msg.attach(body)\n",
    "\n",
    "#PDF attachment\n",
    "filename='D:\\\\djohnson\\\\Desktop\\\\bambora.csv'\n",
    "fp=open(filename,'rb')\n",
    "att = email.mime.application.MIMEApplication(fp.read(),_subtype=\"xlsb\")\n",
    "fp.close()\n",
    "att.add_header('Content-Disposition','attachment',filename=filename)\n",
    "msg.attach(att)"
   ]
  },
  {
   "cell_type": "code",
   "execution_count": 62,
   "metadata": {
    "collapsed": true
   },
   "outputs": [],
   "source": [
    "#simple mail transfer protocol via the outlook server\n",
    "smtpObj=smtplib.SMTP('smtp-mail.outlook.com',587)"
   ]
  },
  {
   "cell_type": "code",
   "execution_count": 63,
   "metadata": {
    "collapsed": false
   },
   "outputs": [
    {
     "data": {
      "text/plain": [
       "(250,\n",
       " 'AM6PR07CA0003.outlook.office365.com Hello [208.49.188.174]\\nSIZE 157286400\\nPIPELINING\\nDSN\\nENHANCEDSTATUSCODES\\nSTARTTLS\\n8BITMIME\\nBINARYMIME\\nCHUNKING\\nSMTPUTF8')"
      ]
     },
     "execution_count": 63,
     "metadata": {},
     "output_type": "execute_result"
    }
   ],
   "source": [
    "#establishing communications with the simple mail transfer protocl email server.\n",
    "#ehlo is simply the script calling to the server and saying hello. The resulting 250 integeer means the \n",
    "#call was successful\n",
    "smtpObj.ehlo()"
   ]
  },
  {
   "cell_type": "code",
   "execution_count": 64,
   "metadata": {
    "collapsed": false
   },
   "outputs": [
    {
     "data": {
      "text/plain": [
       "(220, '2.0.0 SMTP server ready')"
      ]
     },
     "execution_count": 64,
     "metadata": {},
     "output_type": "execute_result"
    }
   ],
   "source": [
    "#the starttls enables the tls encrpytion for the connection\n",
    "smtpObj.starttls()"
   ]
  },
  {
   "cell_type": "code",
   "execution_count": 65,
   "metadata": {
    "collapsed": false
   },
   "outputs": [
    {
     "data": {
      "text/plain": [
       "(235,\n",
       " '2.7.0 Authentication successful target host VI1PR07MB1312.eurprd07.prod.outlook.com')"
      ]
     },
     "execution_count": 65,
     "metadata": {},
     "output_type": "execute_result"
    }
   ],
   "source": [
    "#the login information for the sender\n",
    "smtpObj.login('dale.johnson@epay.ingenico.com','Kirky2016!')"
   ]
  },
  {
   "cell_type": "code",
   "execution_count": 66,
   "metadata": {
    "collapsed": false
   },
   "outputs": [
    {
     "data": {
      "text/plain": [
       "{}"
      ]
     },
     "execution_count": 66,
     "metadata": {},
     "output_type": "execute_result"
    }
   ],
   "source": [
    "#send mail to recipients with message and attachment\n",
    "smtpObj.sendmail('dale.johnson@epay.ingenico.com',['ariel.Setton@epay.ingenico.com','dale.johnson@epay.ingenico.com'], msg.as_string())"
   ]
  },
  {
   "cell_type": "code",
   "execution_count": 67,
   "metadata": {
    "collapsed": false
   },
   "outputs": [
    {
     "data": {
      "text/plain": [
       "(221, '2.0.0 Service closing transmission channel')"
      ]
     },
     "execution_count": 67,
     "metadata": {},
     "output_type": "execute_result"
    }
   ],
   "source": [
    "smtpObj.quit()"
   ]
  }
 ],
 "metadata": {
  "kernelspec": {
   "display_name": "Python [default]",
   "language": "python",
   "name": "python2"
  },
  "language_info": {
   "codemirror_mode": {
    "name": "ipython",
    "version": 2
   },
   "file_extension": ".py",
   "mimetype": "text/x-python",
   "name": "python",
   "nbconvert_exporter": "python",
   "pygments_lexer": "ipython2",
   "version": "2.7.12"
  }
 },
 "nbformat": 4,
 "nbformat_minor": 1
}
