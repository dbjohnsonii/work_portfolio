{
 "cells": [
  {
   "cell_type": "code",
   "execution_count": 17,
   "metadata": {},
   "outputs": [
    {
     "data": {
      "text/html": [
       "<style>.container { width:95% !important; }</style>"
      ],
      "text/plain": [
       "<IPython.core.display.HTML object>"
      ]
     },
     "metadata": {},
     "output_type": "display_data"
    },
    {
     "name": "stdout",
     "output_type": "stream",
     "text": [
      "3.6.5 |Anaconda custom (64-bit)| (default, Mar 29 2018, 13:32:41) [MSC v.1900 64 bit (AMD64)]\n"
     ]
    }
   ],
   "source": [
    "from IPython.core.display import display, HTML\n",
    "display(HTML(\"<style>.container { width:95% !important; }</style>\"))\n",
    "import sys\n",
    "print (sys.version)"
   ]
  },
  {
   "cell_type": "code",
   "execution_count": 18,
   "metadata": {},
   "outputs": [],
   "source": [
    "import pandas as pd"
   ]
  },
  {
   "cell_type": "code",
   "execution_count": 19,
   "metadata": {},
   "outputs": [],
   "source": [
    "vi_import='d:\\\\djohnson\\\\Desktop\\\\misuse\\\\2018\\\\jun\\\\invoice_files\\\\mc_eu_integ.csv'\n",
    "mu_import='d:\\\\djohnson\\\\Desktop\\\\misuse\\\\2018\\\\jun\\\\invoice_files\\\\mc_row_integ.csv'\n",
    "mu_e_import='d:\\\\djohnson\\\\Desktop\\\\misuse\\\\2018\\\\jun\\\\invoice_files\\\\vi_integ.csv'"
   ]
  },
  {
   "cell_type": "code",
   "execution_count": 20,
   "metadata": {},
   "outputs": [],
   "source": [
    "vi=pd.read_csv(vi_import,sep=';')\n",
    "mr=pd.read_csv(mu_import,sep=';')\n",
    "me=pd.read_csv(mu_e_import,sep=';')"
   ]
  },
  {
   "cell_type": "code",
   "execution_count": 21,
   "metadata": {},
   "outputs": [],
   "source": [
    "m=pd.concat([vi,mr,me])"
   ]
  },
  {
   "cell_type": "code",
   "execution_count": 22,
   "metadata": {},
   "outputs": [],
   "source": [
    "m['InvoiceDate']=201807"
   ]
  },
  {
   "cell_type": "code",
   "execution_count": 23,
   "metadata": {},
   "outputs": [],
   "source": [
    "m=m.groupby(['Contract_ID','ProductCode'\n",
    "             ,'InvoiceDate','Approved'],as_index=False)[['Value']].sum()"
   ]
  },
  {
   "cell_type": "code",
   "execution_count": 24,
   "metadata": {},
   "outputs": [],
   "source": [
    "m['Value']=m['Value'].round(2)"
   ]
  },
  {
   "cell_type": "code",
   "execution_count": 25,
   "metadata": {},
   "outputs": [],
   "source": [
    "m=m[['Contract_ID','ProductCode','Value','InvoiceDate','Approved']]"
   ]
  },
  {
   "cell_type": "code",
   "execution_count": 26,
   "metadata": {},
   "outputs": [],
   "source": [
    "m['Contract_ID']=m['Contract_ID'].astype(int).astype(str)"
   ]
  },
  {
   "cell_type": "code",
   "execution_count": 27,
   "metadata": {},
   "outputs": [],
   "source": [
    "'''convert the contract ID to string in order to add the zero logic'''\n",
    "m=m.copy()\n",
    "for x in range(0,len(m['Contract_ID'])):\n",
    "    m.loc[x,'Contract_ID']=str(m.loc[x,'Contract_ID'])"
   ]
  },
  {
   "cell_type": "code",
   "execution_count": 29,
   "metadata": {},
   "outputs": [],
   "source": [
    "'''convert the contract ID to string in order to add the zero logic'''\n",
    "for x in range(0,len(m['Contract_ID'])):\n",
    "    m.loc[x,'Contract_ID']=str(m.loc[x,'Contract_ID'])\n",
    "'''adding zero logic'''\n",
    "#if 5 digits add one zeros\n",
    "for x in range(0,len(m['Contract_ID'])):\n",
    "    if len(m.loc[x,'Contract_ID'])==3:\n",
    "        m.loc[x,'Contract_ID']=\"0\"+m.loc[x,'Contract_ID']\n",
    "#if 4 digits add two zeros\n",
    "for x in range(0,len(m['Contract_ID'])):\n",
    "    if len(m.loc[x,'Contract_ID'])==2:\n",
    "        m.loc[x,'Contract_ID']=\"00\"+m.loc[x,'Contract_ID']\n",
    "#if 3 digits add three zeros\n",
    "for x in range(0,len(m['Contract_ID'])):\n",
    "    if len(m.loc[x,'Contract_ID'])==1:\n",
    "        m.loc[x,'Contract_ID']=\"000\"+m.loc[x,'Contract_ID']"
   ]
  },
  {
   "cell_type": "code",
   "execution_count": 30,
   "metadata": {},
   "outputs": [],
   "source": [
    "m=m.set_index('Contract_ID',inplace=False,append=False)"
   ]
  },
  {
   "cell_type": "code",
   "execution_count": 31,
   "metadata": {},
   "outputs": [
    {
     "data": {
      "text/html": [
       "<div>\n",
       "<style scoped>\n",
       "    .dataframe tbody tr th:only-of-type {\n",
       "        vertical-align: middle;\n",
       "    }\n",
       "\n",
       "    .dataframe tbody tr th {\n",
       "        vertical-align: top;\n",
       "    }\n",
       "\n",
       "    .dataframe thead th {\n",
       "        text-align: right;\n",
       "    }\n",
       "</style>\n",
       "<table border=\"1\" class=\"dataframe\">\n",
       "  <thead>\n",
       "    <tr style=\"text-align: right;\">\n",
       "      <th></th>\n",
       "      <th>ProductCode</th>\n",
       "      <th>Value</th>\n",
       "      <th>InvoiceDate</th>\n",
       "      <th>Approved</th>\n",
       "    </tr>\n",
       "    <tr>\n",
       "      <th>Contract_ID</th>\n",
       "      <th></th>\n",
       "      <th></th>\n",
       "      <th></th>\n",
       "      <th></th>\n",
       "    </tr>\n",
       "  </thead>\n",
       "  <tbody>\n",
       "    <tr>\n",
       "      <th>0012</th>\n",
       "      <td>420129</td>\n",
       "      <td>0.03</td>\n",
       "      <td>201807</td>\n",
       "      <td>False</td>\n",
       "    </tr>\n",
       "    <tr>\n",
       "      <th>0017</th>\n",
       "      <td>420129</td>\n",
       "      <td>0.03</td>\n",
       "      <td>201807</td>\n",
       "      <td>False</td>\n",
       "    </tr>\n",
       "    <tr>\n",
       "      <th>0046</th>\n",
       "      <td>420129</td>\n",
       "      <td>1.71</td>\n",
       "      <td>201807</td>\n",
       "      <td>False</td>\n",
       "    </tr>\n",
       "    <tr>\n",
       "      <th>0297</th>\n",
       "      <td>420129</td>\n",
       "      <td>0.82</td>\n",
       "      <td>201807</td>\n",
       "      <td>False</td>\n",
       "    </tr>\n",
       "    <tr>\n",
       "      <th>0488</th>\n",
       "      <td>420129</td>\n",
       "      <td>0.18</td>\n",
       "      <td>201807</td>\n",
       "      <td>False</td>\n",
       "    </tr>\n",
       "  </tbody>\n",
       "</table>\n",
       "</div>"
      ],
      "text/plain": [
       "             ProductCode  Value  InvoiceDate  Approved\n",
       "Contract_ID                                           \n",
       "0012              420129   0.03       201807     False\n",
       "0017              420129   0.03       201807     False\n",
       "0046              420129   1.71       201807     False\n",
       "0297              420129   0.82       201807     False\n",
       "0488              420129   0.18       201807     False"
      ]
     },
     "execution_count": 31,
     "metadata": {},
     "output_type": "execute_result"
    }
   ],
   "source": [
    "m.head()"
   ]
  },
  {
   "cell_type": "code",
   "execution_count": null,
   "metadata": {},
   "outputs": [],
   "source": [
    "m.to_csv('d:\\\\djohnson\\\\Desktop\\\\misuse\\\\BI000001_07312018.csv',sep=';')"
   ]
  }
 ],
 "metadata": {
  "kernelspec": {
   "display_name": "Python 3",
   "language": "python",
   "name": "python3"
  },
  "language_info": {
   "codemirror_mode": {
    "name": "ipython",
    "version": 3
   },
   "file_extension": ".py",
   "mimetype": "text/x-python",
   "name": "python",
   "nbconvert_exporter": "python",
   "pygments_lexer": "ipython3",
   "version": "3.6.5"
  }
 },
 "nbformat": 4,
 "nbformat_minor": 2
}
