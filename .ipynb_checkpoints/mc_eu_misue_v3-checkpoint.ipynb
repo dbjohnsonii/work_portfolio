{
 "cells": [
  {
   "cell_type": "code",
   "execution_count": 1,
   "metadata": {},
   "outputs": [
    {
     "data": {
      "text/html": [
       "<style>.container { width:95% !important; }</style>"
      ],
      "text/plain": [
       "<IPython.core.display.HTML object>"
      ]
     },
     "metadata": {},
     "output_type": "display_data"
    },
    {
     "name": "stdout",
     "output_type": "stream",
     "text": [
      "3.6.5 |Anaconda custom (64-bit)| (default, Mar 29 2018, 13:32:41) [MSC v.1900 64 bit (AMD64)]\n"
     ]
    }
   ],
   "source": [
    "from IPython.core.display import display, HTML\n",
    "display(HTML(\"<style>.container { width:95% !important; }</style>\"))\n",
    "import sys\n",
    "print (sys.version)"
   ]
  },
  {
   "cell_type": "code",
   "execution_count": 2,
   "metadata": {},
   "outputs": [],
   "source": [
    "'''import all necessary libraries'''\n",
    "\n",
    "import cx_Oracle #import the oracle database libraries\n",
    "import pandas as pd #connect to the pandas libraries\n",
    "import numpy as np #import numpy\n",
    "import getpass #import the password libraries in order to keep database password concealed"
   ]
  },
  {
   "cell_type": "code",
   "execution_count": 3,
   "metadata": {},
   "outputs": [
    {
     "name": "stdin",
     "output_type": "stream",
     "text": [
      "please enter your username djohnson\n",
      "Enter your password:  ··········\n"
     ]
    },
    {
     "name": "stdout",
     "output_type": "stream",
     "text": [
      "12.1.0.2.0\n"
     ]
    }
   ],
   "source": [
    "'''connect to the oracle server used to pull down the \n",
    "currency and misuse of authorization information'''\n",
    "\n",
    "username=input(\"please enter your username\")\n",
    "password=getpass.getpass(\"Enter your password: \")\n",
    "\n",
    "con=cx_Oracle.connect(username,password,'ODSPEU1.ams') #enter database details\n",
    "print (con.version) # prnt the conversion details"
   ]
  },
  {
   "cell_type": "code",
   "execution_count": 4,
   "metadata": {},
   "outputs": [
    {
     "name": "stdout",
     "output_type": "stream",
     "text": [
      "7\n",
      "20187\n"
     ]
    }
   ],
   "source": [
    "'''import the date and time that will be referenced in this \n",
    "sheet to ensure the correct month is being captured'''\n",
    "\n",
    "import datetime\n",
    "now = datetime.datetime.now()\n",
    "day=\"%s%s\" % (now.year,now.month-1)\n",
    "month=now.month-1\n",
    "\n",
    "print(month)\n",
    "print(day)"
   ]
  },
  {
   "cell_type": "code",
   "execution_count": 5,
   "metadata": {},
   "outputs": [],
   "source": [
    "'''run the average monthly currency file directy from IeP databases'''\n",
    "\n",
    "df2=pd.read_sql(\n",
    "''' \n",
    "SELECT\n",
    "ROUND(AVG(AVERAGE_RATE_USD),3)\n",
    ",ROUND(AVG(AVERAGE_RATE_EUR),3)\n",
    ",CURRENCY\n",
    ",extract(year from CAST(DAY AS DATE)) \n",
    ",extract(month from CAST(DAY AS DATE)) \n",
    "FROM fdwo.mb_exchange_rates\n",
    "WHERE DAY BETWEEN TO_DATE('1-6-2018','DD-MM-YYYY') AND TO_DATE('30-6-2018','DD-MM-YYYY')\n",
    "GROUP BY CURRENCY,extract(year from CAST(DAY AS DATE)),extract(month from CAST(DAY AS DATE))\n",
    "''', con)"
   ]
  },
  {
   "cell_type": "code",
   "execution_count": 6,
   "metadata": {},
   "outputs": [],
   "source": [
    "'''rename the data pull and store \n",
    "the original to prevent having to repull the query'''\n",
    "\n",
    "curr=df2.copy()"
   ]
  },
  {
   "cell_type": "code",
   "execution_count": 7,
   "metadata": {},
   "outputs": [],
   "source": [
    "'''rename columns to allow for necessary passengers'''\n",
    "\n",
    "curr=curr.rename(columns={'ROUND(AVG(AVERAGE_RATE_USD),3)':'us_conversion'\n",
    "                        ,'ROUND(AVG(AVERAGE_RATE_EUR),3)':'eu_conversion'\n",
    "                        ,'CURRENCY':'CURRENCYCODE'\n",
    "                        ,'EXTRACT(YEARFROMCAST(DAYASDATE))':'STATUSYEAR'\n",
    "                        ,'EXTRACT(MONTHFROMCAST(DAYASDATE))':'MONTH'})"
   ]
  },
  {
   "cell_type": "code",
   "execution_count": 8,
   "metadata": {},
   "outputs": [],
   "source": [
    "'''setup the names for the large misuse import from the remote desktop'''\n",
    "\n",
    "acq_col_names=['STATUSMONTH','STATUSYEAR','ORDERID','CONTRACT_ID',\n",
    "           'CLIENT_NAME','REQUESTAUTHORIZEDAMOUNT','CURRENCYCODE','CURRENT_PAYMENTSTATUSID_UPDATED',\n",
    "           'PAYMENTPRODUCTID','PAYMENTMETHODID','PAYMENTPROCESSORNUMBER','CREDITCARDCOMPANY',\n",
    "           'COUNTRYCODE','BIN','INVOICE_CURRENCY','SERVICEPROVIDERGROUPNAME','ICPLUS_TYPE',\n",
    "           'GEOGRAPHICAL_AREA_LOCAL_ACQUIRER_DESC']"
   ]
  },
  {
   "cell_type": "code",
   "execution_count": 9,
   "metadata": {},
   "outputs": [],
   "source": [
    "#import the supporting details\n",
    "\n",
    "conver=pd.read_csv('G:\\\\Pricing\\\\Pricing Intelligence\\\\Projects\\\\IC_Opt_project\\\\pi_implementation\\\\currency_conversion\\\\monthly\\\\currency_monthly_data.csv')\n",
    "conver=conver.drop('Unnamed: 0',axis=1)\n",
    "\n",
    "excep=pd.read_csv('G:\\\\Pricing\\\\Pricing Intelligence\\\\Projects\\\\IC_Opt_project\\\\pi_implementation\\\\misuse_of_authorization_fee\\\\reference_tables\\\\mu_exceptions_tbl.csv')\n",
    "\n",
    "prd_ref_tbl=pd.read_csv('G:\\\\Pricing\\\\Pricing Intelligence\\\\Projects\\\\IC_Opt_project\\\\pi_implementation\\\\misuse_of_authorization_fee\\\\reference_tables\\\\mc_product_ref_tbl.csv')\n",
    "prd_ref_tbl=prd_ref_tbl[['CREDITDEBITINDICATOR','CURRENCYCODE','PRODUCT_CODE']]\n",
    "\n",
    "df1=pd.read_csv('u:\\\\mc_eu_mu.txt',sep=';',names=acq_col_names,skiprows=66,encoding='ISO-8859-1',error_bad_lines=False,low_memory=False)"
   ]
  },
  {
   "cell_type": "code",
   "execution_count": 10,
   "metadata": {},
   "outputs": [],
   "source": [
    "'''save the misuse import to memory'''\n",
    "vi=df1.copy()"
   ]
  },
  {
   "cell_type": "code",
   "execution_count": 11,
   "metadata": {},
   "outputs": [],
   "source": [
    "'''select the month to invoice, this is usually the previous month'''\n",
    "curr['STATUSMONTH']=month\n",
    "vi['STATUSMONTH']=month"
   ]
  },
  {
   "cell_type": "code",
   "execution_count": 12,
   "metadata": {},
   "outputs": [],
   "source": [
    "'''strip away any whitespace'''\n",
    "vi['CURRENCYCODE']=vi['CURRENCYCODE'].str.strip()\n",
    "vi['ICPLUS_TYPE']=vi['ICPLUS_TYPE'].str.strip()\n",
    "curr['CURRENCYCODE']=curr['CURRENCYCODE'].str.strip()"
   ]
  },
  {
   "cell_type": "code",
   "execution_count": 13,
   "metadata": {},
   "outputs": [],
   "source": [
    "'''this piece of code converts anything that reads blended to - for uniformity'''\n",
    "\n",
    "for x in range(0,len(vi.ICPLUS_TYPE)):\n",
    "    if vi.ICPLUS_TYPE[x]=='Blended':\n",
    "        vi.ICPLUS_TYPE='-'"
   ]
  },
  {
   "cell_type": "code",
   "execution_count": 14,
   "metadata": {},
   "outputs": [],
   "source": [
    "'''converts the data into a working set of data. I do this twice as a safeguard to preve\n",
    "having to repull large datasets or re-run large queries'''\n",
    "\n",
    "vi_mu_working_data=vi #Create a working reference of the misuse of information"
   ]
  },
  {
   "cell_type": "code",
   "execution_count": 15,
   "metadata": {},
   "outputs": [],
   "source": [
    "'''changing column names to allow for data merges'''\n",
    "vi_mu_working_data.rename(columns={'GEOGRAPHICAL_AREA_LOCAL_ACQUIRER_DESC,': 'GEOGRAPHICAL_AREA_LOCAL_ACQUIRER_DESC'}, inplace=True)#Update the name to USD conversion factor\n",
    "vi_mu_working_data['CREDITDEBITINDICATOR']='C'"
   ]
  },
  {
   "cell_type": "code",
   "execution_count": 16,
   "metadata": {},
   "outputs": [],
   "source": [
    "'''data from backend always comes in bytes this converts the number to the actual amount\n",
    "the solution is to divide the number by 100'''\n",
    "vi_mu_working_data['REQUESTAUTHORIZEDAMOUNT']=vi_mu_working_data['REQUESTAUTHORIZEDAMOUNT']/100"
   ]
  },
  {
   "cell_type": "code",
   "execution_count": 17,
   "metadata": {},
   "outputs": [],
   "source": [
    "#merge the currency and misuse information\n",
    "vi_mu_working_data=pd.merge(vi_mu_working_data,curr,on=['CURRENCYCODE','STATUSMONTH','STATUSYEAR'])\n",
    "#calculate the conversion equation\n",
    "vi_mu_working_data['REQUESTAUTHORIZEDAMOUNT']=vi_mu_working_data['REQUESTAUTHORIZEDAMOUNT']/vi_mu_working_data['us_conversion']"
   ]
  },
  {
   "cell_type": "code",
   "execution_count": 18,
   "metadata": {},
   "outputs": [],
   "source": [
    "'''calculate both possibilities of the fee and then select the highest'''\n",
    "vi_mu_working_data['0.25%_P/T']=vi_mu_working_data['REQUESTAUTHORIZEDAMOUNT']*.0025\n",
    "vi_mu_working_data['0.03_P/T']=1*0.03\n",
    "vi_mu_working_data['PROCESS_INTEGRITY_FEE']=vi_mu_working_data[['0.25%_P/T','0.03_P/T']].max(axis=1) # Select the max across two columns"
   ]
  },
  {
   "cell_type": "code",
   "execution_count": 19,
   "metadata": {},
   "outputs": [],
   "source": [
    "'''order the columns - this is just the developers preference'''\n",
    "\n",
    "vi_mu_working_data=vi_mu_working_data[['STATUSMONTH','STATUSYEAR','CLIENT_NAME','CONTRACT_ID','SERVICEPROVIDERGROUPNAME','GEOGRAPHICAL_AREA_LOCAL_ACQUIRER_DESC'\n",
    "                                       ,'ORDERID','CREDITDEBITINDICATOR','CURRENCYCODE','REQUESTAUTHORIZEDAMOUNT'\n",
    "                                       ,'INVOICE_CURRENCY','ICPLUS_TYPE','PROCESS_INTEGRITY_FEE']]"
   ]
  },
  {
   "cell_type": "code",
   "execution_count": 20,
   "metadata": {},
   "outputs": [],
   "source": [
    "'''merge the miuse table with product information tables'''\n",
    "vi_mu_working_data=pd.merge(vi_mu_working_data,prd_ref_tbl,on=['CURRENCYCODE','CREDITDEBITINDICATOR'],how='left')"
   ]
  },
  {
   "cell_type": "code",
   "execution_count": 21,
   "metadata": {},
   "outputs": [],
   "source": [
    "'''merge the misuse data with the exception list'''\n",
    "vi_mu_working_data=pd.merge(vi_mu_working_data,excep,on=['CONTRACT_ID'],how='left')"
   ]
  },
  {
   "cell_type": "code",
   "execution_count": 22,
   "metadata": {},
   "outputs": [],
   "source": [
    "'''handling of the contract id number 7162'''\n",
    "\n",
    "for x in range(0,len(vi_mu_working_data.CONTRACT_ID)):\n",
    "    if vi_mu_working_data['CONTRACT_ID'][x]==7162:\n",
    "        vi_mu_working_data['ICPLUS_TYPE'][x]=\"-\"\n",
    "\n",
    "for x in range(0,len(vi_mu_working_data.INVOICE_CURRENCY[x])):\n",
    "    if vi_mu_working_data.CONTRACT_ID[x]==7162:\n",
    "        vi_mu_working_data.INVOICE_CURRENCY='USD'"
   ]
  },
  {
   "cell_type": "code",
   "execution_count": 23,
   "metadata": {},
   "outputs": [],
   "source": [
    "vi_mu_working_data=pd.merge(vi_mu_working_data,curr,on=['CURRENCYCODE'],how='left')\n",
    "vi_mu_working_data.rename(columns={'EUR_CONVERSION_RATE': 'USD_CONVERSION_FACTOR'}, inplace=True)#Update the name to USD conversion factor"
   ]
  },
  {
   "cell_type": "code",
   "execution_count": 24,
   "metadata": {},
   "outputs": [],
   "source": [
    "curr_invoice=conver\n",
    "curr_invoice.rename(columns={'CURRENCYCODE': 'INVOICE_CURRENCY'}, inplace=True)"
   ]
  },
  {
   "cell_type": "code",
   "execution_count": 25,
   "metadata": {},
   "outputs": [],
   "source": [
    "vi_mu_working_data=pd.merge(vi_mu_working_data,curr_invoice,on=['INVOICE_CURRENCY'],how='left')\n",
    "vi_mu_working_data['INVOICE_CONVERSION_FACTOR']=vi_mu_working_data['EUR_CONVERSION_RATE']"
   ]
  },
  {
   "cell_type": "code",
   "execution_count": 26,
   "metadata": {},
   "outputs": [],
   "source": [
    "vi_mu_working_data['CURRENCY_ADJUSTED_INVOICE_AMOUNT']=vi_mu_working_data['PROCESS_INTEGRITY_FEE']/vi_mu_working_data['INVOICE_CONVERSION_FACTOR']"
   ]
  },
  {
   "cell_type": "code",
   "execution_count": 27,
   "metadata": {},
   "outputs": [],
   "source": [
    "'''currency code logic - handling missing code'''\n",
    "\n",
    "for x in range(0,len(vi_mu_working_data.INVOICE_CURRENCY)):\n",
    "    if vi_mu_working_data.INVOICE_CURRENCY[x]=='' and vi_mu_working_data.CURRENCYCODE[x]=='CAD':\n",
    "                                                        vi_mu_working_data.INVOICE_CURRENCY[x]='USD'"
   ]
  },
  {
   "cell_type": "code",
   "execution_count": 28,
   "metadata": {},
   "outputs": [],
   "source": [
    "'''select the rate that will be used to convert EURs to USDs'''\n",
    "conver=conver[(conver['INVOICE_CURRENCY']=='EUR')]#only select conversion options where the invoice currency are euros\n",
    "usd=conver.loc[4,'EUR_CONVERSION_RATE']#Establish the European Conversion Amount"
   ]
  },
  {
   "cell_type": "code",
   "execution_count": 29,
   "metadata": {},
   "outputs": [],
   "source": [
    "'''create a new column titled EUR total that will tabulate the total amount of collection in euros'''\n",
    "vi_mu_working_data['EUR_TOTAL']=0"
   ]
  },
  {
   "cell_type": "code",
   "execution_count": 30,
   "metadata": {},
   "outputs": [],
   "source": [
    "#basically say here that if the invoice currency is not euros then adjust to USD otherwise euros\n",
    "for x in range(0,len(vi_mu_working_data['EUR_TOTAL'])):\n",
    "    if vi_mu_working_data.loc[x,'INVOICE_CURRENCY']!=\"EUR\":\n",
    "        vi_mu_working_data.loc[x,'EUR_TOTAL']=vi_mu_working_data.loc[x,'CURRENCY_ADJUSTED_INVOICE_AMOUNT']/usd\n",
    "    else:\n",
    "        vi_mu_working_data.loc[x,'CURRENCY_ADJUSTED_INVOICE_AMOUNT']"
   ]
  },
  {
   "cell_type": "code",
   "execution_count": 31,
   "metadata": {},
   "outputs": [],
   "source": [
    "vi_mu_working_data['Product Description']='Penalty Fees'\n",
    "vi_mu_working_data['Current % Tariff']=0\n",
    "vi_mu_working_data['Description']=''\n",
    "vi_mu_working_data['Product Code']=420129"
   ]
  },
  {
   "cell_type": "code",
   "execution_count": 32,
   "metadata": {},
   "outputs": [],
   "source": [
    "'''apply the tariff amounts'''\n",
    "for x in range(0,len(vi_mu_working_data['Current % Tariff'])):\n",
    "    if vi_mu_working_data.loc[x,'EXCEPTION']=='YES':\n",
    "        vi_mu_working_data.loc[x,'Current % Tariff']=1\n",
    "    else:\n",
    "        vi_mu_working_data.loc[x,'Current % Tariff']=1.10"
   ]
  },
  {
   "cell_type": "code",
   "execution_count": 33,
   "metadata": {},
   "outputs": [],
   "source": [
    "'''apply the description tags'''\n",
    "for x in range(0,len(vi_mu_working_data['Description'])):\n",
    "    if vi_mu_working_data.loc[x,'EXCEPTION']=='YES':\n",
    "        vi_mu_working_data.loc[x,'Description']='Fee 100.00% or as currently in IST ='\n",
    "    else:\n",
    "        vi_mu_working_data.loc[x,'Description']='Fee 110.00% or as currently in IST ='"
   ]
  },
  {
   "cell_type": "code",
   "execution_count": 34,
   "metadata": {},
   "outputs": [],
   "source": [
    "vi_mu_working_data['Total Euros Collected (including current tariff)']=vi_mu_working_data['EUR_TOTAL']*vi_mu_working_data['Current % Tariff']\n",
    "vi_mu_working_data['Invoice Amount (including tariff)']=vi_mu_working_data['CURRENCY_ADJUSTED_INVOICE_AMOUNT']*vi_mu_working_data['Current % Tariff']"
   ]
  },
  {
   "cell_type": "code",
   "execution_count": 35,
   "metadata": {},
   "outputs": [],
   "source": [
    "vi_mu_working_data=vi_mu_working_data.drop(['STATUSMONTH_y','STATUSYEAR_y'],axis=1)\n",
    "vi_mu_working_data=vi_mu_working_data.rename(columns={'STATUSMONTH_x':'STATUSMONTH','STATUSYEAR_x':'STATUSYEAR'})"
   ]
  },
  {
   "cell_type": "code",
   "execution_count": 36,
   "metadata": {},
   "outputs": [],
   "source": [
    "'''setup the revenue generating dataset final look'''\n",
    "\n",
    "vi_mu_working_data_rev=vi_mu_working_data[['STATUSMONTH','STATUSYEAR','CLIENT_NAME','CONTRACT_ID'\n",
    "                          ,'SERVICEPROVIDERGROUPNAME','PRODUCT_CODE','GEOGRAPHICAL_AREA_LOCAL_ACQUIRER_DESC','ORDERID'\n",
    "                          ,'CREDITDEBITINDICATOR','CURRENCYCODE','INVOICE_CURRENCY','REQUESTAUTHORIZEDAMOUNT'\n",
    "                          ,'PROCESS_INTEGRITY_FEE','INVOICE_CONVERSION_FACTOR','CURRENCY_ADJUSTED_INVOICE_AMOUNT','EUR_TOTAL'\n",
    "                          ,'EXCEPTION','ICPLUS_TYPE']]"
   ]
  },
  {
   "cell_type": "code",
   "execution_count": 37,
   "metadata": {},
   "outputs": [],
   "source": [
    "'''create the pivot dataset '''\n",
    "vi_mu_working_data_pivot=vi_mu_working_data_rev.copy()"
   ]
  },
  {
   "cell_type": "code",
   "execution_count": 39,
   "metadata": {},
   "outputs": [],
   "source": [
    "for x in range(0,len(vi_mu_working_data['EUR_TOTAL'])):\n",
    "    if vi_mu_working_data.loc[x,'EXCEPTION']=='YES':\n",
    "        vi_mu_working_data.loc[x,'EUR_TOTAL']=vi_mu_working_data_pivot.loc[x,'EUR_TOTAL']*1\n",
    "    else:\n",
    "        vi_mu_working_data.loc[x,'EUR_TOTAL']=vi_mu_working_data_pivot.loc[x,'EUR_TOTAL']*1.10"
   ]
  },
  {
   "cell_type": "code",
   "execution_count": 40,
   "metadata": {},
   "outputs": [
    {
     "name": "stdout",
     "output_type": "stream",
     "text": [
      "              EUR_TOTAL                                      \n",
      "ICPLUS_TYPE           -    Cost Plus  IC+SF Plus          All\n",
      "STATUSMONTH                                                  \n",
      "7            4363.50077  1572.972756  390.730979  6327.204505\n",
      "All          4363.50077  1572.972756  390.730979  6327.204505\n"
     ]
    }
   ],
   "source": [
    "vi_mu_working_data_pivot_1=vi_mu_working_data_pivot[(vi_mu_working_data_pivot['STATUSMONTH']>=1)].copy()\n",
    "vi_mu_working_data_pivot_1=pd.pivot_table(vi_mu_working_data_pivot_1,values=['EUR_TOTAL'],index=['STATUSMONTH'],columns='ICPLUS_TYPE',aggfunc='sum',margins='all')\n",
    "print(vi_mu_working_data_pivot_1)"
   ]
  },
  {
   "cell_type": "code",
   "execution_count": 41,
   "metadata": {},
   "outputs": [
    {
     "name": "stdout",
     "output_type": "stream",
     "text": [
      "            ORDERID                             \n",
      "ICPLUS_TYPE       - Cost Plus IC+SF Plus     All\n",
      "STATUSMONTH                                     \n",
      "7             95198     33456       7122  135776\n",
      "All           95198     33456       7122  135776\n"
     ]
    }
   ],
   "source": [
    "vi_mu_working_data_pivot_2=vi_mu_working_data_pivot[(vi_mu_working_data_pivot['STATUSMONTH']>=1)].copy()\n",
    "vi_mu_working_data_pivot_2=pd.pivot_table(vi_mu_working_data_pivot_2,values=['ORDERID'],index=['STATUSMONTH'],columns='ICPLUS_TYPE',aggfunc='count',margins='all')\n",
    "print (vi_mu_working_data_pivot_2)"
   ]
  },
  {
   "cell_type": "code",
   "execution_count": 42,
   "metadata": {},
   "outputs": [],
   "source": [
    "vi_mu_working_data_rev_rf=vi_mu_working_data_rev.copy()\n",
    "vi_mu_working_data_rev_rf['Product Description']='Penalty Fees'\n",
    "\n",
    "vi_mu_working_data_rev_rf['Current % Tariff']=0\n",
    "vi_mu_working_data_rev_rf['Description']=''\n",
    "vi_mu_working_data_rev_rf['Product Code']=420129\n",
    "vi_mu_working_data_rev_rf['Total invoiced amount']=0\n",
    "\n",
    "'''apply the tariff amounts'''\n",
    "for x in range(0,len(vi_mu_working_data_rev_rf['Current % Tariff'])):\n",
    "    if vi_mu_working_data_rev_rf.loc[x,'EXCEPTION']=='YES':\n",
    "        vi_mu_working_data_rev_rf.loc[x,'Current % Tariff']=1\n",
    "    else:\n",
    "        vi_mu_working_data_rev_rf.loc[x,'Current % Tariff']=1.10\n",
    "\n",
    "\n",
    "'''apply the description tags'''\n",
    "for x in range(0,len(vi_mu_working_data_rev_rf['Description'])):\n",
    "    if vi_mu_working_data_rev_rf.loc[x,'EXCEPTION']=='YES':\n",
    "        vi_mu_working_data_rev_rf.loc[x,'Description']='Fee 100.00% or as currently in IST ='\n",
    "    else:\n",
    "        vi_mu_working_data_rev_rf.loc[x,'Description']='Fee 110.00% or as currently in IST ='\n",
    "\n",
    "\n",
    "vi_mu_working_data_rev_rf=vi_mu_working_data_rev_rf[(vi_mu_working_data_rev_rf['STATUSMONTH']==month)&(vi_mu_working_data_rev_rf['ICPLUS_TYPE']=='-')].copy()\n",
    "vi_mu_working_data_rev_rf=vi_mu_working_data_rev_rf[['CONTRACT_ID'\n",
    "                             ,'Product Code'\n",
    "                             ,'Total invoiced amount'                            \n",
    "                             ,'Product Description'\n",
    "                             ,'INVOICE_CURRENCY'\n",
    "                             ,'ORDERID'\n",
    "                             ,'REQUESTAUTHORIZEDAMOUNT'\n",
    "                             ,'Current % Tariff'\n",
    "                             ,'CURRENCY_ADJUSTED_INVOICE_AMOUNT'\n",
    "                             ,'Description']]\n"
   ]
  },
  {
   "cell_type": "code",
   "execution_count": 43,
   "metadata": {},
   "outputs": [],
   "source": [
    "vi_mu_working_data_rev_rf=vi_mu_working_data_rev_rf.groupby(['CONTRACT_ID','Product Code','Product Description','INVOICE_CURRENCY','Current % Tariff','Description','Total invoiced amount'])\\\n",
    ".agg({'ORDERID':'count','REQUESTAUTHORIZEDAMOUNT':'sum','CURRENCY_ADJUSTED_INVOICE_AMOUNT':'sum'}).reset_index()\n",
    "\n",
    "vi_mu_working_data_rev_rf['Current Tariff Amount']=vi_mu_working_data_rev_rf['CURRENCY_ADJUSTED_INVOICE_AMOUNT']/vi_mu_working_data_rev_rf['ORDERID']\n",
    "vi_mu_working_data_rev_rf['Total invoiced percentage']=vi_mu_working_data_rev_rf['CURRENCY_ADJUSTED_INVOICE_AMOUNT']*vi_mu_working_data_rev_rf['Current % Tariff']\n",
    "\n",
    "vi_mu_working_data_rev_rf.rename(columns={'CONTRACT_ID': 'Contract ID'\n",
    "                                            ,'Product Code': 'Product Code'\n",
    "                                            ,'INVOICE_CURRENCY': 'Invoice Currency'\n",
    "                                            ,'ORDERID':'Volume'\n",
    "                                            ,'CURRENCY_ADJUSTED_INVOICE_AMOUNT':'Flow'}, inplace=True)\n",
    "\n",
    "\n",
    "vi_mu_working_data_rev_rf=vi_mu_working_data_rev_rf[['Contract ID'\n",
    "                             ,'Product Code'\n",
    "                             ,'Product Description'\n",
    "                             ,'Invoice Currency'\n",
    "                             ,'Volume'\n",
    "                             ,'Flow'\n",
    "                             ,'Current % Tariff'\n",
    "                             ,'Current Tariff Amount'\n",
    "                             ,'Total invoiced amount'                            \n",
    "                             ,'Total invoiced percentage'\n",
    "                             ,'Description']]\n",
    "\n",
    "\n",
    "vi_mu_working_data_rev_rf['Volume']=0\n",
    "vi_mu_working_data_rev_rf['Current Tariff Amount']=0"
   ]
  },
  {
   "cell_type": "code",
   "execution_count": 44,
   "metadata": {},
   "outputs": [],
   "source": [
    "#display the invoice data\n",
    "#set all approvals to true\n",
    "vi_mu_working_data_rev_rf['Approved']='TRUE'\n",
    "#insert the invoice day\n",
    "vi_mu_working_data_rev_rf['InvoiceDate']=day\n",
    "#vi_mu_working_data_rev_rf"
   ]
  },
  {
   "cell_type": "code",
   "execution_count": 45,
   "metadata": {},
   "outputs": [],
   "source": [
    "#select those columns that are going to fed into the invoice file\n",
    "vi_mu_working_data_rev_rf_final=vi_mu_working_data_rev_rf[['Contract ID','Product Code','Total invoiced percentage','InvoiceDate','Approved']]\n",
    "\n",
    "#update a few names to accomodate invoicing team\n",
    "vi_mu_working_data_rev_rf_final=vi_mu_working_data_rev_rf_final.copy()\n",
    "vi_mu_working_data_rev_rf_final.rename(columns={'Contract ID': 'Contract_ID'\n",
    "                                                ,'Product Code':'ProductCode'\n",
    "                                                ,'Total invoiced percentage': 'Value'}, inplace=True)"
   ]
  },
  {
   "cell_type": "code",
   "execution_count": 46,
   "metadata": {},
   "outputs": [],
   "source": [
    "'''convert the contract ID to string in order to add the zero logic'''\n",
    "vi_mu_working_data_rev_rf_final=vi_mu_working_data_rev_rf_final.copy()\n",
    "for x in range(0,len(vi_mu_working_data_rev_rf_final['Contract_ID'])):\n",
    "    vi_mu_working_data_rev_rf_final.loc[x,'Contract_ID']=str(vi_mu_working_data_rev_rf_final.loc[x,'Contract_ID'])"
   ]
  },
  {
   "cell_type": "code",
   "execution_count": 47,
   "metadata": {},
   "outputs": [
    {
     "name": "stdout",
     "output_type": "stream",
     "text": [
      "  Contract_ID  ProductCode       Value InvoiceDate Approved\n",
      "0      0764.0       420129    8.130000       20187     TRUE\n",
      "1      0766.0       420129    3.542500       20187     TRUE\n",
      "2      0991.0       420129  252.450467       20187     TRUE\n",
      "3      1086.0       420129   19.316000       20187     TRUE\n",
      "4      1360.0       420129    0.077640       20187     TRUE\n"
     ]
    },
    {
     "data": {
      "text/plain": [
       "'scripts used in the document saving process'"
      ]
     },
     "execution_count": 47,
     "metadata": {},
     "output_type": "execute_result"
    }
   ],
   "source": [
    "'''convert the contract ID to string in order to add the zero logic'''\n",
    "for x in range(0,len(vi_mu_working_data_rev_rf_final['Contract_ID'])):\n",
    "    vi_mu_working_data_rev_rf_final.loc[x,'Contract_ID']=str(vi_mu_working_data_rev_rf_final.loc[x,'Contract_ID'])\n",
    "'''adding zero logic'''\n",
    "#if 5 digits add one zeros\n",
    "for x in range(0,len(vi_mu_working_data_rev_rf_final['Contract_ID'])):\n",
    "    if len(vi_mu_working_data_rev_rf_final.loc[x,'Contract_ID'])==5:\n",
    "        vi_mu_working_data_rev_rf_final.loc[x,'Contract_ID']=\"0\"+vi_mu_working_data_rev_rf_final.loc[x,'Contract_ID']\n",
    "#if 4 digits add two zeros\n",
    "for x in range(0,len(vi_mu_working_data_rev_rf_final['Contract_ID'])):\n",
    "    if len(vi_mu_working_data_rev_rf_final.loc[x,'Contract_ID'])==4:\n",
    "        vi_mu_working_data_rev_rf_final.loc[x,'Contract_ID']=\"00\"+vi_mu_working_data_rev_rf_final.loc[x,'Contract_ID']\n",
    "#if 3 digits add three zeros\n",
    "for x in range(0,len(vi_mu_working_data_rev_rf_final['Contract_ID'])):\n",
    "    if len(vi_mu_working_data_rev_rf_final.loc[x,'Contract_ID'])==3:\n",
    "        vi_mu_working_data_rev_rf_final.loc[x,'Contract_ID']=\"000\"+vi_mu_working_data_rev_rf_final.loc[x,'Contract_ID']\n",
    "'''dormant code - allows me to review the results of the scripts above in case of error'''\n",
    "print (vi_mu_working_data_rev_rf_final.head())\n",
    "#print vi_mu_working_data_rev_rf_final.info()\n",
    "#print len(vi_mu_working_data_rev_rf_final.loc[0,'Contract_ID'])\n",
    "# ## Export the Data for Use and Analysis\n",
    "'''scripts used in the document saving process'''\n",
    "#vi_mu_working_data_rev_rf.to_csv('G:\\\\Pricing\\\\Pricing Intelligence\\\\Misuse of Authorization\\\\mtm\\\\vi_misuse_month_add_rev_'+day_save+'.csv')\n",
    "#mc_mu_working_data_rev_rf_final.to_csv('d:\\\\djohnson\\\\Pricing Desktop\\\\misuse\\\\vi_integ_fee_ytd'+day_save+'.csv',sep=';')\n",
    "#vi_mu_working_data_rev_rf_final.to_csv('d:\\\\djohnson\\\\Desktop\\\\misuse\\\\2018\\\\jun\\\\invoice_files\\\\mc_row_integ.csv',sep=';')\n",
    "#vi_mu_working_data.to_csv('d:\\\\djohnson\\\\Desktop\\\\misuse\\\\2018\\\\jun\\\\audit_files\\\\mc_row_integ_fee_ytd.csv')"
   ]
  }
 ],
 "metadata": {
  "kernelspec": {
   "display_name": "Python 3",
   "language": "python",
   "name": "python3"
  },
  "language_info": {
   "codemirror_mode": {
    "name": "ipython",
    "version": 3
   },
   "file_extension": ".py",
   "mimetype": "text/x-python",
   "name": "python",
   "nbconvert_exporter": "python",
   "pygments_lexer": "ipython3",
   "version": "3.6.5"
  }
 },
 "nbformat": 4,
 "nbformat_minor": 2
}
