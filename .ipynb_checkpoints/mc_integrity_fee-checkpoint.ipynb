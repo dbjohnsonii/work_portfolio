{
 "cells": [
  {
   "cell_type": "markdown",
   "metadata": {},
   "source": [
    "# Mastercard Misuse of Integrity Fee"
   ]
  },
  {
   "cell_type": "code",
   "execution_count": 261,
   "metadata": {
    "collapsed": false,
    "scrolled": false
   },
   "outputs": [
    {
     "name": "stdout",
     "output_type": "stream",
     "text": [
      "{'ECL_CODA11': 'Oracle in instantclient_11_2', 'NZSQL': 'NetezzaSQL', 'IST_CODA11': 'Oracle in instantclient_11_2', 'BO_Lookup': 'Oracle in instantclient_11_2', 'Excel Files': 'Microsoft Excel Driver (*.xls, *.xlsx, *.xlsm, *.xlsb)', 'dBASE Files': 'Microsoft Access dBASE Driver (*.dbf, *.ndx, *.mdx)', 'MS Access Database': 'Microsoft Access Driver (*.mdb, *.accdb)'}\n"
     ]
    }
   ],
   "source": [
    "import pyodbc #CONNECT VIA PYODBC IMPORT THE PYODBC LIBRARY\n",
    "import pandas as pd #CONNECT TO THE PANDAS LIBRARY\n",
    "import numpy as np #IMPORT NUMPY\n",
    "import matplotlib.pyplot as plt\n",
    "print pyodbc.dataSources() #DISPLAY THE LISTED DATA SOURCES ON MACHINE, IN MY CASE I USE NETEZZASQL\n"
   ]
  },
  {
   "cell_type": "code",
   "execution_count": null,
   "metadata": {
    "collapsed": true
   },
   "outputs": [],
   "source": [
    "import_curr ='G:\\Pricing\\IC Opt project\\pi_implementation\\currency conversion\\currency_data_11042017.csv'"
   ]
  },
  {
   "cell_type": "markdown",
   "metadata": {},
   "source": [
    "## Import the Currency Conversion Information from the Currency Monitor"
   ]
  },
  {
   "cell_type": "code",
   "execution_count": 262,
   "metadata": {
    "collapsed": false
   },
   "outputs": [],
   "source": [
    "curr=pd.read_csv(import_curr)\n",
    "curr=curr[['CURRENCYCODE','USD_AMOUNT']]"
   ]
  },
  {
   "cell_type": "markdown",
   "metadata": {},
   "source": [
    "## Run the Neteeza SQL Statement Identifying those with a Valid Misuse of Integrity Status"
   ]
  },
  {
   "cell_type": "code",
   "execution_count": 14,
   "metadata": {
    "collapsed": true
   },
   "outputs": [],
   "source": [
    "mc_mu_data=pd.read_sql(\n",
    "'''\n",
    "SELECT extract(month from CAST(pa.ATTEMPTCREATEDDATE AS DATE))AS STATUSMONTH,m.CLIENT_NAME,pa.MERCHANTID,m.CONTRACT_ID,m.CLIENT_ID,pa.ORDERID\n",
    "\t\t,pa.REQUESTAUTHORIZEDAMOUNT,pa.BILLINGCURRENCYCODE AS CURRENCYCODE,pa.CURRENT_PAYMENTSTATUSID_UPDATED\n",
    "\t\t,pa.CREDITDEBITINDICATOR,cs.CARD_SCHEME_FULL,sp.SERVICEPROVIDERGROUPNAME,sp.GEOGRAPHICAL_AREA_LOCAL_ACQUIRER_DESC\n",
    "FROM P_MMDB.MDW.BI_OPR_PAYMENTATTEMPT1 AS pa\n",
    "\n",
    "--JOIN TOGETHER THE MERCHANT INFORMATION\n",
    "LEFT JOIN DATA.MB_MERCHANTS AS m\n",
    "ON pa.MERCHANTID=m.CONTRACT_ID\n",
    "\n",
    "--JOIN TOGETHER THE SERVICE PROVIDER INFORMATION\n",
    "--WITH THE PRIMARY DATASET, CAN NOW FILTER FOR JUST THE EUROPE\n",
    "LEFT JOIN P_MMDB.MDW.DIM_SERVICEPROVIDER AS sp\n",
    "ON pa.SERVICEPROVIDERID=sp.SERVICEPROVIDERID\n",
    "\n",
    "--PULL IN THE CARD_SCHME DATA AND COMBINE WITH THE PRIMARY DATASET\n",
    "LEFT JOIN P_MMDB.MDW.DIM_CARD_SCHEME AS cs\n",
    "ON pa.PAYMENTPRODUCTID =cs.PAYMENTPRODUCTID\n",
    "\n",
    "--LEFT JOIN DATA.CC_PROCESSING_COSTLINK_VIEW pcv\n",
    "--ON pa.MERCHANTID =pcv.CONTRACT_ID AND pa.ORDERID =pcv.ORDERID\n",
    "\n",
    "--PULL DATA DOWN JUST FOR THE US\n",
    "WHERE ATTEMPTCREATEDDATE BETWEEN '2017-01-01' AND '2017-12-31'\n",
    "AND (sp.GEOGRAPHICAL_AREA_LOCAL_ACQUIRER_DESC NOT LIKE '%EEA%' AND sp.GEOGRAPHICAL_AREA_LOCAL_ACQUIRER_DESC NOT LIKE '%Europe%')\n",
    "AND (CURRENT_PAYMENTSTATUSID_UPDATED=525 OR CURRENT_PAYMENTSTATUSID_UPDATED=600) \n",
    "AND(CARD_SCHEME_FULL='MasterCard' )\n",
    "--GROUP THE DATA TO ALLOW FOR SUMMATIONS\n",
    "GROUP BY MERCHANTID,m.CONTRACT_ID,CLIENT_NAME,CURRENT_PAYMENTSTATUSID_UPDATED,CREDITDEBITINDICATOR,CURRENCYCODE,SERVICEPROVIDERGROUPNAME,GEOGRAPHICAL_AREA_LOCAL_ACQUIRER_DESC\n",
    "                ,CARD_SCHEME_FULL,STATUSMONTH,CLIENT_ID,pa.ORDERID,pa.REQUESTAUTHORIZEDAMOUNT\n",
    "'''\n",
    ",conn)\n",
    "             "
   ]
  },
  {
   "cell_type": "code",
   "execution_count": 263,
   "metadata": {
    "collapsed": false
   },
   "outputs": [],
   "source": [
    "cc_data=pd.read_sql(\n",
    "'''\n",
    "SELECT cc.PAYMENT_PROCESSOR,cc.PRODUCT_CODE,cc.ICPLUS_TYPE,cc.CONTRACT_ID,cc.INVOICE_CURRENCY\n",
    "FROM DATA.CC_PROCESSING_DATA_PT AS cc\n",
    "WHERE TRANSACTION_DATE BETWEEN '2017-01-01' AND '2017-12-31'\n",
    "AND cc.TRANSACTION_TYPE='TRANSACTION'\n",
    "--AND cc.CONTRACT_ID=4235\n",
    "--AND cc.PAYMENT_PROCESSOR='FIRSTDATA'\n",
    "--AND cc.PRODUCT_CODE=100453\n",
    "AND cc.INVOICE_CURRENCY IS NOT NULL\n",
    "GROUP BY cc.PAYMENT_PROCESSOR,cc.PRODUCT_CODE,cc.ICPLUS_TYPE,cc.CONTRACT_ID,cc.INVOICE_CURRENCY\n",
    "'''\n",
    ",conn)"
   ]
  },
  {
   "cell_type": "code",
   "execution_count": 264,
   "metadata": {
    "collapsed": false
   },
   "outputs": [
    {
     "name": "stdout",
     "output_type": "stream",
     "text": [
      "<class 'pandas.core.frame.DataFrame'>\n",
      "RangeIndex: 431652 entries, 0 to 431651\n",
      "Data columns (total 16 columns):\n",
      "STATUSMONTH                              431652 non-null int64\n",
      "CLIENT_NAME                              431652 non-null object\n",
      "MERCHANTID                               431652 non-null int64\n",
      "CONTRACT_ID                              431652 non-null float64\n",
      "CLIENT_ID                                431652 non-null float64\n",
      "ORDERID                                  431652 non-null int64\n",
      "REQUESTAUTHORIZEDAMOUNT                  431652 non-null float64\n",
      "CURRENCYCODE                             431652 non-null object\n",
      "CURRENT_PAYMENTSTATUSID_UPDATED          431652 non-null int64\n",
      "CREDITDEBITINDICATOR                     431652 non-null object\n",
      "CARD_SCHEME_FULL                         431652 non-null object\n",
      "SERVICEPROVIDERGROUPNAME                 431652 non-null object\n",
      "GEOGRAPHICAL_AREA_LOCAL_ACQUIRER_DESC    431652 non-null object\n",
      "0.25%_P/T                                431652 non-null float64\n",
      "0.04_P/T                                 431652 non-null float64\n",
      "PROCESS_INTEGRITY_FEE                    431652 non-null float64\n",
      "dtypes: float64(6), int64(4), object(6)\n",
      "memory usage: 52.7+ MB\n",
      "None\n"
     ]
    }
   ],
   "source": [
    "mc_mu_working_data=mc_mu_data\n",
    "print mc_mu_working_data.info()"
   ]
  },
  {
   "cell_type": "code",
   "execution_count": 265,
   "metadata": {
    "collapsed": false
   },
   "outputs": [
    {
     "name": "stdout",
     "output_type": "stream",
     "text": [
      "<class 'pandas.core.frame.DataFrame'>\n",
      "RangeIndex: 14959 entries, 0 to 14958\n",
      "Data columns (total 5 columns):\n",
      "PAYMENT_PROCESSOR    14955 non-null object\n",
      "PRODUCT_CODE         14959 non-null float64\n",
      "ICPLUS_TYPE          14959 non-null object\n",
      "CONTRACT_ID          14959 non-null float64\n",
      "INVOICE_CURRENCY     14959 non-null object\n",
      "dtypes: float64(2), object(3)\n",
      "memory usage: 584.4+ KB\n",
      "None\n"
     ]
    }
   ],
   "source": [
    "cc_data_working_data=cc_data\n",
    "print cc_data_working_data.info()"
   ]
  },
  {
   "cell_type": "code",
   "execution_count": 266,
   "metadata": {
    "collapsed": false
   },
   "outputs": [],
   "source": [
    "mc_mu_working_data['CLIENT_NAME']=mc_mu_working_data['CLIENT_NAME'].str.strip()\n",
    "mc_mu_working_data['CURRENCYCODE']=mc_mu_working_data['CURRENCYCODE'].str.strip()\n",
    "mc_mu_working_data['CREDITDEBITINDICATOR']=mc_mu_working_data['CREDITDEBITINDICATOR'].str.strip()\n",
    "mc_mu_working_data['SERVICEPROVIDERGROUPNAME']=mc_mu_working_data['SERVICEPROVIDERGROUPNAME'].str.strip()\n",
    "mc_mu_working_data['GEOGRAPHICAL_AREA_LOCAL_ACQUIRER_DESC']=mc_mu_working_data['GEOGRAPHICAL_AREA_LOCAL_ACQUIRER_DESC'].str.strip()"
   ]
  },
  {
   "cell_type": "code",
   "execution_count": 267,
   "metadata": {
    "collapsed": false
   },
   "outputs": [],
   "source": [
    "cc_data_working_data['PAYMENT_PROCESSOR']=cc_data_working_data['PAYMENT_PROCESSOR'].str.strip()\n",
    "cc_data_working_data['ICPLUS_TYPE']=cc_data_working_data['ICPLUS_TYPE'].str.strip()"
   ]
  },
  {
   "cell_type": "code",
   "execution_count": 268,
   "metadata": {
    "collapsed": false
   },
   "outputs": [],
   "source": [
    "cc_data_working_data.rename(columns={'PAYMENT_PROCESSOR': 'SERVICEPROVIDERGROUPNAME'}, inplace=True)"
   ]
  },
  {
   "cell_type": "code",
   "execution_count": 269,
   "metadata": {
    "collapsed": false
   },
   "outputs": [],
   "source": [
    "cc_data_working_data=cc_data_working_data[(cc_data_working_data['SERVICEPROVIDERGROUPNAME']=='WELLS FARGO')\n",
    "                                          |(cc_data_working_data['SERVICEPROVIDERGROUPNAME']=='Vantiv')\n",
    "                                          |(cc_data_working_data['SERVICEPROVIDERGROUPNAME']=='Merchant Solutions')\n",
    "                                          |(cc_data_working_data['SERVICEPROVIDERGROUPNAME']=='Elavon (USA)')\n",
    "                                          |(cc_data_working_data['SERVICEPROVIDERGROUPNAME']=='FIRSTDATA')\n",
    "                                          |(cc_data_working_data['SERVICEPROVIDERGROUPNAME']=='COMMONWEALTH')]"
   ]
  },
  {
   "cell_type": "code",
   "execution_count": 270,
   "metadata": {
    "collapsed": false
   },
   "outputs": [
    {
     "name": "stdout",
     "output_type": "stream",
     "text": [
      "  CREDITDEBITINDICATOR CURRENCYCODE  PRODUCT_CODE\n",
      "0                    C          BRL        100454\n",
      "1                    C          CAD        100454\n",
      "2                    C          CLP        100454\n",
      "3                    C          COP        100454\n",
      "4                    C          CRC        100454\n"
     ]
    }
   ],
   "source": [
    "import1='G:\\\\Pricing\\\\IC Opt project\\\\pi_implementation\\\\misuse of authorization fee\\\\reference_tables\\\\product_ref_tbl.csv'\n",
    "prd_ref_tbl=pd.read_csv(import1)\n",
    "prd_ref_tbl=prd_ref_tbl[['CREDITDEBITINDICATOR','CURRENCYCODE','PRODUCT_CODE',]]\n",
    "print prd_ref_tbl.head()"
   ]
  },
  {
   "cell_type": "code",
   "execution_count": 271,
   "metadata": {
    "collapsed": false
   },
   "outputs": [],
   "source": [
    "mc_mu_working_data['0.25%_P/T']=mc_mu_working_data['REQUESTAUTHORIZEDAMOUNT']*.0025\n",
    "mc_mu_working_data['0.04_P/T']=1*0.04\n",
    "mc_mu_working_data['PROCESS_INTEGRITY_FEE']=mc_mu_working_data[['0.25%_P/T','0.04_P/T']].max(axis=1)"
   ]
  },
  {
   "cell_type": "code",
   "execution_count": 272,
   "metadata": {
    "collapsed": false
   },
   "outputs": [],
   "source": [
    "mc_mu_working_data=mc_mu_working_data[(mc_mu_working_data['SERVICEPROVIDERGROUPNAME']=='Merchant Solutions')\n",
    "                                      |(mc_mu_working_data['SERVICEPROVIDERGROUPNAME']=='FirstData')\n",
    "                                      |(mc_mu_working_data['SERVICEPROVIDERGROUPNAME']=='CBA')\n",
    "                                      |(mc_mu_working_data['SERVICEPROVIDERGROUPNAME']=='Litle')\n",
    "                                      |(mc_mu_working_data['SERVICEPROVIDERGROUPNAME']=='Wells Fargo')\n",
    "                                      |(mc_mu_working_data['SERVICEPROVIDERGROUPNAME']=='Elavon')]"
   ]
  },
  {
   "cell_type": "code",
   "execution_count": 273,
   "metadata": {
    "collapsed": false
   },
   "outputs": [
    {
     "name": "stderr",
     "output_type": "stream",
     "text": [
      "C:\\Users\\djohnson\\AppData\\Local\\Continuum\\Anaconda2\\lib\\site-packages\\ipykernel\\__main__.py:1: SettingWithCopyWarning: \n",
      "A value is trying to be set on a copy of a slice from a DataFrame\n",
      "\n",
      "See the caveats in the documentation: http://pandas.pydata.org/pandas-docs/stable/indexing.html#indexing-view-versus-copy\n",
      "  if __name__ == '__main__':\n",
      "C:\\Users\\djohnson\\AppData\\Local\\Continuum\\Anaconda2\\lib\\site-packages\\ipykernel\\__main__.py:2: SettingWithCopyWarning: \n",
      "A value is trying to be set on a copy of a slice from a DataFrame\n",
      "\n",
      "See the caveats in the documentation: http://pandas.pydata.org/pandas-docs/stable/indexing.html#indexing-view-versus-copy\n",
      "  from ipykernel import kernelapp as app\n",
      "C:\\Users\\djohnson\\AppData\\Local\\Continuum\\Anaconda2\\lib\\site-packages\\ipykernel\\__main__.py:3: SettingWithCopyWarning: \n",
      "A value is trying to be set on a copy of a slice from a DataFrame\n",
      "\n",
      "See the caveats in the documentation: http://pandas.pydata.org/pandas-docs/stable/indexing.html#indexing-view-versus-copy\n",
      "  app.launch_new_instance()\n",
      "C:\\Users\\djohnson\\AppData\\Local\\Continuum\\Anaconda2\\lib\\site-packages\\ipykernel\\__main__.py:4: SettingWithCopyWarning: \n",
      "A value is trying to be set on a copy of a slice from a DataFrame\n",
      "\n",
      "See the caveats in the documentation: http://pandas.pydata.org/pandas-docs/stable/indexing.html#indexing-view-versus-copy\n",
      "C:\\Users\\djohnson\\AppData\\Local\\Continuum\\Anaconda2\\lib\\site-packages\\ipykernel\\__main__.py:5: SettingWithCopyWarning: \n",
      "A value is trying to be set on a copy of a slice from a DataFrame\n",
      "\n",
      "See the caveats in the documentation: http://pandas.pydata.org/pandas-docs/stable/indexing.html#indexing-view-versus-copy\n"
     ]
    },
    {
     "name": "stdout",
     "output_type": "stream",
     "text": [
      "<class 'pandas.core.frame.DataFrame'>\n",
      "Int64Index: 411617 entries, 0 to 431651\n",
      "Data columns (total 16 columns):\n",
      "STATUSMONTH                              411617 non-null int64\n",
      "CLIENT_NAME                              411617 non-null object\n",
      "MERCHANTID                               411617 non-null int64\n",
      "CONTRACT_ID                              411617 non-null float64\n",
      "CLIENT_ID                                411617 non-null float64\n",
      "ORDERID                                  411617 non-null int64\n",
      "REQUESTAUTHORIZEDAMOUNT                  411617 non-null float64\n",
      "CURRENCYCODE                             411617 non-null object\n",
      "CURRENT_PAYMENTSTATUSID_UPDATED          411617 non-null int64\n",
      "CREDITDEBITINDICATOR                     411617 non-null object\n",
      "CARD_SCHEME_FULL                         411617 non-null object\n",
      "SERVICEPROVIDERGROUPNAME                 411617 non-null object\n",
      "GEOGRAPHICAL_AREA_LOCAL_ACQUIRER_DESC    411617 non-null object\n",
      "0.25%_P/T                                411617 non-null float64\n",
      "0.04_P/T                                 411617 non-null float64\n",
      "PROCESS_INTEGRITY_FEE                    411617 non-null float64\n",
      "dtypes: float64(6), int64(4), object(6)\n",
      "memory usage: 53.4+ MB\n"
     ]
    }
   ],
   "source": [
    "mc_mu_working_data['SERVICEPROVIDERGROUPNAME'][mc_mu_working_data['SERVICEPROVIDERGROUPNAME'].str.contains('Litle')]='Vantiv'\n",
    "mc_mu_working_data['SERVICEPROVIDERGROUPNAME'][mc_mu_working_data['SERVICEPROVIDERGROUPNAME'].str.contains('Wells Fargo')]='WELLS FARGO'\n",
    "mc_mu_working_data['SERVICEPROVIDERGROUPNAME'][mc_mu_working_data['SERVICEPROVIDERGROUPNAME'].str.contains('FirstData')]='FIRSTDATA'\n",
    "mc_mu_working_data['SERVICEPROVIDERGROUPNAME'][mc_mu_working_data['SERVICEPROVIDERGROUPNAME'].str.contains('Elavon')]='Elavon (USA)'\n",
    "mc_mu_working_data['SERVICEPROVIDERGROUPNAME'][mc_mu_working_data['SERVICEPROVIDERGROUPNAME'].str.contains('CBA')]='COMMONWEALTH'\n",
    "mc_mu_working_data.info()"
   ]
  },
  {
   "cell_type": "code",
   "execution_count": 274,
   "metadata": {
    "collapsed": false
   },
   "outputs": [],
   "source": [
    "mc_mu_working_data=mc_mu_working_data[['STATUSMONTH','CLIENT_NAME','CONTRACT_ID','SERVICEPROVIDERGROUPNAME','GEOGRAPHICAL_AREA_LOCAL_ACQUIRER_DESC','ORDERID','CREDITDEBITINDICATOR','CURRENCYCODE','REQUESTAUTHORIZEDAMOUNT','PROCESS_INTEGRITY_FEE']]"
   ]
  },
  {
   "cell_type": "code",
   "execution_count": 275,
   "metadata": {
    "collapsed": true
   },
   "outputs": [],
   "source": [
    "mc_mu_working_data=pd.merge(mc_mu_working_data,prd_ref_tbl,on=['CURRENCYCODE','CREDITDEBITINDICATOR'],how='left')"
   ]
  },
  {
   "cell_type": "code",
   "execution_count": 276,
   "metadata": {
    "collapsed": false
   },
   "outputs": [],
   "source": [
    "mc_mu_working_data_final=pd.merge(mc_mu_working_data,cc_data_working_data,on=['CONTRACT_ID','PRODUCT_CODE','SERVICEPROVIDERGROUPNAME'],how='left')"
   ]
  },
  {
   "cell_type": "code",
   "execution_count": 277,
   "metadata": {
    "collapsed": false
   },
   "outputs": [
    {
     "name": "stdout",
     "output_type": "stream",
     "text": [
      "<class 'pandas.core.frame.DataFrame'>\n",
      "Int64Index: 411637 entries, 0 to 411636\n",
      "Data columns (total 13 columns):\n",
      "STATUSMONTH                              411637 non-null int64\n",
      "CLIENT_NAME                              411637 non-null object\n",
      "CONTRACT_ID                              411637 non-null float64\n",
      "SERVICEPROVIDERGROUPNAME                 411637 non-null object\n",
      "GEOGRAPHICAL_AREA_LOCAL_ACQUIRER_DESC    411637 non-null object\n",
      "ORDERID                                  411637 non-null int64\n",
      "CREDITDEBITINDICATOR                     411637 non-null object\n",
      "CURRENCYCODE                             411637 non-null object\n",
      "REQUESTAUTHORIZEDAMOUNT                  411637 non-null float64\n",
      "PROCESS_INTEGRITY_FEE                    411637 non-null float64\n",
      "PRODUCT_CODE                             411637 non-null int64\n",
      "ICPLUS_TYPE                              411552 non-null object\n",
      "INVOICE_CURRENCY                         411552 non-null object\n",
      "dtypes: float64(3), int64(3), object(7)\n",
      "memory usage: 44.0+ MB\n"
     ]
    }
   ],
   "source": [
    "mc_mu_working_data_final.info()"
   ]
  },
  {
   "cell_type": "code",
   "execution_count": 278,
   "metadata": {
    "collapsed": false
   },
   "outputs": [],
   "source": [
    "mc_mu_working_data_final=pd.merge(mc_mu_working_data_final,curr,on=['CURRENCYCODE'],how='left')\n",
    "mc_mu_working_data_final.rename(columns={'USD_AMOUNT': 'USD_CONVERSION_FACTOR'}, inplace=True)"
   ]
  },
  {
   "cell_type": "code",
   "execution_count": 279,
   "metadata": {
    "collapsed": true
   },
   "outputs": [],
   "source": [
    "mc_mu_working_data_final['USD_ADJUSTED_PROCESS_INTEGRITY_FEE']=0"
   ]
  },
  {
   "cell_type": "code",
   "execution_count": 280,
   "metadata": {
    "collapsed": false
   },
   "outputs": [
    {
     "name": "stderr",
     "output_type": "stream",
     "text": [
      "C:\\Users\\djohnson\\AppData\\Local\\Continuum\\Anaconda2\\lib\\site-packages\\ipykernel\\__main__.py:1: SettingWithCopyWarning: \n",
      "A value is trying to be set on a copy of a slice from a DataFrame\n",
      "\n",
      "See the caveats in the documentation: http://pandas.pydata.org/pandas-docs/stable/indexing.html#indexing-view-versus-copy\n",
      "  if __name__ == '__main__':\n",
      "C:\\Users\\djohnson\\AppData\\Local\\Continuum\\Anaconda2\\lib\\site-packages\\ipykernel\\__main__.py:2: SettingWithCopyWarning: \n",
      "A value is trying to be set on a copy of a slice from a DataFrame\n",
      "\n",
      "See the caveats in the documentation: http://pandas.pydata.org/pandas-docs/stable/indexing.html#indexing-view-versus-copy\n",
      "  from ipykernel import kernelapp as app\n"
     ]
    }
   ],
   "source": [
    "mc_mu_working_data_final['USD_ADJUSTED_PROCESS_INTEGRITY_FEE'][(mc_mu_working_data_final['PROCESS_INTEGRITY_FEE']!=0.04)&(mc_mu_working_data_final['CURRENCYCODE']!='USD')]=mc_mu_working_data_final['PROCESS_INTEGRITY_FEE']*mc_mu_working_data_final['USD_CONVERSION_FACTOR']\n",
    "mc_mu_working_data_final['USD_ADJUSTED_PROCESS_INTEGRITY_FEE'][(mc_mu_working_data_final['USD_ADJUSTED_PROCESS_INTEGRITY_FEE']==0)]=mc_mu_working_data_final['PROCESS_INTEGRITY_FEE']"
   ]
  },
  {
   "cell_type": "code",
   "execution_count": 286,
   "metadata": {
    "collapsed": false
   },
   "outputs": [],
   "source": [
    "curr_invoice=curr\n",
    "curr_invoice.rename(columns={'CURRENCYCODE': 'INVOICE_CURRENCY'}, inplace=True)\n",
    "curr_invoice\n",
    "\n",
    "mc_mu_working_data_final=pd.merge(mc_mu_working_data_final,curr_invoice,on=['INVOICE_CURRENCY'],how='left')\n",
    "mc_mu_working_data_final['INVOICE_CONVERSION_FACTOR']=mc_mu_working_data_final['USD_AMOUNT']\n",
    "\n",
    "mc_mu_working_data_final['CURRENCY_ADJUSTED_INVOICE_AMOUNT']=mc_mu_working_data_final['USD_ADJUSTED_PROCESS_INTEGRITY_FEE']/mc_mu_working_data_final['INVOICE_CONVERSION_FACTOR']"
   ]
  },
  {
   "cell_type": "code",
   "execution_count": 319,
   "metadata": {
    "collapsed": false
   },
   "outputs": [],
   "source": [
    "eur=curr[1:2].iloc[0]['USD_AMOUNT']#Establish the European Conversion Amount\n",
    "mc_mu_working_data_final['EUR_TOTAL']=mc_mu_working_data_final['USD_ADJUSTED_PROCESS_INTEGRITY_FEE']/eur"
   ]
  },
  {
   "cell_type": "code",
   "execution_count": 320,
   "metadata": {
    "collapsed": false
   },
   "outputs": [
    {
     "name": "stdout",
     "output_type": "stream",
     "text": [
      "<class 'pandas.core.frame.DataFrame'>\n",
      "Int64Index: 411637 entries, 0 to 411636\n",
      "Data columns (total 18 columns):\n",
      "STATUSMONTH                              411637 non-null int64\n",
      "CLIENT_NAME                              411637 non-null object\n",
      "CONTRACT_ID                              411637 non-null float64\n",
      "SERVICEPROVIDERGROUPNAME                 411637 non-null object\n",
      "PRODUCT_CODE                             411637 non-null int64\n",
      "GEOGRAPHICAL_AREA_LOCAL_ACQUIRER_DESC    411637 non-null object\n",
      "ORDERID                                  411637 non-null int64\n",
      "CREDITDEBITINDICATOR                     411637 non-null object\n",
      "CURRENCYCODE                             411637 non-null object\n",
      "INVOICE_CURRENCY                         411552 non-null object\n",
      "REQUESTAUTHORIZEDAMOUNT                  411637 non-null float64\n",
      "PROCESS_INTEGRITY_FEE                    411637 non-null float64\n",
      "USD_CONVERSION_FACTOR                    411637 non-null float64\n",
      "USD_ADJUSTED_PROCESS_INTEGRITY_FEE       411637 non-null float64\n",
      "INVOICE_CONVERSION_FACTOR                411552 non-null float64\n",
      "CURRENCY_ADJUSTED_INVOICE_AMOUNT         411552 non-null float64\n",
      "ICPLUS_TYPE                              411552 non-null object\n",
      "EUR_TOTAL                                411637 non-null float64\n",
      "dtypes: float64(8), int64(3), object(7)\n",
      "memory usage: 59.7+ MB\n"
     ]
    }
   ],
   "source": [
    "mc_mu_working_data_final.info()"
   ]
  },
  {
   "cell_type": "code",
   "execution_count": 321,
   "metadata": {
    "collapsed": false
   },
   "outputs": [],
   "source": [
    "mc_mu_working_data_final=mc_mu_working_data_final[['STATUSMONTH'\n",
    "                          ,'CLIENT_NAME'\n",
    "                          ,'CONTRACT_ID'\n",
    "                          ,'SERVICEPROVIDERGROUPNAME'\n",
    "                          ,'PRODUCT_CODE'\n",
    "                          ,'GEOGRAPHICAL_AREA_LOCAL_ACQUIRER_DESC'\n",
    "                          ,'ORDERID'\n",
    "                          ,'CREDITDEBITINDICATOR'\n",
    "                          ,'CURRENCYCODE'\n",
    "                          ,'INVOICE_CURRENCY'                         \n",
    "                          ,'REQUESTAUTHORIZEDAMOUNT'\n",
    "                          ,'PROCESS_INTEGRITY_FEE'\n",
    "                          ,'USD_CONVERSION_FACTOR'                                                   \n",
    "                          ,'USD_ADJUSTED_PROCESS_INTEGRITY_FEE'\n",
    "                          ,'INVOICE_CONVERSION_FACTOR'\n",
    "                          ,'CURRENCY_ADJUSTED_INVOICE_AMOUNT'\n",
    "                          ,'EUR_TOTAL'                         \n",
    "                          ,'ICPLUS_TYPE']]"
   ]
  },
  {
   "cell_type": "code",
   "execution_count": 322,
   "metadata": {
    "collapsed": false
   },
   "outputs": [
    {
     "name": "stdout",
     "output_type": "stream",
     "text": [
      "<class 'pandas.core.frame.DataFrame'>\n",
      "Int64Index: 411637 entries, 0 to 411636\n",
      "Data columns (total 18 columns):\n",
      "STATUSMONTH                              411637 non-null int64\n",
      "CLIENT_NAME                              411637 non-null object\n",
      "CONTRACT_ID                              411637 non-null float64\n",
      "SERVICEPROVIDERGROUPNAME                 411637 non-null object\n",
      "PRODUCT_CODE                             411637 non-null int64\n",
      "GEOGRAPHICAL_AREA_LOCAL_ACQUIRER_DESC    411637 non-null object\n",
      "ORDERID                                  411637 non-null int64\n",
      "CREDITDEBITINDICATOR                     411637 non-null object\n",
      "CURRENCYCODE                             411637 non-null object\n",
      "INVOICE_CURRENCY                         411552 non-null object\n",
      "REQUESTAUTHORIZEDAMOUNT                  411637 non-null float64\n",
      "PROCESS_INTEGRITY_FEE                    411637 non-null float64\n",
      "USD_CONVERSION_FACTOR                    411637 non-null float64\n",
      "USD_ADJUSTED_PROCESS_INTEGRITY_FEE       411637 non-null float64\n",
      "INVOICE_CONVERSION_FACTOR                411552 non-null float64\n",
      "CURRENCY_ADJUSTED_INVOICE_AMOUNT         411552 non-null float64\n",
      "EUR_TOTAL                                411637 non-null float64\n",
      "ICPLUS_TYPE                              411552 non-null object\n",
      "dtypes: float64(8), int64(3), object(7)\n",
      "memory usage: 59.7+ MB\n"
     ]
    }
   ],
   "source": [
    "mc_mu_working_data_final.info()"
   ]
  },
  {
   "cell_type": "code",
   "execution_count": 324,
   "metadata": {
    "collapsed": false
   },
   "outputs": [],
   "source": [
    "mc_mu_working_data_final.to_csv('d:\\\\djohnson\\\\Desktop\\\\mc_integ_fee.csv')"
   ]
  }
 ],
 "metadata": {
  "anaconda-cloud": {},
  "kernelspec": {
   "display_name": "Python [default]",
   "language": "python",
   "name": "python2"
  },
  "language_info": {
   "codemirror_mode": {
    "name": "ipython",
    "version": 2
   },
   "file_extension": ".py",
   "mimetype": "text/x-python",
   "name": "python",
   "nbconvert_exporter": "python",
   "pygments_lexer": "ipython2",
   "version": "2.7.12"
  }
 },
 "nbformat": 4,
 "nbformat_minor": 1
}
