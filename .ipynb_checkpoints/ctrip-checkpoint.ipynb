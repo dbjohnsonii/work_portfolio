{
 "cells": [
  {
   "cell_type": "code",
   "execution_count": 1,
   "metadata": {
    "collapsed": true
   },
   "outputs": [],
   "source": [
    "import pandas as pd\n",
    "import cx_Oracle\n",
    "conn=cx_Oracle.connect('djohnson','RhiBae01!','ODSPEU1.ams')"
   ]
  },
  {
   "cell_type": "code",
   "execution_count": 2,
   "metadata": {
    "collapsed": false
   },
   "outputs": [],
   "source": [
    "cursor = conn.cursor()"
   ]
  },
  {
   "cell_type": "code",
   "execution_count": 3,
   "metadata": {
    "collapsed": false
   },
   "outputs": [
    {
     "data": {
      "text/plain": [
       "<cx_Oracle.Cursor on <cx_Oracle.Connection to djohnson@ODSPEU1.ams>>"
      ]
     },
     "execution_count": 3,
     "metadata": {},
     "output_type": "execute_result"
    }
   ],
   "source": [
    "cursor.execute(\"SELECT extract(month from CAST(t1.statusdate AS DATE))AS STATUSMONTH,extract(year from CAST(t1.statusdate AS DATE))AS STATUSYEAR,t1.orderid,t1.merchantid,t1.merchantname AS CLIENT_NAME,t1.amount AS REQUESTAUTHORIZEDAMOUNT,t1.currencycode,t1.statusid,t1.creditcardcompany,t1.paymentprocessor,t4.cc_acquirer_name AS ACQUIRER,t4.interchange_region AS REGION,t5.icplus_type FROM(SELECT pa.orderid,pa.merchantid,m.merchantname,pa.amount,pa.currencycode,pa.statusdate,pa.statusid,pa.paymentproductid,pa.paymentmethodid,co.paymentprocessor,co.creditcardcompany,co.countrycode FROM eps.opr_paymentattempt pa LEFT JOIN eps.pco_creditcardonline co ON pa.MERCHANTID=co.MERCHANTID AND pa.ORDERID=co.ORDERID AND pa.statusdate=co.authorisationdatetime AND pa.amount=co.authorisedamount LEFT JOIN eps.mrm_merchant m ON pa.MERCHANTID=m.MERCHANTID WHERE pa.statusdate BETWEEN TO_DATE('12/01/2017','MM/DD/YYYY') AND TO_DATE('12/31/2017','MM/DD/YYYY') AND (pa.statusid=525 OR pa.statusid=600) AND CREDITCARDCOMPANY LIKE'%V%')t1 LEFT JOIN (SELECT pr.id,pr.paymentprocessor_id,pr.cc_acquirer_name,pr.cc_acquirer_subgroup,pr.interchange_region FROM fdwo.mb_paymentprocessor pr)t4 ON t1.PAYMENTPROCESSOR=t4.paymentprocessor_id LEFT JOIN (SELECT extract(year from CAST(TRANSACTION_DATE AS DATE))AS STATUSYEAR_IC,extract(month from CAST(TRANSACTION_DATE AS DATE))AS STATUSMONTH_IC,contract_id,orderid,payment_processor_nr,transaction_currency,icplus_type FROM fdwo.cc_processing_data_pt WHERE TRANSACTION_DATE BETWEEN TO_DATE('12/01/2017','MM/DD/YYYY') AND TO_DATE('12/31/2017','MM/DD/YYYY') AND TRANSACTION_TYPE='TRANSACTION' AND INVOICE_CURRENCY IS NOT NULL AND TRADING_REVENUE IS NOT NULL)t5 ON t1.paymentprocessor=t5.payment_processor_nr AND t1.currencycode=t5.transaction_currency AND t1.merchantid=t5.contract_id WHERE t4.INTERCHANGE_REGION='NorthAm' AND t5.ICPLUS_TYPE='-'\")"
   ]
  },
  {
   "cell_type": "code",
   "execution_count": null,
   "metadata": {
    "collapsed": false
   },
   "outputs": [],
   "source": [
    "for row in cursor:\n",
    "    print (row[0],row[1],,row[2],row[3],row[4],row[5],row[6],row[7],row[8],row[9],row[10])"
   ]
  }
 ],
 "metadata": {
  "kernelspec": {
   "display_name": "Python [default]",
   "language": "python",
   "name": "python2"
  },
  "language_info": {
   "codemirror_mode": {
    "name": "ipython",
    "version": 2
   },
   "file_extension": ".py",
   "mimetype": "text/x-python",
   "name": "python",
   "nbconvert_exporter": "python",
   "pygments_lexer": "ipython2",
   "version": "2.7.12"
  }
 },
 "nbformat": 4,
 "nbformat_minor": 1
}
