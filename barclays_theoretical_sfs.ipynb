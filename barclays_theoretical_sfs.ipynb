{
 "cells": [
  {
   "cell_type": "code",
   "execution_count": 37,
   "metadata": {},
   "outputs": [
    {
     "data": {
      "text/html": [
       "<style>.container { width:95% !important; }</style>"
      ],
      "text/plain": [
       "<IPython.core.display.HTML object>"
      ]
     },
     "metadata": {},
     "output_type": "display_data"
    },
    {
     "name": "stdout",
     "output_type": "stream",
     "text": [
      "3.6.5 |Anaconda custom (64-bit)| (default, Mar 29 2018, 13:32:41) [MSC v.1900 64 bit (AMD64)]\n"
     ]
    }
   ],
   "source": [
    "'''import all necessary libraries'''\n",
    "\n",
    "import cx_Oracle #import the oracle database libraries\n",
    "import pandas as pd #connect to the pandas libraries\n",
    "import numpy as np #import numpy\n",
    "import getpass #import the password libraries in order to keep database password concealed\n",
    "\n",
    "from IPython.core.display import display, HTML\n",
    "display(HTML(\"<style>.container { width:95% !important; }</style>\"))\n",
    "import sys\n",
    "print (sys.version)\n",
    "pd.options.display.float_format = '{:0.6f}'.format"
   ]
  },
  {
   "cell_type": "code",
   "execution_count": 38,
   "metadata": {},
   "outputs": [
    {
     "name": "stdin",
     "output_type": "stream",
     "text": [
      "please enter your username djohnson\n",
      "Enter your password:  ··········\n"
     ]
    },
    {
     "name": "stdout",
     "output_type": "stream",
     "text": [
      "12.1.0.2.0\n"
     ]
    }
   ],
   "source": [
    "'''connect to the oracle server used to pull down the \n",
    "currency and misuse of authorization information'''\n",
    "\n",
    "username=input(\"please enter your username\")\n",
    "password=getpass.getpass(\"Enter your password: \")\n",
    "\n",
    "con=cx_Oracle.connect(username,password,'ODSPEU1.ams') #enter database details\n",
    "print (con.version) # prnt the conversion details"
   ]
  },
  {
   "cell_type": "code",
   "execution_count": 39,
   "metadata": {},
   "outputs": [],
   "source": [
    "'''client names'''\n",
    "df_ic=pd.read_sql(\n",
    "''' \n",
    "select CP.CONTRACT_ID,CP.PRODUCT_CODE,CP.TRANSACTION_CURRENCY,CP.ICPLUS_TYPE,CP.PAYMENT_PROCESSOR\n",
    "from FDWO.CC_PROCESSING_DATA_PT cp\n",
    "where CP.PAYMENT_PROCESSOR='BARCLAYS'\n",
    "and CP.MATCH_DATE between to_date('1/1/2018','MM/DD/YYYY') and to_date('8/31/2018','MM/DD/YYYY')\n",
    "and CP.TRANSACTION_TYPE_SPECIFIC='TRANSACTION'\n",
    "group by CP.CONTRACT_ID,CP.PRODUCT_CODE,CP.TRANSACTION_CURRENCY,CP.ICPLUS_TYPE,cp.PAYMENT_PROCESSOR\n",
    "''', con)"
   ]
  },
  {
   "cell_type": "raw",
   "metadata": {},
   "source": [
    "'''run query from IEP database'''\n",
    "df1=pd.read_sql(\n",
    "''' \n",
    "select extract(month from CAST(BC.DATA_MONTH AS DATE)) AS MONTH\n",
    ",BC.GROUP_NUMBER,BC.CONTRACT_ID,MM.CLIENT_NAME,BC.TRANSACTION_CURRENCY_CODE,BC.BILLING_CURRENCY_CODE,BC.CREDIT___DEBIT,\n",
    "case when BC.STATEMENT_NARRATIVE like '%Credit%' then 'Credit'\n",
    "    when BC.STATEMENT_NARRATIVE like '%Debit%' then 'Debit'\n",
    "    when BC.STATEMENT_NARRATIVE like '%Maestro%' then 'Maestro'\n",
    "    when BC.STATEMENT_NARRATIVE like '%Prepaid%' then 'Prepaid'\n",
    "    when BC.STATEMENT_NARRATIVE like '%Vpay%' then 'Vpay'\n",
    "end as STATEMENT_NARRATIVE,\n",
    "case when BC.ISSUER_REGION_DESCRIPTION = 'INTRA-E' then 'Intra-Region'\n",
    "    when BC.ISSUER_REGION_DESCRIPTION = 'INTRA-W' then 'Intra-Region'\n",
    "    when BC.ISSUER_REGION_DESCRIPTION = 'INTRA' then 'Intra-Region'\n",
    "    when BC.ISSUER_REGION_DESCRIPTION = 'INTER' then 'Inter-Region'\n",
    "    when BC.ISSUER_REGION_DESCRIPTION = 'DOMESTIC' then 'Domestic'\n",
    "end as ISSUER_REGION_DESCRIPTION\n",
    ",BC.CARD_SCHEME_DESCRIPTION,MB.MERCHANT_COUNTRY\n",
    ",SUM(BC.NUMBER_OF_SALES) AS VOLUME,SUM(BC.FLOW_EUR_TYPE_SPECIFIC) AS FLOW_EUR\n",
    ",SUM(BC.SCHEME_FEE_EUR) AS SF_EUR\n",
    ",BC.PER_ITEM_RATE,BC.PER_ITEM_CHARGE,BC.PRODUCT_CODE\n",
    "from FDWO.ACQUIRER_BARCLAYS_COST_2017 bc\n",
    "left join FDWO.MB_ACQ_MID_BARCLAYS mb\n",
    "on BC.OUTLET_NUMBER=MB.OUTLET_NUMBER\n",
    "left join FDWO.MB_MERCHANTS mm\n",
    "on BC.CONTRACT_ID=MM.CONTRACT_ID\n",
    "where BC.COST_TYPE='SCHEME FEE'\n",
    "and BC.TRANSACTION_TYPE='TRANSACTION'\n",
    "and BC.VALUE_OF_SALES>0\n",
    "and BC.NUMBER_OF_REFUNDS=0\n",
    "group by BC.DATA_MONTH,BC.GROUP_NUMBER,BC.ISSUER_REGION_DESCRIPTION\n",
    ",BC.CARD_SCHEME_DESCRIPTION,MB.MERCHANT_COUNTRY,BC.STATEMENT_NARRATIVE\n",
    ",BC.CONTRACT_ID,BC.TRANSACTION_CURRENCY_CODE,BC.BILLING_CURRENCY_CODE\n",
    ",BC.PER_ITEM_RATE,BC.PER_ITEM_CHARGE,BC.PRODUCT_CODE,MM.CLIENT_NAME\n",
    ",BC.CREDIT___DEBIT\n",
    "''', con)"
   ]
  },
  {
   "cell_type": "code",
   "execution_count": 174,
   "metadata": {},
   "outputs": [],
   "source": [
    "columns=['MONTH','GROUP_NUMBER','CONTRACT_ID','CLIENT_NAME','TRANSACTION_CURRENCY_CODE'\n",
    "         ,'BILLING_CURRENCY_CODE','CREDIT___DEBIT','STATEMENT_NARRATIVE'\n",
    "         ,'ISSUER_REGION_DESCRIPTION','CARD_SCHEME_DESCRIPTION','MERCHANT_COUNTRY'\n",
    "         ,'VOLUME','FLOW_EUR','SF_EUR'\n",
    "         ,'PER_ITEM_RATE','PER_ITEM_CHARGE','PRODUCT_CODE']\n",
    "df1=pd.read_csv('d:\\\\djohnson\\\\Desktop\\\\barclays_theoretical_dataset.txt',encoding='ISO-8859-1',sep=';',skiprows=31,low_memory=False,names=columns)"
   ]
  },
  {
   "cell_type": "code",
   "execution_count": 175,
   "metadata": {},
   "outputs": [],
   "source": [
    "df2=pd.read_csv('G:\\\\Pricing\\\\Pricing Intelligence\\\\Market Changes\\\\Pricing Updates & Bulletins\\\\Scheme Fees\\\\Partners\\\\Barclays\\\\2018\\\\barclays_2018_fee_schedule_for_python.csv')\n",
    "iep=pd.read_csv('d:\\\\djohnson\\\\Desktop\\\\aib_theoreticals_desktop_ref\\\\aib_iep_theoreticals_V3.csv',encoding='ISO-8859-1')\n",
    "df_mc=pd.read_csv('d:\\\\djohnson\\\\Desktop\\\\aib_theoreticals_desktop_ref\\\\multicurrency.csv',encoding='ISO-8859-1')\n",
    "df_cntry=pd.read_csv('d:\\\\djohnson\\\\Desktop\\\\barclays_sf_analysis\\\\barclays_missing_countries.csv',encoding='ISO-8859-1')"
   ]
  },
  {
   "cell_type": "code",
   "execution_count": 176,
   "metadata": {},
   "outputs": [
    {
     "name": "stdout",
     "output_type": "stream",
     "text": [
      "<class 'pandas.core.frame.DataFrame'>\n",
      "RangeIndex: 44 entries, 0 to 43\n",
      "Data columns (total 2 columns):\n",
      "CONTRACT_ID    44 non-null int64\n",
      "COUNTRY        44 non-null object\n",
      "dtypes: int64(1), object(1)\n",
      "memory usage: 784.0+ bytes\n"
     ]
    }
   ],
   "source": [
    "df_cntry.info()"
   ]
  },
  {
   "cell_type": "code",
   "execution_count": 177,
   "metadata": {},
   "outputs": [
    {
     "name": "stdout",
     "output_type": "stream",
     "text": [
      "<class 'pandas.core.frame.DataFrame'>\n",
      "RangeIndex: 4011 entries, 0 to 4010\n",
      "Data columns (total 5 columns):\n",
      "CONTRACT_ID                  4011 non-null int64\n",
      "PRODUCT_CODE                 4011 non-null int64\n",
      "TRANSACTION_CURRENCY_CODE    4011 non-null object\n",
      "ICPLUS_TYPE                  4011 non-null object\n",
      "PAYMENT_PROCESSOR            4011 non-null object\n",
      "dtypes: int64(2), object(3)\n",
      "memory usage: 156.8+ KB\n"
     ]
    }
   ],
   "source": [
    "df_ic=df_ic.rename(columns={'TRANSACTION_CURRENCY':'TRANSACTION_CURRENCY_CODE'})\n",
    "df_ic.info()"
   ]
  },
  {
   "cell_type": "code",
   "execution_count": 178,
   "metadata": {},
   "outputs": [
    {
     "data": {
      "text/html": [
       "<div>\n",
       "<style scoped>\n",
       "    .dataframe tbody tr th:only-of-type {\n",
       "        vertical-align: middle;\n",
       "    }\n",
       "\n",
       "    .dataframe tbody tr th {\n",
       "        vertical-align: top;\n",
       "    }\n",
       "\n",
       "    .dataframe thead th {\n",
       "        text-align: right;\n",
       "    }\n",
       "</style>\n",
       "<table border=\"1\" class=\"dataframe\">\n",
       "  <thead>\n",
       "    <tr style=\"text-align: right;\">\n",
       "      <th></th>\n",
       "      <th>PERIOD</th>\n",
       "      <th>Concatenate</th>\n",
       "      <th>Country</th>\n",
       "      <th>Regionality</th>\n",
       "      <th>Product</th>\n",
       "      <th>Security Level</th>\n",
       "      <th>Fixed</th>\n",
       "      <th>Percent</th>\n",
       "    </tr>\n",
       "  </thead>\n",
       "  <tbody>\n",
       "    <tr>\n",
       "      <th>0</th>\n",
       "      <td>prejuly18</td>\n",
       "      <td>VisaDebitAustriaDomestic</td>\n",
       "      <td>Austria</td>\n",
       "      <td>Domestic</td>\n",
       "      <td>VisaDebit</td>\n",
       "      <td>Nonsecure</td>\n",
       "      <td>0.008200</td>\n",
       "      <td>0.000200</td>\n",
       "    </tr>\n",
       "    <tr>\n",
       "      <th>1</th>\n",
       "      <td>prejuly18</td>\n",
       "      <td>VisaDebitBelgiumDomestic</td>\n",
       "      <td>Belgium</td>\n",
       "      <td>Domestic</td>\n",
       "      <td>VisaDebit</td>\n",
       "      <td>Nonsecure</td>\n",
       "      <td>0.008200</td>\n",
       "      <td>0.000200</td>\n",
       "    </tr>\n",
       "    <tr>\n",
       "      <th>2</th>\n",
       "      <td>prejuly18</td>\n",
       "      <td>VisaDebitBulgariaDomestic</td>\n",
       "      <td>Bulgaria</td>\n",
       "      <td>Domestic</td>\n",
       "      <td>VisaDebit</td>\n",
       "      <td>Nonsecure</td>\n",
       "      <td>0.008200</td>\n",
       "      <td>0.000200</td>\n",
       "    </tr>\n",
       "    <tr>\n",
       "      <th>3</th>\n",
       "      <td>prejuly18</td>\n",
       "      <td>VisaDebitCroatiaDomestic</td>\n",
       "      <td>Croatia</td>\n",
       "      <td>Domestic</td>\n",
       "      <td>VisaDebit</td>\n",
       "      <td>Nonsecure</td>\n",
       "      <td>0.008200</td>\n",
       "      <td>0.000200</td>\n",
       "    </tr>\n",
       "    <tr>\n",
       "      <th>4</th>\n",
       "      <td>prejuly18</td>\n",
       "      <td>VisaDebitCyprusDomestic</td>\n",
       "      <td>Cyprus</td>\n",
       "      <td>Domestic</td>\n",
       "      <td>VisaDebit</td>\n",
       "      <td>Nonsecure</td>\n",
       "      <td>0.008200</td>\n",
       "      <td>0.000200</td>\n",
       "    </tr>\n",
       "  </tbody>\n",
       "</table>\n",
       "</div>"
      ],
      "text/plain": [
       "      PERIOD                Concatenate   Country Regionality    Product  \\\n",
       "0  prejuly18   VisaDebitAustriaDomestic   Austria    Domestic  VisaDebit   \n",
       "1  prejuly18   VisaDebitBelgiumDomestic   Belgium    Domestic  VisaDebit   \n",
       "2  prejuly18  VisaDebitBulgariaDomestic  Bulgaria    Domestic  VisaDebit   \n",
       "3  prejuly18   VisaDebitCroatiaDomestic   Croatia    Domestic  VisaDebit   \n",
       "4  prejuly18    VisaDebitCyprusDomestic    Cyprus    Domestic  VisaDebit   \n",
       "\n",
       "  Security Level    Fixed  Percent  \n",
       "0      Nonsecure 0.008200 0.000200  \n",
       "1      Nonsecure 0.008200 0.000200  \n",
       "2      Nonsecure 0.008200 0.000200  \n",
       "3      Nonsecure 0.008200 0.000200  \n",
       "4      Nonsecure 0.008200 0.000200  "
      ]
     },
     "execution_count": 178,
     "metadata": {},
     "output_type": "execute_result"
    }
   ],
   "source": [
    "iep.head()"
   ]
  },
  {
   "cell_type": "code",
   "execution_count": 179,
   "metadata": {},
   "outputs": [
    {
     "data": {
      "text/html": [
       "<div>\n",
       "<style scoped>\n",
       "    .dataframe tbody tr th:only-of-type {\n",
       "        vertical-align: middle;\n",
       "    }\n",
       "\n",
       "    .dataframe tbody tr th {\n",
       "        vertical-align: top;\n",
       "    }\n",
       "\n",
       "    .dataframe thead th {\n",
       "        text-align: right;\n",
       "    }\n",
       "</style>\n",
       "<table border=\"1\" class=\"dataframe\">\n",
       "  <thead>\n",
       "    <tr style=\"text-align: right;\">\n",
       "      <th></th>\n",
       "      <th>PERIOD</th>\n",
       "      <th>CHECK</th>\n",
       "      <th>GROUP_NUMBER</th>\n",
       "      <th>CREDIT___DEBIT</th>\n",
       "      <th>ISSUER_REGION_DESCRIPTION</th>\n",
       "      <th>SCHEDULE_REGION</th>\n",
       "      <th>CARD_SCHEME_DESCRIPTION</th>\n",
       "      <th>PERC_RATE</th>\n",
       "      <th>FIXED_RATE</th>\n",
       "    </tr>\n",
       "  </thead>\n",
       "  <tbody>\n",
       "    <tr>\n",
       "      <th>0</th>\n",
       "      <td>prejuly18</td>\n",
       "      <td>Y</td>\n",
       "      <td>8765</td>\n",
       "      <td>CR</td>\n",
       "      <td>Intra-Region</td>\n",
       "      <td>Intra-Region</td>\n",
       "      <td>Visa</td>\n",
       "      <td>0.000240</td>\n",
       "      <td>0.016790</td>\n",
       "    </tr>\n",
       "    <tr>\n",
       "      <th>1</th>\n",
       "      <td>prejuly18</td>\n",
       "      <td>Y</td>\n",
       "      <td>4446</td>\n",
       "      <td>CR</td>\n",
       "      <td>Intra-Region</td>\n",
       "      <td>Intra-Region</td>\n",
       "      <td>Visa</td>\n",
       "      <td>0.000240</td>\n",
       "      <td>0.016790</td>\n",
       "    </tr>\n",
       "    <tr>\n",
       "      <th>2</th>\n",
       "      <td>prejuly18</td>\n",
       "      <td>Y</td>\n",
       "      <td>4446</td>\n",
       "      <td>CR</td>\n",
       "      <td>Domestic</td>\n",
       "      <td>Domestic</td>\n",
       "      <td>Visa</td>\n",
       "      <td>0.000240</td>\n",
       "      <td>0.008200</td>\n",
       "    </tr>\n",
       "    <tr>\n",
       "      <th>3</th>\n",
       "      <td>prejuly18</td>\n",
       "      <td>Y</td>\n",
       "      <td>2417</td>\n",
       "      <td>CR</td>\n",
       "      <td>Domestic</td>\n",
       "      <td>Domestic</td>\n",
       "      <td>MasterCard</td>\n",
       "      <td>0.000250</td>\n",
       "      <td>0.003850</td>\n",
       "    </tr>\n",
       "    <tr>\n",
       "      <th>4</th>\n",
       "      <td>prejuly18</td>\n",
       "      <td>Y</td>\n",
       "      <td>7101</td>\n",
       "      <td>CR</td>\n",
       "      <td>Intra-Region</td>\n",
       "      <td>Intra-Region</td>\n",
       "      <td>Maestro</td>\n",
       "      <td>0.000417</td>\n",
       "      <td>0.004810</td>\n",
       "    </tr>\n",
       "  </tbody>\n",
       "</table>\n",
       "</div>"
      ],
      "text/plain": [
       "      PERIOD CHECK  GROUP_NUMBER CREDIT___DEBIT ISSUER_REGION_DESCRIPTION  \\\n",
       "0  prejuly18     Y          8765             CR              Intra-Region   \n",
       "1  prejuly18     Y          4446             CR              Intra-Region   \n",
       "2  prejuly18     Y          4446             CR                  Domestic   \n",
       "3  prejuly18     Y          2417             CR                  Domestic   \n",
       "4  prejuly18     Y          7101             CR              Intra-Region   \n",
       "\n",
       "  SCHEDULE_REGION CARD_SCHEME_DESCRIPTION  PERC_RATE  FIXED_RATE  \n",
       "0    Intra-Region                    Visa   0.000240    0.016790  \n",
       "1    Intra-Region                    Visa   0.000240    0.016790  \n",
       "2        Domestic                    Visa   0.000240    0.008200  \n",
       "3        Domestic              MasterCard   0.000250    0.003850  \n",
       "4    Intra-Region                 Maestro   0.000417    0.004810  "
      ]
     },
     "execution_count": 179,
     "metadata": {},
     "output_type": "execute_result"
    }
   ],
   "source": [
    "df2.head()"
   ]
  },
  {
   "cell_type": "code",
   "execution_count": 180,
   "metadata": {},
   "outputs": [],
   "source": [
    "df1_working=df1.copy()\n",
    "df2_working=df2[['GROUP_NUMBER','CREDIT___DEBIT','ISSUER_REGION_DESCRIPTION','CARD_SCHEME_DESCRIPTION','PERC_RATE','FIXED_RATE']].copy()"
   ]
  },
  {
   "cell_type": "code",
   "execution_count": 181,
   "metadata": {},
   "outputs": [
    {
     "data": {
      "text/plain": [
       "array(['Credit ', 'Debit  ', 'Maestro', 'Vpay   '], dtype=object)"
      ]
     },
     "execution_count": 181,
     "metadata": {},
     "output_type": "execute_result"
    }
   ],
   "source": [
    "df1_working.STATEMENT_NARRATIVE.unique()"
   ]
  },
  {
   "cell_type": "code",
   "execution_count": 182,
   "metadata": {},
   "outputs": [],
   "source": [
    "df1_working['CLIENT_NAME']=df1_working['CLIENT_NAME'].str.strip()\n",
    "df1_working['TRANSACTION_CURRENCY_CODE']=df1_working['TRANSACTION_CURRENCY_CODE'].str.strip()\n",
    "df1_working['BILLING_CURRENCY_CODE']=df1_working['BILLING_CURRENCY_CODE'].str.strip()\n",
    "df1_working['CREDIT___DEBIT']=df1_working['CREDIT___DEBIT'].str.strip()\n",
    "df1_working['STATEMENT_NARRATIVE']=df1_working['STATEMENT_NARRATIVE'].str.strip()\n",
    "df1_working['ISSUER_REGION_DESCRIPTION']=df1_working['ISSUER_REGION_DESCRIPTION'].str.strip()\n",
    "df1_working['CARD_SCHEME_DESCRIPTION']=df1_working['CARD_SCHEME_DESCRIPTION'].str.strip()\n",
    "df1_working['MERCHANT_COUNTRY']=df1_working['MERCHANT_COUNTRY'].str.strip()\n",
    "df1_working['CREDIT___DEBIT']=df1_working['CREDIT___DEBIT'].str.strip()\n",
    "df1_working['FLOW_EUR']=df1_working['FLOW_EUR'].str.strip()"
   ]
  },
  {
   "cell_type": "code",
   "execution_count": 183,
   "metadata": {},
   "outputs": [],
   "source": [
    "'''add in the missing countries merchant list'''\n",
    "df1_working=pd.merge(df1_working,df_cntry,on='CONTRACT_ID',how='left').copy()"
   ]
  },
  {
   "cell_type": "code",
   "execution_count": 184,
   "metadata": {},
   "outputs": [],
   "source": [
    "for x in range(0,len(df1_working['MONTH'])):\n",
    "    if df1_working.loc[x,'MERCHANT_COUNTRY']=='':\n",
    "        df1_working.loc[x,'MERCHANT_COUNTRY']=df1_working.loc[x,'COUNTRY']"
   ]
  },
  {
   "cell_type": "code",
   "execution_count": 185,
   "metadata": {},
   "outputs": [
    {
     "name": "stderr",
     "output_type": "stream",
     "text": [
      "C:\\Users\\djohnson\\new_python_version\\Local\\Continuum\\anaconda2\\envs\\py3k\\lib\\site-packages\\ipykernel_launcher.py:3: SettingWithCopyWarning: \n",
      "A value is trying to be set on a copy of a slice from a DataFrame\n",
      "\n",
      "See the caveats in the documentation: http://pandas.pydata.org/pandas-docs/stable/indexing.html#indexing-view-versus-copy\n",
      "  This is separate from the ipykernel package so we can avoid doing imports until\n",
      "C:\\Users\\djohnson\\new_python_version\\Local\\Continuum\\anaconda2\\envs\\py3k\\lib\\site-packages\\ipykernel_launcher.py:5: SettingWithCopyWarning: \n",
      "A value is trying to be set on a copy of a slice from a DataFrame\n",
      "\n",
      "See the caveats in the documentation: http://pandas.pydata.org/pandas-docs/stable/indexing.html#indexing-view-versus-copy\n",
      "  \"\"\"\n",
      "C:\\Users\\djohnson\\new_python_version\\Local\\Continuum\\anaconda2\\envs\\py3k\\lib\\site-packages\\ipykernel_launcher.py:6: SettingWithCopyWarning: \n",
      "A value is trying to be set on a copy of a slice from a DataFrame\n",
      "\n",
      "See the caveats in the documentation: http://pandas.pydata.org/pandas-docs/stable/indexing.html#indexing-view-versus-copy\n",
      "  \n",
      "C:\\Users\\djohnson\\new_python_version\\Local\\Continuum\\anaconda2\\envs\\py3k\\lib\\site-packages\\ipykernel_launcher.py:9: SettingWithCopyWarning: \n",
      "A value is trying to be set on a copy of a slice from a DataFrame\n",
      "\n",
      "See the caveats in the documentation: http://pandas.pydata.org/pandas-docs/stable/indexing.html#indexing-view-versus-copy\n",
      "  if __name__ == '__main__':\n",
      "C:\\Users\\djohnson\\new_python_version\\Local\\Continuum\\anaconda2\\envs\\py3k\\lib\\site-packages\\ipykernel_launcher.py:10: SettingWithCopyWarning: \n",
      "A value is trying to be set on a copy of a slice from a DataFrame\n",
      "\n",
      "See the caveats in the documentation: http://pandas.pydata.org/pandas-docs/stable/indexing.html#indexing-view-versus-copy\n",
      "  # Remove the CWD from sys.path while we load stuff.\n",
      "C:\\Users\\djohnson\\new_python_version\\Local\\Continuum\\anaconda2\\envs\\py3k\\lib\\site-packages\\ipykernel_launcher.py:11: SettingWithCopyWarning: \n",
      "A value is trying to be set on a copy of a slice from a DataFrame\n",
      "\n",
      "See the caveats in the documentation: http://pandas.pydata.org/pandas-docs/stable/indexing.html#indexing-view-versus-copy\n",
      "  # This is added back by InteractiveShellApp.init_path()\n",
      "C:\\Users\\djohnson\\new_python_version\\Local\\Continuum\\anaconda2\\envs\\py3k\\lib\\site-packages\\ipykernel_launcher.py:12: SettingWithCopyWarning: \n",
      "A value is trying to be set on a copy of a slice from a DataFrame\n",
      "\n",
      "See the caveats in the documentation: http://pandas.pydata.org/pandas-docs/stable/indexing.html#indexing-view-versus-copy\n",
      "  if sys.path[0] == '':\n",
      "C:\\Users\\djohnson\\new_python_version\\Local\\Continuum\\anaconda2\\envs\\py3k\\lib\\site-packages\\ipykernel_launcher.py:13: SettingWithCopyWarning: \n",
      "A value is trying to be set on a copy of a slice from a DataFrame\n",
      "\n",
      "See the caveats in the documentation: http://pandas.pydata.org/pandas-docs/stable/indexing.html#indexing-view-versus-copy\n",
      "  del sys.path[0]\n",
      "C:\\Users\\djohnson\\new_python_version\\Local\\Continuum\\anaconda2\\envs\\py3k\\lib\\site-packages\\ipykernel_launcher.py:14: SettingWithCopyWarning: \n",
      "A value is trying to be set on a copy of a slice from a DataFrame\n",
      "\n",
      "See the caveats in the documentation: http://pandas.pydata.org/pandas-docs/stable/indexing.html#indexing-view-versus-copy\n",
      "  \n",
      "C:\\Users\\djohnson\\new_python_version\\Local\\Continuum\\anaconda2\\envs\\py3k\\lib\\site-packages\\ipykernel_launcher.py:15: SettingWithCopyWarning: \n",
      "A value is trying to be set on a copy of a slice from a DataFrame\n",
      "\n",
      "See the caveats in the documentation: http://pandas.pydata.org/pandas-docs/stable/indexing.html#indexing-view-versus-copy\n",
      "  from ipykernel import kernelapp as app\n",
      "C:\\Users\\djohnson\\new_python_version\\Local\\Continuum\\anaconda2\\envs\\py3k\\lib\\site-packages\\ipykernel_launcher.py:16: SettingWithCopyWarning: \n",
      "A value is trying to be set on a copy of a slice from a DataFrame\n",
      "\n",
      "See the caveats in the documentation: http://pandas.pydata.org/pandas-docs/stable/indexing.html#indexing-view-versus-copy\n",
      "  app.launch_new_instance()\n",
      "C:\\Users\\djohnson\\new_python_version\\Local\\Continuum\\anaconda2\\envs\\py3k\\lib\\site-packages\\ipykernel_launcher.py:17: SettingWithCopyWarning: \n",
      "A value is trying to be set on a copy of a slice from a DataFrame\n",
      "\n",
      "See the caveats in the documentation: http://pandas.pydata.org/pandas-docs/stable/indexing.html#indexing-view-versus-copy\n",
      "C:\\Users\\djohnson\\new_python_version\\Local\\Continuum\\anaconda2\\envs\\py3k\\lib\\site-packages\\ipykernel_launcher.py:19: SettingWithCopyWarning: \n",
      "A value is trying to be set on a copy of a slice from a DataFrame\n",
      "\n",
      "See the caveats in the documentation: http://pandas.pydata.org/pandas-docs/stable/indexing.html#indexing-view-versus-copy\n",
      "C:\\Users\\djohnson\\new_python_version\\Local\\Continuum\\anaconda2\\envs\\py3k\\lib\\site-packages\\ipykernel_launcher.py:20: SettingWithCopyWarning: \n",
      "A value is trying to be set on a copy of a slice from a DataFrame\n",
      "\n",
      "See the caveats in the documentation: http://pandas.pydata.org/pandas-docs/stable/indexing.html#indexing-view-versus-copy\n",
      "C:\\Users\\djohnson\\new_python_version\\Local\\Continuum\\anaconda2\\envs\\py3k\\lib\\site-packages\\ipykernel_launcher.py:21: SettingWithCopyWarning: \n",
      "A value is trying to be set on a copy of a slice from a DataFrame\n",
      "\n",
      "See the caveats in the documentation: http://pandas.pydata.org/pandas-docs/stable/indexing.html#indexing-view-versus-copy\n",
      "C:\\Users\\djohnson\\new_python_version\\Local\\Continuum\\anaconda2\\envs\\py3k\\lib\\site-packages\\ipykernel_launcher.py:22: SettingWithCopyWarning: \n",
      "A value is trying to be set on a copy of a slice from a DataFrame\n",
      "\n",
      "See the caveats in the documentation: http://pandas.pydata.org/pandas-docs/stable/indexing.html#indexing-view-versus-copy\n",
      "C:\\Users\\djohnson\\new_python_version\\Local\\Continuum\\anaconda2\\envs\\py3k\\lib\\site-packages\\ipykernel_launcher.py:23: SettingWithCopyWarning: \n",
      "A value is trying to be set on a copy of a slice from a DataFrame\n",
      "\n",
      "See the caveats in the documentation: http://pandas.pydata.org/pandas-docs/stable/indexing.html#indexing-view-versus-copy\n",
      "C:\\Users\\djohnson\\new_python_version\\Local\\Continuum\\anaconda2\\envs\\py3k\\lib\\site-packages\\ipykernel_launcher.py:24: SettingWithCopyWarning: \n",
      "A value is trying to be set on a copy of a slice from a DataFrame\n",
      "\n",
      "See the caveats in the documentation: http://pandas.pydata.org/pandas-docs/stable/indexing.html#indexing-view-versus-copy\n",
      "C:\\Users\\djohnson\\new_python_version\\Local\\Continuum\\anaconda2\\envs\\py3k\\lib\\site-packages\\ipykernel_launcher.py:25: SettingWithCopyWarning: \n",
      "A value is trying to be set on a copy of a slice from a DataFrame\n",
      "\n",
      "See the caveats in the documentation: http://pandas.pydata.org/pandas-docs/stable/indexing.html#indexing-view-versus-copy\n",
      "C:\\Users\\djohnson\\new_python_version\\Local\\Continuum\\anaconda2\\envs\\py3k\\lib\\site-packages\\ipykernel_launcher.py:26: SettingWithCopyWarning: \n",
      "A value is trying to be set on a copy of a slice from a DataFrame\n",
      "\n",
      "See the caveats in the documentation: http://pandas.pydata.org/pandas-docs/stable/indexing.html#indexing-view-versus-copy\n",
      "C:\\Users\\djohnson\\new_python_version\\Local\\Continuum\\anaconda2\\envs\\py3k\\lib\\site-packages\\ipykernel_launcher.py:27: SettingWithCopyWarning: \n",
      "A value is trying to be set on a copy of a slice from a DataFrame\n",
      "\n",
      "See the caveats in the documentation: http://pandas.pydata.org/pandas-docs/stable/indexing.html#indexing-view-versus-copy\n"
     ]
    }
   ],
   "source": [
    "'''Adjust the regionality to ensure that certain countries are being assessed the correct scheme fees'''\n",
    "\n",
    "df1_working['MERCHANT_COUNTRY'][(df1_working['MERCHANT_COUNTRY']=='United Kingdom')]='UK'\n",
    "\n",
    "df1_working['MERCHANT_COUNTRY'][(df1_working['MERCHANT_COUNTRY']=='Russian Federation')&(df1_working['CARD_SCHEME_DESCRIPTION']=='MasterCard')]='Russia'\n",
    "df1_working['MERCHANT_COUNTRY'][(df1_working['MERCHANT_COUNTRY']=='Russian Federation')&(df1_working['CARD_SCHEME_DESCRIPTION']=='Maestro')]='Russia'\n",
    "\n",
    "df1_working['MERCHANT_COUNTRY_UPDATED_FROM:']=''\n",
    "df1_working['MERCHANT_COUNTRY_UPDATED_FROM:'][(df1_working['MERCHANT_COUNTRY']=='Gibraltar')]='Gibraltar'\n",
    "df1_working['MERCHANT_COUNTRY_UPDATED_FROM:'][(df1_working['MERCHANT_COUNTRY']=='Andorra')]='Andorra'\n",
    "df1_working['MERCHANT_COUNTRY_UPDATED_FROM:'][(df1_working['MERCHANT_COUNTRY']=='Panama')]='Panama'\n",
    "df1_working['MERCHANT_COUNTRY_UPDATED_FROM:'][(df1_working['MERCHANT_COUNTRY']=='Monaco')]='Monaco'\n",
    "df1_working['MERCHANT_COUNTRY_UPDATED_FROM:'][(df1_working['MERCHANT_COUNTRY']=='Australia')]='Australia'\n",
    "df1_working['MERCHANT_COUNTRY_UPDATED_FROM:'][(df1_working['MERCHANT_COUNTRY']=='New Zealand')]='New Zealand'\n",
    "df1_working['MERCHANT_COUNTRY_UPDATED_FROM:'][(df1_working['MERCHANT_COUNTRY']=='Singapore')]='Singapore'\n",
    "df1_working['MERCHANT_COUNTRY_UPDATED_FROM:'][(df1_working['MERCHANT_COUNTRY']=='Thailand')]='Thailand'\n",
    "df1_working['MERCHANT_COUNTRY_UPDATED_FROM:'][(df1_working['MERCHANT_COUNTRY']=='Malaysia')]='Malaysia'\n",
    "\n",
    "df1_working['MERCHANT_COUNTRY'][(df1_working['MERCHANT_COUNTRY']=='Gibraltar')]='UK'\n",
    "df1_working['MERCHANT_COUNTRY'][(df1_working['MERCHANT_COUNTRY']=='Andorra')]='France'\n",
    "df1_working['MERCHANT_COUNTRY'][(df1_working['MERCHANT_COUNTRY']=='Panama')]='Ireland'\n",
    "df1_working['MERCHANT_COUNTRY'][(df1_working['MERCHANT_COUNTRY']=='Monaco')]='France'\n",
    "df1_working['MERCHANT_COUNTRY'][(df1_working['MERCHANT_COUNTRY']=='Australia')]='Ireland'\n",
    "df1_working['MERCHANT_COUNTRY'][(df1_working['MERCHANT_COUNTRY']=='New Zealand')]='Ireland'\n",
    "df1_working['MERCHANT_COUNTRY'][(df1_working['MERCHANT_COUNTRY']=='Singapore')]='Ireland'\n",
    "df1_working['MERCHANT_COUNTRY'][(df1_working['MERCHANT_COUNTRY']=='Thailand')]='Ireland'\n",
    "df1_working['MERCHANT_COUNTRY'][(df1_working['MERCHANT_COUNTRY']=='Malaysia')]='Ireland'"
   ]
  },
  {
   "cell_type": "code",
   "execution_count": 186,
   "metadata": {},
   "outputs": [],
   "source": [
    "df1_working=pd.merge(df1_working,df_mc,on=['MERCHANT_COUNTRY'],how='left').copy()"
   ]
  },
  {
   "cell_type": "code",
   "execution_count": 187,
   "metadata": {},
   "outputs": [],
   "source": [
    "df1_working['GROUP_NUMBER']=df1_working['GROUP_NUMBER'].astype(float)\n",
    "df2_working['GROUP_NUMBER']=df2_working['GROUP_NUMBER'].astype(float)"
   ]
  },
  {
   "cell_type": "code",
   "execution_count": 188,
   "metadata": {},
   "outputs": [],
   "source": [
    "#df1_working.to_csv('d:\\\\djohnson\\\\desktop\\\\df1_working.csv')\n",
    "df1_working=df1_working[(df1_working['FLOW_EUR']!='')].copy()\n",
    "df1_working['FLOW_EUR']=df1_working['FLOW_EUR'].astype(float)\n",
    "df1_working=df1_working.reset_index(drop=True).copy()"
   ]
  },
  {
   "cell_type": "code",
   "execution_count": 189,
   "metadata": {},
   "outputs": [],
   "source": [
    "for x in range(0,len(df1_working)):\n",
    "    if 'Credit' in df1_working.loc[x,'STATEMENT_NARRATIVE']:\n",
    "        df1_working.loc[x,'CREDIT___DEBIT']='CR'\n",
    "    if 'Debit' in df1_working.loc[x,'STATEMENT_NARRATIVE']:\n",
    "        df1_working.loc[x,'CREDIT___DEBIT']='DR'\n",
    "    if 'Vpay' in df1_working.loc[x,'STATEMENT_NARRATIVE']:\n",
    "        df1_working.loc[x,'CREDIT___DEBIT']='CR'\n",
    "    if 'Maestro' in df1_working.loc[x,'STATEMENT_NARRATIVE']:\n",
    "        df1_working.loc[x,'CREDIT___DEBIT']='CR'"
   ]
  },
  {
   "cell_type": "code",
   "execution_count": 190,
   "metadata": {},
   "outputs": [
    {
     "data": {
      "text/html": [
       "<div>\n",
       "<style scoped>\n",
       "    .dataframe tbody tr th:only-of-type {\n",
       "        vertical-align: middle;\n",
       "    }\n",
       "\n",
       "    .dataframe tbody tr th {\n",
       "        vertical-align: top;\n",
       "    }\n",
       "\n",
       "    .dataframe thead th {\n",
       "        text-align: right;\n",
       "    }\n",
       "</style>\n",
       "<table border=\"1\" class=\"dataframe\">\n",
       "  <thead>\n",
       "    <tr style=\"text-align: right;\">\n",
       "      <th></th>\n",
       "      <th>MONTH</th>\n",
       "      <th>GROUP_NUMBER</th>\n",
       "      <th>CONTRACT_ID</th>\n",
       "      <th>CLIENT_NAME</th>\n",
       "      <th>TRANSACTION_CURRENCY_CODE</th>\n",
       "      <th>BILLING_CURRENCY_CODE</th>\n",
       "      <th>CREDIT___DEBIT</th>\n",
       "      <th>STATEMENT_NARRATIVE</th>\n",
       "      <th>ISSUER_REGION_DESCRIPTION</th>\n",
       "      <th>CARD_SCHEME_DESCRIPTION</th>\n",
       "      <th>MERCHANT_COUNTRY</th>\n",
       "      <th>VOLUME</th>\n",
       "      <th>FLOW_EUR</th>\n",
       "      <th>SF_EUR</th>\n",
       "      <th>PER_ITEM_RATE</th>\n",
       "      <th>PER_ITEM_CHARGE</th>\n",
       "      <th>PRODUCT_CODE</th>\n",
       "      <th>COUNTRY</th>\n",
       "      <th>MERCHANT_COUNTRY_UPDATED_FROM:</th>\n",
       "      <th>MULTI_CURRENCY_APPLICABLE</th>\n",
       "    </tr>\n",
       "  </thead>\n",
       "  <tbody>\n",
       "    <tr>\n",
       "      <th>0</th>\n",
       "      <td>10</td>\n",
       "      <td>7101.000000</td>\n",
       "      <td>1239</td>\n",
       "      <td>Barcelo</td>\n",
       "      <td>EUR</td>\n",
       "      <td>EUR</td>\n",
       "      <td>CR</td>\n",
       "      <td>Credit</td>\n",
       "      <td>Domestic</td>\n",
       "      <td>MasterCard</td>\n",
       "      <td>Spain</td>\n",
       "      <td>915</td>\n",
       "      <td>190403.460000</td>\n",
       "      <td>34.980000</td>\n",
       "      <td>0.004000</td>\n",
       "      <td>0.017000</td>\n",
       "      <td>100450.000000</td>\n",
       "      <td>Spain</td>\n",
       "      <td></td>\n",
       "      <td>Yes</td>\n",
       "    </tr>\n",
       "    <tr>\n",
       "      <th>1</th>\n",
       "      <td>10</td>\n",
       "      <td>7101.000000</td>\n",
       "      <td>1239</td>\n",
       "      <td>Barcelo</td>\n",
       "      <td>EUR</td>\n",
       "      <td>EUR</td>\n",
       "      <td>DR</td>\n",
       "      <td>Debit</td>\n",
       "      <td>Intra-Region</td>\n",
       "      <td>Visa</td>\n",
       "      <td>Spain</td>\n",
       "      <td>31</td>\n",
       "      <td>12916.490000</td>\n",
       "      <td>73.950000</td>\n",
       "      <td>0.052000</td>\n",
       "      <td>0.560000</td>\n",
       "      <td>100440.000000</td>\n",
       "      <td>Spain</td>\n",
       "      <td></td>\n",
       "      <td>Yes</td>\n",
       "    </tr>\n",
       "    <tr>\n",
       "      <th>2</th>\n",
       "      <td>10</td>\n",
       "      <td>7101.000000</td>\n",
       "      <td>1239</td>\n",
       "      <td>Barcelo</td>\n",
       "      <td>EUR</td>\n",
       "      <td>EUR</td>\n",
       "      <td>CR</td>\n",
       "      <td>Credit</td>\n",
       "      <td>Intra-Region</td>\n",
       "      <td>MasterCard</td>\n",
       "      <td>Spain</td>\n",
       "      <td>28</td>\n",
       "      <td>12639.110000</td>\n",
       "      <td>7.890000</td>\n",
       "      <td>0.004000</td>\n",
       "      <td>0.062000</td>\n",
       "      <td>100450.000000</td>\n",
       "      <td>Spain</td>\n",
       "      <td></td>\n",
       "      <td>Yes</td>\n",
       "    </tr>\n",
       "    <tr>\n",
       "      <th>3</th>\n",
       "      <td>10</td>\n",
       "      <td>7101.000000</td>\n",
       "      <td>1239</td>\n",
       "      <td>Barcelo</td>\n",
       "      <td>EUR</td>\n",
       "      <td>EUR</td>\n",
       "      <td>DR</td>\n",
       "      <td>Debit</td>\n",
       "      <td>Intra-Region</td>\n",
       "      <td>MasterCard</td>\n",
       "      <td>Spain</td>\n",
       "      <td>16</td>\n",
       "      <td>6211.620000</td>\n",
       "      <td>3.890000</td>\n",
       "      <td>0.004000</td>\n",
       "      <td>0.062000</td>\n",
       "      <td>100450.000000</td>\n",
       "      <td>Spain</td>\n",
       "      <td></td>\n",
       "      <td>Yes</td>\n",
       "    </tr>\n",
       "    <tr>\n",
       "      <th>4</th>\n",
       "      <td>10</td>\n",
       "      <td>7101.000000</td>\n",
       "      <td>1239</td>\n",
       "      <td>Barcelo</td>\n",
       "      <td>USD</td>\n",
       "      <td>EUR</td>\n",
       "      <td>CR</td>\n",
       "      <td>Credit</td>\n",
       "      <td>Intra-Region</td>\n",
       "      <td>Visa</td>\n",
       "      <td>Spain</td>\n",
       "      <td>1</td>\n",
       "      <td>525.559000</td>\n",
       "      <td>0.150000</td>\n",
       "      <td>0.004000</td>\n",
       "      <td>0.024000</td>\n",
       "      <td>100443.000000</td>\n",
       "      <td>Spain</td>\n",
       "      <td></td>\n",
       "      <td>Yes</td>\n",
       "    </tr>\n",
       "  </tbody>\n",
       "</table>\n",
       "</div>"
      ],
      "text/plain": [
       "   MONTH  GROUP_NUMBER  CONTRACT_ID CLIENT_NAME TRANSACTION_CURRENCY_CODE  \\\n",
       "0     10   7101.000000         1239     Barcelo                       EUR   \n",
       "1     10   7101.000000         1239     Barcelo                       EUR   \n",
       "2     10   7101.000000         1239     Barcelo                       EUR   \n",
       "3     10   7101.000000         1239     Barcelo                       EUR   \n",
       "4     10   7101.000000         1239     Barcelo                       USD   \n",
       "\n",
       "  BILLING_CURRENCY_CODE CREDIT___DEBIT STATEMENT_NARRATIVE  \\\n",
       "0                   EUR             CR              Credit   \n",
       "1                   EUR             DR               Debit   \n",
       "2                   EUR             CR              Credit   \n",
       "3                   EUR             DR               Debit   \n",
       "4                   EUR             CR              Credit   \n",
       "\n",
       "  ISSUER_REGION_DESCRIPTION CARD_SCHEME_DESCRIPTION MERCHANT_COUNTRY  VOLUME  \\\n",
       "0                  Domestic              MasterCard            Spain     915   \n",
       "1              Intra-Region                    Visa            Spain      31   \n",
       "2              Intra-Region              MasterCard            Spain      28   \n",
       "3              Intra-Region              MasterCard            Spain      16   \n",
       "4              Intra-Region                    Visa            Spain       1   \n",
       "\n",
       "       FLOW_EUR    SF_EUR  PER_ITEM_RATE  PER_ITEM_CHARGE  PRODUCT_CODE  \\\n",
       "0 190403.460000 34.980000       0.004000         0.017000 100450.000000   \n",
       "1  12916.490000 73.950000       0.052000         0.560000 100440.000000   \n",
       "2  12639.110000  7.890000       0.004000         0.062000 100450.000000   \n",
       "3   6211.620000  3.890000       0.004000         0.062000 100450.000000   \n",
       "4    525.559000  0.150000       0.004000         0.024000 100443.000000   \n",
       "\n",
       "  COUNTRY MERCHANT_COUNTRY_UPDATED_FROM: MULTI_CURRENCY_APPLICABLE  \n",
       "0   Spain                                                      Yes  \n",
       "1   Spain                                                      Yes  \n",
       "2   Spain                                                      Yes  \n",
       "3   Spain                                                      Yes  \n",
       "4   Spain                                                      Yes  "
      ]
     },
     "execution_count": 190,
     "metadata": {},
     "output_type": "execute_result"
    }
   ],
   "source": [
    "df1_working.head()"
   ]
  },
  {
   "cell_type": "code",
   "execution_count": 191,
   "metadata": {},
   "outputs": [
    {
     "data": {
      "text/html": [
       "<div>\n",
       "<style scoped>\n",
       "    .dataframe tbody tr th:only-of-type {\n",
       "        vertical-align: middle;\n",
       "    }\n",
       "\n",
       "    .dataframe tbody tr th {\n",
       "        vertical-align: top;\n",
       "    }\n",
       "\n",
       "    .dataframe thead th {\n",
       "        text-align: right;\n",
       "    }\n",
       "</style>\n",
       "<table border=\"1\" class=\"dataframe\">\n",
       "  <thead>\n",
       "    <tr style=\"text-align: right;\">\n",
       "      <th></th>\n",
       "      <th>GROUP_NUMBER</th>\n",
       "      <th>CREDIT___DEBIT</th>\n",
       "      <th>ISSUER_REGION_DESCRIPTION</th>\n",
       "      <th>CARD_SCHEME_DESCRIPTION</th>\n",
       "      <th>PERC_RATE</th>\n",
       "      <th>FIXED_RATE</th>\n",
       "    </tr>\n",
       "  </thead>\n",
       "  <tbody>\n",
       "    <tr>\n",
       "      <th>0</th>\n",
       "      <td>8765.000000</td>\n",
       "      <td>CR</td>\n",
       "      <td>Intra-Region</td>\n",
       "      <td>Visa</td>\n",
       "      <td>0.000240</td>\n",
       "      <td>0.016790</td>\n",
       "    </tr>\n",
       "    <tr>\n",
       "      <th>1</th>\n",
       "      <td>4446.000000</td>\n",
       "      <td>CR</td>\n",
       "      <td>Intra-Region</td>\n",
       "      <td>Visa</td>\n",
       "      <td>0.000240</td>\n",
       "      <td>0.016790</td>\n",
       "    </tr>\n",
       "    <tr>\n",
       "      <th>2</th>\n",
       "      <td>4446.000000</td>\n",
       "      <td>CR</td>\n",
       "      <td>Domestic</td>\n",
       "      <td>Visa</td>\n",
       "      <td>0.000240</td>\n",
       "      <td>0.008200</td>\n",
       "    </tr>\n",
       "    <tr>\n",
       "      <th>3</th>\n",
       "      <td>2417.000000</td>\n",
       "      <td>CR</td>\n",
       "      <td>Domestic</td>\n",
       "      <td>MasterCard</td>\n",
       "      <td>0.000250</td>\n",
       "      <td>0.003850</td>\n",
       "    </tr>\n",
       "    <tr>\n",
       "      <th>4</th>\n",
       "      <td>7101.000000</td>\n",
       "      <td>CR</td>\n",
       "      <td>Intra-Region</td>\n",
       "      <td>Maestro</td>\n",
       "      <td>0.000417</td>\n",
       "      <td>0.004810</td>\n",
       "    </tr>\n",
       "  </tbody>\n",
       "</table>\n",
       "</div>"
      ],
      "text/plain": [
       "   GROUP_NUMBER CREDIT___DEBIT ISSUER_REGION_DESCRIPTION  \\\n",
       "0   8765.000000             CR              Intra-Region   \n",
       "1   4446.000000             CR              Intra-Region   \n",
       "2   4446.000000             CR                  Domestic   \n",
       "3   2417.000000             CR                  Domestic   \n",
       "4   7101.000000             CR              Intra-Region   \n",
       "\n",
       "  CARD_SCHEME_DESCRIPTION  PERC_RATE  FIXED_RATE  \n",
       "0                    Visa   0.000240    0.016790  \n",
       "1                    Visa   0.000240    0.016790  \n",
       "2                    Visa   0.000240    0.008200  \n",
       "3              MasterCard   0.000250    0.003850  \n",
       "4                 Maestro   0.000417    0.004810  "
      ]
     },
     "execution_count": 191,
     "metadata": {},
     "output_type": "execute_result"
    }
   ],
   "source": [
    "df2_working.head()"
   ]
  },
  {
   "cell_type": "code",
   "execution_count": 192,
   "metadata": {},
   "outputs": [],
   "source": [
    "master_data_set=pd.merge(df1_working,df2_working,how='left',on=['GROUP_NUMBER','CREDIT___DEBIT','ISSUER_REGION_DESCRIPTION','CARD_SCHEME_DESCRIPTION'])"
   ]
  },
  {
   "cell_type": "raw",
   "metadata": {},
   "source": [
    "master_data_set['MERCHANT_COUNTRY'].head()"
   ]
  },
  {
   "cell_type": "code",
   "execution_count": 193,
   "metadata": {},
   "outputs": [
    {
     "name": "stderr",
     "output_type": "stream",
     "text": [
      "C:\\Users\\djohnson\\new_python_version\\Local\\Continuum\\anaconda2\\envs\\py3k\\lib\\site-packages\\ipykernel_launcher.py:3: SettingWithCopyWarning: \n",
      "A value is trying to be set on a copy of a slice from a DataFrame\n",
      "\n",
      "See the caveats in the documentation: http://pandas.pydata.org/pandas-docs/stable/indexing.html#indexing-view-versus-copy\n",
      "  This is separate from the ipykernel package so we can avoid doing imports until\n",
      "C:\\Users\\djohnson\\new_python_version\\Local\\Continuum\\anaconda2\\envs\\py3k\\lib\\site-packages\\ipykernel_launcher.py:4: SettingWithCopyWarning: \n",
      "A value is trying to be set on a copy of a slice from a DataFrame\n",
      "\n",
      "See the caveats in the documentation: http://pandas.pydata.org/pandas-docs/stable/indexing.html#indexing-view-versus-copy\n",
      "  after removing the cwd from sys.path.\n",
      "C:\\Users\\djohnson\\new_python_version\\Local\\Continuum\\anaconda2\\envs\\py3k\\lib\\site-packages\\ipykernel_launcher.py:6: SettingWithCopyWarning: \n",
      "A value is trying to be set on a copy of a slice from a DataFrame\n",
      "\n",
      "See the caveats in the documentation: http://pandas.pydata.org/pandas-docs/stable/indexing.html#indexing-view-versus-copy\n",
      "  \n",
      "C:\\Users\\djohnson\\new_python_version\\Local\\Continuum\\anaconda2\\envs\\py3k\\lib\\site-packages\\ipykernel_launcher.py:7: SettingWithCopyWarning: \n",
      "A value is trying to be set on a copy of a slice from a DataFrame\n",
      "\n",
      "See the caveats in the documentation: http://pandas.pydata.org/pandas-docs/stable/indexing.html#indexing-view-versus-copy\n",
      "  import sys\n",
      "C:\\Users\\djohnson\\new_python_version\\Local\\Continuum\\anaconda2\\envs\\py3k\\lib\\site-packages\\ipykernel_launcher.py:9: SettingWithCopyWarning: \n",
      "A value is trying to be set on a copy of a slice from a DataFrame\n",
      "\n",
      "See the caveats in the documentation: http://pandas.pydata.org/pandas-docs/stable/indexing.html#indexing-view-versus-copy\n",
      "  if __name__ == '__main__':\n",
      "C:\\Users\\djohnson\\new_python_version\\Local\\Continuum\\anaconda2\\envs\\py3k\\lib\\site-packages\\ipykernel_launcher.py:10: SettingWithCopyWarning: \n",
      "A value is trying to be set on a copy of a slice from a DataFrame\n",
      "\n",
      "See the caveats in the documentation: http://pandas.pydata.org/pandas-docs/stable/indexing.html#indexing-view-versus-copy\n",
      "  # Remove the CWD from sys.path while we load stuff.\n"
     ]
    }
   ],
   "source": [
    "master_data_set['MULTI_CURRENCY_FEE']=0\n",
    "\n",
    "master_data_set['MULTI_CURRENCY_FEE'][(master_data_set['MULTI_CURRENCY_APPLICABLE']=='Yes')&(master_data_set['CARD_SCHEME_DESCRIPTION']=='MasterCard')&(master_data_set['ISSUER_REGION_DESCRIPTION']=='Domestic')&(master_data_set['TRANSACTION_CURRENCY_CODE']!=master_data_set['BILLING_CURRENCY_CODE'])]=.0003\n",
    "master_data_set['MULTI_CURRENCY_FEE'][(master_data_set['MULTI_CURRENCY_APPLICABLE']=='Yes')&(master_data_set['CARD_SCHEME_DESCRIPTION']=='Maestro')&(master_data_set['ISSUER_REGION_DESCRIPTION']=='Domestic')&(master_data_set['TRANSACTION_CURRENCY_CODE']!=master_data_set['BILLING_CURRENCY_CODE'])]=.0003\n",
    "\n",
    "master_data_set['MULTI_CURRENCY_FEE'][(master_data_set['MULTI_CURRENCY_APPLICABLE']=='Yes')&(master_data_set['CARD_SCHEME_DESCRIPTION']=='MasterCard')&(master_data_set['ISSUER_REGION_DESCRIPTION']=='Intra-Region')&(master_data_set['TRANSACTION_CURRENCY_CODE']!=master_data_set['BILLING_CURRENCY_CODE'])]=.0003\n",
    "master_data_set['MULTI_CURRENCY_FEE'][(master_data_set['MULTI_CURRENCY_APPLICABLE']=='Yes')&(master_data_set['CARD_SCHEME_DESCRIPTION']=='Maestro')&(master_data_set['ISSUER_REGION_DESCRIPTION']=='Intra-Region')&(master_data_set['TRANSACTION_CURRENCY_CODE']!=master_data_set['BILLING_CURRENCY_CODE'])]=.0003\n",
    "\n",
    "master_data_set['MULTI_CURRENCY_FEE'][(master_data_set['MULTI_CURRENCY_APPLICABLE']=='Yes')&(master_data_set['CARD_SCHEME_DESCRIPTION']=='MasterCard')&(master_data_set['ISSUER_REGION_DESCRIPTION']=='Inter-Region')&(master_data_set['TRANSACTION_CURRENCY_CODE']!=master_data_set['BILLING_CURRENCY_CODE'])]=.0013\n",
    "master_data_set['MULTI_CURRENCY_FEE'][(master_data_set['MULTI_CURRENCY_APPLICABLE']=='Yes')&(master_data_set['CARD_SCHEME_DESCRIPTION']=='Maestro')&(master_data_set['ISSUER_REGION_DESCRIPTION']=='Inter-Region')&(master_data_set['TRANSACTION_CURRENCY_CODE']!=master_data_set['BILLING_CURRENCY_CODE'])]=.0013"
   ]
  },
  {
   "cell_type": "raw",
   "metadata": {},
   "source": [
    "master_data_set['MERCHANT_COUNTRY'].head()"
   ]
  },
  {
   "cell_type": "code",
   "execution_count": 194,
   "metadata": {},
   "outputs": [],
   "source": [
    "master_data_set['BARCLAYS_THEORETICAL_SF']=(master_data_set['FLOW_EUR']*master_data_set['PERC_RATE'])+(master_data_set['VOLUME']*master_data_set['FIXED_RATE'])"
   ]
  },
  {
   "cell_type": "code",
   "execution_count": 195,
   "metadata": {},
   "outputs": [],
   "source": [
    "master_data_set=pd.merge(master_data_set,df_ic,how='left',on=['CONTRACT_ID','TRANSACTION_CURRENCY_CODE','PRODUCT_CODE'])"
   ]
  },
  {
   "cell_type": "code",
   "execution_count": 196,
   "metadata": {},
   "outputs": [
    {
     "name": "stderr",
     "output_type": "stream",
     "text": [
      "C:\\Users\\djohnson\\new_python_version\\Local\\Continuum\\anaconda2\\envs\\py3k\\lib\\site-packages\\ipykernel_launcher.py:1: SettingWithCopyWarning: \n",
      "A value is trying to be set on a copy of a slice from a DataFrame\n",
      "\n",
      "See the caveats in the documentation: http://pandas.pydata.org/pandas-docs/stable/indexing.html#indexing-view-versus-copy\n",
      "  \"\"\"Entry point for launching an IPython kernel.\n"
     ]
    }
   ],
   "source": [
    "master_data_set['MULTI_CURRENCY_APPLICABLE'][(master_data_set['MULTI_CURRENCY_FEE']==0)]='No'"
   ]
  },
  {
   "cell_type": "raw",
   "metadata": {},
   "source": [
    "master_data_set['MERCHANT_COUNTRY'].head()"
   ]
  },
  {
   "cell_type": "code",
   "execution_count": 197,
   "metadata": {},
   "outputs": [],
   "source": [
    "master_data_set['Product']=''\n",
    "for x in range(0,len(master_data_set['Product'])):\n",
    "    if master_data_set.loc[x,'CREDIT___DEBIT']=='DR':\n",
    "        master_data_set.loc[x,'Product']=master_data_set.loc[x,'CARD_SCHEME_DESCRIPTION']+'Debit'\n",
    "    else:\n",
    "        master_data_set.loc[x,'Product']=master_data_set.loc[x,'CARD_SCHEME_DESCRIPTION']"
   ]
  },
  {
   "cell_type": "code",
   "execution_count": 198,
   "metadata": {},
   "outputs": [],
   "source": [
    "master_data_set['Concatenate']=master_data_set['Product']+master_data_set['MERCHANT_COUNTRY']+master_data_set['ISSUER_REGION_DESCRIPTION']"
   ]
  },
  {
   "cell_type": "raw",
   "metadata": {},
   "source": [
    "master_data_set['MERCHANT_COUNTRY'].head()"
   ]
  },
  {
   "cell_type": "code",
   "execution_count": 199,
   "metadata": {},
   "outputs": [],
   "source": [
    "'''build period of time which will be used to determine which fees will be applied'''\n",
    "master_data_set['PERIOD']=''\n",
    "for x in range(0,len(master_data_set['MONTH'])):\n",
    "    if master_data_set.loc[x,'MONTH']<7:\n",
    "        master_data_set.loc[x,'PERIOD']='prejuly18'\n",
    "    else:\n",
    "        master_data_set.loc[x,'PERIOD']='postjuly18'"
   ]
  },
  {
   "cell_type": "code",
   "execution_count": 200,
   "metadata": {},
   "outputs": [],
   "source": [
    "master_data_set['Security Level']='Nonsecure'"
   ]
  },
  {
   "cell_type": "code",
   "execution_count": 201,
   "metadata": {},
   "outputs": [],
   "source": [
    "master_data_set=pd.merge(master_data_set,iep,on=['Security Level','Concatenate','PERIOD'],how='left').copy()"
   ]
  },
  {
   "cell_type": "code",
   "execution_count": 202,
   "metadata": {},
   "outputs": [],
   "source": [
    "master_data_set['IEP_THEORETICAL_SF']=(master_data_set['FLOW_EUR']*master_data_set['Percent'])+(master_data_set['VOLUME']*master_data_set['Fixed'])+(master_data_set['MULTI_CURRENCY_FEE']*master_data_set['FLOW_EUR'])"
   ]
  },
  {
   "cell_type": "code",
   "execution_count": 203,
   "metadata": {},
   "outputs": [],
   "source": [
    "master_data_set=master_data_set.drop_duplicates().copy()"
   ]
  },
  {
   "cell_type": "code",
   "execution_count": 204,
   "metadata": {},
   "outputs": [],
   "source": [
    "master_data_set=master_data_set.rename(columns={\n",
    "    \"CREDIT___DEBIT\":\"Credit - Debit\",\n",
    "    \"Fixed\":\"IeP Fixed Rate\",\n",
    "    \"Percent\":\"IeP Percent Rate\",\n",
    "    \"IEP_THEORETICAL_SF\":\"IeP Theoretical SF\",\n",
    "    \"SF_EUR\":\"Barclays Actual Scheme Fees\",\n",
    "    \"PER_ITEM_RATE\":\"Barclays Actual Fixed Rate\",\n",
    "    \"PER_ITEM_CHARGE\":\"Barclays Actual Percent Rate\",\n",
    "    \"BARCLAYS_THEORETICAL_SF\":\"Barclays theoretical Scheme Fees\",\n",
    "    \"PERC_RATE\":\"Barclays theoretical Fixed Rate\",\n",
    "    \"FIXED_RATE\":\"Barclays theoretical Percent Rate\",\n",
    "    \"CARD_SCHEME_DESCRIPTION\":\"Card Scheme\",\n",
    "    \"MERCHANT_COUNTRY\":\"Merchant Country\"})"
   ]
  },
  {
   "cell_type": "raw",
   "metadata": {},
   "source": [
    "master_data_set['Merchant Country'].head()"
   ]
  },
  {
   "cell_type": "code",
   "execution_count": 205,
   "metadata": {},
   "outputs": [],
   "source": [
    "master_data_set=master_data_set.drop(['Product_y','COUNTRY'\n",
    "                                      ,'PAYMENT_PROCESSOR'\n",
    "                                      ,'Product_x','Concatenate'\n",
    "                                      ,'PERIOD','ISSUER_REGION_DESCRIPTION'],axis=1).copy()"
   ]
  },
  {
   "cell_type": "raw",
   "metadata": {},
   "source": [
    "master_data_set['Merchant Country'].head()"
   ]
  },
  {
   "cell_type": "code",
   "execution_count": 206,
   "metadata": {},
   "outputs": [],
   "source": [
    "master_data_set=master_data_set.reset_index(drop=True).copy()"
   ]
  },
  {
   "cell_type": "code",
   "execution_count": 207,
   "metadata": {},
   "outputs": [],
   "source": [
    "for x in range(0,len(master_data_set['Barclays Actual Percent Rate'])):\n",
    "    master_data_set.loc[x,'Barclays Actual Percent Rate']=master_data_set.loc[x,'Barclays Actual Percent Rate']/100"
   ]
  },
  {
   "cell_type": "code",
   "execution_count": 208,
   "metadata": {},
   "outputs": [],
   "source": [
    "master_data_set=master_data_set[(master_data_set['Merchant Country']!='United States')].copy()"
   ]
  },
  {
   "cell_type": "raw",
   "metadata": {},
   "source": [
    "master_data_set['Merchant Country'].head()"
   ]
  },
  {
   "cell_type": "code",
   "execution_count": 209,
   "metadata": {},
   "outputs": [],
   "source": [
    "master_data_set=master_data_set.reset_index(drop=True).copy()"
   ]
  },
  {
   "cell_type": "code",
   "execution_count": 210,
   "metadata": {},
   "outputs": [],
   "source": [
    "for x in range(0,len(master_data_set['ICPLUS_TYPE'])):\n",
    "    if master_data_set.loc[x,'ICPLUS_TYPE']=='-':\n",
    "        master_data_set.loc[x,'ICPLUS_TYPE']='Blended'"
   ]
  },
  {
   "cell_type": "raw",
   "metadata": {},
   "source": [
    "master_data_set['Merchant Country'].head()"
   ]
  },
  {
   "cell_type": "code",
   "execution_count": 212,
   "metadata": {},
   "outputs": [],
   "source": [
    "master_data_set.to_csv('d:\\\\djohnson\\\\Desktop\\\\barclays_sf_analysis\\\\barclays_sf_analysis.csv')"
   ]
  }
 ],
 "metadata": {
  "kernelspec": {
   "display_name": "Python 3",
   "language": "python",
   "name": "python3"
  },
  "language_info": {
   "codemirror_mode": {
    "name": "ipython",
    "version": 3
   },
   "file_extension": ".py",
   "mimetype": "text/x-python",
   "name": "python",
   "nbconvert_exporter": "python",
   "pygments_lexer": "ipython3",
   "version": "3.6.5"
  }
 },
 "nbformat": 4,
 "nbformat_minor": 2
}
