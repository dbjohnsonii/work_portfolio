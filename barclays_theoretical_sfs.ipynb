{
 "cells": [
  {
   "cell_type": "code",
   "execution_count": 25,
   "metadata": {},
   "outputs": [
    {
     "data": {
      "text/html": [
       "<style>.container { width:95% !important; }</style>"
      ],
      "text/plain": [
       "<IPython.core.display.HTML object>"
      ]
     },
     "metadata": {},
     "output_type": "display_data"
    },
    {
     "name": "stdout",
     "output_type": "stream",
     "text": [
      "3.6.5 |Anaconda custom (64-bit)| (default, Mar 29 2018, 13:32:41) [MSC v.1900 64 bit (AMD64)]\n"
     ]
    }
   ],
   "source": [
    "'''import all necessary libraries'''\n",
    "\n",
    "import cx_Oracle #import the oracle database libraries\n",
    "import pandas as pd #connect to the pandas libraries\n",
    "import numpy as np #import numpy\n",
    "import getpass #import the password libraries in order to keep database password concealed\n",
    "\n",
    "from IPython.core.display import display, HTML\n",
    "display(HTML(\"<style>.container { width:95% !important; }</style>\"))\n",
    "import sys\n",
    "print (sys.version)\n",
    "pd.options.display.float_format = '{:0.6f}'.format"
   ]
  },
  {
   "cell_type": "code",
   "execution_count": 2,
   "metadata": {},
   "outputs": [
    {
     "name": "stdin",
     "output_type": "stream",
     "text": [
      "please enter your username djohnson\n",
      "Enter your password:  ··········\n"
     ]
    },
    {
     "name": "stdout",
     "output_type": "stream",
     "text": [
      "12.1.0.2.0\n"
     ]
    }
   ],
   "source": [
    "'''connect to the oracle server used to pull down the \n",
    "currency and misuse of authorization information'''\n",
    "\n",
    "username=input(\"please enter your username\")\n",
    "password=getpass.getpass(\"Enter your password: \")\n",
    "\n",
    "con=cx_Oracle.connect(username,password,'ODSPEU1.ams') #enter database details\n",
    "print (con.version) # prnt the conversion details"
   ]
  },
  {
   "cell_type": "code",
   "execution_count": 3,
   "metadata": {},
   "outputs": [],
   "source": [
    "'''run query from IEP database'''\n",
    "\n",
    "df1=pd.read_sql(\n",
    "''' \n",
    "select BC.DATA_MONTH,BC.GROUP_NUMBER,BC.STATEMENT_NARRATIVE,BC.ISSUER_REGION_DESCRIPTION,BC.CREDIT___DEBIT,BC.CARD_SCHEME_DESCRIPTION\n",
    ",SUM(BC.NUMBER_OF_SALES) AS VOLUME,SUM(BC.FLOW_EUR_TYPE_SPECIFIC) AS FLOW_EUR,SUM(BC.SCHEME_FEE_EUR) AS SF_EUR\n",
    "from FDWO.ACQUIRER_BARCLAYS_COST_2017 bc\n",
    "where BC.COST_TYPE='SCHEME FEE'\n",
    "and BC.TRANSACTION_TYPE='TRANSACTION'\n",
    "and BC.VALUE_OF_SALES>0\n",
    "group by BC.DATA_MONTH,BC.GROUP_NUMBER,BC.STATEMENT_NARRATIVE,BC.ISSUER_REGION_DESCRIPTION,BC.CREDIT___DEBIT,BC.CARD_SCHEME_DESCRIPTION\n",
    "''', con)"
   ]
  },
  {
   "cell_type": "code",
   "execution_count": 14,
   "metadata": {},
   "outputs": [],
   "source": [
    "df2=pd.read_csv('G:\\\\Pricing\\\\Pricing Intelligence\\\\Market Changes\\\\Pricing Updates & Bulletins\\\\Scheme Fees\\\\Partners\\\\Barclays\\\\2018\\\\barclays_2018_fee_schedule_for_python.csv')"
   ]
  },
  {
   "cell_type": "code",
   "execution_count": 15,
   "metadata": {},
   "outputs": [],
   "source": [
    "df1_working=df1.copy()\n",
    "df2_working=df2[['GROUP_NUMBER','CREDIT___DEBIT','ISSUER_REGION_DESCRIPTION','CARD_SCHEME_DESCRIPTION','PERC_RATE','FIXED_RATE']].copy()"
   ]
  },
  {
   "cell_type": "code",
   "execution_count": 16,
   "metadata": {},
   "outputs": [
    {
     "data": {
      "text/plain": [
       "array(['Scheme Fee Intra Maestro', 'Scheme Fee Intra VISA Credit',\n",
       "       'Scheme Fee Inter MC Debit', 'Scheme Fee Intra MC Credit',\n",
       "       'Scheme Fee Intra VISA Debit', 'Scheme Fee Intra VISA Vpay',\n",
       "       'Scheme Fee Domestic VISA Credit', 'Scheme Fee Inter VISA Debit',\n",
       "       'Scheme Fee Intra MC Debit', 'Scheme Fee Domestic MC Credit',\n",
       "       'Scheme Fee Inter MC Credit', 'Scheme Fee Inter VISA Credit',\n",
       "       'Scheme Fee Domestic Maestro', 'Scheme Fee Domestic VISA Debit',\n",
       "       'Scheme Fee Domestic VISA Vpay', 'Scheme Fee Domestic MC Debit',\n",
       "       'Scheme Fee Inter Maestro'], dtype=object)"
      ]
     },
     "execution_count": 16,
     "metadata": {},
     "output_type": "execute_result"
    }
   ],
   "source": [
    "df1_working.STATEMENT_NARRATIVE.unique()"
   ]
  },
  {
   "cell_type": "code",
   "execution_count": 17,
   "metadata": {},
   "outputs": [],
   "source": [
    "df1_working['GROUP_NUMBER']=df1_working['GROUP_NUMBER'].astype(float)\n",
    "df2_working['GROUP_NUMBER']=df2_working['GROUP_NUMBER'].astype(float)"
   ]
  },
  {
   "cell_type": "code",
   "execution_count": 18,
   "metadata": {},
   "outputs": [],
   "source": [
    "for x in range(0,len(df1_working)):\n",
    "    if 'VISA Credit' in df1_working.loc[x,'STATEMENT_NARRATIVE']:\n",
    "        df1_working.loc[x,'CREDIT___DEBIT']='CR'\n",
    "    if 'MC Credit' in df1.loc[x,'STATEMENT_NARRATIVE']:\n",
    "        df1_working.loc[x,'CREDIT___DEBIT']='CR'"
   ]
  },
  {
   "cell_type": "code",
   "execution_count": 19,
   "metadata": {},
   "outputs": [
    {
     "name": "stdout",
     "output_type": "stream",
     "text": [
      "<class 'pandas.core.frame.DataFrame'>\n",
      "RangeIndex: 975 entries, 0 to 974\n",
      "Data columns (total 9 columns):\n",
      "DATA_MONTH                   975 non-null datetime64[ns]\n",
      "GROUP_NUMBER                 975 non-null float64\n",
      "STATEMENT_NARRATIVE          975 non-null object\n",
      "ISSUER_REGION_DESCRIPTION    975 non-null object\n",
      "CREDIT___DEBIT               975 non-null object\n",
      "CARD_SCHEME_DESCRIPTION      975 non-null object\n",
      "VOLUME                       975 non-null int64\n",
      "FLOW_EUR                     975 non-null float64\n",
      "SF_EUR                       975 non-null float64\n",
      "dtypes: datetime64[ns](1), float64(3), int64(1), object(4)\n",
      "memory usage: 68.6+ KB\n"
     ]
    }
   ],
   "source": [
    "df1_working.info()"
   ]
  },
  {
   "cell_type": "code",
   "execution_count": 20,
   "metadata": {},
   "outputs": [
    {
     "name": "stdout",
     "output_type": "stream",
     "text": [
      "<class 'pandas.core.frame.DataFrame'>\n",
      "RangeIndex: 152 entries, 0 to 151\n",
      "Data columns (total 6 columns):\n",
      "GROUP_NUMBER                 152 non-null float64\n",
      "CREDIT___DEBIT               152 non-null object\n",
      "ISSUER_REGION_DESCRIPTION    152 non-null object\n",
      "CARD_SCHEME_DESCRIPTION      152 non-null object\n",
      "PERC_RATE                    112 non-null float64\n",
      "FIXED_RATE                   112 non-null float64\n",
      "dtypes: float64(3), object(3)\n",
      "memory usage: 7.2+ KB\n"
     ]
    }
   ],
   "source": [
    "df2_working.info()"
   ]
  },
  {
   "cell_type": "code",
   "execution_count": 21,
   "metadata": {},
   "outputs": [],
   "source": [
    "master_data_set=pd.merge(df1_working,df2_working,how='left',on=['GROUP_NUMBER','CREDIT___DEBIT','ISSUER_REGION_DESCRIPTION','CARD_SCHEME_DESCRIPTION'])"
   ]
  },
  {
   "cell_type": "code",
   "execution_count": 26,
   "metadata": {},
   "outputs": [
    {
     "data": {
      "text/html": [
       "<div>\n",
       "<style scoped>\n",
       "    .dataframe tbody tr th:only-of-type {\n",
       "        vertical-align: middle;\n",
       "    }\n",
       "\n",
       "    .dataframe tbody tr th {\n",
       "        vertical-align: top;\n",
       "    }\n",
       "\n",
       "    .dataframe thead th {\n",
       "        text-align: right;\n",
       "    }\n",
       "</style>\n",
       "<table border=\"1\" class=\"dataframe\">\n",
       "  <thead>\n",
       "    <tr style=\"text-align: right;\">\n",
       "      <th></th>\n",
       "      <th>DATA_MONTH</th>\n",
       "      <th>GROUP_NUMBER</th>\n",
       "      <th>STATEMENT_NARRATIVE</th>\n",
       "      <th>ISSUER_REGION_DESCRIPTION</th>\n",
       "      <th>CREDIT___DEBIT</th>\n",
       "      <th>CARD_SCHEME_DESCRIPTION</th>\n",
       "      <th>VOLUME</th>\n",
       "      <th>FLOW_EUR</th>\n",
       "      <th>SF_EUR</th>\n",
       "      <th>PERC_RATE</th>\n",
       "      <th>FIXED_RATE</th>\n",
       "      <th>THEORETICAL_SF</th>\n",
       "    </tr>\n",
       "  </thead>\n",
       "  <tbody>\n",
       "    <tr>\n",
       "      <th>0</th>\n",
       "      <td>2017-10-01</td>\n",
       "      <td>8765.000000</td>\n",
       "      <td>Scheme Fee Intra Maestro</td>\n",
       "      <td>INTRA</td>\n",
       "      <td>DR</td>\n",
       "      <td>MasterCard</td>\n",
       "      <td>87</td>\n",
       "      <td>609.499600</td>\n",
       "      <td>4.900000</td>\n",
       "      <td>0.000470</td>\n",
       "      <td>0.002080</td>\n",
       "      <td>0.467425</td>\n",
       "    </tr>\n",
       "    <tr>\n",
       "      <th>1</th>\n",
       "      <td>2017-10-01</td>\n",
       "      <td>8765.000000</td>\n",
       "      <td>Scheme Fee Intra VISA Credit</td>\n",
       "      <td>INTRA</td>\n",
       "      <td>CR</td>\n",
       "      <td>Visa</td>\n",
       "      <td>43796</td>\n",
       "      <td>703577.992300</td>\n",
       "      <td>337.710000</td>\n",
       "      <td>0.000240</td>\n",
       "      <td>0.016790</td>\n",
       "      <td>904.193558</td>\n",
       "    </tr>\n",
       "    <tr>\n",
       "      <th>2</th>\n",
       "      <td>2017-10-01</td>\n",
       "      <td>8765.000000</td>\n",
       "      <td>Scheme Fee Inter MC Debit</td>\n",
       "      <td>INTRA</td>\n",
       "      <td>DR</td>\n",
       "      <td>MasterCard</td>\n",
       "      <td>39</td>\n",
       "      <td>758.928800</td>\n",
       "      <td>8.690000</td>\n",
       "      <td>0.000470</td>\n",
       "      <td>0.002080</td>\n",
       "      <td>0.437817</td>\n",
       "    </tr>\n",
       "    <tr>\n",
       "      <th>3</th>\n",
       "      <td>2017-10-01</td>\n",
       "      <td>8765.000000</td>\n",
       "      <td>Scheme Fee Intra MC Credit</td>\n",
       "      <td>INTRA</td>\n",
       "      <td>CR</td>\n",
       "      <td>MasterCard</td>\n",
       "      <td>495172</td>\n",
       "      <td>1772035.739500</td>\n",
       "      <td>59115.700000</td>\n",
       "      <td>0.000470</td>\n",
       "      <td>0.002080</td>\n",
       "      <td>1862.814558</td>\n",
       "    </tr>\n",
       "    <tr>\n",
       "      <th>4</th>\n",
       "      <td>2017-10-01</td>\n",
       "      <td>8765.000000</td>\n",
       "      <td>Scheme Fee Intra VISA Debit</td>\n",
       "      <td>INTRA-E</td>\n",
       "      <td>DR</td>\n",
       "      <td>Visa</td>\n",
       "      <td>4612</td>\n",
       "      <td>47287.144600</td>\n",
       "      <td>27.640000</td>\n",
       "      <td>0.000200</td>\n",
       "      <td>0.016790</td>\n",
       "      <td>86.892909</td>\n",
       "    </tr>\n",
       "  </tbody>\n",
       "</table>\n",
       "</div>"
      ],
      "text/plain": [
       "  DATA_MONTH  GROUP_NUMBER           STATEMENT_NARRATIVE  \\\n",
       "0 2017-10-01   8765.000000      Scheme Fee Intra Maestro   \n",
       "1 2017-10-01   8765.000000  Scheme Fee Intra VISA Credit   \n",
       "2 2017-10-01   8765.000000     Scheme Fee Inter MC Debit   \n",
       "3 2017-10-01   8765.000000    Scheme Fee Intra MC Credit   \n",
       "4 2017-10-01   8765.000000   Scheme Fee Intra VISA Debit   \n",
       "\n",
       "  ISSUER_REGION_DESCRIPTION CREDIT___DEBIT CARD_SCHEME_DESCRIPTION  VOLUME  \\\n",
       "0                     INTRA             DR              MasterCard      87   \n",
       "1                     INTRA             CR                    Visa   43796   \n",
       "2                     INTRA             DR              MasterCard      39   \n",
       "3                     INTRA             CR              MasterCard  495172   \n",
       "4                   INTRA-E             DR                    Visa    4612   \n",
       "\n",
       "        FLOW_EUR       SF_EUR  PERC_RATE  FIXED_RATE  THEORETICAL_SF  \n",
       "0     609.499600     4.900000   0.000470    0.002080        0.467425  \n",
       "1  703577.992300   337.710000   0.000240    0.016790      904.193558  \n",
       "2     758.928800     8.690000   0.000470    0.002080        0.437817  \n",
       "3 1772035.739500 59115.700000   0.000470    0.002080     1862.814558  \n",
       "4   47287.144600    27.640000   0.000200    0.016790       86.892909  "
      ]
     },
     "execution_count": 26,
     "metadata": {},
     "output_type": "execute_result"
    }
   ],
   "source": [
    "master_data_set.head()"
   ]
  },
  {
   "cell_type": "code",
   "execution_count": 23,
   "metadata": {},
   "outputs": [],
   "source": [
    "master_data_set['THEORETICAL_SF']=(master_data_set['FLOW_EUR']*master_data_set['PERC_RATE'])+(master_data_set['VOLUME']*master_data_set['FIXED_RATE'])"
   ]
  },
  {
   "cell_type": "code",
   "execution_count": 29,
   "metadata": {},
   "outputs": [
    {
     "data": {
      "text/html": [
       "<div>\n",
       "<style scoped>\n",
       "    .dataframe tbody tr th:only-of-type {\n",
       "        vertical-align: middle;\n",
       "    }\n",
       "\n",
       "    .dataframe tbody tr th {\n",
       "        vertical-align: top;\n",
       "    }\n",
       "\n",
       "    .dataframe thead th {\n",
       "        text-align: right;\n",
       "    }\n",
       "</style>\n",
       "<table border=\"1\" class=\"dataframe\">\n",
       "  <thead>\n",
       "    <tr style=\"text-align: right;\">\n",
       "      <th></th>\n",
       "      <th>DATA_MONTH</th>\n",
       "      <th>GROUP_NUMBER</th>\n",
       "      <th>STATEMENT_NARRATIVE</th>\n",
       "      <th>ISSUER_REGION_DESCRIPTION</th>\n",
       "      <th>CREDIT___DEBIT</th>\n",
       "      <th>CARD_SCHEME_DESCRIPTION</th>\n",
       "      <th>VOLUME</th>\n",
       "      <th>FLOW_EUR</th>\n",
       "      <th>SF_EUR</th>\n",
       "      <th>PERC_RATE</th>\n",
       "      <th>FIXED_RATE</th>\n",
       "      <th>THEORETICAL_SF</th>\n",
       "    </tr>\n",
       "  </thead>\n",
       "  <tbody>\n",
       "    <tr>\n",
       "      <th>0</th>\n",
       "      <td>2017-10-01</td>\n",
       "      <td>8765.000000</td>\n",
       "      <td>Scheme Fee Intra Maestro</td>\n",
       "      <td>INTRA</td>\n",
       "      <td>DR</td>\n",
       "      <td>MasterCard</td>\n",
       "      <td>87</td>\n",
       "      <td>609.499600</td>\n",
       "      <td>4.900000</td>\n",
       "      <td>0.000470</td>\n",
       "      <td>0.002080</td>\n",
       "      <td>0.467425</td>\n",
       "    </tr>\n",
       "    <tr>\n",
       "      <th>1</th>\n",
       "      <td>2017-10-01</td>\n",
       "      <td>8765.000000</td>\n",
       "      <td>Scheme Fee Intra VISA Credit</td>\n",
       "      <td>INTRA</td>\n",
       "      <td>CR</td>\n",
       "      <td>Visa</td>\n",
       "      <td>43796</td>\n",
       "      <td>703577.992300</td>\n",
       "      <td>337.710000</td>\n",
       "      <td>0.000240</td>\n",
       "      <td>0.016790</td>\n",
       "      <td>904.193558</td>\n",
       "    </tr>\n",
       "    <tr>\n",
       "      <th>2</th>\n",
       "      <td>2017-10-01</td>\n",
       "      <td>8765.000000</td>\n",
       "      <td>Scheme Fee Inter MC Debit</td>\n",
       "      <td>INTRA</td>\n",
       "      <td>DR</td>\n",
       "      <td>MasterCard</td>\n",
       "      <td>39</td>\n",
       "      <td>758.928800</td>\n",
       "      <td>8.690000</td>\n",
       "      <td>0.000470</td>\n",
       "      <td>0.002080</td>\n",
       "      <td>0.437817</td>\n",
       "    </tr>\n",
       "    <tr>\n",
       "      <th>3</th>\n",
       "      <td>2017-10-01</td>\n",
       "      <td>8765.000000</td>\n",
       "      <td>Scheme Fee Intra MC Credit</td>\n",
       "      <td>INTRA</td>\n",
       "      <td>CR</td>\n",
       "      <td>MasterCard</td>\n",
       "      <td>495172</td>\n",
       "      <td>1772035.739500</td>\n",
       "      <td>59115.700000</td>\n",
       "      <td>0.000470</td>\n",
       "      <td>0.002080</td>\n",
       "      <td>1862.814558</td>\n",
       "    </tr>\n",
       "    <tr>\n",
       "      <th>4</th>\n",
       "      <td>2017-10-01</td>\n",
       "      <td>8765.000000</td>\n",
       "      <td>Scheme Fee Intra VISA Debit</td>\n",
       "      <td>INTRA-E</td>\n",
       "      <td>DR</td>\n",
       "      <td>Visa</td>\n",
       "      <td>4612</td>\n",
       "      <td>47287.144600</td>\n",
       "      <td>27.640000</td>\n",
       "      <td>0.000200</td>\n",
       "      <td>0.016790</td>\n",
       "      <td>86.892909</td>\n",
       "    </tr>\n",
       "  </tbody>\n",
       "</table>\n",
       "</div>"
      ],
      "text/plain": [
       "  DATA_MONTH  GROUP_NUMBER           STATEMENT_NARRATIVE  \\\n",
       "0 2017-10-01   8765.000000      Scheme Fee Intra Maestro   \n",
       "1 2017-10-01   8765.000000  Scheme Fee Intra VISA Credit   \n",
       "2 2017-10-01   8765.000000     Scheme Fee Inter MC Debit   \n",
       "3 2017-10-01   8765.000000    Scheme Fee Intra MC Credit   \n",
       "4 2017-10-01   8765.000000   Scheme Fee Intra VISA Debit   \n",
       "\n",
       "  ISSUER_REGION_DESCRIPTION CREDIT___DEBIT CARD_SCHEME_DESCRIPTION  VOLUME  \\\n",
       "0                     INTRA             DR              MasterCard      87   \n",
       "1                     INTRA             CR                    Visa   43796   \n",
       "2                     INTRA             DR              MasterCard      39   \n",
       "3                     INTRA             CR              MasterCard  495172   \n",
       "4                   INTRA-E             DR                    Visa    4612   \n",
       "\n",
       "        FLOW_EUR       SF_EUR  PERC_RATE  FIXED_RATE  THEORETICAL_SF  \n",
       "0     609.499600     4.900000   0.000470    0.002080        0.467425  \n",
       "1  703577.992300   337.710000   0.000240    0.016790      904.193558  \n",
       "2     758.928800     8.690000   0.000470    0.002080        0.437817  \n",
       "3 1772035.739500 59115.700000   0.000470    0.002080     1862.814558  \n",
       "4   47287.144600    27.640000   0.000200    0.016790       86.892909  "
      ]
     },
     "execution_count": 29,
     "metadata": {},
     "output_type": "execute_result"
    }
   ],
   "source": [
    "master_data_set.head()"
   ]
  },
  {
   "cell_type": "code",
   "execution_count": 31,
   "metadata": {},
   "outputs": [],
   "source": [
    "master_data_set.to_csv('d:\\\\djohnson\\\\Desktop\\\\barclays_sf_analysis\\\\barclays_sf_analysis.csv')"
   ]
  }
 ],
 "metadata": {
  "kernelspec": {
   "display_name": "Python 3",
   "language": "python",
   "name": "python3"
  },
  "language_info": {
   "codemirror_mode": {
    "name": "ipython",
    "version": 3
   },
   "file_extension": ".py",
   "mimetype": "text/x-python",
   "name": "python",
   "nbconvert_exporter": "python",
   "pygments_lexer": "ipython3",
   "version": "3.6.5"
  }
 },
 "nbformat": 4,
 "nbformat_minor": 2
}
