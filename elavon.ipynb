{
 "cells": [
  {
   "cell_type": "code",
   "execution_count": 1,
   "metadata": {},
   "outputs": [
    {
     "data": {
      "text/html": [
       "<style>.container { width:95% !important; }</style>"
      ],
      "text/plain": [
       "<IPython.core.display.HTML object>"
      ]
     },
     "metadata": {},
     "output_type": "display_data"
    },
    {
     "name": "stdout",
     "output_type": "stream",
     "text": [
      "3.6.5 |Anaconda custom (64-bit)| (default, Mar 29 2018, 13:32:41) [MSC v.1900 64 bit (AMD64)]\n"
     ]
    }
   ],
   "source": [
    "'''import all necessary libraries'''\n",
    "\n",
    "import cx_Oracle #import the oracle database libraries\n",
    "import pandas as pd #connect to the pandas libraries\n",
    "import numpy as np #import numpy\n",
    "import getpass #import the password libraries in order to keep database password concealed\n",
    "\n",
    "from IPython.core.display import display, HTML\n",
    "display(HTML(\"<style>.container { width:95% !important; }</style>\"))\n",
    "import sys\n",
    "print (sys.version)\n",
    "pd.options.display.float_format = '{:0.6f}'.format"
   ]
  },
  {
   "cell_type": "code",
   "execution_count": 331,
   "metadata": {},
   "outputs": [
    {
     "name": "stdin",
     "output_type": "stream",
     "text": [
      "please enter your username djohnson\n",
      "Enter your password:  ··········\n"
     ]
    },
    {
     "name": "stdout",
     "output_type": "stream",
     "text": [
      "12.1.0.2.0\n"
     ]
    }
   ],
   "source": [
    "'''connect to the oracle server used to pull down the \n",
    "currency and misuse of authorization information'''\n",
    "\n",
    "username=input(\"please enter your username\")\n",
    "password=getpass.getpass(\"Enter your password: \")\n",
    "\n",
    "con=cx_Oracle.connect(username,password,'ODSPEU1.ams') #enter database details\n",
    "print (con.version) # prnt the conversion details"
   ]
  },
  {
   "cell_type": "code",
   "execution_count": 3,
   "metadata": {},
   "outputs": [],
   "source": [
    "df=pd.read_sql(\n",
    "''' \n",
    "select extract(month from CAST(ev.MONTH AS DATE)) AS MONTH,EV.CONTRACT_ID,EV.MID,EV.MID_NAME\n",
    ",EV.CREDIT_DEBIT_CARD,EV.REGION,EV.CARD_PLAN,EV.CARD_TYPE,EV.CHARGE_TYPE_DESCRIPTION,EV.PRODUCT_CODE\n",
    ",SUM(EV.GROSS_VOLUME) AS VOLUME,SUM(EV.GROSS_FLOW_EUR) AS FLOW_EUR,SUM(EV.SCHEME_FEES_EUR) AS SF\n",
    ",EV.TRANS_CURRENCY,EV.PROCESSING_FEE_CURRENCY,EV.VAT_CURRENCY,EV.ASSESSMENT_CURRENCY\n",
    "from FDWO.ACQUIRER_ELAVON_EUR_COST ev\n",
    "where EV.MONTH >=to_date('4/1/2018','MM/DD/YYYY')\n",
    "and GROSS_VOLUME <>0\n",
    "group by EV.MID_NAME,\n",
    "EV.MID_NAME,EV.CREDIT_DEBIT_CARD,EV.REGION,EV.CARD_PLAN,EV.CARD_TYPE,EV.CHARGE_TYPE_DESCRIPTION,\n",
    "EV.PRODUCT_CODE,EV.TRANS_CURRENCY,EV.PROCESSING_FEE_CURRENCY\n",
    ",EV.VAT_CURRENCY,EV.ASSESSMENT_CURRENCY,EV.CONTRACT_ID,EV.MID,EV.MONTH\n",
    "''', con)"
   ]
  },
  {
   "cell_type": "raw",
   "metadata": {},
   "source": [
    "df.head()"
   ]
  },
  {
   "cell_type": "raw",
   "metadata": {},
   "source": [
    "df.info()"
   ]
  },
  {
   "cell_type": "code",
   "execution_count": 5,
   "metadata": {},
   "outputs": [],
   "source": [
    "'''client names'''\n",
    "df_cn=pd.read_sql(\n",
    "''' \n",
    "select MM.CONTRACT_ID, MM.CLIENT_NAME,COUNTRY AS MERCHANT_COUNTRY\n",
    "from FDWO.MB_MERCHANTS mm\n",
    "group by MM.CONTRACT_ID, MM.CLIENT_NAME,COUNTRY\n",
    "''', con)"
   ]
  },
  {
   "cell_type": "raw",
   "metadata": {},
   "source": [
    "df_cn.info()"
   ]
  },
  {
   "cell_type": "code",
   "execution_count": 332,
   "metadata": {},
   "outputs": [],
   "source": [
    "'''ic_plus_type'''\n",
    "df_ic=pd.read_sql(\n",
    "'''\n",
    "select CC.CONTRACT_ID, CC.PRODUCT_CODE,CC.TRANSACTION_CURRENCY,CC.ICPLUS_TYPE\n",
    "from FDWO.CC_PROCESSING_DATA_PT cc\n",
    "where CC.TRANSACTION_TYPE='TRANSACTION'\n",
    "and CC.PAYMENT_PROCESSOR='Elavon (Europe)'\n",
    "and CC.INVOICE_CURRENCY is not null\n",
    "and CC.MATCH_DATE between to_date('7/1/2018','MM/DD/YYYY') and to_date('7/31/2018','MM/DD/YYYY')\n",
    "group by CC.CONTRACT_ID, CC.PRODUCT_CODE, CC.TRANSACTION_CURRENCY,cc.ICPLUS_TYPE\n",
    "''', con)"
   ]
  },
  {
   "cell_type": "raw",
   "metadata": {},
   "source": [
    "df_ic.info()"
   ]
  },
  {
   "cell_type": "code",
   "execution_count": 333,
   "metadata": {},
   "outputs": [],
   "source": [
    "elavon_cntry=pd.read_csv('G:\\Pricing\\Dale\\Elavon_Country_Identification\\elavon_merchant_countries.csv',dtype={'CONTRACT_ID':'str'}) #import the elavon country list\n",
    "iep=pd.read_csv('d:\\\\djohnson\\\\Desktop\\\\aib_theoreticals_desktop_ref\\\\aib_iep_theoreticals_V3.csv',encoding='ISO-8859-1') #import Ahron's data\n",
    "df_mc=pd.read_csv('d:\\\\djohnson\\\\Desktop\\\\aib_theoreticals_desktop_ref\\\\multicurrency.csv',encoding='ISO-8859-1') #import multicurrency designation"
   ]
  },
  {
   "cell_type": "raw",
   "metadata": {},
   "source": [
    "elavon_cntry.head()"
   ]
  },
  {
   "cell_type": "raw",
   "metadata": {},
   "source": [
    "elavon_cntry['CONTRACT_ID']=elavon_cntry['CONTRACT_ID'].astype(str)"
   ]
  },
  {
   "cell_type": "code",
   "execution_count": 334,
   "metadata": {},
   "outputs": [],
   "source": [
    "iep=iep[['Concatenate','Security Level','Fixed','Percent','PERIOD']]\n",
    "iep['Percent']=iep['Percent'].astype(float)"
   ]
  },
  {
   "cell_type": "raw",
   "metadata": {},
   "source": [
    "iep.head()"
   ]
  },
  {
   "cell_type": "code",
   "execution_count": 335,
   "metadata": {},
   "outputs": [],
   "source": [
    "df1=df.copy()\n",
    "df_cn_1=df_cn.copy()\n",
    "df_ic_1=df_ic.copy()\n",
    "elavon_cntry_1=elavon_cntry.copy()"
   ]
  },
  {
   "cell_type": "code",
   "execution_count": 336,
   "metadata": {},
   "outputs": [],
   "source": [
    "master_data_set=pd.merge(df1,df_cn_1,how='left',on=['CONTRACT_ID'])\n",
    "master_data_set=pd.merge(master_data_set,elavon_cntry,how='left',on=['CHARGE_TYPE_DESCRIPTION'])"
   ]
  },
  {
   "cell_type": "code",
   "execution_count": 337,
   "metadata": {},
   "outputs": [
    {
     "data": {
      "text/html": [
       "<div>\n",
       "<style scoped>\n",
       "    .dataframe tbody tr th:only-of-type {\n",
       "        vertical-align: middle;\n",
       "    }\n",
       "\n",
       "    .dataframe tbody tr th {\n",
       "        vertical-align: top;\n",
       "    }\n",
       "\n",
       "    .dataframe thead th {\n",
       "        text-align: right;\n",
       "    }\n",
       "</style>\n",
       "<table border=\"1\" class=\"dataframe\">\n",
       "  <thead>\n",
       "    <tr style=\"text-align: right;\">\n",
       "      <th></th>\n",
       "      <th>MONTH</th>\n",
       "      <th>CONTRACT_ID</th>\n",
       "      <th>MID</th>\n",
       "      <th>MID_NAME</th>\n",
       "      <th>CREDIT_DEBIT_CARD</th>\n",
       "      <th>REGION</th>\n",
       "      <th>CARD_PLAN</th>\n",
       "      <th>CARD_TYPE</th>\n",
       "      <th>CHARGE_TYPE_DESCRIPTION</th>\n",
       "      <th>PRODUCT_CODE</th>\n",
       "      <th>VOLUME</th>\n",
       "      <th>FLOW_EUR</th>\n",
       "      <th>SF</th>\n",
       "      <th>TRANS_CURRENCY</th>\n",
       "      <th>PROCESSING_FEE_CURRENCY</th>\n",
       "      <th>VAT_CURRENCY</th>\n",
       "      <th>ASSESSMENT_CURRENCY</th>\n",
       "      <th>CLIENT_NAME</th>\n",
       "      <th>MERCHANT_COUNTRY</th>\n",
       "      <th>COUNTRY</th>\n",
       "    </tr>\n",
       "  </thead>\n",
       "  <tbody>\n",
       "    <tr>\n",
       "      <th>0</th>\n",
       "      <td>8</td>\n",
       "      <td>0042</td>\n",
       "      <td>2101077585</td>\n",
       "      <td>LC PERU AIRLINES</td>\n",
       "      <td>D</td>\n",
       "      <td>INTER</td>\n",
       "      <td>MCDE</td>\n",
       "      <td>MC CONS DB</td>\n",
       "      <td>MC IRN DC STD   CON N</td>\n",
       "      <td>100453</td>\n",
       "      <td>7</td>\n",
       "      <td>1173.810339</td>\n",
       "      <td>0.754976</td>\n",
       "      <td>USD</td>\n",
       "      <td>USD</td>\n",
       "      <td>USD</td>\n",
       "      <td>EUR</td>\n",
       "      <td>LC BUSRE SAC</td>\n",
       "      <td>Peru</td>\n",
       "      <td>NaN</td>\n",
       "    </tr>\n",
       "    <tr>\n",
       "      <th>1</th>\n",
       "      <td>8</td>\n",
       "      <td>1183</td>\n",
       "      <td>2101378761</td>\n",
       "      <td>ALL NIPPON AIRWAYS</td>\n",
       "      <td>C</td>\n",
       "      <td>DOMESTIC</td>\n",
       "      <td>VISA</td>\n",
       "      <td>VI CONS CR</td>\n",
       "      <td>VI DA  DC STD   CLS N</td>\n",
       "      <td>100443</td>\n",
       "      <td>1</td>\n",
       "      <td>157.685724</td>\n",
       "      <td>0.034317</td>\n",
       "      <td>USD</td>\n",
       "      <td>USD</td>\n",
       "      <td>USD</td>\n",
       "      <td>EUR</td>\n",
       "      <td>All Nippon Airways Co. Ltd</td>\n",
       "      <td>Japan</td>\n",
       "      <td>NaN</td>\n",
       "    </tr>\n",
       "    <tr>\n",
       "      <th>2</th>\n",
       "      <td>8</td>\n",
       "      <td>6014</td>\n",
       "      <td>2100968122</td>\n",
       "      <td>ANA GLOBAL ONLINE SALES</td>\n",
       "      <td>C</td>\n",
       "      <td>INTRA</td>\n",
       "      <td>VISA</td>\n",
       "      <td>VI CONS CR</td>\n",
       "      <td>VI IAP DC ECOM  GLD S         EC</td>\n",
       "      <td>100443</td>\n",
       "      <td>26</td>\n",
       "      <td>18034.397467</td>\n",
       "      <td>2.805422</td>\n",
       "      <td>USD</td>\n",
       "      <td>USD</td>\n",
       "      <td>USD</td>\n",
       "      <td>EUR</td>\n",
       "      <td>All Nippon Airways Co. Ltd</td>\n",
       "      <td>Japan</td>\n",
       "      <td>NaN</td>\n",
       "    </tr>\n",
       "    <tr>\n",
       "      <th>3</th>\n",
       "      <td>8</td>\n",
       "      <td>5242</td>\n",
       "      <td>2100584921</td>\n",
       "      <td>ANA</td>\n",
       "      <td>C</td>\n",
       "      <td>INTRA</td>\n",
       "      <td>VISA</td>\n",
       "      <td>VI CONS PR</td>\n",
       "      <td>VI IAP DC ECOM  INF S         EC</td>\n",
       "      <td>100443</td>\n",
       "      <td>143</td>\n",
       "      <td>66190.080452</td>\n",
       "      <td>10.921414</td>\n",
       "      <td>USD</td>\n",
       "      <td>USD</td>\n",
       "      <td>USD</td>\n",
       "      <td>EUR</td>\n",
       "      <td>All Nippon Airways Co. Ltd</td>\n",
       "      <td>Japan</td>\n",
       "      <td>NaN</td>\n",
       "    </tr>\n",
       "    <tr>\n",
       "      <th>4</th>\n",
       "      <td>8</td>\n",
       "      <td>5242</td>\n",
       "      <td>2100584905</td>\n",
       "      <td>ANA</td>\n",
       "      <td>C</td>\n",
       "      <td>INTRA</td>\n",
       "      <td>VISA</td>\n",
       "      <td>VI CONS PR</td>\n",
       "      <td>VI IAP DC ECOM  PLT S         EC</td>\n",
       "      <td>100443</td>\n",
       "      <td>284</td>\n",
       "      <td>236536.408764</td>\n",
       "      <td>36.307481</td>\n",
       "      <td>USD</td>\n",
       "      <td>USD</td>\n",
       "      <td>USD</td>\n",
       "      <td>EUR</td>\n",
       "      <td>All Nippon Airways Co. Ltd</td>\n",
       "      <td>Japan</td>\n",
       "      <td>NaN</td>\n",
       "    </tr>\n",
       "  </tbody>\n",
       "</table>\n",
       "</div>"
      ],
      "text/plain": [
       "   MONTH CONTRACT_ID         MID                 MID_NAME CREDIT_DEBIT_CARD  \\\n",
       "0      8        0042  2101077585         LC PERU AIRLINES                 D   \n",
       "1      8        1183  2101378761       ALL NIPPON AIRWAYS                 C   \n",
       "2      8        6014  2100968122  ANA GLOBAL ONLINE SALES                 C   \n",
       "3      8        5242  2100584921                      ANA                 C   \n",
       "4      8        5242  2100584905                      ANA                 C   \n",
       "\n",
       "     REGION CARD_PLAN   CARD_TYPE           CHARGE_TYPE_DESCRIPTION  \\\n",
       "0     INTER      MCDE  MC CONS DB             MC IRN DC STD   CON N   \n",
       "1  DOMESTIC      VISA  VI CONS CR             VI DA  DC STD   CLS N   \n",
       "2     INTRA      VISA  VI CONS CR  VI IAP DC ECOM  GLD S         EC   \n",
       "3     INTRA      VISA  VI CONS PR  VI IAP DC ECOM  INF S         EC   \n",
       "4     INTRA      VISA  VI CONS PR  VI IAP DC ECOM  PLT S         EC   \n",
       "\n",
       "   PRODUCT_CODE  VOLUME      FLOW_EUR        SF TRANS_CURRENCY  \\\n",
       "0        100453       7   1173.810339  0.754976            USD   \n",
       "1        100443       1    157.685724  0.034317            USD   \n",
       "2        100443      26  18034.397467  2.805422            USD   \n",
       "3        100443     143  66190.080452 10.921414            USD   \n",
       "4        100443     284 236536.408764 36.307481            USD   \n",
       "\n",
       "  PROCESSING_FEE_CURRENCY VAT_CURRENCY ASSESSMENT_CURRENCY  \\\n",
       "0                     USD          USD                 EUR   \n",
       "1                     USD          USD                 EUR   \n",
       "2                     USD          USD                 EUR   \n",
       "3                     USD          USD                 EUR   \n",
       "4                     USD          USD                 EUR   \n",
       "\n",
       "                  CLIENT_NAME MERCHANT_COUNTRY COUNTRY  \n",
       "0                LC BUSRE SAC             Peru     NaN  \n",
       "1  All Nippon Airways Co. Ltd            Japan     NaN  \n",
       "2  All Nippon Airways Co. Ltd            Japan     NaN  \n",
       "3  All Nippon Airways Co. Ltd            Japan     NaN  \n",
       "4  All Nippon Airways Co. Ltd            Japan     NaN  "
      ]
     },
     "execution_count": 337,
     "metadata": {},
     "output_type": "execute_result"
    }
   ],
   "source": [
    "master_data_set.head()"
   ]
  },
  {
   "cell_type": "raw",
   "metadata": {},
   "source": [
    "master_data_set.info()"
   ]
  },
  {
   "cell_type": "code",
   "execution_count": 338,
   "metadata": {},
   "outputs": [],
   "source": [
    "for x in range(0,len(master_data_set['MONTH'])):\n",
    "    if master_data_set.loc[x,'COUNTRY'] is None:\n",
    "         master_data_set.loc[x,'MERCHANT_COUNTRY']=master_data_set.loc[x,'COUNTRY']"
   ]
  },
  {
   "cell_type": "raw",
   "metadata": {},
   "source": [
    "master_data_set.info()"
   ]
  },
  {
   "cell_type": "code",
   "execution_count": 339,
   "metadata": {},
   "outputs": [],
   "source": [
    "#master_data_set=master_data_set.rename(columns={'COUNTRY':'MERCHANT_COUNTRY'})\n",
    "master_data_set=master_data_set.rename(columns={'TRANS_CURRENCY':'TRANSACTION_CURRENCY'})\n",
    "master_data_set=master_data_set.rename(columns={'SOURCE':'MERCHANT_COUNTRY_INFO_SOURCE'})"
   ]
  },
  {
   "cell_type": "raw",
   "metadata": {},
   "source": [
    "master_data_set['MERCHANT_COUNTRY'].unique()"
   ]
  },
  {
   "cell_type": "code",
   "execution_count": 340,
   "metadata": {},
   "outputs": [
    {
     "name": "stderr",
     "output_type": "stream",
     "text": [
      "C:\\Users\\djohnson\\new_python_version\\Local\\Continuum\\anaconda2\\envs\\py3k\\lib\\site-packages\\ipykernel_launcher.py:2: SettingWithCopyWarning: \n",
      "A value is trying to be set on a copy of a slice from a DataFrame\n",
      "\n",
      "See the caveats in the documentation: http://pandas.pydata.org/pandas-docs/stable/indexing.html#indexing-view-versus-copy\n",
      "  \n",
      "C:\\Users\\djohnson\\new_python_version\\Local\\Continuum\\anaconda2\\envs\\py3k\\lib\\site-packages\\ipykernel_launcher.py:3: SettingWithCopyWarning: \n",
      "A value is trying to be set on a copy of a slice from a DataFrame\n",
      "\n",
      "See the caveats in the documentation: http://pandas.pydata.org/pandas-docs/stable/indexing.html#indexing-view-versus-copy\n",
      "  This is separate from the ipykernel package so we can avoid doing imports until\n",
      "C:\\Users\\djohnson\\new_python_version\\Local\\Continuum\\anaconda2\\envs\\py3k\\lib\\site-packages\\ipykernel_launcher.py:4: SettingWithCopyWarning: \n",
      "A value is trying to be set on a copy of a slice from a DataFrame\n",
      "\n",
      "See the caveats in the documentation: http://pandas.pydata.org/pandas-docs/stable/indexing.html#indexing-view-versus-copy\n",
      "  after removing the cwd from sys.path.\n",
      "C:\\Users\\djohnson\\new_python_version\\Local\\Continuum\\anaconda2\\envs\\py3k\\lib\\site-packages\\ipykernel_launcher.py:5: SettingWithCopyWarning: \n",
      "A value is trying to be set on a copy of a slice from a DataFrame\n",
      "\n",
      "See the caveats in the documentation: http://pandas.pydata.org/pandas-docs/stable/indexing.html#indexing-view-versus-copy\n",
      "  \"\"\"\n",
      "C:\\Users\\djohnson\\new_python_version\\Local\\Continuum\\anaconda2\\envs\\py3k\\lib\\site-packages\\ipykernel_launcher.py:6: SettingWithCopyWarning: \n",
      "A value is trying to be set on a copy of a slice from a DataFrame\n",
      "\n",
      "See the caveats in the documentation: http://pandas.pydata.org/pandas-docs/stable/indexing.html#indexing-view-versus-copy\n",
      "  \n",
      "C:\\Users\\djohnson\\new_python_version\\Local\\Continuum\\anaconda2\\envs\\py3k\\lib\\site-packages\\ipykernel_launcher.py:7: SettingWithCopyWarning: \n",
      "A value is trying to be set on a copy of a slice from a DataFrame\n",
      "\n",
      "See the caveats in the documentation: http://pandas.pydata.org/pandas-docs/stable/indexing.html#indexing-view-versus-copy\n",
      "  import sys\n",
      "C:\\Users\\djohnson\\new_python_version\\Local\\Continuum\\anaconda2\\envs\\py3k\\lib\\site-packages\\ipykernel_launcher.py:8: SettingWithCopyWarning: \n",
      "A value is trying to be set on a copy of a slice from a DataFrame\n",
      "\n",
      "See the caveats in the documentation: http://pandas.pydata.org/pandas-docs/stable/indexing.html#indexing-view-versus-copy\n",
      "  \n",
      "C:\\Users\\djohnson\\new_python_version\\Local\\Continuum\\anaconda2\\envs\\py3k\\lib\\site-packages\\ipykernel_launcher.py:9: SettingWithCopyWarning: \n",
      "A value is trying to be set on a copy of a slice from a DataFrame\n",
      "\n",
      "See the caveats in the documentation: http://pandas.pydata.org/pandas-docs/stable/indexing.html#indexing-view-versus-copy\n",
      "  if __name__ == '__main__':\n",
      "C:\\Users\\djohnson\\new_python_version\\Local\\Continuum\\anaconda2\\envs\\py3k\\lib\\site-packages\\ipykernel_launcher.py:10: SettingWithCopyWarning: \n",
      "A value is trying to be set on a copy of a slice from a DataFrame\n",
      "\n",
      "See the caveats in the documentation: http://pandas.pydata.org/pandas-docs/stable/indexing.html#indexing-view-versus-copy\n",
      "  # Remove the CWD from sys.path while we load stuff.\n",
      "C:\\Users\\djohnson\\new_python_version\\Local\\Continuum\\anaconda2\\envs\\py3k\\lib\\site-packages\\ipykernel_launcher.py:11: SettingWithCopyWarning: \n",
      "A value is trying to be set on a copy of a slice from a DataFrame\n",
      "\n",
      "See the caveats in the documentation: http://pandas.pydata.org/pandas-docs/stable/indexing.html#indexing-view-versus-copy\n",
      "  # This is added back by InteractiveShellApp.init_path()\n",
      "C:\\Users\\djohnson\\new_python_version\\Local\\Continuum\\anaconda2\\envs\\py3k\\lib\\site-packages\\ipykernel_launcher.py:12: SettingWithCopyWarning: \n",
      "A value is trying to be set on a copy of a slice from a DataFrame\n",
      "\n",
      "See the caveats in the documentation: http://pandas.pydata.org/pandas-docs/stable/indexing.html#indexing-view-versus-copy\n",
      "  if sys.path[0] == '':\n",
      "C:\\Users\\djohnson\\new_python_version\\Local\\Continuum\\anaconda2\\envs\\py3k\\lib\\site-packages\\ipykernel_launcher.py:13: SettingWithCopyWarning: \n",
      "A value is trying to be set on a copy of a slice from a DataFrame\n",
      "\n",
      "See the caveats in the documentation: http://pandas.pydata.org/pandas-docs/stable/indexing.html#indexing-view-versus-copy\n",
      "  del sys.path[0]\n",
      "C:\\Users\\djohnson\\new_python_version\\Local\\Continuum\\anaconda2\\envs\\py3k\\lib\\site-packages\\ipykernel_launcher.py:14: SettingWithCopyWarning: \n",
      "A value is trying to be set on a copy of a slice from a DataFrame\n",
      "\n",
      "See the caveats in the documentation: http://pandas.pydata.org/pandas-docs/stable/indexing.html#indexing-view-versus-copy\n",
      "  \n",
      "C:\\Users\\djohnson\\new_python_version\\Local\\Continuum\\anaconda2\\envs\\py3k\\lib\\site-packages\\ipykernel_launcher.py:15: SettingWithCopyWarning: \n",
      "A value is trying to be set on a copy of a slice from a DataFrame\n",
      "\n",
      "See the caveats in the documentation: http://pandas.pydata.org/pandas-docs/stable/indexing.html#indexing-view-versus-copy\n",
      "  from ipykernel import kernelapp as app\n",
      "C:\\Users\\djohnson\\new_python_version\\Local\\Continuum\\anaconda2\\envs\\py3k\\lib\\site-packages\\ipykernel_launcher.py:16: SettingWithCopyWarning: \n",
      "A value is trying to be set on a copy of a slice from a DataFrame\n",
      "\n",
      "See the caveats in the documentation: http://pandas.pydata.org/pandas-docs/stable/indexing.html#indexing-view-versus-copy\n",
      "  app.launch_new_instance()\n",
      "C:\\Users\\djohnson\\new_python_version\\Local\\Continuum\\anaconda2\\envs\\py3k\\lib\\site-packages\\ipykernel_launcher.py:17: SettingWithCopyWarning: \n",
      "A value is trying to be set on a copy of a slice from a DataFrame\n",
      "\n",
      "See the caveats in the documentation: http://pandas.pydata.org/pandas-docs/stable/indexing.html#indexing-view-versus-copy\n",
      "C:\\Users\\djohnson\\new_python_version\\Local\\Continuum\\anaconda2\\envs\\py3k\\lib\\site-packages\\ipykernel_launcher.py:18: SettingWithCopyWarning: \n",
      "A value is trying to be set on a copy of a slice from a DataFrame\n",
      "\n",
      "See the caveats in the documentation: http://pandas.pydata.org/pandas-docs/stable/indexing.html#indexing-view-versus-copy\n",
      "C:\\Users\\djohnson\\new_python_version\\Local\\Continuum\\anaconda2\\envs\\py3k\\lib\\site-packages\\ipykernel_launcher.py:19: SettingWithCopyWarning: \n",
      "A value is trying to be set on a copy of a slice from a DataFrame\n",
      "\n",
      "See the caveats in the documentation: http://pandas.pydata.org/pandas-docs/stable/indexing.html#indexing-view-versus-copy\n",
      "C:\\Users\\djohnson\\new_python_version\\Local\\Continuum\\anaconda2\\envs\\py3k\\lib\\site-packages\\ipykernel_launcher.py:21: SettingWithCopyWarning: \n",
      "A value is trying to be set on a copy of a slice from a DataFrame\n",
      "\n",
      "See the caveats in the documentation: http://pandas.pydata.org/pandas-docs/stable/indexing.html#indexing-view-versus-copy\n",
      "C:\\Users\\djohnson\\new_python_version\\Local\\Continuum\\anaconda2\\envs\\py3k\\lib\\site-packages\\ipykernel_launcher.py:22: SettingWithCopyWarning: \n",
      "A value is trying to be set on a copy of a slice from a DataFrame\n",
      "\n",
      "See the caveats in the documentation: http://pandas.pydata.org/pandas-docs/stable/indexing.html#indexing-view-versus-copy\n",
      "C:\\Users\\djohnson\\new_python_version\\Local\\Continuum\\anaconda2\\envs\\py3k\\lib\\site-packages\\ipykernel_launcher.py:23: SettingWithCopyWarning: \n",
      "A value is trying to be set on a copy of a slice from a DataFrame\n",
      "\n",
      "See the caveats in the documentation: http://pandas.pydata.org/pandas-docs/stable/indexing.html#indexing-view-versus-copy\n",
      "C:\\Users\\djohnson\\new_python_version\\Local\\Continuum\\anaconda2\\envs\\py3k\\lib\\site-packages\\ipykernel_launcher.py:24: SettingWithCopyWarning: \n",
      "A value is trying to be set on a copy of a slice from a DataFrame\n",
      "\n",
      "See the caveats in the documentation: http://pandas.pydata.org/pandas-docs/stable/indexing.html#indexing-view-versus-copy\n",
      "C:\\Users\\djohnson\\new_python_version\\Local\\Continuum\\anaconda2\\envs\\py3k\\lib\\site-packages\\ipykernel_launcher.py:25: SettingWithCopyWarning: \n",
      "A value is trying to be set on a copy of a slice from a DataFrame\n",
      "\n",
      "See the caveats in the documentation: http://pandas.pydata.org/pandas-docs/stable/indexing.html#indexing-view-versus-copy\n",
      "C:\\Users\\djohnson\\new_python_version\\Local\\Continuum\\anaconda2\\envs\\py3k\\lib\\site-packages\\ipykernel_launcher.py:26: SettingWithCopyWarning: \n",
      "A value is trying to be set on a copy of a slice from a DataFrame\n",
      "\n",
      "See the caveats in the documentation: http://pandas.pydata.org/pandas-docs/stable/indexing.html#indexing-view-versus-copy\n",
      "C:\\Users\\djohnson\\new_python_version\\Local\\Continuum\\anaconda2\\envs\\py3k\\lib\\site-packages\\ipykernel_launcher.py:27: SettingWithCopyWarning: \n",
      "A value is trying to be set on a copy of a slice from a DataFrame\n",
      "\n",
      "See the caveats in the documentation: http://pandas.pydata.org/pandas-docs/stable/indexing.html#indexing-view-versus-copy\n",
      "C:\\Users\\djohnson\\new_python_version\\Local\\Continuum\\anaconda2\\envs\\py3k\\lib\\site-packages\\ipykernel_launcher.py:28: SettingWithCopyWarning: \n",
      "A value is trying to be set on a copy of a slice from a DataFrame\n",
      "\n",
      "See the caveats in the documentation: http://pandas.pydata.org/pandas-docs/stable/indexing.html#indexing-view-versus-copy\n",
      "C:\\Users\\djohnson\\new_python_version\\Local\\Continuum\\anaconda2\\envs\\py3k\\lib\\site-packages\\ipykernel_launcher.py:29: SettingWithCopyWarning: \n",
      "A value is trying to be set on a copy of a slice from a DataFrame\n",
      "\n",
      "See the caveats in the documentation: http://pandas.pydata.org/pandas-docs/stable/indexing.html#indexing-view-versus-copy\n",
      "C:\\Users\\djohnson\\new_python_version\\Local\\Continuum\\anaconda2\\envs\\py3k\\lib\\site-packages\\ipykernel_launcher.py:30: SettingWithCopyWarning: \n",
      "A value is trying to be set on a copy of a slice from a DataFrame\n",
      "\n",
      "See the caveats in the documentation: http://pandas.pydata.org/pandas-docs/stable/indexing.html#indexing-view-versus-copy\n",
      "C:\\Users\\djohnson\\new_python_version\\Local\\Continuum\\anaconda2\\envs\\py3k\\lib\\site-packages\\ipykernel_launcher.py:31: SettingWithCopyWarning: \n",
      "A value is trying to be set on a copy of a slice from a DataFrame\n",
      "\n",
      "See the caveats in the documentation: http://pandas.pydata.org/pandas-docs/stable/indexing.html#indexing-view-versus-copy\n",
      "C:\\Users\\djohnson\\new_python_version\\Local\\Continuum\\anaconda2\\envs\\py3k\\lib\\site-packages\\ipykernel_launcher.py:32: SettingWithCopyWarning: \n",
      "A value is trying to be set on a copy of a slice from a DataFrame\n",
      "\n",
      "See the caveats in the documentation: http://pandas.pydata.org/pandas-docs/stable/indexing.html#indexing-view-versus-copy\n",
      "C:\\Users\\djohnson\\new_python_version\\Local\\Continuum\\anaconda2\\envs\\py3k\\lib\\site-packages\\ipykernel_launcher.py:33: SettingWithCopyWarning: \n",
      "A value is trying to be set on a copy of a slice from a DataFrame\n",
      "\n",
      "See the caveats in the documentation: http://pandas.pydata.org/pandas-docs/stable/indexing.html#indexing-view-versus-copy\n",
      "C:\\Users\\djohnson\\new_python_version\\Local\\Continuum\\anaconda2\\envs\\py3k\\lib\\site-packages\\ipykernel_launcher.py:34: SettingWithCopyWarning: \n",
      "A value is trying to be set on a copy of a slice from a DataFrame\n",
      "\n",
      "See the caveats in the documentation: http://pandas.pydata.org/pandas-docs/stable/indexing.html#indexing-view-versus-copy\n",
      "C:\\Users\\djohnson\\new_python_version\\Local\\Continuum\\anaconda2\\envs\\py3k\\lib\\site-packages\\ipykernel_launcher.py:35: SettingWithCopyWarning: \n",
      "A value is trying to be set on a copy of a slice from a DataFrame\n",
      "\n",
      "See the caveats in the documentation: http://pandas.pydata.org/pandas-docs/stable/indexing.html#indexing-view-versus-copy\n",
      "C:\\Users\\djohnson\\new_python_version\\Local\\Continuum\\anaconda2\\envs\\py3k\\lib\\site-packages\\ipykernel_launcher.py:36: SettingWithCopyWarning: \n",
      "A value is trying to be set on a copy of a slice from a DataFrame\n",
      "\n",
      "See the caveats in the documentation: http://pandas.pydata.org/pandas-docs/stable/indexing.html#indexing-view-versus-copy\n",
      "C:\\Users\\djohnson\\new_python_version\\Local\\Continuum\\anaconda2\\envs\\py3k\\lib\\site-packages\\ipykernel_launcher.py:37: SettingWithCopyWarning: \n",
      "A value is trying to be set on a copy of a slice from a DataFrame\n",
      "\n",
      "See the caveats in the documentation: http://pandas.pydata.org/pandas-docs/stable/indexing.html#indexing-view-versus-copy\n",
      "C:\\Users\\djohnson\\new_python_version\\Local\\Continuum\\anaconda2\\envs\\py3k\\lib\\site-packages\\ipykernel_launcher.py:38: SettingWithCopyWarning: \n",
      "A value is trying to be set on a copy of a slice from a DataFrame\n",
      "\n",
      "See the caveats in the documentation: http://pandas.pydata.org/pandas-docs/stable/indexing.html#indexing-view-versus-copy\n"
     ]
    }
   ],
   "source": [
    "master_data_set['MERCHANT_COUNTRY_UPDATED_FROM:']=''\n",
    "master_data_set['MERCHANT_COUNTRY_UPDATED_FROM:'][(master_data_set['MERCHANT_COUNTRY']=='Gibraltar')]='Gibraltar'\n",
    "master_data_set['MERCHANT_COUNTRY_UPDATED_FROM:'][(master_data_set['MERCHANT_COUNTRY']=='Andorra')]='Andorra'\n",
    "master_data_set['MERCHANT_COUNTRY_UPDATED_FROM:'][(master_data_set['MERCHANT_COUNTRY']=='Panama')]='Panama'\n",
    "master_data_set['MERCHANT_COUNTRY_UPDATED_FROM:'][(master_data_set['MERCHANT_COUNTRY']=='Monaco')]='Monaco'\n",
    "master_data_set['MERCHANT_COUNTRY_UPDATED_FROM:'][(master_data_set['MERCHANT_COUNTRY']=='Australia')]='Australia'\n",
    "master_data_set['MERCHANT_COUNTRY_UPDATED_FROM:'][(master_data_set['MERCHANT_COUNTRY']=='New Zealand')]='New Zealand'\n",
    "master_data_set['MERCHANT_COUNTRY_UPDATED_FROM:'][(master_data_set['MERCHANT_COUNTRY']=='Singapore')]='Singapore'\n",
    "master_data_set['MERCHANT_COUNTRY_UPDATED_FROM:'][(master_data_set['MERCHANT_COUNTRY']=='Thailand')]='Thailand'\n",
    "master_data_set['MERCHANT_COUNTRY_UPDATED_FROM:'][(master_data_set['MERCHANT_COUNTRY']=='Malaysia')]='Malaysia'\n",
    "master_data_set['MERCHANT_COUNTRY_UPDATED_FROM:'][(master_data_set['MERCHANT_COUNTRY']=='Japan')]='Japan'\n",
    "master_data_set['MERCHANT_COUNTRY_UPDATED_FROM:'][(master_data_set['MERCHANT_COUNTRY']=='Peru')]='Peru'\n",
    "master_data_set['MERCHANT_COUNTRY_UPDATED_FROM:'][(master_data_set['MERCHANT_COUNTRY']=='Chile')]='Chile'\n",
    "master_data_set['MERCHANT_COUNTRY_UPDATED_FROM:'][(master_data_set['MERCHANT_COUNTRY']=='Colombia')]='Colombia'\n",
    "master_data_set['MERCHANT_COUNTRY_UPDATED_FROM:'][(master_data_set['MERCHANT_COUNTRY']=='Azerbaijan')]='Azerbaijan'\n",
    "master_data_set['MERCHANT_COUNTRY_UPDATED_FROM:'][(master_data_set['MERCHANT_COUNTRY']=='China')]='China'\n",
    "master_data_set['MERCHANT_COUNTRY_UPDATED_FROM:'][(master_data_set['MERCHANT_COUNTRY']=='Brazil')]='Brazil'\n",
    "master_data_set['MERCHANT_COUNTRY_UPDATED_FROM:'][(master_data_set['MERCHANT_COUNTRY']=='Ecuador')]='Ecuador'\n",
    "master_data_set['MERCHANT_COUNTRY_UPDATED_FROM:'][(master_data_set['MERCHANT_COUNTRY']=='United States')]='United States'\n",
    "\n",
    "master_data_set['MERCHANT_COUNTRY'][(master_data_set['MERCHANT_COUNTRY']=='Gibraltar')]='UK'\n",
    "master_data_set['MERCHANT_COUNTRY'][(master_data_set['MERCHANT_COUNTRY']=='Andorra')]='France'\n",
    "master_data_set['MERCHANT_COUNTRY'][(master_data_set['MERCHANT_COUNTRY']=='Panama')]='Ireland'\n",
    "master_data_set['MERCHANT_COUNTRY'][(master_data_set['MERCHANT_COUNTRY']=='Monaco')]='France'\n",
    "master_data_set['MERCHANT_COUNTRY'][(master_data_set['MERCHANT_COUNTRY']=='Australia')]='Ireland'\n",
    "master_data_set['MERCHANT_COUNTRY'][(master_data_set['MERCHANT_COUNTRY']=='New Zealand')]='Ireland'\n",
    "master_data_set['MERCHANT_COUNTRY'][(master_data_set['MERCHANT_COUNTRY']=='Singapore')]='Ireland'\n",
    "master_data_set['MERCHANT_COUNTRY'][(master_data_set['MERCHANT_COUNTRY']=='Thailand')]='Ireland'\n",
    "master_data_set['MERCHANT_COUNTRY'][(master_data_set['MERCHANT_COUNTRY']=='Malaysia')]='Ireland'\n",
    "master_data_set['MERCHANT_COUNTRY'][(master_data_set['MERCHANT_COUNTRY']=='Japan')]='Ireland'\n",
    "master_data_set['MERCHANT_COUNTRY'][(master_data_set['MERCHANT_COUNTRY']=='Peru')]='Ireland'\n",
    "master_data_set['MERCHANT_COUNTRY'][(master_data_set['MERCHANT_COUNTRY']=='Chile')]='Ireland'\n",
    "master_data_set['MERCHANT_COUNTRY'][(master_data_set['MERCHANT_COUNTRY']=='Colombia')]='Ireland'\n",
    "master_data_set['MERCHANT_COUNTRY'][(master_data_set['MERCHANT_COUNTRY']=='Azerbaijan')]='Ireland'\n",
    "master_data_set['MERCHANT_COUNTRY'][(master_data_set['MERCHANT_COUNTRY']=='China')]='Ireland'\n",
    "master_data_set['MERCHANT_COUNTRY'][(master_data_set['MERCHANT_COUNTRY']=='Brazil')]='Ireland'\n",
    "master_data_set['MERCHANT_COUNTRY'][(master_data_set['MERCHANT_COUNTRY']=='Ecuador')]='Ireland'\n",
    "master_data_set['MERCHANT_COUNTRY'][(master_data_set['MERCHANT_COUNTRY']=='United States')]='Ireland'"
   ]
  },
  {
   "cell_type": "code",
   "execution_count": 341,
   "metadata": {},
   "outputs": [],
   "source": [
    "master_data_set=pd.merge(master_data_set,df_mc,on=['MERCHANT_COUNTRY'],how='left').copy() # identify if it's a multicurrency country"
   ]
  },
  {
   "cell_type": "code",
   "execution_count": 342,
   "metadata": {},
   "outputs": [],
   "source": [
    "master_data_set['BRAND']=''\n",
    "for x in range(0,len(master_data_set['MONTH'])):\n",
    "    if \"MC \" in master_data_set.loc[x,'CHARGE_TYPE_DESCRIPTION']:\n",
    "        master_data_set.loc[x,'BRAND']='MasterCard'\n",
    "    elif \"VI \" in master_data_set.loc[x,'CHARGE_TYPE_DESCRIPTION']:\n",
    "        master_data_set.loc[x,'BRAND']='Visa'\n",
    "    elif \"DC \" in master_data_set.loc[x,'CHARGE_TYPE_DESCRIPTION']:\n",
    "        master_data_set.loc[x,'BRAND']='Discover'"
   ]
  },
  {
   "cell_type": "code",
   "execution_count": 343,
   "metadata": {},
   "outputs": [],
   "source": [
    "master_data_set['CARD_TYPES']=''\n",
    "for x in range(0,len(master_data_set['MONTH'])):\n",
    "    if \"D\" in master_data_set.loc[x,'CREDIT_DEBIT_CARD']:\n",
    "        master_data_set.loc[x,'CARD_TYPES']='Debit'\n",
    "    elif \"C\" in master_data_set.loc[x,'CREDIT_DEBIT_CARD']:\n",
    "        master_data_set.loc[x,'CARD_TYPES']=''"
   ]
  },
  {
   "cell_type": "code",
   "execution_count": 344,
   "metadata": {},
   "outputs": [],
   "source": [
    "'''build Regionality for Concatenation'''\n",
    "master_data_set['Regionality']=''\n",
    "for x in range(0,len(master_data_set['MONTH'])):\n",
    "    if master_data_set.loc[x,'REGION']=='INTER':\n",
    "        master_data_set.loc[x,'Regionality']='Inter-Region'\n",
    "    elif master_data_set.loc[x,'REGION']=='':\n",
    "        master_data_set.loc[x,'Regionality']='Inter-Region'        \n",
    "    elif master_data_set.loc[x,'REGION']=='INTRA':\n",
    "        master_data_set.loc[x,'Regionality']='Intra-Region'\n",
    "    elif master_data_set.loc[x,'REGION']=='DOMESTIC':\n",
    "        master_data_set.loc[x,'Regionality']='Domestic'\n",
    "    else:\n",
    "        master_data_set.loc[x,'Regionality']='Inter-Region'        "
   ]
  },
  {
   "cell_type": "code",
   "execution_count": 345,
   "metadata": {},
   "outputs": [],
   "source": [
    "'''build period of time which will be used to determine which fees will be applied'''\n",
    "master_data_set['PERIOD']=''\n",
    "for x in range(0,len(master_data_set['MONTH'])):\n",
    "    if master_data_set.loc[x,'MONTH']<=7:\n",
    "        master_data_set.loc[x,'PERIOD']='prejuly18'\n",
    "    elif master_data_set.loc[x,'MONTH']>7:\n",
    "        master_data_set.loc[x,'PERIOD']='postjuly18'"
   ]
  },
  {
   "cell_type": "code",
   "execution_count": 346,
   "metadata": {},
   "outputs": [],
   "source": [
    "master_data_set['Security Level']='Nonsecure'"
   ]
  },
  {
   "cell_type": "code",
   "execution_count": 347,
   "metadata": {},
   "outputs": [],
   "source": [
    "master_data_set['Product']=master_data_set['BRAND']+master_data_set['CARD_TYPES']\n",
    "master_data_set['Concatenate']=master_data_set['Product']+master_data_set['MERCHANT_COUNTRY']+master_data_set['Regionality']"
   ]
  },
  {
   "cell_type": "raw",
   "metadata": {},
   "source": [
    "master_data_set.info()"
   ]
  },
  {
   "cell_type": "code",
   "execution_count": 348,
   "metadata": {},
   "outputs": [],
   "source": [
    "df_ic_1['CONTRACT_ID']=df_ic_1['CONTRACT_ID'].astype(str)"
   ]
  },
  {
   "cell_type": "raw",
   "metadata": {},
   "source": [
    "df_ic_1.info()"
   ]
  },
  {
   "cell_type": "code",
   "execution_count": 349,
   "metadata": {},
   "outputs": [],
   "source": [
    "master_data_set=pd.merge(master_data_set,df_ic_1,how='left',on=['CONTRACT_ID','TRANSACTION_CURRENCY','PRODUCT_CODE']).copy()"
   ]
  },
  {
   "cell_type": "code",
   "execution_count": 350,
   "metadata": {},
   "outputs": [],
   "source": [
    "master_data_set=pd.merge(master_data_set,iep,on=['Security Level','Concatenate','PERIOD'],how='left').copy()"
   ]
  },
  {
   "cell_type": "code",
   "execution_count": 351,
   "metadata": {},
   "outputs": [
    {
     "name": "stderr",
     "output_type": "stream",
     "text": [
      "C:\\Users\\djohnson\\new_python_version\\Local\\Continuum\\anaconda2\\envs\\py3k\\lib\\site-packages\\ipykernel_launcher.py:3: SettingWithCopyWarning: \n",
      "A value is trying to be set on a copy of a slice from a DataFrame\n",
      "\n",
      "See the caveats in the documentation: http://pandas.pydata.org/pandas-docs/stable/indexing.html#indexing-view-versus-copy\n",
      "  This is separate from the ipykernel package so we can avoid doing imports until\n",
      "C:\\Users\\djohnson\\new_python_version\\Local\\Continuum\\anaconda2\\envs\\py3k\\lib\\site-packages\\ipykernel_launcher.py:4: SettingWithCopyWarning: \n",
      "A value is trying to be set on a copy of a slice from a DataFrame\n",
      "\n",
      "See the caveats in the documentation: http://pandas.pydata.org/pandas-docs/stable/indexing.html#indexing-view-versus-copy\n",
      "  after removing the cwd from sys.path.\n",
      "C:\\Users\\djohnson\\new_python_version\\Local\\Continuum\\anaconda2\\envs\\py3k\\lib\\site-packages\\ipykernel_launcher.py:6: SettingWithCopyWarning: \n",
      "A value is trying to be set on a copy of a slice from a DataFrame\n",
      "\n",
      "See the caveats in the documentation: http://pandas.pydata.org/pandas-docs/stable/indexing.html#indexing-view-versus-copy\n",
      "  \n",
      "C:\\Users\\djohnson\\new_python_version\\Local\\Continuum\\anaconda2\\envs\\py3k\\lib\\site-packages\\ipykernel_launcher.py:7: SettingWithCopyWarning: \n",
      "A value is trying to be set on a copy of a slice from a DataFrame\n",
      "\n",
      "See the caveats in the documentation: http://pandas.pydata.org/pandas-docs/stable/indexing.html#indexing-view-versus-copy\n",
      "  import sys\n",
      "C:\\Users\\djohnson\\new_python_version\\Local\\Continuum\\anaconda2\\envs\\py3k\\lib\\site-packages\\ipykernel_launcher.py:9: SettingWithCopyWarning: \n",
      "A value is trying to be set on a copy of a slice from a DataFrame\n",
      "\n",
      "See the caveats in the documentation: http://pandas.pydata.org/pandas-docs/stable/indexing.html#indexing-view-versus-copy\n",
      "  if __name__ == '__main__':\n",
      "C:\\Users\\djohnson\\new_python_version\\Local\\Continuum\\anaconda2\\envs\\py3k\\lib\\site-packages\\ipykernel_launcher.py:10: SettingWithCopyWarning: \n",
      "A value is trying to be set on a copy of a slice from a DataFrame\n",
      "\n",
      "See the caveats in the documentation: http://pandas.pydata.org/pandas-docs/stable/indexing.html#indexing-view-versus-copy\n",
      "  # Remove the CWD from sys.path while we load stuff.\n"
     ]
    }
   ],
   "source": [
    "master_data_set['MULTI_CURRENCY_FEE']=0\n",
    "\n",
    "master_data_set['MULTI_CURRENCY_FEE'][(master_data_set['MULTI_CURRENCY_APPLICABLE']=='Yes')&(master_data_set['BRAND']=='MasterCard')&(master_data_set['Regionality']=='Domestic')&(master_data_set['TRANSACTION_CURRENCY']!=master_data_set['ASSESSMENT_CURRENCY'])]=.0003\n",
    "master_data_set['MULTI_CURRENCY_FEE'][(master_data_set['MULTI_CURRENCY_APPLICABLE']=='Yes')&(master_data_set['BRAND']=='Maestro')&(master_data_set['Regionality']=='Domestic')&(master_data_set['TRANSACTION_CURRENCY']!=master_data_set['ASSESSMENT_CURRENCY'])]=.0003\n",
    "\n",
    "master_data_set['MULTI_CURRENCY_FEE'][(master_data_set['MULTI_CURRENCY_APPLICABLE']=='Yes')&(master_data_set['BRAND']=='MasterCard')&(master_data_set['Regionality']=='Intra-Region')&(master_data_set['TRANSACTION_CURRENCY']!=master_data_set['ASSESSMENT_CURRENCY'])]=.0003\n",
    "master_data_set['MULTI_CURRENCY_FEE'][(master_data_set['MULTI_CURRENCY_APPLICABLE']=='Yes')&(master_data_set['BRAND']=='Maestro')&(master_data_set['Regionality']=='Intra-Region')&(master_data_set['TRANSACTION_CURRENCY']!=master_data_set['ASSESSMENT_CURRENCY'])]=.0003\n",
    "\n",
    "master_data_set['MULTI_CURRENCY_FEE'][(master_data_set['MULTI_CURRENCY_APPLICABLE']=='Yes')&(master_data_set['BRAND']=='MasterCard')&(master_data_set['Regionality']=='Inter-Region')&(master_data_set['TRANSACTION_CURRENCY']!=master_data_set['ASSESSMENT_CURRENCY'])]=.0013\n",
    "master_data_set['MULTI_CURRENCY_FEE'][(master_data_set['MULTI_CURRENCY_APPLICABLE']=='Yes')&(master_data_set['BRAND']=='Maestro')&(master_data_set['Regionality']=='Inter-Region')&(master_data_set['TRANSACTION_CURRENCY']!=master_data_set['ASSESSMENT_CURRENCY'])]=.0013\n",
    "\n",
    "\n",
    "master_data_set['HYPOTHETICAL_SF']=(master_data_set['Fixed']*master_data_set['VOLUME'])+(master_data_set['Percent']*master_data_set['FLOW_EUR'])+(master_data_set['MULTI_CURRENCY_FEE']*master_data_set['FLOW_EUR'])"
   ]
  },
  {
   "cell_type": "code",
   "execution_count": 352,
   "metadata": {},
   "outputs": [
    {
     "name": "stderr",
     "output_type": "stream",
     "text": [
      "C:\\Users\\djohnson\\new_python_version\\Local\\Continuum\\anaconda2\\envs\\py3k\\lib\\site-packages\\ipykernel_launcher.py:1: SettingWithCopyWarning: \n",
      "A value is trying to be set on a copy of a slice from a DataFrame\n",
      "\n",
      "See the caveats in the documentation: http://pandas.pydata.org/pandas-docs/stable/indexing.html#indexing-view-versus-copy\n",
      "  \"\"\"Entry point for launching an IPython kernel.\n"
     ]
    }
   ],
   "source": [
    "master_data_set['MULTI_CURRENCY_APPLICABLE'][(master_data_set['MULTI_CURRENCY_FEE']==0)]='No'"
   ]
  },
  {
   "cell_type": "code",
   "execution_count": 353,
   "metadata": {},
   "outputs": [],
   "source": [
    "master_data_set=master_data_set[(master_data_set['BRAND']!='Discover')].copy()"
   ]
  },
  {
   "cell_type": "code",
   "execution_count": 354,
   "metadata": {},
   "outputs": [
    {
     "data": {
      "text/html": [
       "<div>\n",
       "<style scoped>\n",
       "    .dataframe tbody tr th:only-of-type {\n",
       "        vertical-align: middle;\n",
       "    }\n",
       "\n",
       "    .dataframe tbody tr th {\n",
       "        vertical-align: top;\n",
       "    }\n",
       "\n",
       "    .dataframe thead th {\n",
       "        text-align: right;\n",
       "    }\n",
       "</style>\n",
       "<table border=\"1\" class=\"dataframe\">\n",
       "  <thead>\n",
       "    <tr style=\"text-align: right;\">\n",
       "      <th></th>\n",
       "      <th>MONTH</th>\n",
       "      <th>CONTRACT_ID</th>\n",
       "      <th>MID</th>\n",
       "      <th>MID_NAME</th>\n",
       "      <th>CREDIT_DEBIT_CARD</th>\n",
       "      <th>REGION</th>\n",
       "      <th>CARD_PLAN</th>\n",
       "      <th>CARD_TYPE</th>\n",
       "      <th>CHARGE_TYPE_DESCRIPTION</th>\n",
       "      <th>PRODUCT_CODE</th>\n",
       "      <th>...</th>\n",
       "      <th>Regionality</th>\n",
       "      <th>PERIOD</th>\n",
       "      <th>Security Level</th>\n",
       "      <th>Product</th>\n",
       "      <th>Concatenate</th>\n",
       "      <th>ICPLUS_TYPE</th>\n",
       "      <th>Fixed</th>\n",
       "      <th>Percent</th>\n",
       "      <th>MULTI_CURRENCY_FEE</th>\n",
       "      <th>HYPOTHETICAL_SF</th>\n",
       "    </tr>\n",
       "  </thead>\n",
       "  <tbody>\n",
       "    <tr>\n",
       "      <th>0</th>\n",
       "      <td>8</td>\n",
       "      <td>0042</td>\n",
       "      <td>2101077585</td>\n",
       "      <td>LC PERU AIRLINES</td>\n",
       "      <td>D</td>\n",
       "      <td>INTER</td>\n",
       "      <td>MCDE</td>\n",
       "      <td>MC CONS DB</td>\n",
       "      <td>MC IRN DC STD   CON N</td>\n",
       "      <td>100453</td>\n",
       "      <td>...</td>\n",
       "      <td>Inter-Region</td>\n",
       "      <td>postjuly18</td>\n",
       "      <td>Nonsecure</td>\n",
       "      <td>MasterCardDebit</td>\n",
       "      <td>MasterCardDebitIrelandInter-Region</td>\n",
       "      <td>NaN</td>\n",
       "      <td>0.087000</td>\n",
       "      <td>0.005398</td>\n",
       "      <td>0.001300</td>\n",
       "      <td>8.470677</td>\n",
       "    </tr>\n",
       "    <tr>\n",
       "      <th>1</th>\n",
       "      <td>8</td>\n",
       "      <td>1183</td>\n",
       "      <td>2101378761</td>\n",
       "      <td>ALL NIPPON AIRWAYS</td>\n",
       "      <td>C</td>\n",
       "      <td>DOMESTIC</td>\n",
       "      <td>VISA</td>\n",
       "      <td>VI CONS CR</td>\n",
       "      <td>VI DA  DC STD   CLS N</td>\n",
       "      <td>100443</td>\n",
       "      <td>...</td>\n",
       "      <td>Domestic</td>\n",
       "      <td>postjuly18</td>\n",
       "      <td>Nonsecure</td>\n",
       "      <td>Visa</td>\n",
       "      <td>VisaIrelandDomestic</td>\n",
       "      <td>NaN</td>\n",
       "      <td>0.008200</td>\n",
       "      <td>0.000260</td>\n",
       "      <td>0.000000</td>\n",
       "      <td>0.049198</td>\n",
       "    </tr>\n",
       "    <tr>\n",
       "      <th>2</th>\n",
       "      <td>8</td>\n",
       "      <td>6014</td>\n",
       "      <td>2100968122</td>\n",
       "      <td>ANA GLOBAL ONLINE SALES</td>\n",
       "      <td>C</td>\n",
       "      <td>INTRA</td>\n",
       "      <td>VISA</td>\n",
       "      <td>VI CONS CR</td>\n",
       "      <td>VI IAP DC ECOM  GLD S         EC</td>\n",
       "      <td>100443</td>\n",
       "      <td>...</td>\n",
       "      <td>Intra-Region</td>\n",
       "      <td>postjuly18</td>\n",
       "      <td>Nonsecure</td>\n",
       "      <td>Visa</td>\n",
       "      <td>VisaIrelandIntra-Region</td>\n",
       "      <td>NaN</td>\n",
       "      <td>0.016800</td>\n",
       "      <td>0.000260</td>\n",
       "      <td>0.000000</td>\n",
       "      <td>5.125743</td>\n",
       "    </tr>\n",
       "    <tr>\n",
       "      <th>3</th>\n",
       "      <td>8</td>\n",
       "      <td>5242</td>\n",
       "      <td>2100584921</td>\n",
       "      <td>ANA</td>\n",
       "      <td>C</td>\n",
       "      <td>INTRA</td>\n",
       "      <td>VISA</td>\n",
       "      <td>VI CONS PR</td>\n",
       "      <td>VI IAP DC ECOM  INF S         EC</td>\n",
       "      <td>100443</td>\n",
       "      <td>...</td>\n",
       "      <td>Intra-Region</td>\n",
       "      <td>postjuly18</td>\n",
       "      <td>Nonsecure</td>\n",
       "      <td>Visa</td>\n",
       "      <td>VisaIrelandIntra-Region</td>\n",
       "      <td>NaN</td>\n",
       "      <td>0.016800</td>\n",
       "      <td>0.000260</td>\n",
       "      <td>0.000000</td>\n",
       "      <td>19.611821</td>\n",
       "    </tr>\n",
       "    <tr>\n",
       "      <th>4</th>\n",
       "      <td>8</td>\n",
       "      <td>5242</td>\n",
       "      <td>2100584905</td>\n",
       "      <td>ANA</td>\n",
       "      <td>C</td>\n",
       "      <td>INTRA</td>\n",
       "      <td>VISA</td>\n",
       "      <td>VI CONS PR</td>\n",
       "      <td>VI IAP DC ECOM  PLT S         EC</td>\n",
       "      <td>100443</td>\n",
       "      <td>...</td>\n",
       "      <td>Intra-Region</td>\n",
       "      <td>postjuly18</td>\n",
       "      <td>Nonsecure</td>\n",
       "      <td>Visa</td>\n",
       "      <td>VisaIrelandIntra-Region</td>\n",
       "      <td>NaN</td>\n",
       "      <td>0.016800</td>\n",
       "      <td>0.000260</td>\n",
       "      <td>0.000000</td>\n",
       "      <td>66.270666</td>\n",
       "    </tr>\n",
       "  </tbody>\n",
       "</table>\n",
       "<p>5 rows × 34 columns</p>\n",
       "</div>"
      ],
      "text/plain": [
       "   MONTH CONTRACT_ID         MID                 MID_NAME CREDIT_DEBIT_CARD  \\\n",
       "0      8        0042  2101077585         LC PERU AIRLINES                 D   \n",
       "1      8        1183  2101378761       ALL NIPPON AIRWAYS                 C   \n",
       "2      8        6014  2100968122  ANA GLOBAL ONLINE SALES                 C   \n",
       "3      8        5242  2100584921                      ANA                 C   \n",
       "4      8        5242  2100584905                      ANA                 C   \n",
       "\n",
       "     REGION CARD_PLAN   CARD_TYPE           CHARGE_TYPE_DESCRIPTION  \\\n",
       "0     INTER      MCDE  MC CONS DB             MC IRN DC STD   CON N   \n",
       "1  DOMESTIC      VISA  VI CONS CR             VI DA  DC STD   CLS N   \n",
       "2     INTRA      VISA  VI CONS CR  VI IAP DC ECOM  GLD S         EC   \n",
       "3     INTRA      VISA  VI CONS PR  VI IAP DC ECOM  INF S         EC   \n",
       "4     INTRA      VISA  VI CONS PR  VI IAP DC ECOM  PLT S         EC   \n",
       "\n",
       "   PRODUCT_CODE       ...         Regionality      PERIOD  Security Level  \\\n",
       "0        100453       ...        Inter-Region  postjuly18       Nonsecure   \n",
       "1        100443       ...            Domestic  postjuly18       Nonsecure   \n",
       "2        100443       ...        Intra-Region  postjuly18       Nonsecure   \n",
       "3        100443       ...        Intra-Region  postjuly18       Nonsecure   \n",
       "4        100443       ...        Intra-Region  postjuly18       Nonsecure   \n",
       "\n",
       "           Product                         Concatenate ICPLUS_TYPE    Fixed  \\\n",
       "0  MasterCardDebit  MasterCardDebitIrelandInter-Region         NaN 0.087000   \n",
       "1             Visa                 VisaIrelandDomestic         NaN 0.008200   \n",
       "2             Visa             VisaIrelandIntra-Region         NaN 0.016800   \n",
       "3             Visa             VisaIrelandIntra-Region         NaN 0.016800   \n",
       "4             Visa             VisaIrelandIntra-Region         NaN 0.016800   \n",
       "\n",
       "   Percent MULTI_CURRENCY_FEE HYPOTHETICAL_SF  \n",
       "0 0.005398           0.001300        8.470677  \n",
       "1 0.000260           0.000000        0.049198  \n",
       "2 0.000260           0.000000        5.125743  \n",
       "3 0.000260           0.000000       19.611821  \n",
       "4 0.000260           0.000000       66.270666  \n",
       "\n",
       "[5 rows x 34 columns]"
      ]
     },
     "execution_count": 354,
     "metadata": {},
     "output_type": "execute_result"
    }
   ],
   "source": [
    "master_data_set.head()"
   ]
  },
  {
   "cell_type": "code",
   "execution_count": 355,
   "metadata": {},
   "outputs": [],
   "source": [
    "master_data_set=master_data_set.drop_duplicates().copy()"
   ]
  },
  {
   "cell_type": "code",
   "execution_count": 356,
   "metadata": {},
   "outputs": [],
   "source": [
    "master_data_set.to_csv('d:\\\\djohnson\\\\Desktop\\\\elavon_sf_analysis\\\\elavon_sf_analysis.csv')"
   ]
  }
 ],
 "metadata": {
  "kernelspec": {
   "display_name": "Python 3",
   "language": "python",
   "name": "python3"
  },
  "language_info": {
   "codemirror_mode": {
    "name": "ipython",
    "version": 3
   },
   "file_extension": ".py",
   "mimetype": "text/x-python",
   "name": "python",
   "nbconvert_exporter": "python",
   "pygments_lexer": "ipython3",
   "version": "3.6.5"
  }
 },
 "nbformat": 4,
 "nbformat_minor": 2
}
