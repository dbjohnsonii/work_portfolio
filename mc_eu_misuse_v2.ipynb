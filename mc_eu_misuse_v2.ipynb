{
 "cells": [
  {
   "cell_type": "code",
   "execution_count": 1,
   "metadata": {
    "collapsed": false
   },
   "outputs": [
    {
     "data": {
      "text/html": [
       "<style>.container { width:95% !important; }</style>"
      ],
      "text/plain": [
       "<IPython.core.display.HTML object>"
      ]
     },
     "metadata": {},
     "output_type": "display_data"
    },
    {
     "name": "stdout",
     "output_type": "stream",
     "text": [
      "2.7.12 |Anaconda 4.2.0 (64-bit)| (default, Jun 29 2016, 11:07:13) [MSC v.1500 64 bit (AMD64)]\n"
     ]
    }
   ],
   "source": [
    "from IPython.core.display import display, HTML\n",
    "display(HTML(\"<style>.container { width:95% !important; }</style>\"))\n",
    "import sys\n",
    "print (sys.version)"
   ]
  },
  {
   "cell_type": "code",
   "execution_count": 2,
   "metadata": {
    "collapsed": true
   },
   "outputs": [],
   "source": [
    "import pandas as pd #CONNECT TO THE PANDAS LIBRARY\n",
    "import numpy as np #IMPORT NUMPY"
   ]
  },
  {
   "cell_type": "code",
   "execution_count": 3,
   "metadata": {
    "collapsed": true
   },
   "outputs": [],
   "source": [
    "import datetime\n",
    "now = datetime.datetime.now()\n",
    "#day=\"%s/%s\" % (now.month-1,now.year)\n",
    "#day_save=\"%s_%s\" % (now.month-1,now.year)\n",
    "#year=now.year\n",
    "#month=now.month\n",
    "\n",
    "#day=day\n",
    "#print day\n",
    "\n",
    "#day_save=day_save\n",
    "#print day_save\n",
    "\n",
    "#month=month-1\n",
    "#print month\n",
    "month=4\n",
    "day=201804"
   ]
  },
  {
   "cell_type": "code",
   "execution_count": 4,
   "metadata": {
    "collapsed": true
   },
   "outputs": [],
   "source": [
    "acq_col_names=['STATUSMONTH',\n",
    "           'STATUSYEAR',\n",
    "           'ORDERID',\n",
    "           'CONTRACT_ID',\n",
    "           'CLIENT_NAME',\n",
    "           'REQUESTAUTHORIZEDAMOUNT',\n",
    "           'CURRENCYCODE',\n",
    "           'CURRENT_PAYMENTSTATUSID_UPDATED',\n",
    "           'PAYMENTPRODUCTID',\n",
    "           'PAYMENTMETHODID',\n",
    "           'PAYMENTPROCESSORNUMBER',\n",
    "           'CREDITCARDCOMPANY',\n",
    "           'COUNTRYCODE',\n",
    "           'BIN',\n",
    "           'INVOICE_CURRENCY',\n",
    "           'SERVICEPROVIDERGROUPNAME',\n",
    "           'ICPLUS_TYPE',\n",
    "           'GEOGRAPHICAL_AREA_LOCAL_ACQUIRER_DESC']"
   ]
  },
  {
   "cell_type": "code",
   "execution_count": 5,
   "metadata": {
    "collapsed": true
   },
   "outputs": [],
   "source": [
    "curr_col_names=['us_conversion','eu_conversion','CURRENCYCODE','STATUSYEAR','STATUSMONTH']"
   ]
  },
  {
   "cell_type": "code",
   "execution_count": 6,
   "metadata": {
    "collapsed": false,
    "scrolled": true
   },
   "outputs": [
    {
     "name": "stderr",
     "output_type": "stream",
     "text": [
      "C:\\Users\\djohnson\\AppData\\Local\\Continuum\\Anaconda2\\lib\\site-packages\\IPython\\core\\interactiveshell.py:2717: DtypeWarning: Columns (0) have mixed types. Specify dtype option on import or set low_memory=False.\n",
      "  interactivity=interactivity, compiler=compiler, result=result)\n"
     ]
    }
   ],
   "source": [
    "curr=pd.read_csv('G:\\\\Pricing\\\\Pricing Intelligence\\\\Projects\\\\IC_Opt_project\\\\pi_implementation\\\\currency_conversion\\\\monthly\\\\currency_monthly_data.csv')\n",
    "excep=pd.read_csv('G:\\\\Pricing\\\\Pricing Intelligence\\\\Projects\\\\IC_Opt_project\\\\pi_implementation\\\\misuse_of_authorization_fee\\\\reference_tables\\\\mu_exceptions_tbl.csv')\n",
    "\n",
    "prd_ref_tbl=pd.read_csv('G:\\\\Pricing\\\\Pricing Intelligence\\\\Projects\\\\IC_Opt_project\\\\pi_implementation\\\\misuse_of_authorization_fee\\\\reference_tables\\\\mc_product_ref_tbl.csv')\n",
    "prd_ref_tbl=prd_ref_tbl[['CREDITDEBITINDICATOR','CURRENCYCODE','PRODUCT_CODE']]\n",
    "\n",
    "vi=pd.read_csv('d:\\\\djohnson\\\\Desktop\\\\misuse\\\\2018\\\\apr\\\\data_files\\\\mc_euro_misuse.csv',sep=';',names=acq_col_names,skiprows=66)\n",
    "con=pd.read_csv('d:\\\\djohnson\\\\Desktop\\\\misuse\\\\2018\\\\apr\\\\currency_conversion\\\\monthly_currency_average.csv',sep=';',names=curr_col_names,skiprows=9)"
   ]
  },
  {
   "cell_type": "code",
   "execution_count": 7,
   "metadata": {
    "collapsed": true
   },
   "outputs": [],
   "source": [
    "con['STATUSMONTH']=4\n",
    "vi['STATUSMONTH']=4"
   ]
  },
  {
   "cell_type": "code",
   "execution_count": 8,
   "metadata": {
    "collapsed": false
   },
   "outputs": [
    {
     "data": {
      "text/html": [
       "<div>\n",
       "<table border=\"1\" class=\"dataframe\">\n",
       "  <thead>\n",
       "    <tr style=\"text-align: right;\">\n",
       "      <th></th>\n",
       "      <th>us_conversion</th>\n",
       "      <th>eu_conversion</th>\n",
       "      <th>CURRENCYCODE</th>\n",
       "      <th>STATUSYEAR</th>\n",
       "      <th>STATUSMONTH</th>\n",
       "    </tr>\n",
       "  </thead>\n",
       "  <tbody>\n",
       "    <tr>\n",
       "      <th>0</th>\n",
       "      <td>20.214</td>\n",
       "      <td>24.804</td>\n",
       "      <td>ARS</td>\n",
       "      <td>2018</td>\n",
       "      <td>4</td>\n",
       "    </tr>\n",
       "    <tr>\n",
       "      <th>1</th>\n",
       "      <td>1.302</td>\n",
       "      <td>1.597</td>\n",
       "      <td>AUD</td>\n",
       "      <td>2018</td>\n",
       "      <td>4</td>\n",
       "    </tr>\n",
       "    <tr>\n",
       "      <th>2</th>\n",
       "      <td>1.583</td>\n",
       "      <td>1.942</td>\n",
       "      <td>BAM</td>\n",
       "      <td>2018</td>\n",
       "      <td>4</td>\n",
       "    </tr>\n",
       "    <tr>\n",
       "      <th>3</th>\n",
       "      <td>1758.548</td>\n",
       "      <td>2157.916</td>\n",
       "      <td>BIF</td>\n",
       "      <td>2018</td>\n",
       "      <td>4</td>\n",
       "    </tr>\n",
       "    <tr>\n",
       "      <th>4</th>\n",
       "      <td>1.317</td>\n",
       "      <td>1.616</td>\n",
       "      <td>BND</td>\n",
       "      <td>2018</td>\n",
       "      <td>4</td>\n",
       "    </tr>\n",
       "  </tbody>\n",
       "</table>\n",
       "</div>"
      ],
      "text/plain": [
       "   us_conversion  eu_conversion CURRENCYCODE  STATUSYEAR  STATUSMONTH\n",
       "0         20.214         24.804        ARS          2018            4\n",
       "1          1.302          1.597        AUD          2018            4\n",
       "2          1.583          1.942        BAM          2018            4\n",
       "3       1758.548       2157.916        BIF          2018            4\n",
       "4          1.317          1.616        BND          2018            4"
      ]
     },
     "execution_count": 8,
     "metadata": {},
     "output_type": "execute_result"
    }
   ],
   "source": [
    "con.head()"
   ]
  },
  {
   "cell_type": "code",
   "execution_count": 9,
   "metadata": {
    "collapsed": false
   },
   "outputs": [
    {
     "name": "stdout",
     "output_type": "stream",
     "text": [
      "<class 'pandas.core.frame.DataFrame'>\n",
      "RangeIndex: 178 entries, 0 to 177\n",
      "Data columns (total 5 columns):\n",
      "us_conversion    178 non-null float64\n",
      "eu_conversion    178 non-null float64\n",
      "CURRENCYCODE     178 non-null object\n",
      "STATUSYEAR       178 non-null int64\n",
      "STATUSMONTH      178 non-null int64\n",
      "dtypes: float64(2), int64(2), object(1)\n",
      "memory usage: 7.0+ KB\n"
     ]
    }
   ],
   "source": [
    "con.info()"
   ]
  },
  {
   "cell_type": "code",
   "execution_count": 10,
   "metadata": {
    "collapsed": true
   },
   "outputs": [],
   "source": [
    "vi['CURRENCYCODE']=vi['CURRENCYCODE'].str.strip()\n",
    "vi['ICPLUS_TYPE']=vi['ICPLUS_TYPE'].str.strip()\n",
    "con['CURRENCYCODE']=con['CURRENCYCODE'].str.strip()"
   ]
  },
  {
   "cell_type": "code",
   "execution_count": 11,
   "metadata": {
    "collapsed": false
   },
   "outputs": [
    {
     "name": "stderr",
     "output_type": "stream",
     "text": [
      "C:\\Users\\djohnson\\AppData\\Local\\Continuum\\Anaconda2\\lib\\site-packages\\ipykernel\\__main__.py:1: SettingWithCopyWarning: \n",
      "A value is trying to be set on a copy of a slice from a DataFrame\n",
      "\n",
      "See the caveats in the documentation: http://pandas.pydata.org/pandas-docs/stable/indexing.html#indexing-view-versus-copy\n",
      "  if __name__ == '__main__':\n"
     ]
    }
   ],
   "source": [
    "vi['ICPLUS_TYPE'][(vi['ICPLUS_TYPE']=='Blended')]='-'"
   ]
  },
  {
   "cell_type": "code",
   "execution_count": 12,
   "metadata": {
    "collapsed": false
   },
   "outputs": [],
   "source": [
    "vi_mu_working_data=vi #Create a working reference of the misuse of information"
   ]
  },
  {
   "cell_type": "code",
   "execution_count": 13,
   "metadata": {
    "collapsed": false
   },
   "outputs": [],
   "source": [
    "vi_mu_working_data.rename(columns={'GEOGRAPHICAL_AREA_LOCAL_ACQUIRER_DESC,': 'GEOGRAPHICAL_AREA_LOCAL_ACQUIRER_DESC'}, inplace=True)#Update the name to USD conversion factor\n",
    "vi_mu_working_data['CREDITDEBITINDICATOR']='C'"
   ]
  },
  {
   "cell_type": "code",
   "execution_count": 14,
   "metadata": {
    "collapsed": false
   },
   "outputs": [
    {
     "name": "stdout",
     "output_type": "stream",
     "text": [
      "<class 'pandas.core.frame.DataFrame'>\n",
      "RangeIndex: 37937 entries, 0 to 37936\n",
      "Data columns (total 19 columns):\n",
      "STATUSMONTH                              37937 non-null int64\n",
      "STATUSYEAR                               37936 non-null float64\n",
      "ORDERID                                  37936 non-null float64\n",
      "CONTRACT_ID                              37936 non-null float64\n",
      "CLIENT_NAME                              37936 non-null object\n",
      "REQUESTAUTHORIZEDAMOUNT                  37936 non-null float64\n",
      "CURRENCYCODE                             37936 non-null object\n",
      "CURRENT_PAYMENTSTATUSID_UPDATED          37936 non-null float64\n",
      "PAYMENTPRODUCTID                         37936 non-null float64\n",
      "PAYMENTMETHODID                          37936 non-null float64\n",
      "PAYMENTPROCESSORNUMBER                   37936 non-null float64\n",
      "CREDITCARDCOMPANY                        37936 non-null object\n",
      "COUNTRYCODE                              37931 non-null object\n",
      "BIN                                      37936 non-null float64\n",
      "INVOICE_CURRENCY                         37936 non-null object\n",
      "SERVICEPROVIDERGROUPNAME                 37936 non-null object\n",
      "ICPLUS_TYPE                              37936 non-null object\n",
      "GEOGRAPHICAL_AREA_LOCAL_ACQUIRER_DESC    37936 non-null object\n",
      "CREDITDEBITINDICATOR                     37937 non-null object\n",
      "dtypes: float64(9), int64(1), object(9)\n",
      "memory usage: 5.5+ MB\n"
     ]
    }
   ],
   "source": [
    "vi.info()"
   ]
  },
  {
   "cell_type": "code",
   "execution_count": 15,
   "metadata": {
    "collapsed": false
   },
   "outputs": [
    {
     "data": {
      "text/html": [
       "<div>\n",
       "<table border=\"1\" class=\"dataframe\">\n",
       "  <thead>\n",
       "    <tr style=\"text-align: right;\">\n",
       "      <th></th>\n",
       "      <th>STATUSMONTH</th>\n",
       "      <th>STATUSYEAR</th>\n",
       "      <th>ORDERID</th>\n",
       "      <th>CONTRACT_ID</th>\n",
       "      <th>CLIENT_NAME</th>\n",
       "      <th>REQUESTAUTHORIZEDAMOUNT</th>\n",
       "      <th>CURRENCYCODE</th>\n",
       "      <th>CURRENT_PAYMENTSTATUSID_UPDATED</th>\n",
       "      <th>PAYMENTPRODUCTID</th>\n",
       "      <th>PAYMENTMETHODID</th>\n",
       "      <th>PAYMENTPROCESSORNUMBER</th>\n",
       "      <th>CREDITCARDCOMPANY</th>\n",
       "      <th>COUNTRYCODE</th>\n",
       "      <th>BIN</th>\n",
       "      <th>INVOICE_CURRENCY</th>\n",
       "      <th>SERVICEPROVIDERGROUPNAME</th>\n",
       "      <th>ICPLUS_TYPE</th>\n",
       "      <th>GEOGRAPHICAL_AREA_LOCAL_ACQUIRER_DESC</th>\n",
       "      <th>CREDITDEBITINDICATOR</th>\n",
       "    </tr>\n",
       "  </thead>\n",
       "  <tbody>\n",
       "    <tr>\n",
       "      <th>0</th>\n",
       "      <td>4</td>\n",
       "      <td>2018.0</td>\n",
       "      <td>1.251348e+08</td>\n",
       "      <td>5252.0</td>\n",
       "      <td>FL_IE</td>\n",
       "      <td>100.0</td>\n",
       "      <td>GBP</td>\n",
       "      <td>600.0</td>\n",
       "      <td>3.0</td>\n",
       "      <td>1.0</td>\n",
       "      <td>205.0</td>\n",
       "      <td>ECMC</td>\n",
       "      <td>IE</td>\n",
       "      <td>557379.0</td>\n",
       "      <td>USD</td>\n",
       "      <td>AIB</td>\n",
       "      <td>-</td>\n",
       "      <td>Europe</td>\n",
       "      <td>C</td>\n",
       "    </tr>\n",
       "    <tr>\n",
       "      <th>1</th>\n",
       "      <td>4</td>\n",
       "      <td>2018.0</td>\n",
       "      <td>1.152582e+08</td>\n",
       "      <td>7489.0</td>\n",
       "      <td>Valve Cards EU/UK</td>\n",
       "      <td>188.0</td>\n",
       "      <td>EUR</td>\n",
       "      <td>600.0</td>\n",
       "      <td>3.0</td>\n",
       "      <td>1.0</td>\n",
       "      <td>205.0</td>\n",
       "      <td>ECMC</td>\n",
       "      <td>HR</td>\n",
       "      <td>513686.0</td>\n",
       "      <td>USD</td>\n",
       "      <td>AIB</td>\n",
       "      <td>Cost Plus</td>\n",
       "      <td>Europe</td>\n",
       "      <td>C</td>\n",
       "    </tr>\n",
       "    <tr>\n",
       "      <th>2</th>\n",
       "      <td>4</td>\n",
       "      <td>2018.0</td>\n",
       "      <td>4.000287e+09</td>\n",
       "      <td>5820.0</td>\n",
       "      <td>Despegar ROW</td>\n",
       "      <td>100.0</td>\n",
       "      <td>USD</td>\n",
       "      <td>600.0</td>\n",
       "      <td>3.0</td>\n",
       "      <td>1.0</td>\n",
       "      <td>205.0</td>\n",
       "      <td>ECMC</td>\n",
       "      <td>EC</td>\n",
       "      <td>518172.0</td>\n",
       "      <td>USD</td>\n",
       "      <td>AIB</td>\n",
       "      <td>-</td>\n",
       "      <td>Europe</td>\n",
       "      <td>C</td>\n",
       "    </tr>\n",
       "    <tr>\n",
       "      <th>3</th>\n",
       "      <td>4</td>\n",
       "      <td>2018.0</td>\n",
       "      <td>1.038835e+06</td>\n",
       "      <td>4922.0</td>\n",
       "      <td>Financial Times-UK offline sub</td>\n",
       "      <td>100.0</td>\n",
       "      <td>GBP</td>\n",
       "      <td>600.0</td>\n",
       "      <td>3.0</td>\n",
       "      <td>1.0</td>\n",
       "      <td>205.0</td>\n",
       "      <td>ECMC</td>\n",
       "      <td>GB</td>\n",
       "      <td>556951.0</td>\n",
       "      <td>EUR</td>\n",
       "      <td>AIB</td>\n",
       "      <td>-</td>\n",
       "      <td>Europe</td>\n",
       "      <td>C</td>\n",
       "    </tr>\n",
       "    <tr>\n",
       "      <th>4</th>\n",
       "      <td>4</td>\n",
       "      <td>2018.0</td>\n",
       "      <td>1.247500e+08</td>\n",
       "      <td>4482.0</td>\n",
       "      <td>FL_UK</td>\n",
       "      <td>100.0</td>\n",
       "      <td>GBP</td>\n",
       "      <td>600.0</td>\n",
       "      <td>3.0</td>\n",
       "      <td>1.0</td>\n",
       "      <td>205.0</td>\n",
       "      <td>ECMC</td>\n",
       "      <td>IT</td>\n",
       "      <td>533317.0</td>\n",
       "      <td>USD</td>\n",
       "      <td>AIB</td>\n",
       "      <td>-</td>\n",
       "      <td>Europe</td>\n",
       "      <td>C</td>\n",
       "    </tr>\n",
       "  </tbody>\n",
       "</table>\n",
       "</div>"
      ],
      "text/plain": [
       "   STATUSMONTH  STATUSYEAR       ORDERID  CONTRACT_ID  \\\n",
       "0            4      2018.0  1.251348e+08       5252.0   \n",
       "1            4      2018.0  1.152582e+08       7489.0   \n",
       "2            4      2018.0  4.000287e+09       5820.0   \n",
       "3            4      2018.0  1.038835e+06       4922.0   \n",
       "4            4      2018.0  1.247500e+08       4482.0   \n",
       "\n",
       "                      CLIENT_NAME  REQUESTAUTHORIZEDAMOUNT CURRENCYCODE  \\\n",
       "0  FL_IE                                             100.0          GBP   \n",
       "1  Valve Cards EU/UK                                 188.0          EUR   \n",
       "2  Despegar ROW                                      100.0          USD   \n",
       "3  Financial Times-UK offline sub                    100.0          GBP   \n",
       "4  FL_UK                                             100.0          GBP   \n",
       "\n",
       "   CURRENT_PAYMENTSTATUSID_UPDATED  PAYMENTPRODUCTID  PAYMENTMETHODID  \\\n",
       "0                            600.0               3.0              1.0   \n",
       "1                            600.0               3.0              1.0   \n",
       "2                            600.0               3.0              1.0   \n",
       "3                            600.0               3.0              1.0   \n",
       "4                            600.0               3.0              1.0   \n",
       "\n",
       "   PAYMENTPROCESSORNUMBER CREDITCARDCOMPANY COUNTRYCODE       BIN  \\\n",
       "0                   205.0              ECMC          IE  557379.0   \n",
       "1                   205.0              ECMC          HR  513686.0   \n",
       "2                   205.0              ECMC          EC  518172.0   \n",
       "3                   205.0              ECMC          GB  556951.0   \n",
       "4                   205.0              ECMC          IT  533317.0   \n",
       "\n",
       "  INVOICE_CURRENCY                  SERVICEPROVIDERGROUPNAME ICPLUS_TYPE  \\\n",
       "0              USD  AIB                                                -   \n",
       "1              USD  AIB                                        Cost Plus   \n",
       "2              USD  AIB                                                -   \n",
       "3              EUR  AIB                                                -   \n",
       "4              USD  AIB                                                -   \n",
       "\n",
       "  GEOGRAPHICAL_AREA_LOCAL_ACQUIRER_DESC CREDITDEBITINDICATOR  \n",
       "0                                Europe                    C  \n",
       "1                                Europe                    C  \n",
       "2                                Europe                    C  \n",
       "3                                Europe                    C  \n",
       "4                                Europe                    C  "
      ]
     },
     "execution_count": 15,
     "metadata": {},
     "output_type": "execute_result"
    }
   ],
   "source": [
    "vi_mu_working_data.head()"
   ]
  },
  {
   "cell_type": "code",
   "execution_count": 16,
   "metadata": {
    "collapsed": true
   },
   "outputs": [],
   "source": [
    "vi_mu_working_data['REQUESTAUTHORIZEDAMOUNT']=vi_mu_working_data['REQUESTAUTHORIZEDAMOUNT']/100.0"
   ]
  },
  {
   "cell_type": "code",
   "execution_count": 17,
   "metadata": {
    "collapsed": false
   },
   "outputs": [
    {
     "data": {
      "text/html": [
       "<div>\n",
       "<table border=\"1\" class=\"dataframe\">\n",
       "  <thead>\n",
       "    <tr style=\"text-align: right;\">\n",
       "      <th></th>\n",
       "      <th>STATUSMONTH</th>\n",
       "      <th>STATUSYEAR</th>\n",
       "      <th>ORDERID</th>\n",
       "      <th>CONTRACT_ID</th>\n",
       "      <th>CLIENT_NAME</th>\n",
       "      <th>REQUESTAUTHORIZEDAMOUNT</th>\n",
       "      <th>CURRENCYCODE</th>\n",
       "      <th>CURRENT_PAYMENTSTATUSID_UPDATED</th>\n",
       "      <th>PAYMENTPRODUCTID</th>\n",
       "      <th>PAYMENTMETHODID</th>\n",
       "      <th>PAYMENTPROCESSORNUMBER</th>\n",
       "      <th>CREDITCARDCOMPANY</th>\n",
       "      <th>COUNTRYCODE</th>\n",
       "      <th>BIN</th>\n",
       "      <th>INVOICE_CURRENCY</th>\n",
       "      <th>SERVICEPROVIDERGROUPNAME</th>\n",
       "      <th>ICPLUS_TYPE</th>\n",
       "      <th>GEOGRAPHICAL_AREA_LOCAL_ACQUIRER_DESC</th>\n",
       "      <th>CREDITDEBITINDICATOR</th>\n",
       "    </tr>\n",
       "  </thead>\n",
       "  <tbody>\n",
       "    <tr>\n",
       "      <th>0</th>\n",
       "      <td>4</td>\n",
       "      <td>2018.0</td>\n",
       "      <td>1.251348e+08</td>\n",
       "      <td>5252.0</td>\n",
       "      <td>FL_IE</td>\n",
       "      <td>1.00</td>\n",
       "      <td>GBP</td>\n",
       "      <td>600.0</td>\n",
       "      <td>3.0</td>\n",
       "      <td>1.0</td>\n",
       "      <td>205.0</td>\n",
       "      <td>ECMC</td>\n",
       "      <td>IE</td>\n",
       "      <td>557379.0</td>\n",
       "      <td>USD</td>\n",
       "      <td>AIB</td>\n",
       "      <td>-</td>\n",
       "      <td>Europe</td>\n",
       "      <td>C</td>\n",
       "    </tr>\n",
       "    <tr>\n",
       "      <th>1</th>\n",
       "      <td>4</td>\n",
       "      <td>2018.0</td>\n",
       "      <td>1.152582e+08</td>\n",
       "      <td>7489.0</td>\n",
       "      <td>Valve Cards EU/UK</td>\n",
       "      <td>1.88</td>\n",
       "      <td>EUR</td>\n",
       "      <td>600.0</td>\n",
       "      <td>3.0</td>\n",
       "      <td>1.0</td>\n",
       "      <td>205.0</td>\n",
       "      <td>ECMC</td>\n",
       "      <td>HR</td>\n",
       "      <td>513686.0</td>\n",
       "      <td>USD</td>\n",
       "      <td>AIB</td>\n",
       "      <td>Cost Plus</td>\n",
       "      <td>Europe</td>\n",
       "      <td>C</td>\n",
       "    </tr>\n",
       "    <tr>\n",
       "      <th>2</th>\n",
       "      <td>4</td>\n",
       "      <td>2018.0</td>\n",
       "      <td>4.000287e+09</td>\n",
       "      <td>5820.0</td>\n",
       "      <td>Despegar ROW</td>\n",
       "      <td>1.00</td>\n",
       "      <td>USD</td>\n",
       "      <td>600.0</td>\n",
       "      <td>3.0</td>\n",
       "      <td>1.0</td>\n",
       "      <td>205.0</td>\n",
       "      <td>ECMC</td>\n",
       "      <td>EC</td>\n",
       "      <td>518172.0</td>\n",
       "      <td>USD</td>\n",
       "      <td>AIB</td>\n",
       "      <td>-</td>\n",
       "      <td>Europe</td>\n",
       "      <td>C</td>\n",
       "    </tr>\n",
       "    <tr>\n",
       "      <th>3</th>\n",
       "      <td>4</td>\n",
       "      <td>2018.0</td>\n",
       "      <td>1.038835e+06</td>\n",
       "      <td>4922.0</td>\n",
       "      <td>Financial Times-UK offline sub</td>\n",
       "      <td>1.00</td>\n",
       "      <td>GBP</td>\n",
       "      <td>600.0</td>\n",
       "      <td>3.0</td>\n",
       "      <td>1.0</td>\n",
       "      <td>205.0</td>\n",
       "      <td>ECMC</td>\n",
       "      <td>GB</td>\n",
       "      <td>556951.0</td>\n",
       "      <td>EUR</td>\n",
       "      <td>AIB</td>\n",
       "      <td>-</td>\n",
       "      <td>Europe</td>\n",
       "      <td>C</td>\n",
       "    </tr>\n",
       "    <tr>\n",
       "      <th>4</th>\n",
       "      <td>4</td>\n",
       "      <td>2018.0</td>\n",
       "      <td>1.247500e+08</td>\n",
       "      <td>4482.0</td>\n",
       "      <td>FL_UK</td>\n",
       "      <td>1.00</td>\n",
       "      <td>GBP</td>\n",
       "      <td>600.0</td>\n",
       "      <td>3.0</td>\n",
       "      <td>1.0</td>\n",
       "      <td>205.0</td>\n",
       "      <td>ECMC</td>\n",
       "      <td>IT</td>\n",
       "      <td>533317.0</td>\n",
       "      <td>USD</td>\n",
       "      <td>AIB</td>\n",
       "      <td>-</td>\n",
       "      <td>Europe</td>\n",
       "      <td>C</td>\n",
       "    </tr>\n",
       "  </tbody>\n",
       "</table>\n",
       "</div>"
      ],
      "text/plain": [
       "   STATUSMONTH  STATUSYEAR       ORDERID  CONTRACT_ID  \\\n",
       "0            4      2018.0  1.251348e+08       5252.0   \n",
       "1            4      2018.0  1.152582e+08       7489.0   \n",
       "2            4      2018.0  4.000287e+09       5820.0   \n",
       "3            4      2018.0  1.038835e+06       4922.0   \n",
       "4            4      2018.0  1.247500e+08       4482.0   \n",
       "\n",
       "                      CLIENT_NAME  REQUESTAUTHORIZEDAMOUNT CURRENCYCODE  \\\n",
       "0  FL_IE                                              1.00          GBP   \n",
       "1  Valve Cards EU/UK                                  1.88          EUR   \n",
       "2  Despegar ROW                                       1.00          USD   \n",
       "3  Financial Times-UK offline sub                     1.00          GBP   \n",
       "4  FL_UK                                              1.00          GBP   \n",
       "\n",
       "   CURRENT_PAYMENTSTATUSID_UPDATED  PAYMENTPRODUCTID  PAYMENTMETHODID  \\\n",
       "0                            600.0               3.0              1.0   \n",
       "1                            600.0               3.0              1.0   \n",
       "2                            600.0               3.0              1.0   \n",
       "3                            600.0               3.0              1.0   \n",
       "4                            600.0               3.0              1.0   \n",
       "\n",
       "   PAYMENTPROCESSORNUMBER CREDITCARDCOMPANY COUNTRYCODE       BIN  \\\n",
       "0                   205.0              ECMC          IE  557379.0   \n",
       "1                   205.0              ECMC          HR  513686.0   \n",
       "2                   205.0              ECMC          EC  518172.0   \n",
       "3                   205.0              ECMC          GB  556951.0   \n",
       "4                   205.0              ECMC          IT  533317.0   \n",
       "\n",
       "  INVOICE_CURRENCY                  SERVICEPROVIDERGROUPNAME ICPLUS_TYPE  \\\n",
       "0              USD  AIB                                                -   \n",
       "1              USD  AIB                                        Cost Plus   \n",
       "2              USD  AIB                                                -   \n",
       "3              EUR  AIB                                                -   \n",
       "4              USD  AIB                                                -   \n",
       "\n",
       "  GEOGRAPHICAL_AREA_LOCAL_ACQUIRER_DESC CREDITDEBITINDICATOR  \n",
       "0                                Europe                    C  \n",
       "1                                Europe                    C  \n",
       "2                                Europe                    C  \n",
       "3                                Europe                    C  \n",
       "4                                Europe                    C  "
      ]
     },
     "execution_count": 17,
     "metadata": {},
     "output_type": "execute_result"
    }
   ],
   "source": [
    "vi_mu_working_data.head()"
   ]
  },
  {
   "cell_type": "code",
   "execution_count": 18,
   "metadata": {
    "collapsed": false
   },
   "outputs": [],
   "source": [
    "vi_mu_working_data=pd.merge(vi_mu_working_data,con,on=['CURRENCYCODE','STATUSMONTH','STATUSYEAR'],how='left')"
   ]
  },
  {
   "cell_type": "code",
   "execution_count": 19,
   "metadata": {
    "collapsed": false
   },
   "outputs": [
    {
     "name": "stdout",
     "output_type": "stream",
     "text": [
      "<class 'pandas.core.frame.DataFrame'>\n",
      "Int64Index: 37937 entries, 0 to 37936\n",
      "Data columns (total 21 columns):\n",
      "STATUSMONTH                              37937 non-null int64\n",
      "STATUSYEAR                               37936 non-null float64\n",
      "ORDERID                                  37936 non-null float64\n",
      "CONTRACT_ID                              37936 non-null float64\n",
      "CLIENT_NAME                              37936 non-null object\n",
      "REQUESTAUTHORIZEDAMOUNT                  37936 non-null float64\n",
      "CURRENCYCODE                             37936 non-null object\n",
      "CURRENT_PAYMENTSTATUSID_UPDATED          37936 non-null float64\n",
      "PAYMENTPRODUCTID                         37936 non-null float64\n",
      "PAYMENTMETHODID                          37936 non-null float64\n",
      "PAYMENTPROCESSORNUMBER                   37936 non-null float64\n",
      "CREDITCARDCOMPANY                        37936 non-null object\n",
      "COUNTRYCODE                              37931 non-null object\n",
      "BIN                                      37936 non-null float64\n",
      "INVOICE_CURRENCY                         37936 non-null object\n",
      "SERVICEPROVIDERGROUPNAME                 37936 non-null object\n",
      "ICPLUS_TYPE                              37936 non-null object\n",
      "GEOGRAPHICAL_AREA_LOCAL_ACQUIRER_DESC    37936 non-null object\n",
      "CREDITDEBITINDICATOR                     37937 non-null object\n",
      "us_conversion                            37936 non-null float64\n",
      "eu_conversion                            37936 non-null float64\n",
      "dtypes: float64(11), int64(1), object(9)\n",
      "memory usage: 6.4+ MB\n"
     ]
    }
   ],
   "source": [
    "vi_mu_working_data.info()"
   ]
  },
  {
   "cell_type": "code",
   "execution_count": 20,
   "metadata": {
    "collapsed": true
   },
   "outputs": [],
   "source": [
    "vi_mu_working_data['REQUESTAUTHORIZEDAMOUNT']=vi_mu_working_data['REQUESTAUTHORIZEDAMOUNT']/vi_mu_working_data['eu_conversion']"
   ]
  },
  {
   "cell_type": "code",
   "execution_count": 21,
   "metadata": {
    "collapsed": false
   },
   "outputs": [
    {
     "name": "stdout",
     "output_type": "stream",
     "text": [
      "<class 'pandas.core.frame.DataFrame'>\n",
      "Int64Index: 37937 entries, 0 to 37936\n",
      "Data columns (total 21 columns):\n",
      "STATUSMONTH                              37937 non-null int64\n",
      "STATUSYEAR                               37936 non-null float64\n",
      "ORDERID                                  37936 non-null float64\n",
      "CONTRACT_ID                              37936 non-null float64\n",
      "CLIENT_NAME                              37936 non-null object\n",
      "REQUESTAUTHORIZEDAMOUNT                  37936 non-null float64\n",
      "CURRENCYCODE                             37936 non-null object\n",
      "CURRENT_PAYMENTSTATUSID_UPDATED          37936 non-null float64\n",
      "PAYMENTPRODUCTID                         37936 non-null float64\n",
      "PAYMENTMETHODID                          37936 non-null float64\n",
      "PAYMENTPROCESSORNUMBER                   37936 non-null float64\n",
      "CREDITCARDCOMPANY                        37936 non-null object\n",
      "COUNTRYCODE                              37931 non-null object\n",
      "BIN                                      37936 non-null float64\n",
      "INVOICE_CURRENCY                         37936 non-null object\n",
      "SERVICEPROVIDERGROUPNAME                 37936 non-null object\n",
      "ICPLUS_TYPE                              37936 non-null object\n",
      "GEOGRAPHICAL_AREA_LOCAL_ACQUIRER_DESC    37936 non-null object\n",
      "CREDITDEBITINDICATOR                     37937 non-null object\n",
      "us_conversion                            37936 non-null float64\n",
      "eu_conversion                            37936 non-null float64\n",
      "dtypes: float64(11), int64(1), object(9)\n",
      "memory usage: 6.4+ MB\n"
     ]
    }
   ],
   "source": [
    "vi_mu_working_data.info()"
   ]
  },
  {
   "cell_type": "code",
   "execution_count": 22,
   "metadata": {
    "collapsed": false
   },
   "outputs": [
    {
     "data": {
      "text/html": [
       "<div>\n",
       "<table border=\"1\" class=\"dataframe\">\n",
       "  <thead>\n",
       "    <tr style=\"text-align: right;\">\n",
       "      <th></th>\n",
       "      <th>STATUSMONTH</th>\n",
       "      <th>STATUSYEAR</th>\n",
       "      <th>ORDERID</th>\n",
       "      <th>CONTRACT_ID</th>\n",
       "      <th>CLIENT_NAME</th>\n",
       "      <th>REQUESTAUTHORIZEDAMOUNT</th>\n",
       "      <th>CURRENCYCODE</th>\n",
       "      <th>CURRENT_PAYMENTSTATUSID_UPDATED</th>\n",
       "      <th>PAYMENTPRODUCTID</th>\n",
       "      <th>PAYMENTMETHODID</th>\n",
       "      <th>...</th>\n",
       "      <th>CREDITCARDCOMPANY</th>\n",
       "      <th>COUNTRYCODE</th>\n",
       "      <th>BIN</th>\n",
       "      <th>INVOICE_CURRENCY</th>\n",
       "      <th>SERVICEPROVIDERGROUPNAME</th>\n",
       "      <th>ICPLUS_TYPE</th>\n",
       "      <th>GEOGRAPHICAL_AREA_LOCAL_ACQUIRER_DESC</th>\n",
       "      <th>CREDITDEBITINDICATOR</th>\n",
       "      <th>us_conversion</th>\n",
       "      <th>eu_conversion</th>\n",
       "    </tr>\n",
       "  </thead>\n",
       "  <tbody>\n",
       "    <tr>\n",
       "      <th>0</th>\n",
       "      <td>4</td>\n",
       "      <td>2018.0</td>\n",
       "      <td>1.251348e+08</td>\n",
       "      <td>5252.0</td>\n",
       "      <td>FL_IE</td>\n",
       "      <td>1.145475</td>\n",
       "      <td>GBP</td>\n",
       "      <td>600.0</td>\n",
       "      <td>3.0</td>\n",
       "      <td>1.0</td>\n",
       "      <td>...</td>\n",
       "      <td>ECMC</td>\n",
       "      <td>IE</td>\n",
       "      <td>557379.0</td>\n",
       "      <td>USD</td>\n",
       "      <td>AIB</td>\n",
       "      <td>-</td>\n",
       "      <td>Europe</td>\n",
       "      <td>C</td>\n",
       "      <td>0.711</td>\n",
       "      <td>0.873</td>\n",
       "    </tr>\n",
       "    <tr>\n",
       "      <th>1</th>\n",
       "      <td>4</td>\n",
       "      <td>2018.0</td>\n",
       "      <td>1.152582e+08</td>\n",
       "      <td>7489.0</td>\n",
       "      <td>Valve Cards EU/UK</td>\n",
       "      <td>1.880000</td>\n",
       "      <td>EUR</td>\n",
       "      <td>600.0</td>\n",
       "      <td>3.0</td>\n",
       "      <td>1.0</td>\n",
       "      <td>...</td>\n",
       "      <td>ECMC</td>\n",
       "      <td>HR</td>\n",
       "      <td>513686.0</td>\n",
       "      <td>USD</td>\n",
       "      <td>AIB</td>\n",
       "      <td>Cost Plus</td>\n",
       "      <td>Europe</td>\n",
       "      <td>C</td>\n",
       "      <td>0.815</td>\n",
       "      <td>1.000</td>\n",
       "    </tr>\n",
       "    <tr>\n",
       "      <th>2</th>\n",
       "      <td>4</td>\n",
       "      <td>2018.0</td>\n",
       "      <td>4.000287e+09</td>\n",
       "      <td>5820.0</td>\n",
       "      <td>Despegar ROW</td>\n",
       "      <td>0.814996</td>\n",
       "      <td>USD</td>\n",
       "      <td>600.0</td>\n",
       "      <td>3.0</td>\n",
       "      <td>1.0</td>\n",
       "      <td>...</td>\n",
       "      <td>ECMC</td>\n",
       "      <td>EC</td>\n",
       "      <td>518172.0</td>\n",
       "      <td>USD</td>\n",
       "      <td>AIB</td>\n",
       "      <td>-</td>\n",
       "      <td>Europe</td>\n",
       "      <td>C</td>\n",
       "      <td>1.000</td>\n",
       "      <td>1.227</td>\n",
       "    </tr>\n",
       "    <tr>\n",
       "      <th>3</th>\n",
       "      <td>4</td>\n",
       "      <td>2018.0</td>\n",
       "      <td>1.038835e+06</td>\n",
       "      <td>4922.0</td>\n",
       "      <td>Financial Times-UK offline sub</td>\n",
       "      <td>1.145475</td>\n",
       "      <td>GBP</td>\n",
       "      <td>600.0</td>\n",
       "      <td>3.0</td>\n",
       "      <td>1.0</td>\n",
       "      <td>...</td>\n",
       "      <td>ECMC</td>\n",
       "      <td>GB</td>\n",
       "      <td>556951.0</td>\n",
       "      <td>EUR</td>\n",
       "      <td>AIB</td>\n",
       "      <td>-</td>\n",
       "      <td>Europe</td>\n",
       "      <td>C</td>\n",
       "      <td>0.711</td>\n",
       "      <td>0.873</td>\n",
       "    </tr>\n",
       "    <tr>\n",
       "      <th>4</th>\n",
       "      <td>4</td>\n",
       "      <td>2018.0</td>\n",
       "      <td>1.247500e+08</td>\n",
       "      <td>4482.0</td>\n",
       "      <td>FL_UK</td>\n",
       "      <td>1.145475</td>\n",
       "      <td>GBP</td>\n",
       "      <td>600.0</td>\n",
       "      <td>3.0</td>\n",
       "      <td>1.0</td>\n",
       "      <td>...</td>\n",
       "      <td>ECMC</td>\n",
       "      <td>IT</td>\n",
       "      <td>533317.0</td>\n",
       "      <td>USD</td>\n",
       "      <td>AIB</td>\n",
       "      <td>-</td>\n",
       "      <td>Europe</td>\n",
       "      <td>C</td>\n",
       "      <td>0.711</td>\n",
       "      <td>0.873</td>\n",
       "    </tr>\n",
       "  </tbody>\n",
       "</table>\n",
       "<p>5 rows × 21 columns</p>\n",
       "</div>"
      ],
      "text/plain": [
       "   STATUSMONTH  STATUSYEAR       ORDERID  CONTRACT_ID  \\\n",
       "0            4      2018.0  1.251348e+08       5252.0   \n",
       "1            4      2018.0  1.152582e+08       7489.0   \n",
       "2            4      2018.0  4.000287e+09       5820.0   \n",
       "3            4      2018.0  1.038835e+06       4922.0   \n",
       "4            4      2018.0  1.247500e+08       4482.0   \n",
       "\n",
       "                      CLIENT_NAME  REQUESTAUTHORIZEDAMOUNT CURRENCYCODE  \\\n",
       "0  FL_IE                                          1.145475          GBP   \n",
       "1  Valve Cards EU/UK                              1.880000          EUR   \n",
       "2  Despegar ROW                                   0.814996          USD   \n",
       "3  Financial Times-UK offline sub                 1.145475          GBP   \n",
       "4  FL_UK                                          1.145475          GBP   \n",
       "\n",
       "   CURRENT_PAYMENTSTATUSID_UPDATED  PAYMENTPRODUCTID  PAYMENTMETHODID  \\\n",
       "0                            600.0               3.0              1.0   \n",
       "1                            600.0               3.0              1.0   \n",
       "2                            600.0               3.0              1.0   \n",
       "3                            600.0               3.0              1.0   \n",
       "4                            600.0               3.0              1.0   \n",
       "\n",
       "       ...        CREDITCARDCOMPANY COUNTRYCODE       BIN  INVOICE_CURRENCY  \\\n",
       "0      ...                     ECMC          IE  557379.0               USD   \n",
       "1      ...                     ECMC          HR  513686.0               USD   \n",
       "2      ...                     ECMC          EC  518172.0               USD   \n",
       "3      ...                     ECMC          GB  556951.0               EUR   \n",
       "4      ...                     ECMC          IT  533317.0               USD   \n",
       "\n",
       "                   SERVICEPROVIDERGROUPNAME ICPLUS_TYPE  \\\n",
       "0  AIB                                                -   \n",
       "1  AIB                                        Cost Plus   \n",
       "2  AIB                                                -   \n",
       "3  AIB                                                -   \n",
       "4  AIB                                                -   \n",
       "\n",
       "  GEOGRAPHICAL_AREA_LOCAL_ACQUIRER_DESC CREDITDEBITINDICATOR us_conversion  \\\n",
       "0                                Europe                    C         0.711   \n",
       "1                                Europe                    C         0.815   \n",
       "2                                Europe                    C         1.000   \n",
       "3                                Europe                    C         0.711   \n",
       "4                                Europe                    C         0.711   \n",
       "\n",
       "   eu_conversion  \n",
       "0          0.873  \n",
       "1          1.000  \n",
       "2          1.227  \n",
       "3          0.873  \n",
       "4          0.873  \n",
       "\n",
       "[5 rows x 21 columns]"
      ]
     },
     "execution_count": 22,
     "metadata": {},
     "output_type": "execute_result"
    }
   ],
   "source": [
    "vi_mu_working_data.head()"
   ]
  },
  {
   "cell_type": "code",
   "execution_count": 23,
   "metadata": {
    "collapsed": false
   },
   "outputs": [],
   "source": [
    "vi_mu_working_data['0.25%_P/T']=vi_mu_working_data['REQUESTAUTHORIZEDAMOUNT']*.0025\n",
    "vi_mu_working_data['0.03_P/T']=1*0.03\n",
    "vi_mu_working_data['PROCESS_INTEGRITY_FEE']=vi_mu_working_data[['0.25%_P/T','0.03_P/T']].max(axis=1) # Select the max across two columns"
   ]
  },
  {
   "cell_type": "code",
   "execution_count": 24,
   "metadata": {
    "collapsed": false
   },
   "outputs": [
    {
     "data": {
      "text/html": [
       "<div>\n",
       "<table border=\"1\" class=\"dataframe\">\n",
       "  <thead>\n",
       "    <tr style=\"text-align: right;\">\n",
       "      <th></th>\n",
       "      <th>STATUSMONTH</th>\n",
       "      <th>STATUSYEAR</th>\n",
       "      <th>ORDERID</th>\n",
       "      <th>CONTRACT_ID</th>\n",
       "      <th>CLIENT_NAME</th>\n",
       "      <th>REQUESTAUTHORIZEDAMOUNT</th>\n",
       "      <th>CURRENCYCODE</th>\n",
       "      <th>CURRENT_PAYMENTSTATUSID_UPDATED</th>\n",
       "      <th>PAYMENTPRODUCTID</th>\n",
       "      <th>PAYMENTMETHODID</th>\n",
       "      <th>...</th>\n",
       "      <th>INVOICE_CURRENCY</th>\n",
       "      <th>SERVICEPROVIDERGROUPNAME</th>\n",
       "      <th>ICPLUS_TYPE</th>\n",
       "      <th>GEOGRAPHICAL_AREA_LOCAL_ACQUIRER_DESC</th>\n",
       "      <th>CREDITDEBITINDICATOR</th>\n",
       "      <th>us_conversion</th>\n",
       "      <th>eu_conversion</th>\n",
       "      <th>0.25%_P/T</th>\n",
       "      <th>0.03_P/T</th>\n",
       "      <th>PROCESS_INTEGRITY_FEE</th>\n",
       "    </tr>\n",
       "  </thead>\n",
       "  <tbody>\n",
       "    <tr>\n",
       "      <th>0</th>\n",
       "      <td>4</td>\n",
       "      <td>2018.0</td>\n",
       "      <td>1.251348e+08</td>\n",
       "      <td>5252.0</td>\n",
       "      <td>FL_IE</td>\n",
       "      <td>1.145475</td>\n",
       "      <td>GBP</td>\n",
       "      <td>600.0</td>\n",
       "      <td>3.0</td>\n",
       "      <td>1.0</td>\n",
       "      <td>...</td>\n",
       "      <td>USD</td>\n",
       "      <td>AIB</td>\n",
       "      <td>-</td>\n",
       "      <td>Europe</td>\n",
       "      <td>C</td>\n",
       "      <td>0.711</td>\n",
       "      <td>0.873</td>\n",
       "      <td>0.002864</td>\n",
       "      <td>0.03</td>\n",
       "      <td>0.03</td>\n",
       "    </tr>\n",
       "    <tr>\n",
       "      <th>1</th>\n",
       "      <td>4</td>\n",
       "      <td>2018.0</td>\n",
       "      <td>1.152582e+08</td>\n",
       "      <td>7489.0</td>\n",
       "      <td>Valve Cards EU/UK</td>\n",
       "      <td>1.880000</td>\n",
       "      <td>EUR</td>\n",
       "      <td>600.0</td>\n",
       "      <td>3.0</td>\n",
       "      <td>1.0</td>\n",
       "      <td>...</td>\n",
       "      <td>USD</td>\n",
       "      <td>AIB</td>\n",
       "      <td>Cost Plus</td>\n",
       "      <td>Europe</td>\n",
       "      <td>C</td>\n",
       "      <td>0.815</td>\n",
       "      <td>1.000</td>\n",
       "      <td>0.004700</td>\n",
       "      <td>0.03</td>\n",
       "      <td>0.03</td>\n",
       "    </tr>\n",
       "    <tr>\n",
       "      <th>2</th>\n",
       "      <td>4</td>\n",
       "      <td>2018.0</td>\n",
       "      <td>4.000287e+09</td>\n",
       "      <td>5820.0</td>\n",
       "      <td>Despegar ROW</td>\n",
       "      <td>0.814996</td>\n",
       "      <td>USD</td>\n",
       "      <td>600.0</td>\n",
       "      <td>3.0</td>\n",
       "      <td>1.0</td>\n",
       "      <td>...</td>\n",
       "      <td>USD</td>\n",
       "      <td>AIB</td>\n",
       "      <td>-</td>\n",
       "      <td>Europe</td>\n",
       "      <td>C</td>\n",
       "      <td>1.000</td>\n",
       "      <td>1.227</td>\n",
       "      <td>0.002037</td>\n",
       "      <td>0.03</td>\n",
       "      <td>0.03</td>\n",
       "    </tr>\n",
       "    <tr>\n",
       "      <th>3</th>\n",
       "      <td>4</td>\n",
       "      <td>2018.0</td>\n",
       "      <td>1.038835e+06</td>\n",
       "      <td>4922.0</td>\n",
       "      <td>Financial Times-UK offline sub</td>\n",
       "      <td>1.145475</td>\n",
       "      <td>GBP</td>\n",
       "      <td>600.0</td>\n",
       "      <td>3.0</td>\n",
       "      <td>1.0</td>\n",
       "      <td>...</td>\n",
       "      <td>EUR</td>\n",
       "      <td>AIB</td>\n",
       "      <td>-</td>\n",
       "      <td>Europe</td>\n",
       "      <td>C</td>\n",
       "      <td>0.711</td>\n",
       "      <td>0.873</td>\n",
       "      <td>0.002864</td>\n",
       "      <td>0.03</td>\n",
       "      <td>0.03</td>\n",
       "    </tr>\n",
       "    <tr>\n",
       "      <th>4</th>\n",
       "      <td>4</td>\n",
       "      <td>2018.0</td>\n",
       "      <td>1.247500e+08</td>\n",
       "      <td>4482.0</td>\n",
       "      <td>FL_UK</td>\n",
       "      <td>1.145475</td>\n",
       "      <td>GBP</td>\n",
       "      <td>600.0</td>\n",
       "      <td>3.0</td>\n",
       "      <td>1.0</td>\n",
       "      <td>...</td>\n",
       "      <td>USD</td>\n",
       "      <td>AIB</td>\n",
       "      <td>-</td>\n",
       "      <td>Europe</td>\n",
       "      <td>C</td>\n",
       "      <td>0.711</td>\n",
       "      <td>0.873</td>\n",
       "      <td>0.002864</td>\n",
       "      <td>0.03</td>\n",
       "      <td>0.03</td>\n",
       "    </tr>\n",
       "  </tbody>\n",
       "</table>\n",
       "<p>5 rows × 24 columns</p>\n",
       "</div>"
      ],
      "text/plain": [
       "   STATUSMONTH  STATUSYEAR       ORDERID  CONTRACT_ID  \\\n",
       "0            4      2018.0  1.251348e+08       5252.0   \n",
       "1            4      2018.0  1.152582e+08       7489.0   \n",
       "2            4      2018.0  4.000287e+09       5820.0   \n",
       "3            4      2018.0  1.038835e+06       4922.0   \n",
       "4            4      2018.0  1.247500e+08       4482.0   \n",
       "\n",
       "                      CLIENT_NAME  REQUESTAUTHORIZEDAMOUNT CURRENCYCODE  \\\n",
       "0  FL_IE                                          1.145475          GBP   \n",
       "1  Valve Cards EU/UK                              1.880000          EUR   \n",
       "2  Despegar ROW                                   0.814996          USD   \n",
       "3  Financial Times-UK offline sub                 1.145475          GBP   \n",
       "4  FL_UK                                          1.145475          GBP   \n",
       "\n",
       "   CURRENT_PAYMENTSTATUSID_UPDATED  PAYMENTPRODUCTID  PAYMENTMETHODID  \\\n",
       "0                            600.0               3.0              1.0   \n",
       "1                            600.0               3.0              1.0   \n",
       "2                            600.0               3.0              1.0   \n",
       "3                            600.0               3.0              1.0   \n",
       "4                            600.0               3.0              1.0   \n",
       "\n",
       "           ...            INVOICE_CURRENCY  \\\n",
       "0          ...                         USD   \n",
       "1          ...                         USD   \n",
       "2          ...                         USD   \n",
       "3          ...                         EUR   \n",
       "4          ...                         USD   \n",
       "\n",
       "                   SERVICEPROVIDERGROUPNAME ICPLUS_TYPE  \\\n",
       "0  AIB                                                -   \n",
       "1  AIB                                        Cost Plus   \n",
       "2  AIB                                                -   \n",
       "3  AIB                                                -   \n",
       "4  AIB                                                -   \n",
       "\n",
       "   GEOGRAPHICAL_AREA_LOCAL_ACQUIRER_DESC CREDITDEBITINDICATOR us_conversion  \\\n",
       "0                                 Europe                    C         0.711   \n",
       "1                                 Europe                    C         0.815   \n",
       "2                                 Europe                    C         1.000   \n",
       "3                                 Europe                    C         0.711   \n",
       "4                                 Europe                    C         0.711   \n",
       "\n",
       "  eu_conversion 0.25%_P/T 0.03_P/T  PROCESS_INTEGRITY_FEE  \n",
       "0         0.873  0.002864     0.03                   0.03  \n",
       "1         1.000  0.004700     0.03                   0.03  \n",
       "2         1.227  0.002037     0.03                   0.03  \n",
       "3         0.873  0.002864     0.03                   0.03  \n",
       "4         0.873  0.002864     0.03                   0.03  \n",
       "\n",
       "[5 rows x 24 columns]"
      ]
     },
     "execution_count": 24,
     "metadata": {},
     "output_type": "execute_result"
    }
   ],
   "source": [
    "vi_mu_working_data.head()"
   ]
  },
  {
   "cell_type": "code",
   "execution_count": 25,
   "metadata": {
    "collapsed": false,
    "scrolled": true
   },
   "outputs": [],
   "source": [
    "vi_mu_working_data=vi_mu_working_data[['STATUSMONTH','STATUSYEAR','CLIENT_NAME','CONTRACT_ID','SERVICEPROVIDERGROUPNAME','GEOGRAPHICAL_AREA_LOCAL_ACQUIRER_DESC','ORDERID','CREDITDEBITINDICATOR','CURRENCYCODE','REQUESTAUTHORIZEDAMOUNT','INVOICE_CURRENCY','ICPLUS_TYPE','PROCESS_INTEGRITY_FEE']]"
   ]
  },
  {
   "cell_type": "code",
   "execution_count": 26,
   "metadata": {
    "collapsed": true
   },
   "outputs": [],
   "source": [
    "vi_mu_working_data=pd.merge(vi_mu_working_data,prd_ref_tbl,on=['CURRENCYCODE','CREDITDEBITINDICATOR'],how='left')"
   ]
  },
  {
   "cell_type": "code",
   "execution_count": 27,
   "metadata": {
    "collapsed": true
   },
   "outputs": [],
   "source": [
    "vi_mu_working_data=pd.merge(vi_mu_working_data,excep,on=['CONTRACT_ID'],how='left')"
   ]
  },
  {
   "cell_type": "code",
   "execution_count": 28,
   "metadata": {
    "collapsed": false
   },
   "outputs": [
    {
     "name": "stderr",
     "output_type": "stream",
     "text": [
      "C:\\Users\\djohnson\\AppData\\Local\\Continuum\\Anaconda2\\lib\\site-packages\\ipykernel\\__main__.py:1: SettingWithCopyWarning: \n",
      "A value is trying to be set on a copy of a slice from a DataFrame\n",
      "\n",
      "See the caveats in the documentation: http://pandas.pydata.org/pandas-docs/stable/indexing.html#indexing-view-versus-copy\n",
      "  if __name__ == '__main__':\n",
      "C:\\Users\\djohnson\\AppData\\Local\\Continuum\\Anaconda2\\lib\\site-packages\\ipykernel\\__main__.py:2: SettingWithCopyWarning: \n",
      "A value is trying to be set on a copy of a slice from a DataFrame\n",
      "\n",
      "See the caveats in the documentation: http://pandas.pydata.org/pandas-docs/stable/indexing.html#indexing-view-versus-copy\n",
      "  from ipykernel import kernelapp as app\n"
     ]
    }
   ],
   "source": [
    "vi_mu_working_data['ICPLUS_TYPE'][(vi_mu_working_data['CONTRACT_ID']==7162)]=\"-\"\n",
    "vi_mu_working_data['INVOICE_CURRENCY'][(vi_mu_working_data['CONTRACT_ID']==7162)]=\"USD\""
   ]
  },
  {
   "cell_type": "code",
   "execution_count": 29,
   "metadata": {
    "collapsed": false
   },
   "outputs": [
    {
     "data": {
      "text/html": [
       "<div>\n",
       "<table border=\"1\" class=\"dataframe\">\n",
       "  <thead>\n",
       "    <tr style=\"text-align: right;\">\n",
       "      <th></th>\n",
       "      <th>STATUSMONTH</th>\n",
       "      <th>STATUSYEAR</th>\n",
       "      <th>CLIENT_NAME</th>\n",
       "      <th>CONTRACT_ID</th>\n",
       "      <th>SERVICEPROVIDERGROUPNAME</th>\n",
       "      <th>GEOGRAPHICAL_AREA_LOCAL_ACQUIRER_DESC</th>\n",
       "      <th>ORDERID</th>\n",
       "      <th>CREDITDEBITINDICATOR</th>\n",
       "      <th>CURRENCYCODE</th>\n",
       "      <th>REQUESTAUTHORIZEDAMOUNT</th>\n",
       "      <th>INVOICE_CURRENCY</th>\n",
       "      <th>ICPLUS_TYPE</th>\n",
       "      <th>PROCESS_INTEGRITY_FEE</th>\n",
       "      <th>PRODUCT_CODE</th>\n",
       "      <th>EXCEPTION</th>\n",
       "    </tr>\n",
       "  </thead>\n",
       "  <tbody>\n",
       "    <tr>\n",
       "      <th>0</th>\n",
       "      <td>4</td>\n",
       "      <td>2018.0</td>\n",
       "      <td>FL_IE</td>\n",
       "      <td>5252.0</td>\n",
       "      <td>AIB</td>\n",
       "      <td>Europe</td>\n",
       "      <td>1.251348e+08</td>\n",
       "      <td>C</td>\n",
       "      <td>GBP</td>\n",
       "      <td>1.145475</td>\n",
       "      <td>USD</td>\n",
       "      <td>-</td>\n",
       "      <td>0.03</td>\n",
       "      <td>100451.0</td>\n",
       "      <td>NaN</td>\n",
       "    </tr>\n",
       "    <tr>\n",
       "      <th>1</th>\n",
       "      <td>4</td>\n",
       "      <td>2018.0</td>\n",
       "      <td>Valve Cards EU/UK</td>\n",
       "      <td>7489.0</td>\n",
       "      <td>AIB</td>\n",
       "      <td>Europe</td>\n",
       "      <td>1.152582e+08</td>\n",
       "      <td>C</td>\n",
       "      <td>EUR</td>\n",
       "      <td>1.880000</td>\n",
       "      <td>USD</td>\n",
       "      <td>Cost Plus</td>\n",
       "      <td>0.03</td>\n",
       "      <td>100450.0</td>\n",
       "      <td>NaN</td>\n",
       "    </tr>\n",
       "    <tr>\n",
       "      <th>2</th>\n",
       "      <td>4</td>\n",
       "      <td>2018.0</td>\n",
       "      <td>Despegar ROW</td>\n",
       "      <td>5820.0</td>\n",
       "      <td>AIB</td>\n",
       "      <td>Europe</td>\n",
       "      <td>4.000287e+09</td>\n",
       "      <td>C</td>\n",
       "      <td>USD</td>\n",
       "      <td>0.814996</td>\n",
       "      <td>USD</td>\n",
       "      <td>-</td>\n",
       "      <td>0.03</td>\n",
       "      <td>100453.0</td>\n",
       "      <td>YES</td>\n",
       "    </tr>\n",
       "    <tr>\n",
       "      <th>3</th>\n",
       "      <td>4</td>\n",
       "      <td>2018.0</td>\n",
       "      <td>Financial Times-UK offline sub</td>\n",
       "      <td>4922.0</td>\n",
       "      <td>AIB</td>\n",
       "      <td>Europe</td>\n",
       "      <td>1.038835e+06</td>\n",
       "      <td>C</td>\n",
       "      <td>GBP</td>\n",
       "      <td>1.145475</td>\n",
       "      <td>EUR</td>\n",
       "      <td>-</td>\n",
       "      <td>0.03</td>\n",
       "      <td>100451.0</td>\n",
       "      <td>NaN</td>\n",
       "    </tr>\n",
       "    <tr>\n",
       "      <th>4</th>\n",
       "      <td>4</td>\n",
       "      <td>2018.0</td>\n",
       "      <td>FL_UK</td>\n",
       "      <td>4482.0</td>\n",
       "      <td>AIB</td>\n",
       "      <td>Europe</td>\n",
       "      <td>1.247500e+08</td>\n",
       "      <td>C</td>\n",
       "      <td>GBP</td>\n",
       "      <td>1.145475</td>\n",
       "      <td>USD</td>\n",
       "      <td>-</td>\n",
       "      <td>0.03</td>\n",
       "      <td>100451.0</td>\n",
       "      <td>NaN</td>\n",
       "    </tr>\n",
       "  </tbody>\n",
       "</table>\n",
       "</div>"
      ],
      "text/plain": [
       "   STATUSMONTH  STATUSYEAR                     CLIENT_NAME  CONTRACT_ID  \\\n",
       "0            4      2018.0  FL_IE                                5252.0   \n",
       "1            4      2018.0  Valve Cards EU/UK                    7489.0   \n",
       "2            4      2018.0  Despegar ROW                         5820.0   \n",
       "3            4      2018.0  Financial Times-UK offline sub       4922.0   \n",
       "4            4      2018.0  FL_UK                                4482.0   \n",
       "\n",
       "                   SERVICEPROVIDERGROUPNAME  \\\n",
       "0  AIB                                        \n",
       "1  AIB                                        \n",
       "2  AIB                                        \n",
       "3  AIB                                        \n",
       "4  AIB                                        \n",
       "\n",
       "  GEOGRAPHICAL_AREA_LOCAL_ACQUIRER_DESC       ORDERID CREDITDEBITINDICATOR  \\\n",
       "0                                Europe  1.251348e+08                    C   \n",
       "1                                Europe  1.152582e+08                    C   \n",
       "2                                Europe  4.000287e+09                    C   \n",
       "3                                Europe  1.038835e+06                    C   \n",
       "4                                Europe  1.247500e+08                    C   \n",
       "\n",
       "  CURRENCYCODE  REQUESTAUTHORIZEDAMOUNT INVOICE_CURRENCY ICPLUS_TYPE  \\\n",
       "0          GBP                 1.145475              USD           -   \n",
       "1          EUR                 1.880000              USD   Cost Plus   \n",
       "2          USD                 0.814996              USD           -   \n",
       "3          GBP                 1.145475              EUR           -   \n",
       "4          GBP                 1.145475              USD           -   \n",
       "\n",
       "   PROCESS_INTEGRITY_FEE  PRODUCT_CODE EXCEPTION  \n",
       "0                   0.03      100451.0       NaN  \n",
       "1                   0.03      100450.0       NaN  \n",
       "2                   0.03      100453.0       YES  \n",
       "3                   0.03      100451.0       NaN  \n",
       "4                   0.03      100451.0       NaN  "
      ]
     },
     "execution_count": 29,
     "metadata": {},
     "output_type": "execute_result"
    }
   ],
   "source": [
    "vi_mu_working_data.head()"
   ]
  },
  {
   "cell_type": "code",
   "execution_count": 30,
   "metadata": {
    "collapsed": true
   },
   "outputs": [],
   "source": [
    "vi_mu_working_data=pd.merge(vi_mu_working_data,curr,on=['CURRENCYCODE'],how='left')\n",
    "vi_mu_working_data.rename(columns={'EUR_CONVERSION_RATE': 'USD_CONVERSION_FACTOR'}, inplace=True)#Update the name to USD conversion factor"
   ]
  },
  {
   "cell_type": "code",
   "execution_count": 31,
   "metadata": {
    "collapsed": true
   },
   "outputs": [],
   "source": [
    "curr_invoice=curr\n",
    "curr_invoice.rename(columns={'CURRENCYCODE': 'INVOICE_CURRENCY'}, inplace=True)"
   ]
  },
  {
   "cell_type": "code",
   "execution_count": 32,
   "metadata": {
    "collapsed": false
   },
   "outputs": [],
   "source": [
    "vi_mu_working_data=pd.merge(vi_mu_working_data,curr_invoice,on=['INVOICE_CURRENCY'],how='left')\n",
    "vi_mu_working_data['INVOICE_CONVERSION_FACTOR']=vi_mu_working_data['EUR_CONVERSION_RATE']"
   ]
  },
  {
   "cell_type": "code",
   "execution_count": 33,
   "metadata": {
    "collapsed": true
   },
   "outputs": [],
   "source": [
    "vi_mu_working_data['CURRENCY_ADJUSTED_INVOICE_AMOUNT']=vi_mu_working_data['PROCESS_INTEGRITY_FEE']/vi_mu_working_data['INVOICE_CONVERSION_FACTOR']"
   ]
  },
  {
   "cell_type": "code",
   "execution_count": 34,
   "metadata": {
    "collapsed": false
   },
   "outputs": [
    {
     "name": "stderr",
     "output_type": "stream",
     "text": [
      "C:\\Users\\djohnson\\AppData\\Local\\Continuum\\Anaconda2\\lib\\site-packages\\ipykernel\\__main__.py:1: SettingWithCopyWarning: \n",
      "A value is trying to be set on a copy of a slice from a DataFrame\n",
      "\n",
      "See the caveats in the documentation: http://pandas.pydata.org/pandas-docs/stable/indexing.html#indexing-view-versus-copy\n",
      "  if __name__ == '__main__':\n"
     ]
    }
   ],
   "source": [
    "vi_mu_working_data['INVOICE_CURRENCY'][(vi_mu_working_data['INVOICE_CURRENCY'].isnull())&(vi_mu_working_data['CURRENCYCODE']=='CAD')]='USD'"
   ]
  },
  {
   "cell_type": "code",
   "execution_count": 35,
   "metadata": {
    "collapsed": false
   },
   "outputs": [
    {
     "name": "stderr",
     "output_type": "stream",
     "text": [
      "C:\\Users\\djohnson\\AppData\\Local\\Continuum\\Anaconda2\\lib\\site-packages\\ipykernel\\__main__.py:5: SettingWithCopyWarning: \n",
      "A value is trying to be set on a copy of a slice from a DataFrame\n",
      "\n",
      "See the caveats in the documentation: http://pandas.pydata.org/pandas-docs/stable/indexing.html#indexing-view-versus-copy\n",
      "C:\\Users\\djohnson\\AppData\\Local\\Continuum\\Anaconda2\\lib\\site-packages\\ipykernel\\__main__.py:6: SettingWithCopyWarning: \n",
      "A value is trying to be set on a copy of a slice from a DataFrame\n",
      "\n",
      "See the caveats in the documentation: http://pandas.pydata.org/pandas-docs/stable/indexing.html#indexing-view-versus-copy\n"
     ]
    }
   ],
   "source": [
    "curr[(curr['INVOICE_CURRENCY']=='EUR')]\n",
    "\n",
    "usd=curr[:].iloc[4]['EUR_CONVERSION_RATE']#Establish the European Conversion Amount\n",
    "vi_mu_working_data['EUR_TOTAL']=0\n",
    "vi_mu_working_data['EUR_TOTAL'][(vi_mu_working_data['INVOICE_CURRENCY']!=\"EUR\")]=vi_mu_working_data['CURRENCY_ADJUSTED_INVOICE_AMOUNT']/usd\n",
    "vi_mu_working_data['EUR_TOTAL'][(vi_mu_working_data['INVOICE_CURRENCY']==\"EUR\")]=vi_mu_working_data['CURRENCY_ADJUSTED_INVOICE_AMOUNT']"
   ]
  },
  {
   "cell_type": "code",
   "execution_count": 36,
   "metadata": {
    "collapsed": false
   },
   "outputs": [
    {
     "name": "stderr",
     "output_type": "stream",
     "text": [
      "C:\\Users\\djohnson\\AppData\\Local\\Continuum\\Anaconda2\\lib\\site-packages\\ipykernel\\__main__.py:4: SettingWithCopyWarning: \n",
      "A value is trying to be set on a copy of a slice from a DataFrame\n",
      "\n",
      "See the caveats in the documentation: http://pandas.pydata.org/pandas-docs/stable/indexing.html#indexing-view-versus-copy\n",
      "C:\\Users\\djohnson\\AppData\\Local\\Continuum\\Anaconda2\\lib\\site-packages\\ipykernel\\__main__.py:5: SettingWithCopyWarning: \n",
      "A value is trying to be set on a copy of a slice from a DataFrame\n",
      "\n",
      "See the caveats in the documentation: http://pandas.pydata.org/pandas-docs/stable/indexing.html#indexing-view-versus-copy\n",
      "C:\\Users\\djohnson\\AppData\\Local\\Continuum\\Anaconda2\\lib\\site-packages\\ipykernel\\__main__.py:8: SettingWithCopyWarning: \n",
      "A value is trying to be set on a copy of a slice from a DataFrame\n",
      "\n",
      "See the caveats in the documentation: http://pandas.pydata.org/pandas-docs/stable/indexing.html#indexing-view-versus-copy\n",
      "C:\\Users\\djohnson\\AppData\\Local\\Continuum\\Anaconda2\\lib\\site-packages\\ipykernel\\__main__.py:9: SettingWithCopyWarning: \n",
      "A value is trying to be set on a copy of a slice from a DataFrame\n",
      "\n",
      "See the caveats in the documentation: http://pandas.pydata.org/pandas-docs/stable/indexing.html#indexing-view-versus-copy\n"
     ]
    }
   ],
   "source": [
    "vi_mu_working_data['Product Description']='Penalty Fees'\n",
    "\n",
    "vi_mu_working_data['Current % Tariff']=0\n",
    "vi_mu_working_data['Current % Tariff'][(vi_mu_working_data['EXCEPTION']=='YES')]=1\n",
    "vi_mu_working_data['Current % Tariff'][(vi_mu_working_data['EXCEPTION']!='YES')]=1.10\n",
    "\n",
    "vi_mu_working_data['Description']=''\n",
    "vi_mu_working_data['Description'][(vi_mu_working_data['EXCEPTION']=='YES')]='Fee 100.00% or as currently in IST ='\n",
    "vi_mu_working_data['Description'][(vi_mu_working_data['EXCEPTION']!='YES')]='Fee 110.00% or as currently in IST ='\n",
    "\n",
    "vi_mu_working_data['Product Code']=420129"
   ]
  },
  {
   "cell_type": "code",
   "execution_count": 37,
   "metadata": {
    "collapsed": false
   },
   "outputs": [
    {
     "name": "stdout",
     "output_type": "stream",
     "text": [
      "<class 'pandas.core.frame.DataFrame'>\n",
      "Int64Index: 37937 entries, 0 to 37936\n",
      "Data columns (total 26 columns):\n",
      "STATUSMONTH                              37937 non-null int64\n",
      "STATUSYEAR                               37936 non-null float64\n",
      "CLIENT_NAME                              37936 non-null object\n",
      "CONTRACT_ID                              37936 non-null float64\n",
      "SERVICEPROVIDERGROUPNAME                 37936 non-null object\n",
      "GEOGRAPHICAL_AREA_LOCAL_ACQUIRER_DESC    37936 non-null object\n",
      "ORDERID                                  37936 non-null float64\n",
      "CREDITDEBITINDICATOR                     37937 non-null object\n",
      "CURRENCYCODE                             37936 non-null object\n",
      "REQUESTAUTHORIZEDAMOUNT                  37936 non-null float64\n",
      "INVOICE_CURRENCY                         37936 non-null object\n",
      "ICPLUS_TYPE                              37936 non-null object\n",
      "PROCESS_INTEGRITY_FEE                    37937 non-null float64\n",
      "PRODUCT_CODE                             37875 non-null float64\n",
      "EXCEPTION                                734 non-null object\n",
      "Unnamed: 0_x                             23456 non-null float64\n",
      "USD_CONVERSION_FACTOR                    23456 non-null float64\n",
      "Unnamed: 0_y                             37936 non-null float64\n",
      "EUR_CONVERSION_RATE                      37936 non-null float64\n",
      "INVOICE_CONVERSION_FACTOR                37936 non-null float64\n",
      "CURRENCY_ADJUSTED_INVOICE_AMOUNT         37936 non-null float64\n",
      "EUR_TOTAL                                37936 non-null float64\n",
      "Product Description                      37937 non-null object\n",
      "Current % Tariff                         37937 non-null float64\n",
      "Description                              37937 non-null object\n",
      "Product Code                             37937 non-null int64\n",
      "dtypes: float64(14), int64(2), object(10)\n",
      "memory usage: 7.8+ MB\n"
     ]
    }
   ],
   "source": [
    "vi_mu_working_data.info()"
   ]
  },
  {
   "cell_type": "code",
   "execution_count": 38,
   "metadata": {
    "collapsed": false
   },
   "outputs": [],
   "source": [
    "vi_mu_working_data['Total Euros Collected (including current tariff)']=vi_mu_working_data['EUR_TOTAL']*vi_mu_working_data['Current % Tariff']\n",
    "vi_mu_working_data['Invoice Amount (including tariff)']=vi_mu_working_data['CURRENCY_ADJUSTED_INVOICE_AMOUNT']*vi_mu_working_data['Current % Tariff']"
   ]
  },
  {
   "cell_type": "code",
   "execution_count": 39,
   "metadata": {
    "collapsed": false
   },
   "outputs": [],
   "source": [
    "vi_mu_working_data_rev=vi_mu_working_data[['STATUSMONTH'\n",
    "                          ,'STATUSYEAR'\n",
    "                          ,'CLIENT_NAME'\n",
    "                          ,'CONTRACT_ID'\n",
    "                          ,'SERVICEPROVIDERGROUPNAME'\n",
    "                          ,'PRODUCT_CODE'\n",
    "                          ,'GEOGRAPHICAL_AREA_LOCAL_ACQUIRER_DESC'\n",
    "                          ,'ORDERID'\n",
    "                          ,'CREDITDEBITINDICATOR'\n",
    "                          ,'CURRENCYCODE'\n",
    "                          ,'INVOICE_CURRENCY'                         \n",
    "                          ,'REQUESTAUTHORIZEDAMOUNT'\n",
    "                          ,'PROCESS_INTEGRITY_FEE'                                         \n",
    "                          ,'INVOICE_CONVERSION_FACTOR'\n",
    "                          ,'CURRENCY_ADJUSTED_INVOICE_AMOUNT'\n",
    "                          ,'EUR_TOTAL'\n",
    "                          ,'EXCEPTION'                         \n",
    "                          ,'ICPLUS_TYPE']]"
   ]
  },
  {
   "cell_type": "code",
   "execution_count": 40,
   "metadata": {
    "collapsed": true
   },
   "outputs": [],
   "source": [
    "vi_mu_working_data_pivot=vi_mu_working_data_rev"
   ]
  },
  {
   "cell_type": "code",
   "execution_count": 41,
   "metadata": {
    "collapsed": false
   },
   "outputs": [
    {
     "name": "stderr",
     "output_type": "stream",
     "text": [
      "C:\\Users\\djohnson\\AppData\\Local\\Continuum\\Anaconda2\\lib\\site-packages\\ipykernel\\__main__.py:1: SettingWithCopyWarning: \n",
      "A value is trying to be set on a copy of a slice from a DataFrame\n",
      "\n",
      "See the caveats in the documentation: http://pandas.pydata.org/pandas-docs/stable/indexing.html#indexing-view-versus-copy\n",
      "  if __name__ == '__main__':\n",
      "C:\\Users\\djohnson\\AppData\\Local\\Continuum\\Anaconda2\\lib\\site-packages\\pandas\\core\\generic.py:4485: SettingWithCopyWarning: \n",
      "A value is trying to be set on a copy of a slice from a DataFrame\n",
      "\n",
      "See the caveats in the documentation: http://pandas.pydata.org/pandas-docs/stable/indexing.html#indexing-view-versus-copy\n",
      "  self._update_inplace(new_data)\n",
      "C:\\Users\\djohnson\\AppData\\Local\\Continuum\\Anaconda2\\lib\\site-packages\\IPython\\core\\interactiveshell.py:2881: SettingWithCopyWarning: \n",
      "A value is trying to be set on a copy of a slice from a DataFrame\n",
      "\n",
      "See the caveats in the documentation: http://pandas.pydata.org/pandas-docs/stable/indexing.html#indexing-view-versus-copy\n",
      "  exec(code_obj, self.user_global_ns, self.user_ns)\n",
      "C:\\Users\\djohnson\\AppData\\Local\\Continuum\\Anaconda2\\lib\\site-packages\\ipykernel\\__main__.py:2: SettingWithCopyWarning: \n",
      "A value is trying to be set on a copy of a slice from a DataFrame\n",
      "\n",
      "See the caveats in the documentation: http://pandas.pydata.org/pandas-docs/stable/indexing.html#indexing-view-versus-copy\n",
      "  from ipykernel import kernelapp as app\n"
     ]
    }
   ],
   "source": [
    "vi_mu_working_data_pivot['EUR_TOTAL'][(vi_mu_working_data_pivot['EXCEPTION']=='YES')]=vi_mu_working_data_pivot['EUR_TOTAL']*1\n",
    "vi_mu_working_data_pivot['EUR_TOTAL'][(vi_mu_working_data_pivot['EXCEPTION']!='YES')]=vi_mu_working_data_pivot['EUR_TOTAL']*1.10"
   ]
  },
  {
   "cell_type": "code",
   "execution_count": 42,
   "metadata": {
    "collapsed": false
   },
   "outputs": [
    {
     "name": "stdout",
     "output_type": "stream",
     "text": [
      "              EUR_TOTAL                                      \n",
      "ICPLUS_TYPE           -    Cost Plus  IC+SF Plus          All\n",
      "STATUSMONTH                                                  \n",
      "4            601.877019  2197.967057  263.868472  3063.712548\n",
      "All          601.877019  2197.967057  263.868472  3063.712548\n"
     ]
    }
   ],
   "source": [
    "vi_mu_working_data_pivot=vi_mu_working_data_pivot[(vi_mu_working_data_pivot['STATUSMONTH']>=1)]\n",
    "print vi_mu_working_data_pivot.pivot_table(['EUR_TOTAL'],index=['STATUSMONTH'],columns='ICPLUS_TYPE',aggfunc='sum',margins='all')"
   ]
  },
  {
   "cell_type": "code",
   "execution_count": 43,
   "metadata": {
    "collapsed": false
   },
   "outputs": [
    {
     "name": "stdout",
     "output_type": "stream",
     "text": [
      "            ORDERID                              \n",
      "ICPLUS_TYPE       - Cost Plus IC+SF Plus      All\n",
      "STATUSMONTH                                      \n",
      "4            7704.0   26362.0     3870.0  37936.0\n",
      "All          7704.0   26362.0     3870.0  37936.0\n"
     ]
    }
   ],
   "source": [
    "vi_mu_working_data_pivot=vi_mu_working_data_pivot[(vi_mu_working_data_pivot['STATUSMONTH']>=1)]\n",
    "print vi_mu_working_data_pivot.pivot_table(['ORDERID'],index=['STATUSMONTH'],columns='ICPLUS_TYPE',aggfunc='count',margins='all')"
   ]
  },
  {
   "cell_type": "code",
   "execution_count": 44,
   "metadata": {
    "collapsed": false
   },
   "outputs": [
    {
     "name": "stderr",
     "output_type": "stream",
     "text": [
      "C:\\Users\\djohnson\\AppData\\Local\\Continuum\\Anaconda2\\lib\\site-packages\\ipykernel\\__main__.py:2: SettingWithCopyWarning: \n",
      "A value is trying to be set on a copy of a slice from a DataFrame.\n",
      "Try using .loc[row_indexer,col_indexer] = value instead\n",
      "\n",
      "See the caveats in the documentation: http://pandas.pydata.org/pandas-docs/stable/indexing.html#indexing-view-versus-copy\n",
      "  from ipykernel import kernelapp as app\n",
      "C:\\Users\\djohnson\\AppData\\Local\\Continuum\\Anaconda2\\lib\\site-packages\\ipykernel\\__main__.py:4: SettingWithCopyWarning: \n",
      "A value is trying to be set on a copy of a slice from a DataFrame.\n",
      "Try using .loc[row_indexer,col_indexer] = value instead\n",
      "\n",
      "See the caveats in the documentation: http://pandas.pydata.org/pandas-docs/stable/indexing.html#indexing-view-versus-copy\n",
      "C:\\Users\\djohnson\\AppData\\Local\\Continuum\\Anaconda2\\lib\\site-packages\\ipykernel\\__main__.py:5: SettingWithCopyWarning: \n",
      "A value is trying to be set on a copy of a slice from a DataFrame\n",
      "\n",
      "See the caveats in the documentation: http://pandas.pydata.org/pandas-docs/stable/indexing.html#indexing-view-versus-copy\n",
      "C:\\Users\\djohnson\\AppData\\Local\\Continuum\\Anaconda2\\lib\\site-packages\\ipykernel\\__main__.py:6: SettingWithCopyWarning: \n",
      "A value is trying to be set on a copy of a slice from a DataFrame\n",
      "\n",
      "See the caveats in the documentation: http://pandas.pydata.org/pandas-docs/stable/indexing.html#indexing-view-versus-copy\n",
      "C:\\Users\\djohnson\\AppData\\Local\\Continuum\\Anaconda2\\lib\\site-packages\\ipykernel\\__main__.py:8: SettingWithCopyWarning: \n",
      "A value is trying to be set on a copy of a slice from a DataFrame.\n",
      "Try using .loc[row_indexer,col_indexer] = value instead\n",
      "\n",
      "See the caveats in the documentation: http://pandas.pydata.org/pandas-docs/stable/indexing.html#indexing-view-versus-copy\n",
      "C:\\Users\\djohnson\\AppData\\Local\\Continuum\\Anaconda2\\lib\\site-packages\\ipykernel\\__main__.py:9: SettingWithCopyWarning: \n",
      "A value is trying to be set on a copy of a slice from a DataFrame\n",
      "\n",
      "See the caveats in the documentation: http://pandas.pydata.org/pandas-docs/stable/indexing.html#indexing-view-versus-copy\n",
      "C:\\Users\\djohnson\\AppData\\Local\\Continuum\\Anaconda2\\lib\\site-packages\\ipykernel\\__main__.py:10: SettingWithCopyWarning: \n",
      "A value is trying to be set on a copy of a slice from a DataFrame\n",
      "\n",
      "See the caveats in the documentation: http://pandas.pydata.org/pandas-docs/stable/indexing.html#indexing-view-versus-copy\n",
      "C:\\Users\\djohnson\\AppData\\Local\\Continuum\\Anaconda2\\lib\\site-packages\\ipykernel\\__main__.py:14: SettingWithCopyWarning: \n",
      "A value is trying to be set on a copy of a slice from a DataFrame.\n",
      "Try using .loc[row_indexer,col_indexer] = value instead\n",
      "\n",
      "See the caveats in the documentation: http://pandas.pydata.org/pandas-docs/stable/indexing.html#indexing-view-versus-copy\n",
      "C:\\Users\\djohnson\\AppData\\Local\\Continuum\\Anaconda2\\lib\\site-packages\\ipykernel\\__main__.py:15: SettingWithCopyWarning: \n",
      "A value is trying to be set on a copy of a slice from a DataFrame.\n",
      "Try using .loc[row_indexer,col_indexer] = value instead\n",
      "\n",
      "See the caveats in the documentation: http://pandas.pydata.org/pandas-docs/stable/indexing.html#indexing-view-versus-copy\n"
     ]
    }
   ],
   "source": [
    "vi_mu_working_data_rev_rf=vi_mu_working_data_rev\n",
    "vi_mu_working_data_rev_rf['Product Description']='Penalty Fees'\n",
    "\n",
    "vi_mu_working_data_rev_rf['Current % Tariff']=0\n",
    "vi_mu_working_data_rev_rf['Current % Tariff'][(vi_mu_working_data_rev_rf['EXCEPTION']=='YES')]=1\n",
    "vi_mu_working_data_rev_rf['Current % Tariff'][(vi_mu_working_data_rev_rf['EXCEPTION']!='YES')]=1.10\n",
    "\n",
    "vi_mu_working_data_rev_rf['Description']=''\n",
    "vi_mu_working_data_rev_rf['Description'][(vi_mu_working_data_rev_rf['EXCEPTION']=='YES')]='Fee 100.00% or as currently in IST ='\n",
    "vi_mu_working_data_rev_rf['Description'][(vi_mu_working_data_rev_rf['EXCEPTION']!='YES')]='Fee 110.00% or as currently in IST ='\n",
    "\n",
    "\n",
    "\n",
    "vi_mu_working_data_rev_rf['Product Code']=420129\n",
    "vi_mu_working_data_rev_rf['Total invoiced amount']=0\n",
    "\n",
    "vi_mu_working_data_rev_rf=vi_mu_working_data_rev_rf[(vi_mu_working_data_rev_rf['STATUSMONTH']==month)&(vi_mu_working_data_rev_rf['ICPLUS_TYPE']=='-')]\n",
    "vi_mu_working_data_rev_rf=vi_mu_working_data_rev_rf[['CONTRACT_ID'\n",
    "                             ,'Product Code'\n",
    "                             ,'Total invoiced amount'                            \n",
    "                             ,'Product Description'\n",
    "                             ,'INVOICE_CURRENCY'\n",
    "                             ,'ORDERID'\n",
    "                             ,'REQUESTAUTHORIZEDAMOUNT'\n",
    "                             ,'Current % Tariff'\n",
    "                             ,'CURRENCY_ADJUSTED_INVOICE_AMOUNT'\n",
    "                             ,'Description']]\n",
    "\n"
   ]
  },
  {
   "cell_type": "code",
   "execution_count": 45,
   "metadata": {
    "collapsed": false
   },
   "outputs": [],
   "source": [
    "vi_mu_working_data_rev_rf=vi_mu_working_data_rev_rf.groupby(['CONTRACT_ID','Product Code','Product Description','INVOICE_CURRENCY','Current % Tariff','Description','Total invoiced amount'])\\\n",
    ".agg({'ORDERID':'count','REQUESTAUTHORIZEDAMOUNT':'sum','CURRENCY_ADJUSTED_INVOICE_AMOUNT':'sum'}).reset_index()\n",
    "\n",
    "vi_mu_working_data_rev_rf['Current Tariff Amount']=vi_mu_working_data_rev_rf['CURRENCY_ADJUSTED_INVOICE_AMOUNT']/vi_mu_working_data_rev_rf['ORDERID']\n",
    "vi_mu_working_data_rev_rf['Total invoiced percentage']=vi_mu_working_data_rev_rf['CURRENCY_ADJUSTED_INVOICE_AMOUNT']*vi_mu_working_data_rev_rf['Current % Tariff']\n",
    "\n",
    "vi_mu_working_data_rev_rf.rename(columns={'CONTRACT_ID': 'Contract ID'\n",
    "                                            ,'Product Code': 'Product Code'\n",
    "                                            ,'INVOICE_CURRENCY': 'Invoice Currency'\n",
    "                                            ,'ORDERID':'Volume'\n",
    "                                            ,'CURRENCY_ADJUSTED_INVOICE_AMOUNT':'Flow'}, inplace=True)\n",
    "\n",
    "\n",
    "vi_mu_working_data_rev_rf=vi_mu_working_data_rev_rf[['Contract ID'\n",
    "                             ,'Product Code'\n",
    "                             ,'Product Description'\n",
    "                             ,'Invoice Currency'\n",
    "                             ,'Volume'\n",
    "                             ,'Flow'\n",
    "                             ,'Current % Tariff'\n",
    "                             ,'Current Tariff Amount'\n",
    "                             ,'Total invoiced amount'                            \n",
    "                             ,'Total invoiced percentage'\n",
    "                             ,'Description']]\n",
    "\n",
    "\n",
    "vi_mu_working_data_rev_rf['Volume']=0\n",
    "vi_mu_working_data_rev_rf['Current Tariff Amount']=0"
   ]
  },
  {
   "cell_type": "code",
   "execution_count": 46,
   "metadata": {
    "collapsed": false
   },
   "outputs": [
    {
     "data": {
      "text/html": [
       "<div>\n",
       "<table border=\"1\" class=\"dataframe\">\n",
       "  <thead>\n",
       "    <tr style=\"text-align: right;\">\n",
       "      <th></th>\n",
       "      <th>Contract ID</th>\n",
       "      <th>Product Code</th>\n",
       "      <th>Product Description</th>\n",
       "      <th>Invoice Currency</th>\n",
       "      <th>Volume</th>\n",
       "      <th>Flow</th>\n",
       "      <th>Current % Tariff</th>\n",
       "      <th>Current Tariff Amount</th>\n",
       "      <th>Total invoiced amount</th>\n",
       "      <th>Total invoiced percentage</th>\n",
       "      <th>Description</th>\n",
       "    </tr>\n",
       "  </thead>\n",
       "  <tbody>\n",
       "    <tr>\n",
       "      <th>0</th>\n",
       "      <td>278.0</td>\n",
       "      <td>420129</td>\n",
       "      <td>Penalty Fees</td>\n",
       "      <td>EUR</td>\n",
       "      <td>0</td>\n",
       "      <td>0.300000</td>\n",
       "      <td>1.1</td>\n",
       "      <td>0</td>\n",
       "      <td>0</td>\n",
       "      <td>0.330000</td>\n",
       "      <td>Fee 110.00% or as currently in IST =</td>\n",
       "    </tr>\n",
       "    <tr>\n",
       "      <th>1</th>\n",
       "      <td>297.0</td>\n",
       "      <td>420129</td>\n",
       "      <td>Penalty Fees</td>\n",
       "      <td>GBP</td>\n",
       "      <td>0</td>\n",
       "      <td>6.322125</td>\n",
       "      <td>1.1</td>\n",
       "      <td>0</td>\n",
       "      <td>0</td>\n",
       "      <td>6.954337</td>\n",
       "      <td>Fee 110.00% or as currently in IST =</td>\n",
       "    </tr>\n",
       "    <tr>\n",
       "      <th>2</th>\n",
       "      <td>759.0</td>\n",
       "      <td>420129</td>\n",
       "      <td>Penalty Fees</td>\n",
       "      <td>EUR</td>\n",
       "      <td>0</td>\n",
       "      <td>1.431818</td>\n",
       "      <td>1.1</td>\n",
       "      <td>0</td>\n",
       "      <td>0</td>\n",
       "      <td>1.575000</td>\n",
       "      <td>Fee 110.00% or as currently in IST =</td>\n",
       "    </tr>\n",
       "    <tr>\n",
       "      <th>3</th>\n",
       "      <td>760.0</td>\n",
       "      <td>420129</td>\n",
       "      <td>Penalty Fees</td>\n",
       "      <td>EUR</td>\n",
       "      <td>0</td>\n",
       "      <td>3.522727</td>\n",
       "      <td>1.1</td>\n",
       "      <td>0</td>\n",
       "      <td>0</td>\n",
       "      <td>3.875000</td>\n",
       "      <td>Fee 110.00% or as currently in IST =</td>\n",
       "    </tr>\n",
       "    <tr>\n",
       "      <th>4</th>\n",
       "      <td>787.0</td>\n",
       "      <td>420129</td>\n",
       "      <td>Penalty Fees</td>\n",
       "      <td>EUR</td>\n",
       "      <td>0</td>\n",
       "      <td>0.311227</td>\n",
       "      <td>1.1</td>\n",
       "      <td>0</td>\n",
       "      <td>0</td>\n",
       "      <td>0.342350</td>\n",
       "      <td>Fee 110.00% or as currently in IST =</td>\n",
       "    </tr>\n",
       "  </tbody>\n",
       "</table>\n",
       "</div>"
      ],
      "text/plain": [
       "   Contract ID  Product Code Product Description Invoice Currency  Volume  \\\n",
       "0        278.0        420129        Penalty Fees              EUR       0   \n",
       "1        297.0        420129        Penalty Fees              GBP       0   \n",
       "2        759.0        420129        Penalty Fees              EUR       0   \n",
       "3        760.0        420129        Penalty Fees              EUR       0   \n",
       "4        787.0        420129        Penalty Fees              EUR       0   \n",
       "\n",
       "       Flow  Current % Tariff  Current Tariff Amount  Total invoiced amount  \\\n",
       "0  0.300000               1.1                      0                      0   \n",
       "1  6.322125               1.1                      0                      0   \n",
       "2  1.431818               1.1                      0                      0   \n",
       "3  3.522727               1.1                      0                      0   \n",
       "4  0.311227               1.1                      0                      0   \n",
       "\n",
       "   Total invoiced percentage                           Description  \n",
       "0                   0.330000  Fee 110.00% or as currently in IST =  \n",
       "1                   6.954337  Fee 110.00% or as currently in IST =  \n",
       "2                   1.575000  Fee 110.00% or as currently in IST =  \n",
       "3                   3.875000  Fee 110.00% or as currently in IST =  \n",
       "4                   0.342350  Fee 110.00% or as currently in IST =  "
      ]
     },
     "execution_count": 46,
     "metadata": {},
     "output_type": "execute_result"
    }
   ],
   "source": [
    "vi_mu_working_data_rev_rf.head()"
   ]
  },
  {
   "cell_type": "code",
   "execution_count": 47,
   "metadata": {
    "collapsed": false
   },
   "outputs": [
    {
     "name": "stderr",
     "output_type": "stream",
     "text": [
      "C:\\Users\\djohnson\\AppData\\Local\\Continuum\\Anaconda2\\lib\\site-packages\\pandas\\core\\frame.py:2754: SettingWithCopyWarning: \n",
      "A value is trying to be set on a copy of a slice from a DataFrame\n",
      "\n",
      "See the caveats in the documentation: http://pandas.pydata.org/pandas-docs/stable/indexing.html#indexing-view-versus-copy\n",
      "  **kwargs)\n",
      "C:\\Users\\djohnson\\AppData\\Local\\Continuum\\Anaconda2\\lib\\site-packages\\ipykernel\\__main__.py:12: SettingWithCopyWarning: \n",
      "A value is trying to be set on a copy of a slice from a DataFrame.\n",
      "Try using .loc[row_indexer,col_indexer] = value instead\n",
      "\n",
      "See the caveats in the documentation: http://pandas.pydata.org/pandas-docs/stable/indexing.html#indexing-view-versus-copy\n",
      "C:\\Users\\djohnson\\AppData\\Local\\Continuum\\Anaconda2\\lib\\site-packages\\ipykernel\\__main__.py:13: SettingWithCopyWarning: \n",
      "A value is trying to be set on a copy of a slice from a DataFrame\n",
      "\n",
      "See the caveats in the documentation: http://pandas.pydata.org/pandas-docs/stable/indexing.html#indexing-view-versus-copy\n"
     ]
    },
    {
     "name": "stdout",
     "output_type": "stream",
     "text": [
      "  Contract_ID  ProductCode     Value  InvoiceDate Approved\n",
      "0       278.0       420129  0.330000       201804    FALSE\n",
      "1       297.0       420129  6.954337       201804    FALSE\n",
      "2       759.0       420129  1.575000       201804    FALSE\n",
      "3       760.0       420129  3.875000       201804    FALSE\n",
      "4       787.0       420129  0.342350       201804    FALSE\n"
     ]
    }
   ],
   "source": [
    "#display the invoice data\n",
    "vi_mu_working_data_rev_rf['Approved']='FALSE'\n",
    "vi_mu_working_data_rev_rf['InvoiceDate']=day\n",
    "vi_mu_working_data_rev_rf\n",
    "\n",
    "\n",
    "vi_mu_working_data_rev_rf_final=vi_mu_working_data_rev_rf[['Contract ID','Product Code','Total invoiced percentage','InvoiceDate','Approved']]\n",
    "vi_mu_working_data_rev_rf_final.rename(columns={'Contract ID': 'Contract_ID'\n",
    "                                            ,'Product Code':'ProductCode'\n",
    "                                            ,'Total invoiced percentage': 'Value'}, inplace=True)\n",
    "\n",
    "vi_mu_working_data_rev_rf_final['Contract_ID']=vi_mu_working_data_rev_rf_final['Contract_ID'].astype(str)\n",
    "vi_mu_working_data_rev_rf_final['Contract_ID'][(vi_mu_working_data_rev_rf_final['Contract_ID'].str.len()==3)]=\"0\"+vi_mu_working_data_rev_rf_final['Contract_ID']\n",
    "\n",
    "#vi_mu_working_data_rev_rf_final=vi_mu_working_data_rev_rf_final.set_index('Contract_ID')\n",
    "\n",
    "print vi_mu_working_data_rev_rf_final.head()\n",
    "\n",
    "# ## Export the Data for Use and Analysis\n",
    "\n",
    "#vi_mu_working_data_rev_rf.to_csv('G:\\\\Pricing\\\\Pricing Intelligence\\\\Misuse of Authorization\\\\mtm\\\\vi_misuse_month_add_rev_'+day_save+'.csv')\n",
    "#mc_mu_working_data_rev_rf_final.to_csv('d:\\\\djohnson\\\\Pricing Desktop\\\\misuse\\\\vi_integ_fee_ytd'+day_save+'.csv',sep=';')\n",
    "vi_mu_working_data_rev_rf_final.to_csv('d:\\\\djohnson\\\\Desktop\\\\misuse\\\\2018\\\\apr\\\\invoice_files\\\\mc_eu_integ.csv',sep=';')\n",
    "vi_mu_working_data.to_csv('d:\\\\djohnson\\\\Desktop\\\\misuse\\\\2018\\\\apr\\\\audit_files\\\\mc_eu_integ_fee_ytd.csv')"
   ]
  }
 ],
 "metadata": {
  "anaconda-cloud": {},
  "kernelspec": {
   "display_name": "Python [conda root]",
   "language": "python",
   "name": "conda-root-py"
  },
  "language_info": {
   "codemirror_mode": {
    "name": "ipython",
    "version": 2
   },
   "file_extension": ".py",
   "mimetype": "text/x-python",
   "name": "python",
   "nbconvert_exporter": "python",
   "pygments_lexer": "ipython2",
   "version": "2.7.12"
  }
 },
 "nbformat": 4,
 "nbformat_minor": 1
}
