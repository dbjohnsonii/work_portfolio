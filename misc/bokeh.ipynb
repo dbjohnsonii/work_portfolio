{
 "cells": [
  {
   "cell_type": "code",
   "execution_count": null,
   "metadata": {
    "collapsed": true
   },
   "outputs": [],
   "source": [
    "#building a scatterplot"
   ]
  },
  {
   "cell_type": "code",
   "execution_count": 7,
   "metadata": {
    "collapsed": true
   },
   "outputs": [],
   "source": [
    "#charts lower level of customization\n",
    "\n",
    "from bokeh.charts import Scatter, output_file, show\n",
    "import pandas as pd\n",
    "\n",
    "df=pd.DataFrame(columns=[\"X\",\"Y\"])\n",
    "df[\"X\"]=[1,2,3,4,5]\n",
    "df[\"Y\"]=[5,6,4,5,3]\n",
    "\n",
    "p=Scatter(df,x=\"X\",y=\"Y\",title=\"Temperature Observations\",xlabel=\"Day of Observations\", ylabel=\"Temperature\")\n",
    "\n",
    "output_file(\"Sactter_charts.html\")\n",
    "show(p)"
   ]
  },
  {
   "cell_type": "code",
   "execution_count": 18,
   "metadata": {},
   "outputs": [
    {
     "name": "stderr",
     "output_type": "stream",
     "text": [
      "C:\\Users\\djohnson\\AppData\\Local\\Continuum\\Anaconda2\\lib\\site-packages\\bokeh\\core\\properties.py:1941: UserWarning: Setting Plot property 'title' using a string was deprecated in 0.12.0,\n",
      "            and will be removed. The title is now an object on Plot (which holds all of it's\n",
      "            styling properties). Please use Plot.title.text instead.\n",
      "\n",
      "            SERVER USERS: If you were using plot.title to have the server update the plot title\n",
      "            in a callback, you MUST update to plot.title.text as the title object cannot currently\n",
      "            be replaced after intialization.\n",
      "            \n",
      "  \"\"\")\n",
      "C:\\Users\\djohnson\\AppData\\Local\\Continuum\\Anaconda2\\lib\\site-packages\\bokeh\\models\\plots.py:731: UserWarning: \n",
      "    Plot property 'title_text_color' was deprecated in 0.12.0 and will be removed. Use 'Plot.title.text_color' instead.\n",
      "    \n",
      "  warnings.warn(DEP_MSG_0_12_0 % ('title_text_color', 'Plot.title.text_color'))\n",
      "INFO:bokeh.core.state:Session output file 'Sactter_plotting.html' already exists, will be overwritten.\n"
     ]
    }
   ],
   "source": [
    "#plotting allows for a higher level of customization\n",
    "from bokeh.plotting import figure, output_file, show\n",
    "import pandas as pd\n",
    "\n",
    "p=figure(plot_width=500,plot_height=400)\n",
    "p.title=\"Temperature Observations\"\n",
    "p.title_text_color=\"Orange\"\n",
    "p.circle([1,2,3,4,5],[5,6,5,5,3],size=12,color=\"red\",alpha=0.5)\n",
    "\n",
    "output_file(\"Sactter_plotting.html\")\n",
    "show(p)"
   ]
  }
 ],
 "metadata": {
  "kernelspec": {
   "display_name": "Python 2",
   "language": "python",
   "name": "python2"
  },
  "language_info": {
   "codemirror_mode": {
    "name": "ipython",
    "version": 2
   },
   "file_extension": ".py",
   "mimetype": "text/x-python",
   "name": "python",
   "nbconvert_exporter": "python",
   "pygments_lexer": "ipython2",
   "version": "2.7.12"
  }
 },
 "nbformat": 4,
 "nbformat_minor": 1
}
