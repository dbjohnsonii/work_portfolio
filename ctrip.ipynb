{
 "cells": [
  {
   "cell_type": "code",
   "execution_count": 1,
   "metadata": {},
   "outputs": [
    {
     "data": {
      "text/html": [
       "<style>.container { width:95% !important; }</style>"
      ],
      "text/plain": [
       "<IPython.core.display.HTML object>"
      ]
     },
     "metadata": {},
     "output_type": "display_data"
    },
    {
     "name": "stdout",
     "output_type": "stream",
     "text": [
      "2.7.12 |Anaconda 4.2.0 (64-bit)| (default, Jun 29 2016, 11:07:13) [MSC v.1500 64 bit (AMD64)]\n"
     ]
    }
   ],
   "source": [
    "from IPython.core.display import display, HTML\n",
    "display(HTML(\"<style>.container { width:95% !important; }</style>\"))\n",
    "import sys\n",
    "print (sys.version)"
   ]
  },
  {
   "cell_type": "code",
   "execution_count": 1,
   "metadata": {},
   "outputs": [],
   "source": [
    "import pandas as pd\n",
    "pd.set_option('display.float_format', lambda x: '%.3f' % x)\n",
    "import numpy as np\n",
    "from __future__ import division"
   ]
  },
  {
   "cell_type": "code",
   "execution_count": 54,
   "metadata": {},
   "outputs": [],
   "source": [
    "from bokeh.plotting import figure, output_file, show\n",
    "from bokeh.models import DatetimeTickFormatter\n",
    "from bokeh.io import output_file, show\n",
    "from bokeh.layouts import row\n",
    "from bokeh.layouts import column\n",
    "from bokeh.layouts import gridplot\n",
    "from bokeh.models import Button\n",
    "from bokeh.palettes import RdYlBu9,GnBu9, OrRd9\n",
    "from bokeh.plotting import figure, curdoc\n",
    "from bokeh.layouts import widgetbox\n",
    "from bokeh.models.widgets import MultiSelect\n",
    "from bokeh.models.glyphs import VBar\n",
    "from bokeh.models import LinearAxis, Range1d\n",
    "from bokeh.models import ColumnDataSource, FactorRange\n",
    "from bokeh.models.widgets import Panel, Tabs\n",
    "from bokeh.models.widgets import Paragraph\n",
    "from bokeh.models import ColumnDataSource"
   ]
  },
  {
   "cell_type": "code",
   "execution_count": 3,
   "metadata": {},
   "outputs": [
    {
     "data": {
      "text/html": [
       "\n",
       "    <div class=\"bk-root\">\n",
       "        <a href=\"https://bokeh.pydata.org\" target=\"_blank\" class=\"bk-logo bk-logo-small bk-logo-notebook\"></a>\n",
       "        <span id=\"db68c562-4463-42a6-89ed-bcab751914c1\">Loading BokehJS ...</span>\n",
       "    </div>"
      ]
     },
     "metadata": {},
     "output_type": "display_data"
    },
    {
     "data": {
      "application/javascript": [
       "\n",
       "(function(root) {\n",
       "  function now() {\n",
       "    return new Date();\n",
       "  }\n",
       "\n",
       "  var force = true;\n",
       "\n",
       "  if (typeof (root._bokeh_onload_callbacks) === \"undefined\" || force === true) {\n",
       "    root._bokeh_onload_callbacks = [];\n",
       "    root._bokeh_is_loading = undefined;\n",
       "  }\n",
       "\n",
       "  var JS_MIME_TYPE = 'application/javascript';\n",
       "  var HTML_MIME_TYPE = 'text/html';\n",
       "  var EXEC_MIME_TYPE = 'application/vnd.bokehjs_exec.v0+json';\n",
       "  var CLASS_NAME = 'output_bokeh rendered_html';\n",
       "\n",
       "  /**\n",
       "   * Render data to the DOM node\n",
       "   */\n",
       "  function render(props, node) {\n",
       "    var script = document.createElement(\"script\");\n",
       "    node.appendChild(script);\n",
       "  }\n",
       "\n",
       "  /**\n",
       "   * Handle when an output is cleared or removed\n",
       "   */\n",
       "  function handleClearOutput(event, handle) {\n",
       "    var cell = handle.cell;\n",
       "\n",
       "    var id = cell.output_area._bokeh_element_id;\n",
       "    var server_id = cell.output_area._bokeh_server_id;\n",
       "    // Clean up Bokeh references\n",
       "    if (id != null && id in Bokeh.index) {\n",
       "      Bokeh.index[id].model.document.clear();\n",
       "      delete Bokeh.index[id];\n",
       "    }\n",
       "\n",
       "    if (server_id !== undefined) {\n",
       "      // Clean up Bokeh references\n",
       "      var cmd = \"from bokeh.io.state import curstate; print(curstate().uuid_to_server['\" + server_id + \"'].get_sessions()[0].document.roots[0]._id)\";\n",
       "      cell.notebook.kernel.execute(cmd, {\n",
       "        iopub: {\n",
       "          output: function(msg) {\n",
       "            var id = msg.content.text.trim();\n",
       "            if (id in Bokeh.index) {\n",
       "              Bokeh.index[id].model.document.clear();\n",
       "              delete Bokeh.index[id];\n",
       "            }\n",
       "          }\n",
       "        }\n",
       "      });\n",
       "      // Destroy server and session\n",
       "      var cmd = \"import bokeh.io.notebook as ion; ion.destroy_server('\" + server_id + \"')\";\n",
       "      cell.notebook.kernel.execute(cmd);\n",
       "    }\n",
       "  }\n",
       "\n",
       "  /**\n",
       "   * Handle when a new output is added\n",
       "   */\n",
       "  function handleAddOutput(event, handle) {\n",
       "    var output_area = handle.output_area;\n",
       "    var output = handle.output;\n",
       "\n",
       "    // limit handleAddOutput to display_data with EXEC_MIME_TYPE content only\n",
       "    if ((output.output_type != \"display_data\") || (!output.data.hasOwnProperty(EXEC_MIME_TYPE))) {\n",
       "      return\n",
       "    }\n",
       "\n",
       "    var toinsert = output_area.element.find(\".\" + CLASS_NAME.split(' ')[0]);\n",
       "\n",
       "    if (output.metadata[EXEC_MIME_TYPE][\"id\"] !== undefined) {\n",
       "      toinsert[toinsert.length - 1].firstChild.textContent = output.data[JS_MIME_TYPE];\n",
       "      // store reference to embed id on output_area\n",
       "      output_area._bokeh_element_id = output.metadata[EXEC_MIME_TYPE][\"id\"];\n",
       "    }\n",
       "    if (output.metadata[EXEC_MIME_TYPE][\"server_id\"] !== undefined) {\n",
       "      var bk_div = document.createElement(\"div\");\n",
       "      bk_div.innerHTML = output.data[HTML_MIME_TYPE];\n",
       "      var script_attrs = bk_div.children[0].attributes;\n",
       "      for (var i = 0; i < script_attrs.length; i++) {\n",
       "        toinsert[toinsert.length - 1].firstChild.setAttribute(script_attrs[i].name, script_attrs[i].value);\n",
       "      }\n",
       "      // store reference to server id on output_area\n",
       "      output_area._bokeh_server_id = output.metadata[EXEC_MIME_TYPE][\"server_id\"];\n",
       "    }\n",
       "  }\n",
       "\n",
       "  function register_renderer(events, OutputArea) {\n",
       "\n",
       "    function append_mime(data, metadata, element) {\n",
       "      // create a DOM node to render to\n",
       "      var toinsert = this.create_output_subarea(\n",
       "        metadata,\n",
       "        CLASS_NAME,\n",
       "        EXEC_MIME_TYPE\n",
       "      );\n",
       "      this.keyboard_manager.register_events(toinsert);\n",
       "      // Render to node\n",
       "      var props = {data: data, metadata: metadata[EXEC_MIME_TYPE]};\n",
       "      render(props, toinsert[toinsert.length - 1]);\n",
       "      element.append(toinsert);\n",
       "      return toinsert\n",
       "    }\n",
       "\n",
       "    /* Handle when an output is cleared or removed */\n",
       "    events.on('clear_output.CodeCell', handleClearOutput);\n",
       "    events.on('delete.Cell', handleClearOutput);\n",
       "\n",
       "    /* Handle when a new output is added */\n",
       "    events.on('output_added.OutputArea', handleAddOutput);\n",
       "\n",
       "    /**\n",
       "     * Register the mime type and append_mime function with output_area\n",
       "     */\n",
       "    OutputArea.prototype.register_mime_type(EXEC_MIME_TYPE, append_mime, {\n",
       "      /* Is output safe? */\n",
       "      safe: true,\n",
       "      /* Index of renderer in `output_area.display_order` */\n",
       "      index: 0\n",
       "    });\n",
       "  }\n",
       "\n",
       "  // register the mime type if in Jupyter Notebook environment and previously unregistered\n",
       "  if (root.Jupyter !== undefined) {\n",
       "    var events = require('base/js/events');\n",
       "    var OutputArea = require('notebook/js/outputarea').OutputArea;\n",
       "\n",
       "    if (OutputArea.prototype.mime_types().indexOf(EXEC_MIME_TYPE) == -1) {\n",
       "      register_renderer(events, OutputArea);\n",
       "    }\n",
       "  }\n",
       "\n",
       "  \n",
       "  if (typeof (root._bokeh_timeout) === \"undefined\" || force === true) {\n",
       "    root._bokeh_timeout = Date.now() + 5000;\n",
       "    root._bokeh_failed_load = false;\n",
       "  }\n",
       "\n",
       "  var NB_LOAD_WARNING = {'data': {'text/html':\n",
       "     \"<div style='background-color: #fdd'>\\n\"+\n",
       "     \"<p>\\n\"+\n",
       "     \"BokehJS does not appear to have successfully loaded. If loading BokehJS from CDN, this \\n\"+\n",
       "     \"may be due to a slow or bad network connection. Possible fixes:\\n\"+\n",
       "     \"</p>\\n\"+\n",
       "     \"<ul>\\n\"+\n",
       "     \"<li>re-rerun `output_notebook()` to attempt to load from CDN again, or</li>\\n\"+\n",
       "     \"<li>use INLINE resources instead, as so:</li>\\n\"+\n",
       "     \"</ul>\\n\"+\n",
       "     \"<code>\\n\"+\n",
       "     \"from bokeh.resources import INLINE\\n\"+\n",
       "     \"output_notebook(resources=INLINE)\\n\"+\n",
       "     \"</code>\\n\"+\n",
       "     \"</div>\"}};\n",
       "\n",
       "  function display_loaded() {\n",
       "    var el = document.getElementById(\"db68c562-4463-42a6-89ed-bcab751914c1\");\n",
       "    if (el != null) {\n",
       "      el.textContent = \"BokehJS is loading...\";\n",
       "    }\n",
       "    if (root.Bokeh !== undefined) {\n",
       "      if (el != null) {\n",
       "        el.textContent = \"BokehJS \" + root.Bokeh.version + \" successfully loaded.\";\n",
       "      }\n",
       "    } else if (Date.now() < root._bokeh_timeout) {\n",
       "      setTimeout(display_loaded, 100)\n",
       "    }\n",
       "  }\n",
       "\n",
       "\n",
       "  function run_callbacks() {\n",
       "    try {\n",
       "      root._bokeh_onload_callbacks.forEach(function(callback) { callback() });\n",
       "    }\n",
       "    finally {\n",
       "      delete root._bokeh_onload_callbacks\n",
       "    }\n",
       "    console.info(\"Bokeh: all callbacks have finished\");\n",
       "  }\n",
       "\n",
       "  function load_libs(js_urls, callback) {\n",
       "    root._bokeh_onload_callbacks.push(callback);\n",
       "    if (root._bokeh_is_loading > 0) {\n",
       "      console.log(\"Bokeh: BokehJS is being loaded, scheduling callback at\", now());\n",
       "      return null;\n",
       "    }\n",
       "    if (js_urls == null || js_urls.length === 0) {\n",
       "      run_callbacks();\n",
       "      return null;\n",
       "    }\n",
       "    console.log(\"Bokeh: BokehJS not loaded, scheduling load and callback at\", now());\n",
       "    root._bokeh_is_loading = js_urls.length;\n",
       "    for (var i = 0; i < js_urls.length; i++) {\n",
       "      var url = js_urls[i];\n",
       "      var s = document.createElement('script');\n",
       "      s.src = url;\n",
       "      s.async = false;\n",
       "      s.onreadystatechange = s.onload = function() {\n",
       "        root._bokeh_is_loading--;\n",
       "        if (root._bokeh_is_loading === 0) {\n",
       "          console.log(\"Bokeh: all BokehJS libraries loaded\");\n",
       "          run_callbacks()\n",
       "        }\n",
       "      };\n",
       "      s.onerror = function() {\n",
       "        console.warn(\"failed to load library \" + url);\n",
       "      };\n",
       "      console.log(\"Bokeh: injecting script tag for BokehJS library: \", url);\n",
       "      document.getElementsByTagName(\"head\")[0].appendChild(s);\n",
       "    }\n",
       "  };var element = document.getElementById(\"db68c562-4463-42a6-89ed-bcab751914c1\");\n",
       "  if (element == null) {\n",
       "    console.log(\"Bokeh: ERROR: autoload.js configured with elementid 'db68c562-4463-42a6-89ed-bcab751914c1' but no matching script tag was found. \")\n",
       "    return false;\n",
       "  }\n",
       "\n",
       "  var js_urls = [\"https://cdn.pydata.org/bokeh/release/bokeh-0.13.0.min.js\", \"https://cdn.pydata.org/bokeh/release/bokeh-widgets-0.13.0.min.js\", \"https://cdn.pydata.org/bokeh/release/bokeh-tables-0.13.0.min.js\", \"https://cdn.pydata.org/bokeh/release/bokeh-gl-0.13.0.min.js\"];\n",
       "\n",
       "  var inline_js = [\n",
       "    function(Bokeh) {\n",
       "      Bokeh.set_log_level(\"info\");\n",
       "    },\n",
       "    \n",
       "    function(Bokeh) {\n",
       "      \n",
       "    },\n",
       "    function(Bokeh) {\n",
       "      console.log(\"Bokeh: injecting CSS: https://cdn.pydata.org/bokeh/release/bokeh-0.13.0.min.css\");\n",
       "      Bokeh.embed.inject_css(\"https://cdn.pydata.org/bokeh/release/bokeh-0.13.0.min.css\");\n",
       "      console.log(\"Bokeh: injecting CSS: https://cdn.pydata.org/bokeh/release/bokeh-widgets-0.13.0.min.css\");\n",
       "      Bokeh.embed.inject_css(\"https://cdn.pydata.org/bokeh/release/bokeh-widgets-0.13.0.min.css\");\n",
       "      console.log(\"Bokeh: injecting CSS: https://cdn.pydata.org/bokeh/release/bokeh-tables-0.13.0.min.css\");\n",
       "      Bokeh.embed.inject_css(\"https://cdn.pydata.org/bokeh/release/bokeh-tables-0.13.0.min.css\");\n",
       "    }\n",
       "  ];\n",
       "\n",
       "  function run_inline_js() {\n",
       "    \n",
       "    if ((root.Bokeh !== undefined) || (force === true)) {\n",
       "      for (var i = 0; i < inline_js.length; i++) {\n",
       "        inline_js[i].call(root, root.Bokeh);\n",
       "      }if (force === true) {\n",
       "        display_loaded();\n",
       "      }} else if (Date.now() < root._bokeh_timeout) {\n",
       "      setTimeout(run_inline_js, 100);\n",
       "    } else if (!root._bokeh_failed_load) {\n",
       "      console.log(\"Bokeh: BokehJS failed to load within specified timeout.\");\n",
       "      root._bokeh_failed_load = true;\n",
       "    } else if (force !== true) {\n",
       "      var cell = $(document.getElementById(\"db68c562-4463-42a6-89ed-bcab751914c1\")).parents('.cell').data().cell;\n",
       "      cell.output_area.append_execute_result(NB_LOAD_WARNING)\n",
       "    }\n",
       "\n",
       "  }\n",
       "\n",
       "  if (root._bokeh_is_loading === 0) {\n",
       "    console.log(\"Bokeh: BokehJS loaded, going straight to plotting\");\n",
       "    run_inline_js();\n",
       "  } else {\n",
       "    load_libs(js_urls, function() {\n",
       "      console.log(\"Bokeh: BokehJS plotting callback run at\", now());\n",
       "      run_inline_js();\n",
       "    });\n",
       "  }\n",
       "}(window));"
      ],
      "application/vnd.bokehjs_load.v0+json": "\n(function(root) {\n  function now() {\n    return new Date();\n  }\n\n  var force = true;\n\n  if (typeof (root._bokeh_onload_callbacks) === \"undefined\" || force === true) {\n    root._bokeh_onload_callbacks = [];\n    root._bokeh_is_loading = undefined;\n  }\n\n  \n\n  \n  if (typeof (root._bokeh_timeout) === \"undefined\" || force === true) {\n    root._bokeh_timeout = Date.now() + 5000;\n    root._bokeh_failed_load = false;\n  }\n\n  var NB_LOAD_WARNING = {'data': {'text/html':\n     \"<div style='background-color: #fdd'>\\n\"+\n     \"<p>\\n\"+\n     \"BokehJS does not appear to have successfully loaded. If loading BokehJS from CDN, this \\n\"+\n     \"may be due to a slow or bad network connection. Possible fixes:\\n\"+\n     \"</p>\\n\"+\n     \"<ul>\\n\"+\n     \"<li>re-rerun `output_notebook()` to attempt to load from CDN again, or</li>\\n\"+\n     \"<li>use INLINE resources instead, as so:</li>\\n\"+\n     \"</ul>\\n\"+\n     \"<code>\\n\"+\n     \"from bokeh.resources import INLINE\\n\"+\n     \"output_notebook(resources=INLINE)\\n\"+\n     \"</code>\\n\"+\n     \"</div>\"}};\n\n  function display_loaded() {\n    var el = document.getElementById(\"db68c562-4463-42a6-89ed-bcab751914c1\");\n    if (el != null) {\n      el.textContent = \"BokehJS is loading...\";\n    }\n    if (root.Bokeh !== undefined) {\n      if (el != null) {\n        el.textContent = \"BokehJS \" + root.Bokeh.version + \" successfully loaded.\";\n      }\n    } else if (Date.now() < root._bokeh_timeout) {\n      setTimeout(display_loaded, 100)\n    }\n  }\n\n\n  function run_callbacks() {\n    try {\n      root._bokeh_onload_callbacks.forEach(function(callback) { callback() });\n    }\n    finally {\n      delete root._bokeh_onload_callbacks\n    }\n    console.info(\"Bokeh: all callbacks have finished\");\n  }\n\n  function load_libs(js_urls, callback) {\n    root._bokeh_onload_callbacks.push(callback);\n    if (root._bokeh_is_loading > 0) {\n      console.log(\"Bokeh: BokehJS is being loaded, scheduling callback at\", now());\n      return null;\n    }\n    if (js_urls == null || js_urls.length === 0) {\n      run_callbacks();\n      return null;\n    }\n    console.log(\"Bokeh: BokehJS not loaded, scheduling load and callback at\", now());\n    root._bokeh_is_loading = js_urls.length;\n    for (var i = 0; i < js_urls.length; i++) {\n      var url = js_urls[i];\n      var s = document.createElement('script');\n      s.src = url;\n      s.async = false;\n      s.onreadystatechange = s.onload = function() {\n        root._bokeh_is_loading--;\n        if (root._bokeh_is_loading === 0) {\n          console.log(\"Bokeh: all BokehJS libraries loaded\");\n          run_callbacks()\n        }\n      };\n      s.onerror = function() {\n        console.warn(\"failed to load library \" + url);\n      };\n      console.log(\"Bokeh: injecting script tag for BokehJS library: \", url);\n      document.getElementsByTagName(\"head\")[0].appendChild(s);\n    }\n  };var element = document.getElementById(\"db68c562-4463-42a6-89ed-bcab751914c1\");\n  if (element == null) {\n    console.log(\"Bokeh: ERROR: autoload.js configured with elementid 'db68c562-4463-42a6-89ed-bcab751914c1' but no matching script tag was found. \")\n    return false;\n  }\n\n  var js_urls = [\"https://cdn.pydata.org/bokeh/release/bokeh-0.13.0.min.js\", \"https://cdn.pydata.org/bokeh/release/bokeh-widgets-0.13.0.min.js\", \"https://cdn.pydata.org/bokeh/release/bokeh-tables-0.13.0.min.js\", \"https://cdn.pydata.org/bokeh/release/bokeh-gl-0.13.0.min.js\"];\n\n  var inline_js = [\n    function(Bokeh) {\n      Bokeh.set_log_level(\"info\");\n    },\n    \n    function(Bokeh) {\n      \n    },\n    function(Bokeh) {\n      console.log(\"Bokeh: injecting CSS: https://cdn.pydata.org/bokeh/release/bokeh-0.13.0.min.css\");\n      Bokeh.embed.inject_css(\"https://cdn.pydata.org/bokeh/release/bokeh-0.13.0.min.css\");\n      console.log(\"Bokeh: injecting CSS: https://cdn.pydata.org/bokeh/release/bokeh-widgets-0.13.0.min.css\");\n      Bokeh.embed.inject_css(\"https://cdn.pydata.org/bokeh/release/bokeh-widgets-0.13.0.min.css\");\n      console.log(\"Bokeh: injecting CSS: https://cdn.pydata.org/bokeh/release/bokeh-tables-0.13.0.min.css\");\n      Bokeh.embed.inject_css(\"https://cdn.pydata.org/bokeh/release/bokeh-tables-0.13.0.min.css\");\n    }\n  ];\n\n  function run_inline_js() {\n    \n    if ((root.Bokeh !== undefined) || (force === true)) {\n      for (var i = 0; i < inline_js.length; i++) {\n        inline_js[i].call(root, root.Bokeh);\n      }if (force === true) {\n        display_loaded();\n      }} else if (Date.now() < root._bokeh_timeout) {\n      setTimeout(run_inline_js, 100);\n    } else if (!root._bokeh_failed_load) {\n      console.log(\"Bokeh: BokehJS failed to load within specified timeout.\");\n      root._bokeh_failed_load = true;\n    } else if (force !== true) {\n      var cell = $(document.getElementById(\"db68c562-4463-42a6-89ed-bcab751914c1\")).parents('.cell').data().cell;\n      cell.output_area.append_execute_result(NB_LOAD_WARNING)\n    }\n\n  }\n\n  if (root._bokeh_is_loading === 0) {\n    console.log(\"Bokeh: BokehJS loaded, going straight to plotting\");\n    run_inline_js();\n  } else {\n    load_libs(js_urls, function() {\n      console.log(\"Bokeh: BokehJS plotting callback run at\", now());\n      run_inline_js();\n    });\n  }\n}(window));"
     },
     "metadata": {},
     "output_type": "display_data"
    }
   ],
   "source": [
    "from bokeh import __version__ as bokeh_version\n",
    "from bokeh.io import output_notebook, show\n",
    "from bokeh.plotting import figure\n",
    "\n",
    "output_notebook()"
   ]
  },
  {
   "cell_type": "code",
   "execution_count": 4,
   "metadata": {},
   "outputs": [],
   "source": [
    "columns=['STATUSID','RECEIVEDDATE','DATEAUTHORISATION','SENDDATE','PAYMENTDATE','STATUSDATE'\n",
    "         ,'MERCHANTID','MERCHANTNAME','ORDERID','CREDITCARDCOMPANY','CREDITDEBITINDICATOR'\n",
    "         ,'CVVINDICATOR','CVVRESULT','CVVSERVICEINDICATOR','AVSINDICATOR','AVSRESULT','FRAUDCODE'\n",
    "         ,'FRAUDINDICATOR','FRAUDRESULT','STTINDICATOR','MERCHANTREFERENCE','PAYMENTREFERENCE'\n",
    "         ,'CUSTOMERID','COUNTRYCODE','AUTHORISEDCURRENCYCODE','AUTHORISEDAMOUNT','AMOUNT','SURNAME'\n",
    "         ,'CITY','PREFIXSURNAME','STREET','ZIP','STATE','PROVIDERNAME','PAYMENTPROCESSOR','SERVICEPROVIDERID'\n",
    "         ,'PAYMENTMETHODID','PAYMENTPRODUCTID','IIN','CVVINDICATOR','CVVDESC','AVSDESC','AVS_RESPONSE','CONS_CORP_BIN'\n",
    "         ,'INTERCHANGE_RATE','INTERCHANGE_PERCENT_RATE','INTERCHANGE_FLAT_RATE','TRANSACTION_FLOW','ISSUING_BANK','CARD_SCHEME_BIN'\n",
    "         ,'CRED_DEB_BIN','ipaddressmerchant']"
   ]
  },
  {
   "cell_type": "code",
   "execution_count": 5,
   "metadata": {},
   "outputs": [
    {
     "name": "stderr",
     "output_type": "stream",
     "text": [
      "C:\\Users\\djohnson\\AppData\\Local\\Continuum\\Anaconda2\\lib\\site-packages\\IPython\\core\\interactiveshell.py:2714: DtypeWarning: Columns (0,34,45,46,47) have mixed types. Specify dtype option on import or set low_memory=False.\n",
      "  interactivity=interactivity, compiler=compiler, result=result)\n"
     ]
    }
   ],
   "source": [
    "df=pd.read_csv('d:\\\\djohnson\\\\Desktop\\\\ctrip2.txt',skiprows=82,sep=';',error_bad_lines=False,warn_bad_lines=False,names=columns)"
   ]
  },
  {
   "cell_type": "code",
   "execution_count": 6,
   "metadata": {},
   "outputs": [],
   "source": [
    "dg_df=pd.read_csv('d:\\\\djohnson\\\\Desktop\\\\vantiv_downgrades.csv',error_bad_lines=False,warn_bad_lines=False)"
   ]
  },
  {
   "cell_type": "code",
   "execution_count": 7,
   "metadata": {},
   "outputs": [],
   "source": [
    "df=df.drop(len(df)-1)"
   ]
  },
  {
   "cell_type": "code",
   "execution_count": 8,
   "metadata": {},
   "outputs": [],
   "source": [
    "df['AMOUNT']=df['AMOUNT'].astype(float)\n",
    "df['STATUSID']=df['STATUSID'].astype(float)\n",
    "df['INTERCHANGE_RATE']=df['INTERCHANGE_RATE'].str.strip()\n",
    "df['AVS_RESPONSE']=df['AVS_RESPONSE'].str.strip()\n",
    "df['CREDITDEBITINDICATOR']=df['CREDITDEBITINDICATOR'].str.strip()\n",
    "df['CARD_SCHEME_BIN']=df['CARD_SCHEME_BIN'].str.strip()\n",
    "df['ipaddressmerchant']=df['ipaddressmerchant'].str.strip()\n",
    "df['AVSDESC']=df['AVSDESC'].str.strip()\n",
    "df['RECEIVEDDATE']=pd.to_datetime(df['RECEIVEDDATE'])\n",
    "df['DATEAUTHORISATION']=pd.to_datetime(df['DATEAUTHORISATION'])\n",
    "df['SENDDATE']=pd.to_datetime(df['SENDDATE'])\n",
    "df['PAYMENTDATE']=pd.to_datetime(df['PAYMENTDATE'])\n",
    "df['STATUSDATE']=pd.to_datetime(df['STATUSDATE'])"
   ]
  },
  {
   "cell_type": "code",
   "execution_count": 9,
   "metadata": {},
   "outputs": [],
   "source": [
    "df['RECEIVEDDATE']=df['RECEIVEDDATE'].dt.strftime('%Y/%m')\n",
    "df['DATEAUTHORISATION']=df['DATEAUTHORISATION'].dt.strftime('%Y/%m')\n",
    "df['SENDDATE']=df['SENDDATE'].dt.strftime('%Y/%m')\n",
    "df['PAYMENTDATE']=df['PAYMENTDATE'].dt.strftime('%Y/%m')\n",
    "df['STATUSDATE']=df['STATUSDATE'].dt.strftime('%Y/%m')"
   ]
  },
  {
   "cell_type": "code",
   "execution_count": 10,
   "metadata": {},
   "outputs": [],
   "source": [
    "#df.info()"
   ]
  },
  {
   "cell_type": "code",
   "execution_count": 11,
   "metadata": {},
   "outputs": [
    {
     "data": {
      "text/html": [
       "<div>\n",
       "<table border=\"1\" class=\"dataframe\">\n",
       "  <thead>\n",
       "    <tr style=\"text-align: right;\">\n",
       "      <th></th>\n",
       "      <th>INTERCHANGE_RATE</th>\n",
       "      <th>Corporate Purchasing</th>\n",
       "      <th>Interregional</th>\n",
       "      <th>DOWNGRADE</th>\n",
       "      <th>EIRF</th>\n",
       "      <th>INTERCHANGE_PERCENT_RATE</th>\n",
       "      <th>INTERCHANGE_FLAT_RATE</th>\n",
       "      <th>INTEGRITYFEE</th>\n",
       "    </tr>\n",
       "  </thead>\n",
       "  <tbody>\n",
       "    <tr>\n",
       "      <th>0</th>\n",
       "      <td>VI U.S. Regulated Debit</td>\n",
       "      <td>0</td>\n",
       "      <td>0</td>\n",
       "      <td>0</td>\n",
       "      <td>0</td>\n",
       "      <td>0.001</td>\n",
       "      <td>0.220</td>\n",
       "      <td>0.000</td>\n",
       "    </tr>\n",
       "    <tr>\n",
       "      <th>1</th>\n",
       "      <td>MC Consumer T&amp;E World Elite</td>\n",
       "      <td>0</td>\n",
       "      <td>0</td>\n",
       "      <td>0</td>\n",
       "      <td>0</td>\n",
       "      <td>0.028</td>\n",
       "      <td>0.100</td>\n",
       "      <td>0.000</td>\n",
       "    </tr>\n",
       "    <tr>\n",
       "      <th>2</th>\n",
       "      <td>MC Consumer Merit 1</td>\n",
       "      <td>0</td>\n",
       "      <td>0</td>\n",
       "      <td>0</td>\n",
       "      <td>0</td>\n",
       "      <td>0.019</td>\n",
       "      <td>0.100</td>\n",
       "      <td>0.000</td>\n",
       "    </tr>\n",
       "    <tr>\n",
       "      <th>3</th>\n",
       "      <td>VI Consumer Standard Credit</td>\n",
       "      <td>0</td>\n",
       "      <td>0</td>\n",
       "      <td>1</td>\n",
       "      <td>0</td>\n",
       "      <td>0.027</td>\n",
       "      <td>0.100</td>\n",
       "      <td>0.100</td>\n",
       "    </tr>\n",
       "    <tr>\n",
       "      <th>4</th>\n",
       "      <td>VI Consumer EIRF Signature Preferred Credit</td>\n",
       "      <td>0</td>\n",
       "      <td>0</td>\n",
       "      <td>1</td>\n",
       "      <td>1</td>\n",
       "      <td>0.024</td>\n",
       "      <td>0.100</td>\n",
       "      <td>0.100</td>\n",
       "    </tr>\n",
       "  </tbody>\n",
       "</table>\n",
       "</div>"
      ],
      "text/plain": [
       "                              INTERCHANGE_RATE  Corporate Purchasing  \\\n",
       "0                      VI U.S. Regulated Debit                     0   \n",
       "1                  MC Consumer T&E World Elite                     0   \n",
       "2                          MC Consumer Merit 1                     0   \n",
       "3                  VI Consumer Standard Credit                     0   \n",
       "4  VI Consumer EIRF Signature Preferred Credit                     0   \n",
       "\n",
       "   Interregional  DOWNGRADE  EIRF  INTERCHANGE_PERCENT_RATE  \\\n",
       "0              0          0     0                     0.001   \n",
       "1              0          0     0                     0.028   \n",
       "2              0          0     0                     0.019   \n",
       "3              0          1     0                     0.027   \n",
       "4              0          1     1                     0.024   \n",
       "\n",
       "   INTERCHANGE_FLAT_RATE  INTEGRITYFEE  \n",
       "0                  0.220         0.000  \n",
       "1                  0.100         0.000  \n",
       "2                  0.100         0.000  \n",
       "3                  0.100         0.100  \n",
       "4                  0.100         0.100  "
      ]
     },
     "execution_count": 11,
     "metadata": {},
     "output_type": "execute_result"
    }
   ],
   "source": [
    "dg_df.head()"
   ]
  },
  {
   "cell_type": "code",
   "execution_count": 12,
   "metadata": {},
   "outputs": [
    {
     "data": {
      "text/html": [
       "<div>\n",
       "<table border=\"1\" class=\"dataframe\">\n",
       "  <thead>\n",
       "    <tr style=\"text-align: right;\">\n",
       "      <th></th>\n",
       "      <th>STATUSID</th>\n",
       "      <th>RECEIVEDDATE</th>\n",
       "      <th>DATEAUTHORISATION</th>\n",
       "      <th>SENDDATE</th>\n",
       "      <th>PAYMENTDATE</th>\n",
       "      <th>STATUSDATE</th>\n",
       "      <th>MERCHANTID</th>\n",
       "      <th>MERCHANTNAME</th>\n",
       "      <th>ORDERID</th>\n",
       "      <th>CREDITCARDCOMPANY</th>\n",
       "      <th>...</th>\n",
       "      <th>AVS_RESPONSE</th>\n",
       "      <th>CONS_CORP_BIN</th>\n",
       "      <th>INTERCHANGE_RATE</th>\n",
       "      <th>INTERCHANGE_PERCENT_RATE</th>\n",
       "      <th>INTERCHANGE_FLAT_RATE</th>\n",
       "      <th>TRANSACTION_FLOW</th>\n",
       "      <th>ISSUING_BANK</th>\n",
       "      <th>CARD_SCHEME_BIN</th>\n",
       "      <th>CRED_DEB_BIN</th>\n",
       "      <th>ipaddressmerchant</th>\n",
       "    </tr>\n",
       "  </thead>\n",
       "  <tbody>\n",
       "    <tr>\n",
       "      <th>0</th>\n",
       "      <td>1050.000</td>\n",
       "      <td>2017/08</td>\n",
       "      <td>2017/08</td>\n",
       "      <td>2017/08</td>\n",
       "      <td>2017/08</td>\n",
       "      <td>2017/08</td>\n",
       "      <td>4856.000</td>\n",
       "      <td>CTRIP INTERNATIONAL TRAVEL (U.</td>\n",
       "      <td>4000008675.000</td>\n",
       "      <td>VISA</td>\n",
       "      <td>...</td>\n",
       "      <td>AVS not performed</td>\n",
       "      <td>CONSUMER</td>\n",
       "      <td>VI Consumer Standard Credit</td>\n",
       "      <td>.027</td>\n",
       "      <td>0.100</td>\n",
       "      <td>226.730</td>\n",
       "      <td>Capital One Bank (Usa), National Association  ...</td>\n",
       "      <td>VISA</td>\n",
       "      <td>CREDIT</td>\n",
       "      <td>202.60.225.153</td>\n",
       "    </tr>\n",
       "    <tr>\n",
       "      <th>1</th>\n",
       "      <td>1050.000</td>\n",
       "      <td>2017/08</td>\n",
       "      <td>2017/08</td>\n",
       "      <td>2017/08</td>\n",
       "      <td>2017/08</td>\n",
       "      <td>2017/08</td>\n",
       "      <td>4856.000</td>\n",
       "      <td>CTRIP INTERNATIONAL TRAVEL (U.</td>\n",
       "      <td>4000008338.000</td>\n",
       "      <td>VISA</td>\n",
       "      <td>...</td>\n",
       "      <td>AVS not performed</td>\n",
       "      <td>CONSUMER</td>\n",
       "      <td>VI U.S. Regulated Debit</td>\n",
       "      <td>.0005</td>\n",
       "      <td>0.220</td>\n",
       "      <td>144.540</td>\n",
       "      <td>U.S. Bank National Association                ...</td>\n",
       "      <td>VISA</td>\n",
       "      <td>DEBIT</td>\n",
       "      <td>202.60.225.153</td>\n",
       "    </tr>\n",
       "    <tr>\n",
       "      <th>2</th>\n",
       "      <td>1050.000</td>\n",
       "      <td>2017/07</td>\n",
       "      <td>2017/07</td>\n",
       "      <td>2017/07</td>\n",
       "      <td>2017/07</td>\n",
       "      <td>2017/07</td>\n",
       "      <td>4856.000</td>\n",
       "      <td>CTRIP INTERNATIONAL TRAVEL (U.</td>\n",
       "      <td>4000000027.000</td>\n",
       "      <td>ECMC</td>\n",
       "      <td>...</td>\n",
       "      <td>5-Digit zip matches, address does not match</td>\n",
       "      <td>CONSUMER</td>\n",
       "      <td>VI Consumer CPS Rewards 2</td>\n",
       "      <td>.0195</td>\n",
       "      <td>0.100</td>\n",
       "      <td>10.000</td>\n",
       "      <td>Bank of America - Consumer Credit             ...</td>\n",
       "      <td>VISA</td>\n",
       "      <td>CREDIT</td>\n",
       "      <td>10.64.10.46</td>\n",
       "    </tr>\n",
       "    <tr>\n",
       "      <th>3</th>\n",
       "      <td>1050.000</td>\n",
       "      <td>2017/08</td>\n",
       "      <td>2017/08</td>\n",
       "      <td>2017/08</td>\n",
       "      <td>2017/08</td>\n",
       "      <td>2017/08</td>\n",
       "      <td>4856.000</td>\n",
       "      <td>CTRIP INTERNATIONAL TRAVEL (U.</td>\n",
       "      <td>4000007839.000</td>\n",
       "      <td>VISA</td>\n",
       "      <td>...</td>\n",
       "      <td>AVS not performed</td>\n",
       "      <td>CONSUMER</td>\n",
       "      <td>VI Interregional Consumer Standard</td>\n",
       "      <td>.016</td>\n",
       "      <td>0.000</td>\n",
       "      <td>1529.930</td>\n",
       "      <td>Israel Credit Cards Limited                   ...</td>\n",
       "      <td>VISA</td>\n",
       "      <td>CREDIT</td>\n",
       "      <td>202.60.225.153</td>\n",
       "    </tr>\n",
       "    <tr>\n",
       "      <th>4</th>\n",
       "      <td>1050.000</td>\n",
       "      <td>2017/08</td>\n",
       "      <td>2017/08</td>\n",
       "      <td>2017/08</td>\n",
       "      <td>2017/08</td>\n",
       "      <td>2017/08</td>\n",
       "      <td>4856.000</td>\n",
       "      <td>CTRIP INTERNATIONAL TRAVEL (U.</td>\n",
       "      <td>4000008450.000</td>\n",
       "      <td>VISA</td>\n",
       "      <td>...</td>\n",
       "      <td>AVS not performed</td>\n",
       "      <td>CONSUMER</td>\n",
       "      <td>VI Interregional Consumer Super Premium Program</td>\n",
       "      <td>.0197</td>\n",
       "      <td>0.000</td>\n",
       "      <td>108.620</td>\n",
       "      <td>Banco Itau Uruguay S.A.                       ...</td>\n",
       "      <td>VISA</td>\n",
       "      <td>CREDIT</td>\n",
       "      <td>202.60.225.153</td>\n",
       "    </tr>\n",
       "  </tbody>\n",
       "</table>\n",
       "<p>5 rows × 52 columns</p>\n",
       "</div>"
      ],
      "text/plain": [
       "   STATUSID RECEIVEDDATE DATEAUTHORISATION SENDDATE PAYMENTDATE STATUSDATE  \\\n",
       "0  1050.000      2017/08           2017/08  2017/08     2017/08    2017/08   \n",
       "1  1050.000      2017/08           2017/08  2017/08     2017/08    2017/08   \n",
       "2  1050.000      2017/07           2017/07  2017/07     2017/07    2017/07   \n",
       "3  1050.000      2017/08           2017/08  2017/08     2017/08    2017/08   \n",
       "4  1050.000      2017/08           2017/08  2017/08     2017/08    2017/08   \n",
       "\n",
       "   MERCHANTID                    MERCHANTNAME        ORDERID  \\\n",
       "0    4856.000  CTRIP INTERNATIONAL TRAVEL (U. 4000008675.000   \n",
       "1    4856.000  CTRIP INTERNATIONAL TRAVEL (U. 4000008338.000   \n",
       "2    4856.000  CTRIP INTERNATIONAL TRAVEL (U. 4000000027.000   \n",
       "3    4856.000  CTRIP INTERNATIONAL TRAVEL (U. 4000007839.000   \n",
       "4    4856.000  CTRIP INTERNATIONAL TRAVEL (U. 4000008450.000   \n",
       "\n",
       "  CREDITCARDCOMPANY        ...         \\\n",
       "0              VISA        ...          \n",
       "1              VISA        ...          \n",
       "2              ECMC        ...          \n",
       "3              VISA        ...          \n",
       "4              VISA        ...          \n",
       "\n",
       "                                  AVS_RESPONSE              CONS_CORP_BIN  \\\n",
       "0                            AVS not performed  CONSUMER                    \n",
       "1                            AVS not performed  CONSUMER                    \n",
       "2  5-Digit zip matches, address does not match  CONSUMER                    \n",
       "3                            AVS not performed  CONSUMER                    \n",
       "4                            AVS not performed  CONSUMER                    \n",
       "\n",
       "                                  INTERCHANGE_RATE  INTERCHANGE_PERCENT_RATE  \\\n",
       "0                      VI Consumer Standard Credit                      .027   \n",
       "1                          VI U.S. Regulated Debit                     .0005   \n",
       "2                        VI Consumer CPS Rewards 2                     .0195   \n",
       "3               VI Interregional Consumer Standard                      .016   \n",
       "4  VI Interregional Consumer Super Premium Program                     .0197   \n",
       "\n",
       "   INTERCHANGE_FLAT_RATE TRANSACTION_FLOW  \\\n",
       "0                  0.100          226.730   \n",
       "1                  0.220          144.540   \n",
       "2                  0.100           10.000   \n",
       "3                  0.000         1529.930   \n",
       "4                  0.000          108.620   \n",
       "\n",
       "                                        ISSUING_BANK CARD_SCHEME_BIN  \\\n",
       "0  Capital One Bank (Usa), National Association  ...            VISA   \n",
       "1  U.S. Bank National Association                ...            VISA   \n",
       "2  Bank of America - Consumer Credit             ...            VISA   \n",
       "3  Israel Credit Cards Limited                   ...            VISA   \n",
       "4  Banco Itau Uruguay S.A.                       ...            VISA   \n",
       "\n",
       "                CRED_DEB_BIN ipaddressmerchant  \n",
       "0  CREDIT                       202.60.225.153  \n",
       "1  DEBIT                        202.60.225.153  \n",
       "2  CREDIT                          10.64.10.46  \n",
       "3  CREDIT                       202.60.225.153  \n",
       "4  CREDIT                       202.60.225.153  \n",
       "\n",
       "[5 rows x 52 columns]"
      ]
     },
     "execution_count": 12,
     "metadata": {},
     "output_type": "execute_result"
    }
   ],
   "source": [
    "df.head()"
   ]
  },
  {
   "cell_type": "code",
   "execution_count": 13,
   "metadata": {},
   "outputs": [],
   "source": [
    "df=pd.merge(df,dg_df,on='INTERCHANGE_RATE',how='left')"
   ]
  },
  {
   "cell_type": "markdown",
   "metadata": {
    "collapsed": true
   },
   "source": [
    "## Total Downgrades"
   ]
  },
  {
   "cell_type": "code",
   "execution_count": 14,
   "metadata": {},
   "outputs": [
    {
     "name": "stdout",
     "output_type": "stream",
     "text": [
      "['2017/07', '2017/08', '2017/12', '2018/01', '2018/02', '2018/03', '2018/04', '2018/05', '2018/06']\n",
      "[0.028906648529161708, 0.12909441233140656, 0.203017084696474, 0.2568497962624701, 0.2288008965259619, 0.4924783881287863, 0.4185177705977383, 0.30361910412340554, 0.3220653789004458]\n",
      "[5881L, 2076L, 5502L, 7117L, 5354L, 14691L, 9904L, 6742L, 2692L]\n"
     ]
    }
   ],
   "source": [
    "count=df[['RECEIVEDDATE','DOWNGRADE']]\n",
    "count=count.groupby(['RECEIVEDDATE'],as_index=False).sum()\n",
    "orders=df[['RECEIVEDDATE','ORDERID']]\n",
    "orders=orders.groupby(['RECEIVEDDATE'],as_index=False).count()\n",
    "count=pd.merge(count,orders,how='left',on=['RECEIVEDDATE'])\n",
    "count['DOWNGRADE_PERCENTAGE']=count['DOWNGRADE']/count['ORDERID']\n",
    "\n",
    "#in order to feed the information from the dataframe into the bar chart we will need to convert the infromation into lists\n",
    "date=count['RECEIVEDDATE'].values.tolist() #x\n",
    "dg_count=count['DOWNGRADE_PERCENTAGE'].values.tolist() #y\n",
    "dg_orders=count['ORDERID'].values.tolist() #y2\n",
    "\n",
    "#let's review our dataframe variables now converted to lists\n",
    "print date\n",
    "print dg_count\n",
    "print dg_orders\n",
    "\n",
    "#let's have a look at the results in Bokeh\n",
    "output_file(\"downgrades.html\")\n",
    "\n",
    "x=date\n",
    "y=dg_count\n",
    "y2=dg_orders\n",
    "TOOLS=\"hover,save,wheel_zoom,pan,reset\"\n",
    "\n",
    "#create a figure\n",
    "p1 = figure(x_range=x,plot_height=500, title=\"Ctrip Downgrade Percentages\", toolbar_location=\"above\",tools=TOOLS) \n",
    "#fill the plot with the array information within the created figure\n",
    "p1.vbar(x=date, top=y, width=0.9)\n",
    "#establish the range of the left y-axis\n",
    "p1.y_range = Range1d(0,1) \n",
    "#format the color and size of the border around the graphs\n",
    "p1.border_fill_color = \"whitesmoke\"\n",
    "p1.min_border_left = 80\n",
    "\n",
    "#add in the axis lables\n",
    "p1.xaxis.axis_label = \"Date\"\n",
    "p1.yaxis.axis_label = \"Downgrade Percentage\"\n",
    "\n",
    "p1.extra_y_ranges={\"y2\":Range1d(start=0,end=15000)}\n",
    "p1.line(x,y2,color=\"red\",y_range_name=\"y2\",line_width=3)\n",
    "p1.circle(x,y2,color=\"black\",y_range_name=\"y2\")\n",
    "p1.add_layout(LinearAxis(y_range_name=\"y2\"),'right')\n",
    "\n",
    "#show(p1)"
   ]
  },
  {
   "cell_type": "markdown",
   "metadata": {},
   "source": [
    "## Visa"
   ]
  },
  {
   "cell_type": "code",
   "execution_count": 15,
   "metadata": {},
   "outputs": [
    {
     "name": "stdout",
     "output_type": "stream",
     "text": [
      "['2017/07', '2017/08', '2017/12', '2018/01', '2018/02', '2018/03', '2018/04', '2018/05', '2018/06']\n",
      "[0.3475177304964539, 0.287396937573616, 0.26997319034852546, 0.29142143748885324, 0.28721174004192873, 0.6266106989457243, 0.4938666666666667, 0.3516271904486809, 0.37734939759036146]\n",
      "[423L, 849L, 3730L, 5607L, 3816L, 10244L, 7500L, 5193L, 2075L]\n"
     ]
    }
   ],
   "source": [
    "#visa\n",
    "visa_sum=df[['RECEIVEDDATE','DOWNGRADE']][(df['CARD_SCHEME_BIN']=='VISA')]\n",
    "visa_sum=visa_sum.groupby(['RECEIVEDDATE'],as_index=False).sum()\n",
    "visa_count=df[['RECEIVEDDATE','ORDERID']][(df['CARD_SCHEME_BIN']=='VISA')]\n",
    "visa_count=visa_count.groupby(['RECEIVEDDATE'],as_index=False).count()\n",
    "visa_count=pd.merge(visa_count,visa_sum,how='left',on=['RECEIVEDDATE'])\n",
    "visa_count['DOWNGRADE_PERCENTAGE']=visa_count['DOWNGRADE']/visa_count['ORDERID']\n",
    "\n",
    "#in order to feed the information from the dataframe into the bar chart we will need to convert the infromation into lists\n",
    "date=visa_count['RECEIVEDDATE'].values.tolist() #x\n",
    "dg_count=visa_count['DOWNGRADE_PERCENTAGE'].values.tolist() #y\n",
    "dg_orders=visa_count['ORDERID'].values.tolist() #y2\n",
    "\n",
    "#let's review our dataframe variables now converted to lists\n",
    "print date\n",
    "print dg_count\n",
    "print dg_orders\n",
    "\n",
    "#let's have a look at the results in Bokeh\n",
    "output_file(\"downgrades.html\")\n",
    "\n",
    "x=date\n",
    "y=dg_count\n",
    "y2=dg_orders\n",
    "TOOLS=\"hover,save,wheel_zoom,pan,reset\"\n",
    "\n",
    "\n",
    "p2 = figure(plot_height=500, title=\"Visa Ctrip Downgrade Percentages\", toolbar_location=\"above\",tools=TOOLS,x_range=p1.x_range, y_range=p1.y_range,extra_y_ranges=p1.extra_y_ranges)\n",
    "p2.vbar(x=date, top=y, width=0.9)\n",
    "p2.y_range = Range1d(0,1)\n",
    "p2.border_fill_color = \"whitesmoke\"\n",
    "p2.min_border_left = 80\n",
    "\n",
    "#add in the axis lables\n",
    "p2.xaxis.axis_label = \"Date\"\n",
    "p2.yaxis.axis_label = \"Downgrade Percentage\"\n",
    "\n",
    "p2.extra_y_ranges={\"y2\":Range1d(start=0,end=15000)}\n",
    "p2.line(x,y2,color=\"red\",y_range_name=\"y2\",line_width=3)\n",
    "p2.circle(x,y2,color=\"black\",y_range_name=\"y2\")\n",
    "p2.add_layout(LinearAxis(y_range_name=\"y2\"),'right')\n",
    "\n",
    "#show(p2)"
   ]
  },
  {
   "cell_type": "markdown",
   "metadata": {},
   "source": [
    "## MasterCard"
   ]
  },
  {
   "cell_type": "code",
   "execution_count": 16,
   "metadata": {},
   "outputs": [
    {
     "name": "stdout",
     "output_type": "stream",
     "text": [
      "['2017/07', '2017/08', '2017/12', '2018/01', '2018/02', '2018/03', '2018/04', '2018/05', '2018/06']\n",
      "[0.08984375, 0.05240174672489083, 0.0937766410912191, 0.12847682119205298, 0.10813076278290025, 0.21311047270827893, 0.1834442595673877, 0.14276485788113696, 0.13614262560777957]\n",
      "[256L, 458L, 1173L, 1510L, 1193L, 3829L, 2404L, 1548L, 617L]\n"
     ]
    }
   ],
   "source": [
    "#masterCard\n",
    "mc_sum=df[['RECEIVEDDATE','DOWNGRADE']][(df['CARD_SCHEME_BIN']=='MASTERCARD')]\n",
    "mc_sum=mc_sum.groupby(['RECEIVEDDATE'],as_index=False).sum()\n",
    "mc_count=df[['RECEIVEDDATE','ORDERID']][(df['CARD_SCHEME_BIN']=='MASTERCARD')]\n",
    "mc_count=mc_count.groupby(['RECEIVEDDATE'],as_index=False).count()\n",
    "mc_count=pd.merge(mc_count,mc_sum,how='left',on=['RECEIVEDDATE'])\n",
    "mc_count['DOWNGRADE_PERCENTAGE']=mc_count['DOWNGRADE']/mc_count['ORDERID']\n",
    "\n",
    "#in order to feed the information from the dataframe into the bar chart we will need to convert the infromation into lists\n",
    "date=mc_count['RECEIVEDDATE'].values.tolist() #x\n",
    "dg_count=mc_count['DOWNGRADE_PERCENTAGE'].values.tolist() #y\n",
    "dg_orders=mc_count['ORDERID'].values.tolist() #y2\n",
    "\n",
    "#let's review our dataframe variables now converted to lists\n",
    "print date\n",
    "print dg_count\n",
    "print dg_orders\n",
    "\n",
    "#let's have a look at the results in Bokeh\n",
    "output_file(\"downgrades.html\")\n",
    "\n",
    "x=date\n",
    "y=dg_count\n",
    "y2=dg_orders\n",
    "TOOLS=\"hover,save,wheel_zoom,pan,reset\"\n",
    "\n",
    "\n",
    "p3 = figure(plot_height=500, title=\"MasterCard Ctrip Downgrade Percentages\", toolbar_location=\"above\",tools=TOOLS,x_range=p1.x_range, y_range=p1.y_range,extra_y_ranges=p1.extra_y_ranges)\n",
    "p3.vbar(x=date, top=y, width=0.9)\n",
    "p3.y_range = Range1d(0,1)\n",
    "p3.border_fill_color = \"whitesmoke\"\n",
    "p3.min_border_left = 80\n",
    "\n",
    "#add in the axis lables\n",
    "p3.xaxis.axis_label = \"Date\"\n",
    "p3.yaxis.axis_label = \"Downgrade Percentage\"\n",
    "\n",
    "p3.extra_y_ranges={\"y2\":Range1d(start=0,end=15000)}\n",
    "p3.line(x,y2,color=\"red\",y_range_name=\"y2\",line_width=3)\n",
    "p3.circle(x,y2,color=\"black\",y_range_name=\"y2\")\n",
    "p3.add_layout(LinearAxis(y_range_name=\"y2\"),'right')\n",
    "\n",
    "#show(p3)"
   ]
  },
  {
   "cell_type": "markdown",
   "metadata": {},
   "source": [
    "## Total No EIRF"
   ]
  },
  {
   "cell_type": "code",
   "execution_count": 17,
   "metadata": {},
   "outputs": [
    {
     "name": "stdout",
     "output_type": "stream",
     "text": [
      "['2017/07', '2017/08', '2017/12', '2018/01', '2018/02', '2018/03', '2018/04', '2018/05', '2018/06']\n",
      "[0.02414555347729978, 0.10500963391136801, 0.07851690294438386, 0.09456231558240832, 0.08890549122151663, 0.3577019944183514, 0.27221324717285944, 0.16226638979531297, 0.1901931649331352]\n",
      "[648L, 1251L, 4216L, 5962L, 4260L, 12093L, 8455L, 5787L, 2337L]\n"
     ]
    }
   ],
   "source": [
    "count_eirf=df[['RECEIVEDDATE','DOWNGRADE']][(df['EIRF']==0)]\n",
    "count_eirf=count_eirf.groupby(['RECEIVEDDATE'],as_index=False).sum()\n",
    "orders_eirf=df[['RECEIVEDDATE','ORDERID']][(df['EIRF']==0)]\n",
    "orders_eirf=orders_eirf.groupby(['RECEIVEDDATE'],as_index=False).count()\n",
    "count_eirf=pd.merge(count_eirf,orders_eirf,how='left',on=['RECEIVEDDATE'])\n",
    "count_eirf['DOWNGRADE_PERCENTAGE']=count_eirf['DOWNGRADE']/count['ORDERID']\n",
    "\n",
    "#in order to feed the information from the dataframe into the bar chart we will need to convert the infromation into lists\n",
    "date=count_eirf['RECEIVEDDATE'].values.tolist() #x\n",
    "dg_count=count_eirf['DOWNGRADE_PERCENTAGE'].values.tolist() #y\n",
    "dg_orders=count_eirf['ORDERID'].values.tolist() #y2\n",
    "\n",
    "#let's review our dataframe variables now converted to lists\n",
    "print date\n",
    "print dg_count\n",
    "print dg_orders\n",
    "\n",
    "#let's have a look at the results in Bokeh\n",
    "output_file(\"downgrades.html\")\n",
    "\n",
    "x=date\n",
    "y=dg_count\n",
    "y2=dg_orders\n",
    "TOOLS=\"hover,save,wheel_zoom,pan,reset\"\n",
    "\n",
    "\n",
    "p4 = figure(plot_height=500, title=\"Ctrip Downgrade Percentages\", toolbar_location=\"above\",tools=TOOLS,x_range=p1.x_range, y_range=p1.y_range,extra_y_ranges=p1.extra_y_ranges)\n",
    "p4.vbar(x=date, top=y, width=0.9)\n",
    "p4.y_range = Range1d(0,1)\n",
    "p4.border_fill_color = \"whitesmoke\"\n",
    "p4.min_border_left = 80\n",
    "\n",
    "#add in the axis lables\n",
    "p4.xaxis.axis_label = \"Date\"\n",
    "p4.yaxis.axis_label = \"Downgrade Percentage\"\n",
    "\n",
    "p4.extra_y_ranges={\"y2\":Range1d(start=0,end=15000)}\n",
    "p4.line(x,y2,color=\"red\",y_range_name=\"y2\",line_width=3)\n",
    "p4.circle(x,y2,color=\"black\",y_range_name=\"y2\")\n",
    "p4.add_layout(LinearAxis(y_range_name=\"y2\"),'right')\n",
    "\n",
    "#show(p4)"
   ]
  },
  {
   "cell_type": "markdown",
   "metadata": {},
   "source": [
    "## Visa No EIRF"
   ]
  },
  {
   "cell_type": "code",
   "execution_count": 18,
   "metadata": {},
   "outputs": [
    {
     "name": "stdout",
     "output_type": "stream",
     "text": [
      "['2017/07', '2017/08', '2017/12', '2018/01', '2018/02', '2018/03', '2018/04', '2018/05', '2018/06']\n",
      "[0.31851851851851853, 0.25123762376237624, 0.1284433055733504, 0.13498802525582407, 0.13869537682077265, 0.5567786790266512, 0.3936102236421725, 0.2272205646086757, 0.2675736961451247]\n",
      "[405L, 808L, 3122L, 4593L, 3158L, 8630L, 6260L, 4357L, 1764L]\n"
     ]
    }
   ],
   "source": [
    "#visa\n",
    "visa_sum_eirf=df[['RECEIVEDDATE','DOWNGRADE']][(df['CARD_SCHEME_BIN']=='VISA')&(df['EIRF']==0)]\n",
    "visa_sum_eirf=visa_sum_eirf.groupby(['RECEIVEDDATE'],as_index=False).sum()\n",
    "visa_count_eirf=df[['RECEIVEDDATE','ORDERID']][(df['CARD_SCHEME_BIN']=='VISA')&(df['EIRF']==0)]\n",
    "visa_count_eirf=visa_count_eirf.groupby(['RECEIVEDDATE'],as_index=False).count()\n",
    "visa_count_eirf=pd.merge(visa_count_eirf,visa_sum_eirf,how='left',on=['RECEIVEDDATE'])\n",
    "visa_count_eirf['DOWNGRADE_PERCENTAGE']=visa_count_eirf['DOWNGRADE']/visa_count_eirf['ORDERID']\n",
    "\n",
    "#in order to feed the information from the dataframe into the bar chart we will need to convert the infromation into lists\n",
    "date=visa_count_eirf['RECEIVEDDATE'].values.tolist() #x\n",
    "dg_count=visa_count_eirf['DOWNGRADE_PERCENTAGE'].values.tolist() #y\n",
    "dg_orders=visa_count_eirf['ORDERID'].values.tolist() #y2\n",
    "\n",
    "#let's review our dataframe variables now converted to lists\n",
    "print date\n",
    "print dg_count\n",
    "print dg_orders\n",
    "\n",
    "#let's have a look at the results in Bokeh\n",
    "output_file(\"downgrades.html\")\n",
    "\n",
    "x=date\n",
    "y=dg_count\n",
    "y2=dg_orders\n",
    "TOOLS=\"hover,save,wheel_zoom,pan,reset\"\n",
    "\n",
    "\n",
    "p5 = figure(plot_height=500, title=\"Visa Ctrip Downgrade Percentages\", toolbar_location=\"above\",tools=TOOLS,x_range=p1.x_range, y_range=p1.y_range,extra_y_ranges=p1.extra_y_ranges)\n",
    "p5.vbar(x=date, top=y, width=0.9)\n",
    "p5.y_range = Range1d(0,1)\n",
    "p5.border_fill_color = \"whitesmoke\"\n",
    "p5.min_border_left = 80\n",
    "\n",
    "#add in the axis lables\n",
    "p5.xaxis.axis_label = \"Date\"\n",
    "p5.yaxis.axis_label = \"Downgrade Percentage\"\n",
    "\n",
    "p5.extra_y_ranges={\"y2\":Range1d(start=0,end=15000)}\n",
    "p5.line(x,y2,color=\"red\",y_range_name=\"y2\",line_width=3)\n",
    "p5.circle(x,y2,color=\"black\",y_range_name=\"y2\")\n",
    "p5.add_layout(LinearAxis(y_range_name=\"y2\"),'right')\n",
    "\n",
    "#show(p5)"
   ]
  },
  {
   "cell_type": "markdown",
   "metadata": {},
   "source": [
    "## MasterCard No EIRF"
   ]
  },
  {
   "cell_type": "code",
   "execution_count": 19,
   "metadata": {},
   "outputs": [
    {
     "name": "stdout",
     "output_type": "stream",
     "text": [
      "['2017/07', '2017/08', '2017/12', '2018/01', '2018/02', '2018/03', '2018/04', '2018/05', '2018/06']\n",
      "[0.053497942386831275, 0.033860045146726865, 0.0283363802559415, 0.03871439006574142, 0.034482758620689655, 0.12994513427663876, 0.10569476082004556, 0.07272727272727272, 0.06980802792321117]\n",
      "[243L, 443L, 1094L, 1369L, 1102L, 3463L, 2195L, 1430L, 573L]\n"
     ]
    }
   ],
   "source": [
    "#visa\n",
    "mc_sum_eirf=df[['RECEIVEDDATE','DOWNGRADE']][(df['CARD_SCHEME_BIN']=='MASTERCARD')&(df['EIRF']==0)]\n",
    "mc_sum_eirf=mc_sum_eirf.groupby(['RECEIVEDDATE'],as_index=False).sum()\n",
    "mc_count_eirf=df[['RECEIVEDDATE','ORDERID']][(df['CARD_SCHEME_BIN']=='MASTERCARD')&(df['EIRF']==0)]\n",
    "mc_count_eirf=mc_count_eirf.groupby(['RECEIVEDDATE'],as_index=False).count()\n",
    "mc_count_eirf=pd.merge(mc_count_eirf,mc_sum_eirf,how='left',on=['RECEIVEDDATE'])\n",
    "mc_count_eirf['DOWNGRADE_PERCENTAGE']=mc_count_eirf['DOWNGRADE']/mc_count_eirf['ORDERID']\n",
    "\n",
    "#in order to feed the information from the dataframe into the bar chart we will need to convert the infromation into lists\n",
    "date=mc_count_eirf['RECEIVEDDATE'].values.tolist() #x\n",
    "dg_count=mc_count_eirf['DOWNGRADE_PERCENTAGE'].values.tolist() #y\n",
    "dg_orders=mc_count_eirf['ORDERID'].values.tolist() #y2\n",
    "\n",
    "#let's review our dataframe variables now converted to lists\n",
    "print date\n",
    "print dg_count\n",
    "print dg_orders\n",
    "\n",
    "#let's have a look at the results in Bokeh\n",
    "output_file(\"downgrades.html\")\n",
    "\n",
    "x=date\n",
    "y=dg_count\n",
    "y2=dg_orders\n",
    "TOOLS=\"hover,save,wheel_zoom,pan,reset\"\n",
    "\n",
    "\n",
    "p6 = figure(plot_height=500, title=\"MasterCard Ctrip Downgrade Percentages\", toolbar_location=\"above\",tools=TOOLS,x_range=p1.x_range, y_range=p1.y_range,extra_y_ranges=p1.extra_y_ranges)\n",
    "p6.vbar(x=date, top=y, width=0.9)\n",
    "p6.y_range = Range1d(0,1)\n",
    "p6.border_fill_color = \"whitesmoke\"\n",
    "p6.min_border_left = 80\n",
    "\n",
    "#add in the axis lables\n",
    "p6.xaxis.axis_label = \"Date\"\n",
    "p6.yaxis.axis_label = \"Downgrade Percentage\"\n",
    "\n",
    "p6.extra_y_ranges={\"y2\":Range1d(start=0,end=15000)}\n",
    "p6.line(x,y2,color=\"red\",y_range_name=\"y2\",line_width=3)\n",
    "p6.circle(x,y2,color=\"black\",y_range_name=\"y2\")\n",
    "p6.add_layout(LinearAxis(y_range_name=\"y2\"),'right')\n",
    "\n",
    "#show(p5)"
   ]
  },
  {
   "cell_type": "code",
   "execution_count": 20,
   "metadata": {},
   "outputs": [
    {
     "data": {
      "text/html": [
       "\n",
       "\n",
       "\n",
       "\n",
       "\n",
       "\n",
       "  <div class=\"bk-root\" id=\"c9b89339-0e3d-49e6-9106-f4f8203ca4c0\"></div>\n"
      ]
     },
     "metadata": {},
     "output_type": "display_data"
    },
    {
     "data": {
      "application/javascript": [
       "(function(root) {\n",
       "  function embed_document(root) {\n",
       "    \n",
       "  var docs_json = {\"42a507fe-7661-47f2-bc65-8a5e5cdb7c5b\":{\"roots\":{\"references\":[{\"attributes\":{},\"id\":\"c0f8b72d-9a71-44b4-8365-6b3e706590f2\",\"type\":\"BasicTickFormatter\"},{\"attributes\":{},\"id\":\"3720179f-02d4-4bc5-ae80-580a9d39d394\",\"type\":\"BasicTickFormatter\"},{\"attributes\":{},\"id\":\"4f4dd0cb-350b-44c6-9b89-0f3037e399ad\",\"type\":\"CategoricalTickFormatter\"},{\"attributes\":{\"plot\":{\"id\":\"c54063e8-c871-476e-95a9-f8f70397c004\",\"subtype\":\"Figure\",\"type\":\"Plot\"},\"ticker\":{\"id\":\"ef09b4c2-40cb-4160-b55f-8a7044bcd72d\",\"type\":\"CategoricalTicker\"}},\"id\":\"bb322cef-778d-41da-ba96-5fa537a8dcd5\",\"type\":\"Grid\"},{\"attributes\":{\"fill_color\":{\"value\":\"black\"},\"x\":{\"field\":\"x\"},\"y\":{\"field\":\"y\"}},\"id\":\"b24b468e-40f6-4682-947c-2f2860a2d340\",\"type\":\"Circle\"},{\"attributes\":{\"active_drag\":\"auto\",\"active_inspect\":\"auto\",\"active_multi\":null,\"active_scroll\":\"auto\",\"active_tap\":\"auto\",\"tools\":[{\"id\":\"415eb9f2-61f3-4162-86ea-a151c799a31f\",\"type\":\"HoverTool\"},{\"id\":\"e4fdf9bf-0007-45d3-b7a8-2a4e6cddf3ce\",\"type\":\"SaveTool\"},{\"id\":\"877c7a13-1f3c-490f-aff8-f01407323c23\",\"type\":\"WheelZoomTool\"},{\"id\":\"e1f829d8-ae94-440f-b2e0-2171bdb4c113\",\"type\":\"PanTool\"},{\"id\":\"71cdf9d3-0297-4f2f-a286-88c56c3359c9\",\"type\":\"ResetTool\"}]},\"id\":\"8eedee51-c5da-41ba-8d74-20ec85db0835\",\"type\":\"Toolbar\"},{\"attributes\":{},\"id\":\"68b89187-6e3d-4462-ad9b-6fe814b57130\",\"type\":\"BasicTickFormatter\"},{\"attributes\":{\"source\":{\"id\":\"fc9b09d9-9df3-4879-8f14-14a249fd9cfe\",\"type\":\"ColumnDataSource\"}},\"id\":\"8eef3a8b-7247-4f40-af4b-edcccef2b4bd\",\"type\":\"CDSView\"},{\"attributes\":{\"fill_alpha\":{\"value\":0.1},\"fill_color\":{\"value\":\"#1f77b4\"},\"line_alpha\":{\"value\":0.1},\"line_color\":{\"value\":\"#1f77b4\"},\"x\":{\"field\":\"x\"},\"y\":{\"field\":\"y\"}},\"id\":\"185d738b-ac3f-4079-b4f2-64596d7c5166\",\"type\":\"Circle\"},{\"attributes\":{\"children\":[{\"id\":\"fb1c17f1-e003-47cb-a4a9-f99c3e4e1740\",\"subtype\":\"Figure\",\"type\":\"Plot\"},{\"id\":\"35252528-9c91-439b-92af-1a9c97e3ccd3\",\"subtype\":\"Figure\",\"type\":\"Plot\"},{\"id\":\"42e9ec66-594c-4e7b-b9a4-e9ac8ddce63d\",\"subtype\":\"Figure\",\"type\":\"Plot\"}]},\"id\":\"3253e392-7532-4644-836b-302cb68fec67\",\"type\":\"Row\"},{\"attributes\":{\"plot\":{\"id\":\"fbeb9b24-a1a4-4a01-b981-e3e262fb4827\",\"subtype\":\"Figure\",\"type\":\"Plot\"},\"ticker\":{\"id\":\"e0ade174-2875-4764-9d6e-7d1dfc58fb81\",\"type\":\"CategoricalTicker\"}},\"id\":\"aa4a96bd-f357-403a-9bd1-0bc631eb0e64\",\"type\":\"Grid\"},{\"attributes\":{\"children\":[{\"id\":\"511a5320-93f7-41da-9559-86dcbeeb1714\",\"type\":\"ToolbarBox\"},{\"id\":\"d5470d4f-b2bd-4503-9caa-235e14135158\",\"type\":\"Column\"}]},\"id\":\"1280324d-8570-4b04-9250-a0ce2ae57e6e\",\"type\":\"Column\"},{\"attributes\":{\"callback\":null,\"data\":{\"x\":[\"2017/07\",\"2017/08\",\"2017/12\",\"2018/01\",\"2018/02\",\"2018/03\",\"2018/04\",\"2018/05\",\"2018/06\"],\"y\":[243,443,1094,1369,1102,3463,2195,1430,573]},\"selected\":{\"id\":\"2e403b34-b6cc-4cb1-a352-2dc691d79e00\",\"type\":\"Selection\"},\"selection_policy\":{\"id\":\"f4801917-4d59-4701-9d57-e89ccc4bce49\",\"type\":\"UnionRenderers\"}},\"id\":\"05e7ca7f-87be-46ef-b62a-0a4ce8584bac\",\"type\":\"ColumnDataSource\"},{\"attributes\":{\"children\":[{\"id\":\"ffcbd7e3-4dc0-4d01-b440-f8ed8468fcda\",\"type\":\"ToolbarBox\"},{\"id\":\"8d41fe87-4b32-47c1-88e9-74efc801a3e0\",\"type\":\"Column\"}]},\"id\":\"b8728355-5969-4177-968f-eda40b0716ca\",\"type\":\"Column\"},{\"attributes\":{},\"id\":\"9740c35e-bfea-49fc-98e2-8de7b5b0dcfa\",\"type\":\"SaveTool\"},{\"attributes\":{},\"id\":\"fac7b52c-88e6-42c7-bd2e-23fea8728a65\",\"type\":\"CategoricalScale\"},{\"attributes\":{},\"id\":\"fe91b47d-29ad-4958-bacf-c6f0cfebc934\",\"type\":\"BasicTickFormatter\"},{\"attributes\":{\"fill_color\":{\"value\":\"black\"},\"x\":{\"field\":\"x\"},\"y\":{\"field\":\"y\"}},\"id\":\"f7ab7057-376d-441d-ac04-201653f029b5\",\"type\":\"Circle\"},{\"attributes\":{\"line_color\":\"red\",\"line_width\":3,\"x\":{\"field\":\"x\"},\"y\":{\"field\":\"y\"}},\"id\":\"f69743ba-87d6-4ae1-9932-e11e42d5fcf0\",\"type\":\"Line\"},{\"attributes\":{},\"id\":\"e0c39049-0e98-4e3c-898d-f086ab96b2e6\",\"type\":\"PanTool\"},{\"attributes\":{},\"id\":\"ad7b97bc-d955-42b8-9f17-b1c393068625\",\"type\":\"BasicTicker\"},{\"attributes\":{\"source\":{\"id\":\"e606a865-6d21-48bb-a3da-f5cb1ed370ee\",\"type\":\"ColumnDataSource\"}},\"id\":\"3a907c7f-b5b8-43be-a95b-79600c10b9c3\",\"type\":\"CDSView\"},{\"attributes\":{\"source\":{\"id\":\"04389a35-42f0-4c95-9023-269dde9bd8c5\",\"type\":\"ColumnDataSource\"}},\"id\":\"a1aaa33a-9a8c-4bd1-9082-ab20ccedc927\",\"type\":\"CDSView\"},{\"attributes\":{},\"id\":\"fc518392-1dd4-4c27-810c-8f96061b35db\",\"type\":\"Selection\"},{\"attributes\":{\"callback\":null,\"factors\":[\"2017/07\",\"2017/08\",\"2017/12\",\"2018/01\",\"2018/02\",\"2018/03\",\"2018/04\",\"2018/05\",\"2018/06\"]},\"id\":\"eccb24d2-788b-4c2c-b5b1-751f017ae5af\",\"type\":\"FactorRange\"},{\"attributes\":{},\"id\":\"0c52cfdb-db5d-4803-9e97-2e5f9315746b\",\"type\":\"UnionRenderers\"},{\"attributes\":{\"callback\":null,\"data\":{\"x\":[\"2017/07\",\"2017/08\",\"2017/12\",\"2018/01\",\"2018/02\",\"2018/03\",\"2018/04\",\"2018/05\",\"2018/06\"],\"y\":[405,808,3122,4593,3158,8630,6260,4357,1764]},\"selected\":{\"id\":\"73da86f9-00ff-4ccd-9bc4-2daccd81478e\",\"type\":\"Selection\"},\"selection_policy\":{\"id\":\"0c52cfdb-db5d-4803-9e97-2e5f9315746b\",\"type\":\"UnionRenderers\"}},\"id\":\"1527d908-47fa-4bc8-b0a2-83263972e01d\",\"type\":\"ColumnDataSource\"},{\"attributes\":{\"source\":{\"id\":\"aad1d19f-ec64-43ff-8d15-8c338eb0d4a8\",\"type\":\"ColumnDataSource\"}},\"id\":\"5fd29c7f-40be-43c4-b06b-9d4495ba1657\",\"type\":\"CDSView\"},{\"attributes\":{\"formatter\":{\"id\":\"bce6d903-1e66-4618-beae-f40acb35ade3\",\"type\":\"BasicTickFormatter\"},\"plot\":{\"id\":\"1f335557-2ed5-46b6-95cf-04075c687281\",\"subtype\":\"Figure\",\"type\":\"Plot\"},\"ticker\":{\"id\":\"ad7b97bc-d955-42b8-9f17-b1c393068625\",\"type\":\"BasicTicker\"},\"y_range_name\":\"y2\"},\"id\":\"ae4edbc3-4aa8-4b98-8c09-1d733dd8aeb5\",\"type\":\"LinearAxis\"},{\"attributes\":{\"fill_alpha\":{\"value\":0.1},\"fill_color\":{\"value\":\"#1f77b4\"},\"line_alpha\":{\"value\":0.1},\"line_color\":{\"value\":\"#1f77b4\"},\"top\":{\"field\":\"top\"},\"width\":{\"value\":0.9},\"x\":{\"field\":\"x\"}},\"id\":\"26770f38-58c0-4a04-a022-171d7ecfcd8e\",\"type\":\"VBar\"},{\"attributes\":{\"fill_alpha\":{\"value\":0.1},\"fill_color\":{\"value\":\"#1f77b4\"},\"line_alpha\":{\"value\":0.1},\"line_color\":{\"value\":\"#1f77b4\"},\"top\":{\"field\":\"top\"},\"width\":{\"value\":0.9},\"x\":{\"field\":\"x\"}},\"id\":\"15f45832-cf00-4d08-8205-1fcb96cdf501\",\"type\":\"VBar\"},{\"attributes\":{\"formatter\":{\"id\":\"9209b2b2-c238-416a-9895-d5137fba731e\",\"type\":\"BasicTickFormatter\"},\"plot\":{\"id\":\"c54063e8-c871-476e-95a9-f8f70397c004\",\"subtype\":\"Figure\",\"type\":\"Plot\"},\"ticker\":{\"id\":\"2b4de61a-d2a1-4026-ad08-a911350ed83c\",\"type\":\"BasicTicker\"},\"y_range_name\":\"y2\"},\"id\":\"f44592e9-e41a-4d7a-b065-5d25d76b552e\",\"type\":\"LinearAxis\"},{\"attributes\":{},\"id\":\"806e71e2-9ae8-4072-ba5b-ee76540bab59\",\"type\":\"CategoricalScale\"},{\"attributes\":{},\"id\":\"5cea6c1f-0a9f-4eb2-81e7-bf33dd588d35\",\"type\":\"ResetTool\"},{\"attributes\":{},\"id\":\"c3914d51-bc20-4196-afff-0e97476d6052\",\"type\":\"UnionRenderers\"},{\"attributes\":{\"source\":{\"id\":\"a839ba09-0b31-4b93-8ff3-773d7a4e34d7\",\"type\":\"ColumnDataSource\"}},\"id\":\"52406055-d480-4069-a32f-690b43042a46\",\"type\":\"CDSView\"},{\"attributes\":{},\"id\":\"fab1f9d9-3d76-476d-9b2c-7892a4749cd5\",\"type\":\"UnionRenderers\"},{\"attributes\":{},\"id\":\"bce6d903-1e66-4618-beae-f40acb35ade3\",\"type\":\"BasicTickFormatter\"},{\"attributes\":{},\"id\":\"f7639718-abe3-4f42-8d67-89b9681668d0\",\"type\":\"Selection\"},{\"attributes\":{\"callback\":null,\"end\":15000},\"id\":\"a16ce4b9-b2c8-434e-b8d2-5badfb074fc3\",\"type\":\"Range1d\"},{\"attributes\":{\"source\":{\"id\":\"12354be8-f001-4462-958b-176822805261\",\"type\":\"ColumnDataSource\"}},\"id\":\"ce9c718b-e538-4ba8-8bd4-fc088db71032\",\"type\":\"CDSView\"},{\"attributes\":{\"callback\":null,\"data\":{\"x\":[\"2017/07\",\"2017/08\",\"2017/12\",\"2018/01\",\"2018/02\",\"2018/03\",\"2018/04\",\"2018/05\",\"2018/06\"],\"y\":[5881,2076,5502,7117,5354,14691,9904,6742,2692]},\"selected\":{\"id\":\"5d1cf1dc-5ff3-46d7-b9eb-3a1a524ffeac\",\"type\":\"Selection\"},\"selection_policy\":{\"id\":\"11f77135-1823-4e95-aa30-d502f0753537\",\"type\":\"UnionRenderers\"}},\"id\":\"e98041ea-7102-4cf8-a17c-14a84b0a0ea6\",\"type\":\"ColumnDataSource\"},{\"attributes\":{},\"id\":\"40a4fdfa-ba59-4a9c-86f3-c313dcd25461\",\"type\":\"BasicTickFormatter\"},{\"attributes\":{\"plot\":null,\"text\":\"Visa Ctrip Downgrade Percentages\"},\"id\":\"0b1e81e6-b0c3-4e43-a464-6540c9007a85\",\"type\":\"Title\"},{\"attributes\":{},\"id\":\"4e655ce6-0d14-430e-be76-0a2e17d41b1d\",\"type\":\"CategoricalTickFormatter\"},{\"attributes\":{},\"id\":\"a1bc866e-0609-42a3-abcc-5c5cad27191e\",\"type\":\"BasicTickFormatter\"},{\"attributes\":{},\"id\":\"a5b46123-a908-4730-98b3-f5872a0d559b\",\"type\":\"LinearScale\"},{\"attributes\":{},\"id\":\"bb1b6599-4675-4dae-a150-52e56fbccec8\",\"type\":\"BasicTickFormatter\"},{\"attributes\":{},\"id\":\"8790687b-62d8-478d-8161-4a751fd0e11f\",\"type\":\"CategoricalScale\"},{\"attributes\":{\"callback\":null,\"data\":{\"top\":[0.31851851851851853,0.25123762376237624,0.1284433055733504,0.13498802525582407,0.13869537682077265,0.5567786790266512,0.3936102236421725,0.2272205646086757,0.2675736961451247],\"x\":[\"2017/07\",\"2017/08\",\"2017/12\",\"2018/01\",\"2018/02\",\"2018/03\",\"2018/04\",\"2018/05\",\"2018/06\"]},\"selected\":{\"id\":\"baffd390-a488-4f3a-88a9-489c0b22a3d6\",\"type\":\"Selection\"},\"selection_policy\":{\"id\":\"fab1f9d9-3d76-476d-9b2c-7892a4749cd5\",\"type\":\"UnionRenderers\"}},\"id\":\"fc9b09d9-9df3-4879-8f14-14a249fd9cfe\",\"type\":\"ColumnDataSource\"},{\"attributes\":{\"fill_color\":{\"value\":\"black\"},\"x\":{\"field\":\"x\"},\"y\":{\"field\":\"y\"}},\"id\":\"73329ffd-1f5b-4c90-9e8b-0ccfd3793e72\",\"type\":\"Circle\"},{\"attributes\":{\"line_color\":\"red\",\"line_width\":3,\"x\":{\"field\":\"x\"},\"y\":{\"field\":\"y\"}},\"id\":\"f0897c8e-d7fd-4a9a-9081-916c3a8bb8d6\",\"type\":\"Line\"},{\"attributes\":{\"fill_color\":{\"value\":\"black\"},\"x\":{\"field\":\"x\"},\"y\":{\"field\":\"y\"}},\"id\":\"ffa06458-8f70-4060-8f19-170c49100085\",\"type\":\"Circle\"},{\"attributes\":{},\"id\":\"4058f843-f116-4b51-8c8c-d1d67962474f\",\"type\":\"LinearScale\"},{\"attributes\":{\"callback\":null,\"end\":15000},\"id\":\"b02e1d32-72c0-4fd9-89d8-210274276ed4\",\"type\":\"Range1d\"},{\"attributes\":{},\"id\":\"11f77135-1823-4e95-aa30-d502f0753537\",\"type\":\"UnionRenderers\"},{\"attributes\":{},\"id\":\"3e64a7b1-9998-4e61-8aa4-2163ffc86958\",\"type\":\"Selection\"},{\"attributes\":{},\"id\":\"a1aeee87-89f6-4e2d-aa14-6c918b4f8de4\",\"type\":\"CategoricalTicker\"},{\"attributes\":{\"plot\":{\"id\":\"35252528-9c91-439b-92af-1a9c97e3ccd3\",\"subtype\":\"Figure\",\"type\":\"Plot\"},\"ticker\":{\"id\":\"cbbd2c57-3614-4afc-b969-c4ff31b1f5c9\",\"type\":\"CategoricalTicker\"}},\"id\":\"2b2568bf-8994-4677-9468-2f21f1d805e9\",\"type\":\"Grid\"},{\"attributes\":{\"active_drag\":\"auto\",\"active_inspect\":\"auto\",\"active_multi\":null,\"active_scroll\":\"auto\",\"active_tap\":\"auto\",\"tools\":[{\"id\":\"624fcc9e-8068-41d4-9e74-825d9881189d\",\"type\":\"HoverTool\"},{\"id\":\"e37aa49e-4704-4947-ae8d-d604383410ad\",\"type\":\"SaveTool\"},{\"id\":\"ea61a602-81da-4282-887f-fba68665f0a0\",\"type\":\"WheelZoomTool\"},{\"id\":\"e0c39049-0e98-4e3c-898d-f086ab96b2e6\",\"type\":\"PanTool\"},{\"id\":\"948c6698-4686-409e-9c15-cbdf2302df19\",\"type\":\"ResetTool\"}]},\"id\":\"eaae8c09-de61-41a4-a93c-df43759ab2a0\",\"type\":\"Toolbar\"},{\"attributes\":{\"callback\":null,\"renderers\":\"auto\"},\"id\":\"624fcc9e-8068-41d4-9e74-825d9881189d\",\"type\":\"HoverTool\"},{\"attributes\":{\"data_source\":{\"id\":\"e98041ea-7102-4cf8-a17c-14a84b0a0ea6\",\"type\":\"ColumnDataSource\"},\"glyph\":{\"id\":\"ffa06458-8f70-4060-8f19-170c49100085\",\"type\":\"Circle\"},\"hover_glyph\":null,\"muted_glyph\":null,\"nonselection_glyph\":{\"id\":\"28b4170b-1d95-440f-a5fd-e9e625f99cd5\",\"type\":\"Circle\"},\"selection_glyph\":null,\"view\":{\"id\":\"be1f6e0f-b14b-4b89-b45f-7f9db9666151\",\"type\":\"CDSView\"},\"y_range_name\":\"y2\"},\"id\":\"32dd328e-db52-4c42-8d75-98040636c92e\",\"type\":\"GlyphRenderer\"},{\"attributes\":{},\"id\":\"f9222f0d-fa3e-4b09-a7be-067c6d45960e\",\"type\":\"BasicTicker\"},{\"attributes\":{\"data_source\":{\"id\":\"e606a865-6d21-48bb-a3da-f5cb1ed370ee\",\"type\":\"ColumnDataSource\"},\"glyph\":{\"id\":\"a4c15f6d-b894-4b6d-90e6-8205341022fa\",\"type\":\"Line\"},\"hover_glyph\":null,\"muted_glyph\":null,\"nonselection_glyph\":{\"id\":\"35c62899-b22c-49cd-87a7-f40674fedb24\",\"type\":\"Line\"},\"selection_glyph\":null,\"view\":{\"id\":\"3a907c7f-b5b8-43be-a95b-79600c10b9c3\",\"type\":\"CDSView\"},\"y_range_name\":\"y2\"},\"id\":\"c40c6cfe-be13-40ce-a8b9-763e9ce37bda\",\"type\":\"GlyphRenderer\"},{\"attributes\":{\"fill_alpha\":{\"value\":0.1},\"fill_color\":{\"value\":\"#1f77b4\"},\"line_alpha\":{\"value\":0.1},\"line_color\":{\"value\":\"#1f77b4\"},\"x\":{\"field\":\"x\"},\"y\":{\"field\":\"y\"}},\"id\":\"c61ecded-5696-43ff-8481-9c369a50b93b\",\"type\":\"Circle\"},{\"attributes\":{},\"id\":\"d09872ba-b9eb-4e76-b920-4f43ac25f4a9\",\"type\":\"UnionRenderers\"},{\"attributes\":{\"callback\":null,\"data\":{\"x\":[\"2017/07\",\"2017/08\",\"2017/12\",\"2018/01\",\"2018/02\",\"2018/03\",\"2018/04\",\"2018/05\",\"2018/06\"],\"y\":[423,849,3730,5607,3816,10244,7500,5193,2075]},\"selected\":{\"id\":\"808298e2-ed46-4a1f-aa3c-263a894169d9\",\"type\":\"Selection\"},\"selection_policy\":{\"id\":\"22b756ab-00ea-4c09-8732-8522ef5397a5\",\"type\":\"UnionRenderers\"}},\"id\":\"bfe6b0ab-a0f2-4704-8026-68d60cc9d8f5\",\"type\":\"ColumnDataSource\"},{\"attributes\":{\"toolbar\":{\"id\":\"c8ae44ca-cb47-4e43-bcc8-11e1a20e26e0\",\"type\":\"ProxyToolbar\"},\"toolbar_location\":\"above\"},\"id\":\"511a5320-93f7-41da-9559-86dcbeeb1714\",\"type\":\"ToolbarBox\"},{\"attributes\":{\"callback\":null,\"renderers\":\"auto\"},\"id\":\"415eb9f2-61f3-4162-86ea-a151c799a31f\",\"type\":\"HoverTool\"},{\"attributes\":{},\"id\":\"fc3c8b77-008a-478a-ae01-1da03fc53900\",\"type\":\"SaveTool\"},{\"attributes\":{},\"id\":\"307dac38-132d-416d-a57e-c0d90acff5dd\",\"type\":\"BasicTicker\"},{\"attributes\":{\"callback\":null,\"tabs\":[{\"id\":\"ebbddab9-5d22-4ca2-a014-f648dce9c8fd\",\"type\":\"Panel\"},{\"id\":\"338e9bab-7eab-4486-905e-e41eaa414868\",\"type\":\"Panel\"}]},\"id\":\"40c8fad7-5300-490d-a42e-46906fd45a5c\",\"type\":\"Tabs\"},{\"attributes\":{},\"id\":\"877c7a13-1f3c-490f-aff8-f01407323c23\",\"type\":\"WheelZoomTool\"},{\"attributes\":{\"data_source\":{\"id\":\"12354be8-f001-4462-958b-176822805261\",\"type\":\"ColumnDataSource\"},\"glyph\":{\"id\":\"4e565d19-d7f7-4cdf-b439-c2dff8fbaa83\",\"type\":\"VBar\"},\"hover_glyph\":null,\"muted_glyph\":null,\"nonselection_glyph\":{\"id\":\"9bcad996-c03e-40ff-855b-582125d4af3e\",\"type\":\"VBar\"},\"selection_glyph\":null,\"view\":{\"id\":\"ce9c718b-e538-4ba8-8bd4-fc088db71032\",\"type\":\"CDSView\"}},\"id\":\"810d429b-46f0-4420-9881-c6b2a9516db8\",\"type\":\"GlyphRenderer\"},{\"attributes\":{\"data_source\":{\"id\":\"aad1d19f-ec64-43ff-8d15-8c338eb0d4a8\",\"type\":\"ColumnDataSource\"},\"glyph\":{\"id\":\"f7ab7057-376d-441d-ac04-201653f029b5\",\"type\":\"Circle\"},\"hover_glyph\":null,\"muted_glyph\":null,\"nonselection_glyph\":{\"id\":\"0e75f5d0-db51-4f1d-87c4-8c331a10cca3\",\"type\":\"Circle\"},\"selection_glyph\":null,\"view\":{\"id\":\"5fd29c7f-40be-43c4-b06b-9d4495ba1657\",\"type\":\"CDSView\"},\"y_range_name\":\"y2\"},\"id\":\"b8e75990-654e-473e-ae25-33a782be9b26\",\"type\":\"GlyphRenderer\"},{\"attributes\":{\"callback\":null,\"data\":{\"x\":[\"2017/07\",\"2017/08\",\"2017/12\",\"2018/01\",\"2018/02\",\"2018/03\",\"2018/04\",\"2018/05\",\"2018/06\"],\"y\":[256,458,1173,1510,1193,3829,2404,1548,617]},\"selected\":{\"id\":\"e81bd1d6-b5ff-440f-9d4a-9f7ec6268f15\",\"type\":\"Selection\"},\"selection_policy\":{\"id\":\"cf2fabde-fb2a-4e97-9959-bc7c22a113a2\",\"type\":\"UnionRenderers\"}},\"id\":\"9b8466b1-932f-4890-b0b3-75210bdb2e01\",\"type\":\"ColumnDataSource\"},{\"attributes\":{\"callback\":null},\"id\":\"8cf062f7-0ebe-4adc-a0ba-f0cf982d5c8c\",\"type\":\"Range1d\"},{\"attributes\":{\"fill_color\":{\"value\":\"#1f77b4\"},\"line_color\":{\"value\":\"#1f77b4\"},\"top\":{\"field\":\"top\"},\"width\":{\"value\":0.9},\"x\":{\"field\":\"x\"}},\"id\":\"df87a738-1296-4820-acfe-afda429611af\",\"type\":\"VBar\"},{\"attributes\":{},\"id\":\"72a7a27c-5828-49ec-93a4-80d05ee32ff4\",\"type\":\"CategoricalScale\"},{\"attributes\":{},\"id\":\"9bf760ea-0aea-4584-9c13-0bbf9cd01870\",\"type\":\"Selection\"},{\"attributes\":{},\"id\":\"e81bd1d6-b5ff-440f-9d4a-9f7ec6268f15\",\"type\":\"Selection\"},{\"attributes\":{\"callback\":null,\"data\":{\"x\":[\"2017/07\",\"2017/08\",\"2017/12\",\"2018/01\",\"2018/02\",\"2018/03\",\"2018/04\",\"2018/05\",\"2018/06\"],\"y\":[243,443,1094,1369,1102,3463,2195,1430,573]},\"selected\":{\"id\":\"85540a1e-b784-430f-9b6b-8cd51e1ed0c9\",\"type\":\"Selection\"},\"selection_policy\":{\"id\":\"8dc45429-22d6-45ff-abf9-67e323b0b7ec\",\"type\":\"UnionRenderers\"}},\"id\":\"b5d2a4ed-36e6-4b0a-839d-f5df47591f8b\",\"type\":\"ColumnDataSource\"},{\"attributes\":{\"line_alpha\":0.1,\"line_color\":\"#1f77b4\",\"line_width\":3,\"x\":{\"field\":\"x\"},\"y\":{\"field\":\"y\"}},\"id\":\"35c62899-b22c-49cd-87a7-f40674fedb24\",\"type\":\"Line\"},{\"attributes\":{\"active_drag\":\"auto\",\"active_inspect\":\"auto\",\"active_multi\":null,\"active_scroll\":\"auto\",\"active_tap\":\"auto\",\"tools\":[{\"id\":\"e09e3e83-b30e-4adb-8244-254bcfe76d75\",\"type\":\"HoverTool\"},{\"id\":\"9740c35e-bfea-49fc-98e2-8de7b5b0dcfa\",\"type\":\"SaveTool\"},{\"id\":\"2a4707b5-5cc3-46e2-9fa6-a2ff5de4dcd5\",\"type\":\"WheelZoomTool\"},{\"id\":\"9f09686e-3b12-4929-899f-ddc7ed59727a\",\"type\":\"PanTool\"},{\"id\":\"5cea6c1f-0a9f-4eb2-81e7-bf33dd588d35\",\"type\":\"ResetTool\"}]},\"id\":\"540c5c3b-f1d8-490a-bbea-f0d10c6d4e6f\",\"type\":\"Toolbar\"},{\"attributes\":{\"data_source\":{\"id\":\"04389a35-42f0-4c95-9023-269dde9bd8c5\",\"type\":\"ColumnDataSource\"},\"glyph\":{\"id\":\"afb6b790-672c-4f7c-bd5c-2774e8bbb805\",\"type\":\"Line\"},\"hover_glyph\":null,\"muted_glyph\":null,\"nonselection_glyph\":{\"id\":\"d1212eb6-6e65-4741-9e10-ed3803a71b0e\",\"type\":\"Line\"},\"selection_glyph\":null,\"view\":{\"id\":\"a1aaa33a-9a8c-4bd1-9082-ab20ccedc927\",\"type\":\"CDSView\"},\"y_range_name\":\"y2\"},\"id\":\"33897fc9-cfca-45c0-ad41-72d547eb531c\",\"type\":\"GlyphRenderer\"},{\"attributes\":{},\"id\":\"5d1cf1dc-5ff3-46d7-b9eb-3a1a524ffeac\",\"type\":\"Selection\"},{\"attributes\":{\"line_color\":\"red\",\"line_width\":3,\"x\":{\"field\":\"x\"},\"y\":{\"field\":\"y\"}},\"id\":\"6479cfae-8274-4720-88a4-915ef12e954f\",\"type\":\"Line\"},{\"attributes\":{},\"id\":\"900a15f3-ec62-4e58-8b18-fde92d9b16fe\",\"type\":\"BasicTicker\"},{\"attributes\":{},\"id\":\"71cdf9d3-0297-4f2f-a286-88c56c3359c9\",\"type\":\"ResetTool\"},{\"attributes\":{\"fill_alpha\":{\"value\":0.1},\"fill_color\":{\"value\":\"#1f77b4\"},\"line_alpha\":{\"value\":0.1},\"line_color\":{\"value\":\"#1f77b4\"},\"x\":{\"field\":\"x\"},\"y\":{\"field\":\"y\"}},\"id\":\"0e75f5d0-db51-4f1d-87c4-8c331a10cca3\",\"type\":\"Circle\"},{\"attributes\":{},\"id\":\"1df22774-3fd1-45d1-851e-d01c52f4a894\",\"type\":\"PanTool\"},{\"attributes\":{\"data_source\":{\"id\":\"57e186c7-4b80-4022-bc98-e4484925e364\",\"type\":\"ColumnDataSource\"},\"glyph\":{\"id\":\"bb5dad0e-0d41-4751-b00a-bee010513e65\",\"type\":\"VBar\"},\"hover_glyph\":null,\"muted_glyph\":null,\"nonselection_glyph\":{\"id\":\"af5b37bc-e742-4454-93dd-1199286020ab\",\"type\":\"VBar\"},\"selection_glyph\":null,\"view\":{\"id\":\"04bde571-ad9f-4377-9246-4e061d27ac7f\",\"type\":\"CDSView\"}},\"id\":\"e661072a-448d-4fe2-b25f-8360918df0f9\",\"type\":\"GlyphRenderer\"},{\"attributes\":{},\"id\":\"cbbd2c57-3614-4afc-b969-c4ff31b1f5c9\",\"type\":\"CategoricalTicker\"},{\"attributes\":{},\"id\":\"ea61a602-81da-4282-887f-fba68665f0a0\",\"type\":\"WheelZoomTool\"},{\"attributes\":{},\"id\":\"22b756ab-00ea-4c09-8732-8522ef5397a5\",\"type\":\"UnionRenderers\"},{\"attributes\":{\"line_color\":\"red\",\"line_width\":3,\"x\":{\"field\":\"x\"},\"y\":{\"field\":\"y\"}},\"id\":\"e7d8917c-37bb-4e7a-81bb-ff0d2a76e288\",\"type\":\"Line\"},{\"attributes\":{\"plot\":{\"id\":\"42e9ec66-594c-4e7b-b9a4-e9ac8ddce63d\",\"subtype\":\"Figure\",\"type\":\"Plot\"},\"ticker\":{\"id\":\"a1aeee87-89f6-4e2d-aa14-6c918b4f8de4\",\"type\":\"CategoricalTicker\"}},\"id\":\"411a631b-0ef9-4f85-a8f4-bd003bf401db\",\"type\":\"Grid\"},{\"attributes\":{},\"id\":\"8b539a5e-1aae-449a-9c41-e21c6a11be89\",\"type\":\"UnionRenderers\"},{\"attributes\":{\"children\":[{\"id\":\"94ffd286-95a4-4540-a867-31d1978a144d\",\"type\":\"Row\"}]},\"id\":\"8d41fe87-4b32-47c1-88e9-74efc801a3e0\",\"type\":\"Column\"},{\"attributes\":{},\"id\":\"e948aab2-ab55-4c27-9c1f-3fd1d11a5dd5\",\"type\":\"ResetTool\"},{\"attributes\":{},\"id\":\"505b550d-46ef-4661-b342-8011eb220c16\",\"type\":\"BasicTickFormatter\"},{\"attributes\":{},\"id\":\"d68c29e8-cf0f-43c0-af89-8ede2026a2f0\",\"type\":\"BasicTickFormatter\"},{\"attributes\":{\"plot\":null,\"text\":\"Visa Ctrip Downgrade Percentages\"},\"id\":\"2194ed3c-a210-4249-846f-030e3b582dfd\",\"type\":\"Title\"},{\"attributes\":{\"data_source\":{\"id\":\"1527d908-47fa-4bc8-b0a2-83263972e01d\",\"type\":\"ColumnDataSource\"},\"glyph\":{\"id\":\"73329ffd-1f5b-4c90-9e8b-0ccfd3793e72\",\"type\":\"Circle\"},\"hover_glyph\":null,\"muted_glyph\":null,\"nonselection_glyph\":{\"id\":\"33aca1b9-ae76-4705-9d68-1e568569ee48\",\"type\":\"Circle\"},\"selection_glyph\":null,\"view\":{\"id\":\"87ec598f-4ac3-4079-9c62-56cf07aca374\",\"type\":\"CDSView\"},\"y_range_name\":\"y2\"},\"id\":\"8938f3a2-5c50-4c79-98b0-04c81fa3d253\",\"type\":\"GlyphRenderer\"},{\"attributes\":{\"callback\":null},\"id\":\"3e4fda33-7a25-4e82-bd10-1d369a75cdeb\",\"type\":\"Range1d\"},{\"attributes\":{\"data_source\":{\"id\":\"cd3885dc-9194-4d0d-b202-3c034d8213f1\",\"type\":\"ColumnDataSource\"},\"glyph\":{\"id\":\"470033d7-1919-4162-80e1-b4e2e2324561\",\"type\":\"VBar\"},\"hover_glyph\":null,\"muted_glyph\":null,\"nonselection_glyph\":{\"id\":\"15f45832-cf00-4d08-8205-1fcb96cdf501\",\"type\":\"VBar\"},\"selection_glyph\":null,\"view\":{\"id\":\"49e82c84-378c-470f-aeba-0805f5822833\",\"type\":\"CDSView\"}},\"id\":\"34460e2c-5193-46d9-8ea7-dab84ba6fc04\",\"type\":\"GlyphRenderer\"},{\"attributes\":{\"callback\":null,\"renderers\":\"auto\"},\"id\":\"f839e61a-a8ad-4211-ad0a-d42f451dcc98\",\"type\":\"HoverTool\"},{\"attributes\":{\"callback\":null,\"end\":15000},\"id\":\"5426dd87-349a-42e7-83d7-49f3806fbbf0\",\"type\":\"Range1d\"},{\"attributes\":{\"plot\":null,\"text\":\"Ctrip Downgrade Percentages\"},\"id\":\"bf29a5db-d2c9-424f-8c52-faa87da0bd44\",\"type\":\"Title\"},{\"attributes\":{},\"id\":\"e2b0cb46-35bd-4e57-8967-b3d81f9818e4\",\"type\":\"BasicTicker\"},{\"attributes\":{\"callback\":null,\"data\":{\"x\":[\"2017/07\",\"2017/08\",\"2017/12\",\"2018/01\",\"2018/02\",\"2018/03\",\"2018/04\",\"2018/05\",\"2018/06\"],\"y\":[405,808,3122,4593,3158,8630,6260,4357,1764]},\"selected\":{\"id\":\"fc518392-1dd4-4c27-810c-8f96061b35db\",\"type\":\"Selection\"},\"selection_policy\":{\"id\":\"d09872ba-b9eb-4e76-b920-4f43ac25f4a9\",\"type\":\"UnionRenderers\"}},\"id\":\"04389a35-42f0-4c95-9023-269dde9bd8c5\",\"type\":\"ColumnDataSource\"},{\"attributes\":{},\"id\":\"e325fc7f-de4c-4075-8b69-6588bde5e0f1\",\"type\":\"LinearScale\"},{\"attributes\":{},\"id\":\"2b4de61a-d2a1-4026-ad08-a911350ed83c\",\"type\":\"BasicTicker\"},{\"attributes\":{\"callback\":null,\"data\":{\"x\":[\"2017/07\",\"2017/08\",\"2017/12\",\"2018/01\",\"2018/02\",\"2018/03\",\"2018/04\",\"2018/05\",\"2018/06\"],\"y\":[423,849,3730,5607,3816,10244,7500,5193,2075]},\"selected\":{\"id\":\"0416c779-88c2-4b83-9b56-ac4f29dc7d65\",\"type\":\"Selection\"},\"selection_policy\":{\"id\":\"db30373c-5f9e-4c34-82f8-c330ff2ddf65\",\"type\":\"UnionRenderers\"}},\"id\":\"a839ba09-0b31-4b93-8ff3-773d7a4e34d7\",\"type\":\"ColumnDataSource\"},{\"attributes\":{\"callback\":null,\"data\":{\"top\":[0.028906648529161708,0.12909441233140656,0.203017084696474,0.2568497962624701,0.2288008965259619,0.4924783881287863,0.4185177705977383,0.30361910412340554,0.3220653789004458],\"x\":[\"2017/07\",\"2017/08\",\"2017/12\",\"2018/01\",\"2018/02\",\"2018/03\",\"2018/04\",\"2018/05\",\"2018/06\"]},\"selected\":{\"id\":\"3e64a7b1-9998-4e61-8aa4-2163ffc86958\",\"type\":\"Selection\"},\"selection_policy\":{\"id\":\"89e43ffb-10e9-41bb-83e0-5e8f137c66a3\",\"type\":\"UnionRenderers\"}},\"id\":\"456ac095-dde7-46f7-9eb1-fe3f68580db6\",\"type\":\"ColumnDataSource\"},{\"attributes\":{},\"id\":\"d33a3136-1b05-4615-8d5c-6cdc6ca65d66\",\"type\":\"CategoricalTickFormatter\"},{\"attributes\":{\"active_drag\":\"auto\",\"active_inspect\":\"auto\",\"active_multi\":null,\"active_scroll\":\"auto\",\"active_tap\":\"auto\",\"tools\":[{\"id\":\"f839e61a-a8ad-4211-ad0a-d42f451dcc98\",\"type\":\"HoverTool\"},{\"id\":\"7481a391-79d8-49f3-876c-2e7c4fc510bd\",\"type\":\"SaveTool\"},{\"id\":\"4ceb1b10-f83c-43a3-bf09-723421d04275\",\"type\":\"WheelZoomTool\"},{\"id\":\"1df22774-3fd1-45d1-851e-d01c52f4a894\",\"type\":\"PanTool\"},{\"id\":\"e948aab2-ab55-4c27-9c1f-3fd1d11a5dd5\",\"type\":\"ResetTool\"}]},\"id\":\"ac62aca8-7cec-4d83-a6c8-49de9e44d48f\",\"type\":\"Toolbar\"},{\"attributes\":{\"active_drag\":\"auto\",\"active_inspect\":\"auto\",\"active_multi\":null,\"active_scroll\":\"auto\",\"active_tap\":\"auto\",\"tools\":[{\"id\":\"101222b4-7710-4620-9f99-87245d4cb62d\",\"type\":\"HoverTool\"},{\"id\":\"fc3c8b77-008a-478a-ae01-1da03fc53900\",\"type\":\"SaveTool\"},{\"id\":\"9bc620f5-30c5-47a7-ae54-872e63933ee2\",\"type\":\"WheelZoomTool\"},{\"id\":\"a92e33b4-c581-4fee-817b-d1e6dabfd98d\",\"type\":\"PanTool\"},{\"id\":\"9cd58bca-3b8b-47d0-bc5c-301fcc140d4a\",\"type\":\"ResetTool\"}]},\"id\":\"317e9c1f-f668-41e4-a1b6-bb6355d935d9\",\"type\":\"Toolbar\"},{\"attributes\":{\"source\":{\"id\":\"cd3885dc-9194-4d0d-b202-3c034d8213f1\",\"type\":\"ColumnDataSource\"}},\"id\":\"49e82c84-378c-470f-aeba-0805f5822833\",\"type\":\"CDSView\"},{\"attributes\":{},\"id\":\"ffc2c5c1-9212-4e75-808b-a52f51193a0a\",\"type\":\"BasicTicker\"},{\"attributes\":{},\"id\":\"22005caa-fd5d-4913-8c7c-ccc466c66e27\",\"type\":\"PanTool\"},{\"attributes\":{},\"id\":\"2aa7454b-67be-439e-88d7-5cb4e38f7336\",\"type\":\"Selection\"},{\"attributes\":{},\"id\":\"483ab240-c22d-45cd-8796-ffb1a6cead17\",\"type\":\"CategoricalTicker\"},{\"attributes\":{\"fill_color\":{\"value\":\"#1f77b4\"},\"line_color\":{\"value\":\"#1f77b4\"},\"top\":{\"field\":\"top\"},\"width\":{\"value\":0.9},\"x\":{\"field\":\"x\"}},\"id\":\"1b5bdd12-2822-4e10-acca-9dbb2a13eba2\",\"type\":\"VBar\"},{\"attributes\":{\"formatter\":{\"id\":\"c0f8b72d-9a71-44b4-8365-6b3e706590f2\",\"type\":\"BasicTickFormatter\"},\"plot\":{\"id\":\"fb1c17f1-e003-47cb-a4a9-f99c3e4e1740\",\"subtype\":\"Figure\",\"type\":\"Plot\"},\"ticker\":{\"id\":\"900a15f3-ec62-4e58-8b18-fde92d9b16fe\",\"type\":\"BasicTicker\"},\"y_range_name\":\"y2\"},\"id\":\"ddf35243-6d3c-4ec7-93e4-c5ede80cb941\",\"type\":\"LinearAxis\"},{\"attributes\":{},\"id\":\"e37aa49e-4704-4947-ae8d-d604383410ad\",\"type\":\"SaveTool\"},{\"attributes\":{},\"id\":\"0416c779-88c2-4b83-9b56-ac4f29dc7d65\",\"type\":\"Selection\"},{\"attributes\":{\"fill_alpha\":{\"value\":0.1},\"fill_color\":{\"value\":\"#1f77b4\"},\"line_alpha\":{\"value\":0.1},\"line_color\":{\"value\":\"#1f77b4\"},\"top\":{\"field\":\"top\"},\"width\":{\"value\":0.9},\"x\":{\"field\":\"x\"}},\"id\":\"7a801422-3dd0-4fa4-987d-ce83b4c534c6\",\"type\":\"VBar\"},{\"attributes\":{\"source\":{\"id\":\"456ac095-dde7-46f7-9eb1-fe3f68580db6\",\"type\":\"ColumnDataSource\"}},\"id\":\"ffaca79c-2c7f-413b-9744-376e7b11a465\",\"type\":\"CDSView\"},{\"attributes\":{\"source\":{\"id\":\"d9733f45-c477-420c-9179-81159c06c848\",\"type\":\"ColumnDataSource\"}},\"id\":\"94d0aa00-ddb4-4735-91c3-01d2dcb0d8c2\",\"type\":\"CDSView\"},{\"attributes\":{},\"id\":\"9201b0c0-dbcd-4d19-b24a-c417b904c6d0\",\"type\":\"BasicTicker\"},{\"attributes\":{\"callback\":null,\"data\":{\"top\":[0.02414555347729978,0.10500963391136801,0.07851690294438386,0.09456231558240832,0.08890549122151663,0.3577019944183514,0.27221324717285944,0.16226638979531297,0.1901931649331352],\"x\":[\"2017/07\",\"2017/08\",\"2017/12\",\"2018/01\",\"2018/02\",\"2018/03\",\"2018/04\",\"2018/05\",\"2018/06\"]},\"selected\":{\"id\":\"3f6bfee3-ac48-4f93-98a0-79bd542c4001\",\"type\":\"Selection\"},\"selection_policy\":{\"id\":\"8b539a5e-1aae-449a-9c41-e21c6a11be89\",\"type\":\"UnionRenderers\"}},\"id\":\"12354be8-f001-4462-958b-176822805261\",\"type\":\"ColumnDataSource\"},{\"attributes\":{},\"id\":\"cf2fabde-fb2a-4e97-9959-bc7c22a113a2\",\"type\":\"UnionRenderers\"},{\"attributes\":{\"axis_label\":\"Downgrade Percentage\",\"formatter\":{\"id\":\"d68c29e8-cf0f-43c0-af89-8ede2026a2f0\",\"type\":\"BasicTickFormatter\"},\"plot\":{\"id\":\"1f335557-2ed5-46b6-95cf-04075c687281\",\"subtype\":\"Figure\",\"type\":\"Plot\"},\"ticker\":{\"id\":\"2e532d33-9525-4c57-a8a6-932c44413be5\",\"type\":\"BasicTicker\"}},\"id\":\"b13e07c0-168a-46c8-9678-04a5ee26ca39\",\"type\":\"LinearAxis\"},{\"attributes\":{},\"id\":\"e7789e5d-c0c6-425a-ac22-f3e71eaa3a75\",\"type\":\"ResetTool\"},{\"attributes\":{},\"id\":\"2e403b34-b6cc-4cb1-a352-2dc691d79e00\",\"type\":\"Selection\"},{\"attributes\":{\"active_drag\":\"auto\",\"active_inspect\":\"auto\",\"active_multi\":null,\"active_scroll\":\"auto\",\"active_tap\":\"auto\",\"tools\":[{\"id\":\"23fccfa4-9625-46cb-8957-fc197bdd79dd\",\"type\":\"HoverTool\"},{\"id\":\"ccc7ce05-360a-4348-88ea-1136ec534e64\",\"type\":\"SaveTool\"},{\"id\":\"a59ec408-1f4d-4ec5-8690-0276260c23b0\",\"type\":\"WheelZoomTool\"},{\"id\":\"22005caa-fd5d-4913-8c7c-ccc466c66e27\",\"type\":\"PanTool\"},{\"id\":\"e7789e5d-c0c6-425a-ac22-f3e71eaa3a75\",\"type\":\"ResetTool\"}]},\"id\":\"657b16fb-595d-4e81-b36e-19618845e4a7\",\"type\":\"Toolbar\"},{\"attributes\":{\"source\":{\"id\":\"57e186c7-4b80-4022-bc98-e4484925e364\",\"type\":\"ColumnDataSource\"}},\"id\":\"04bde571-ad9f-4377-9246-4e061d27ac7f\",\"type\":\"CDSView\"},{\"attributes\":{\"callback\":null,\"renderers\":\"auto\"},\"id\":\"23fccfa4-9625-46cb-8957-fc197bdd79dd\",\"type\":\"HoverTool\"},{\"attributes\":{\"fill_color\":{\"value\":\"#1f77b4\"},\"line_color\":{\"value\":\"#1f77b4\"},\"top\":{\"field\":\"top\"},\"width\":{\"value\":0.9},\"x\":{\"field\":\"x\"}},\"id\":\"470033d7-1919-4162-80e1-b4e2e2324561\",\"type\":\"VBar\"},{\"attributes\":{\"axis_label\":\"Date\",\"formatter\":{\"id\":\"4f4dd0cb-350b-44c6-9b89-0f3037e399ad\",\"type\":\"CategoricalTickFormatter\"},\"plot\":{\"id\":\"1f335557-2ed5-46b6-95cf-04075c687281\",\"subtype\":\"Figure\",\"type\":\"Plot\"},\"ticker\":{\"id\":\"0bf78cd0-9f05-438b-9f9d-0c2bf7c30a86\",\"type\":\"CategoricalTicker\"}},\"id\":\"712042de-f9d1-46f3-b4c2-f46e03d3fc2b\",\"type\":\"CategoricalAxis\"},{\"attributes\":{\"axis_label\":\"Date\",\"formatter\":{\"id\":\"4940c570-b8ff-4618-9982-23608aa90064\",\"type\":\"CategoricalTickFormatter\"},\"plot\":{\"id\":\"fb1c17f1-e003-47cb-a4a9-f99c3e4e1740\",\"subtype\":\"Figure\",\"type\":\"Plot\"},\"ticker\":{\"id\":\"483ab240-c22d-45cd-8796-ffb1a6cead17\",\"type\":\"CategoricalTicker\"}},\"id\":\"f0953d46-c19a-4312-b90b-d88dc7a8a945\",\"type\":\"CategoricalAxis\"},{\"attributes\":{},\"id\":\"b7bd99c3-117a-4078-8934-a1847d6e1c20\",\"type\":\"Selection\"},{\"attributes\":{\"callback\":null,\"data\":{\"top\":[0.053497942386831275,0.033860045146726865,0.0283363802559415,0.03871439006574142,0.034482758620689655,0.12994513427663876,0.10569476082004556,0.07272727272727272,0.06980802792321117],\"x\":[\"2017/07\",\"2017/08\",\"2017/12\",\"2018/01\",\"2018/02\",\"2018/03\",\"2018/04\",\"2018/05\",\"2018/06\"]},\"selected\":{\"id\":\"17fdb316-ddd7-47ea-b6b3-da2080c884ec\",\"type\":\"Selection\"},\"selection_policy\":{\"id\":\"bb542e47-6595-494d-9bac-d886ebf3d560\",\"type\":\"UnionRenderers\"}},\"id\":\"cd3885dc-9194-4d0d-b202-3c034d8213f1\",\"type\":\"ColumnDataSource\"},{\"attributes\":{\"data_source\":{\"id\":\"a839ba09-0b31-4b93-8ff3-773d7a4e34d7\",\"type\":\"ColumnDataSource\"},\"glyph\":{\"id\":\"b24b468e-40f6-4682-947c-2f2860a2d340\",\"type\":\"Circle\"},\"hover_glyph\":null,\"muted_glyph\":null,\"nonselection_glyph\":{\"id\":\"185d738b-ac3f-4079-b4f2-64596d7c5166\",\"type\":\"Circle\"},\"selection_glyph\":null,\"view\":{\"id\":\"52406055-d480-4069-a32f-690b43042a46\",\"type\":\"CDSView\"},\"y_range_name\":\"y2\"},\"id\":\"a87658d0-c495-439b-a5ea-f4e772363e0c\",\"type\":\"GlyphRenderer\"},{\"attributes\":{\"dimension\":1,\"plot\":{\"id\":\"35252528-9c91-439b-92af-1a9c97e3ccd3\",\"subtype\":\"Figure\",\"type\":\"Plot\"},\"ticker\":{\"id\":\"4d48f5c9-a7d0-4b72-a66a-9897843b92b0\",\"type\":\"BasicTicker\"}},\"id\":\"9f53bbbc-5724-418e-8c12-2268c2ba30d8\",\"type\":\"Grid\"},{\"attributes\":{\"axis_label\":\"Downgrade Percentage\",\"formatter\":{\"id\":\"68b89187-6e3d-4462-ad9b-6fe814b57130\",\"type\":\"BasicTickFormatter\"},\"plot\":{\"id\":\"35252528-9c91-439b-92af-1a9c97e3ccd3\",\"subtype\":\"Figure\",\"type\":\"Plot\"},\"ticker\":{\"id\":\"4d48f5c9-a7d0-4b72-a66a-9897843b92b0\",\"type\":\"BasicTicker\"}},\"id\":\"6238b5af-7965-4aaf-abe1-ec03afaaec3f\",\"type\":\"LinearAxis\"},{\"attributes\":{},\"id\":\"b87720a0-0e79-4c16-9a5e-e607808b0a3b\",\"type\":\"UnionRenderers\"},{\"attributes\":{},\"id\":\"17fdb316-ddd7-47ea-b6b3-da2080c884ec\",\"type\":\"Selection\"},{\"attributes\":{},\"id\":\"73da86f9-00ff-4ccd-9bc4-2daccd81478e\",\"type\":\"Selection\"},{\"attributes\":{\"plot\":null,\"text\":\"MasterCard Ctrip Downgrade Percentages\"},\"id\":\"45888f9e-af9e-4d80-a1d6-a47fbad211a3\",\"type\":\"Title\"},{\"attributes\":{},\"id\":\"3f6bfee3-ac48-4f93-98a0-79bd542c4001\",\"type\":\"Selection\"},{\"attributes\":{},\"id\":\"14d49600-b6d1-47bd-a09b-32d26f39e062\",\"type\":\"CategoricalTickFormatter\"},{\"attributes\":{\"callback\":null},\"id\":\"27861a77-d865-4bf6-a385-4797bb136838\",\"type\":\"Range1d\"},{\"attributes\":{\"fill_alpha\":{\"value\":0.1},\"fill_color\":{\"value\":\"#1f77b4\"},\"line_alpha\":{\"value\":0.1},\"line_color\":{\"value\":\"#1f77b4\"},\"x\":{\"field\":\"x\"},\"y\":{\"field\":\"y\"}},\"id\":\"28b4170b-1d95-440f-a5fd-e9e625f99cd5\",\"type\":\"Circle\"},{\"attributes\":{\"dimension\":1,\"plot\":{\"id\":\"1f335557-2ed5-46b6-95cf-04075c687281\",\"subtype\":\"Figure\",\"type\":\"Plot\"},\"ticker\":{\"id\":\"2e532d33-9525-4c57-a8a6-932c44413be5\",\"type\":\"BasicTicker\"}},\"id\":\"e8d5cdbc-52ad-42f3-8fc2-9ca917697c56\",\"type\":\"Grid\"},{\"attributes\":{\"axis_label\":\"Date\",\"formatter\":{\"id\":\"d33a3136-1b05-4615-8d5c-6cdc6ca65d66\",\"type\":\"CategoricalTickFormatter\"},\"plot\":{\"id\":\"35252528-9c91-439b-92af-1a9c97e3ccd3\",\"subtype\":\"Figure\",\"type\":\"Plot\"},\"ticker\":{\"id\":\"cbbd2c57-3614-4afc-b969-c4ff31b1f5c9\",\"type\":\"CategoricalTicker\"}},\"id\":\"648845d6-623c-46e0-b4c8-14edc79f60d4\",\"type\":\"CategoricalAxis\"},{\"attributes\":{\"fill_alpha\":{\"value\":0.1},\"fill_color\":{\"value\":\"#1f77b4\"},\"line_alpha\":{\"value\":0.1},\"line_color\":{\"value\":\"#1f77b4\"},\"x\":{\"field\":\"x\"},\"y\":{\"field\":\"y\"}},\"id\":\"c4d99519-493e-409b-8a83-0b111a6e4502\",\"type\":\"Circle\"},{\"attributes\":{\"tools\":[{\"id\":\"415eb9f2-61f3-4162-86ea-a151c799a31f\",\"type\":\"HoverTool\"},{\"id\":\"e4fdf9bf-0007-45d3-b7a8-2a4e6cddf3ce\",\"type\":\"SaveTool\"},{\"id\":\"877c7a13-1f3c-490f-aff8-f01407323c23\",\"type\":\"WheelZoomTool\"},{\"id\":\"e1f829d8-ae94-440f-b2e0-2171bdb4c113\",\"type\":\"PanTool\"},{\"id\":\"71cdf9d3-0297-4f2f-a286-88c56c3359c9\",\"type\":\"ResetTool\"},{\"id\":\"101222b4-7710-4620-9f99-87245d4cb62d\",\"type\":\"HoverTool\"},{\"id\":\"fc3c8b77-008a-478a-ae01-1da03fc53900\",\"type\":\"SaveTool\"},{\"id\":\"9bc620f5-30c5-47a7-ae54-872e63933ee2\",\"type\":\"WheelZoomTool\"},{\"id\":\"a92e33b4-c581-4fee-817b-d1e6dabfd98d\",\"type\":\"PanTool\"},{\"id\":\"9cd58bca-3b8b-47d0-bc5c-301fcc140d4a\",\"type\":\"ResetTool\"},{\"id\":\"f839e61a-a8ad-4211-ad0a-d42f451dcc98\",\"type\":\"HoverTool\"},{\"id\":\"7481a391-79d8-49f3-876c-2e7c4fc510bd\",\"type\":\"SaveTool\"},{\"id\":\"4ceb1b10-f83c-43a3-bf09-723421d04275\",\"type\":\"WheelZoomTool\"},{\"id\":\"1df22774-3fd1-45d1-851e-d01c52f4a894\",\"type\":\"PanTool\"},{\"id\":\"e948aab2-ab55-4c27-9c1f-3fd1d11a5dd5\",\"type\":\"ResetTool\"}]},\"id\":\"c8ae44ca-cb47-4e43-bcc8-11e1a20e26e0\",\"type\":\"ProxyToolbar\"},{\"attributes\":{},\"id\":\"850b64e0-effc-4ab8-8244-78083c49b022\",\"type\":\"LinearScale\"},{\"attributes\":{\"dimension\":1,\"plot\":{\"id\":\"fb1c17f1-e003-47cb-a4a9-f99c3e4e1740\",\"subtype\":\"Figure\",\"type\":\"Plot\"},\"ticker\":{\"id\":\"dc56443a-9e9c-48fa-b362-82a656954556\",\"type\":\"BasicTicker\"}},\"id\":\"d1aada1e-4e86-4074-86d8-7d0bacc33238\",\"type\":\"Grid\"},{\"attributes\":{},\"id\":\"85540a1e-b784-430f-9b6b-8cd51e1ed0c9\",\"type\":\"Selection\"},{\"attributes\":{},\"id\":\"9cd58bca-3b8b-47d0-bc5c-301fcc140d4a\",\"type\":\"ResetTool\"},{\"attributes\":{\"fill_alpha\":{\"value\":0.1},\"fill_color\":{\"value\":\"#1f77b4\"},\"line_alpha\":{\"value\":0.1},\"line_color\":{\"value\":\"#1f77b4\"},\"top\":{\"field\":\"top\"},\"width\":{\"value\":0.9},\"x\":{\"field\":\"x\"}},\"id\":\"c73fb59e-7ab8-4b60-8081-f032bc978e75\",\"type\":\"VBar\"},{\"attributes\":{},\"id\":\"df9bfbf4-2ba6-426f-be42-9a2895aba4cb\",\"type\":\"BasicTickFormatter\"},{\"attributes\":{\"callback\":null},\"id\":\"e9c82542-9264-42c7-952e-82d630465b75\",\"type\":\"Range1d\"},{\"attributes\":{\"data_source\":{\"id\":\"ca7b2964-63ce-4f75-8885-b80b588d6359\",\"type\":\"ColumnDataSource\"},\"glyph\":{\"id\":\"6479cfae-8274-4720-88a4-915ef12e954f\",\"type\":\"Line\"},\"hover_glyph\":null,\"muted_glyph\":null,\"nonselection_glyph\":{\"id\":\"9e595421-8baf-49b3-aa26-753816b9e861\",\"type\":\"Line\"},\"selection_glyph\":null,\"view\":{\"id\":\"b680e94d-5c40-43b8-b115-484e452bbca1\",\"type\":\"CDSView\"},\"y_range_name\":\"y2\"},\"id\":\"b929f743-0ec0-49f7-a7d8-5cfbf4ca7829\",\"type\":\"GlyphRenderer\"},{\"attributes\":{},\"id\":\"414017e2-c195-4647-8249-fd056bbf633e\",\"type\":\"LinearScale\"},{\"attributes\":{},\"id\":\"7481a391-79d8-49f3-876c-2e7c4fc510bd\",\"type\":\"SaveTool\"},{\"attributes\":{\"source\":{\"id\":\"ca7b2964-63ce-4f75-8885-b80b588d6359\",\"type\":\"ColumnDataSource\"}},\"id\":\"b680e94d-5c40-43b8-b115-484e452bbca1\",\"type\":\"CDSView\"},{\"attributes\":{\"callback\":null,\"end\":15000},\"id\":\"81760cea-1f15-4743-963b-e384c6493502\",\"type\":\"Range1d\"},{\"attributes\":{\"source\":{\"id\":\"bfe6b0ab-a0f2-4704-8026-68d60cc9d8f5\",\"type\":\"ColumnDataSource\"}},\"id\":\"5dec8fbe-4ad4-44cc-8299-421a4b633bad\",\"type\":\"CDSView\"},{\"attributes\":{\"fill_color\":{\"value\":\"#1f77b4\"},\"line_color\":{\"value\":\"#1f77b4\"},\"top\":{\"field\":\"top\"},\"width\":{\"value\":0.9},\"x\":{\"field\":\"x\"}},\"id\":\"ecd6d120-ab60-447c-8d34-0af85f1ec720\",\"type\":\"VBar\"},{\"attributes\":{},\"id\":\"1b3e2fb2-8dd1-4d68-899f-8b741bcc4190\",\"type\":\"BasicTicker\"},{\"attributes\":{},\"id\":\"1be6ccda-5764-47ca-8512-c5302ed7647c\",\"type\":\"UnionRenderers\"},{\"attributes\":{},\"id\":\"db30373c-5f9e-4c34-82f8-c330ff2ddf65\",\"type\":\"UnionRenderers\"},{\"attributes\":{},\"id\":\"2a4707b5-5cc3-46e2-9fa6-a2ff5de4dcd5\",\"type\":\"WheelZoomTool\"},{\"attributes\":{\"dimension\":1,\"plot\":{\"id\":\"fbeb9b24-a1a4-4a01-b981-e3e262fb4827\",\"subtype\":\"Figure\",\"type\":\"Plot\"},\"ticker\":{\"id\":\"9201b0c0-dbcd-4d19-b24a-c417b904c6d0\",\"type\":\"BasicTicker\"}},\"id\":\"7accb92f-11ec-4567-a831-4de1c0843316\",\"type\":\"Grid\"},{\"attributes\":{\"callback\":null,\"end\":15000},\"id\":\"634c6b30-be30-4beb-b3b7-02a08027f5ee\",\"type\":\"Range1d\"},{\"attributes\":{\"line_alpha\":0.1,\"line_color\":\"#1f77b4\",\"line_width\":3,\"x\":{\"field\":\"x\"},\"y\":{\"field\":\"y\"}},\"id\":\"d1212eb6-6e65-4741-9e10-ed3803a71b0e\",\"type\":\"Line\"},{\"attributes\":{\"formatter\":{\"id\":\"3720179f-02d4-4bc5-ae80-580a9d39d394\",\"type\":\"BasicTickFormatter\"},\"plot\":{\"id\":\"42e9ec66-594c-4e7b-b9a4-e9ac8ddce63d\",\"subtype\":\"Figure\",\"type\":\"Plot\"},\"ticker\":{\"id\":\"307dac38-132d-416d-a57e-c0d90acff5dd\",\"type\":\"BasicTicker\"},\"y_range_name\":\"y2\"},\"id\":\"5cd6b4c9-a0f1-419b-8c7b-031f1c096deb\",\"type\":\"LinearAxis\"},{\"attributes\":{},\"id\":\"89e43ffb-10e9-41bb-83e0-5e8f137c66a3\",\"type\":\"UnionRenderers\"},{\"attributes\":{\"line_alpha\":0.1,\"line_color\":\"#1f77b4\",\"line_width\":3,\"x\":{\"field\":\"x\"},\"y\":{\"field\":\"y\"}},\"id\":\"37ec0251-7386-4ef2-bfd7-41ef81d42aa0\",\"type\":\"Line\"},{\"attributes\":{\"children\":[{\"id\":\"3253e392-7532-4644-836b-302cb68fec67\",\"type\":\"Row\"}]},\"id\":\"d5470d4f-b2bd-4503-9caa-235e14135158\",\"type\":\"Column\"},{\"attributes\":{\"dimension\":1,\"plot\":{\"id\":\"c54063e8-c871-476e-95a9-f8f70397c004\",\"subtype\":\"Figure\",\"type\":\"Plot\"},\"ticker\":{\"id\":\"1b3e2fb2-8dd1-4d68-899f-8b741bcc4190\",\"type\":\"BasicTicker\"}},\"id\":\"3c7729b8-f169-4ce1-b5d7-a615bd904491\",\"type\":\"Grid\"},{\"attributes\":{\"callback\":null},\"id\":\"b3616802-1d4d-4432-a476-4344f59826c7\",\"type\":\"Range1d\"},{\"attributes\":{\"callback\":null,\"end\":15000},\"id\":\"da48c4e7-0968-42b0-99af-387eedfce9af\",\"type\":\"Range1d\"},{\"attributes\":{},\"id\":\"808298e2-ed46-4a1f-aa3c-263a894169d9\",\"type\":\"Selection\"},{\"attributes\":{\"data_source\":{\"id\":\"fc9b09d9-9df3-4879-8f14-14a249fd9cfe\",\"type\":\"ColumnDataSource\"},\"glyph\":{\"id\":\"ecd6d120-ab60-447c-8d34-0af85f1ec720\",\"type\":\"VBar\"},\"hover_glyph\":null,\"muted_glyph\":null,\"nonselection_glyph\":{\"id\":\"7a801422-3dd0-4fa4-987d-ce83b4c534c6\",\"type\":\"VBar\"},\"selection_glyph\":null,\"view\":{\"id\":\"8eef3a8b-7247-4f40-af4b-edcccef2b4bd\",\"type\":\"CDSView\"}},\"id\":\"3aeef5e5-6a27-4ef9-83b8-80dfd34bf58a\",\"type\":\"GlyphRenderer\"},{\"attributes\":{},\"id\":\"f4801917-4d59-4701-9d57-e89ccc4bce49\",\"type\":\"UnionRenderers\"},{\"attributes\":{\"below\":[{\"id\":\"648845d6-623c-46e0-b4c8-14edc79f60d4\",\"type\":\"CategoricalAxis\"}],\"border_fill_color\":{\"value\":\"whitesmoke\"},\"extra_y_ranges\":{\"y2\":{\"id\":\"a16ce4b9-b2c8-434e-b8d2-5badfb074fc3\",\"type\":\"Range1d\"}},\"left\":[{\"id\":\"6238b5af-7965-4aaf-abe1-ec03afaaec3f\",\"type\":\"LinearAxis\"}],\"min_border_left\":80,\"plot_height\":500,\"renderers\":[{\"id\":\"648845d6-623c-46e0-b4c8-14edc79f60d4\",\"type\":\"CategoricalAxis\"},{\"id\":\"2b2568bf-8994-4677-9468-2f21f1d805e9\",\"type\":\"Grid\"},{\"id\":\"6238b5af-7965-4aaf-abe1-ec03afaaec3f\",\"type\":\"LinearAxis\"},{\"id\":\"9f53bbbc-5724-418e-8c12-2268c2ba30d8\",\"type\":\"Grid\"},{\"id\":\"f8360b6b-ea13-4015-8c51-29889422d6bd\",\"type\":\"GlyphRenderer\"},{\"id\":\"f3e5d6b4-ed10-4208-aede-016da335151d\",\"type\":\"GlyphRenderer\"},{\"id\":\"a87658d0-c495-439b-a5ea-f4e772363e0c\",\"type\":\"GlyphRenderer\"},{\"id\":\"9dcca6f7-5640-4956-8998-26e17826be80\",\"type\":\"LinearAxis\"}],\"right\":[{\"id\":\"9dcca6f7-5640-4956-8998-26e17826be80\",\"type\":\"LinearAxis\"}],\"title\":{\"id\":\"2194ed3c-a210-4249-846f-030e3b582dfd\",\"type\":\"Title\"},\"toolbar\":{\"id\":\"317e9c1f-f668-41e4-a1b6-bb6355d935d9\",\"type\":\"Toolbar\"},\"toolbar_location\":null,\"x_range\":{\"id\":\"eccb24d2-788b-4c2c-b5b1-751f017ae5af\",\"type\":\"FactorRange\"},\"x_scale\":{\"id\":\"fac7b52c-88e6-42c7-bd2e-23fea8728a65\",\"type\":\"CategoricalScale\"},\"y_range\":{\"id\":\"9c3836a5-f78b-486c-b351-23fa65061ca2\",\"type\":\"Range1d\"},\"y_scale\":{\"id\":\"850b64e0-effc-4ab8-8244-78083c49b022\",\"type\":\"LinearScale\"}},\"id\":\"35252528-9c91-439b-92af-1a9c97e3ccd3\",\"subtype\":\"Figure\",\"type\":\"Plot\"},{\"attributes\":{\"callback\":null,\"data\":{\"x\":[\"2017/07\",\"2017/08\",\"2017/12\",\"2018/01\",\"2018/02\",\"2018/03\",\"2018/04\",\"2018/05\",\"2018/06\"],\"y\":[648,1251,4216,5962,4260,12093,8455,5787,2337]},\"selected\":{\"id\":\"9bf760ea-0aea-4584-9c13-0bbf9cd01870\",\"type\":\"Selection\"},\"selection_policy\":{\"id\":\"c78d01ea-ef27-49c2-ae09-04c678b70aa6\",\"type\":\"UnionRenderers\"}},\"id\":\"d9733f45-c477-420c-9179-81159c06c848\",\"type\":\"ColumnDataSource\"},{\"attributes\":{},\"id\":\"d4642d58-a864-4b6d-8488-26fb3759d3af\",\"type\":\"UnionRenderers\"},{\"attributes\":{\"plot\":null,\"text\":\"Ctrip Downgrade Percentages\"},\"id\":\"3b2afa37-a721-4569-b851-6b62e0c710e8\",\"type\":\"Title\"},{\"attributes\":{\"fill_color\":{\"value\":\"#1f77b4\"},\"line_color\":{\"value\":\"#1f77b4\"},\"top\":{\"field\":\"top\"},\"width\":{\"value\":0.9},\"x\":{\"field\":\"x\"}},\"id\":\"bb5dad0e-0d41-4751-b00a-bee010513e65\",\"type\":\"VBar\"},{\"attributes\":{},\"id\":\"e0ade174-2875-4764-9d6e-7d1dfc58fb81\",\"type\":\"CategoricalTicker\"},{\"attributes\":{\"plot\":{\"id\":\"fb1c17f1-e003-47cb-a4a9-f99c3e4e1740\",\"subtype\":\"Figure\",\"type\":\"Plot\"},\"ticker\":{\"id\":\"483ab240-c22d-45cd-8796-ffb1a6cead17\",\"type\":\"CategoricalTicker\"}},\"id\":\"f9dc437c-e74e-4da6-a2d0-6a439352abdc\",\"type\":\"Grid\"},{\"attributes\":{\"child\":{\"id\":\"b8728355-5969-4177-968f-eda40b0716ca\",\"type\":\"Column\"},\"title\":\"Downgrades, Excluding EIRF\"},\"id\":\"338e9bab-7eab-4486-905e-e41eaa414868\",\"type\":\"Panel\"},{\"attributes\":{\"data_source\":{\"id\":\"9b8466b1-932f-4890-b0b3-75210bdb2e01\",\"type\":\"ColumnDataSource\"},\"glyph\":{\"id\":\"e7d8917c-37bb-4e7a-81bb-ff0d2a76e288\",\"type\":\"Line\"},\"hover_glyph\":null,\"muted_glyph\":null,\"nonselection_glyph\":{\"id\":\"09b85b8f-0b19-4367-af70-27fd8331dcf8\",\"type\":\"Line\"},\"selection_glyph\":null,\"view\":{\"id\":\"4fd0aff2-6fb3-4979-a369-6b1eabda363f\",\"type\":\"CDSView\"},\"y_range_name\":\"y2\"},\"id\":\"12825280-c8b3-41b8-a3c2-945e4fd36364\",\"type\":\"GlyphRenderer\"},{\"attributes\":{\"callback\":null,\"renderers\":\"auto\"},\"id\":\"101222b4-7710-4620-9f99-87245d4cb62d\",\"type\":\"HoverTool\"},{\"attributes\":{\"plot\":{\"id\":\"1f335557-2ed5-46b6-95cf-04075c687281\",\"subtype\":\"Figure\",\"type\":\"Plot\"},\"ticker\":{\"id\":\"0bf78cd0-9f05-438b-9f9d-0c2bf7c30a86\",\"type\":\"CategoricalTicker\"}},\"id\":\"8fbfbfcc-9339-43d8-ba8e-c42ed986167b\",\"type\":\"Grid\"},{\"attributes\":{\"data_source\":{\"id\":\"d9733f45-c477-420c-9179-81159c06c848\",\"type\":\"ColumnDataSource\"},\"glyph\":{\"id\":\"396ef5f5-0eff-45a4-88b8-c0fbd77891bd\",\"type\":\"Circle\"},\"hover_glyph\":null,\"muted_glyph\":null,\"nonselection_glyph\":{\"id\":\"c61ecded-5696-43ff-8481-9c369a50b93b\",\"type\":\"Circle\"},\"selection_glyph\":null,\"view\":{\"id\":\"94d0aa00-ddb4-4735-91c3-01d2dcb0d8c2\",\"type\":\"CDSView\"},\"y_range_name\":\"y2\"},\"id\":\"3f30277a-649b-4c23-891f-7d3073de0ca4\",\"type\":\"GlyphRenderer\"},{\"attributes\":{\"data_source\":{\"id\":\"05e7ca7f-87be-46ef-b62a-0a4ce8584bac\",\"type\":\"ColumnDataSource\"},\"glyph\":{\"id\":\"4b8edb23-d188-4149-875e-dceeade0cb13\",\"type\":\"Circle\"},\"hover_glyph\":null,\"muted_glyph\":null,\"nonselection_glyph\":{\"id\":\"c4d99519-493e-409b-8a83-0b111a6e4502\",\"type\":\"Circle\"},\"selection_glyph\":null,\"view\":{\"id\":\"1150e4a9-7a9c-46a1-aeae-083dc000e89f\",\"type\":\"CDSView\"},\"y_range_name\":\"y2\"},\"id\":\"a67b7137-c773-4c6e-9fdb-6f1d45129a80\",\"type\":\"GlyphRenderer\"},{\"attributes\":{},\"id\":\"852e0899-8060-4840-888f-23ff9a8663bf\",\"type\":\"LinearScale\"},{\"attributes\":{},\"id\":\"0bf78cd0-9f05-438b-9f9d-0c2bf7c30a86\",\"type\":\"CategoricalTicker\"},{\"attributes\":{},\"id\":\"bb542e47-6595-494d-9bac-d886ebf3d560\",\"type\":\"UnionRenderers\"},{\"attributes\":{\"fill_color\":{\"value\":\"black\"},\"x\":{\"field\":\"x\"},\"y\":{\"field\":\"y\"}},\"id\":\"4b8edb23-d188-4149-875e-dceeade0cb13\",\"type\":\"Circle\"},{\"attributes\":{\"data_source\":{\"id\":\"b5d2a4ed-36e6-4b0a-839d-f5df47591f8b\",\"type\":\"ColumnDataSource\"},\"glyph\":{\"id\":\"f69743ba-87d6-4ae1-9932-e11e42d5fcf0\",\"type\":\"Line\"},\"hover_glyph\":null,\"muted_glyph\":null,\"nonselection_glyph\":{\"id\":\"37ec0251-7386-4ef2-bfd7-41ef81d42aa0\",\"type\":\"Line\"},\"selection_glyph\":null,\"view\":{\"id\":\"8b3a6728-ba3d-4c15-8bc9-e26fd5e21ba2\",\"type\":\"CDSView\"},\"y_range_name\":\"y2\"},\"id\":\"ecc1873a-fcab-4277-9482-9f79b2dc31ab\",\"type\":\"GlyphRenderer\"},{\"attributes\":{},\"id\":\"8dc45429-22d6-45ff-abf9-67e323b0b7ec\",\"type\":\"UnionRenderers\"},{\"attributes\":{\"formatter\":{\"id\":\"505b550d-46ef-4661-b342-8011eb220c16\",\"type\":\"BasicTickFormatter\"},\"plot\":{\"id\":\"35252528-9c91-439b-92af-1a9c97e3ccd3\",\"subtype\":\"Figure\",\"type\":\"Plot\"},\"ticker\":{\"id\":\"f9222f0d-fa3e-4b09-a7be-067c6d45960e\",\"type\":\"BasicTicker\"},\"y_range_name\":\"y2\"},\"id\":\"9dcca6f7-5640-4956-8998-26e17826be80\",\"type\":\"LinearAxis\"},{\"attributes\":{\"tools\":[{\"id\":\"624fcc9e-8068-41d4-9e74-825d9881189d\",\"type\":\"HoverTool\"},{\"id\":\"e37aa49e-4704-4947-ae8d-d604383410ad\",\"type\":\"SaveTool\"},{\"id\":\"ea61a602-81da-4282-887f-fba68665f0a0\",\"type\":\"WheelZoomTool\"},{\"id\":\"e0c39049-0e98-4e3c-898d-f086ab96b2e6\",\"type\":\"PanTool\"},{\"id\":\"948c6698-4686-409e-9c15-cbdf2302df19\",\"type\":\"ResetTool\"},{\"id\":\"e09e3e83-b30e-4adb-8244-254bcfe76d75\",\"type\":\"HoverTool\"},{\"id\":\"9740c35e-bfea-49fc-98e2-8de7b5b0dcfa\",\"type\":\"SaveTool\"},{\"id\":\"2a4707b5-5cc3-46e2-9fa6-a2ff5de4dcd5\",\"type\":\"WheelZoomTool\"},{\"id\":\"9f09686e-3b12-4929-899f-ddc7ed59727a\",\"type\":\"PanTool\"},{\"id\":\"5cea6c1f-0a9f-4eb2-81e7-bf33dd588d35\",\"type\":\"ResetTool\"},{\"id\":\"23fccfa4-9625-46cb-8957-fc197bdd79dd\",\"type\":\"HoverTool\"},{\"id\":\"ccc7ce05-360a-4348-88ea-1136ec534e64\",\"type\":\"SaveTool\"},{\"id\":\"a59ec408-1f4d-4ec5-8690-0276260c23b0\",\"type\":\"WheelZoomTool\"},{\"id\":\"22005caa-fd5d-4913-8c7c-ccc466c66e27\",\"type\":\"PanTool\"},{\"id\":\"e7789e5d-c0c6-425a-ac22-f3e71eaa3a75\",\"type\":\"ResetTool\"}]},\"id\":\"cb16bb0f-bf04-4ba7-95a7-10ae13fa5d72\",\"type\":\"ProxyToolbar\"},{\"attributes\":{},\"id\":\"a59ec408-1f4d-4ec5-8690-0276260c23b0\",\"type\":\"WheelZoomTool\"},{\"attributes\":{\"source\":{\"id\":\"05e7ca7f-87be-46ef-b62a-0a4ce8584bac\",\"type\":\"ColumnDataSource\"}},\"id\":\"1150e4a9-7a9c-46a1-aeae-083dc000e89f\",\"type\":\"CDSView\"},{\"attributes\":{\"axis_label\":\"Date\",\"formatter\":{\"id\":\"4e655ce6-0d14-430e-be76-0a2e17d41b1d\",\"type\":\"CategoricalTickFormatter\"},\"plot\":{\"id\":\"fbeb9b24-a1a4-4a01-b981-e3e262fb4827\",\"subtype\":\"Figure\",\"type\":\"Plot\"},\"ticker\":{\"id\":\"e0ade174-2875-4764-9d6e-7d1dfc58fb81\",\"type\":\"CategoricalTicker\"}},\"id\":\"dbcbe86d-0118-463d-b78e-ed6ea5ccc7d7\",\"type\":\"CategoricalAxis\"},{\"attributes\":{},\"id\":\"fe5994ac-3c5e-4c8c-b26e-f1ac88ef21a2\",\"type\":\"Selection\"},{\"attributes\":{},\"id\":\"2e532d33-9525-4c57-a8a6-932c44413be5\",\"type\":\"BasicTicker\"},{\"attributes\":{\"below\":[{\"id\":\"712042de-f9d1-46f3-b4c2-f46e03d3fc2b\",\"type\":\"CategoricalAxis\"}],\"border_fill_color\":{\"value\":\"whitesmoke\"},\"extra_y_ranges\":{\"y2\":{\"id\":\"b02e1d32-72c0-4fd9-89d8-210274276ed4\",\"type\":\"Range1d\"}},\"left\":[{\"id\":\"b13e07c0-168a-46c8-9678-04a5ee26ca39\",\"type\":\"LinearAxis\"}],\"min_border_left\":80,\"plot_height\":500,\"renderers\":[{\"id\":\"712042de-f9d1-46f3-b4c2-f46e03d3fc2b\",\"type\":\"CategoricalAxis\"},{\"id\":\"8fbfbfcc-9339-43d8-ba8e-c42ed986167b\",\"type\":\"Grid\"},{\"id\":\"b13e07c0-168a-46c8-9678-04a5ee26ca39\",\"type\":\"LinearAxis\"},{\"id\":\"e8d5cdbc-52ad-42f3-8fc2-9ca917697c56\",\"type\":\"Grid\"},{\"id\":\"3aeef5e5-6a27-4ef9-83b8-80dfd34bf58a\",\"type\":\"GlyphRenderer\"},{\"id\":\"33897fc9-cfca-45c0-ad41-72d547eb531c\",\"type\":\"GlyphRenderer\"},{\"id\":\"8938f3a2-5c50-4c79-98b0-04c81fa3d253\",\"type\":\"GlyphRenderer\"},{\"id\":\"ae4edbc3-4aa8-4b98-8c09-1d733dd8aeb5\",\"type\":\"LinearAxis\"}],\"right\":[{\"id\":\"ae4edbc3-4aa8-4b98-8c09-1d733dd8aeb5\",\"type\":\"LinearAxis\"}],\"title\":{\"id\":\"0b1e81e6-b0c3-4e43-a464-6540c9007a85\",\"type\":\"Title\"},\"toolbar\":{\"id\":\"540c5c3b-f1d8-490a-bbea-f0d10c6d4e6f\",\"type\":\"Toolbar\"},\"toolbar_location\":null,\"x_range\":{\"id\":\"eccb24d2-788b-4c2c-b5b1-751f017ae5af\",\"type\":\"FactorRange\"},\"x_scale\":{\"id\":\"8d079a5c-5353-4cc2-a720-bf621e0e304f\",\"type\":\"CategoricalScale\"},\"y_range\":{\"id\":\"e9c82542-9264-42c7-952e-82d630465b75\",\"type\":\"Range1d\"},\"y_scale\":{\"id\":\"414017e2-c195-4647-8249-fd056bbf633e\",\"type\":\"LinearScale\"}},\"id\":\"1f335557-2ed5-46b6-95cf-04075c687281\",\"subtype\":\"Figure\",\"type\":\"Plot\"},{\"attributes\":{\"toolbar\":{\"id\":\"cb16bb0f-bf04-4ba7-95a7-10ae13fa5d72\",\"type\":\"ProxyToolbar\"},\"toolbar_location\":\"above\"},\"id\":\"ffcbd7e3-4dc0-4d01-b440-f8ed8468fcda\",\"type\":\"ToolbarBox\"},{\"attributes\":{\"fill_color\":{\"value\":\"black\"},\"x\":{\"field\":\"x\"},\"y\":{\"field\":\"y\"}},\"id\":\"396ef5f5-0eff-45a4-88b8-c0fbd77891bd\",\"type\":\"Circle\"},{\"attributes\":{},\"id\":\"4940c570-b8ff-4618-9982-23608aa90064\",\"type\":\"CategoricalTickFormatter\"},{\"attributes\":{\"below\":[{\"id\":\"dbcbe86d-0118-463d-b78e-ed6ea5ccc7d7\",\"type\":\"CategoricalAxis\"}],\"border_fill_color\":{\"value\":\"whitesmoke\"},\"extra_y_ranges\":{\"y2\":{\"id\":\"5426dd87-349a-42e7-83d7-49f3806fbbf0\",\"type\":\"Range1d\"}},\"left\":[{\"id\":\"63096bb6-3687-4bbb-8a70-0d3d92a4fa12\",\"type\":\"LinearAxis\"}],\"min_border_left\":80,\"plot_height\":500,\"renderers\":[{\"id\":\"dbcbe86d-0118-463d-b78e-ed6ea5ccc7d7\",\"type\":\"CategoricalAxis\"},{\"id\":\"aa4a96bd-f357-403a-9bd1-0bc631eb0e64\",\"type\":\"Grid\"},{\"id\":\"63096bb6-3687-4bbb-8a70-0d3d92a4fa12\",\"type\":\"LinearAxis\"},{\"id\":\"7accb92f-11ec-4567-a831-4de1c0843316\",\"type\":\"Grid\"},{\"id\":\"34460e2c-5193-46d9-8ea7-dab84ba6fc04\",\"type\":\"GlyphRenderer\"},{\"id\":\"ecc1873a-fcab-4277-9482-9f79b2dc31ab\",\"type\":\"GlyphRenderer\"},{\"id\":\"a67b7137-c773-4c6e-9fdb-6f1d45129a80\",\"type\":\"GlyphRenderer\"},{\"id\":\"e3aea25f-9e40-4eb3-974f-912b1407e717\",\"type\":\"LinearAxis\"}],\"right\":[{\"id\":\"e3aea25f-9e40-4eb3-974f-912b1407e717\",\"type\":\"LinearAxis\"}],\"title\":{\"id\":\"45888f9e-af9e-4d80-a1d6-a47fbad211a3\",\"type\":\"Title\"},\"toolbar\":{\"id\":\"657b16fb-595d-4e81-b36e-19618845e4a7\",\"type\":\"Toolbar\"},\"toolbar_location\":null,\"x_range\":{\"id\":\"eccb24d2-788b-4c2c-b5b1-751f017ae5af\",\"type\":\"FactorRange\"},\"x_scale\":{\"id\":\"806e71e2-9ae8-4072-ba5b-ee76540bab59\",\"type\":\"CategoricalScale\"},\"y_range\":{\"id\":\"b3616802-1d4d-4432-a476-4344f59826c7\",\"type\":\"Range1d\"},\"y_scale\":{\"id\":\"4058f843-f116-4b51-8c8c-d1d67962474f\",\"type\":\"LinearScale\"}},\"id\":\"fbeb9b24-a1a4-4a01-b981-e3e262fb4827\",\"subtype\":\"Figure\",\"type\":\"Plot\"},{\"attributes\":{},\"id\":\"e1f829d8-ae94-440f-b2e0-2171bdb4c113\",\"type\":\"PanTool\"},{\"attributes\":{\"source\":{\"id\":\"e98041ea-7102-4cf8-a17c-14a84b0a0ea6\",\"type\":\"ColumnDataSource\"}},\"id\":\"be1f6e0f-b14b-4b89-b45f-7f9db9666151\",\"type\":\"CDSView\"},{\"attributes\":{\"callback\":null,\"data\":{\"top\":[0.08984375,0.05240174672489083,0.0937766410912191,0.12847682119205298,0.10813076278290025,0.21311047270827893,0.1834442595673877,0.14276485788113696,0.13614262560777957],\"x\":[\"2017/07\",\"2017/08\",\"2017/12\",\"2018/01\",\"2018/02\",\"2018/03\",\"2018/04\",\"2018/05\",\"2018/06\"]},\"selected\":{\"id\":\"fe5994ac-3c5e-4c8c-b26e-f1ac88ef21a2\",\"type\":\"Selection\"},\"selection_policy\":{\"id\":\"c3914d51-bc20-4196-afff-0e97476d6052\",\"type\":\"UnionRenderers\"}},\"id\":\"57e186c7-4b80-4022-bc98-e4484925e364\",\"type\":\"ColumnDataSource\"},{\"attributes\":{},\"id\":\"ef09b4c2-40cb-4160-b55f-8a7044bcd72d\",\"type\":\"CategoricalTicker\"},{\"attributes\":{},\"id\":\"892775a8-71b4-40e2-b64e-195f274c2b40\",\"type\":\"Selection\"},{\"attributes\":{\"child\":{\"id\":\"1280324d-8570-4b04-9250-a0ce2ae57e6e\",\"type\":\"Column\"},\"title\":\"Downgrades, Including EIRF\"},\"id\":\"ebbddab9-5d22-4ca2-a014-f648dce9c8fd\",\"type\":\"Panel\"},{\"attributes\":{},\"id\":\"9f09686e-3b12-4929-899f-ddc7ed59727a\",\"type\":\"PanTool\"},{\"attributes\":{\"line_alpha\":0.1,\"line_color\":\"#1f77b4\",\"line_width\":3,\"x\":{\"field\":\"x\"},\"y\":{\"field\":\"y\"}},\"id\":\"17ba88c2-cdc8-4601-b469-4cb5d8aed838\",\"type\":\"Line\"},{\"attributes\":{},\"id\":\"948c6698-4686-409e-9c15-cbdf2302df19\",\"type\":\"ResetTool\"},{\"attributes\":{\"source\":{\"id\":\"1527d908-47fa-4bc8-b0a2-83263972e01d\",\"type\":\"ColumnDataSource\"}},\"id\":\"87ec598f-4ac3-4079-9c62-56cf07aca374\",\"type\":\"CDSView\"},{\"attributes\":{},\"id\":\"4ceb1b10-f83c-43a3-bf09-723421d04275\",\"type\":\"WheelZoomTool\"},{\"attributes\":{\"source\":{\"id\":\"b5d2a4ed-36e6-4b0a-839d-f5df47591f8b\",\"type\":\"ColumnDataSource\"}},\"id\":\"8b3a6728-ba3d-4c15-8bc9-e26fd5e21ba2\",\"type\":\"CDSView\"},{\"attributes\":{\"source\":{\"id\":\"9b8466b1-932f-4890-b0b3-75210bdb2e01\",\"type\":\"ColumnDataSource\"}},\"id\":\"4fd0aff2-6fb3-4979-a369-6b1eabda363f\",\"type\":\"CDSView\"},{\"attributes\":{},\"id\":\"385d6270-2cf7-4c16-a31b-0301a33543be\",\"type\":\"CategoricalScale\"},{\"attributes\":{\"dimension\":1,\"plot\":{\"id\":\"42e9ec66-594c-4e7b-b9a4-e9ac8ddce63d\",\"subtype\":\"Figure\",\"type\":\"Plot\"},\"ticker\":{\"id\":\"e2b0cb46-35bd-4e57-8967-b3d81f9818e4\",\"type\":\"BasicTicker\"}},\"id\":\"68ee72cb-66bf-4dcb-9734-f2ec1ccafff3\",\"type\":\"Grid\"},{\"attributes\":{\"line_alpha\":0.1,\"line_color\":\"#1f77b4\",\"line_width\":3,\"x\":{\"field\":\"x\"},\"y\":{\"field\":\"y\"}},\"id\":\"9e595421-8baf-49b3-aa26-753816b9e861\",\"type\":\"Line\"},{\"attributes\":{\"below\":[{\"id\":\"f0953d46-c19a-4312-b90b-d88dc7a8a945\",\"type\":\"CategoricalAxis\"}],\"border_fill_color\":{\"value\":\"whitesmoke\"},\"extra_y_ranges\":{\"y2\":{\"id\":\"634c6b30-be30-4beb-b3b7-02a08027f5ee\",\"type\":\"Range1d\"}},\"left\":[{\"id\":\"d4372e7a-d858-4999-ac2e-20caa497db51\",\"type\":\"LinearAxis\"}],\"min_border_left\":80,\"plot_height\":500,\"renderers\":[{\"id\":\"f0953d46-c19a-4312-b90b-d88dc7a8a945\",\"type\":\"CategoricalAxis\"},{\"id\":\"f9dc437c-e74e-4da6-a2d0-6a439352abdc\",\"type\":\"Grid\"},{\"id\":\"d4372e7a-d858-4999-ac2e-20caa497db51\",\"type\":\"LinearAxis\"},{\"id\":\"d1aada1e-4e86-4074-86d8-7d0bacc33238\",\"type\":\"Grid\"},{\"id\":\"a4ee3db5-a5a8-483d-87ad-95e3781e83e6\",\"type\":\"GlyphRenderer\"},{\"id\":\"b929f743-0ec0-49f7-a7d8-5cfbf4ca7829\",\"type\":\"GlyphRenderer\"},{\"id\":\"32dd328e-db52-4c42-8d75-98040636c92e\",\"type\":\"GlyphRenderer\"},{\"id\":\"ddf35243-6d3c-4ec7-93e4-c5ede80cb941\",\"type\":\"LinearAxis\"}],\"right\":[{\"id\":\"ddf35243-6d3c-4ec7-93e4-c5ede80cb941\",\"type\":\"LinearAxis\"}],\"title\":{\"id\":\"bf29a5db-d2c9-424f-8c52-faa87da0bd44\",\"type\":\"Title\"},\"toolbar\":{\"id\":\"8eedee51-c5da-41ba-8d74-20ec85db0835\",\"type\":\"Toolbar\"},\"toolbar_location\":null,\"x_range\":{\"id\":\"eccb24d2-788b-4c2c-b5b1-751f017ae5af\",\"type\":\"FactorRange\"},\"x_scale\":{\"id\":\"72a7a27c-5828-49ec-93a4-80d05ee32ff4\",\"type\":\"CategoricalScale\"},\"y_range\":{\"id\":\"8cf062f7-0ebe-4adc-a0ba-f0cf982d5c8c\",\"type\":\"Range1d\"},\"y_scale\":{\"id\":\"e325fc7f-de4c-4075-8b69-6588bde5e0f1\",\"type\":\"LinearScale\"}},\"id\":\"fb1c17f1-e003-47cb-a4a9-f99c3e4e1740\",\"subtype\":\"Figure\",\"type\":\"Plot\"},{\"attributes\":{\"line_alpha\":0.1,\"line_color\":\"#1f77b4\",\"line_width\":3,\"x\":{\"field\":\"x\"},\"y\":{\"field\":\"y\"}},\"id\":\"09b85b8f-0b19-4367-af70-27fd8331dcf8\",\"type\":\"Line\"},{\"attributes\":{\"axis_label\":\"Date\",\"formatter\":{\"id\":\"14d49600-b6d1-47bd-a09b-32d26f39e062\",\"type\":\"CategoricalTickFormatter\"},\"plot\":{\"id\":\"c54063e8-c871-476e-95a9-f8f70397c004\",\"subtype\":\"Figure\",\"type\":\"Plot\"},\"ticker\":{\"id\":\"ef09b4c2-40cb-4160-b55f-8a7044bcd72d\",\"type\":\"CategoricalTicker\"}},\"id\":\"bb7c0dff-295d-4074-8cbe-80707e1357c0\",\"type\":\"CategoricalAxis\"},{\"attributes\":{\"children\":[{\"id\":\"c54063e8-c871-476e-95a9-f8f70397c004\",\"subtype\":\"Figure\",\"type\":\"Plot\"},{\"id\":\"1f335557-2ed5-46b6-95cf-04075c687281\",\"subtype\":\"Figure\",\"type\":\"Plot\"},{\"id\":\"fbeb9b24-a1a4-4a01-b981-e3e262fb4827\",\"subtype\":\"Figure\",\"type\":\"Plot\"}]},\"id\":\"94ffd286-95a4-4540-a867-31d1978a144d\",\"type\":\"Row\"},{\"attributes\":{\"callback\":null,\"data\":{\"top\":[0.3475177304964539,0.287396937573616,0.26997319034852546,0.29142143748885324,0.28721174004192873,0.6266106989457243,0.4938666666666667,0.3516271904486809,0.37734939759036146],\"x\":[\"2017/07\",\"2017/08\",\"2017/12\",\"2018/01\",\"2018/02\",\"2018/03\",\"2018/04\",\"2018/05\",\"2018/06\"]},\"selected\":{\"id\":\"892775a8-71b4-40e2-b64e-195f274c2b40\",\"type\":\"Selection\"},\"selection_policy\":{\"id\":\"b87720a0-0e79-4c16-9a5e-e607808b0a3b\",\"type\":\"UnionRenderers\"}},\"id\":\"c96981f1-71d6-4178-8a0f-755b58c5887b\",\"type\":\"ColumnDataSource\"},{\"attributes\":{\"below\":[{\"id\":\"7599bc71-375c-4bf7-bfc9-39efddb8d0d9\",\"type\":\"CategoricalAxis\"}],\"border_fill_color\":{\"value\":\"whitesmoke\"},\"extra_y_ranges\":{\"y2\":{\"id\":\"81760cea-1f15-4743-963b-e384c6493502\",\"type\":\"Range1d\"}},\"left\":[{\"id\":\"7a5016d9-43a5-4041-86cf-df5e83c826c6\",\"type\":\"LinearAxis\"}],\"min_border_left\":80,\"plot_height\":500,\"renderers\":[{\"id\":\"7599bc71-375c-4bf7-bfc9-39efddb8d0d9\",\"type\":\"CategoricalAxis\"},{\"id\":\"411a631b-0ef9-4f85-a8f4-bd003bf401db\",\"type\":\"Grid\"},{\"id\":\"7a5016d9-43a5-4041-86cf-df5e83c826c6\",\"type\":\"LinearAxis\"},{\"id\":\"68ee72cb-66bf-4dcb-9734-f2ec1ccafff3\",\"type\":\"Grid\"},{\"id\":\"e661072a-448d-4fe2-b25f-8360918df0f9\",\"type\":\"GlyphRenderer\"},{\"id\":\"12825280-c8b3-41b8-a3c2-945e4fd36364\",\"type\":\"GlyphRenderer\"},{\"id\":\"b8e75990-654e-473e-ae25-33a782be9b26\",\"type\":\"GlyphRenderer\"},{\"id\":\"5cd6b4c9-a0f1-419b-8c7b-031f1c096deb\",\"type\":\"LinearAxis\"}],\"right\":[{\"id\":\"5cd6b4c9-a0f1-419b-8c7b-031f1c096deb\",\"type\":\"LinearAxis\"}],\"title\":{\"id\":\"4f5cbc70-c5c4-44f3-8a28-e2d57b8363c1\",\"type\":\"Title\"},\"toolbar\":{\"id\":\"ac62aca8-7cec-4d83-a6c8-49de9e44d48f\",\"type\":\"Toolbar\"},\"toolbar_location\":null,\"x_range\":{\"id\":\"eccb24d2-788b-4c2c-b5b1-751f017ae5af\",\"type\":\"FactorRange\"},\"x_scale\":{\"id\":\"385d6270-2cf7-4c16-a31b-0301a33543be\",\"type\":\"CategoricalScale\"},\"y_range\":{\"id\":\"3e4fda33-7a25-4e82-bd10-1d369a75cdeb\",\"type\":\"Range1d\"},\"y_scale\":{\"id\":\"a5b46123-a908-4730-98b3-f5872a0d559b\",\"type\":\"LinearScale\"}},\"id\":\"42e9ec66-594c-4e7b-b9a4-e9ac8ddce63d\",\"subtype\":\"Figure\",\"type\":\"Plot\"},{\"attributes\":{\"source\":{\"id\":\"c96981f1-71d6-4178-8a0f-755b58c5887b\",\"type\":\"ColumnDataSource\"}},\"id\":\"f105a5dd-72a3-49a7-b7d5-4907a3027102\",\"type\":\"CDSView\"},{\"attributes\":{},\"id\":\"8d079a5c-5353-4cc2-a720-bf621e0e304f\",\"type\":\"CategoricalScale\"},{\"attributes\":{\"callback\":null,\"data\":{\"x\":[\"2017/07\",\"2017/08\",\"2017/12\",\"2018/01\",\"2018/02\",\"2018/03\",\"2018/04\",\"2018/05\",\"2018/06\"],\"y\":[5881,2076,5502,7117,5354,14691,9904,6742,2692]},\"selected\":{\"id\":\"f7639718-abe3-4f42-8d67-89b9681668d0\",\"type\":\"Selection\"},\"selection_policy\":{\"id\":\"d4642d58-a864-4b6d-8488-26fb3759d3af\",\"type\":\"UnionRenderers\"}},\"id\":\"ca7b2964-63ce-4f75-8885-b80b588d6359\",\"type\":\"ColumnDataSource\"},{\"attributes\":{},\"id\":\"e4fdf9bf-0007-45d3-b7a8-2a4e6cddf3ce\",\"type\":\"SaveTool\"},{\"attributes\":{\"fill_color\":{\"value\":\"#1f77b4\"},\"line_color\":{\"value\":\"#1f77b4\"},\"top\":{\"field\":\"top\"},\"width\":{\"value\":0.9},\"x\":{\"field\":\"x\"}},\"id\":\"4e565d19-d7f7-4cdf-b439-c2dff8fbaa83\",\"type\":\"VBar\"},{\"attributes\":{\"axis_label\":\"Downgrade Percentage\",\"formatter\":{\"id\":\"40a4fdfa-ba59-4a9c-86f3-c313dcd25461\",\"type\":\"BasicTickFormatter\"},\"plot\":{\"id\":\"42e9ec66-594c-4e7b-b9a4-e9ac8ddce63d\",\"subtype\":\"Figure\",\"type\":\"Plot\"},\"ticker\":{\"id\":\"e2b0cb46-35bd-4e57-8967-b3d81f9818e4\",\"type\":\"BasicTicker\"}},\"id\":\"7a5016d9-43a5-4041-86cf-df5e83c826c6\",\"type\":\"LinearAxis\"},{\"attributes\":{},\"id\":\"a92e33b4-c581-4fee-817b-d1e6dabfd98d\",\"type\":\"PanTool\"},{\"attributes\":{},\"id\":\"4d48f5c9-a7d0-4b72-a66a-9897843b92b0\",\"type\":\"BasicTicker\"},{\"attributes\":{\"axis_label\":\"Downgrade Percentage\",\"formatter\":{\"id\":\"fe91b47d-29ad-4958-bacf-c6f0cfebc934\",\"type\":\"BasicTickFormatter\"},\"plot\":{\"id\":\"c54063e8-c871-476e-95a9-f8f70397c004\",\"subtype\":\"Figure\",\"type\":\"Plot\"},\"ticker\":{\"id\":\"1b3e2fb2-8dd1-4d68-899f-8b741bcc4190\",\"type\":\"BasicTicker\"}},\"id\":\"3389714c-64b3-49c0-813b-09f1dbe71cb8\",\"type\":\"LinearAxis\"},{\"attributes\":{},\"id\":\"98977290-d01c-48a0-8657-3a0b27423baa\",\"type\":\"CategoricalTickFormatter\"},{\"attributes\":{},\"id\":\"c78d01ea-ef27-49c2-ae09-04c678b70aa6\",\"type\":\"UnionRenderers\"},{\"attributes\":{\"formatter\":{\"id\":\"df9bfbf4-2ba6-426f-be42-9a2895aba4cb\",\"type\":\"BasicTickFormatter\"},\"plot\":{\"id\":\"fbeb9b24-a1a4-4a01-b981-e3e262fb4827\",\"subtype\":\"Figure\",\"type\":\"Plot\"},\"ticker\":{\"id\":\"ffc2c5c1-9212-4e75-808b-a52f51193a0a\",\"type\":\"BasicTicker\"},\"y_range_name\":\"y2\"},\"id\":\"e3aea25f-9e40-4eb3-974f-912b1407e717\",\"type\":\"LinearAxis\"},{\"attributes\":{\"data_source\":{\"id\":\"bfe6b0ab-a0f2-4704-8026-68d60cc9d8f5\",\"type\":\"ColumnDataSource\"},\"glyph\":{\"id\":\"f0897c8e-d7fd-4a9a-9081-916c3a8bb8d6\",\"type\":\"Line\"},\"hover_glyph\":null,\"muted_glyph\":null,\"nonselection_glyph\":{\"id\":\"17ba88c2-cdc8-4601-b469-4cb5d8aed838\",\"type\":\"Line\"},\"selection_glyph\":null,\"view\":{\"id\":\"5dec8fbe-4ad4-44cc-8299-421a4b633bad\",\"type\":\"CDSView\"},\"y_range_name\":\"y2\"},\"id\":\"f3e5d6b4-ed10-4208-aede-016da335151d\",\"type\":\"GlyphRenderer\"},{\"attributes\":{},\"id\":\"9209b2b2-c238-416a-9895-d5137fba731e\",\"type\":\"BasicTickFormatter\"},{\"attributes\":{\"callback\":null,\"data\":{\"x\":[\"2017/07\",\"2017/08\",\"2017/12\",\"2018/01\",\"2018/02\",\"2018/03\",\"2018/04\",\"2018/05\",\"2018/06\"],\"y\":[256,458,1173,1510,1193,3829,2404,1548,617]},\"selected\":{\"id\":\"2aa7454b-67be-439e-88d7-5cb4e38f7336\",\"type\":\"Selection\"},\"selection_policy\":{\"id\":\"1be6ccda-5764-47ca-8512-c5302ed7647c\",\"type\":\"UnionRenderers\"}},\"id\":\"aad1d19f-ec64-43ff-8d15-8c338eb0d4a8\",\"type\":\"ColumnDataSource\"},{\"attributes\":{\"callback\":null,\"renderers\":\"auto\"},\"id\":\"e09e3e83-b30e-4adb-8244-254bcfe76d75\",\"type\":\"HoverTool\"},{\"attributes\":{},\"id\":\"dc56443a-9e9c-48fa-b362-82a656954556\",\"type\":\"BasicTicker\"},{\"attributes\":{\"data_source\":{\"id\":\"c96981f1-71d6-4178-8a0f-755b58c5887b\",\"type\":\"ColumnDataSource\"},\"glyph\":{\"id\":\"1b5bdd12-2822-4e10-acca-9dbb2a13eba2\",\"type\":\"VBar\"},\"hover_glyph\":null,\"muted_glyph\":null,\"nonselection_glyph\":{\"id\":\"26770f38-58c0-4a04-a022-171d7ecfcd8e\",\"type\":\"VBar\"},\"selection_glyph\":null,\"view\":{\"id\":\"f105a5dd-72a3-49a7-b7d5-4907a3027102\",\"type\":\"CDSView\"}},\"id\":\"f8360b6b-ea13-4015-8c51-29889422d6bd\",\"type\":\"GlyphRenderer\"},{\"attributes\":{},\"id\":\"4cc3efd7-01a0-4df8-af17-6395fc05c362\",\"type\":\"UnionRenderers\"},{\"attributes\":{\"plot\":null,\"text\":\"MasterCard Ctrip Downgrade Percentages\"},\"id\":\"4f5cbc70-c5c4-44f3-8a28-e2d57b8363c1\",\"type\":\"Title\"},{\"attributes\":{},\"id\":\"ccc7ce05-360a-4348-88ea-1136ec534e64\",\"type\":\"SaveTool\"},{\"attributes\":{\"line_color\":\"red\",\"line_width\":3,\"x\":{\"field\":\"x\"},\"y\":{\"field\":\"y\"}},\"id\":\"afb6b790-672c-4f7c-bd5c-2774e8bbb805\",\"type\":\"Line\"},{\"attributes\":{\"axis_label\":\"Downgrade Percentage\",\"formatter\":{\"id\":\"a1bc866e-0609-42a3-abcc-5c5cad27191e\",\"type\":\"BasicTickFormatter\"},\"plot\":{\"id\":\"fbeb9b24-a1a4-4a01-b981-e3e262fb4827\",\"subtype\":\"Figure\",\"type\":\"Plot\"},\"ticker\":{\"id\":\"9201b0c0-dbcd-4d19-b24a-c417b904c6d0\",\"type\":\"BasicTicker\"}},\"id\":\"63096bb6-3687-4bbb-8a70-0d3d92a4fa12\",\"type\":\"LinearAxis\"},{\"attributes\":{},\"id\":\"9bc620f5-30c5-47a7-ae54-872e63933ee2\",\"type\":\"WheelZoomTool\"},{\"attributes\":{\"data_source\":{\"id\":\"456ac095-dde7-46f7-9eb1-fe3f68580db6\",\"type\":\"ColumnDataSource\"},\"glyph\":{\"id\":\"df87a738-1296-4820-acfe-afda429611af\",\"type\":\"VBar\"},\"hover_glyph\":null,\"muted_glyph\":null,\"nonselection_glyph\":{\"id\":\"c73fb59e-7ab8-4b60-8081-f032bc978e75\",\"type\":\"VBar\"},\"selection_glyph\":null,\"view\":{\"id\":\"ffaca79c-2c7f-413b-9744-376e7b11a465\",\"type\":\"CDSView\"}},\"id\":\"a4ee3db5-a5a8-483d-87ad-95e3781e83e6\",\"type\":\"GlyphRenderer\"},{\"attributes\":{\"axis_label\":\"Date\",\"formatter\":{\"id\":\"98977290-d01c-48a0-8657-3a0b27423baa\",\"type\":\"CategoricalTickFormatter\"},\"plot\":{\"id\":\"42e9ec66-594c-4e7b-b9a4-e9ac8ddce63d\",\"subtype\":\"Figure\",\"type\":\"Plot\"},\"ticker\":{\"id\":\"a1aeee87-89f6-4e2d-aa14-6c918b4f8de4\",\"type\":\"CategoricalTicker\"}},\"id\":\"7599bc71-375c-4bf7-bfc9-39efddb8d0d9\",\"type\":\"CategoricalAxis\"},{\"attributes\":{\"fill_alpha\":{\"value\":0.1},\"fill_color\":{\"value\":\"#1f77b4\"},\"line_alpha\":{\"value\":0.1},\"line_color\":{\"value\":\"#1f77b4\"},\"top\":{\"field\":\"top\"},\"width\":{\"value\":0.9},\"x\":{\"field\":\"x\"}},\"id\":\"af5b37bc-e742-4454-93dd-1199286020ab\",\"type\":\"VBar\"},{\"attributes\":{\"axis_label\":\"Downgrade Percentage\",\"formatter\":{\"id\":\"bb1b6599-4675-4dae-a150-52e56fbccec8\",\"type\":\"BasicTickFormatter\"},\"plot\":{\"id\":\"fb1c17f1-e003-47cb-a4a9-f99c3e4e1740\",\"subtype\":\"Figure\",\"type\":\"Plot\"},\"ticker\":{\"id\":\"dc56443a-9e9c-48fa-b362-82a656954556\",\"type\":\"BasicTicker\"}},\"id\":\"d4372e7a-d858-4999-ac2e-20caa497db51\",\"type\":\"LinearAxis\"},{\"attributes\":{\"below\":[{\"id\":\"bb7c0dff-295d-4074-8cbe-80707e1357c0\",\"type\":\"CategoricalAxis\"}],\"border_fill_color\":{\"value\":\"whitesmoke\"},\"extra_y_ranges\":{\"y2\":{\"id\":\"da48c4e7-0968-42b0-99af-387eedfce9af\",\"type\":\"Range1d\"}},\"left\":[{\"id\":\"3389714c-64b3-49c0-813b-09f1dbe71cb8\",\"type\":\"LinearAxis\"}],\"min_border_left\":80,\"plot_height\":500,\"renderers\":[{\"id\":\"bb7c0dff-295d-4074-8cbe-80707e1357c0\",\"type\":\"CategoricalAxis\"},{\"id\":\"bb322cef-778d-41da-ba96-5fa537a8dcd5\",\"type\":\"Grid\"},{\"id\":\"3389714c-64b3-49c0-813b-09f1dbe71cb8\",\"type\":\"LinearAxis\"},{\"id\":\"3c7729b8-f169-4ce1-b5d7-a615bd904491\",\"type\":\"Grid\"},{\"id\":\"810d429b-46f0-4420-9881-c6b2a9516db8\",\"type\":\"GlyphRenderer\"},{\"id\":\"c40c6cfe-be13-40ce-a8b9-763e9ce37bda\",\"type\":\"GlyphRenderer\"},{\"id\":\"3f30277a-649b-4c23-891f-7d3073de0ca4\",\"type\":\"GlyphRenderer\"},{\"id\":\"f44592e9-e41a-4d7a-b065-5d25d76b552e\",\"type\":\"LinearAxis\"}],\"right\":[{\"id\":\"f44592e9-e41a-4d7a-b065-5d25d76b552e\",\"type\":\"LinearAxis\"}],\"title\":{\"id\":\"3b2afa37-a721-4569-b851-6b62e0c710e8\",\"type\":\"Title\"},\"toolbar\":{\"id\":\"eaae8c09-de61-41a4-a93c-df43759ab2a0\",\"type\":\"Toolbar\"},\"toolbar_location\":null,\"x_range\":{\"id\":\"eccb24d2-788b-4c2c-b5b1-751f017ae5af\",\"type\":\"FactorRange\"},\"x_scale\":{\"id\":\"8790687b-62d8-478d-8161-4a751fd0e11f\",\"type\":\"CategoricalScale\"},\"y_range\":{\"id\":\"27861a77-d865-4bf6-a385-4797bb136838\",\"type\":\"Range1d\"},\"y_scale\":{\"id\":\"852e0899-8060-4840-888f-23ff9a8663bf\",\"type\":\"LinearScale\"}},\"id\":\"c54063e8-c871-476e-95a9-f8f70397c004\",\"subtype\":\"Figure\",\"type\":\"Plot\"},{\"attributes\":{\"callback\":null,\"data\":{\"x\":[\"2017/07\",\"2017/08\",\"2017/12\",\"2018/01\",\"2018/02\",\"2018/03\",\"2018/04\",\"2018/05\",\"2018/06\"],\"y\":[648,1251,4216,5962,4260,12093,8455,5787,2337]},\"selected\":{\"id\":\"b7bd99c3-117a-4078-8934-a1847d6e1c20\",\"type\":\"Selection\"},\"selection_policy\":{\"id\":\"4cc3efd7-01a0-4df8-af17-6395fc05c362\",\"type\":\"UnionRenderers\"}},\"id\":\"e606a865-6d21-48bb-a3da-f5cb1ed370ee\",\"type\":\"ColumnDataSource\"},{\"attributes\":{\"fill_alpha\":{\"value\":0.1},\"fill_color\":{\"value\":\"#1f77b4\"},\"line_alpha\":{\"value\":0.1},\"line_color\":{\"value\":\"#1f77b4\"},\"x\":{\"field\":\"x\"},\"y\":{\"field\":\"y\"}},\"id\":\"33aca1b9-ae76-4705-9d68-1e568569ee48\",\"type\":\"Circle\"},{\"attributes\":{\"line_color\":\"red\",\"line_width\":3,\"x\":{\"field\":\"x\"},\"y\":{\"field\":\"y\"}},\"id\":\"a4c15f6d-b894-4b6d-90e6-8205341022fa\",\"type\":\"Line\"},{\"attributes\":{\"fill_alpha\":{\"value\":0.1},\"fill_color\":{\"value\":\"#1f77b4\"},\"line_alpha\":{\"value\":0.1},\"line_color\":{\"value\":\"#1f77b4\"},\"top\":{\"field\":\"top\"},\"width\":{\"value\":0.9},\"x\":{\"field\":\"x\"}},\"id\":\"9bcad996-c03e-40ff-855b-582125d4af3e\",\"type\":\"VBar\"},{\"attributes\":{},\"id\":\"baffd390-a488-4f3a-88a9-489c0b22a3d6\",\"type\":\"Selection\"},{\"attributes\":{\"callback\":null},\"id\":\"9c3836a5-f78b-486c-b351-23fa65061ca2\",\"type\":\"Range1d\"}],\"root_ids\":[\"40c8fad7-5300-490d-a42e-46906fd45a5c\"]},\"title\":\"Bokeh Application\",\"version\":\"0.13.0\"}};\n",
       "  var render_items = [{\"docid\":\"42a507fe-7661-47f2-bc65-8a5e5cdb7c5b\",\"roots\":{\"40c8fad7-5300-490d-a42e-46906fd45a5c\":\"c9b89339-0e3d-49e6-9106-f4f8203ca4c0\"}}];\n",
       "  root.Bokeh.embed.embed_items_notebook(docs_json, render_items);\n",
       "\n",
       "  }\n",
       "  if (root.Bokeh !== undefined) {\n",
       "    embed_document(root);\n",
       "  } else {\n",
       "    var attempts = 0;\n",
       "    var timer = setInterval(function(root) {\n",
       "      if (root.Bokeh !== undefined) {\n",
       "        embed_document(root);\n",
       "        clearInterval(timer);\n",
       "      }\n",
       "      attempts++;\n",
       "      if (attempts > 100) {\n",
       "        console.log(\"Bokeh: ERROR: Unable to run BokehJS code because BokehJS library is missing\")\n",
       "        clearInterval(timer);\n",
       "      }\n",
       "    }, 10, root)\n",
       "  }\n",
       "})(window);"
      ],
      "application/vnd.bokehjs_exec.v0+json": ""
     },
     "metadata": {
      "application/vnd.bokehjs_exec.v0+json": {
       "id": "40c8fad7-5300-490d-a42e-46906fd45a5c"
      }
     },
     "output_type": "display_data"
    }
   ],
   "source": [
    "curdoc().clear() #since running script in Jupyter and asking to run in html the sessions can duplicate since it's not on a server but in the test environment this script clears the cache clears the document and prevents the duplication error\n",
    "\n",
    "grid1 = gridplot([[p1,p2,p3]])\n",
    "grid2 = gridplot([[p4,p5,p6]])\n",
    "\n",
    "tab1=Panel(child=grid1,title='Downgrades, Including EIRF')\n",
    "tab2=Panel(child=grid2,title='Downgrades, Excluding EIRF')\n",
    "\n",
    "tabs = Tabs(tabs=[tab1,tab2])\n",
    "\n",
    "show(tabs)"
   ]
  },
  {
   "cell_type": "code",
   "execution_count": 47,
   "metadata": {},
   "outputs": [],
   "source": [
    "avs_desc=['AVS Not Performed','Full AVS','Partial AVS','Neither ZIP nor address match','Unsupp/Inconc AVS','CVV Match']\n",
    "dates=['2017/07','2017/08','2017/12','2018/01','2018/02','2018/03','2018/04','2018/05','2018/06']"
   ]
  },
  {
   "cell_type": "code",
   "execution_count": 48,
   "metadata": {},
   "outputs": [],
   "source": [
    "#a '2017/07';#b '2017/08';#c '2017/12'\n",
    "#d '2018/01';#e '2018/02';#f '2018/03'\n",
    "#g '2018/04';#h '2018/05';#i '2018/06'\n",
    "a=[];b=[];c=[];d=[];e=[];f=[];g=[];h=[];i=[]\n",
    "master_list=[a,b,c,d,e,f,g,h,i]"
   ]
  },
  {
   "cell_type": "code",
   "execution_count": 23,
   "metadata": {},
   "outputs": [],
   "source": [
    "for ml in range(0,len(master_list)):\n",
    "    master=master_list[ml]\n",
    "    date_selection=dates[ml]\n",
    "    for av in range(0,len(avs_desc)):\n",
    "        avs_selection=avs_desc[av]\n",
    "        try:\n",
    "            percentage=round(float(df['ORDERID'][(df['RECEIVEDDATE']==date_selection)&(df['DOWNGRADE']==1)&(df['AVSDESC']==avs_selection)].count())/float(df['ORDERID'][(df['RECEIVEDDATE']==date_selection)&(df['DOWNGRADE']==1)].count()),3)\n",
    "        except ZeroDivisionError:\n",
    "            percentage=0\n",
    "        master.append(percentage)"
   ]
  },
  {
   "cell_type": "code",
   "execution_count": 24,
   "metadata": {},
   "outputs": [],
   "source": [
    "avs_participation={\n",
    "    'avs_description' : avs_desc,\n",
    "    '2017/07':a,\n",
    "    '2017/08':b,\n",
    "    '2017/12':c,\n",
    "    '2018/01':d,\n",
    "    '2018/02':e,\n",
    "    '2018/03':f,\n",
    "    '2018/04':g,\n",
    "    '2018/05':h,\n",
    "    '2018/06':i,\n",
    "}"
   ]
  },
  {
   "cell_type": "code",
   "execution_count": 42,
   "metadata": {},
   "outputs": [
    {
     "data": {
      "text/plain": [
       "{'2017/07': [1.0, 0.0, 0.0, 0.0, 0.0, 0.0],\n",
       " '2017/08': [1.0, 0.0, 0.0, 0.0, 0.0, 0.0],\n",
       " '2017/12': [0.586, 0.383, 0.025, 0.005, 0.0, 0.0],\n",
       " '2018/01': [0.539, 0.426, 0.024, 0.01, 0.0, 0.0],\n",
       " '2018/02': [0.61, 0.361, 0.025, 0.004, 0.0, 0.0],\n",
       " '2018/03': [0.924, 0.067, 0.006, 0.003, 0.0, 0.0],\n",
       " '2018/04': [0.85, 0.131, 0.011, 0.008, 0.0, 0.0],\n",
       " '2018/05': [0.796, 0.19, 0.011, 0.003, 0.0, 0.0],\n",
       " '2018/06': [0.899, 0.091, 0.008, 0.002, 0.0, 0.0],\n",
       " 'avs_description': ['AVS Not Performed',\n",
       "  'Full AVS',\n",
       "  'Partial AVS',\n",
       "  'Neither ZIP nor address match',\n",
       "  'Unsupp/Inconc AVS',\n",
       "  'CVV Match']}"
      ]
     },
     "execution_count": 42,
     "metadata": {},
     "output_type": "execute_result"
    }
   ],
   "source": [
    "avs_participation"
   ]
  },
  {
   "cell_type": "code",
   "execution_count": 74,
   "metadata": {},
   "outputs": [
    {
     "data": {
      "text/html": [
       "\n",
       "\n",
       "\n",
       "\n",
       "\n",
       "\n",
       "  <div class=\"bk-root\" id=\"75edb037-3c0c-4a8f-bc53-be2216a3a504\"></div>\n"
      ]
     },
     "metadata": {},
     "output_type": "display_data"
    },
    {
     "data": {
      "application/javascript": [
       "(function(root) {\n",
       "  function embed_document(root) {\n",
       "    \n",
       "  var docs_json = {\"66c5bc39-7309-41d2-9098-4c0be1f5a2b0\":{\"roots\":{\"references\":[{\"attributes\":{\"source\":{\"id\":\"4eba2b6c-54c6-4882-b142-5c1b0e7dde79\",\"type\":\"ColumnDataSource\"}},\"id\":\"e996b22b-5abe-4d1a-a41d-8123884ba2e4\",\"type\":\"CDSView\"},{\"attributes\":{\"fill_color\":{\"value\":\"#2b8cbe\"},\"height\":{\"value\":0.9},\"left\":{\"expr\":{\"id\":\"510254c3-73d2-4b44-8ccb-d05f55f7e5fe\",\"type\":\"Stack\"}},\"line_color\":{\"value\":\"#2b8cbe\"},\"right\":{\"expr\":{\"id\":\"52a4b0e7-5038-49c2-8fb6-274794452ba0\",\"type\":\"Stack\"}},\"y\":{\"field\":\"avs_description\"}},\"id\":\"3a0f13f7-bfc2-4caf-a35e-f8b64863d625\",\"type\":\"HBar\"},{\"attributes\":{},\"id\":\"c557d6cf-6fed-448d-a9fe-d76334e7029e\",\"type\":\"CategoricalTickFormatter\"},{\"attributes\":{},\"id\":\"fa759a79-3961-48be-9ef9-14aa03390851\",\"type\":\"CategoricalTicker\"},{\"attributes\":{\"fields\":[\"2017/07\",\"2017/08\",\"2017/12\"]},\"id\":\"52a4b0e7-5038-49c2-8fb6-274794452ba0\",\"type\":\"Stack\"},{\"attributes\":{\"formatter\":{\"id\":\"c557d6cf-6fed-448d-a9fe-d76334e7029e\",\"type\":\"CategoricalTickFormatter\"},\"plot\":{\"id\":\"b1bb2af1-9d0e-44c1-bc03-be2b9e6d8365\",\"subtype\":\"Figure\",\"type\":\"Plot\"},\"ticker\":{\"id\":\"fa759a79-3961-48be-9ef9-14aa03390851\",\"type\":\"CategoricalTicker\"}},\"id\":\"85d0ae4f-7756-4185-b299-027161f6cb3d\",\"type\":\"CategoricalAxis\"},{\"attributes\":{\"plot\":null,\"text\":\"Fruit import/export, by year\"},\"id\":\"46462245-6c51-4715-ad3d-8a0a07d400ad\",\"type\":\"Title\"},{\"attributes\":{\"fill_alpha\":{\"value\":0.1},\"fill_color\":{\"value\":\"#1f77b4\"},\"height\":{\"value\":0.9},\"left\":{\"expr\":{\"id\":\"843797bb-b27a-4e57-8373-b4681949493f\",\"type\":\"Stack\"}},\"line_alpha\":{\"value\":0.1},\"line_color\":{\"value\":\"#1f77b4\"},\"right\":{\"expr\":{\"id\":\"75c5251f-00a8-4ca8-af1e-47e7ebfb9e84\",\"type\":\"Stack\"}},\"y\":{\"field\":\"avs_description\"}},\"id\":\"549943b7-2f03-4806-b6f1-1ea31a44499c\",\"type\":\"HBar\"},{\"attributes\":{\"bottom_units\":\"screen\",\"fill_alpha\":{\"value\":0.5},\"fill_color\":{\"value\":\"lightgrey\"},\"left_units\":\"screen\",\"level\":\"overlay\",\"line_alpha\":{\"value\":1.0},\"line_color\":{\"value\":\"black\"},\"line_dash\":[4,4],\"line_width\":{\"value\":2},\"plot\":null,\"render_mode\":\"css\",\"right_units\":\"screen\",\"top_units\":\"screen\"},\"id\":\"74ca0514-3c00-470c-972e-c06d4238f658\",\"type\":\"BoxAnnotation\"},{\"attributes\":{\"fill_alpha\":{\"value\":0.1},\"fill_color\":{\"value\":\"#1f77b4\"},\"height\":{\"value\":0.9},\"left\":{\"expr\":{\"id\":\"6af1af49-50f5-45bc-9b8f-271b664eef20\",\"type\":\"Stack\"}},\"line_alpha\":{\"value\":0.1},\"line_color\":{\"value\":\"#1f77b4\"},\"right\":{\"expr\":{\"id\":\"af25ea60-c6f0-45ab-ac40-bb7c47d42b8b\",\"type\":\"Stack\"}},\"y\":{\"field\":\"avs_description\"}},\"id\":\"ff2e7552-5dfa-42a0-9600-a3b8150cd8f7\",\"type\":\"HBar\"},{\"attributes\":{\"label\":{\"value\":\"2017/12 \"},\"renderers\":[{\"id\":\"d70fae7a-165d-41bf-bacc-86ecc728cdcd\",\"type\":\"GlyphRenderer\"}]},\"id\":\"41e2e5c1-69da-470c-af07-84671f854dad\",\"type\":\"LegendItem\"},{\"attributes\":{\"fill_color\":{\"value\":\"#ccebc5\"},\"height\":{\"value\":0.9},\"left\":{\"expr\":{\"id\":\"6af1af49-50f5-45bc-9b8f-271b664eef20\",\"type\":\"Stack\"}},\"line_color\":{\"value\":\"#ccebc5\"},\"right\":{\"expr\":{\"id\":\"af25ea60-c6f0-45ab-ac40-bb7c47d42b8b\",\"type\":\"Stack\"}},\"y\":{\"field\":\"avs_description\"}},\"id\":\"597b3451-e695-46ec-8a32-960d25b53544\",\"type\":\"HBar\"},{\"attributes\":{\"fields\":[\"2017/07\",\"2017/08\",\"2017/12\",\"2018/01\",\"2018/02\",\"2018/03\",\"2018/04\"]},\"id\":\"c7b5481c-9dfb-4ac1-818b-ac8f76d483c7\",\"type\":\"Stack\"},{\"attributes\":{\"data_source\":{\"id\":\"4eba2b6c-54c6-4882-b142-5c1b0e7dde79\",\"type\":\"ColumnDataSource\"},\"glyph\":{\"id\":\"565c4388-8ee1-428a-83f4-b5680431fb80\",\"type\":\"HBar\"},\"hover_glyph\":null,\"muted_glyph\":null,\"name\":\"2018/06\",\"nonselection_glyph\":{\"id\":\"422176b0-8fdf-4337-92ed-e2dc53d9f22c\",\"type\":\"HBar\"},\"selection_glyph\":null,\"view\":{\"id\":\"e996b22b-5abe-4d1a-a41d-8123884ba2e4\",\"type\":\"CDSView\"}},\"id\":\"93eb8f4d-2592-42ac-92bc-c5a11243394a\",\"type\":\"GlyphRenderer\"},{\"attributes\":{\"fill_color\":{\"value\":\"#0868ac\"},\"height\":{\"value\":0.9},\"left\":{\"expr\":{\"id\":\"c0e1f787-4f36-4f75-a883-18837d205139\",\"type\":\"Stack\"}},\"line_color\":{\"value\":\"#0868ac\"},\"right\":{\"expr\":{\"id\":\"758b9f2c-b933-4c95-a402-4d647b2d7100\",\"type\":\"Stack\"}},\"y\":{\"field\":\"avs_description\"}},\"id\":\"25d09630-04fe-451d-b9c5-a5c3a9bf3a83\",\"type\":\"HBar\"},{\"attributes\":{\"source\":{\"id\":\"4eba2b6c-54c6-4882-b142-5c1b0e7dde79\",\"type\":\"ColumnDataSource\"}},\"id\":\"f4a4deea-a14d-4b0c-8445-26fd6814ff37\",\"type\":\"CDSView\"},{\"attributes\":{\"fill_color\":{\"value\":\"#a8ddb5\"},\"height\":{\"value\":0.9},\"left\":{\"expr\":{\"id\":\"b2634819-6f91-44d4-bd54-a0701f661646\",\"type\":\"Stack\"}},\"line_color\":{\"value\":\"#a8ddb5\"},\"right\":{\"expr\":{\"id\":\"b5a125ef-cd2f-4606-933a-945efbfdef2f\",\"type\":\"Stack\"}},\"y\":{\"field\":\"avs_description\"}},\"id\":\"b5881d94-2206-4e87-9fdb-ea905bd2f681\",\"type\":\"HBar\"},{\"attributes\":{},\"id\":\"df849591-8f3e-4b29-92f8-bfc406333a3f\",\"type\":\"UnionRenderers\"},{\"attributes\":{\"active_drag\":\"auto\",\"active_inspect\":\"auto\",\"active_multi\":null,\"active_scroll\":\"auto\",\"active_tap\":\"auto\",\"tools\":[{\"id\":\"459e5566-7d9a-445a-8000-4a2618b5cd28\",\"type\":\"PanTool\"},{\"id\":\"7b1face1-fd26-4b05-8f74-abece2e16e63\",\"type\":\"WheelZoomTool\"},{\"id\":\"54b0f0b4-4194-4254-908a-e43f33ba3e7f\",\"type\":\"BoxZoomTool\"},{\"id\":\"061fea4f-0479-44ad-84c7-cfac67ccca2f\",\"type\":\"SaveTool\"},{\"id\":\"3b164bdc-0027-4553-bb27-b21045e69eea\",\"type\":\"ResetTool\"},{\"id\":\"6aa07021-2a11-4e4a-a46b-20c52db0c254\",\"type\":\"HelpTool\"}]},\"id\":\"7c475572-cf70-4ded-b66b-afe85c29a98e\",\"type\":\"Toolbar\"},{\"attributes\":{\"fields\":[\"2017/07\",\"2017/08\",\"2017/12\",\"2018/01\",\"2018/02\",\"2018/03\",\"2018/04\"]},\"id\":\"af25ea60-c6f0-45ab-ac40-bb7c47d42b8b\",\"type\":\"Stack\"},{\"attributes\":{\"fields\":[\"2017/07\",\"2017/08\",\"2017/12\",\"2018/01\",\"2018/02\",\"2018/03\",\"2018/04\",\"2018/05\"]},\"id\":\"3c5523ac-e3a9-4d92-a910-5e04cf9031b0\",\"type\":\"Stack\"},{\"attributes\":{\"fields\":[\"2017/07\",\"2017/08\",\"2017/12\",\"2018/01\",\"2018/02\",\"2018/03\"]},\"id\":\"b5a125ef-cd2f-4606-933a-945efbfdef2f\",\"type\":\"Stack\"},{\"attributes\":{\"plot\":{\"id\":\"b1bb2af1-9d0e-44c1-bc03-be2b9e6d8365\",\"subtype\":\"Figure\",\"type\":\"Plot\"},\"ticker\":{\"id\":\"6ffb8931-b751-4eb2-a490-eb5feeefee52\",\"type\":\"BasicTicker\"}},\"id\":\"48ae1534-fa44-42e0-bb87-30b88e7827b7\",\"type\":\"Grid\"},{\"attributes\":{\"fields\":[\"2017/07\",\"2017/08\",\"2017/12\",\"2018/01\",\"2018/02\",\"2018/03\",\"2018/04\",\"2018/05\",\"2018/06\"]},\"id\":\"6b7437d2-c716-4d4f-993c-ae0da0644c1a\",\"type\":\"Stack\"},{\"attributes\":{\"source\":{\"id\":\"4eba2b6c-54c6-4882-b142-5c1b0e7dde79\",\"type\":\"ColumnDataSource\"}},\"id\":\"c56f7e72-4329-4ff7-8033-1a08943dab18\",\"type\":\"CDSView\"},{\"attributes\":{\"data_source\":{\"id\":\"4eba2b6c-54c6-4882-b142-5c1b0e7dde79\",\"type\":\"ColumnDataSource\"},\"glyph\":{\"id\":\"597b3451-e695-46ec-8a32-960d25b53544\",\"type\":\"HBar\"},\"hover_glyph\":null,\"muted_glyph\":null,\"name\":\"2018/04\",\"nonselection_glyph\":{\"id\":\"ff2e7552-5dfa-42a0-9600-a3b8150cd8f7\",\"type\":\"HBar\"},\"selection_glyph\":null,\"view\":{\"id\":\"95d954bc-314c-46a5-ab4b-8cc958a1d87d\",\"type\":\"CDSView\"}},\"id\":\"7d44b1f3-1621-4715-a285-3b3560a0f1b8\",\"type\":\"GlyphRenderer\"},{\"attributes\":{},\"id\":\"be95138d-5b45-4f6c-98fd-39ed99946806\",\"type\":\"CategoricalScale\"},{\"attributes\":{\"fields\":[\"2017/07\",\"2017/08\",\"2017/12\",\"2018/01\",\"2018/02\",\"2018/03\",\"2018/04\",\"2018/05\"]},\"id\":\"0fbe74c4-69b3-4f01-83af-9f78e9dde55d\",\"type\":\"Stack\"},{\"attributes\":{\"data_source\":{\"id\":\"4eba2b6c-54c6-4882-b142-5c1b0e7dde79\",\"type\":\"ColumnDataSource\"},\"glyph\":{\"id\":\"25d09630-04fe-451d-b9c5-a5c3a9bf3a83\",\"type\":\"HBar\"},\"hover_glyph\":null,\"muted_glyph\":null,\"name\":\"2017/08\",\"nonselection_glyph\":{\"id\":\"736816d7-a10e-45f9-9ac9-9c9deb9b70d4\",\"type\":\"HBar\"},\"selection_glyph\":null,\"view\":{\"id\":\"f4a4deea-a14d-4b0c-8445-26fd6814ff37\",\"type\":\"CDSView\"}},\"id\":\"db39cecf-c9ea-4e2c-ae0a-7eddc23dc465\",\"type\":\"GlyphRenderer\"},{\"attributes\":{\"label\":{\"value\":\"2018/01 \"},\"renderers\":[{\"id\":\"650b32b6-cce7-4de7-b8ec-d6afa64b476a\",\"type\":\"GlyphRenderer\"}]},\"id\":\"675030e1-6c97-4990-95fa-55845c8ea2c4\",\"type\":\"LegendItem\"},{\"attributes\":{\"fields\":[\"2017/07\",\"2017/08\",\"2017/12\",\"2018/01\",\"2018/02\",\"2018/03\"]},\"id\":\"6af1af49-50f5-45bc-9b8f-271b664eef20\",\"type\":\"Stack\"},{\"attributes\":{\"label\":{\"value\":\"2018/03 \"},\"renderers\":[{\"id\":\"007c6eee-a458-46da-9b2b-1506992bcf4e\",\"type\":\"GlyphRenderer\"}]},\"id\":\"ab828824-0c89-4eed-9ae0-c2b750e7bf92\",\"type\":\"LegendItem\"},{\"attributes\":{\"fields\":[\"2017/07\",\"2017/08\",\"2017/12\"]},\"id\":\"19d8fa91-74f6-467b-8b16-c57ddb72e24d\",\"type\":\"Stack\"},{\"attributes\":{\"fill_alpha\":{\"value\":0.1},\"fill_color\":{\"value\":\"#1f77b4\"},\"height\":{\"value\":0.9},\"left\":{\"expr\":{\"id\":\"1338a436-f99d-409a-974d-4612632c5418\",\"type\":\"Stack\"}},\"line_alpha\":{\"value\":0.1},\"line_color\":{\"value\":\"#1f77b4\"},\"right\":{\"expr\":{\"id\":\"69107b69-c0f8-489b-96a7-b12f0cebdfb7\",\"type\":\"Stack\"}},\"y\":{\"field\":\"avs_description\"}},\"id\":\"38f51c54-6f9e-45c1-82a0-94dc0f40211f\",\"type\":\"HBar\"},{\"attributes\":{},\"id\":\"7b1face1-fd26-4b05-8f74-abece2e16e63\",\"type\":\"WheelZoomTool\"},{\"attributes\":{\"fields\":[\"2017/07\"]},\"id\":\"c0e1f787-4f36-4f75-a883-18837d205139\",\"type\":\"Stack\"},{\"attributes\":{\"fill_color\":{\"value\":\"#7bccc4\"},\"height\":{\"value\":0.9},\"left\":{\"expr\":{\"id\":\"843797bb-b27a-4e57-8373-b4681949493f\",\"type\":\"Stack\"}},\"line_color\":{\"value\":\"#7bccc4\"},\"right\":{\"expr\":{\"id\":\"75c5251f-00a8-4ca8-af1e-47e7ebfb9e84\",\"type\":\"Stack\"}},\"y\":{\"field\":\"avs_description\"}},\"id\":\"a03de58f-074e-4a3c-8859-3d6987317620\",\"type\":\"HBar\"},{\"attributes\":{\"source\":{\"id\":\"4eba2b6c-54c6-4882-b142-5c1b0e7dde79\",\"type\":\"ColumnDataSource\"}},\"id\":\"95d954bc-314c-46a5-ab4b-8cc958a1d87d\",\"type\":\"CDSView\"},{\"attributes\":{\"label\":{\"value\":\"2018/02 \"},\"renderers\":[{\"id\":\"d7679019-f3cf-4731-9b67-af529a7aa836\",\"type\":\"GlyphRenderer\"}]},\"id\":\"352e7bde-54fc-47a7-8887-68f16569cb87\",\"type\":\"LegendItem\"},{\"attributes\":{\"fill_color\":{\"value\":\"#4eb3d3\"},\"height\":{\"value\":0.9},\"left\":{\"expr\":{\"id\":\"19d8fa91-74f6-467b-8b16-c57ddb72e24d\",\"type\":\"Stack\"}},\"line_color\":{\"value\":\"#4eb3d3\"},\"right\":{\"expr\":{\"id\":\"898ad5d2-f46c-46bd-b484-a035724ca317\",\"type\":\"Stack\"}},\"y\":{\"field\":\"avs_description\"}},\"id\":\"4296ea08-aff3-4097-85d9-5f7260bf7071\",\"type\":\"HBar\"},{\"attributes\":{\"fill_alpha\":{\"value\":0.1},\"fill_color\":{\"value\":\"#1f77b4\"},\"height\":{\"value\":0.9},\"left\":{\"expr\":{\"id\":\"0fbe74c4-69b3-4f01-83af-9f78e9dde55d\",\"type\":\"Stack\"}},\"line_alpha\":{\"value\":0.1},\"line_color\":{\"value\":\"#1f77b4\"},\"right\":{\"expr\":{\"id\":\"6b7437d2-c716-4d4f-993c-ae0da0644c1a\",\"type\":\"Stack\"}},\"y\":{\"field\":\"avs_description\"}},\"id\":\"422176b0-8fdf-4337-92ed-e2dc53d9f22c\",\"type\":\"HBar\"},{\"attributes\":{\"fields\":[\"2017/07\",\"2017/08\",\"2017/12\",\"2018/01\",\"2018/02\"]},\"id\":\"b2634819-6f91-44d4-bd54-a0701f661646\",\"type\":\"Stack\"},{\"attributes\":{},\"id\":\"498c6dd5-9155-43e7-b934-148d2222786c\",\"type\":\"BasicTickFormatter\"},{\"attributes\":{},\"id\":\"3b164bdc-0027-4553-bb27-b21045e69eea\",\"type\":\"ResetTool\"},{\"attributes\":{\"formatter\":{\"id\":\"498c6dd5-9155-43e7-b934-148d2222786c\",\"type\":\"BasicTickFormatter\"},\"plot\":{\"id\":\"b1bb2af1-9d0e-44c1-bc03-be2b9e6d8365\",\"subtype\":\"Figure\",\"type\":\"Plot\"},\"ticker\":{\"id\":\"6ffb8931-b751-4eb2-a490-eb5feeefee52\",\"type\":\"BasicTicker\"}},\"id\":\"e22b1762-ab7a-4c4b-93d7-028702a0927e\",\"type\":\"LinearAxis\"},{\"attributes\":{\"below\":[{\"id\":\"e22b1762-ab7a-4c4b-93d7-028702a0927e\",\"type\":\"LinearAxis\"}],\"left\":[{\"id\":\"85d0ae4f-7756-4185-b299-027161f6cb3d\",\"type\":\"CategoricalAxis\"}],\"plot_height\":500,\"renderers\":[{\"id\":\"e22b1762-ab7a-4c4b-93d7-028702a0927e\",\"type\":\"LinearAxis\"},{\"id\":\"48ae1534-fa44-42e0-bb87-30b88e7827b7\",\"type\":\"Grid\"},{\"id\":\"85d0ae4f-7756-4185-b299-027161f6cb3d\",\"type\":\"CategoricalAxis\"},{\"id\":\"53abbd85-f3f4-45b3-b4e4-9d1ad7255edf\",\"type\":\"Grid\"},{\"id\":\"74ca0514-3c00-470c-972e-c06d4238f658\",\"type\":\"BoxAnnotation\"},{\"id\":\"7b864f5d-1ce7-4102-ad9f-d89ef349cab2\",\"type\":\"Legend\"},{\"id\":\"fd061aca-0b9c-459b-bfe4-97493e4e5262\",\"type\":\"GlyphRenderer\"},{\"id\":\"db39cecf-c9ea-4e2c-ae0a-7eddc23dc465\",\"type\":\"GlyphRenderer\"},{\"id\":\"d70fae7a-165d-41bf-bacc-86ecc728cdcd\",\"type\":\"GlyphRenderer\"},{\"id\":\"650b32b6-cce7-4de7-b8ec-d6afa64b476a\",\"type\":\"GlyphRenderer\"},{\"id\":\"d7679019-f3cf-4731-9b67-af529a7aa836\",\"type\":\"GlyphRenderer\"},{\"id\":\"007c6eee-a458-46da-9b2b-1506992bcf4e\",\"type\":\"GlyphRenderer\"},{\"id\":\"7d44b1f3-1621-4715-a285-3b3560a0f1b8\",\"type\":\"GlyphRenderer\"},{\"id\":\"cef8f0d4-48bd-49ab-8831-fe862c87e67f\",\"type\":\"GlyphRenderer\"},{\"id\":\"93eb8f4d-2592-42ac-92bc-c5a11243394a\",\"type\":\"GlyphRenderer\"}],\"title\":{\"id\":\"46462245-6c51-4715-ad3d-8a0a07d400ad\",\"type\":\"Title\"},\"toolbar\":{\"id\":\"7c475572-cf70-4ded-b66b-afe85c29a98e\",\"type\":\"Toolbar\"},\"toolbar_location\":null,\"x_range\":{\"id\":\"e4edb2e4-63be-41dc-8a77-3256ce43adc0\",\"type\":\"Range1d\"},\"x_scale\":{\"id\":\"bd678046-2713-42c4-9b8b-57414bcc670f\",\"type\":\"LinearScale\"},\"y_range\":{\"id\":\"696b7499-4f91-489c-ac67-81743c9a3600\",\"type\":\"FactorRange\"},\"y_scale\":{\"id\":\"be95138d-5b45-4f6c-98fd-39ed99946806\",\"type\":\"CategoricalScale\"}},\"id\":\"b1bb2af1-9d0e-44c1-bc03-be2b9e6d8365\",\"subtype\":\"Figure\",\"type\":\"Plot\"},{\"attributes\":{\"items\":[{\"id\":\"f06ec5e1-49a6-49dd-85ee-4f458f52969a\",\"type\":\"LegendItem\"},{\"id\":\"bf83723b-3463-46b0-9ac8-b034bc63055a\",\"type\":\"LegendItem\"},{\"id\":\"41e2e5c1-69da-470c-af07-84671f854dad\",\"type\":\"LegendItem\"},{\"id\":\"675030e1-6c97-4990-95fa-55845c8ea2c4\",\"type\":\"LegendItem\"},{\"id\":\"352e7bde-54fc-47a7-8887-68f16569cb87\",\"type\":\"LegendItem\"},{\"id\":\"ab828824-0c89-4eed-9ae0-c2b750e7bf92\",\"type\":\"LegendItem\"},{\"id\":\"2dcd368d-405b-44d9-be65-84870696d284\",\"type\":\"LegendItem\"},{\"id\":\"5e8ce72f-be75-4530-9dbd-04fd5b835d0e\",\"type\":\"LegendItem\"},{\"id\":\"119427f2-2626-4cb2-b2bb-d45e6b77f2ea\",\"type\":\"LegendItem\"}],\"plot\":{\"id\":\"b1bb2af1-9d0e-44c1-bc03-be2b9e6d8365\",\"subtype\":\"Figure\",\"type\":\"Plot\"}},\"id\":\"7b864f5d-1ce7-4102-ad9f-d89ef349cab2\",\"type\":\"Legend\"},{\"attributes\":{\"callback\":null,\"factors\":[\"AVS Not Performed\",\"Full AVS\",\"Partial AVS\",\"Neither ZIP nor address match\",\"Unsupp/Inconc AVS\",\"CVV Match\"]},\"id\":\"696b7499-4f91-489c-ac67-81743c9a3600\",\"type\":\"FactorRange\"},{\"attributes\":{\"fields\":[\"2017/07\"]},\"id\":\"69107b69-c0f8-489b-96a7-b12f0cebdfb7\",\"type\":\"Stack\"},{\"attributes\":{\"data_source\":{\"id\":\"4eba2b6c-54c6-4882-b142-5c1b0e7dde79\",\"type\":\"ColumnDataSource\"},\"glyph\":{\"id\":\"a03de58f-074e-4a3c-8859-3d6987317620\",\"type\":\"HBar\"},\"hover_glyph\":null,\"muted_glyph\":null,\"name\":\"2018/02\",\"nonselection_glyph\":{\"id\":\"549943b7-2f03-4806-b6f1-1ea31a44499c\",\"type\":\"HBar\"},\"selection_glyph\":null,\"view\":{\"id\":\"473dd5da-8274-482f-b0dc-dd6a15fe4e09\",\"type\":\"CDSView\"}},\"id\":\"d7679019-f3cf-4731-9b67-af529a7aa836\",\"type\":\"GlyphRenderer\"},{\"attributes\":{},\"id\":\"6ffb8931-b751-4eb2-a490-eb5feeefee52\",\"type\":\"BasicTicker\"},{\"attributes\":{},\"id\":\"6aa07021-2a11-4e4a-a46b-20c52db0c254\",\"type\":\"HelpTool\"},{\"attributes\":{\"fill_alpha\":{\"value\":0.1},\"fill_color\":{\"value\":\"#1f77b4\"},\"height\":{\"value\":0.9},\"left\":{\"expr\":{\"id\":\"19d8fa91-74f6-467b-8b16-c57ddb72e24d\",\"type\":\"Stack\"}},\"line_alpha\":{\"value\":0.1},\"line_color\":{\"value\":\"#1f77b4\"},\"right\":{\"expr\":{\"id\":\"898ad5d2-f46c-46bd-b484-a035724ca317\",\"type\":\"Stack\"}},\"y\":{\"field\":\"avs_description\"}},\"id\":\"fac90d82-f038-47c2-811a-317aed3c74b2\",\"type\":\"HBar\"},{\"attributes\":{\"fill_alpha\":{\"value\":0.1},\"fill_color\":{\"value\":\"#1f77b4\"},\"height\":{\"value\":0.9},\"left\":{\"expr\":{\"id\":\"b2634819-6f91-44d4-bd54-a0701f661646\",\"type\":\"Stack\"}},\"line_alpha\":{\"value\":0.1},\"line_color\":{\"value\":\"#1f77b4\"},\"right\":{\"expr\":{\"id\":\"b5a125ef-cd2f-4606-933a-945efbfdef2f\",\"type\":\"Stack\"}},\"y\":{\"field\":\"avs_description\"}},\"id\":\"ab0196fb-122b-4603-92d5-679a956e8c08\",\"type\":\"HBar\"},{\"attributes\":{\"source\":{\"id\":\"4eba2b6c-54c6-4882-b142-5c1b0e7dde79\",\"type\":\"ColumnDataSource\"}},\"id\":\"8f98d701-bc09-41a9-870e-c0440eec8e20\",\"type\":\"CDSView\"},{\"attributes\":{\"label\":{\"value\":\"2018/06 \"},\"renderers\":[{\"id\":\"93eb8f4d-2592-42ac-92bc-c5a11243394a\",\"type\":\"GlyphRenderer\"}]},\"id\":\"119427f2-2626-4cb2-b2bb-d45e6b77f2ea\",\"type\":\"LegendItem\"},{\"attributes\":{\"fields\":[\"2017/07\",\"2017/08\",\"2017/12\",\"2018/01\",\"2018/02\"]},\"id\":\"75c5251f-00a8-4ca8-af1e-47e7ebfb9e84\",\"type\":\"Stack\"},{\"attributes\":{\"overlay\":{\"id\":\"74ca0514-3c00-470c-972e-c06d4238f658\",\"type\":\"BoxAnnotation\"}},\"id\":\"54b0f0b4-4194-4254-908a-e43f33ba3e7f\",\"type\":\"BoxZoomTool\"},{\"attributes\":{},\"id\":\"bd678046-2713-42c4-9b8b-57414bcc670f\",\"type\":\"LinearScale\"},{\"attributes\":{\"label\":{\"value\":\"2018/04 \"},\"renderers\":[{\"id\":\"7d44b1f3-1621-4715-a285-3b3560a0f1b8\",\"type\":\"GlyphRenderer\"}]},\"id\":\"2dcd368d-405b-44d9-be65-84870696d284\",\"type\":\"LegendItem\"},{\"attributes\":{\"fill_color\":{\"value\":\"#084081\"},\"height\":{\"value\":0.9},\"left\":{\"expr\":{\"id\":\"1338a436-f99d-409a-974d-4612632c5418\",\"type\":\"Stack\"}},\"line_color\":{\"value\":\"#084081\"},\"right\":{\"expr\":{\"id\":\"69107b69-c0f8-489b-96a7-b12f0cebdfb7\",\"type\":\"Stack\"}},\"y\":{\"field\":\"avs_description\"}},\"id\":\"f22c8272-1fd3-4966-bbc2-f02cb86d1717\",\"type\":\"HBar\"},{\"attributes\":{\"fields\":[\"2017/07\",\"2017/08\"]},\"id\":\"510254c3-73d2-4b44-8ccb-d05f55f7e5fe\",\"type\":\"Stack\"},{\"attributes\":{\"data_source\":{\"id\":\"4eba2b6c-54c6-4882-b142-5c1b0e7dde79\",\"type\":\"ColumnDataSource\"},\"glyph\":{\"id\":\"b5881d94-2206-4e87-9fdb-ea905bd2f681\",\"type\":\"HBar\"},\"hover_glyph\":null,\"muted_glyph\":null,\"name\":\"2018/03\",\"nonselection_glyph\":{\"id\":\"ab0196fb-122b-4603-92d5-679a956e8c08\",\"type\":\"HBar\"},\"selection_glyph\":null,\"view\":{\"id\":\"4d6bb6d9-a724-4a16-ba31-d157cfe7a03f\",\"type\":\"CDSView\"}},\"id\":\"007c6eee-a458-46da-9b2b-1506992bcf4e\",\"type\":\"GlyphRenderer\"},{\"attributes\":{\"label\":{\"value\":\"2017/08 \"},\"renderers\":[{\"id\":\"db39cecf-c9ea-4e2c-ae0a-7eddc23dc465\",\"type\":\"GlyphRenderer\"}]},\"id\":\"bf83723b-3463-46b0-9ac8-b034bc63055a\",\"type\":\"LegendItem\"},{\"attributes\":{\"label\":{\"value\":\"2018/05 \"},\"renderers\":[{\"id\":\"cef8f0d4-48bd-49ab-8831-fe862c87e67f\",\"type\":\"GlyphRenderer\"}]},\"id\":\"5e8ce72f-be75-4530-9dbd-04fd5b835d0e\",\"type\":\"LegendItem\"},{\"attributes\":{\"callback\":null},\"id\":\"e4edb2e4-63be-41dc-8a77-3256ce43adc0\",\"type\":\"Range1d\"},{\"attributes\":{\"fill_color\":{\"value\":\"#e0f3db\"},\"height\":{\"value\":0.9},\"left\":{\"expr\":{\"id\":\"c7b5481c-9dfb-4ac1-818b-ac8f76d483c7\",\"type\":\"Stack\"}},\"line_color\":{\"value\":\"#e0f3db\"},\"right\":{\"expr\":{\"id\":\"3c5523ac-e3a9-4d92-a910-5e04cf9031b0\",\"type\":\"Stack\"}},\"y\":{\"field\":\"avs_description\"}},\"id\":\"82564540-182f-485d-bc56-1a5736868411\",\"type\":\"HBar\"},{\"attributes\":{\"data_source\":{\"id\":\"4eba2b6c-54c6-4882-b142-5c1b0e7dde79\",\"type\":\"ColumnDataSource\"},\"glyph\":{\"id\":\"3a0f13f7-bfc2-4caf-a35e-f8b64863d625\",\"type\":\"HBar\"},\"hover_glyph\":null,\"muted_glyph\":null,\"name\":\"2017/12\",\"nonselection_glyph\":{\"id\":\"cca644db-bf18-41cd-85a0-6c7016e91520\",\"type\":\"HBar\"},\"selection_glyph\":null,\"view\":{\"id\":\"30f0bfab-f3ca-4a6d-91b8-e91aa99c45bc\",\"type\":\"CDSView\"}},\"id\":\"d70fae7a-165d-41bf-bacc-86ecc728cdcd\",\"type\":\"GlyphRenderer\"},{\"attributes\":{\"fill_alpha\":{\"value\":0.1},\"fill_color\":{\"value\":\"#1f77b4\"},\"height\":{\"value\":0.9},\"left\":{\"expr\":{\"id\":\"c0e1f787-4f36-4f75-a883-18837d205139\",\"type\":\"Stack\"}},\"line_alpha\":{\"value\":0.1},\"line_color\":{\"value\":\"#1f77b4\"},\"right\":{\"expr\":{\"id\":\"758b9f2c-b933-4c95-a402-4d647b2d7100\",\"type\":\"Stack\"}},\"y\":{\"field\":\"avs_description\"}},\"id\":\"736816d7-a10e-45f9-9ac9-9c9deb9b70d4\",\"type\":\"HBar\"},{\"attributes\":{\"source\":{\"id\":\"4eba2b6c-54c6-4882-b142-5c1b0e7dde79\",\"type\":\"ColumnDataSource\"}},\"id\":\"f584e116-cbf7-4cde-b553-76f2f3be54f7\",\"type\":\"CDSView\"},{\"attributes\":{\"fields\":[\"2017/07\",\"2017/08\"]},\"id\":\"758b9f2c-b933-4c95-a402-4d647b2d7100\",\"type\":\"Stack\"},{\"attributes\":{\"label\":{\"value\":\"2017/07 \"},\"renderers\":[{\"id\":\"fd061aca-0b9c-459b-bfe4-97493e4e5262\",\"type\":\"GlyphRenderer\"}]},\"id\":\"f06ec5e1-49a6-49dd-85ee-4f458f52969a\",\"type\":\"LegendItem\"},{\"attributes\":{},\"id\":\"459e5566-7d9a-445a-8000-4a2618b5cd28\",\"type\":\"PanTool\"},{\"attributes\":{\"data_source\":{\"id\":\"4eba2b6c-54c6-4882-b142-5c1b0e7dde79\",\"type\":\"ColumnDataSource\"},\"glyph\":{\"id\":\"f22c8272-1fd3-4966-bbc2-f02cb86d1717\",\"type\":\"HBar\"},\"hover_glyph\":null,\"muted_glyph\":null,\"name\":\"2017/07\",\"nonselection_glyph\":{\"id\":\"38f51c54-6f9e-45c1-82a0-94dc0f40211f\",\"type\":\"HBar\"},\"selection_glyph\":null,\"view\":{\"id\":\"c56f7e72-4329-4ff7-8033-1a08943dab18\",\"type\":\"CDSView\"}},\"id\":\"fd061aca-0b9c-459b-bfe4-97493e4e5262\",\"type\":\"GlyphRenderer\"},{\"attributes\":{\"fill_alpha\":{\"value\":0.1},\"fill_color\":{\"value\":\"#1f77b4\"},\"height\":{\"value\":0.9},\"left\":{\"expr\":{\"id\":\"c7b5481c-9dfb-4ac1-818b-ac8f76d483c7\",\"type\":\"Stack\"}},\"line_alpha\":{\"value\":0.1},\"line_color\":{\"value\":\"#1f77b4\"},\"right\":{\"expr\":{\"id\":\"3c5523ac-e3a9-4d92-a910-5e04cf9031b0\",\"type\":\"Stack\"}},\"y\":{\"field\":\"avs_description\"}},\"id\":\"57799667-c1d0-4d58-a4be-2f696c8515e0\",\"type\":\"HBar\"},{\"attributes\":{\"source\":{\"id\":\"4eba2b6c-54c6-4882-b142-5c1b0e7dde79\",\"type\":\"ColumnDataSource\"}},\"id\":\"473dd5da-8274-482f-b0dc-dd6a15fe4e09\",\"type\":\"CDSView\"},{\"attributes\":{\"fields\":[\"2017/07\",\"2017/08\",\"2017/12\",\"2018/01\"]},\"id\":\"843797bb-b27a-4e57-8373-b4681949493f\",\"type\":\"Stack\"},{\"attributes\":{\"fields\":[\"2017/07\",\"2017/08\",\"2017/12\",\"2018/01\"]},\"id\":\"898ad5d2-f46c-46bd-b484-a035724ca317\",\"type\":\"Stack\"},{\"attributes\":{\"data_source\":{\"id\":\"4eba2b6c-54c6-4882-b142-5c1b0e7dde79\",\"type\":\"ColumnDataSource\"},\"glyph\":{\"id\":\"82564540-182f-485d-bc56-1a5736868411\",\"type\":\"HBar\"},\"hover_glyph\":null,\"muted_glyph\":null,\"name\":\"2018/05\",\"nonselection_glyph\":{\"id\":\"57799667-c1d0-4d58-a4be-2f696c8515e0\",\"type\":\"HBar\"},\"selection_glyph\":null,\"view\":{\"id\":\"8f98d701-bc09-41a9-870e-c0440eec8e20\",\"type\":\"CDSView\"}},\"id\":\"cef8f0d4-48bd-49ab-8831-fe862c87e67f\",\"type\":\"GlyphRenderer\"},{\"attributes\":{\"fill_color\":{\"value\":\"#f7fcf0\"},\"height\":{\"value\":0.9},\"left\":{\"expr\":{\"id\":\"0fbe74c4-69b3-4f01-83af-9f78e9dde55d\",\"type\":\"Stack\"}},\"line_color\":{\"value\":\"#f7fcf0\"},\"right\":{\"expr\":{\"id\":\"6b7437d2-c716-4d4f-993c-ae0da0644c1a\",\"type\":\"Stack\"}},\"y\":{\"field\":\"avs_description\"}},\"id\":\"565c4388-8ee1-428a-83f4-b5680431fb80\",\"type\":\"HBar\"},{\"attributes\":{\"source\":{\"id\":\"4eba2b6c-54c6-4882-b142-5c1b0e7dde79\",\"type\":\"ColumnDataSource\"}},\"id\":\"4d6bb6d9-a724-4a16-ba31-d157cfe7a03f\",\"type\":\"CDSView\"},{\"attributes\":{\"callback\":null,\"data\":{\"2017/07\":[1.0,0.0,0.0,0.0,0.0,0.0],\"2017/08\":[1.0,0.0,0.0,0.0,0.0,0.0],\"2017/12\":[0.586,0.383,0.025,0.005,0.0,0.0],\"2018/01\":[0.539,0.426,0.024,0.01,0.0,0.0],\"2018/02\":[0.61,0.361,0.025,0.004,0.0,0.0],\"2018/03\":[0.924,0.067,0.006,0.003,0.0,0.0],\"2018/04\":[0.85,0.131,0.011,0.008,0.0,0.0],\"2018/05\":[0.796,0.19,0.011,0.003,0.0,0.0],\"2018/06\":[0.899,0.091,0.008,0.002,0.0,0.0],\"avs_description\":[\"AVS Not Performed\",\"Full AVS\",\"Partial AVS\",\"Neither ZIP nor address match\",\"Unsupp/Inconc AVS\",\"CVV Match\"]},\"selected\":{\"id\":\"4e350588-5409-4ad3-83f1-2e84ed9098a4\",\"type\":\"Selection\"},\"selection_policy\":{\"id\":\"df849591-8f3e-4b29-92f8-bfc406333a3f\",\"type\":\"UnionRenderers\"}},\"id\":\"4eba2b6c-54c6-4882-b142-5c1b0e7dde79\",\"type\":\"ColumnDataSource\"},{\"attributes\":{},\"id\":\"4e350588-5409-4ad3-83f1-2e84ed9098a4\",\"type\":\"Selection\"},{\"attributes\":{\"dimension\":1,\"plot\":{\"id\":\"b1bb2af1-9d0e-44c1-bc03-be2b9e6d8365\",\"subtype\":\"Figure\",\"type\":\"Plot\"},\"ticker\":{\"id\":\"fa759a79-3961-48be-9ef9-14aa03390851\",\"type\":\"CategoricalTicker\"}},\"id\":\"53abbd85-f3f4-45b3-b4e4-9d1ad7255edf\",\"type\":\"Grid\"},{\"attributes\":{\"fill_alpha\":{\"value\":0.1},\"fill_color\":{\"value\":\"#1f77b4\"},\"height\":{\"value\":0.9},\"left\":{\"expr\":{\"id\":\"510254c3-73d2-4b44-8ccb-d05f55f7e5fe\",\"type\":\"Stack\"}},\"line_alpha\":{\"value\":0.1},\"line_color\":{\"value\":\"#1f77b4\"},\"right\":{\"expr\":{\"id\":\"52a4b0e7-5038-49c2-8fb6-274794452ba0\",\"type\":\"Stack\"}},\"y\":{\"field\":\"avs_description\"}},\"id\":\"cca644db-bf18-41cd-85a0-6c7016e91520\",\"type\":\"HBar\"},{\"attributes\":{\"fields\":[]},\"id\":\"1338a436-f99d-409a-974d-4612632c5418\",\"type\":\"Stack\"},{\"attributes\":{},\"id\":\"061fea4f-0479-44ad-84c7-cfac67ccca2f\",\"type\":\"SaveTool\"},{\"attributes\":{\"source\":{\"id\":\"4eba2b6c-54c6-4882-b142-5c1b0e7dde79\",\"type\":\"ColumnDataSource\"}},\"id\":\"30f0bfab-f3ca-4a6d-91b8-e91aa99c45bc\",\"type\":\"CDSView\"},{\"attributes\":{\"data_source\":{\"id\":\"4eba2b6c-54c6-4882-b142-5c1b0e7dde79\",\"type\":\"ColumnDataSource\"},\"glyph\":{\"id\":\"4296ea08-aff3-4097-85d9-5f7260bf7071\",\"type\":\"HBar\"},\"hover_glyph\":null,\"muted_glyph\":null,\"name\":\"2018/01\",\"nonselection_glyph\":{\"id\":\"fac90d82-f038-47c2-811a-317aed3c74b2\",\"type\":\"HBar\"},\"selection_glyph\":null,\"view\":{\"id\":\"f584e116-cbf7-4cde-b553-76f2f3be54f7\",\"type\":\"CDSView\"}},\"id\":\"650b32b6-cce7-4de7-b8ec-d6afa64b476a\",\"type\":\"GlyphRenderer\"}],\"root_ids\":[\"b1bb2af1-9d0e-44c1-bc03-be2b9e6d8365\"]},\"title\":\"Bokeh Application\",\"version\":\"0.13.0\"}};\n",
       "  var render_items = [{\"docid\":\"66c5bc39-7309-41d2-9098-4c0be1f5a2b0\",\"roots\":{\"b1bb2af1-9d0e-44c1-bc03-be2b9e6d8365\":\"75edb037-3c0c-4a8f-bc53-be2216a3a504\"}}];\n",
       "  root.Bokeh.embed.embed_items_notebook(docs_json, render_items);\n",
       "\n",
       "  }\n",
       "  if (root.Bokeh !== undefined) {\n",
       "    embed_document(root);\n",
       "  } else {\n",
       "    var attempts = 0;\n",
       "    var timer = setInterval(function(root) {\n",
       "      if (root.Bokeh !== undefined) {\n",
       "        embed_document(root);\n",
       "        clearInterval(timer);\n",
       "      }\n",
       "      attempts++;\n",
       "      if (attempts > 100) {\n",
       "        console.log(\"Bokeh: ERROR: Unable to run BokehJS code because BokehJS library is missing\")\n",
       "        clearInterval(timer);\n",
       "      }\n",
       "    }, 10, root)\n",
       "  }\n",
       "})(window);"
      ],
      "application/vnd.bokehjs_exec.v0+json": ""
     },
     "metadata": {
      "application/vnd.bokehjs_exec.v0+json": {
       "id": "b1bb2af1-9d0e-44c1-bc03-be2b9e6d8365"
      }
     },
     "output_type": "display_data"
    }
   ],
   "source": [
    "p = figure(y_range=avs_desc, plot_height=500, x_range=(0,1), title=\"Fruit import/export, by year\",\n",
    "           toolbar_location=None)\n",
    "p.hbar_stack(dates, y='avs_description', height=0.9, color=GnBu9, source=ColumnDataSource(avs_participation)\\\n",
    "             ,legend=[\"%s \" % x for x in dates])\n",
    "show(p)"
   ]
  },
  {
   "cell_type": "code",
   "execution_count": null,
   "metadata": {},
   "outputs": [],
   "source": []
  },
  {
   "cell_type": "markdown",
   "metadata": {},
   "source": [
    "## Lets Explore the IP Addresses"
   ]
  },
  {
   "cell_type": "code",
   "execution_count": 28,
   "metadata": {},
   "outputs": [
    {
     "name": "stdout",
     "output_type": "stream",
     "text": [
      "  ipaddressmerchant  ORDERID  DOWNGRADE  DOWNGRADE_PERC\n",
      "0       10.64.10.46        6      0.000           0.000\n",
      "1       114.80.10.1       32      4.000           0.125\n",
      "2    202.60.225.153    29636  10150.000           0.342\n",
      "3     210.13.114.43    16445   5303.000           0.322\n",
      "4    45.251.106.193     1111    328.000           0.295\n"
     ]
    }
   ],
   "source": [
    "#EIRF Included\n",
    "#clean-up the data to ensure only IP addresses are being accounted\n",
    "ip=df[['ipaddressmerchant','ORDERID','DOWNGRADE']][(df['ipaddressmerchant']!='CREDIT')&(df['ipaddressmerchant']!='DEBIT')&(df['ipaddressmerchant']!='(null)')]\n",
    "#group the data together in a pivot format to do deeper analysis of the transactional data\n",
    "ip=ip.groupby(['ipaddressmerchant'],as_index=False).agg({'ORDERID':'count','DOWNGRADE':'sum'})\n",
    "ip['DOWNGRADE_PERC']=ip['DOWNGRADE']/ip['ORDERID']\n",
    "print ip.head()"
   ]
  },
  {
   "cell_type": "code",
   "execution_count": 29,
   "metadata": {},
   "outputs": [
    {
     "name": "stdout",
     "output_type": "stream",
     "text": [
      "  ipaddressmerchant  ORDERID  DOWNGRADE  DOWNGRADE_PERC\n",
      "0       10.64.10.46        3      0.000           0.000\n",
      "1       114.80.10.1       30      2.000           0.067\n",
      "2    202.60.225.153    21603   6775.000           0.314\n",
      "3     210.13.114.43    13631   2833.000           0.208\n",
      "4    45.251.106.193      951    169.000           0.178\n"
     ]
    }
   ],
   "source": [
    "#EIRF Excluded\n",
    "#clean-up the data to ensure only IP addresses are being accounted\n",
    "ip=df[['ipaddressmerchant','ORDERID','DOWNGRADE']][(df['ipaddressmerchant']!='CREDIT')&(df['ipaddressmerchant']!='DEBIT')&(df['ipaddressmerchant']!='(null)')&(df['EIRF']==0)]\n",
    "#group the data together in a pivot format to do deeper analysis of the transactional data\n",
    "ip=ip.groupby(['ipaddressmerchant'],as_index=False).agg({'ORDERID':'count','DOWNGRADE':'sum'})\n",
    "ip['DOWNGRADE_PERC']=ip['DOWNGRADE']/ip['ORDERID']\n",
    "print ip.head()"
   ]
  },
  {
   "cell_type": "code",
   "execution_count": 30,
   "metadata": {},
   "outputs": [
    {
     "name": "stdout",
     "output_type": "stream",
     "text": [
      "  ipaddressmerchant RECEIVEDDATE  ORDERID  DOWNGRADE  DOWNGRADE_PERC\n",
      "0       10.64.10.46      2017/07        3      0.000           0.000\n",
      "1       114.80.10.1      2018/03       30      2.000           0.067\n",
      "2    202.60.225.153      2017/07      274     58.000           0.212\n",
      "3    202.60.225.153      2017/08     1251    218.000           0.174\n",
      "4    202.60.225.153      2017/12     4216    432.000           0.102\n"
     ]
    }
   ],
   "source": [
    "#EIRF Excluded\n",
    "#clean-up the data to ensure only IP addresses are being accounted\n",
    "ip=df[['ipaddressmerchant','RECEIVEDDATE','ORDERID','DOWNGRADE']][(df['ipaddressmerchant']!='CREDIT')&(df['ipaddressmerchant']!='DEBIT')&(df['ipaddressmerchant']!='(null)')&(df['EIRF']==0)]\n",
    "#group the data together in a pivot format to do deeper analysis of the transactional data\n",
    "ip=ip.groupby(['ipaddressmerchant','RECEIVEDDATE'],as_index=False).agg({'ORDERID':'count','DOWNGRADE':'sum'})\n",
    "ip['DOWNGRADE_PERC']=ip['DOWNGRADE']/ip['ORDERID']\n",
    "print ip.head()"
   ]
  },
  {
   "cell_type": "code",
   "execution_count": 31,
   "metadata": {},
   "outputs": [],
   "source": [
    "#we need to ask ourselves how much of this is skyscanner?"
   ]
  },
  {
   "cell_type": "code",
   "execution_count": 32,
   "metadata": {},
   "outputs": [],
   "source": [
    "#lets have a look at the skyscanner breakdown by IP"
   ]
  },
  {
   "cell_type": "code",
   "execution_count": 33,
   "metadata": {},
   "outputs": [],
   "source": [
    "df.to_csv('d:\\\\djohnson\\\\Desktop\\\\ctrip_output.txt',sep=';')"
   ]
  }
 ],
 "metadata": {
  "anaconda-cloud": {},
  "kernelspec": {
   "display_name": "Python 2",
   "language": "python",
   "name": "python2"
  },
  "language_info": {
   "codemirror_mode": {
    "name": "ipython",
    "version": 2
   },
   "file_extension": ".py",
   "mimetype": "text/x-python",
   "name": "python",
   "nbconvert_exporter": "python",
   "pygments_lexer": "ipython2",
   "version": "2.7.12"
  }
 },
 "nbformat": 4,
 "nbformat_minor": 1
}
