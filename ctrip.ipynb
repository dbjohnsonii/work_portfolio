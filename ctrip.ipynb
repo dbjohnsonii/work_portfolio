{
 "cells": [
  {
   "cell_type": "code",
   "execution_count": 1,
   "metadata": {
    "collapsed": false
   },
   "outputs": [
    {
     "data": {
      "text/html": [
       "<style>.container { width:95% !important; }</style>"
      ],
      "text/plain": [
       "<IPython.core.display.HTML object>"
      ]
     },
     "metadata": {},
     "output_type": "display_data"
    },
    {
     "name": "stdout",
     "output_type": "stream",
     "text": [
      "2.7.12 |Anaconda 4.2.0 (64-bit)| (default, Jun 29 2016, 11:07:13) [MSC v.1500 64 bit (AMD64)]\n"
     ]
    }
   ],
   "source": [
    "from IPython.core.display import display, HTML\n",
    "display(HTML(\"<style>.container { width:95% !important; }</style>\"))\n",
    "import sys\n",
    "print (sys.version)"
   ]
  },
  {
   "cell_type": "code",
   "execution_count": 2,
   "metadata": {
    "collapsed": true
   },
   "outputs": [],
   "source": [
    "import pandas as pd\n",
    "import numpy as np"
   ]
  },
  {
   "cell_type": "code",
   "execution_count": 69,
   "metadata": {
    "collapsed": false
   },
   "outputs": [],
   "source": [
    "from bokeh.plotting import figure, output_file, show\n",
    "from bokeh.models import DatetimeTickFormatter\n",
    "from bokeh.io import output_file, show\n",
    "from bokeh.layouts import row\n",
    "from bokeh.layouts import column\n",
    "from bokeh.layouts import gridplot\n",
    "from bokeh.models import Button\n",
    "from bokeh.palettes import RdYlBu3\n",
    "from bokeh.plotting import figure, curdoc\n",
    "from bokeh.layouts import widgetbox\n",
    "from bokeh.models.widgets import MultiSelect\n",
    "from bokeh.models.glyphs import VBar\n",
    "from bokeh.models import LinearAxis, Range1d\n",
    "from bokeh.models import ColumnDataSource, FactorRange\n",
    "from bokeh.models.widgets import Panel, Tabs\n",
    "from bokeh.models.widgets import Paragraph"
   ]
  },
  {
   "cell_type": "code",
   "execution_count": 4,
   "metadata": {
    "collapsed": false
   },
   "outputs": [
    {
     "data": {
      "text/html": [
       "\n",
       "    <div class=\"bk-root\">\n",
       "        <a href=\"http://bokeh.pydata.org\" target=\"_blank\" class=\"bk-logo bk-logo-small bk-logo-notebook\"></a>\n",
       "        <span id=\"51504d9e-824c-4f96-a0ae-4c66d6a1091e\">Loading BokehJS ...</span>\n",
       "    </div>"
      ]
     },
     "metadata": {},
     "output_type": "display_data"
    },
    {
     "data": {
      "application/javascript": [
       "\n",
       "(function(global) {\n",
       "  function now() {\n",
       "    return new Date();\n",
       "  }\n",
       "\n",
       "  var force = \"1\";\n",
       "\n",
       "  if (typeof (window._bokeh_onload_callbacks) === \"undefined\" || force !== \"\") {\n",
       "    window._bokeh_onload_callbacks = [];\n",
       "    window._bokeh_is_loading = undefined;\n",
       "  }\n",
       "\n",
       "\n",
       "  \n",
       "  if (typeof (window._bokeh_timeout) === \"undefined\" || force !== \"\") {\n",
       "    window._bokeh_timeout = Date.now() + 5000;\n",
       "    window._bokeh_failed_load = false;\n",
       "  }\n",
       "\n",
       "  var NB_LOAD_WARNING = {'data': {'text/html':\n",
       "     \"<div style='background-color: #fdd'>\\n\"+\n",
       "     \"<p>\\n\"+\n",
       "     \"BokehJS does not appear to have successfully loaded. If loading BokehJS from CDN, this \\n\"+\n",
       "     \"may be due to a slow or bad network connection. Possible fixes:\\n\"+\n",
       "     \"</p>\\n\"+\n",
       "     \"<ul>\\n\"+\n",
       "     \"<li>re-rerun `output_notebook()` to attempt to load from CDN again, or</li>\\n\"+\n",
       "     \"<li>use INLINE resources instead, as so:</li>\\n\"+\n",
       "     \"</ul>\\n\"+\n",
       "     \"<code>\\n\"+\n",
       "     \"from bokeh.resources import INLINE\\n\"+\n",
       "     \"output_notebook(resources=INLINE)\\n\"+\n",
       "     \"</code>\\n\"+\n",
       "     \"</div>\"}};\n",
       "\n",
       "  function display_loaded() {\n",
       "    if (window.Bokeh !== undefined) {\n",
       "      Bokeh.$(\"#51504d9e-824c-4f96-a0ae-4c66d6a1091e\").text(\"BokehJS successfully loaded.\");\n",
       "    } else if (Date.now() < window._bokeh_timeout) {\n",
       "      setTimeout(display_loaded, 100)\n",
       "    }\n",
       "  }\n",
       "\n",
       "  function run_callbacks() {\n",
       "    window._bokeh_onload_callbacks.forEach(function(callback) { callback() });\n",
       "    delete window._bokeh_onload_callbacks\n",
       "    console.info(\"Bokeh: all callbacks have finished\");\n",
       "  }\n",
       "\n",
       "  function load_libs(js_urls, callback) {\n",
       "    window._bokeh_onload_callbacks.push(callback);\n",
       "    if (window._bokeh_is_loading > 0) {\n",
       "      console.log(\"Bokeh: BokehJS is being loaded, scheduling callback at\", now());\n",
       "      return null;\n",
       "    }\n",
       "    if (js_urls == null || js_urls.length === 0) {\n",
       "      run_callbacks();\n",
       "      return null;\n",
       "    }\n",
       "    console.log(\"Bokeh: BokehJS not loaded, scheduling load and callback at\", now());\n",
       "    window._bokeh_is_loading = js_urls.length;\n",
       "    for (var i = 0; i < js_urls.length; i++) {\n",
       "      var url = js_urls[i];\n",
       "      var s = document.createElement('script');\n",
       "      s.src = url;\n",
       "      s.async = false;\n",
       "      s.onreadystatechange = s.onload = function() {\n",
       "        window._bokeh_is_loading--;\n",
       "        if (window._bokeh_is_loading === 0) {\n",
       "          console.log(\"Bokeh: all BokehJS libraries loaded\");\n",
       "          run_callbacks()\n",
       "        }\n",
       "      };\n",
       "      s.onerror = function() {\n",
       "        console.warn(\"failed to load library \" + url);\n",
       "      };\n",
       "      console.log(\"Bokeh: injecting script tag for BokehJS library: \", url);\n",
       "      document.getElementsByTagName(\"head\")[0].appendChild(s);\n",
       "    }\n",
       "  };var element = document.getElementById(\"51504d9e-824c-4f96-a0ae-4c66d6a1091e\");\n",
       "  if (element == null) {\n",
       "    console.log(\"Bokeh: ERROR: autoload.js configured with elementid '51504d9e-824c-4f96-a0ae-4c66d6a1091e' but no matching script tag was found. \")\n",
       "    return false;\n",
       "  }\n",
       "\n",
       "  var js_urls = ['https://cdn.pydata.org/bokeh/release/bokeh-0.12.2.min.js', 'https://cdn.pydata.org/bokeh/release/bokeh-widgets-0.12.2.min.js', 'https://cdn.pydata.org/bokeh/release/bokeh-compiler-0.12.2.min.js'];\n",
       "\n",
       "  var inline_js = [\n",
       "    function(Bokeh) {\n",
       "      Bokeh.set_log_level(\"info\");\n",
       "    },\n",
       "    \n",
       "    function(Bokeh) {\n",
       "      \n",
       "      Bokeh.$(\"#51504d9e-824c-4f96-a0ae-4c66d6a1091e\").text(\"BokehJS is loading...\");\n",
       "    },\n",
       "    function(Bokeh) {\n",
       "      console.log(\"Bokeh: injecting CSS: https://cdn.pydata.org/bokeh/release/bokeh-0.12.2.min.css\");\n",
       "      Bokeh.embed.inject_css(\"https://cdn.pydata.org/bokeh/release/bokeh-0.12.2.min.css\");\n",
       "      console.log(\"Bokeh: injecting CSS: https://cdn.pydata.org/bokeh/release/bokeh-widgets-0.12.2.min.css\");\n",
       "      Bokeh.embed.inject_css(\"https://cdn.pydata.org/bokeh/release/bokeh-widgets-0.12.2.min.css\");\n",
       "    }\n",
       "  ];\n",
       "\n",
       "  function run_inline_js() {\n",
       "    \n",
       "    if ((window.Bokeh !== undefined) || (force === \"1\")) {\n",
       "      for (var i = 0; i < inline_js.length; i++) {\n",
       "        inline_js[i](window.Bokeh);\n",
       "      }if (force === \"1\") {\n",
       "        display_loaded();\n",
       "      }} else if (Date.now() < window._bokeh_timeout) {\n",
       "      setTimeout(run_inline_js, 100);\n",
       "    } else if (!window._bokeh_failed_load) {\n",
       "      console.log(\"Bokeh: BokehJS failed to load within specified timeout.\");\n",
       "      window._bokeh_failed_load = true;\n",
       "    } else if (!force) {\n",
       "      var cell = $(\"#51504d9e-824c-4f96-a0ae-4c66d6a1091e\").parents('.cell').data().cell;\n",
       "      cell.output_area.append_execute_result(NB_LOAD_WARNING)\n",
       "    }\n",
       "\n",
       "  }\n",
       "\n",
       "  if (window._bokeh_is_loading === 0) {\n",
       "    console.log(\"Bokeh: BokehJS loaded, going straight to plotting\");\n",
       "    run_inline_js();\n",
       "  } else {\n",
       "    load_libs(js_urls, function() {\n",
       "      console.log(\"Bokeh: BokehJS plotting callback run at\", now());\n",
       "      run_inline_js();\n",
       "    });\n",
       "  }\n",
       "}(this));"
      ]
     },
     "metadata": {},
     "output_type": "display_data"
    }
   ],
   "source": [
    "from bokeh import __version__ as bokeh_version\n",
    "from bokeh.io import output_notebook, show\n",
    "from bokeh.plotting import figure\n",
    "\n",
    "output_notebook()"
   ]
  },
  {
   "cell_type": "code",
   "execution_count": 5,
   "metadata": {
    "collapsed": true
   },
   "outputs": [],
   "source": [
    "columns=['STATUSID','RECEIVEDDATE','DATEAUTHORISATION','SENDDATE','PAYMENTDATE','STATUSDATE'\n",
    "         ,'MERCHANTID','MERCHANTNAME','ORDERID','CREDITCARDCOMPANY','CREDITDEBITINDICATOR'\n",
    "         ,'CVVINDICATOR','CVVRESULT','CVVSERVICEINDICATOR','AVSINDICATOR','AVSRESULT','FRAUDCODE'\n",
    "         ,'FRAUDINDICATOR','FRAUDRESULT','STTINDICATOR','MERCHANTREFERENCE','PAYMENTREFERENCE'\n",
    "         ,'CUSTOMERID','COUNTRYCODE','AUTHORISEDCURRENCYCODE','AUTHORISEDAMOUNT','AMOUNT','SURNAME'\n",
    "         ,'CITY','PREFIXSURNAME','STREET','ZIP','STATE','PROVIDERNAME','PAYMENTPROCESSOR','SERVICEPROVIDERID'\n",
    "         ,'PAYMENTMETHODID','PAYMENTPRODUCTID','IIN','CVVINDICATOR','CVVDESC','AVSDESC','AVS_RESPONSE','CONS_CORP_BIN'\n",
    "         ,'INTERCHANGE_RATE','INTERCHANGE_PERCENT_RATE','INTERCHANGE_FLAT_RATE','TRANSACTION_FLOW','ISSUING_BANK','CARD_SCHEME_BIN'\n",
    "         ,'CRED_DEB_BIN','ipaddressmerchant']"
   ]
  },
  {
   "cell_type": "code",
   "execution_count": 6,
   "metadata": {
    "collapsed": false
   },
   "outputs": [
    {
     "name": "stderr",
     "output_type": "stream",
     "text": [
      "C:\\Users\\djohnson\\AppData\\Local\\Continuum\\Anaconda2\\lib\\site-packages\\IPython\\core\\interactiveshell.py:2717: DtypeWarning: Columns (0,34,45,46,47) have mixed types. Specify dtype option on import or set low_memory=False.\n",
      "  interactivity=interactivity, compiler=compiler, result=result)\n"
     ]
    }
   ],
   "source": [
    "df=pd.read_csv('d:\\\\djohnson\\\\Desktop\\\\ctrip2.txt',skiprows=82,sep=';',error_bad_lines=False,warn_bad_lines=False,names=columns)"
   ]
  },
  {
   "cell_type": "code",
   "execution_count": 7,
   "metadata": {
    "collapsed": false
   },
   "outputs": [],
   "source": [
    "dg_df=pd.read_csv('d:\\\\djohnson\\\\Desktop\\\\vantiv_downgrades.csv',error_bad_lines=False,warn_bad_lines=False)"
   ]
  },
  {
   "cell_type": "code",
   "execution_count": 8,
   "metadata": {
    "collapsed": false
   },
   "outputs": [],
   "source": [
    "df=df.drop(len(df)-1)"
   ]
  },
  {
   "cell_type": "code",
   "execution_count": 9,
   "metadata": {
    "collapsed": false
   },
   "outputs": [],
   "source": [
    "df['AMOUNT']=df['AMOUNT'].astype(float)\n",
    "df['STATUSID']=df['STATUSID'].astype(float)\n",
    "df['INTERCHANGE_RATE']=df['INTERCHANGE_RATE'].str.strip()\n",
    "df['AVS_RESPONSE']=df['AVS_RESPONSE'].str.strip()\n",
    "df['CREDITDEBITINDICATOR']=df['CREDITDEBITINDICATOR'].str.strip()\n",
    "df['CARD_SCHEME_BIN']=df['CARD_SCHEME_BIN'].str.strip()\n",
    "df['ipaddressmerchant']=df['ipaddressmerchant'].str.strip()\n",
    "df['RECEIVEDDATE']=pd.to_datetime(df['RECEIVEDDATE'])\n",
    "df['DATEAUTHORISATION']=pd.to_datetime(df['DATEAUTHORISATION'])\n",
    "df['SENDDATE']=pd.to_datetime(df['SENDDATE'])\n",
    "df['PAYMENTDATE']=pd.to_datetime(df['PAYMENTDATE'])\n",
    "df['STATUSDATE']=pd.to_datetime(df['STATUSDATE'])"
   ]
  },
  {
   "cell_type": "code",
   "execution_count": 10,
   "metadata": {
    "collapsed": false
   },
   "outputs": [],
   "source": [
    "df['RECEIVEDDATE']=df['RECEIVEDDATE'].dt.strftime('%Y/%m')\n",
    "df['DATEAUTHORISATION']=df['DATEAUTHORISATION'].dt.strftime('%Y/%m')\n",
    "df['SENDDATE']=df['SENDDATE'].dt.strftime('%Y/%m')\n",
    "df['PAYMENTDATE']=df['PAYMENTDATE'].dt.strftime('%Y/%m')\n",
    "df['STATUSDATE']=df['STATUSDATE'].dt.strftime('%Y/%m')"
   ]
  },
  {
   "cell_type": "code",
   "execution_count": 11,
   "metadata": {
    "collapsed": false
   },
   "outputs": [],
   "source": [
    "#df.info()"
   ]
  },
  {
   "cell_type": "code",
   "execution_count": 12,
   "metadata": {
    "collapsed": false
   },
   "outputs": [
    {
     "data": {
      "text/html": [
       "<div>\n",
       "<table border=\"1\" class=\"dataframe\">\n",
       "  <thead>\n",
       "    <tr style=\"text-align: right;\">\n",
       "      <th></th>\n",
       "      <th>INTERCHANGE_RATE</th>\n",
       "      <th>Corporate Purchasing</th>\n",
       "      <th>Interregional</th>\n",
       "      <th>DOWNGRADE</th>\n",
       "      <th>EIRF</th>\n",
       "      <th>INTERCHANGE_PERCENT_RATE</th>\n",
       "      <th>INTERCHANGE_FLAT_RATE</th>\n",
       "      <th>INTEGRITYFEE</th>\n",
       "    </tr>\n",
       "  </thead>\n",
       "  <tbody>\n",
       "    <tr>\n",
       "      <th>0</th>\n",
       "      <td>VI U.S. Regulated Debit</td>\n",
       "      <td>0</td>\n",
       "      <td>0</td>\n",
       "      <td>0</td>\n",
       "      <td>0</td>\n",
       "      <td>0.0005</td>\n",
       "      <td>0.22</td>\n",
       "      <td>0.0</td>\n",
       "    </tr>\n",
       "    <tr>\n",
       "      <th>1</th>\n",
       "      <td>MC Consumer T&amp;E World Elite</td>\n",
       "      <td>0</td>\n",
       "      <td>0</td>\n",
       "      <td>0</td>\n",
       "      <td>0</td>\n",
       "      <td>0.0275</td>\n",
       "      <td>0.10</td>\n",
       "      <td>0.0</td>\n",
       "    </tr>\n",
       "    <tr>\n",
       "      <th>2</th>\n",
       "      <td>MC Consumer Merit 1</td>\n",
       "      <td>0</td>\n",
       "      <td>0</td>\n",
       "      <td>0</td>\n",
       "      <td>0</td>\n",
       "      <td>0.0189</td>\n",
       "      <td>0.10</td>\n",
       "      <td>0.0</td>\n",
       "    </tr>\n",
       "    <tr>\n",
       "      <th>3</th>\n",
       "      <td>VI Consumer Standard Credit</td>\n",
       "      <td>0</td>\n",
       "      <td>0</td>\n",
       "      <td>1</td>\n",
       "      <td>0</td>\n",
       "      <td>0.0270</td>\n",
       "      <td>0.10</td>\n",
       "      <td>0.1</td>\n",
       "    </tr>\n",
       "    <tr>\n",
       "      <th>4</th>\n",
       "      <td>VI Consumer EIRF Signature Preferred Credit</td>\n",
       "      <td>0</td>\n",
       "      <td>0</td>\n",
       "      <td>1</td>\n",
       "      <td>1</td>\n",
       "      <td>0.0240</td>\n",
       "      <td>0.10</td>\n",
       "      <td>0.1</td>\n",
       "    </tr>\n",
       "  </tbody>\n",
       "</table>\n",
       "</div>"
      ],
      "text/plain": [
       "                              INTERCHANGE_RATE  Corporate Purchasing  \\\n",
       "0                      VI U.S. Regulated Debit                     0   \n",
       "1                  MC Consumer T&E World Elite                     0   \n",
       "2                          MC Consumer Merit 1                     0   \n",
       "3                  VI Consumer Standard Credit                     0   \n",
       "4  VI Consumer EIRF Signature Preferred Credit                     0   \n",
       "\n",
       "   Interregional  DOWNGRADE  EIRF  INTERCHANGE_PERCENT_RATE  \\\n",
       "0              0          0     0                    0.0005   \n",
       "1              0          0     0                    0.0275   \n",
       "2              0          0     0                    0.0189   \n",
       "3              0          1     0                    0.0270   \n",
       "4              0          1     1                    0.0240   \n",
       "\n",
       "   INTERCHANGE_FLAT_RATE  INTEGRITYFEE  \n",
       "0                   0.22           0.0  \n",
       "1                   0.10           0.0  \n",
       "2                   0.10           0.0  \n",
       "3                   0.10           0.1  \n",
       "4                   0.10           0.1  "
      ]
     },
     "execution_count": 12,
     "metadata": {},
     "output_type": "execute_result"
    }
   ],
   "source": [
    "dg_df.head()"
   ]
  },
  {
   "cell_type": "code",
   "execution_count": 33,
   "metadata": {
    "collapsed": false
   },
   "outputs": [
    {
     "data": {
      "text/html": [
       "<div>\n",
       "<table border=\"1\" class=\"dataframe\">\n",
       "  <thead>\n",
       "    <tr style=\"text-align: right;\">\n",
       "      <th></th>\n",
       "      <th>STATUSID</th>\n",
       "      <th>RECEIVEDDATE</th>\n",
       "      <th>DATEAUTHORISATION</th>\n",
       "      <th>SENDDATE</th>\n",
       "      <th>PAYMENTDATE</th>\n",
       "      <th>STATUSDATE</th>\n",
       "      <th>MERCHANTID</th>\n",
       "      <th>MERCHANTNAME</th>\n",
       "      <th>ORDERID</th>\n",
       "      <th>CREDITCARDCOMPANY</th>\n",
       "      <th>...</th>\n",
       "      <th>CARD_SCHEME_BIN</th>\n",
       "      <th>CRED_DEB_BIN</th>\n",
       "      <th>ipaddressmerchant</th>\n",
       "      <th>Corporate Purchasing</th>\n",
       "      <th>Interregional</th>\n",
       "      <th>DOWNGRADE</th>\n",
       "      <th>EIRF</th>\n",
       "      <th>INTERCHANGE_PERCENT_RATE_y</th>\n",
       "      <th>INTERCHANGE_FLAT_RATE_y</th>\n",
       "      <th>INTEGRITYFEE</th>\n",
       "    </tr>\n",
       "  </thead>\n",
       "  <tbody>\n",
       "    <tr>\n",
       "      <th>0</th>\n",
       "      <td>1050.0</td>\n",
       "      <td>2017/08</td>\n",
       "      <td>2017/08</td>\n",
       "      <td>2017/08</td>\n",
       "      <td>2017/08</td>\n",
       "      <td>2017/08</td>\n",
       "      <td>4856.0</td>\n",
       "      <td>CTRIP INTERNATIONAL TRAVEL (U.</td>\n",
       "      <td>4.000009e+09</td>\n",
       "      <td>VISA</td>\n",
       "      <td>...</td>\n",
       "      <td>VISA</td>\n",
       "      <td>CREDIT</td>\n",
       "      <td>202.60.225.153</td>\n",
       "      <td>0.0</td>\n",
       "      <td>0.0</td>\n",
       "      <td>1.0</td>\n",
       "      <td>0.0</td>\n",
       "      <td>0.0270</td>\n",
       "      <td>0.10</td>\n",
       "      <td>0.1</td>\n",
       "    </tr>\n",
       "    <tr>\n",
       "      <th>1</th>\n",
       "      <td>1050.0</td>\n",
       "      <td>2017/08</td>\n",
       "      <td>2017/08</td>\n",
       "      <td>2017/08</td>\n",
       "      <td>2017/08</td>\n",
       "      <td>2017/08</td>\n",
       "      <td>4856.0</td>\n",
       "      <td>CTRIP INTERNATIONAL TRAVEL (U.</td>\n",
       "      <td>4.000008e+09</td>\n",
       "      <td>VISA</td>\n",
       "      <td>...</td>\n",
       "      <td>VISA</td>\n",
       "      <td>DEBIT</td>\n",
       "      <td>202.60.225.153</td>\n",
       "      <td>0.0</td>\n",
       "      <td>0.0</td>\n",
       "      <td>0.0</td>\n",
       "      <td>0.0</td>\n",
       "      <td>0.0005</td>\n",
       "      <td>0.22</td>\n",
       "      <td>0.0</td>\n",
       "    </tr>\n",
       "    <tr>\n",
       "      <th>2</th>\n",
       "      <td>1050.0</td>\n",
       "      <td>2017/07</td>\n",
       "      <td>2017/07</td>\n",
       "      <td>2017/07</td>\n",
       "      <td>2017/07</td>\n",
       "      <td>2017/07</td>\n",
       "      <td>4856.0</td>\n",
       "      <td>CTRIP INTERNATIONAL TRAVEL (U.</td>\n",
       "      <td>4.000000e+09</td>\n",
       "      <td>ECMC</td>\n",
       "      <td>...</td>\n",
       "      <td>VISA</td>\n",
       "      <td>CREDIT</td>\n",
       "      <td>10.64.10.46</td>\n",
       "      <td>0.0</td>\n",
       "      <td>0.0</td>\n",
       "      <td>0.0</td>\n",
       "      <td>0.0</td>\n",
       "      <td>0.0195</td>\n",
       "      <td>0.10</td>\n",
       "      <td>0.0</td>\n",
       "    </tr>\n",
       "    <tr>\n",
       "      <th>3</th>\n",
       "      <td>1050.0</td>\n",
       "      <td>2017/08</td>\n",
       "      <td>2017/08</td>\n",
       "      <td>2017/08</td>\n",
       "      <td>2017/08</td>\n",
       "      <td>2017/08</td>\n",
       "      <td>4856.0</td>\n",
       "      <td>CTRIP INTERNATIONAL TRAVEL (U.</td>\n",
       "      <td>4.000008e+09</td>\n",
       "      <td>VISA</td>\n",
       "      <td>...</td>\n",
       "      <td>VISA</td>\n",
       "      <td>CREDIT</td>\n",
       "      <td>202.60.225.153</td>\n",
       "      <td>0.0</td>\n",
       "      <td>1.0</td>\n",
       "      <td>0.0</td>\n",
       "      <td>0.0</td>\n",
       "      <td>0.0160</td>\n",
       "      <td>0.00</td>\n",
       "      <td>0.0</td>\n",
       "    </tr>\n",
       "    <tr>\n",
       "      <th>4</th>\n",
       "      <td>1050.0</td>\n",
       "      <td>2017/08</td>\n",
       "      <td>2017/08</td>\n",
       "      <td>2017/08</td>\n",
       "      <td>2017/08</td>\n",
       "      <td>2017/08</td>\n",
       "      <td>4856.0</td>\n",
       "      <td>CTRIP INTERNATIONAL TRAVEL (U.</td>\n",
       "      <td>4.000008e+09</td>\n",
       "      <td>VISA</td>\n",
       "      <td>...</td>\n",
       "      <td>VISA</td>\n",
       "      <td>CREDIT</td>\n",
       "      <td>202.60.225.153</td>\n",
       "      <td>0.0</td>\n",
       "      <td>0.0</td>\n",
       "      <td>0.0</td>\n",
       "      <td>0.0</td>\n",
       "      <td>0.0160</td>\n",
       "      <td>0.00</td>\n",
       "      <td>0.0</td>\n",
       "    </tr>\n",
       "  </tbody>\n",
       "</table>\n",
       "<p>5 rows × 59 columns</p>\n",
       "</div>"
      ],
      "text/plain": [
       "   STATUSID RECEIVEDDATE DATEAUTHORISATION SENDDATE PAYMENTDATE STATUSDATE  \\\n",
       "0    1050.0      2017/08           2017/08  2017/08     2017/08    2017/08   \n",
       "1    1050.0      2017/08           2017/08  2017/08     2017/08    2017/08   \n",
       "2    1050.0      2017/07           2017/07  2017/07     2017/07    2017/07   \n",
       "3    1050.0      2017/08           2017/08  2017/08     2017/08    2017/08   \n",
       "4    1050.0      2017/08           2017/08  2017/08     2017/08    2017/08   \n",
       "\n",
       "   MERCHANTID                    MERCHANTNAME       ORDERID CREDITCARDCOMPANY  \\\n",
       "0      4856.0  CTRIP INTERNATIONAL TRAVEL (U.  4.000009e+09              VISA   \n",
       "1      4856.0  CTRIP INTERNATIONAL TRAVEL (U.  4.000008e+09              VISA   \n",
       "2      4856.0  CTRIP INTERNATIONAL TRAVEL (U.  4.000000e+09              ECMC   \n",
       "3      4856.0  CTRIP INTERNATIONAL TRAVEL (U.  4.000008e+09              VISA   \n",
       "4      4856.0  CTRIP INTERNATIONAL TRAVEL (U.  4.000008e+09              VISA   \n",
       "\n",
       "      ...      CARD_SCHEME_BIN               CRED_DEB_BIN ipaddressmerchant  \\\n",
       "0     ...                 VISA  CREDIT                       202.60.225.153   \n",
       "1     ...                 VISA  DEBIT                        202.60.225.153   \n",
       "2     ...                 VISA  CREDIT                          10.64.10.46   \n",
       "3     ...                 VISA  CREDIT                       202.60.225.153   \n",
       "4     ...                 VISA  CREDIT                       202.60.225.153   \n",
       "\n",
       "   Corporate Purchasing  Interregional DOWNGRADE EIRF  \\\n",
       "0                   0.0            0.0       1.0  0.0   \n",
       "1                   0.0            0.0       0.0  0.0   \n",
       "2                   0.0            0.0       0.0  0.0   \n",
       "3                   0.0            1.0       0.0  0.0   \n",
       "4                   0.0            0.0       0.0  0.0   \n",
       "\n",
       "  INTERCHANGE_PERCENT_RATE_y INTERCHANGE_FLAT_RATE_y INTEGRITYFEE  \n",
       "0                     0.0270                    0.10          0.1  \n",
       "1                     0.0005                    0.22          0.0  \n",
       "2                     0.0195                    0.10          0.0  \n",
       "3                     0.0160                    0.00          0.0  \n",
       "4                     0.0160                    0.00          0.0  \n",
       "\n",
       "[5 rows x 59 columns]"
      ]
     },
     "execution_count": 33,
     "metadata": {},
     "output_type": "execute_result"
    }
   ],
   "source": [
    "df.head()"
   ]
  },
  {
   "cell_type": "code",
   "execution_count": 14,
   "metadata": {
    "collapsed": true
   },
   "outputs": [],
   "source": [
    "df=pd.merge(df,dg_df,on='INTERCHANGE_RATE',how='left')"
   ]
  },
  {
   "cell_type": "markdown",
   "metadata": {
    "collapsed": true
   },
   "source": [
    "## Total Downgrades"
   ]
  },
  {
   "cell_type": "code",
   "execution_count": 73,
   "metadata": {
    "collapsed": false
   },
   "outputs": [
    {
     "name": "stderr",
     "output_type": "stream",
     "text": [
      "INFO:bokeh.core.state:Session output file 'downgrades.html' already exists, will be overwritten.\n"
     ]
    },
    {
     "name": "stdout",
     "output_type": "stream",
     "text": [
      "['2017/07', '2017/08', '2017/12', '2018/01', '2018/02', '2018/03', '2018/04', '2018/05', '2018/06']\n",
      "[0.028906648529161708, 0.12909441233140656, 0.203017084696474, 0.2568497962624701, 0.2288008965259619, 0.4924783881287863, 0.4185177705977383, 0.30361910412340554, 0.3220653789004458]\n",
      "[5881L, 2076L, 5502L, 7117L, 5354L, 14691L, 9904L, 6742L, 2692L]\n"
     ]
    }
   ],
   "source": [
    "count=df[['RECEIVEDDATE','DOWNGRADE']]\n",
    "count=count.groupby(['RECEIVEDDATE'],as_index=False).sum()\n",
    "orders=df[['RECEIVEDDATE','ORDERID']]\n",
    "orders=orders.groupby(['RECEIVEDDATE'],as_index=False).count()\n",
    "count=pd.merge(count,orders,how='left',on=['RECEIVEDDATE'])\n",
    "count['DOWNGRADE_PERCENTAGE']=count['DOWNGRADE']/count['ORDERID']\n",
    "\n",
    "#in order to feed the information from the dataframe into the bar chart we will need to convert the infromation into lists\n",
    "date=count['RECEIVEDDATE'].values.tolist() #x\n",
    "dg_count=count['DOWNGRADE_PERCENTAGE'].values.tolist() #y\n",
    "dg_orders=count['ORDERID'].values.tolist() #y2\n",
    "\n",
    "#let's review our dataframe variables now converted to lists\n",
    "print date\n",
    "print dg_count\n",
    "print dg_orders\n",
    "\n",
    "#let's have a look at the results in Bokeh\n",
    "output_file(\"downgrades.html\")\n",
    "\n",
    "x=date\n",
    "y=dg_count\n",
    "y2=dg_orders\n",
    "TOOLS=\"hover,save,wheel_zoom,pan\"\n",
    "\n",
    "\n",
    "p1 = figure(x_range=x,plot_height=500, title=\"Ctrip Downgrade Percentages\", toolbar_location=\"above\",tools=TOOLS)\n",
    "\n",
    "p1.vbar(x=date, top=y, width=0.9)\n",
    "p1.y_range = Range1d(0,1)\n",
    "p1.border_fill_color = \"whitesmoke\"\n",
    "p1.min_border_left = 80\n",
    "\n",
    "p1.xaxis.axis_label = \"Date\"\n",
    "p1.yaxis.axis_label = \"Downgrade Percentage\"\n",
    "\n",
    "p1.extra_y_ranges={\"y2\":Range1d(start=0,end=15000)}\n",
    "p1.line(x,y2,color=\"red\",y_range_name=\"y2\",line_width=3)\n",
    "p1.circle(x,y2,color=\"black\",y_range_name=\"y2\")\n",
    "p1.add_layout(LinearAxis(y_range_name=\"y2\"),'right')\n",
    "\n",
    "#show(p1)"
   ]
  },
  {
   "cell_type": "markdown",
   "metadata": {},
   "source": [
    "## Visa"
   ]
  },
  {
   "cell_type": "code",
   "execution_count": 75,
   "metadata": {
    "collapsed": false
   },
   "outputs": [
    {
     "name": "stderr",
     "output_type": "stream",
     "text": [
      "INFO:bokeh.core.state:Session output file 'downgrades.html' already exists, will be overwritten.\n"
     ]
    },
    {
     "name": "stdout",
     "output_type": "stream",
     "text": [
      "['2017/07', '2017/08', '2017/12', '2018/01', '2018/02', '2018/03', '2018/04', '2018/05', '2018/06']\n",
      "[0.3475177304964539, 0.287396937573616, 0.26997319034852546, 0.29142143748885324, 0.28721174004192873, 0.6266106989457243, 0.4938666666666667, 0.3516271904486809, 0.37734939759036146]\n",
      "[423L, 849L, 3730L, 5607L, 3816L, 10244L, 7500L, 5193L, 2075L]\n"
     ]
    }
   ],
   "source": [
    "#visa\n",
    "visa_sum=df[['RECEIVEDDATE','DOWNGRADE']][(df['CARD_SCHEME_BIN']=='VISA')]\n",
    "visa_sum=visa_sum.groupby(['RECEIVEDDATE'],as_index=False).sum()\n",
    "visa_count=df[['RECEIVEDDATE','ORDERID']][(df['CARD_SCHEME_BIN']=='VISA')]\n",
    "visa_count=visa_count.groupby(['RECEIVEDDATE'],as_index=False).count()\n",
    "visa_count=pd.merge(visa_count,visa_sum,how='left',on=['RECEIVEDDATE'])\n",
    "visa_count['DOWNGRADE_PERCENTAGE']=visa_count['DOWNGRADE']/visa_count['ORDERID']\n",
    "\n",
    "#in order to feed the information from the dataframe into the bar chart we will need to convert the infromation into lists\n",
    "date=visa_count['RECEIVEDDATE'].values.tolist() #x\n",
    "dg_count=visa_count['DOWNGRADE_PERCENTAGE'].values.tolist() #y\n",
    "dg_orders=visa_count['ORDERID'].values.tolist() #y2\n",
    "\n",
    "#let's review our dataframe variables now converted to lists\n",
    "print date\n",
    "print dg_count\n",
    "print dg_orders\n",
    "\n",
    "#let's have a look at the results in Bokeh\n",
    "output_file(\"downgrades.html\")\n",
    "\n",
    "x=date\n",
    "y=dg_count\n",
    "y2=dg_orders\n",
    "TOOLS=\"hover,save,wheel_zoom,pan\"\n",
    "\n",
    "\n",
    "p2 = figure(x_range=x,plot_height=500, title=\"Visa Ctrip Downgrade Percentages\", toolbar_location=\"above\",tools=TOOLS)\n",
    "\n",
    "p2.vbar(x=date, top=y, width=0.9)\n",
    "p2.y_range = Range1d(0,1)\n",
    "p2.border_fill_color = \"whitesmoke\"\n",
    "p2.min_border_left = 80\n",
    "\n",
    "\n",
    "p2.extra_y_ranges={\"y2\":Range1d(start=0,end=15000)}\n",
    "p2.line(x,y2,color=\"red\",y_range_name=\"y2\",line_width=3)\n",
    "p2.circle(x,y2,color=\"black\",y_range_name=\"y2\")\n",
    "p2.add_layout(LinearAxis(y_range_name=\"y2\"),'right')\n",
    "\n",
    "#show(p2)"
   ]
  },
  {
   "cell_type": "markdown",
   "metadata": {},
   "source": [
    "## MasterCard"
   ]
  },
  {
   "cell_type": "code",
   "execution_count": 76,
   "metadata": {
    "collapsed": false
   },
   "outputs": [
    {
     "name": "stderr",
     "output_type": "stream",
     "text": [
      "INFO:bokeh.core.state:Session output file 'downgrades.html' already exists, will be overwritten.\n"
     ]
    },
    {
     "name": "stdout",
     "output_type": "stream",
     "text": [
      "['2017/07', '2017/08', '2017/12', '2018/01', '2018/02', '2018/03', '2018/04', '2018/05', '2018/06']\n",
      "[0.08984375, 0.05240174672489083, 0.0937766410912191, 0.12847682119205298, 0.10813076278290025, 0.21311047270827893, 0.1834442595673877, 0.14276485788113696, 0.13614262560777957]\n",
      "[256L, 458L, 1173L, 1510L, 1193L, 3829L, 2404L, 1548L, 617L]\n"
     ]
    }
   ],
   "source": [
    "#masterCard\n",
    "mc_sum=df[['RECEIVEDDATE','DOWNGRADE']][(df['CARD_SCHEME_BIN']=='MASTERCARD')]\n",
    "mc_sum=mc_sum.groupby(['RECEIVEDDATE'],as_index=False).sum()\n",
    "mc_count=df[['RECEIVEDDATE','ORDERID']][(df['CARD_SCHEME_BIN']=='MASTERCARD')]\n",
    "mc_count=mc_count.groupby(['RECEIVEDDATE'],as_index=False).count()\n",
    "mc_count=pd.merge(mc_count,mc_sum,how='left',on=['RECEIVEDDATE'])\n",
    "mc_count['DOWNGRADE_PERCENTAGE']=mc_count['DOWNGRADE']/mc_count['ORDERID']\n",
    "\n",
    "#in order to feed the information from the dataframe into the bar chart we will need to convert the infromation into lists\n",
    "date=mc_count['RECEIVEDDATE'].values.tolist() #x\n",
    "dg_count=mc_count['DOWNGRADE_PERCENTAGE'].values.tolist() #y\n",
    "dg_orders=mc_count['ORDERID'].values.tolist() #y2\n",
    "\n",
    "#let's review our dataframe variables now converted to lists\n",
    "print date\n",
    "print dg_count\n",
    "print dg_orders\n",
    "\n",
    "#let's have a look at the results in Bokeh\n",
    "output_file(\"downgrades.html\")\n",
    "\n",
    "x=date\n",
    "y=dg_count\n",
    "y2=dg_orders\n",
    "TOOLS=\"hover,save,wheel_zoom,pan\"\n",
    "\n",
    "\n",
    "p3 = figure(x_range=x,plot_height=500, title=\"MasterCard Ctrip Downgrade Percentages\", toolbar_location=\"above\",tools=TOOLS)\n",
    "\n",
    "p3.vbar(x=date, top=y, width=0.9)\n",
    "p3.y_range = Range1d(0,1)\n",
    "p3.border_fill_color = \"whitesmoke\"\n",
    "p3.min_border_left = 80\n",
    "\n",
    "p3.extra_y_ranges={\"y2\":Range1d(start=0,end=15000)}\n",
    "p3.line(x,y2,color=\"red\",y_range_name=\"y2\",line_width=3)\n",
    "p3.circle(x,y2,color=\"black\",y_range_name=\"y2\")\n",
    "p3.add_layout(LinearAxis(y_range_name=\"y2\"),'right')\n",
    "\n",
    "#show(p3)"
   ]
  },
  {
   "cell_type": "markdown",
   "metadata": {},
   "source": [
    "## Total No EIRF"
   ]
  },
  {
   "cell_type": "code",
   "execution_count": 80,
   "metadata": {
    "collapsed": false
   },
   "outputs": [
    {
     "name": "stderr",
     "output_type": "stream",
     "text": [
      "INFO:bokeh.core.state:Session output file 'downgrades.html' already exists, will be overwritten.\n"
     ]
    },
    {
     "name": "stdout",
     "output_type": "stream",
     "text": [
      "['2017/07', '2017/08', '2017/12', '2018/01', '2018/02', '2018/03', '2018/04', '2018/05', '2018/06']\n",
      "[0.02414555347729978, 0.10500963391136801, 0.07851690294438386, 0.09456231558240832, 0.08890549122151663, 0.3577019944183514, 0.27221324717285944, 0.16226638979531297, 0.1901931649331352]\n",
      "[648L, 1251L, 4216L, 5962L, 4260L, 12093L, 8455L, 5787L, 2337L]\n"
     ]
    }
   ],
   "source": [
    "count_eirf=df[['RECEIVEDDATE','DOWNGRADE']][(df['EIRF']==0)]\n",
    "count_eirf=count_eirf.groupby(['RECEIVEDDATE'],as_index=False).sum()\n",
    "orders_eirf=df[['RECEIVEDDATE','ORDERID']][(df['EIRF']==0)]\n",
    "orders_eirf=orders_eirf.groupby(['RECEIVEDDATE'],as_index=False).count()\n",
    "count_eirf=pd.merge(count_eirf,orders_eirf,how='left',on=['RECEIVEDDATE'])\n",
    "count_eirf['DOWNGRADE_PERCENTAGE']=count_eirf['DOWNGRADE']/count['ORDERID']\n",
    "\n",
    "#in order to feed the information from the dataframe into the bar chart we will need to convert the infromation into lists\n",
    "date=count_eirf['RECEIVEDDATE'].values.tolist() #x\n",
    "dg_count=count_eirf['DOWNGRADE_PERCENTAGE'].values.tolist() #y\n",
    "dg_orders=count_eirf['ORDERID'].values.tolist() #y2\n",
    "\n",
    "#let's review our dataframe variables now converted to lists\n",
    "print date\n",
    "print dg_count\n",
    "print dg_orders\n",
    "\n",
    "#let's have a look at the results in Bokeh\n",
    "output_file(\"downgrades.html\")\n",
    "\n",
    "x=date\n",
    "y=dg_count\n",
    "y2=dg_orders\n",
    "TOOLS=\"hover,save,wheel_zoom,pan\"\n",
    "\n",
    "\n",
    "p4 = figure(x_range=x,plot_height=500, title=\"Ctrip Downgrade Percentages\", toolbar_location=\"above\",tools=TOOLS)\n",
    "\n",
    "p4.vbar(x=date, top=y, width=0.9)\n",
    "p4.y_range = Range1d(0,1)\n",
    "p4.border_fill_color = \"whitesmoke\"\n",
    "p4.min_border_left = 80\n",
    "\n",
    "p4.xaxis.axis_label = \"Date\"\n",
    "p4.yaxis.axis_label = \"Downgrade Percentage\"\n",
    "\n",
    "p4.extra_y_ranges={\"y2\":Range1d(start=0,end=15000)}\n",
    "p4.line(x,y2,color=\"red\",y_range_name=\"y2\",line_width=3)\n",
    "p4.circle(x,y2,color=\"black\",y_range_name=\"y2\")\n",
    "p4.add_layout(LinearAxis(y_range_name=\"y2\"),'right')\n",
    "\n",
    "#show(p4)"
   ]
  },
  {
   "cell_type": "markdown",
   "metadata": {},
   "source": [
    "## Visa No EIRF"
   ]
  },
  {
   "cell_type": "code",
   "execution_count": 77,
   "metadata": {
    "collapsed": false
   },
   "outputs": [
    {
     "name": "stderr",
     "output_type": "stream",
     "text": [
      "INFO:bokeh.core.state:Session output file 'downgrades.html' already exists, will be overwritten.\n"
     ]
    },
    {
     "name": "stdout",
     "output_type": "stream",
     "text": [
      "['2017/07', '2017/08', '2017/12', '2018/01', '2018/02', '2018/03', '2018/04', '2018/05', '2018/06']\n",
      "[0.31851851851851853, 0.25123762376237624, 0.1284433055733504, 0.13498802525582407, 0.13869537682077265, 0.5567786790266512, 0.3936102236421725, 0.2272205646086757, 0.2675736961451247]\n",
      "[405L, 808L, 3122L, 4593L, 3158L, 8630L, 6260L, 4357L, 1764L]\n"
     ]
    }
   ],
   "source": [
    "#visa\n",
    "visa_sum_eirf=df[['RECEIVEDDATE','DOWNGRADE']][(df['CARD_SCHEME_BIN']=='VISA')&(df['EIRF']==0)]\n",
    "visa_sum_eirf=visa_sum_eirf.groupby(['RECEIVEDDATE'],as_index=False).sum()\n",
    "visa_count_eirf=df[['RECEIVEDDATE','ORDERID']][(df['CARD_SCHEME_BIN']=='VISA')&(df['EIRF']==0)]\n",
    "visa_count_eirf=visa_count_eirf.groupby(['RECEIVEDDATE'],as_index=False).count()\n",
    "visa_count_eirf=pd.merge(visa_count_eirf,visa_sum_eirf,how='left',on=['RECEIVEDDATE'])\n",
    "visa_count_eirf['DOWNGRADE_PERCENTAGE']=visa_count_eirf['DOWNGRADE']/visa_count_eirf['ORDERID']\n",
    "\n",
    "#in order to feed the information from the dataframe into the bar chart we will need to convert the infromation into lists\n",
    "date=visa_count_eirf['RECEIVEDDATE'].values.tolist() #x\n",
    "dg_count=visa_count_eirf['DOWNGRADE_PERCENTAGE'].values.tolist() #y\n",
    "dg_orders=visa_count_eirf['ORDERID'].values.tolist() #y2\n",
    "\n",
    "#let's review our dataframe variables now converted to lists\n",
    "print date\n",
    "print dg_count\n",
    "print dg_orders\n",
    "\n",
    "#let's have a look at the results in Bokeh\n",
    "output_file(\"downgrades.html\")\n",
    "\n",
    "x=date\n",
    "y=dg_count\n",
    "y2=dg_orders\n",
    "TOOLS=\"hover,save,wheel_zoom,pan\"\n",
    "\n",
    "\n",
    "p5 = figure(x_range=x,plot_height=500, title=\"Visa Ctrip Downgrade Percentages\", toolbar_location=\"above\",tools=TOOLS)\n",
    "\n",
    "p5.vbar(x=date, top=y, width=0.9)\n",
    "p5.y_range = Range1d(0,1)\n",
    "p5.border_fill_color = \"whitesmoke\"\n",
    "p5.min_border_left = 80\n",
    "\n",
    "p5.extra_y_ranges={\"y2\":Range1d(start=0,end=15000)}\n",
    "p5.line(x,y2,color=\"red\",y_range_name=\"y2\",line_width=3)\n",
    "p5.circle(x,y2,color=\"black\",y_range_name=\"y2\")\n",
    "p5.add_layout(LinearAxis(y_range_name=\"y2\"),'right')\n",
    "\n",
    "#show(p5)"
   ]
  },
  {
   "cell_type": "markdown",
   "metadata": {},
   "source": [
    "## MasterCard No EIRF"
   ]
  },
  {
   "cell_type": "code",
   "execution_count": 78,
   "metadata": {
    "collapsed": false
   },
   "outputs": [
    {
     "name": "stderr",
     "output_type": "stream",
     "text": [
      "INFO:bokeh.core.state:Session output file 'downgrades.html' already exists, will be overwritten.\n"
     ]
    },
    {
     "name": "stdout",
     "output_type": "stream",
     "text": [
      "['2017/07', '2017/08', '2017/12', '2018/01', '2018/02', '2018/03', '2018/04', '2018/05', '2018/06']\n",
      "[0.053497942386831275, 0.033860045146726865, 0.0283363802559415, 0.03871439006574142, 0.034482758620689655, 0.12994513427663876, 0.10569476082004556, 0.07272727272727272, 0.06980802792321117]\n",
      "[243L, 443L, 1094L, 1369L, 1102L, 3463L, 2195L, 1430L, 573L]\n"
     ]
    }
   ],
   "source": [
    "#visa\n",
    "mc_sum_eirf=df[['RECEIVEDDATE','DOWNGRADE']][(df['CARD_SCHEME_BIN']=='MASTERCARD')&(df['EIRF']==0)]\n",
    "mc_sum_eirf=mc_sum_eirf.groupby(['RECEIVEDDATE'],as_index=False).sum()\n",
    "mc_count_eirf=df[['RECEIVEDDATE','ORDERID']][(df['CARD_SCHEME_BIN']=='MASTERCARD')&(df['EIRF']==0)]\n",
    "mc_count_eirf=mc_count_eirf.groupby(['RECEIVEDDATE'],as_index=False).count()\n",
    "mc_count_eirf=pd.merge(mc_count_eirf,mc_sum_eirf,how='left',on=['RECEIVEDDATE'])\n",
    "mc_count_eirf['DOWNGRADE_PERCENTAGE']=mc_count_eirf['DOWNGRADE']/mc_count_eirf['ORDERID']\n",
    "\n",
    "#in order to feed the information from the dataframe into the bar chart we will need to convert the infromation into lists\n",
    "date=mc_count_eirf['RECEIVEDDATE'].values.tolist() #x\n",
    "dg_count=mc_count_eirf['DOWNGRADE_PERCENTAGE'].values.tolist() #y\n",
    "dg_orders=mc_count_eirf['ORDERID'].values.tolist() #y2\n",
    "\n",
    "#let's review our dataframe variables now converted to lists\n",
    "print date\n",
    "print dg_count\n",
    "print dg_orders\n",
    "\n",
    "#let's have a look at the results in Bokeh\n",
    "output_file(\"downgrades.html\")\n",
    "\n",
    "x=date\n",
    "y=dg_count\n",
    "y2=dg_orders\n",
    "TOOLS=\"hover,save,wheel_zoom,pan\"\n",
    "\n",
    "\n",
    "p6 = figure(x_range=x,plot_height=500, title=\"MasterCard Ctrip Downgrade Percentages\", toolbar_location=\"above\",tools=TOOLS)\n",
    "\n",
    "p6.vbar(x=date, top=y, width=0.9)\n",
    "p6.y_range = Range1d(0,1)\n",
    "p6.border_fill_color = \"whitesmoke\"\n",
    "p6.min_border_left = 80\n",
    "\n",
    "p6.extra_y_ranges={\"y2\":Range1d(start=0,end=15000)}\n",
    "p6.line(x,y2,color=\"red\",y_range_name=\"y2\",line_width=3)\n",
    "p6.circle(x,y2,color=\"black\",y_range_name=\"y2\")\n",
    "p6.add_layout(LinearAxis(y_range_name=\"y2\"),'right')\n",
    "\n",
    "#show(p5)"
   ]
  },
  {
   "cell_type": "code",
   "execution_count": null,
   "metadata": {
    "collapsed": true
   },
   "outputs": [],
   "source": [
    "curdoc().clear() #since running script in Jupyter and asking to run in html the sessions can duplicate since it's not on a server but in the test environment this script clears the cache clears the document and prevents the duplication error\n",
    "\n",
    "grid1 = gridplot([[p1,p2,p3]])\n",
    "grid2 = gridplot([[p4,p5,p6]])\n",
    "\n",
    "tab1=Panel(child=grid1,title='Downgrades, Including EIRF')\n",
    "tab2=Panel(child=grid2,title='Downgrades, Excluding EIRF')\n",
    "\n",
    "tabs = Tabs(tabs=[tab1,tab2])\n",
    "\n",
    "show(tabs)"
   ]
  },
  {
   "cell_type": "markdown",
   "metadata": {},
   "source": [
    "## Lets Explore the IP Addresses"
   ]
  },
  {
   "cell_type": "code",
   "execution_count": 81,
   "metadata": {
    "collapsed": false
   },
   "outputs": [
    {
     "data": {
      "text/html": [
       "\n",
       "\n",
       "    <div class=\"bk-root\">\n",
       "        <div class=\"plotdiv\" id=\"d16db45f-9871-4553-90e2-f88661aae2d4\"></div>\n",
       "    </div>\n",
       "<script type=\"text/javascript\">\n",
       "  \n",
       "  (function(global) {\n",
       "    function now() {\n",
       "      return new Date();\n",
       "    }\n",
       "  \n",
       "    var force = \"\";\n",
       "  \n",
       "    if (typeof (window._bokeh_onload_callbacks) === \"undefined\" || force !== \"\") {\n",
       "      window._bokeh_onload_callbacks = [];\n",
       "      window._bokeh_is_loading = undefined;\n",
       "    }\n",
       "  \n",
       "  \n",
       "    \n",
       "    if (typeof (window._bokeh_timeout) === \"undefined\" || force !== \"\") {\n",
       "      window._bokeh_timeout = Date.now() + 0;\n",
       "      window._bokeh_failed_load = false;\n",
       "    }\n",
       "  \n",
       "    var NB_LOAD_WARNING = {'data': {'text/html':\n",
       "       \"<div style='background-color: #fdd'>\\n\"+\n",
       "       \"<p>\\n\"+\n",
       "       \"BokehJS does not appear to have successfully loaded. If loading BokehJS from CDN, this \\n\"+\n",
       "       \"may be due to a slow or bad network connection. Possible fixes:\\n\"+\n",
       "       \"</p>\\n\"+\n",
       "       \"<ul>\\n\"+\n",
       "       \"<li>re-rerun `output_notebook()` to attempt to load from CDN again, or</li>\\n\"+\n",
       "       \"<li>use INLINE resources instead, as so:</li>\\n\"+\n",
       "       \"</ul>\\n\"+\n",
       "       \"<code>\\n\"+\n",
       "       \"from bokeh.resources import INLINE\\n\"+\n",
       "       \"output_notebook(resources=INLINE)\\n\"+\n",
       "       \"</code>\\n\"+\n",
       "       \"</div>\"}};\n",
       "  \n",
       "    function display_loaded() {\n",
       "      if (window.Bokeh !== undefined) {\n",
       "        Bokeh.$(\"#d16db45f-9871-4553-90e2-f88661aae2d4\").text(\"BokehJS successfully loaded.\");\n",
       "      } else if (Date.now() < window._bokeh_timeout) {\n",
       "        setTimeout(display_loaded, 100)\n",
       "      }\n",
       "    }\n",
       "  \n",
       "    function run_callbacks() {\n",
       "      window._bokeh_onload_callbacks.forEach(function(callback) { callback() });\n",
       "      delete window._bokeh_onload_callbacks\n",
       "      console.info(\"Bokeh: all callbacks have finished\");\n",
       "    }\n",
       "  \n",
       "    function load_libs(js_urls, callback) {\n",
       "      window._bokeh_onload_callbacks.push(callback);\n",
       "      if (window._bokeh_is_loading > 0) {\n",
       "        console.log(\"Bokeh: BokehJS is being loaded, scheduling callback at\", now());\n",
       "        return null;\n",
       "      }\n",
       "      if (js_urls == null || js_urls.length === 0) {\n",
       "        run_callbacks();\n",
       "        return null;\n",
       "      }\n",
       "      console.log(\"Bokeh: BokehJS not loaded, scheduling load and callback at\", now());\n",
       "      window._bokeh_is_loading = js_urls.length;\n",
       "      for (var i = 0; i < js_urls.length; i++) {\n",
       "        var url = js_urls[i];\n",
       "        var s = document.createElement('script');\n",
       "        s.src = url;\n",
       "        s.async = false;\n",
       "        s.onreadystatechange = s.onload = function() {\n",
       "          window._bokeh_is_loading--;\n",
       "          if (window._bokeh_is_loading === 0) {\n",
       "            console.log(\"Bokeh: all BokehJS libraries loaded\");\n",
       "            run_callbacks()\n",
       "          }\n",
       "        };\n",
       "        s.onerror = function() {\n",
       "          console.warn(\"failed to load library \" + url);\n",
       "        };\n",
       "        console.log(\"Bokeh: injecting script tag for BokehJS library: \", url);\n",
       "        document.getElementsByTagName(\"head\")[0].appendChild(s);\n",
       "      }\n",
       "    };var element = document.getElementById(\"d16db45f-9871-4553-90e2-f88661aae2d4\");\n",
       "    if (element == null) {\n",
       "      console.log(\"Bokeh: ERROR: autoload.js configured with elementid 'd16db45f-9871-4553-90e2-f88661aae2d4' but no matching script tag was found. \")\n",
       "      return false;\n",
       "    }\n",
       "  \n",
       "    var js_urls = [];\n",
       "  \n",
       "    var inline_js = [\n",
       "      function(Bokeh) {\n",
       "        Bokeh.$(function() {\n",
       "            var docs_json = {\"811bb797-a9b3-4d80-9d37-43e9cabe8149\":{\"roots\":{\"references\":[{\"attributes\":{\"data_source\":{\"id\":\"c8108cbd-5396-4838-8ec2-0ae47277615d\",\"type\":\"ColumnDataSource\"},\"glyph\":{\"id\":\"ae2f231f-3764-4ade-9073-d91a59b0e856\",\"type\":\"VBar\"},\"hover_glyph\":null,\"nonselection_glyph\":{\"id\":\"4c543fff-6233-4192-81b6-111c40ca3d60\",\"type\":\"VBar\"},\"selection_glyph\":null},\"id\":\"8415c218-f25c-4c27-bc3b-a4cf9478a173\",\"type\":\"GlyphRenderer\"},{\"attributes\":{\"fill_color\":{\"value\":\"#1f77b4\"},\"line_color\":{\"value\":\"#1f77b4\"},\"top\":{\"field\":\"top\"},\"width\":{\"value\":0.9},\"x\":{\"field\":\"x\"}},\"id\":\"96740b3a-e224-4937-9300-2d65301609f1\",\"type\":\"VBar\"},{\"attributes\":{\"callback\":null,\"column_names\":[\"x\",\"top\"],\"data\":{\"top\":[0.02414555347729978,0.10500963391136801,0.07851690294438386,0.09456231558240832,0.08890549122151663,0.3577019944183514,0.27221324717285944,0.16226638979531297,0.1901931649331352],\"x\":[\"2017/07\",\"2017/08\",\"2017/12\",\"2018/01\",\"2018/02\",\"2018/03\",\"2018/04\",\"2018/05\",\"2018/06\"]}},\"id\":\"26f0c7b2-ee6e-4455-9e53-6086716815ee\",\"type\":\"ColumnDataSource\"},{\"attributes\":{\"below\":[{\"id\":\"90cd82cf-addd-4bcd-97b9-ef49dc66c698\",\"type\":\"CategoricalAxis\"}],\"border_fill_color\":{\"value\":\"whitesmoke\"},\"extra_y_ranges\":{\"y2\":{\"id\":\"781f2917-ef27-4cc8-a654-7f0224f804fc\",\"type\":\"Range1d\"}},\"left\":[{\"id\":\"3ae46db7-f3ba-4864-be32-6f0f9aea62a8\",\"type\":\"LinearAxis\"}],\"min_border_left\":80,\"plot_height\":500,\"renderers\":[{\"id\":\"90cd82cf-addd-4bcd-97b9-ef49dc66c698\",\"type\":\"CategoricalAxis\"},{\"id\":\"bec6d137-b3a8-4c42-89de-ce02efa8008a\",\"type\":\"Grid\"},{\"id\":\"3ae46db7-f3ba-4864-be32-6f0f9aea62a8\",\"type\":\"LinearAxis\"},{\"id\":\"2b3fc05a-e473-4aed-89a6-1b3c417d38cb\",\"type\":\"Grid\"},{\"id\":\"9f7f2e0b-fb95-49c7-afb1-4f517ec8b19c\",\"type\":\"GlyphRenderer\"},{\"id\":\"2165ce90-d79c-48c3-8d09-94b68ea3015d\",\"type\":\"GlyphRenderer\"},{\"id\":\"a7d93119-2940-49d6-84b4-b668c746885e\",\"type\":\"GlyphRenderer\"},{\"id\":\"ab3d6f78-60cf-45a5-a6ae-db9e82cf9707\",\"type\":\"LinearAxis\"}],\"right\":[{\"id\":\"ab3d6f78-60cf-45a5-a6ae-db9e82cf9707\",\"type\":\"LinearAxis\"}],\"title\":{\"id\":\"6533cdda-caf9-45fb-9787-9922de95127d\",\"type\":\"Title\"},\"tool_events\":{\"id\":\"29b8f3c3-b4da-4cf9-9e6b-fd8ce8f75c6c\",\"type\":\"ToolEvents\"},\"toolbar\":{\"id\":\"1c9c497e-5a3f-47a4-9559-859676ab5df8\",\"type\":\"Toolbar\"},\"toolbar_location\":null,\"x_range\":{\"id\":\"6a063e2b-3b4c-4bc2-a73c-3170406d2707\",\"type\":\"FactorRange\"},\"y_range\":{\"id\":\"1b70af97-cce8-4030-ba73-82e842d6296f\",\"type\":\"Range1d\"}},\"id\":\"5ce39922-da2d-44aa-869c-957c98fafb1d\",\"subtype\":\"Figure\",\"type\":\"Plot\"},{\"attributes\":{},\"id\":\"a8f76154-ada9-4a56-bf94-64885e3cf706\",\"type\":\"ToolEvents\"},{\"attributes\":{},\"id\":\"318b2e03-9f6d-450e-bb49-2646eb25414b\",\"type\":\"CategoricalTicker\"},{\"attributes\":{},\"id\":\"ea8ab0e5-5508-4ba9-b1f0-f7eb4628e801\",\"type\":\"BasicTicker\"},{\"attributes\":{\"active_drag\":\"auto\",\"active_scroll\":\"auto\",\"active_tap\":\"auto\",\"tools\":[{\"id\":\"25820825-9bf6-479b-8879-a1f5a5a450ff\",\"type\":\"HoverTool\"},{\"id\":\"b64a87f3-12a2-4177-8fb9-c435f0f18b76\",\"type\":\"SaveTool\"},{\"id\":\"646867c2-d213-4596-a483-27479f9ada81\",\"type\":\"WheelZoomTool\"},{\"id\":\"48766b93-93c2-4b02-996a-f5b5bd9666ec\",\"type\":\"PanTool\"}]},\"id\":\"4899e86d-4285-48bb-b1b5-0b70be180b49\",\"type\":\"Toolbar\"},{\"attributes\":{\"data_source\":{\"id\":\"8cfda673-8140-426c-9527-6986bde9ebfa\",\"type\":\"ColumnDataSource\"},\"glyph\":{\"id\":\"58b23197-0f26-4053-a4e1-63862993fd1e\",\"type\":\"Line\"},\"hover_glyph\":null,\"nonselection_glyph\":{\"id\":\"83aa382b-f8f0-4602-a2d1-3c5549a2b579\",\"type\":\"Line\"},\"selection_glyph\":null,\"y_range_name\":\"y2\"},\"id\":\"4b77e816-ec6c-4080-9761-ec85bf5a3337\",\"type\":\"GlyphRenderer\"},{\"attributes\":{},\"id\":\"ae0addb2-8609-42c6-8583-5328f53d6ef4\",\"type\":\"BasicTicker\"},{\"attributes\":{\"plot\":{\"id\":\"e8b5d1dc-37d2-4714-8e6b-b17923598ad0\",\"subtype\":\"Figure\",\"type\":\"Plot\"}},\"id\":\"97128c6f-8a96-41a1-9186-42d21c2d9e20\",\"type\":\"PanTool\"},{\"attributes\":{\"dimension\":1,\"plot\":{\"id\":\"e8b5d1dc-37d2-4714-8e6b-b17923598ad0\",\"subtype\":\"Figure\",\"type\":\"Plot\"},\"ticker\":{\"id\":\"ea8ab0e5-5508-4ba9-b1f0-f7eb4628e801\",\"type\":\"BasicTicker\"}},\"id\":\"7c3622b5-eb89-4a0a-8e91-51a9ecc0f409\",\"type\":\"Grid\"},{\"attributes\":{\"child\":{\"id\":\"06e47024-258c-4c75-8f53-3914fdf9b8f5\",\"type\":\"Column\"},\"title\":\"Downgrades, Excluding EIRF\"},\"id\":\"efab0346-0ed5-418d-a16f-9cec995d6809\",\"type\":\"Panel\"},{\"attributes\":{\"formatter\":{\"id\":\"0bd01ffd-d7a0-40a6-a987-24b48e330bd0\",\"type\":\"BasicTickFormatter\"},\"plot\":{\"id\":\"4dc12b77-e1ab-488c-9fba-54f222ddf21e\",\"subtype\":\"Figure\",\"type\":\"Plot\"},\"ticker\":{\"id\":\"ae0addb2-8609-42c6-8583-5328f53d6ef4\",\"type\":\"BasicTicker\"}},\"id\":\"d33f6293-0818-4382-9978-56d73c58bd6b\",\"type\":\"LinearAxis\"},{\"attributes\":{\"callback\":null},\"id\":\"79c9c6f7-050b-4455-adc6-411bb4f43696\",\"type\":\"Range1d\"},{\"attributes\":{\"line_color\":{\"value\":\"red\"},\"line_width\":{\"value\":3},\"x\":{\"field\":\"x\"},\"y\":{\"field\":\"y\"}},\"id\":\"7f75d4e6-e856-4601-86ee-01e7ef09d979\",\"type\":\"Line\"},{\"attributes\":{\"children\":[{\"id\":\"ef4273be-6ecb-448e-87ea-7495fa965a9c\",\"type\":\"Row\"}]},\"id\":\"80ec0aef-2342-471e-bc97-b996cf21d3b4\",\"type\":\"Column\"},{\"attributes\":{\"data_source\":{\"id\":\"87e0ccd9-8a9a-4389-8097-1cce268834f5\",\"type\":\"ColumnDataSource\"},\"glyph\":{\"id\":\"b6449804-e18f-4bfd-ad58-fad58f5a081d\",\"type\":\"Line\"},\"hover_glyph\":null,\"nonselection_glyph\":{\"id\":\"25f232ca-398b-4d81-97f4-37b864947a7a\",\"type\":\"Line\"},\"selection_glyph\":null,\"y_range_name\":\"y2\"},\"id\":\"d89b3cee-9a90-49cb-8afc-2d06a21578af\",\"type\":\"GlyphRenderer\"},{\"attributes\":{\"data_source\":{\"id\":\"588cbb0a-a0a2-431d-9f07-1362d0faed47\",\"type\":\"ColumnDataSource\"},\"glyph\":{\"id\":\"52bd9113-b2fc-409e-b5e6-aa64d231adcd\",\"type\":\"Circle\"},\"hover_glyph\":null,\"nonselection_glyph\":{\"id\":\"80b0ec3f-95df-49a8-b8f0-3de1266f1f1e\",\"type\":\"Circle\"},\"selection_glyph\":null,\"y_range_name\":\"y2\"},\"id\":\"8bec6325-d677-4f64-901c-2837568f7d19\",\"type\":\"GlyphRenderer\"},{\"attributes\":{},\"id\":\"0971ec46-b170-4a15-91a5-ba7002cfbef0\",\"type\":\"ToolEvents\"},{\"attributes\":{\"plot\":null,\"text\":\"MasterCard Ctrip Downgrade Percentages\"},\"id\":\"47ca8c58-fb47-491a-9261-128999438f4a\",\"type\":\"Title\"},{\"attributes\":{\"callback\":null,\"column_names\":[\"y\",\"x\"],\"data\":{\"x\":[\"2017/07\",\"2017/08\",\"2017/12\",\"2018/01\",\"2018/02\",\"2018/03\",\"2018/04\",\"2018/05\",\"2018/06\"],\"y\":[243,443,1094,1369,1102,3463,2195,1430,573]}},\"id\":\"87e0ccd9-8a9a-4389-8097-1cce268834f5\",\"type\":\"ColumnDataSource\"},{\"attributes\":{\"callback\":null,\"end\":15000},\"id\":\"aa662043-bafa-4589-9829-be14e334e39d\",\"type\":\"Range1d\"},{\"attributes\":{\"plot\":{\"id\":\"e8b5d1dc-37d2-4714-8e6b-b17923598ad0\",\"subtype\":\"Figure\",\"type\":\"Plot\"},\"ticker\":{\"id\":\"05250832-492d-4a95-b5c2-be7f55fa5f2b\",\"type\":\"CategoricalTicker\"}},\"id\":\"3b2f33d0-4d5a-4f76-ba2b-a66d89e1bf9f\",\"type\":\"Grid\"},{\"attributes\":{\"callback\":null,\"column_names\":[\"y\",\"x\"],\"data\":{\"x\":[\"2017/07\",\"2017/08\",\"2017/12\",\"2018/01\",\"2018/02\",\"2018/03\",\"2018/04\",\"2018/05\",\"2018/06\"],\"y\":[5881,2076,5502,7117,5354,14691,9904,6742,2692]}},\"id\":\"1c426537-6c90-4456-86d1-a0ae27f610cd\",\"type\":\"ColumnDataSource\"},{\"attributes\":{\"data_source\":{\"id\":\"71942a2d-d52d-4467-b936-bc839bbcb9aa\",\"type\":\"ColumnDataSource\"},\"glyph\":{\"id\":\"9b379cc4-6b8a-4b72-8729-17d0dda9a0e2\",\"type\":\"VBar\"},\"hover_glyph\":null,\"nonselection_glyph\":{\"id\":\"47a6b69e-a97a-4a3a-b4cc-28ee4b006332\",\"type\":\"VBar\"},\"selection_glyph\":null},\"id\":\"e56930c4-6f9f-4521-94a6-e843aaea7cc3\",\"type\":\"GlyphRenderer\"},{\"attributes\":{},\"id\":\"316b0ddd-9cd3-4a80-a17b-7aa08b1570b4\",\"type\":\"CategoricalTickFormatter\"},{\"attributes\":{\"callback\":null},\"id\":\"3cf95b40-a50a-4431-a7e4-389dc7a1465d\",\"type\":\"Range1d\"},{\"attributes\":{\"callback\":null,\"end\":15000},\"id\":\"9dc5bc96-3723-49d2-8a31-df8aff588414\",\"type\":\"Range1d\"},{\"attributes\":{\"children\":[{\"id\":\"8934f5ed-e0fc-404d-8ab5-f20fee34dc19\",\"subtype\":\"Figure\",\"type\":\"Plot\"},{\"id\":\"5ce39922-da2d-44aa-869c-957c98fafb1d\",\"subtype\":\"Figure\",\"type\":\"Plot\"},{\"id\":\"4dc12b77-e1ab-488c-9fba-54f222ddf21e\",\"subtype\":\"Figure\",\"type\":\"Plot\"}]},\"id\":\"d4271a93-75e5-4dcc-b397-03d510404223\",\"type\":\"Row\"},{\"attributes\":{\"callback\":null,\"factors\":[\"2017/07\",\"2017/08\",\"2017/12\",\"2018/01\",\"2018/02\",\"2018/03\",\"2018/04\",\"2018/05\",\"2018/06\"]},\"id\":\"76478d49-a3e7-4bff-9feb-5d938b326891\",\"type\":\"FactorRange\"},{\"attributes\":{\"callback\":null,\"plot\":{\"id\":\"4dc12b77-e1ab-488c-9fba-54f222ddf21e\",\"subtype\":\"Figure\",\"type\":\"Plot\"}},\"id\":\"bbaf82b1-d97d-4f95-8838-7459c50b9942\",\"type\":\"HoverTool\"},{\"attributes\":{\"children\":[{\"id\":\"3421ef68-c36d-42eb-86d5-7799c681c232\",\"type\":\"ToolbarBox\"},{\"id\":\"80ec0aef-2342-471e-bc97-b996cf21d3b4\",\"type\":\"Column\"}]},\"id\":\"06e47024-258c-4c75-8f53-3914fdf9b8f5\",\"type\":\"Column\"},{\"attributes\":{},\"id\":\"4193b7d7-838f-4880-94cd-806ede5848b8\",\"type\":\"CategoricalTickFormatter\"},{\"attributes\":{\"plot\":{\"id\":\"8934f5ed-e0fc-404d-8ab5-f20fee34dc19\",\"subtype\":\"Figure\",\"type\":\"Plot\"}},\"id\":\"b64a87f3-12a2-4177-8fb9-c435f0f18b76\",\"type\":\"SaveTool\"},{\"attributes\":{\"axis_label\":\"Downgrade Percentage\",\"formatter\":{\"id\":\"abb01f50-754d-4f90-8239-8e9c03074fdf\",\"type\":\"BasicTickFormatter\"},\"plot\":{\"id\":\"8934f5ed-e0fc-404d-8ab5-f20fee34dc19\",\"subtype\":\"Figure\",\"type\":\"Plot\"},\"ticker\":{\"id\":\"9fc9bdde-a24b-4ec4-a7f4-f913b8c0afc8\",\"type\":\"BasicTicker\"}},\"id\":\"b3f9c583-1f10-4eda-bc5d-1c3f56fce61d\",\"type\":\"LinearAxis\"},{\"attributes\":{\"line_alpha\":{\"value\":0.1},\"line_color\":{\"value\":\"#1f77b4\"},\"line_width\":{\"value\":3},\"x\":{\"field\":\"x\"},\"y\":{\"field\":\"y\"}},\"id\":\"920115f9-e32c-4703-b6cd-54a5a7f14107\",\"type\":\"Line\"},{\"attributes\":{},\"id\":\"fe3b0c20-e1d8-431e-8aa2-3277a8d3269e\",\"type\":\"BasicTicker\"},{\"attributes\":{\"line_color\":{\"value\":\"red\"},\"line_width\":{\"value\":3},\"x\":{\"field\":\"x\"},\"y\":{\"field\":\"y\"}},\"id\":\"58b23197-0f26-4053-a4e1-63862993fd1e\",\"type\":\"Line\"},{\"attributes\":{\"active_drag\":\"auto\",\"active_scroll\":\"auto\",\"active_tap\":\"auto\",\"tools\":[{\"id\":\"7fb72adf-f7a6-40fd-bd9d-deebc3a0ef34\",\"type\":\"HoverTool\"},{\"id\":\"1291dd58-56c1-467c-8e61-dc609e5bb686\",\"type\":\"SaveTool\"},{\"id\":\"5d7df424-7955-4f6a-9306-842069839d23\",\"type\":\"WheelZoomTool\"},{\"id\":\"87b88ef5-46b1-4d80-9c42-aeaef91a4b2d\",\"type\":\"PanTool\"}]},\"id\":\"5ffcd066-989a-4f52-8699-23e4ac4a38b3\",\"type\":\"Toolbar\"},{\"attributes\":{\"dimension\":1,\"plot\":{\"id\":\"5ce39922-da2d-44aa-869c-957c98fafb1d\",\"subtype\":\"Figure\",\"type\":\"Plot\"},\"ticker\":{\"id\":\"dab01bc7-1f2f-4b9e-9551-a366752314fe\",\"type\":\"BasicTicker\"}},\"id\":\"2b3fc05a-e473-4aed-89a6-1b3c417d38cb\",\"type\":\"Grid\"},{\"attributes\":{},\"id\":\"66e1fcb5-a97b-4e23-9fb4-28726361a615\",\"type\":\"BasicTickFormatter\"},{\"attributes\":{\"below\":[{\"id\":\"93efe6a3-2db7-4ca0-81cf-e27980670d1e\",\"type\":\"CategoricalAxis\"}],\"border_fill_color\":{\"value\":\"whitesmoke\"},\"extra_y_ranges\":{\"y2\":{\"id\":\"aa662043-bafa-4589-9829-be14e334e39d\",\"type\":\"Range1d\"}},\"left\":[{\"id\":\"d9f0e00c-977a-4f6f-be6c-b776fe53c646\",\"type\":\"LinearAxis\"}],\"min_border_left\":80,\"plot_height\":500,\"renderers\":[{\"id\":\"93efe6a3-2db7-4ca0-81cf-e27980670d1e\",\"type\":\"CategoricalAxis\"},{\"id\":\"3b2f33d0-4d5a-4f76-ba2b-a66d89e1bf9f\",\"type\":\"Grid\"},{\"id\":\"d9f0e00c-977a-4f6f-be6c-b776fe53c646\",\"type\":\"LinearAxis\"},{\"id\":\"7c3622b5-eb89-4a0a-8e91-51a9ecc0f409\",\"type\":\"Grid\"},{\"id\":\"1c195796-6975-4810-8fbb-bb63b4a49f55\",\"type\":\"GlyphRenderer\"},{\"id\":\"275dfe6e-2a4c-4000-a730-8b26ddb6cc3a\",\"type\":\"GlyphRenderer\"},{\"id\":\"435b1041-8296-4124-9a28-6d0164a5f8c8\",\"type\":\"GlyphRenderer\"},{\"id\":\"ede4a5e7-4670-4521-b8bd-1f3024ffc875\",\"type\":\"LinearAxis\"}],\"right\":[{\"id\":\"ede4a5e7-4670-4521-b8bd-1f3024ffc875\",\"type\":\"LinearAxis\"}],\"title\":{\"id\":\"2a39e0c0-d3de-4b56-8b4f-323240945838\",\"type\":\"Title\"},\"tool_events\":{\"id\":\"0971ec46-b170-4a15-91a5-ba7002cfbef0\",\"type\":\"ToolEvents\"},\"toolbar\":{\"id\":\"97c7e7df-d62f-430d-adcc-52b94ac63c05\",\"type\":\"Toolbar\"},\"toolbar_location\":null,\"x_range\":{\"id\":\"e1d2893e-68a5-44e8-80b0-4a888bb1a4f2\",\"type\":\"FactorRange\"},\"y_range\":{\"id\":\"79c9c6f7-050b-4455-adc6-411bb4f43696\",\"type\":\"Range1d\"}},\"id\":\"e8b5d1dc-37d2-4714-8e6b-b17923598ad0\",\"subtype\":\"Figure\",\"type\":\"Plot\"},{\"attributes\":{\"formatter\":{\"id\":\"8bd2b9ba-2592-4860-8e66-2f2de0dc7dde\",\"type\":\"CategoricalTickFormatter\"},\"plot\":{\"id\":\"5ce39922-da2d-44aa-869c-957c98fafb1d\",\"subtype\":\"Figure\",\"type\":\"Plot\"},\"ticker\":{\"id\":\"df0846f3-a052-4656-8b94-51bef06b7559\",\"type\":\"CategoricalTicker\"}},\"id\":\"90cd82cf-addd-4bcd-97b9-ef49dc66c698\",\"type\":\"CategoricalAxis\"},{\"attributes\":{\"axis_label\":\"Downgrade Percentage\",\"formatter\":{\"id\":\"66e1fcb5-a97b-4e23-9fb4-28726361a615\",\"type\":\"BasicTickFormatter\"},\"plot\":{\"id\":\"d330b0a9-f031-475e-b72a-a5577389e2d8\",\"subtype\":\"Figure\",\"type\":\"Plot\"},\"ticker\":{\"id\":\"8becd408-5882-47ed-9dc0-4c90df83e3c5\",\"type\":\"BasicTicker\"}},\"id\":\"81920d61-f953-41bc-9469-8a0179353ab1\",\"type\":\"LinearAxis\"},{\"attributes\":{\"formatter\":{\"id\":\"20ba8a91-ae56-4ff3-9189-48d956b9a6db\",\"type\":\"BasicTickFormatter\"},\"plot\":{\"id\":\"e8b5d1dc-37d2-4714-8e6b-b17923598ad0\",\"subtype\":\"Figure\",\"type\":\"Plot\"},\"ticker\":{\"id\":\"fe3b0c20-e1d8-431e-8aa2-3277a8d3269e\",\"type\":\"BasicTicker\"},\"y_range_name\":\"y2\"},\"id\":\"ede4a5e7-4670-4521-b8bd-1f3024ffc875\",\"type\":\"LinearAxis\"},{\"attributes\":{\"fill_color\":{\"value\":\"#1f77b4\"},\"line_color\":{\"value\":\"#1f77b4\"},\"top\":{\"field\":\"top\"},\"width\":{\"value\":0.9},\"x\":{\"field\":\"x\"}},\"id\":\"9b379cc4-6b8a-4b72-8729-17d0dda9a0e2\",\"type\":\"VBar\"},{\"attributes\":{\"plot\":{\"id\":\"d330b0a9-f031-475e-b72a-a5577389e2d8\",\"subtype\":\"Figure\",\"type\":\"Plot\"},\"ticker\":{\"id\":\"318b2e03-9f6d-450e-bb49-2646eb25414b\",\"type\":\"CategoricalTicker\"}},\"id\":\"a1da15b6-cdbf-4875-8aca-57b7648cbfb6\",\"type\":\"Grid\"},{\"attributes\":{\"sizing_mode\":\"scale_width\",\"toolbar_location\":\"above\",\"tools\":[{\"id\":\"25820825-9bf6-479b-8879-a1f5a5a450ff\",\"type\":\"HoverTool\"},{\"id\":\"b64a87f3-12a2-4177-8fb9-c435f0f18b76\",\"type\":\"SaveTool\"},{\"id\":\"646867c2-d213-4596-a483-27479f9ada81\",\"type\":\"WheelZoomTool\"},{\"id\":\"48766b93-93c2-4b02-996a-f5b5bd9666ec\",\"type\":\"PanTool\"},{\"id\":\"a1fdf8bb-fe30-4585-995a-b1ddc40ebcc4\",\"type\":\"HoverTool\"},{\"id\":\"8a3e7262-b869-4535-bcec-d99b2800a8a1\",\"type\":\"SaveTool\"},{\"id\":\"b634c54a-19ed-4fd9-9d56-94d762070d42\",\"type\":\"WheelZoomTool\"},{\"id\":\"77e1c548-211c-468d-b196-8c44056c7f1e\",\"type\":\"PanTool\"},{\"id\":\"bbaf82b1-d97d-4f95-8838-7459c50b9942\",\"type\":\"HoverTool\"},{\"id\":\"c72cbdbb-0a17-4bdb-b65f-0de1b083f64e\",\"type\":\"SaveTool\"},{\"id\":\"52972ed0-2600-4be4-a847-7356b2b71383\",\"type\":\"WheelZoomTool\"},{\"id\":\"5f082e8d-17c3-4b40-8ee1-7111e7dba408\",\"type\":\"PanTool\"}]},\"id\":\"e3b66aac-c66d-496c-902e-b3720900dd41\",\"type\":\"ToolbarBox\"},{\"attributes\":{\"callback\":null,\"column_names\":[\"x\",\"top\"],\"data\":{\"top\":[0.08984375,0.05240174672489083,0.0937766410912191,0.12847682119205298,0.10813076278290025,0.21311047270827893,0.1834442595673877,0.14276485788113696,0.13614262560777957],\"x\":[\"2017/07\",\"2017/08\",\"2017/12\",\"2018/01\",\"2018/02\",\"2018/03\",\"2018/04\",\"2018/05\",\"2018/06\"]}},\"id\":\"9bd8f42c-6210-4e43-8a57-c39c1f968f75\",\"type\":\"ColumnDataSource\"},{\"attributes\":{\"fill_alpha\":{\"value\":0.1},\"fill_color\":{\"value\":\"#1f77b4\"},\"line_alpha\":{\"value\":0.1},\"line_color\":{\"value\":\"#1f77b4\"},\"top\":{\"field\":\"top\"},\"width\":{\"value\":0.9},\"x\":{\"field\":\"x\"}},\"id\":\"4cec5793-580e-4ad6-b133-2e4ee222e55d\",\"type\":\"VBar\"},{\"attributes\":{\"line_color\":{\"value\":\"red\"},\"line_width\":{\"value\":3},\"x\":{\"field\":\"x\"},\"y\":{\"field\":\"y\"}},\"id\":\"eda44f31-7110-4b31-9b0f-21ae906b1606\",\"type\":\"Line\"},{\"attributes\":{},\"id\":\"459554dd-d8a4-4e25-b13c-1300a9f715bd\",\"type\":\"BasicTickFormatter\"},{\"attributes\":{},\"id\":\"a91eca6b-d511-4a35-b669-b11bb689379c\",\"type\":\"BasicTicker\"},{\"attributes\":{\"callback\":null,\"plot\":{\"id\":\"5ce39922-da2d-44aa-869c-957c98fafb1d\",\"subtype\":\"Figure\",\"type\":\"Plot\"}},\"id\":\"a1fdf8bb-fe30-4585-995a-b1ddc40ebcc4\",\"type\":\"HoverTool\"},{\"attributes\":{\"dimension\":1,\"plot\":{\"id\":\"d330b0a9-f031-475e-b72a-a5577389e2d8\",\"subtype\":\"Figure\",\"type\":\"Plot\"},\"ticker\":{\"id\":\"8becd408-5882-47ed-9dc0-4c90df83e3c5\",\"type\":\"BasicTicker\"}},\"id\":\"1607c77e-d72d-4f68-9628-bf7f5c18d8bd\",\"type\":\"Grid\"},{\"attributes\":{\"formatter\":{\"id\":\"8594510c-8507-4392-a597-e8a8bb02e1ed\",\"type\":\"BasicTickFormatter\"},\"plot\":{\"id\":\"5ce39922-da2d-44aa-869c-957c98fafb1d\",\"subtype\":\"Figure\",\"type\":\"Plot\"},\"ticker\":{\"id\":\"dab01bc7-1f2f-4b9e-9551-a366752314fe\",\"type\":\"BasicTicker\"}},\"id\":\"3ae46db7-f3ba-4864-be32-6f0f9aea62a8\",\"type\":\"LinearAxis\"},{\"attributes\":{\"children\":[{\"id\":\"d4271a93-75e5-4dcc-b397-03d510404223\",\"type\":\"Row\"}]},\"id\":\"e742c48e-040e-4ec5-bd55-8871c6077bbb\",\"type\":\"Column\"},{\"attributes\":{\"callback\":null,\"plot\":{\"id\":\"d330b0a9-f031-475e-b72a-a5577389e2d8\",\"subtype\":\"Figure\",\"type\":\"Plot\"}},\"id\":\"7fb72adf-f7a6-40fd-bd9d-deebc3a0ef34\",\"type\":\"HoverTool\"},{\"attributes\":{\"children\":[{\"id\":\"e3b66aac-c66d-496c-902e-b3720900dd41\",\"type\":\"ToolbarBox\"},{\"id\":\"e742c48e-040e-4ec5-bd55-8871c6077bbb\",\"type\":\"Column\"}]},\"id\":\"5023adb7-8dad-42d0-a63a-104a3685c2be\",\"type\":\"Column\"},{\"attributes\":{\"callback\":null,\"column_names\":[\"x\",\"top\"],\"data\":{\"top\":[0.31851851851851853,0.25123762376237624,0.1284433055733504,0.13498802525582407,0.13869537682077265,0.5567786790266512,0.3936102236421725,0.2272205646086757,0.2675736961451247],\"x\":[\"2017/07\",\"2017/08\",\"2017/12\",\"2018/01\",\"2018/02\",\"2018/03\",\"2018/04\",\"2018/05\",\"2018/06\"]}},\"id\":\"be426744-5766-43c7-99c7-0f359233b74d\",\"type\":\"ColumnDataSource\"},{\"attributes\":{\"plot\":null,\"text\":\"Visa Ctrip Downgrade Percentages\"},\"id\":\"2a39e0c0-d3de-4b56-8b4f-323240945838\",\"type\":\"Title\"},{\"attributes\":{},\"id\":\"ce32ef8b-eec4-442b-90b1-96af5af01c8b\",\"type\":\"CategoricalTicker\"},{\"attributes\":{\"plot\":{\"id\":\"d330b0a9-f031-475e-b72a-a5577389e2d8\",\"subtype\":\"Figure\",\"type\":\"Plot\"}},\"id\":\"1291dd58-56c1-467c-8e61-dc609e5bb686\",\"type\":\"SaveTool\"},{\"attributes\":{\"callback\":null,\"column_names\":[\"y\",\"x\"],\"data\":{\"x\":[\"2017/07\",\"2017/08\",\"2017/12\",\"2018/01\",\"2018/02\",\"2018/03\",\"2018/04\",\"2018/05\",\"2018/06\"],\"y\":[405,808,3122,4593,3158,8630,6260,4357,1764]}},\"id\":\"2fc7fee9-a0d9-4a90-8a59-7741eedb01cc\",\"type\":\"ColumnDataSource\"},{\"attributes\":{\"formatter\":{\"id\":\"fbf743f6-d98a-45b3-9bcb-09fb258b49d3\",\"type\":\"BasicTickFormatter\"},\"plot\":{\"id\":\"8934f5ed-e0fc-404d-8ab5-f20fee34dc19\",\"subtype\":\"Figure\",\"type\":\"Plot\"},\"ticker\":{\"id\":\"3624a2f0-a224-4522-b5e3-2c76e6bc734e\",\"type\":\"BasicTicker\"},\"y_range_name\":\"y2\"},\"id\":\"ccdf700b-bf51-47b4-b4e4-733649994086\",\"type\":\"LinearAxis\"},{\"attributes\":{},\"id\":\"42b97bcb-8273-4ab0-94ea-5b866ae4ae6b\",\"type\":\"BasicTickFormatter\"},{\"attributes\":{\"plot\":{\"id\":\"4dc12b77-e1ab-488c-9fba-54f222ddf21e\",\"subtype\":\"Figure\",\"type\":\"Plot\"}},\"id\":\"52972ed0-2600-4be4-a847-7356b2b71383\",\"type\":\"WheelZoomTool\"},{\"attributes\":{\"fill_color\":{\"value\":\"black\"},\"x\":{\"field\":\"x\"},\"y\":{\"field\":\"y\"}},\"id\":\"ea2750b0-2328-4578-9d7e-0176fd2285b2\",\"type\":\"Circle\"},{\"attributes\":{\"callback\":null,\"column_names\":[\"y\",\"x\"],\"data\":{\"x\":[\"2017/07\",\"2017/08\",\"2017/12\",\"2018/01\",\"2018/02\",\"2018/03\",\"2018/04\",\"2018/05\",\"2018/06\"],\"y\":[5881,2076,5502,7117,5354,14691,9904,6742,2692]}},\"id\":\"bdf4b4df-a958-4f27-a9a1-7bb805cd6b97\",\"type\":\"ColumnDataSource\"},{\"attributes\":{\"data_source\":{\"id\":\"9bd8f42c-6210-4e43-8a57-c39c1f968f75\",\"type\":\"ColumnDataSource\"},\"glyph\":{\"id\":\"a86e25f5-2b0f-4a17-be14-d131e100c9df\",\"type\":\"VBar\"},\"hover_glyph\":null,\"nonselection_glyph\":{\"id\":\"2cad1993-4d9e-41ef-b1dc-0478e7b8c8b6\",\"type\":\"VBar\"},\"selection_glyph\":null},\"id\":\"48f5b12e-b209-492b-832d-0d8463412f8a\",\"type\":\"GlyphRenderer\"},{\"attributes\":{\"callback\":null,\"end\":15000},\"id\":\"781f2917-ef27-4cc8-a654-7f0224f804fc\",\"type\":\"Range1d\"},{\"attributes\":{\"plot\":{\"id\":\"8934f5ed-e0fc-404d-8ab5-f20fee34dc19\",\"subtype\":\"Figure\",\"type\":\"Plot\"}},\"id\":\"48766b93-93c2-4b02-996a-f5b5bd9666ec\",\"type\":\"PanTool\"},{\"attributes\":{\"data_source\":{\"id\":\"26f0c7b2-ee6e-4455-9e53-6086716815ee\",\"type\":\"ColumnDataSource\"},\"glyph\":{\"id\":\"96740b3a-e224-4937-9300-2d65301609f1\",\"type\":\"VBar\"},\"hover_glyph\":null,\"nonselection_glyph\":{\"id\":\"8fbbd2da-a3bd-4bb4-8251-7b7ac6b7f8ce\",\"type\":\"VBar\"},\"selection_glyph\":null},\"id\":\"9c44fdc4-9085-4626-9413-1549c7db1050\",\"type\":\"GlyphRenderer\"},{\"attributes\":{\"fill_alpha\":{\"value\":0.1},\"fill_color\":{\"value\":\"#1f77b4\"},\"line_alpha\":{\"value\":0.1},\"line_color\":{\"value\":\"#1f77b4\"},\"x\":{\"field\":\"x\"},\"y\":{\"field\":\"y\"}},\"id\":\"4820ce24-8699-4c8d-a0eb-dfc7fed47241\",\"type\":\"Circle\"},{\"attributes\":{\"callback\":null},\"id\":\"1b70af97-cce8-4030-ba73-82e842d6296f\",\"type\":\"Range1d\"},{\"attributes\":{\"plot\":{\"id\":\"e8b5d1dc-37d2-4714-8e6b-b17923598ad0\",\"subtype\":\"Figure\",\"type\":\"Plot\"}},\"id\":\"b7010569-d06c-4d3b-be9a-5c07307593c9\",\"type\":\"SaveTool\"},{\"attributes\":{\"data_source\":{\"id\":\"1c426537-6c90-4456-86d1-a0ae27f610cd\",\"type\":\"ColumnDataSource\"},\"glyph\":{\"id\":\"cba81fce-e255-4cf7-a86c-b13488f09616\",\"type\":\"Circle\"},\"hover_glyph\":null,\"nonselection_glyph\":{\"id\":\"00dc5621-71cc-486f-a4ae-752f4e5b0627\",\"type\":\"Circle\"},\"selection_glyph\":null,\"y_range_name\":\"y2\"},\"id\":\"7def607e-9578-4456-8727-8b67de085023\",\"type\":\"GlyphRenderer\"},{\"attributes\":{\"plot\":{\"id\":\"5ce39922-da2d-44aa-869c-957c98fafb1d\",\"subtype\":\"Figure\",\"type\":\"Plot\"},\"ticker\":{\"id\":\"df0846f3-a052-4656-8b94-51bef06b7559\",\"type\":\"CategoricalTicker\"}},\"id\":\"bec6d137-b3a8-4c42-89de-ce02efa8008a\",\"type\":\"Grid\"},{\"attributes\":{\"fill_color\":{\"value\":\"black\"},\"x\":{\"field\":\"x\"},\"y\":{\"field\":\"y\"}},\"id\":\"d094ccbd-548b-4e9f-850c-a3d4acbb08c4\",\"type\":\"Circle\"},{\"attributes\":{\"fill_color\":{\"value\":\"#1f77b4\"},\"line_color\":{\"value\":\"#1f77b4\"},\"top\":{\"field\":\"top\"},\"width\":{\"value\":0.9},\"x\":{\"field\":\"x\"}},\"id\":\"ae2f231f-3764-4ade-9073-d91a59b0e856\",\"type\":\"VBar\"},{\"attributes\":{\"dimension\":1,\"plot\":{\"id\":\"61ea71c2-68e7-43ba-adaa-8cd744167960\",\"subtype\":\"Figure\",\"type\":\"Plot\"},\"ticker\":{\"id\":\"34afcaff-fc9b-4c32-81a3-63938e76da99\",\"type\":\"BasicTicker\"}},\"id\":\"cb2c554f-9d90-40dd-b35d-7e6e3801252d\",\"type\":\"Grid\"},{\"attributes\":{\"data_source\":{\"id\":\"ddd61394-d398-48bc-8188-5cf5cbfc4500\",\"type\":\"ColumnDataSource\"},\"glyph\":{\"id\":\"3a2b2b92-ce93-48ac-a67e-185d6fb3d84b\",\"type\":\"Circle\"},\"hover_glyph\":null,\"nonselection_glyph\":{\"id\":\"4820ce24-8699-4c8d-a0eb-dfc7fed47241\",\"type\":\"Circle\"},\"selection_glyph\":null,\"y_range_name\":\"y2\"},\"id\":\"435b1041-8296-4124-9a28-6d0164a5f8c8\",\"type\":\"GlyphRenderer\"},{\"attributes\":{\"plot\":{\"id\":\"d330b0a9-f031-475e-b72a-a5577389e2d8\",\"subtype\":\"Figure\",\"type\":\"Plot\"}},\"id\":\"87b88ef5-46b1-4d80-9c42-aeaef91a4b2d\",\"type\":\"PanTool\"},{\"attributes\":{\"axis_label\":\"Date\",\"formatter\":{\"id\":\"316b0ddd-9cd3-4a80-a17b-7aa08b1570b4\",\"type\":\"CategoricalTickFormatter\"},\"plot\":{\"id\":\"8934f5ed-e0fc-404d-8ab5-f20fee34dc19\",\"subtype\":\"Figure\",\"type\":\"Plot\"},\"ticker\":{\"id\":\"250a99e1-c887-4518-8697-abb7aca9c6f5\",\"type\":\"CategoricalTicker\"}},\"id\":\"9ec1a2e3-386d-43f1-ae1c-4cfd52c43dab\",\"type\":\"CategoricalAxis\"},{\"attributes\":{\"callback\":null,\"factors\":[\"2017/07\",\"2017/08\",\"2017/12\",\"2018/01\",\"2018/02\",\"2018/03\",\"2018/04\",\"2018/05\",\"2018/06\"]},\"id\":\"e1d2893e-68a5-44e8-80b0-4a888bb1a4f2\",\"type\":\"FactorRange\"},{\"attributes\":{\"fill_alpha\":{\"value\":0.1},\"fill_color\":{\"value\":\"#1f77b4\"},\"line_alpha\":{\"value\":0.1},\"line_color\":{\"value\":\"#1f77b4\"},\"top\":{\"field\":\"top\"},\"width\":{\"value\":0.9},\"x\":{\"field\":\"x\"}},\"id\":\"4c543fff-6233-4192-81b6-111c40ca3d60\",\"type\":\"VBar\"},{\"attributes\":{},\"id\":\"29b8f3c3-b4da-4cf9-9e6b-fd8ce8f75c6c\",\"type\":\"ToolEvents\"},{\"attributes\":{\"fill_color\":{\"value\":\"#1f77b4\"},\"line_color\":{\"value\":\"#1f77b4\"},\"top\":{\"field\":\"top\"},\"width\":{\"value\":0.9},\"x\":{\"field\":\"x\"}},\"id\":\"4cdbf973-92af-4ed9-88ba-df217cc95416\",\"type\":\"VBar\"},{\"attributes\":{},\"id\":\"dd27647e-36f6-4a23-9321-cf18712f7418\",\"type\":\"CategoricalTickFormatter\"},{\"attributes\":{\"callback\":null,\"column_names\":[\"y\",\"x\"],\"data\":{\"x\":[\"2017/07\",\"2017/08\",\"2017/12\",\"2018/01\",\"2018/02\",\"2018/03\",\"2018/04\",\"2018/05\",\"2018/06\"],\"y\":[256,458,1173,1510,1193,3829,2404,1548,617]}},\"id\":\"a033e270-b739-407e-8a0f-36b22d237f73\",\"type\":\"ColumnDataSource\"},{\"attributes\":{},\"id\":\"abb01f50-754d-4f90-8239-8e9c03074fdf\",\"type\":\"BasicTickFormatter\"},{\"attributes\":{\"axis_label\":\"Date\",\"formatter\":{\"id\":\"8492284c-b8ac-48b0-b4cd-415bb38f390c\",\"type\":\"CategoricalTickFormatter\"},\"plot\":{\"id\":\"d330b0a9-f031-475e-b72a-a5577389e2d8\",\"subtype\":\"Figure\",\"type\":\"Plot\"},\"ticker\":{\"id\":\"318b2e03-9f6d-450e-bb49-2646eb25414b\",\"type\":\"CategoricalTicker\"}},\"id\":\"6d047a26-ef19-462a-b3e2-d1b07867b6bf\",\"type\":\"CategoricalAxis\"},{\"attributes\":{\"plot\":{\"id\":\"61ea71c2-68e7-43ba-adaa-8cd744167960\",\"subtype\":\"Figure\",\"type\":\"Plot\"}},\"id\":\"58de0ffe-cca3-401b-8fb1-0887e9fb1605\",\"type\":\"SaveTool\"},{\"attributes\":{\"callback\":null,\"factors\":[\"2017/07\",\"2017/08\",\"2017/12\",\"2018/01\",\"2018/02\",\"2018/03\",\"2018/04\",\"2018/05\",\"2018/06\"]},\"id\":\"6a063e2b-3b4c-4bc2-a73c-3170406d2707\",\"type\":\"FactorRange\"},{\"attributes\":{\"below\":[{\"id\":\"1d61e664-d0bf-4e24-90de-3f72552a05f2\",\"type\":\"CategoricalAxis\"}],\"border_fill_color\":{\"value\":\"whitesmoke\"},\"extra_y_ranges\":{\"y2\":{\"id\":\"9dc5bc96-3723-49d2-8a31-df8aff588414\",\"type\":\"Range1d\"}},\"left\":[{\"id\":\"d33f6293-0818-4382-9978-56d73c58bd6b\",\"type\":\"LinearAxis\"}],\"min_border_left\":80,\"plot_height\":500,\"renderers\":[{\"id\":\"1d61e664-d0bf-4e24-90de-3f72552a05f2\",\"type\":\"CategoricalAxis\"},{\"id\":\"056774a5-4c87-4945-bb1b-d82413d6a0a3\",\"type\":\"Grid\"},{\"id\":\"d33f6293-0818-4382-9978-56d73c58bd6b\",\"type\":\"LinearAxis\"},{\"id\":\"7a1d30ae-649c-4257-aeee-640c34e30667\",\"type\":\"Grid\"},{\"id\":\"48f5b12e-b209-492b-832d-0d8463412f8a\",\"type\":\"GlyphRenderer\"},{\"id\":\"4b77e816-ec6c-4080-9761-ec85bf5a3337\",\"type\":\"GlyphRenderer\"},{\"id\":\"a8f2e85e-e794-41fb-84d2-d13419bbd3a5\",\"type\":\"GlyphRenderer\"},{\"id\":\"237ef181-998b-4873-a5fc-7554262e7586\",\"type\":\"LinearAxis\"}],\"right\":[{\"id\":\"237ef181-998b-4873-a5fc-7554262e7586\",\"type\":\"LinearAxis\"}],\"title\":{\"id\":\"47ca8c58-fb47-491a-9261-128999438f4a\",\"type\":\"Title\"},\"tool_events\":{\"id\":\"dd458bfe-4a0e-44b6-b596-2257922fa3a3\",\"type\":\"ToolEvents\"},\"toolbar\":{\"id\":\"bc4cba6f-d3c6-4673-a4da-19b99d4bcb6b\",\"type\":\"Toolbar\"},\"toolbar_location\":null,\"x_range\":{\"id\":\"6dda1a62-8472-4b78-bfc5-e9ae51d5e414\",\"type\":\"FactorRange\"},\"y_range\":{\"id\":\"e1926b51-cb5a-42d0-ba72-7d33daf74701\",\"type\":\"Range1d\"}},\"id\":\"4dc12b77-e1ab-488c-9fba-54f222ddf21e\",\"subtype\":\"Figure\",\"type\":\"Plot\"},{\"attributes\":{\"below\":[{\"id\":\"36d187cc-5372-4c4b-9781-401dd2da501f\",\"type\":\"CategoricalAxis\"}],\"border_fill_color\":{\"value\":\"whitesmoke\"},\"extra_y_ranges\":{\"y2\":{\"id\":\"dc4d71ab-331b-4ab8-ae72-6e0e133114c0\",\"type\":\"Range1d\"}},\"left\":[{\"id\":\"190e2d87-3c9b-484d-a491-e98d31bcf5e3\",\"type\":\"LinearAxis\"}],\"min_border_left\":80,\"plot_height\":500,\"renderers\":[{\"id\":\"36d187cc-5372-4c4b-9781-401dd2da501f\",\"type\":\"CategoricalAxis\"},{\"id\":\"2cc5f689-e525-45c1-96d2-0a2da46a07b0\",\"type\":\"Grid\"},{\"id\":\"190e2d87-3c9b-484d-a491-e98d31bcf5e3\",\"type\":\"LinearAxis\"},{\"id\":\"cb2c554f-9d90-40dd-b35d-7e6e3801252d\",\"type\":\"Grid\"},{\"id\":\"8415c218-f25c-4c27-bc3b-a4cf9478a173\",\"type\":\"GlyphRenderer\"},{\"id\":\"d89b3cee-9a90-49cb-8afc-2d06a21578af\",\"type\":\"GlyphRenderer\"},{\"id\":\"8bec6325-d677-4f64-901c-2837568f7d19\",\"type\":\"GlyphRenderer\"},{\"id\":\"ace36149-8907-4ff1-a1ad-31b158df7360\",\"type\":\"LinearAxis\"}],\"right\":[{\"id\":\"ace36149-8907-4ff1-a1ad-31b158df7360\",\"type\":\"LinearAxis\"}],\"title\":{\"id\":\"f470ec4d-7404-4748-8f95-9dede31dcd80\",\"type\":\"Title\"},\"tool_events\":{\"id\":\"0bdcecdf-8c99-4fee-a839-1a633faac1f4\",\"type\":\"ToolEvents\"},\"toolbar\":{\"id\":\"df13120f-546a-434c-9637-e8e9eb257585\",\"type\":\"Toolbar\"},\"toolbar_location\":null,\"x_range\":{\"id\":\"76478d49-a3e7-4bff-9feb-5d938b326891\",\"type\":\"FactorRange\"},\"y_range\":{\"id\":\"81054c3c-77a0-4146-beef-53af60c7a139\",\"type\":\"Range1d\"}},\"id\":\"61ea71c2-68e7-43ba-adaa-8cd744167960\",\"subtype\":\"Figure\",\"type\":\"Plot\"},{\"attributes\":{\"callback\":null,\"end\":15000},\"id\":\"56d15734-9d90-4451-b33b-4df204dab9a0\",\"type\":\"Range1d\"},{\"attributes\":{\"dimension\":1,\"plot\":{\"id\":\"4dc12b77-e1ab-488c-9fba-54f222ddf21e\",\"subtype\":\"Figure\",\"type\":\"Plot\"},\"ticker\":{\"id\":\"ae0addb2-8609-42c6-8583-5328f53d6ef4\",\"type\":\"BasicTicker\"}},\"id\":\"7a1d30ae-649c-4257-aeee-640c34e30667\",\"type\":\"Grid\"},{\"attributes\":{\"data_source\":{\"id\":\"508652cc-ed55-4eb7-9eb4-d96d1603a5ac\",\"type\":\"ColumnDataSource\"},\"glyph\":{\"id\":\"ea2750b0-2328-4578-9d7e-0176fd2285b2\",\"type\":\"Circle\"},\"hover_glyph\":null,\"nonselection_glyph\":{\"id\":\"fd3d5e32-f879-4535-bcca-b7f3bd24f1c4\",\"type\":\"Circle\"},\"selection_glyph\":null,\"y_range_name\":\"y2\"},\"id\":\"121b069b-6cfc-4bb9-8702-32356969372b\",\"type\":\"GlyphRenderer\"},{\"attributes\":{\"data_source\":{\"id\":\"540b4e27-7a6d-4788-a126-b4a89873b8a4\",\"type\":\"ColumnDataSource\"},\"glyph\":{\"id\":\"9357c378-9ed9-4703-a708-88772865cd7a\",\"type\":\"Line\"},\"hover_glyph\":null,\"nonselection_glyph\":{\"id\":\"cf7ea5d8-6a0d-4131-8e4b-e1a7a4072583\",\"type\":\"Line\"},\"selection_glyph\":null,\"y_range_name\":\"y2\"},\"id\":\"3ac3d381-b049-4f6b-ad08-9f94c820a333\",\"type\":\"GlyphRenderer\"},{\"attributes\":{\"line_alpha\":{\"value\":0.1},\"line_color\":{\"value\":\"#1f77b4\"},\"line_width\":{\"value\":3},\"x\":{\"field\":\"x\"},\"y\":{\"field\":\"y\"}},\"id\":\"57b0f8a6-ceeb-40e3-b7c6-823862b0f16a\",\"type\":\"Line\"},{\"attributes\":{},\"id\":\"c30bb918-10f4-41fa-9afb-899a408e4191\",\"type\":\"BasicTicker\"},{\"attributes\":{\"data_source\":{\"id\":\"e4565b42-b1cd-462d-b5bd-6973e52170f7\",\"type\":\"ColumnDataSource\"},\"glyph\":{\"id\":\"eda44f31-7110-4b31-9b0f-21ae906b1606\",\"type\":\"Line\"},\"hover_glyph\":null,\"nonselection_glyph\":{\"id\":\"920115f9-e32c-4703-b6cd-54a5a7f14107\",\"type\":\"Line\"},\"selection_glyph\":null,\"y_range_name\":\"y2\"},\"id\":\"2165ce90-d79c-48c3-8d09-94b68ea3015d\",\"type\":\"GlyphRenderer\"},{\"attributes\":{\"plot\":{\"id\":\"5ce39922-da2d-44aa-869c-957c98fafb1d\",\"subtype\":\"Figure\",\"type\":\"Plot\"}},\"id\":\"8a3e7262-b869-4535-bcec-d99b2800a8a1\",\"type\":\"SaveTool\"},{\"attributes\":{\"plot\":null,\"text\":\"Ctrip Downgrade Percentages\"},\"id\":\"2ac4c3e3-8858-407f-92f4-ce87bd821174\",\"type\":\"Title\"},{\"attributes\":{\"line_alpha\":{\"value\":0.1},\"line_color\":{\"value\":\"#1f77b4\"},\"line_width\":{\"value\":3},\"x\":{\"field\":\"x\"},\"y\":{\"field\":\"y\"}},\"id\":\"25f232ca-398b-4d81-97f4-37b864947a7a\",\"type\":\"Line\"},{\"attributes\":{\"line_alpha\":{\"value\":0.1},\"line_color\":{\"value\":\"#1f77b4\"},\"line_width\":{\"value\":3},\"x\":{\"field\":\"x\"},\"y\":{\"field\":\"y\"}},\"id\":\"cf7ea5d8-6a0d-4131-8e4b-e1a7a4072583\",\"type\":\"Line\"},{\"attributes\":{\"callback\":null,\"end\":15000},\"id\":\"dc4d71ab-331b-4ab8-ae72-6e0e133114c0\",\"type\":\"Range1d\"},{\"attributes\":{\"data_source\":{\"id\":\"be426744-5766-43c7-99c7-0f359233b74d\",\"type\":\"ColumnDataSource\"},\"glyph\":{\"id\":\"4cdbf973-92af-4ed9-88ba-df217cc95416\",\"type\":\"VBar\"},\"hover_glyph\":null,\"nonselection_glyph\":{\"id\":\"4cec5793-580e-4ad6-b133-2e4ee222e55d\",\"type\":\"VBar\"},\"selection_glyph\":null},\"id\":\"1c195796-6975-4810-8fbb-bb63b4a49f55\",\"type\":\"GlyphRenderer\"},{\"attributes\":{},\"id\":\"fbf743f6-d98a-45b3-9bcb-09fb258b49d3\",\"type\":\"BasicTickFormatter\"},{\"attributes\":{\"callback\":null,\"factors\":[\"2017/07\",\"2017/08\",\"2017/12\",\"2018/01\",\"2018/02\",\"2018/03\",\"2018/04\",\"2018/05\",\"2018/06\"]},\"id\":\"2710285d-7361-477f-86ea-475acaf37b47\",\"type\":\"FactorRange\"},{\"attributes\":{},\"id\":\"8becd408-5882-47ed-9dc0-4c90df83e3c5\",\"type\":\"BasicTicker\"},{\"attributes\":{\"data_source\":{\"id\":\"2fc7fee9-a0d9-4a90-8a59-7741eedb01cc\",\"type\":\"ColumnDataSource\"},\"glyph\":{\"id\":\"7f75d4e6-e856-4601-86ee-01e7ef09d979\",\"type\":\"Line\"},\"hover_glyph\":null,\"nonselection_glyph\":{\"id\":\"57b0f8a6-ceeb-40e3-b7c6-823862b0f16a\",\"type\":\"Line\"},\"selection_glyph\":null,\"y_range_name\":\"y2\"},\"id\":\"275dfe6e-2a4c-4000-a730-8b26ddb6cc3a\",\"type\":\"GlyphRenderer\"},{\"attributes\":{\"formatter\":{\"id\":\"a51780ae-9c58-415f-8ffb-b1fe41c203c2\",\"type\":\"BasicTickFormatter\"},\"plot\":{\"id\":\"61ea71c2-68e7-43ba-adaa-8cd744167960\",\"subtype\":\"Figure\",\"type\":\"Plot\"},\"ticker\":{\"id\":\"34afcaff-fc9b-4c32-81a3-63938e76da99\",\"type\":\"BasicTicker\"}},\"id\":\"190e2d87-3c9b-484d-a491-e98d31bcf5e3\",\"type\":\"LinearAxis\"},{\"attributes\":{\"formatter\":{\"id\":\"5c220da0-7f07-4744-8a54-44637290201c\",\"type\":\"BasicTickFormatter\"},\"plot\":{\"id\":\"61ea71c2-68e7-43ba-adaa-8cd744167960\",\"subtype\":\"Figure\",\"type\":\"Plot\"},\"ticker\":{\"id\":\"a92922ef-e066-4ac8-965f-4b2978bdc525\",\"type\":\"BasicTicker\"},\"y_range_name\":\"y2\"},\"id\":\"ace36149-8907-4ff1-a1ad-31b158df7360\",\"type\":\"LinearAxis\"},{\"attributes\":{},\"id\":\"3624a2f0-a224-4522-b5e3-2c76e6bc734e\",\"type\":\"BasicTicker\"},{\"attributes\":{\"fill_alpha\":{\"value\":0.1},\"fill_color\":{\"value\":\"#1f77b4\"},\"line_alpha\":{\"value\":0.1},\"line_color\":{\"value\":\"#1f77b4\"},\"top\":{\"field\":\"top\"},\"width\":{\"value\":0.9},\"x\":{\"field\":\"x\"}},\"id\":\"47a6b69e-a97a-4a3a-b4cc-28ee4b006332\",\"type\":\"VBar\"},{\"attributes\":{\"data_source\":{\"id\":\"bdf4b4df-a958-4f27-a9a1-7bb805cd6b97\",\"type\":\"ColumnDataSource\"},\"glyph\":{\"id\":\"b3902776-1734-4c0c-a7b5-c42ce9bd5e55\",\"type\":\"Line\"},\"hover_glyph\":null,\"nonselection_glyph\":{\"id\":\"13fd727f-8827-466c-b24e-8369f1fff506\",\"type\":\"Line\"},\"selection_glyph\":null,\"y_range_name\":\"y2\"},\"id\":\"cc1b26bb-93a6-41f6-add1-345f0890efb0\",\"type\":\"GlyphRenderer\"},{\"attributes\":{\"callback\":null,\"column_names\":[\"y\",\"x\"],\"data\":{\"x\":[\"2017/07\",\"2017/08\",\"2017/12\",\"2018/01\",\"2018/02\",\"2018/03\",\"2018/04\",\"2018/05\",\"2018/06\"],\"y\":[256,458,1173,1510,1193,3829,2404,1548,617]}},\"id\":\"8cfda673-8140-426c-9527-6986bde9ebfa\",\"type\":\"ColumnDataSource\"},{\"attributes\":{\"fill_alpha\":{\"value\":0.1},\"fill_color\":{\"value\":\"#1f77b4\"},\"line_alpha\":{\"value\":0.1},\"line_color\":{\"value\":\"#1f77b4\"},\"x\":{\"field\":\"x\"},\"y\":{\"field\":\"y\"}},\"id\":\"00dc5621-71cc-486f-a4ae-752f4e5b0627\",\"type\":\"Circle\"},{\"attributes\":{\"plot\":null,\"text\":\"Ctrip Downgrade Percentages\"},\"id\":\"cf787530-bba5-4393-b1f6-c86f33ba455e\",\"type\":\"Title\"},{\"attributes\":{\"active_drag\":\"auto\",\"active_scroll\":\"auto\",\"active_tap\":\"auto\",\"tools\":[{\"id\":\"42ecb137-7bfc-4128-9dd4-376a9a2f6b48\",\"type\":\"HoverTool\"},{\"id\":\"b7010569-d06c-4d3b-be9a-5c07307593c9\",\"type\":\"SaveTool\"},{\"id\":\"fa945820-2f01-45d2-97b3-7eaeed02d8ce\",\"type\":\"WheelZoomTool\"},{\"id\":\"97128c6f-8a96-41a1-9186-42d21c2d9e20\",\"type\":\"PanTool\"}]},\"id\":\"97c7e7df-d62f-430d-adcc-52b94ac63c05\",\"type\":\"Toolbar\"},{\"attributes\":{\"plot\":{\"id\":\"8934f5ed-e0fc-404d-8ab5-f20fee34dc19\",\"subtype\":\"Figure\",\"type\":\"Plot\"}},\"id\":\"646867c2-d213-4596-a483-27479f9ada81\",\"type\":\"WheelZoomTool\"},{\"attributes\":{\"fill_color\":{\"value\":\"#1f77b4\"},\"line_color\":{\"value\":\"#1f77b4\"},\"top\":{\"field\":\"top\"},\"width\":{\"value\":0.9},\"x\":{\"field\":\"x\"}},\"id\":\"0b3a4dce-cefa-4beb-9b24-17ddefb56c2b\",\"type\":\"VBar\"},{\"attributes\":{\"callback\":null,\"factors\":[\"2017/07\",\"2017/08\",\"2017/12\",\"2018/01\",\"2018/02\",\"2018/03\",\"2018/04\",\"2018/05\",\"2018/06\"]},\"id\":\"6dda1a62-8472-4b78-bfc5-e9ae51d5e414\",\"type\":\"FactorRange\"},{\"attributes\":{},\"id\":\"0bdcecdf-8c99-4fee-a839-1a633faac1f4\",\"type\":\"ToolEvents\"},{\"attributes\":{\"children\":[{\"id\":\"d330b0a9-f031-475e-b72a-a5577389e2d8\",\"subtype\":\"Figure\",\"type\":\"Plot\"},{\"id\":\"e8b5d1dc-37d2-4714-8e6b-b17923598ad0\",\"subtype\":\"Figure\",\"type\":\"Plot\"},{\"id\":\"61ea71c2-68e7-43ba-adaa-8cd744167960\",\"subtype\":\"Figure\",\"type\":\"Plot\"}]},\"id\":\"ef4273be-6ecb-448e-87ea-7495fa965a9c\",\"type\":\"Row\"},{\"attributes\":{\"callback\":null,\"column_names\":[\"y\",\"x\"],\"data\":{\"x\":[\"2017/07\",\"2017/08\",\"2017/12\",\"2018/01\",\"2018/02\",\"2018/03\",\"2018/04\",\"2018/05\",\"2018/06\"],\"y\":[648,1251,4216,5962,4260,12093,8455,5787,2337]}},\"id\":\"508652cc-ed55-4eb7-9eb4-d96d1603a5ac\",\"type\":\"ColumnDataSource\"},{\"attributes\":{},\"id\":\"df0846f3-a052-4656-8b94-51bef06b7559\",\"type\":\"CategoricalTicker\"},{\"attributes\":{\"sizing_mode\":\"scale_width\",\"toolbar_location\":\"above\",\"tools\":[{\"id\":\"7fb72adf-f7a6-40fd-bd9d-deebc3a0ef34\",\"type\":\"HoverTool\"},{\"id\":\"1291dd58-56c1-467c-8e61-dc609e5bb686\",\"type\":\"SaveTool\"},{\"id\":\"5d7df424-7955-4f6a-9306-842069839d23\",\"type\":\"WheelZoomTool\"},{\"id\":\"87b88ef5-46b1-4d80-9c42-aeaef91a4b2d\",\"type\":\"PanTool\"},{\"id\":\"42ecb137-7bfc-4128-9dd4-376a9a2f6b48\",\"type\":\"HoverTool\"},{\"id\":\"b7010569-d06c-4d3b-be9a-5c07307593c9\",\"type\":\"SaveTool\"},{\"id\":\"fa945820-2f01-45d2-97b3-7eaeed02d8ce\",\"type\":\"WheelZoomTool\"},{\"id\":\"97128c6f-8a96-41a1-9186-42d21c2d9e20\",\"type\":\"PanTool\"},{\"id\":\"af6b59d1-608d-412b-b3eb-69605334913d\",\"type\":\"HoverTool\"},{\"id\":\"58de0ffe-cca3-401b-8fb1-0887e9fb1605\",\"type\":\"SaveTool\"},{\"id\":\"cbe00518-2b3b-4ab0-a375-036d69e0d008\",\"type\":\"WheelZoomTool\"},{\"id\":\"d4e5eaca-a8f7-46a6-833e-da101a28382d\",\"type\":\"PanTool\"}]},\"id\":\"3421ef68-c36d-42eb-86d5-7799c681c232\",\"type\":\"ToolbarBox\"},{\"attributes\":{},\"id\":\"8594510c-8507-4392-a597-e8a8bb02e1ed\",\"type\":\"BasicTickFormatter\"},{\"attributes\":{},\"id\":\"e7ca2725-fd60-46b7-be83-ded0f2b2a270\",\"type\":\"ToolEvents\"},{\"attributes\":{\"child\":{\"id\":\"5023adb7-8dad-42d0-a63a-104a3685c2be\",\"type\":\"Column\"},\"title\":\"Downgrades, Including EIRF\"},\"id\":\"c6beee18-9971-404f-9282-abfb9c842c64\",\"type\":\"Panel\"},{\"attributes\":{\"plot\":{\"id\":\"d330b0a9-f031-475e-b72a-a5577389e2d8\",\"subtype\":\"Figure\",\"type\":\"Plot\"}},\"id\":\"5d7df424-7955-4f6a-9306-842069839d23\",\"type\":\"WheelZoomTool\"},{\"attributes\":{\"callback\":null,\"column_names\":[\"x\",\"top\"],\"data\":{\"top\":[0.028906648529161708,0.12909441233140656,0.203017084696474,0.2568497962624701,0.2288008965259619,0.4924783881287863,0.4185177705977383,0.30361910412340554,0.3220653789004458],\"x\":[\"2017/07\",\"2017/08\",\"2017/12\",\"2018/01\",\"2018/02\",\"2018/03\",\"2018/04\",\"2018/05\",\"2018/06\"]}},\"id\":\"71942a2d-d52d-4467-b936-bc839bbcb9aa\",\"type\":\"ColumnDataSource\"},{\"attributes\":{\"callback\":null,\"end\":15000},\"id\":\"f7e89275-1047-4d5e-b2cd-288c4cfc434d\",\"type\":\"Range1d\"},{\"attributes\":{},\"id\":\"c6cb5ca2-42a4-4975-afd2-390f183577c4\",\"type\":\"CategoricalTicker\"},{\"attributes\":{},\"id\":\"dbc09620-6d6a-427b-80a9-5b392d2cbe4b\",\"type\":\"BasicTicker\"},{\"attributes\":{},\"id\":\"05250832-492d-4a95-b5c2-be7f55fa5f2b\",\"type\":\"CategoricalTicker\"},{\"attributes\":{\"fill_color\":{\"value\":\"black\"},\"x\":{\"field\":\"x\"},\"y\":{\"field\":\"y\"}},\"id\":\"cba81fce-e255-4cf7-a86c-b13488f09616\",\"type\":\"Circle\"},{\"attributes\":{\"plot\":{\"id\":\"5ce39922-da2d-44aa-869c-957c98fafb1d\",\"subtype\":\"Figure\",\"type\":\"Plot\"}},\"id\":\"b634c54a-19ed-4fd9-9d56-94d762070d42\",\"type\":\"WheelZoomTool\"},{\"attributes\":{\"formatter\":{\"id\":\"05626371-22a4-4b6e-81ff-0a6017c81862\",\"type\":\"BasicTickFormatter\"},\"plot\":{\"id\":\"4dc12b77-e1ab-488c-9fba-54f222ddf21e\",\"subtype\":\"Figure\",\"type\":\"Plot\"},\"ticker\":{\"id\":\"a91eca6b-d511-4a35-b669-b11bb689379c\",\"type\":\"BasicTicker\"},\"y_range_name\":\"y2\"},\"id\":\"237ef181-998b-4873-a5fc-7554262e7586\",\"type\":\"LinearAxis\"},{\"attributes\":{\"fill_alpha\":{\"value\":0.1},\"fill_color\":{\"value\":\"#1f77b4\"},\"line_alpha\":{\"value\":0.1},\"line_color\":{\"value\":\"#1f77b4\"},\"x\":{\"field\":\"x\"},\"y\":{\"field\":\"y\"}},\"id\":\"80b0ec3f-95df-49a8-b8f0-3de1266f1f1e\",\"type\":\"Circle\"},{\"attributes\":{\"plot\":{\"id\":\"e8b5d1dc-37d2-4714-8e6b-b17923598ad0\",\"subtype\":\"Figure\",\"type\":\"Plot\"}},\"id\":\"fa945820-2f01-45d2-97b3-7eaeed02d8ce\",\"type\":\"WheelZoomTool\"},{\"attributes\":{\"fill_color\":{\"value\":\"black\"},\"x\":{\"field\":\"x\"},\"y\":{\"field\":\"y\"}},\"id\":\"52bd9113-b2fc-409e-b5e6-aa64d231adcd\",\"type\":\"Circle\"},{\"attributes\":{\"callback\":null,\"tabs\":[{\"id\":\"c6beee18-9971-404f-9282-abfb9c842c64\",\"type\":\"Panel\"},{\"id\":\"efab0346-0ed5-418d-a16f-9cec995d6809\",\"type\":\"Panel\"}]},\"id\":\"2b634699-313c-4e49-abd9-326c13eac6c8\",\"type\":\"Tabs\"},{\"attributes\":{},\"id\":\"1a0f7377-9752-4768-bd53-05acfb9c2cc1\",\"type\":\"BasicTickFormatter\"},{\"attributes\":{\"below\":[{\"id\":\"6d047a26-ef19-462a-b3e2-d1b07867b6bf\",\"type\":\"CategoricalAxis\"}],\"border_fill_color\":{\"value\":\"whitesmoke\"},\"extra_y_ranges\":{\"y2\":{\"id\":\"56d15734-9d90-4451-b33b-4df204dab9a0\",\"type\":\"Range1d\"}},\"left\":[{\"id\":\"81920d61-f953-41bc-9469-8a0179353ab1\",\"type\":\"LinearAxis\"}],\"min_border_left\":80,\"plot_height\":500,\"renderers\":[{\"id\":\"6d047a26-ef19-462a-b3e2-d1b07867b6bf\",\"type\":\"CategoricalAxis\"},{\"id\":\"a1da15b6-cdbf-4875-8aca-57b7648cbfb6\",\"type\":\"Grid\"},{\"id\":\"81920d61-f953-41bc-9469-8a0179353ab1\",\"type\":\"LinearAxis\"},{\"id\":\"1607c77e-d72d-4f68-9628-bf7f5c18d8bd\",\"type\":\"Grid\"},{\"id\":\"9c44fdc4-9085-4626-9413-1549c7db1050\",\"type\":\"GlyphRenderer\"},{\"id\":\"3ac3d381-b049-4f6b-ad08-9f94c820a333\",\"type\":\"GlyphRenderer\"},{\"id\":\"121b069b-6cfc-4bb9-8702-32356969372b\",\"type\":\"GlyphRenderer\"},{\"id\":\"d4f3be6d-ec4b-48d7-802f-d5129caf7969\",\"type\":\"LinearAxis\"}],\"right\":[{\"id\":\"d4f3be6d-ec4b-48d7-802f-d5129caf7969\",\"type\":\"LinearAxis\"}],\"title\":{\"id\":\"2ac4c3e3-8858-407f-92f4-ce87bd821174\",\"type\":\"Title\"},\"tool_events\":{\"id\":\"a8f76154-ada9-4a56-bf94-64885e3cf706\",\"type\":\"ToolEvents\"},\"toolbar\":{\"id\":\"5ffcd066-989a-4f52-8699-23e4ac4a38b3\",\"type\":\"Toolbar\"},\"toolbar_location\":null,\"x_range\":{\"id\":\"d0517a9d-60c7-4111-b786-ea8c49113f73\",\"type\":\"FactorRange\"},\"y_range\":{\"id\":\"56c09151-b4ee-4711-875c-b3385df2629a\",\"type\":\"Range1d\"}},\"id\":\"d330b0a9-f031-475e-b72a-a5577389e2d8\",\"subtype\":\"Figure\",\"type\":\"Plot\"},{\"attributes\":{\"dimension\":1,\"plot\":{\"id\":\"8934f5ed-e0fc-404d-8ab5-f20fee34dc19\",\"subtype\":\"Figure\",\"type\":\"Plot\"},\"ticker\":{\"id\":\"9fc9bdde-a24b-4ec4-a7f4-f913b8c0afc8\",\"type\":\"BasicTicker\"}},\"id\":\"525e0ecb-ca1e-4b04-9793-ed175fdb6f97\",\"type\":\"Grid\"},{\"attributes\":{\"below\":[{\"id\":\"9ec1a2e3-386d-43f1-ae1c-4cfd52c43dab\",\"type\":\"CategoricalAxis\"}],\"border_fill_color\":{\"value\":\"whitesmoke\"},\"extra_y_ranges\":{\"y2\":{\"id\":\"f7e89275-1047-4d5e-b2cd-288c4cfc434d\",\"type\":\"Range1d\"}},\"left\":[{\"id\":\"b3f9c583-1f10-4eda-bc5d-1c3f56fce61d\",\"type\":\"LinearAxis\"}],\"min_border_left\":80,\"plot_height\":500,\"renderers\":[{\"id\":\"9ec1a2e3-386d-43f1-ae1c-4cfd52c43dab\",\"type\":\"CategoricalAxis\"},{\"id\":\"5e7455d7-d303-4fb7-b3fb-2de691129026\",\"type\":\"Grid\"},{\"id\":\"b3f9c583-1f10-4eda-bc5d-1c3f56fce61d\",\"type\":\"LinearAxis\"},{\"id\":\"525e0ecb-ca1e-4b04-9793-ed175fdb6f97\",\"type\":\"Grid\"},{\"id\":\"e56930c4-6f9f-4521-94a6-e843aaea7cc3\",\"type\":\"GlyphRenderer\"},{\"id\":\"cc1b26bb-93a6-41f6-add1-345f0890efb0\",\"type\":\"GlyphRenderer\"},{\"id\":\"7def607e-9578-4456-8727-8b67de085023\",\"type\":\"GlyphRenderer\"},{\"id\":\"ccdf700b-bf51-47b4-b4e4-733649994086\",\"type\":\"LinearAxis\"}],\"right\":[{\"id\":\"ccdf700b-bf51-47b4-b4e4-733649994086\",\"type\":\"LinearAxis\"}],\"title\":{\"id\":\"cf787530-bba5-4393-b1f6-c86f33ba455e\",\"type\":\"Title\"},\"tool_events\":{\"id\":\"e7ca2725-fd60-46b7-be83-ded0f2b2a270\",\"type\":\"ToolEvents\"},\"toolbar\":{\"id\":\"4899e86d-4285-48bb-b1b5-0b70be180b49\",\"type\":\"Toolbar\"},\"toolbar_location\":null,\"x_range\":{\"id\":\"2710285d-7361-477f-86ea-475acaf37b47\",\"type\":\"FactorRange\"},\"y_range\":{\"id\":\"3cf95b40-a50a-4431-a7e4-389dc7a1465d\",\"type\":\"Range1d\"}},\"id\":\"8934f5ed-e0fc-404d-8ab5-f20fee34dc19\",\"subtype\":\"Figure\",\"type\":\"Plot\"},{\"attributes\":{\"callback\":null,\"column_names\":[\"y\",\"x\"],\"data\":{\"x\":[\"2017/07\",\"2017/08\",\"2017/12\",\"2018/01\",\"2018/02\",\"2018/03\",\"2018/04\",\"2018/05\",\"2018/06\"],\"y\":[405,808,3122,4593,3158,8630,6260,4357,1764]}},\"id\":\"ddd61394-d398-48bc-8188-5cf5cbfc4500\",\"type\":\"ColumnDataSource\"},{\"attributes\":{\"plot\":{\"id\":\"61ea71c2-68e7-43ba-adaa-8cd744167960\",\"subtype\":\"Figure\",\"type\":\"Plot\"}},\"id\":\"cbe00518-2b3b-4ab0-a375-036d69e0d008\",\"type\":\"WheelZoomTool\"},{\"attributes\":{\"line_alpha\":{\"value\":0.1},\"line_color\":{\"value\":\"#1f77b4\"},\"line_width\":{\"value\":3},\"x\":{\"field\":\"x\"},\"y\":{\"field\":\"y\"}},\"id\":\"13fd727f-8827-466c-b24e-8369f1fff506\",\"type\":\"Line\"},{\"attributes\":{\"formatter\":{\"id\":\"dd27647e-36f6-4a23-9321-cf18712f7418\",\"type\":\"CategoricalTickFormatter\"},\"plot\":{\"id\":\"e8b5d1dc-37d2-4714-8e6b-b17923598ad0\",\"subtype\":\"Figure\",\"type\":\"Plot\"},\"ticker\":{\"id\":\"05250832-492d-4a95-b5c2-be7f55fa5f2b\",\"type\":\"CategoricalTicker\"}},\"id\":\"93efe6a3-2db7-4ca0-81cf-e27980670d1e\",\"type\":\"CategoricalAxis\"},{\"attributes\":{\"plot\":null,\"text\":\"Visa Ctrip Downgrade Percentages\"},\"id\":\"6533cdda-caf9-45fb-9787-9922de95127d\",\"type\":\"Title\"},{\"attributes\":{},\"id\":\"dd458bfe-4a0e-44b6-b596-2257922fa3a3\",\"type\":\"ToolEvents\"},{\"attributes\":{\"callback\":null},\"id\":\"81054c3c-77a0-4146-beef-53af60c7a139\",\"type\":\"Range1d\"},{\"attributes\":{\"plot\":{\"id\":\"8934f5ed-e0fc-404d-8ab5-f20fee34dc19\",\"subtype\":\"Figure\",\"type\":\"Plot\"},\"ticker\":{\"id\":\"250a99e1-c887-4518-8697-abb7aca9c6f5\",\"type\":\"CategoricalTicker\"}},\"id\":\"5e7455d7-d303-4fb7-b3fb-2de691129026\",\"type\":\"Grid\"},{\"attributes\":{\"callback\":null},\"id\":\"56c09151-b4ee-4711-875c-b3385df2629a\",\"type\":\"Range1d\"},{\"attributes\":{\"formatter\":{\"id\":\"80bab50a-632f-4f94-8899-2db954e455fa\",\"type\":\"CategoricalTickFormatter\"},\"plot\":{\"id\":\"61ea71c2-68e7-43ba-adaa-8cd744167960\",\"subtype\":\"Figure\",\"type\":\"Plot\"},\"ticker\":{\"id\":\"c6cb5ca2-42a4-4975-afd2-390f183577c4\",\"type\":\"CategoricalTicker\"}},\"id\":\"36d187cc-5372-4c4b-9781-401dd2da501f\",\"type\":\"CategoricalAxis\"},{\"attributes\":{},\"id\":\"a92922ef-e066-4ac8-965f-4b2978bdc525\",\"type\":\"BasicTicker\"},{\"attributes\":{\"fill_color\":{\"value\":\"black\"},\"x\":{\"field\":\"x\"},\"y\":{\"field\":\"y\"}},\"id\":\"3a2b2b92-ce93-48ac-a67e-185d6fb3d84b\",\"type\":\"Circle\"},{\"attributes\":{\"callback\":null,\"plot\":{\"id\":\"61ea71c2-68e7-43ba-adaa-8cd744167960\",\"subtype\":\"Figure\",\"type\":\"Plot\"}},\"id\":\"af6b59d1-608d-412b-b3eb-69605334913d\",\"type\":\"HoverTool\"},{\"attributes\":{\"callback\":null,\"column_names\":[\"y\",\"x\"],\"data\":{\"x\":[\"2017/07\",\"2017/08\",\"2017/12\",\"2018/01\",\"2018/02\",\"2018/03\",\"2018/04\",\"2018/05\",\"2018/06\"],\"y\":[423,849,3730,5607,3816,10244,7500,5193,2075]}},\"id\":\"e4565b42-b1cd-462d-b5bd-6973e52170f7\",\"type\":\"ColumnDataSource\"},{\"attributes\":{\"plot\":{\"id\":\"61ea71c2-68e7-43ba-adaa-8cd744167960\",\"subtype\":\"Figure\",\"type\":\"Plot\"}},\"id\":\"d4e5eaca-a8f7-46a6-833e-da101a28382d\",\"type\":\"PanTool\"},{\"attributes\":{},\"id\":\"5c220da0-7f07-4744-8a54-44637290201c\",\"type\":\"BasicTickFormatter\"},{\"attributes\":{\"line_alpha\":{\"value\":0.1},\"line_color\":{\"value\":\"#1f77b4\"},\"line_width\":{\"value\":3},\"x\":{\"field\":\"x\"},\"y\":{\"field\":\"y\"}},\"id\":\"83aa382b-f8f0-4602-a2d1-3c5549a2b579\",\"type\":\"Line\"},{\"attributes\":{\"fill_alpha\":{\"value\":0.1},\"fill_color\":{\"value\":\"#1f77b4\"},\"line_alpha\":{\"value\":0.1},\"line_color\":{\"value\":\"#1f77b4\"},\"top\":{\"field\":\"top\"},\"width\":{\"value\":0.9},\"x\":{\"field\":\"x\"}},\"id\":\"8fbbd2da-a3bd-4bb4-8251-7b7ac6b7f8ce\",\"type\":\"VBar\"},{\"attributes\":{\"fill_alpha\":{\"value\":0.1},\"fill_color\":{\"value\":\"#1f77b4\"},\"line_alpha\":{\"value\":0.1},\"line_color\":{\"value\":\"#1f77b4\"},\"x\":{\"field\":\"x\"},\"y\":{\"field\":\"y\"}},\"id\":\"0bec5016-18c2-44c4-8717-d7e4f602c96f\",\"type\":\"Circle\"},{\"attributes\":{\"plot\":{\"id\":\"5ce39922-da2d-44aa-869c-957c98fafb1d\",\"subtype\":\"Figure\",\"type\":\"Plot\"}},\"id\":\"77e1c548-211c-468d-b196-8c44056c7f1e\",\"type\":\"PanTool\"},{\"attributes\":{},\"id\":\"250a99e1-c887-4518-8697-abb7aca9c6f5\",\"type\":\"CategoricalTicker\"},{\"attributes\":{\"plot\":{\"id\":\"4dc12b77-e1ab-488c-9fba-54f222ddf21e\",\"subtype\":\"Figure\",\"type\":\"Plot\"}},\"id\":\"c72cbdbb-0a17-4bdb-b65f-0de1b083f64e\",\"type\":\"SaveTool\"},{\"attributes\":{\"plot\":{\"id\":\"61ea71c2-68e7-43ba-adaa-8cd744167960\",\"subtype\":\"Figure\",\"type\":\"Plot\"},\"ticker\":{\"id\":\"c6cb5ca2-42a4-4975-afd2-390f183577c4\",\"type\":\"CategoricalTicker\"}},\"id\":\"2cc5f689-e525-45c1-96d2-0a2da46a07b0\",\"type\":\"Grid\"},{\"attributes\":{\"formatter\":{\"id\":\"42b97bcb-8273-4ab0-94ea-5b866ae4ae6b\",\"type\":\"BasicTickFormatter\"},\"plot\":{\"id\":\"e8b5d1dc-37d2-4714-8e6b-b17923598ad0\",\"subtype\":\"Figure\",\"type\":\"Plot\"},\"ticker\":{\"id\":\"ea8ab0e5-5508-4ba9-b1f0-f7eb4628e801\",\"type\":\"BasicTicker\"}},\"id\":\"d9f0e00c-977a-4f6f-be6c-b776fe53c646\",\"type\":\"LinearAxis\"},{\"attributes\":{\"callback\":null},\"id\":\"e1926b51-cb5a-42d0-ba72-7d33daf74701\",\"type\":\"Range1d\"},{\"attributes\":{\"callback\":null,\"column_names\":[\"x\",\"top\"],\"data\":{\"top\":[0.3475177304964539,0.287396937573616,0.26997319034852546,0.29142143748885324,0.28721174004192873,0.6266106989457243,0.4938666666666667,0.3516271904486809,0.37734939759036146],\"x\":[\"2017/07\",\"2017/08\",\"2017/12\",\"2018/01\",\"2018/02\",\"2018/03\",\"2018/04\",\"2018/05\",\"2018/06\"]}},\"id\":\"b161cc7b-a617-4548-b09e-3ff53a7f4d97\",\"type\":\"ColumnDataSource\"},{\"attributes\":{},\"id\":\"9fc9bdde-a24b-4ec4-a7f4-f913b8c0afc8\",\"type\":\"BasicTicker\"},{\"attributes\":{\"data_source\":{\"id\":\"b161cc7b-a617-4548-b09e-3ff53a7f4d97\",\"type\":\"ColumnDataSource\"},\"glyph\":{\"id\":\"0b3a4dce-cefa-4beb-9b24-17ddefb56c2b\",\"type\":\"VBar\"},\"hover_glyph\":null,\"nonselection_glyph\":{\"id\":\"cbf6ba7d-1cc2-44ae-971b-7eecd6fd2a5f\",\"type\":\"VBar\"},\"selection_glyph\":null},\"id\":\"9f7f2e0b-fb95-49c7-afb1-4f517ec8b19c\",\"type\":\"GlyphRenderer\"},{\"attributes\":{\"fill_color\":{\"value\":\"#1f77b4\"},\"line_color\":{\"value\":\"#1f77b4\"},\"top\":{\"field\":\"top\"},\"width\":{\"value\":0.9},\"x\":{\"field\":\"x\"}},\"id\":\"a86e25f5-2b0f-4a17-be14-d131e100c9df\",\"type\":\"VBar\"},{\"attributes\":{\"callback\":null,\"column_names\":[\"y\",\"x\"],\"data\":{\"x\":[\"2017/07\",\"2017/08\",\"2017/12\",\"2018/01\",\"2018/02\",\"2018/03\",\"2018/04\",\"2018/05\",\"2018/06\"],\"y\":[648,1251,4216,5962,4260,12093,8455,5787,2337]}},\"id\":\"540b4e27-7a6d-4788-a126-b4a89873b8a4\",\"type\":\"ColumnDataSource\"},{\"attributes\":{\"fill_color\":{\"value\":\"black\"},\"x\":{\"field\":\"x\"},\"y\":{\"field\":\"y\"}},\"id\":\"ef54d7cc-0a65-4960-ac60-941452e32662\",\"type\":\"Circle\"},{\"attributes\":{\"formatter\":{\"id\":\"4193b7d7-838f-4880-94cd-806ede5848b8\",\"type\":\"CategoricalTickFormatter\"},\"plot\":{\"id\":\"4dc12b77-e1ab-488c-9fba-54f222ddf21e\",\"subtype\":\"Figure\",\"type\":\"Plot\"},\"ticker\":{\"id\":\"ce32ef8b-eec4-442b-90b1-96af5af01c8b\",\"type\":\"CategoricalTicker\"}},\"id\":\"1d61e664-d0bf-4e24-90de-3f72552a05f2\",\"type\":\"CategoricalAxis\"},{\"attributes\":{},\"id\":\"8492284c-b8ac-48b0-b4cd-415bb38f390c\",\"type\":\"CategoricalTickFormatter\"},{\"attributes\":{\"formatter\":{\"id\":\"459554dd-d8a4-4e25-b13c-1300a9f715bd\",\"type\":\"BasicTickFormatter\"},\"plot\":{\"id\":\"d330b0a9-f031-475e-b72a-a5577389e2d8\",\"subtype\":\"Figure\",\"type\":\"Plot\"},\"ticker\":{\"id\":\"c30bb918-10f4-41fa-9afb-899a408e4191\",\"type\":\"BasicTicker\"},\"y_range_name\":\"y2\"},\"id\":\"d4f3be6d-ec4b-48d7-802f-d5129caf7969\",\"type\":\"LinearAxis\"},{\"attributes\":{},\"id\":\"80bab50a-632f-4f94-8899-2db954e455fa\",\"type\":\"CategoricalTickFormatter\"},{\"attributes\":{\"line_color\":{\"value\":\"red\"},\"line_width\":{\"value\":3},\"x\":{\"field\":\"x\"},\"y\":{\"field\":\"y\"}},\"id\":\"9357c378-9ed9-4703-a708-88772865cd7a\",\"type\":\"Line\"},{\"attributes\":{},\"id\":\"a51780ae-9c58-415f-8ffb-b1fe41c203c2\",\"type\":\"BasicTickFormatter\"},{\"attributes\":{\"callback\":null,\"plot\":{\"id\":\"e8b5d1dc-37d2-4714-8e6b-b17923598ad0\",\"subtype\":\"Figure\",\"type\":\"Plot\"}},\"id\":\"42ecb137-7bfc-4128-9dd4-376a9a2f6b48\",\"type\":\"HoverTool\"},{\"attributes\":{\"callback\":null,\"plot\":{\"id\":\"8934f5ed-e0fc-404d-8ab5-f20fee34dc19\",\"subtype\":\"Figure\",\"type\":\"Plot\"}},\"id\":\"25820825-9bf6-479b-8879-a1f5a5a450ff\",\"type\":\"HoverTool\"},{\"attributes\":{\"plot\":{\"id\":\"4dc12b77-e1ab-488c-9fba-54f222ddf21e\",\"subtype\":\"Figure\",\"type\":\"Plot\"},\"ticker\":{\"id\":\"ce32ef8b-eec4-442b-90b1-96af5af01c8b\",\"type\":\"CategoricalTicker\"}},\"id\":\"056774a5-4c87-4945-bb1b-d82413d6a0a3\",\"type\":\"Grid\"},{\"attributes\":{\"formatter\":{\"id\":\"1a0f7377-9752-4768-bd53-05acfb9c2cc1\",\"type\":\"BasicTickFormatter\"},\"plot\":{\"id\":\"5ce39922-da2d-44aa-869c-957c98fafb1d\",\"subtype\":\"Figure\",\"type\":\"Plot\"},\"ticker\":{\"id\":\"dbc09620-6d6a-427b-80a9-5b392d2cbe4b\",\"type\":\"BasicTicker\"},\"y_range_name\":\"y2\"},\"id\":\"ab3d6f78-60cf-45a5-a6ae-db9e82cf9707\",\"type\":\"LinearAxis\"},{\"attributes\":{},\"id\":\"34afcaff-fc9b-4c32-81a3-63938e76da99\",\"type\":\"BasicTicker\"},{\"attributes\":{\"line_color\":{\"value\":\"red\"},\"line_width\":{\"value\":3},\"x\":{\"field\":\"x\"},\"y\":{\"field\":\"y\"}},\"id\":\"b3902776-1734-4c0c-a7b5-c42ce9bd5e55\",\"type\":\"Line\"},{\"attributes\":{\"active_drag\":\"auto\",\"active_scroll\":\"auto\",\"active_tap\":\"auto\",\"tools\":[{\"id\":\"bbaf82b1-d97d-4f95-8838-7459c50b9942\",\"type\":\"HoverTool\"},{\"id\":\"c72cbdbb-0a17-4bdb-b65f-0de1b083f64e\",\"type\":\"SaveTool\"},{\"id\":\"52972ed0-2600-4be4-a847-7356b2b71383\",\"type\":\"WheelZoomTool\"},{\"id\":\"5f082e8d-17c3-4b40-8ee1-7111e7dba408\",\"type\":\"PanTool\"}]},\"id\":\"bc4cba6f-d3c6-4673-a4da-19b99d4bcb6b\",\"type\":\"Toolbar\"},{\"attributes\":{},\"id\":\"20ba8a91-ae56-4ff3-9189-48d956b9a6db\",\"type\":\"BasicTickFormatter\"},{\"attributes\":{\"plot\":null,\"text\":\"MasterCard Ctrip Downgrade Percentages\"},\"id\":\"f470ec4d-7404-4748-8f95-9dede31dcd80\",\"type\":\"Title\"},{\"attributes\":{\"fill_alpha\":{\"value\":0.1},\"fill_color\":{\"value\":\"#1f77b4\"},\"line_alpha\":{\"value\":0.1},\"line_color\":{\"value\":\"#1f77b4\"},\"x\":{\"field\":\"x\"},\"y\":{\"field\":\"y\"}},\"id\":\"5072c3a7-ab93-409d-9851-7f6cfaf86af5\",\"type\":\"Circle\"},{\"attributes\":{\"data_source\":{\"id\":\"f491d615-275a-4b0a-a60f-f68a693eeeff\",\"type\":\"ColumnDataSource\"},\"glyph\":{\"id\":\"d094ccbd-548b-4e9f-850c-a3d4acbb08c4\",\"type\":\"Circle\"},\"hover_glyph\":null,\"nonselection_glyph\":{\"id\":\"5072c3a7-ab93-409d-9851-7f6cfaf86af5\",\"type\":\"Circle\"},\"selection_glyph\":null,\"y_range_name\":\"y2\"},\"id\":\"a7d93119-2940-49d6-84b4-b668c746885e\",\"type\":\"GlyphRenderer\"},{\"attributes\":{},\"id\":\"05626371-22a4-4b6e-81ff-0a6017c81862\",\"type\":\"BasicTickFormatter\"},{\"attributes\":{\"line_color\":{\"value\":\"red\"},\"line_width\":{\"value\":3},\"x\":{\"field\":\"x\"},\"y\":{\"field\":\"y\"}},\"id\":\"b6449804-e18f-4bfd-ad58-fad58f5a081d\",\"type\":\"Line\"},{\"attributes\":{\"callback\":null,\"column_names\":[\"x\",\"top\"],\"data\":{\"top\":[0.053497942386831275,0.033860045146726865,0.0283363802559415,0.03871439006574142,0.034482758620689655,0.12994513427663876,0.10569476082004556,0.07272727272727272,0.06980802792321117],\"x\":[\"2017/07\",\"2017/08\",\"2017/12\",\"2018/01\",\"2018/02\",\"2018/03\",\"2018/04\",\"2018/05\",\"2018/06\"]}},\"id\":\"c8108cbd-5396-4838-8ec2-0ae47277615d\",\"type\":\"ColumnDataSource\"},{\"attributes\":{\"fill_alpha\":{\"value\":0.1},\"fill_color\":{\"value\":\"#1f77b4\"},\"line_alpha\":{\"value\":0.1},\"line_color\":{\"value\":\"#1f77b4\"},\"top\":{\"field\":\"top\"},\"width\":{\"value\":0.9},\"x\":{\"field\":\"x\"}},\"id\":\"cbf6ba7d-1cc2-44ae-971b-7eecd6fd2a5f\",\"type\":\"VBar\"},{\"attributes\":{\"fill_alpha\":{\"value\":0.1},\"fill_color\":{\"value\":\"#1f77b4\"},\"line_alpha\":{\"value\":0.1},\"line_color\":{\"value\":\"#1f77b4\"},\"x\":{\"field\":\"x\"},\"y\":{\"field\":\"y\"}},\"id\":\"fd3d5e32-f879-4535-bcca-b7f3bd24f1c4\",\"type\":\"Circle\"},{\"attributes\":{\"callback\":null,\"column_names\":[\"y\",\"x\"],\"data\":{\"x\":[\"2017/07\",\"2017/08\",\"2017/12\",\"2018/01\",\"2018/02\",\"2018/03\",\"2018/04\",\"2018/05\",\"2018/06\"],\"y\":[243,443,1094,1369,1102,3463,2195,1430,573]}},\"id\":\"588cbb0a-a0a2-431d-9f07-1362d0faed47\",\"type\":\"ColumnDataSource\"},{\"attributes\":{\"callback\":null,\"column_names\":[\"y\",\"x\"],\"data\":{\"x\":[\"2017/07\",\"2017/08\",\"2017/12\",\"2018/01\",\"2018/02\",\"2018/03\",\"2018/04\",\"2018/05\",\"2018/06\"],\"y\":[423,849,3730,5607,3816,10244,7500,5193,2075]}},\"id\":\"f491d615-275a-4b0a-a60f-f68a693eeeff\",\"type\":\"ColumnDataSource\"},{\"attributes\":{\"callback\":null,\"factors\":[\"2017/07\",\"2017/08\",\"2017/12\",\"2018/01\",\"2018/02\",\"2018/03\",\"2018/04\",\"2018/05\",\"2018/06\"]},\"id\":\"d0517a9d-60c7-4111-b786-ea8c49113f73\",\"type\":\"FactorRange\"},{\"attributes\":{\"data_source\":{\"id\":\"a033e270-b739-407e-8a0f-36b22d237f73\",\"type\":\"ColumnDataSource\"},\"glyph\":{\"id\":\"ef54d7cc-0a65-4960-ac60-941452e32662\",\"type\":\"Circle\"},\"hover_glyph\":null,\"nonselection_glyph\":{\"id\":\"0bec5016-18c2-44c4-8717-d7e4f602c96f\",\"type\":\"Circle\"},\"selection_glyph\":null,\"y_range_name\":\"y2\"},\"id\":\"a8f2e85e-e794-41fb-84d2-d13419bbd3a5\",\"type\":\"GlyphRenderer\"},{\"attributes\":{\"plot\":{\"id\":\"4dc12b77-e1ab-488c-9fba-54f222ddf21e\",\"subtype\":\"Figure\",\"type\":\"Plot\"}},\"id\":\"5f082e8d-17c3-4b40-8ee1-7111e7dba408\",\"type\":\"PanTool\"},{\"attributes\":{\"active_drag\":\"auto\",\"active_scroll\":\"auto\",\"active_tap\":\"auto\",\"tools\":[{\"id\":\"a1fdf8bb-fe30-4585-995a-b1ddc40ebcc4\",\"type\":\"HoverTool\"},{\"id\":\"8a3e7262-b869-4535-bcec-d99b2800a8a1\",\"type\":\"SaveTool\"},{\"id\":\"b634c54a-19ed-4fd9-9d56-94d762070d42\",\"type\":\"WheelZoomTool\"},{\"id\":\"77e1c548-211c-468d-b196-8c44056c7f1e\",\"type\":\"PanTool\"}]},\"id\":\"1c9c497e-5a3f-47a4-9559-859676ab5df8\",\"type\":\"Toolbar\"},{\"attributes\":{},\"id\":\"0bd01ffd-d7a0-40a6-a987-24b48e330bd0\",\"type\":\"BasicTickFormatter\"},{\"attributes\":{\"active_drag\":\"auto\",\"active_scroll\":\"auto\",\"active_tap\":\"auto\",\"tools\":[{\"id\":\"af6b59d1-608d-412b-b3eb-69605334913d\",\"type\":\"HoverTool\"},{\"id\":\"58de0ffe-cca3-401b-8fb1-0887e9fb1605\",\"type\":\"SaveTool\"},{\"id\":\"cbe00518-2b3b-4ab0-a375-036d69e0d008\",\"type\":\"WheelZoomTool\"},{\"id\":\"d4e5eaca-a8f7-46a6-833e-da101a28382d\",\"type\":\"PanTool\"}]},\"id\":\"df13120f-546a-434c-9637-e8e9eb257585\",\"type\":\"Toolbar\"},{\"attributes\":{\"fill_alpha\":{\"value\":0.1},\"fill_color\":{\"value\":\"#1f77b4\"},\"line_alpha\":{\"value\":0.1},\"line_color\":{\"value\":\"#1f77b4\"},\"top\":{\"field\":\"top\"},\"width\":{\"value\":0.9},\"x\":{\"field\":\"x\"}},\"id\":\"2cad1993-4d9e-41ef-b1dc-0478e7b8c8b6\",\"type\":\"VBar\"},{\"attributes\":{},\"id\":\"dab01bc7-1f2f-4b9e-9551-a366752314fe\",\"type\":\"BasicTicker\"},{\"attributes\":{},\"id\":\"8bd2b9ba-2592-4860-8e66-2f2de0dc7dde\",\"type\":\"CategoricalTickFormatter\"}],\"root_ids\":[\"2b634699-313c-4e49-abd9-326c13eac6c8\"]},\"title\":\"Bokeh Application\",\"version\":\"0.12.2\"}};\n",
       "            var render_items = [{\"docid\":\"811bb797-a9b3-4d80-9d37-43e9cabe8149\",\"elementid\":\"d16db45f-9871-4553-90e2-f88661aae2d4\",\"modelid\":\"2b634699-313c-4e49-abd9-326c13eac6c8\"}];\n",
       "            \n",
       "            Bokeh.embed.embed_items(docs_json, render_items);\n",
       "        });\n",
       "      },\n",
       "      function(Bokeh) {\n",
       "      }\n",
       "    ];\n",
       "  \n",
       "    function run_inline_js() {\n",
       "      \n",
       "      if ((window.Bokeh !== undefined) || (force === \"1\")) {\n",
       "        for (var i = 0; i < inline_js.length; i++) {\n",
       "          inline_js[i](window.Bokeh);\n",
       "        }if (force === \"1\") {\n",
       "          display_loaded();\n",
       "        }} else if (Date.now() < window._bokeh_timeout) {\n",
       "        setTimeout(run_inline_js, 100);\n",
       "      } else if (!window._bokeh_failed_load) {\n",
       "        console.log(\"Bokeh: BokehJS failed to load within specified timeout.\");\n",
       "        window._bokeh_failed_load = true;\n",
       "      } else if (!force) {\n",
       "        var cell = $(\"#d16db45f-9871-4553-90e2-f88661aae2d4\").parents('.cell').data().cell;\n",
       "        cell.output_area.append_execute_result(NB_LOAD_WARNING)\n",
       "      }\n",
       "  \n",
       "    }\n",
       "  \n",
       "    if (window._bokeh_is_loading === 0) {\n",
       "      console.log(\"Bokeh: BokehJS loaded, going straight to plotting\");\n",
       "      run_inline_js();\n",
       "    } else {\n",
       "      load_libs(js_urls, function() {\n",
       "        console.log(\"Bokeh: BokehJS plotting callback run at\", now());\n",
       "        run_inline_js();\n",
       "      });\n",
       "    }\n",
       "  }(this));\n",
       "</script>"
      ]
     },
     "metadata": {},
     "output_type": "display_data"
    }
   ],
   "source": []
  },
  {
   "cell_type": "code",
   "execution_count": 25,
   "metadata": {
    "collapsed": true
   },
   "outputs": [],
   "source": [
    "#we need to ask ourselves how much of this is skyscanner?"
   ]
  },
  {
   "cell_type": "code",
   "execution_count": 26,
   "metadata": {
    "collapsed": true
   },
   "outputs": [],
   "source": [
    "#lets have a look at the skyscanner breakdown by IP"
   ]
  },
  {
   "cell_type": "code",
   "execution_count": 27,
   "metadata": {
    "collapsed": false
   },
   "outputs": [],
   "source": [
    "df.to_csv('d:\\\\djohnson\\\\Desktop\\\\ctrip_output.txt',sep=';')"
   ]
  }
 ],
 "metadata": {
  "anaconda-cloud": {},
  "kernelspec": {
   "display_name": "Python [default]",
   "language": "python",
   "name": "python2"
  },
  "language_info": {
   "codemirror_mode": {
    "name": "ipython",
    "version": 2
   },
   "file_extension": ".py",
   "mimetype": "text/x-python",
   "name": "python",
   "nbconvert_exporter": "python",
   "pygments_lexer": "ipython2",
   "version": "2.7.12"
  }
 },
 "nbformat": 4,
 "nbformat_minor": 1
}
