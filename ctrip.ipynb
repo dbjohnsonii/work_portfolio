{
 "cells": [
  {
   "cell_type": "code",
   "execution_count": null,
   "metadata": {},
   "outputs": [],
   "source": [
    "from IPython.core.display import display, HTML\n",
    "display(HTML(\"<style>.container { width:95% !important; }</style>\"))\n",
    "import sys\n",
    "print (sys.version)"
   ]
  },
  {
   "cell_type": "code",
   "execution_count": 356,
   "metadata": {
    "collapsed": true
   },
   "outputs": [],
   "source": [
    "import pandas as pd\n",
    "pd.set_option('display.float_format', lambda x: '%.5f' % x)\n",
    "\n",
    "import numpy as np\n",
    "\n",
    "from __future__ import division"
   ]
  },
  {
   "cell_type": "code",
   "execution_count": 409,
   "metadata": {},
   "outputs": [],
   "source": [
    "from bokeh.plotting import figure, output_file, show\n",
    "from bokeh.models import DatetimeTickFormatter\n",
    "from bokeh.io import output_file, show\n",
    "from bokeh.charts import Bar\n",
    "from bokeh.layouts import row\n",
    "from bokeh.layouts import column\n",
    "from bokeh.layouts import gridplot\n",
    "from bokeh.models import Button\n",
    "from bokeh.palettes import RdYlBu3,GnBu3, OrRd3\n",
    "from bokeh.plotting import figure, curdoc\n",
    "from bokeh.layouts import widgetbox\n",
    "from bokeh.models.widgets import MultiSelect\n",
    "from bokeh.models.glyphs import VBar\n",
    "from bokeh.models import LinearAxis, Range1d\n",
    "from bokeh.models import ColumnDataSource, FactorRange\n",
    "from bokeh.models.widgets import Panel, Tabs\n",
    "from bokeh.models.widgets import Paragraph\n",
    "from bokeh.models import ColumnDataSource"
   ]
  },
  {
   "cell_type": "code",
   "execution_count": 4,
   "metadata": {},
   "outputs": [
    {
     "data": {
      "text/html": [
       "\n",
       "    <div class=\"bk-root\">\n",
       "        <a href=\"http://bokeh.pydata.org\" target=\"_blank\" class=\"bk-logo bk-logo-small bk-logo-notebook\"></a>\n",
       "        <span id=\"51504d9e-824c-4f96-a0ae-4c66d6a1091e\">Loading BokehJS ...</span>\n",
       "    </div>"
      ]
     },
     "metadata": {},
     "output_type": "display_data"
    },
    {
     "data": {
      "application/javascript": [
       "\n",
       "(function(global) {\n",
       "  function now() {\n",
       "    return new Date();\n",
       "  }\n",
       "\n",
       "  var force = \"1\";\n",
       "\n",
       "  if (typeof (window._bokeh_onload_callbacks) === \"undefined\" || force !== \"\") {\n",
       "    window._bokeh_onload_callbacks = [];\n",
       "    window._bokeh_is_loading = undefined;\n",
       "  }\n",
       "\n",
       "\n",
       "  \n",
       "  if (typeof (window._bokeh_timeout) === \"undefined\" || force !== \"\") {\n",
       "    window._bokeh_timeout = Date.now() + 5000;\n",
       "    window._bokeh_failed_load = false;\n",
       "  }\n",
       "\n",
       "  var NB_LOAD_WARNING = {'data': {'text/html':\n",
       "     \"<div style='background-color: #fdd'>\\n\"+\n",
       "     \"<p>\\n\"+\n",
       "     \"BokehJS does not appear to have successfully loaded. If loading BokehJS from CDN, this \\n\"+\n",
       "     \"may be due to a slow or bad network connection. Possible fixes:\\n\"+\n",
       "     \"</p>\\n\"+\n",
       "     \"<ul>\\n\"+\n",
       "     \"<li>re-rerun `output_notebook()` to attempt to load from CDN again, or</li>\\n\"+\n",
       "     \"<li>use INLINE resources instead, as so:</li>\\n\"+\n",
       "     \"</ul>\\n\"+\n",
       "     \"<code>\\n\"+\n",
       "     \"from bokeh.resources import INLINE\\n\"+\n",
       "     \"output_notebook(resources=INLINE)\\n\"+\n",
       "     \"</code>\\n\"+\n",
       "     \"</div>\"}};\n",
       "\n",
       "  function display_loaded() {\n",
       "    if (window.Bokeh !== undefined) {\n",
       "      Bokeh.$(\"#51504d9e-824c-4f96-a0ae-4c66d6a1091e\").text(\"BokehJS successfully loaded.\");\n",
       "    } else if (Date.now() < window._bokeh_timeout) {\n",
       "      setTimeout(display_loaded, 100)\n",
       "    }\n",
       "  }\n",
       "\n",
       "  function run_callbacks() {\n",
       "    window._bokeh_onload_callbacks.forEach(function(callback) { callback() });\n",
       "    delete window._bokeh_onload_callbacks\n",
       "    console.info(\"Bokeh: all callbacks have finished\");\n",
       "  }\n",
       "\n",
       "  function load_libs(js_urls, callback) {\n",
       "    window._bokeh_onload_callbacks.push(callback);\n",
       "    if (window._bokeh_is_loading > 0) {\n",
       "      console.log(\"Bokeh: BokehJS is being loaded, scheduling callback at\", now());\n",
       "      return null;\n",
       "    }\n",
       "    if (js_urls == null || js_urls.length === 0) {\n",
       "      run_callbacks();\n",
       "      return null;\n",
       "    }\n",
       "    console.log(\"Bokeh: BokehJS not loaded, scheduling load and callback at\", now());\n",
       "    window._bokeh_is_loading = js_urls.length;\n",
       "    for (var i = 0; i < js_urls.length; i++) {\n",
       "      var url = js_urls[i];\n",
       "      var s = document.createElement('script');\n",
       "      s.src = url;\n",
       "      s.async = false;\n",
       "      s.onreadystatechange = s.onload = function() {\n",
       "        window._bokeh_is_loading--;\n",
       "        if (window._bokeh_is_loading === 0) {\n",
       "          console.log(\"Bokeh: all BokehJS libraries loaded\");\n",
       "          run_callbacks()\n",
       "        }\n",
       "      };\n",
       "      s.onerror = function() {\n",
       "        console.warn(\"failed to load library \" + url);\n",
       "      };\n",
       "      console.log(\"Bokeh: injecting script tag for BokehJS library: \", url);\n",
       "      document.getElementsByTagName(\"head\")[0].appendChild(s);\n",
       "    }\n",
       "  };var element = document.getElementById(\"51504d9e-824c-4f96-a0ae-4c66d6a1091e\");\n",
       "  if (element == null) {\n",
       "    console.log(\"Bokeh: ERROR: autoload.js configured with elementid '51504d9e-824c-4f96-a0ae-4c66d6a1091e' but no matching script tag was found. \")\n",
       "    return false;\n",
       "  }\n",
       "\n",
       "  var js_urls = ['https://cdn.pydata.org/bokeh/release/bokeh-0.12.2.min.js', 'https://cdn.pydata.org/bokeh/release/bokeh-widgets-0.12.2.min.js', 'https://cdn.pydata.org/bokeh/release/bokeh-compiler-0.12.2.min.js'];\n",
       "\n",
       "  var inline_js = [\n",
       "    function(Bokeh) {\n",
       "      Bokeh.set_log_level(\"info\");\n",
       "    },\n",
       "    \n",
       "    function(Bokeh) {\n",
       "      \n",
       "      Bokeh.$(\"#51504d9e-824c-4f96-a0ae-4c66d6a1091e\").text(\"BokehJS is loading...\");\n",
       "    },\n",
       "    function(Bokeh) {\n",
       "      console.log(\"Bokeh: injecting CSS: https://cdn.pydata.org/bokeh/release/bokeh-0.12.2.min.css\");\n",
       "      Bokeh.embed.inject_css(\"https://cdn.pydata.org/bokeh/release/bokeh-0.12.2.min.css\");\n",
       "      console.log(\"Bokeh: injecting CSS: https://cdn.pydata.org/bokeh/release/bokeh-widgets-0.12.2.min.css\");\n",
       "      Bokeh.embed.inject_css(\"https://cdn.pydata.org/bokeh/release/bokeh-widgets-0.12.2.min.css\");\n",
       "    }\n",
       "  ];\n",
       "\n",
       "  function run_inline_js() {\n",
       "    \n",
       "    if ((window.Bokeh !== undefined) || (force === \"1\")) {\n",
       "      for (var i = 0; i < inline_js.length; i++) {\n",
       "        inline_js[i](window.Bokeh);\n",
       "      }if (force === \"1\") {\n",
       "        display_loaded();\n",
       "      }} else if (Date.now() < window._bokeh_timeout) {\n",
       "      setTimeout(run_inline_js, 100);\n",
       "    } else if (!window._bokeh_failed_load) {\n",
       "      console.log(\"Bokeh: BokehJS failed to load within specified timeout.\");\n",
       "      window._bokeh_failed_load = true;\n",
       "    } else if (!force) {\n",
       "      var cell = $(\"#51504d9e-824c-4f96-a0ae-4c66d6a1091e\").parents('.cell').data().cell;\n",
       "      cell.output_area.append_execute_result(NB_LOAD_WARNING)\n",
       "    }\n",
       "\n",
       "  }\n",
       "\n",
       "  if (window._bokeh_is_loading === 0) {\n",
       "    console.log(\"Bokeh: BokehJS loaded, going straight to plotting\");\n",
       "    run_inline_js();\n",
       "  } else {\n",
       "    load_libs(js_urls, function() {\n",
       "      console.log(\"Bokeh: BokehJS plotting callback run at\", now());\n",
       "      run_inline_js();\n",
       "    });\n",
       "  }\n",
       "}(this));"
      ]
     },
     "metadata": {},
     "output_type": "display_data"
    }
   ],
   "source": [
    "from bokeh import __version__ as bokeh_version\n",
    "from bokeh.io import output_notebook, show\n",
    "from bokeh.plotting import figure\n",
    "\n",
    "output_notebook()"
   ]
  },
  {
   "cell_type": "code",
   "execution_count": 5,
   "metadata": {
    "collapsed": true
   },
   "outputs": [],
   "source": [
    "columns=['STATUSID','RECEIVEDDATE','DATEAUTHORISATION','SENDDATE','PAYMENTDATE','STATUSDATE'\n",
    "         ,'MERCHANTID','MERCHANTNAME','ORDERID','CREDITCARDCOMPANY','CREDITDEBITINDICATOR'\n",
    "         ,'CVVINDICATOR','CVVRESULT','CVVSERVICEINDICATOR','AVSINDICATOR','AVSRESULT','FRAUDCODE'\n",
    "         ,'FRAUDINDICATOR','FRAUDRESULT','STTINDICATOR','MERCHANTREFERENCE','PAYMENTREFERENCE'\n",
    "         ,'CUSTOMERID','COUNTRYCODE','AUTHORISEDCURRENCYCODE','AUTHORISEDAMOUNT','AMOUNT','SURNAME'\n",
    "         ,'CITY','PREFIXSURNAME','STREET','ZIP','STATE','PROVIDERNAME','PAYMENTPROCESSOR','SERVICEPROVIDERID'\n",
    "         ,'PAYMENTMETHODID','PAYMENTPRODUCTID','IIN','CVVINDICATOR','CVVDESC','AVSDESC','AVS_RESPONSE','CONS_CORP_BIN'\n",
    "         ,'INTERCHANGE_RATE','INTERCHANGE_PERCENT_RATE','INTERCHANGE_FLAT_RATE','TRANSACTION_FLOW','ISSUING_BANK','CARD_SCHEME_BIN'\n",
    "         ,'CRED_DEB_BIN','ipaddressmerchant']"
   ]
  },
  {
   "cell_type": "code",
   "execution_count": 6,
   "metadata": {},
   "outputs": [
    {
     "name": "stderr",
     "output_type": "stream",
     "text": [
      "C:\\Users\\djohnson\\AppData\\Local\\Continuum\\Anaconda2\\lib\\site-packages\\IPython\\core\\interactiveshell.py:2717: DtypeWarning: Columns (0,34,45,46,47) have mixed types. Specify dtype option on import or set low_memory=False.\n",
      "  interactivity=interactivity, compiler=compiler, result=result)\n"
     ]
    }
   ],
   "source": [
    "df=pd.read_csv('d:\\\\djohnson\\\\Desktop\\\\ctrip2.txt',skiprows=82,sep=';',error_bad_lines=False,warn_bad_lines=False,names=columns)"
   ]
  },
  {
   "cell_type": "code",
   "execution_count": 7,
   "metadata": {},
   "outputs": [],
   "source": [
    "dg_df=pd.read_csv('d:\\\\djohnson\\\\Desktop\\\\vantiv_downgrades.csv',error_bad_lines=False,warn_bad_lines=False)"
   ]
  },
  {
   "cell_type": "code",
   "execution_count": 8,
   "metadata": {},
   "outputs": [],
   "source": [
    "df=df.drop(len(df)-1)"
   ]
  },
  {
   "cell_type": "code",
   "execution_count": 305,
   "metadata": {},
   "outputs": [],
   "source": [
    "df['AMOUNT']=df['AMOUNT'].astype(float)\n",
    "df['STATUSID']=df['STATUSID'].astype(float)\n",
    "df['INTERCHANGE_RATE']=df['INTERCHANGE_RATE'].str.strip()\n",
    "df['AVS_RESPONSE']=df['AVS_RESPONSE'].str.strip()\n",
    "df['CREDITDEBITINDICATOR']=df['CREDITDEBITINDICATOR'].str.strip()\n",
    "df['CARD_SCHEME_BIN']=df['CARD_SCHEME_BIN'].str.strip()\n",
    "df['ipaddressmerchant']=df['ipaddressmerchant'].str.strip()\n",
    "df['AVSDESC']=df['AVSDESC'].str.strip()\n",
    "df['RECEIVEDDATE']=pd.to_datetime(df['RECEIVEDDATE'])\n",
    "df['DATEAUTHORISATION']=pd.to_datetime(df['DATEAUTHORISATION'])\n",
    "df['SENDDATE']=pd.to_datetime(df['SENDDATE'])\n",
    "df['PAYMENTDATE']=pd.to_datetime(df['PAYMENTDATE'])\n",
    "df['STATUSDATE']=pd.to_datetime(df['STATUSDATE'])"
   ]
  },
  {
   "cell_type": "code",
   "execution_count": 10,
   "metadata": {},
   "outputs": [],
   "source": [
    "df['RECEIVEDDATE']=df['RECEIVEDDATE'].dt.strftime('%Y/%m')\n",
    "df['DATEAUTHORISATION']=df['DATEAUTHORISATION'].dt.strftime('%Y/%m')\n",
    "df['SENDDATE']=df['SENDDATE'].dt.strftime('%Y/%m')\n",
    "df['PAYMENTDATE']=df['PAYMENTDATE'].dt.strftime('%Y/%m')\n",
    "df['STATUSDATE']=df['STATUSDATE'].dt.strftime('%Y/%m')"
   ]
  },
  {
   "cell_type": "code",
   "execution_count": 11,
   "metadata": {},
   "outputs": [],
   "source": [
    "#df.info()"
   ]
  },
  {
   "cell_type": "code",
   "execution_count": 12,
   "metadata": {},
   "outputs": [
    {
     "data": {
      "text/html": [
       "<div>\n",
       "<table border=\"1\" class=\"dataframe\">\n",
       "  <thead>\n",
       "    <tr style=\"text-align: right;\">\n",
       "      <th></th>\n",
       "      <th>INTERCHANGE_RATE</th>\n",
       "      <th>Corporate Purchasing</th>\n",
       "      <th>Interregional</th>\n",
       "      <th>DOWNGRADE</th>\n",
       "      <th>EIRF</th>\n",
       "      <th>INTERCHANGE_PERCENT_RATE</th>\n",
       "      <th>INTERCHANGE_FLAT_RATE</th>\n",
       "      <th>INTEGRITYFEE</th>\n",
       "    </tr>\n",
       "  </thead>\n",
       "  <tbody>\n",
       "    <tr>\n",
       "      <th>0</th>\n",
       "      <td>VI U.S. Regulated Debit</td>\n",
       "      <td>0</td>\n",
       "      <td>0</td>\n",
       "      <td>0</td>\n",
       "      <td>0</td>\n",
       "      <td>0.0005</td>\n",
       "      <td>0.22</td>\n",
       "      <td>0.0</td>\n",
       "    </tr>\n",
       "    <tr>\n",
       "      <th>1</th>\n",
       "      <td>MC Consumer T&amp;E World Elite</td>\n",
       "      <td>0</td>\n",
       "      <td>0</td>\n",
       "      <td>0</td>\n",
       "      <td>0</td>\n",
       "      <td>0.0275</td>\n",
       "      <td>0.10</td>\n",
       "      <td>0.0</td>\n",
       "    </tr>\n",
       "    <tr>\n",
       "      <th>2</th>\n",
       "      <td>MC Consumer Merit 1</td>\n",
       "      <td>0</td>\n",
       "      <td>0</td>\n",
       "      <td>0</td>\n",
       "      <td>0</td>\n",
       "      <td>0.0189</td>\n",
       "      <td>0.10</td>\n",
       "      <td>0.0</td>\n",
       "    </tr>\n",
       "    <tr>\n",
       "      <th>3</th>\n",
       "      <td>VI Consumer Standard Credit</td>\n",
       "      <td>0</td>\n",
       "      <td>0</td>\n",
       "      <td>1</td>\n",
       "      <td>0</td>\n",
       "      <td>0.0270</td>\n",
       "      <td>0.10</td>\n",
       "      <td>0.1</td>\n",
       "    </tr>\n",
       "    <tr>\n",
       "      <th>4</th>\n",
       "      <td>VI Consumer EIRF Signature Preferred Credit</td>\n",
       "      <td>0</td>\n",
       "      <td>0</td>\n",
       "      <td>1</td>\n",
       "      <td>1</td>\n",
       "      <td>0.0240</td>\n",
       "      <td>0.10</td>\n",
       "      <td>0.1</td>\n",
       "    </tr>\n",
       "  </tbody>\n",
       "</table>\n",
       "</div>"
      ],
      "text/plain": [
       "                              INTERCHANGE_RATE  Corporate Purchasing  \\\n",
       "0                      VI U.S. Regulated Debit                     0   \n",
       "1                  MC Consumer T&E World Elite                     0   \n",
       "2                          MC Consumer Merit 1                     0   \n",
       "3                  VI Consumer Standard Credit                     0   \n",
       "4  VI Consumer EIRF Signature Preferred Credit                     0   \n",
       "\n",
       "   Interregional  DOWNGRADE  EIRF  INTERCHANGE_PERCENT_RATE  \\\n",
       "0              0          0     0                    0.0005   \n",
       "1              0          0     0                    0.0275   \n",
       "2              0          0     0                    0.0189   \n",
       "3              0          1     0                    0.0270   \n",
       "4              0          1     1                    0.0240   \n",
       "\n",
       "   INTERCHANGE_FLAT_RATE  INTEGRITYFEE  \n",
       "0                   0.22           0.0  \n",
       "1                   0.10           0.0  \n",
       "2                   0.10           0.0  \n",
       "3                   0.10           0.1  \n",
       "4                   0.10           0.1  "
      ]
     },
     "execution_count": 12,
     "metadata": {},
     "output_type": "execute_result"
    }
   ],
   "source": [
    "dg_df.head()"
   ]
  },
  {
   "cell_type": "code",
   "execution_count": 106,
   "metadata": {},
   "outputs": [
    {
     "data": {
      "text/html": [
       "<div>\n",
       "<table border=\"1\" class=\"dataframe\">\n",
       "  <thead>\n",
       "    <tr style=\"text-align: right;\">\n",
       "      <th></th>\n",
       "      <th>STATUSID</th>\n",
       "      <th>RECEIVEDDATE</th>\n",
       "      <th>DATEAUTHORISATION</th>\n",
       "      <th>SENDDATE</th>\n",
       "      <th>PAYMENTDATE</th>\n",
       "      <th>STATUSDATE</th>\n",
       "      <th>MERCHANTID</th>\n",
       "      <th>MERCHANTNAME</th>\n",
       "      <th>ORDERID</th>\n",
       "      <th>CREDITCARDCOMPANY</th>\n",
       "      <th>...</th>\n",
       "      <th>CARD_SCHEME_BIN</th>\n",
       "      <th>CRED_DEB_BIN</th>\n",
       "      <th>ipaddressmerchant</th>\n",
       "      <th>Corporate Purchasing</th>\n",
       "      <th>Interregional</th>\n",
       "      <th>DOWNGRADE</th>\n",
       "      <th>EIRF</th>\n",
       "      <th>INTERCHANGE_PERCENT_RATE_y</th>\n",
       "      <th>INTERCHANGE_FLAT_RATE_y</th>\n",
       "      <th>INTEGRITYFEE</th>\n",
       "    </tr>\n",
       "  </thead>\n",
       "  <tbody>\n",
       "    <tr>\n",
       "      <th>0</th>\n",
       "      <td>1050.0</td>\n",
       "      <td>2017/08</td>\n",
       "      <td>2017/08</td>\n",
       "      <td>2017/08</td>\n",
       "      <td>2017/08</td>\n",
       "      <td>2017/08</td>\n",
       "      <td>4856.0</td>\n",
       "      <td>CTRIP INTERNATIONAL TRAVEL (U.</td>\n",
       "      <td>4.000009e+09</td>\n",
       "      <td>VISA</td>\n",
       "      <td>...</td>\n",
       "      <td>VISA</td>\n",
       "      <td>CREDIT</td>\n",
       "      <td>202.60.225.153</td>\n",
       "      <td>0.0</td>\n",
       "      <td>0.0</td>\n",
       "      <td>1.0</td>\n",
       "      <td>0.0</td>\n",
       "      <td>0.0270</td>\n",
       "      <td>0.10</td>\n",
       "      <td>0.1</td>\n",
       "    </tr>\n",
       "    <tr>\n",
       "      <th>1</th>\n",
       "      <td>1050.0</td>\n",
       "      <td>2017/08</td>\n",
       "      <td>2017/08</td>\n",
       "      <td>2017/08</td>\n",
       "      <td>2017/08</td>\n",
       "      <td>2017/08</td>\n",
       "      <td>4856.0</td>\n",
       "      <td>CTRIP INTERNATIONAL TRAVEL (U.</td>\n",
       "      <td>4.000008e+09</td>\n",
       "      <td>VISA</td>\n",
       "      <td>...</td>\n",
       "      <td>VISA</td>\n",
       "      <td>DEBIT</td>\n",
       "      <td>202.60.225.153</td>\n",
       "      <td>0.0</td>\n",
       "      <td>0.0</td>\n",
       "      <td>0.0</td>\n",
       "      <td>0.0</td>\n",
       "      <td>0.0005</td>\n",
       "      <td>0.22</td>\n",
       "      <td>0.0</td>\n",
       "    </tr>\n",
       "    <tr>\n",
       "      <th>2</th>\n",
       "      <td>1050.0</td>\n",
       "      <td>2017/07</td>\n",
       "      <td>2017/07</td>\n",
       "      <td>2017/07</td>\n",
       "      <td>2017/07</td>\n",
       "      <td>2017/07</td>\n",
       "      <td>4856.0</td>\n",
       "      <td>CTRIP INTERNATIONAL TRAVEL (U.</td>\n",
       "      <td>4.000000e+09</td>\n",
       "      <td>ECMC</td>\n",
       "      <td>...</td>\n",
       "      <td>VISA</td>\n",
       "      <td>CREDIT</td>\n",
       "      <td>10.64.10.46</td>\n",
       "      <td>0.0</td>\n",
       "      <td>0.0</td>\n",
       "      <td>0.0</td>\n",
       "      <td>0.0</td>\n",
       "      <td>0.0195</td>\n",
       "      <td>0.10</td>\n",
       "      <td>0.0</td>\n",
       "    </tr>\n",
       "    <tr>\n",
       "      <th>3</th>\n",
       "      <td>1050.0</td>\n",
       "      <td>2017/08</td>\n",
       "      <td>2017/08</td>\n",
       "      <td>2017/08</td>\n",
       "      <td>2017/08</td>\n",
       "      <td>2017/08</td>\n",
       "      <td>4856.0</td>\n",
       "      <td>CTRIP INTERNATIONAL TRAVEL (U.</td>\n",
       "      <td>4.000008e+09</td>\n",
       "      <td>VISA</td>\n",
       "      <td>...</td>\n",
       "      <td>VISA</td>\n",
       "      <td>CREDIT</td>\n",
       "      <td>202.60.225.153</td>\n",
       "      <td>0.0</td>\n",
       "      <td>1.0</td>\n",
       "      <td>0.0</td>\n",
       "      <td>0.0</td>\n",
       "      <td>0.0160</td>\n",
       "      <td>0.00</td>\n",
       "      <td>0.0</td>\n",
       "    </tr>\n",
       "    <tr>\n",
       "      <th>4</th>\n",
       "      <td>1050.0</td>\n",
       "      <td>2017/08</td>\n",
       "      <td>2017/08</td>\n",
       "      <td>2017/08</td>\n",
       "      <td>2017/08</td>\n",
       "      <td>2017/08</td>\n",
       "      <td>4856.0</td>\n",
       "      <td>CTRIP INTERNATIONAL TRAVEL (U.</td>\n",
       "      <td>4.000008e+09</td>\n",
       "      <td>VISA</td>\n",
       "      <td>...</td>\n",
       "      <td>VISA</td>\n",
       "      <td>CREDIT</td>\n",
       "      <td>202.60.225.153</td>\n",
       "      <td>0.0</td>\n",
       "      <td>0.0</td>\n",
       "      <td>0.0</td>\n",
       "      <td>0.0</td>\n",
       "      <td>0.0160</td>\n",
       "      <td>0.00</td>\n",
       "      <td>0.0</td>\n",
       "    </tr>\n",
       "  </tbody>\n",
       "</table>\n",
       "<p>5 rows × 59 columns</p>\n",
       "</div>"
      ],
      "text/plain": [
       "   STATUSID RECEIVEDDATE DATEAUTHORISATION SENDDATE PAYMENTDATE STATUSDATE  \\\n",
       "0    1050.0      2017/08           2017/08  2017/08     2017/08    2017/08   \n",
       "1    1050.0      2017/08           2017/08  2017/08     2017/08    2017/08   \n",
       "2    1050.0      2017/07           2017/07  2017/07     2017/07    2017/07   \n",
       "3    1050.0      2017/08           2017/08  2017/08     2017/08    2017/08   \n",
       "4    1050.0      2017/08           2017/08  2017/08     2017/08    2017/08   \n",
       "\n",
       "   MERCHANTID                    MERCHANTNAME       ORDERID CREDITCARDCOMPANY  \\\n",
       "0      4856.0  CTRIP INTERNATIONAL TRAVEL (U.  4.000009e+09              VISA   \n",
       "1      4856.0  CTRIP INTERNATIONAL TRAVEL (U.  4.000008e+09              VISA   \n",
       "2      4856.0  CTRIP INTERNATIONAL TRAVEL (U.  4.000000e+09              ECMC   \n",
       "3      4856.0  CTRIP INTERNATIONAL TRAVEL (U.  4.000008e+09              VISA   \n",
       "4      4856.0  CTRIP INTERNATIONAL TRAVEL (U.  4.000008e+09              VISA   \n",
       "\n",
       "      ...      CARD_SCHEME_BIN               CRED_DEB_BIN ipaddressmerchant  \\\n",
       "0     ...                 VISA  CREDIT                       202.60.225.153   \n",
       "1     ...                 VISA  DEBIT                        202.60.225.153   \n",
       "2     ...                 VISA  CREDIT                          10.64.10.46   \n",
       "3     ...                 VISA  CREDIT                       202.60.225.153   \n",
       "4     ...                 VISA  CREDIT                       202.60.225.153   \n",
       "\n",
       "   Corporate Purchasing  Interregional DOWNGRADE EIRF  \\\n",
       "0                   0.0            0.0       1.0  0.0   \n",
       "1                   0.0            0.0       0.0  0.0   \n",
       "2                   0.0            0.0       0.0  0.0   \n",
       "3                   0.0            1.0       0.0  0.0   \n",
       "4                   0.0            0.0       0.0  0.0   \n",
       "\n",
       "  INTERCHANGE_PERCENT_RATE_y INTERCHANGE_FLAT_RATE_y INTEGRITYFEE  \n",
       "0                     0.0270                    0.10          0.1  \n",
       "1                     0.0005                    0.22          0.0  \n",
       "2                     0.0195                    0.10          0.0  \n",
       "3                     0.0160                    0.00          0.0  \n",
       "4                     0.0160                    0.00          0.0  \n",
       "\n",
       "[5 rows x 59 columns]"
      ]
     },
     "execution_count": 106,
     "metadata": {},
     "output_type": "execute_result"
    }
   ],
   "source": [
    "df.head()"
   ]
  },
  {
   "cell_type": "code",
   "execution_count": 14,
   "metadata": {
    "collapsed": true
   },
   "outputs": [],
   "source": [
    "df=pd.merge(df,dg_df,on='INTERCHANGE_RATE',how='left')"
   ]
  },
  {
   "cell_type": "markdown",
   "metadata": {
    "collapsed": true
   },
   "source": [
    "## Total Downgrades"
   ]
  },
  {
   "cell_type": "code",
   "execution_count": 135,
   "metadata": {},
   "outputs": [
    {
     "name": "stderr",
     "output_type": "stream",
     "text": [
      "INFO:bokeh.core.state:Session output file 'downgrades.html' already exists, will be overwritten.\n"
     ]
    },
    {
     "name": "stdout",
     "output_type": "stream",
     "text": [
      "['2017/07', '2017/08', '2017/12', '2018/01', '2018/02', '2018/03', '2018/04', '2018/05', '2018/06']\n",
      "[0.028906648529161708, 0.12909441233140656, 0.203017084696474, 0.2568497962624701, 0.2288008965259619, 0.4924783881287863, 0.4185177705977383, 0.30361910412340554, 0.3220653789004458]\n",
      "[5881L, 2076L, 5502L, 7117L, 5354L, 14691L, 9904L, 6742L, 2692L]\n"
     ]
    }
   ],
   "source": [
    "count=df[['RECEIVEDDATE','DOWNGRADE']]\n",
    "count=count.groupby(['RECEIVEDDATE'],as_index=False).sum()\n",
    "orders=df[['RECEIVEDDATE','ORDERID']]\n",
    "orders=orders.groupby(['RECEIVEDDATE'],as_index=False).count()\n",
    "count=pd.merge(count,orders,how='left',on=['RECEIVEDDATE'])\n",
    "count['DOWNGRADE_PERCENTAGE']=count['DOWNGRADE']/count['ORDERID']\n",
    "\n",
    "#in order to feed the information from the dataframe into the bar chart we will need to convert the infromation into lists\n",
    "date=count['RECEIVEDDATE'].values.tolist() #x\n",
    "dg_count=count['DOWNGRADE_PERCENTAGE'].values.tolist() #y\n",
    "dg_orders=count['ORDERID'].values.tolist() #y2\n",
    "\n",
    "#let's review our dataframe variables now converted to lists\n",
    "print date\n",
    "print dg_count\n",
    "print dg_orders\n",
    "\n",
    "#let's have a look at the results in Bokeh\n",
    "output_file(\"downgrades.html\")\n",
    "\n",
    "x=date\n",
    "y=dg_count\n",
    "y2=dg_orders\n",
    "TOOLS=\"hover,save,wheel_zoom,pan,reset\"\n",
    "\n",
    "#create a figure\n",
    "p1 = figure(x_range=x,plot_height=500, title=\"Ctrip Downgrade Percentages\", toolbar_location=\"above\",tools=TOOLS) \n",
    "#fill the plot with the array information within the created figure\n",
    "p1.vbar(x=date, top=y, width=0.9)\n",
    "#establish the range of the left y-axis\n",
    "p1.y_range = Range1d(0,1) \n",
    "#format the color and size of the border around the graphs\n",
    "p1.border_fill_color = \"whitesmoke\"\n",
    "p1.min_border_left = 80\n",
    "\n",
    "#add in the axis lables\n",
    "p1.xaxis.axis_label = \"Date\"\n",
    "p1.yaxis.axis_label = \"Downgrade Percentage\"\n",
    "\n",
    "p1.extra_y_ranges={\"y2\":Range1d(start=0,end=15000)}\n",
    "p1.line(x,y2,color=\"red\",y_range_name=\"y2\",line_width=3)\n",
    "p1.circle(x,y2,color=\"black\",y_range_name=\"y2\")\n",
    "p1.add_layout(LinearAxis(y_range_name=\"y2\"),'right')\n",
    "\n",
    "#show(p1)"
   ]
  },
  {
   "cell_type": "markdown",
   "metadata": {},
   "source": [
    "## Visa"
   ]
  },
  {
   "cell_type": "code",
   "execution_count": 142,
   "metadata": {},
   "outputs": [
    {
     "name": "stderr",
     "output_type": "stream",
     "text": [
      "INFO:bokeh.core.state:Session output file 'downgrades.html' already exists, will be overwritten.\n"
     ]
    },
    {
     "name": "stdout",
     "output_type": "stream",
     "text": [
      "['2017/07', '2017/08', '2017/12', '2018/01', '2018/02', '2018/03', '2018/04', '2018/05', '2018/06']\n",
      "[0.3475177304964539, 0.287396937573616, 0.26997319034852546, 0.29142143748885324, 0.28721174004192873, 0.6266106989457243, 0.4938666666666667, 0.3516271904486809, 0.37734939759036146]\n",
      "[423L, 849L, 3730L, 5607L, 3816L, 10244L, 7500L, 5193L, 2075L]\n"
     ]
    }
   ],
   "source": [
    "#visa\n",
    "visa_sum=df[['RECEIVEDDATE','DOWNGRADE']][(df['CARD_SCHEME_BIN']=='VISA')]\n",
    "visa_sum=visa_sum.groupby(['RECEIVEDDATE'],as_index=False).sum()\n",
    "visa_count=df[['RECEIVEDDATE','ORDERID']][(df['CARD_SCHEME_BIN']=='VISA')]\n",
    "visa_count=visa_count.groupby(['RECEIVEDDATE'],as_index=False).count()\n",
    "visa_count=pd.merge(visa_count,visa_sum,how='left',on=['RECEIVEDDATE'])\n",
    "visa_count['DOWNGRADE_PERCENTAGE']=visa_count['DOWNGRADE']/visa_count['ORDERID']\n",
    "\n",
    "#in order to feed the information from the dataframe into the bar chart we will need to convert the infromation into lists\n",
    "date=visa_count['RECEIVEDDATE'].values.tolist() #x\n",
    "dg_count=visa_count['DOWNGRADE_PERCENTAGE'].values.tolist() #y\n",
    "dg_orders=visa_count['ORDERID'].values.tolist() #y2\n",
    "\n",
    "#let's review our dataframe variables now converted to lists\n",
    "print date\n",
    "print dg_count\n",
    "print dg_orders\n",
    "\n",
    "#let's have a look at the results in Bokeh\n",
    "output_file(\"downgrades.html\")\n",
    "\n",
    "x=date\n",
    "y=dg_count\n",
    "y2=dg_orders\n",
    "TOOLS=\"hover,save,wheel_zoom,pan,reset\"\n",
    "\n",
    "\n",
    "p2 = figure(plot_height=500, title=\"Visa Ctrip Downgrade Percentages\", toolbar_location=\"above\",tools=TOOLS,x_range=p1.x_range, y_range=p1.y_range,extra_y_ranges=p1.extra_y_ranges)\n",
    "p2.vbar(x=date, top=y, width=0.9)\n",
    "p2.y_range = Range1d(0,1)\n",
    "p2.border_fill_color = \"whitesmoke\"\n",
    "p2.min_border_left = 80\n",
    "\n",
    "#add in the axis lables\n",
    "p2.xaxis.axis_label = \"Date\"\n",
    "p2.yaxis.axis_label = \"Downgrade Percentage\"\n",
    "\n",
    "p2.extra_y_ranges={\"y2\":Range1d(start=0,end=15000)}\n",
    "p2.line(x,y2,color=\"red\",y_range_name=\"y2\",line_width=3)\n",
    "p2.circle(x,y2,color=\"black\",y_range_name=\"y2\")\n",
    "p2.add_layout(LinearAxis(y_range_name=\"y2\"),'right')\n",
    "\n",
    "#show(p2)"
   ]
  },
  {
   "cell_type": "markdown",
   "metadata": {},
   "source": [
    "## MasterCard"
   ]
  },
  {
   "cell_type": "code",
   "execution_count": 143,
   "metadata": {},
   "outputs": [
    {
     "name": "stderr",
     "output_type": "stream",
     "text": [
      "INFO:bokeh.core.state:Session output file 'downgrades.html' already exists, will be overwritten.\n"
     ]
    },
    {
     "name": "stdout",
     "output_type": "stream",
     "text": [
      "['2017/07', '2017/08', '2017/12', '2018/01', '2018/02', '2018/03', '2018/04', '2018/05', '2018/06']\n",
      "[0.08984375, 0.05240174672489083, 0.0937766410912191, 0.12847682119205298, 0.10813076278290025, 0.21311047270827893, 0.1834442595673877, 0.14276485788113696, 0.13614262560777957]\n",
      "[256L, 458L, 1173L, 1510L, 1193L, 3829L, 2404L, 1548L, 617L]\n"
     ]
    }
   ],
   "source": [
    "#masterCard\n",
    "mc_sum=df[['RECEIVEDDATE','DOWNGRADE']][(df['CARD_SCHEME_BIN']=='MASTERCARD')]\n",
    "mc_sum=mc_sum.groupby(['RECEIVEDDATE'],as_index=False).sum()\n",
    "mc_count=df[['RECEIVEDDATE','ORDERID']][(df['CARD_SCHEME_BIN']=='MASTERCARD')]\n",
    "mc_count=mc_count.groupby(['RECEIVEDDATE'],as_index=False).count()\n",
    "mc_count=pd.merge(mc_count,mc_sum,how='left',on=['RECEIVEDDATE'])\n",
    "mc_count['DOWNGRADE_PERCENTAGE']=mc_count['DOWNGRADE']/mc_count['ORDERID']\n",
    "\n",
    "#in order to feed the information from the dataframe into the bar chart we will need to convert the infromation into lists\n",
    "date=mc_count['RECEIVEDDATE'].values.tolist() #x\n",
    "dg_count=mc_count['DOWNGRADE_PERCENTAGE'].values.tolist() #y\n",
    "dg_orders=mc_count['ORDERID'].values.tolist() #y2\n",
    "\n",
    "#let's review our dataframe variables now converted to lists\n",
    "print date\n",
    "print dg_count\n",
    "print dg_orders\n",
    "\n",
    "#let's have a look at the results in Bokeh\n",
    "output_file(\"downgrades.html\")\n",
    "\n",
    "x=date\n",
    "y=dg_count\n",
    "y2=dg_orders\n",
    "TOOLS=\"hover,save,wheel_zoom,pan,reset\"\n",
    "\n",
    "\n",
    "p3 = figure(plot_height=500, title=\"MasterCard Ctrip Downgrade Percentages\", toolbar_location=\"above\",tools=TOOLS,x_range=p1.x_range, y_range=p1.y_range,extra_y_ranges=p1.extra_y_ranges)\n",
    "p3.vbar(x=date, top=y, width=0.9)\n",
    "p3.y_range = Range1d(0,1)\n",
    "p3.border_fill_color = \"whitesmoke\"\n",
    "p3.min_border_left = 80\n",
    "\n",
    "#add in the axis lables\n",
    "p3.xaxis.axis_label = \"Date\"\n",
    "p3.yaxis.axis_label = \"Downgrade Percentage\"\n",
    "\n",
    "p3.extra_y_ranges={\"y2\":Range1d(start=0,end=15000)}\n",
    "p3.line(x,y2,color=\"red\",y_range_name=\"y2\",line_width=3)\n",
    "p3.circle(x,y2,color=\"black\",y_range_name=\"y2\")\n",
    "p3.add_layout(LinearAxis(y_range_name=\"y2\"),'right')\n",
    "\n",
    "#show(p3)"
   ]
  },
  {
   "cell_type": "markdown",
   "metadata": {},
   "source": [
    "## Total No EIRF"
   ]
  },
  {
   "cell_type": "code",
   "execution_count": 144,
   "metadata": {},
   "outputs": [
    {
     "name": "stderr",
     "output_type": "stream",
     "text": [
      "INFO:bokeh.core.state:Session output file 'downgrades.html' already exists, will be overwritten.\n"
     ]
    },
    {
     "name": "stdout",
     "output_type": "stream",
     "text": [
      "['2017/07', '2017/08', '2017/12', '2018/01', '2018/02', '2018/03', '2018/04', '2018/05', '2018/06']\n",
      "[0.02414555347729978, 0.10500963391136801, 0.07851690294438386, 0.09456231558240832, 0.08890549122151663, 0.3577019944183514, 0.27221324717285944, 0.16226638979531297, 0.1901931649331352]\n",
      "[648L, 1251L, 4216L, 5962L, 4260L, 12093L, 8455L, 5787L, 2337L]\n"
     ]
    }
   ],
   "source": [
    "count_eirf=df[['RECEIVEDDATE','DOWNGRADE']][(df['EIRF']==0)]\n",
    "count_eirf=count_eirf.groupby(['RECEIVEDDATE'],as_index=False).sum()\n",
    "orders_eirf=df[['RECEIVEDDATE','ORDERID']][(df['EIRF']==0)]\n",
    "orders_eirf=orders_eirf.groupby(['RECEIVEDDATE'],as_index=False).count()\n",
    "count_eirf=pd.merge(count_eirf,orders_eirf,how='left',on=['RECEIVEDDATE'])\n",
    "count_eirf['DOWNGRADE_PERCENTAGE']=count_eirf['DOWNGRADE']/count['ORDERID']\n",
    "\n",
    "#in order to feed the information from the dataframe into the bar chart we will need to convert the infromation into lists\n",
    "date=count_eirf['RECEIVEDDATE'].values.tolist() #x\n",
    "dg_count=count_eirf['DOWNGRADE_PERCENTAGE'].values.tolist() #y\n",
    "dg_orders=count_eirf['ORDERID'].values.tolist() #y2\n",
    "\n",
    "#let's review our dataframe variables now converted to lists\n",
    "print date\n",
    "print dg_count\n",
    "print dg_orders\n",
    "\n",
    "#let's have a look at the results in Bokeh\n",
    "output_file(\"downgrades.html\")\n",
    "\n",
    "x=date\n",
    "y=dg_count\n",
    "y2=dg_orders\n",
    "TOOLS=\"hover,save,wheel_zoom,pan,reset\"\n",
    "\n",
    "\n",
    "p4 = figure(plot_height=500, title=\"Ctrip Downgrade Percentages\", toolbar_location=\"above\",tools=TOOLS,x_range=p1.x_range, y_range=p1.y_range,extra_y_ranges=p1.extra_y_ranges)\n",
    "p4.vbar(x=date, top=y, width=0.9)\n",
    "p4.y_range = Range1d(0,1)\n",
    "p4.border_fill_color = \"whitesmoke\"\n",
    "p4.min_border_left = 80\n",
    "\n",
    "#add in the axis lables\n",
    "p4.xaxis.axis_label = \"Date\"\n",
    "p4.yaxis.axis_label = \"Downgrade Percentage\"\n",
    "\n",
    "p4.extra_y_ranges={\"y2\":Range1d(start=0,end=15000)}\n",
    "p4.line(x,y2,color=\"red\",y_range_name=\"y2\",line_width=3)\n",
    "p4.circle(x,y2,color=\"black\",y_range_name=\"y2\")\n",
    "p4.add_layout(LinearAxis(y_range_name=\"y2\"),'right')\n",
    "\n",
    "#show(p4)"
   ]
  },
  {
   "cell_type": "markdown",
   "metadata": {},
   "source": [
    "## Visa No EIRF"
   ]
  },
  {
   "cell_type": "code",
   "execution_count": 145,
   "metadata": {},
   "outputs": [
    {
     "name": "stderr",
     "output_type": "stream",
     "text": [
      "INFO:bokeh.core.state:Session output file 'downgrades.html' already exists, will be overwritten.\n"
     ]
    },
    {
     "name": "stdout",
     "output_type": "stream",
     "text": [
      "['2017/07', '2017/08', '2017/12', '2018/01', '2018/02', '2018/03', '2018/04', '2018/05', '2018/06']\n",
      "[0.31851851851851853, 0.25123762376237624, 0.1284433055733504, 0.13498802525582407, 0.13869537682077265, 0.5567786790266512, 0.3936102236421725, 0.2272205646086757, 0.2675736961451247]\n",
      "[405L, 808L, 3122L, 4593L, 3158L, 8630L, 6260L, 4357L, 1764L]\n"
     ]
    }
   ],
   "source": [
    "#visa\n",
    "visa_sum_eirf=df[['RECEIVEDDATE','DOWNGRADE']][(df['CARD_SCHEME_BIN']=='VISA')&(df['EIRF']==0)]\n",
    "visa_sum_eirf=visa_sum_eirf.groupby(['RECEIVEDDATE'],as_index=False).sum()\n",
    "visa_count_eirf=df[['RECEIVEDDATE','ORDERID']][(df['CARD_SCHEME_BIN']=='VISA')&(df['EIRF']==0)]\n",
    "visa_count_eirf=visa_count_eirf.groupby(['RECEIVEDDATE'],as_index=False).count()\n",
    "visa_count_eirf=pd.merge(visa_count_eirf,visa_sum_eirf,how='left',on=['RECEIVEDDATE'])\n",
    "visa_count_eirf['DOWNGRADE_PERCENTAGE']=visa_count_eirf['DOWNGRADE']/visa_count_eirf['ORDERID']\n",
    "\n",
    "#in order to feed the information from the dataframe into the bar chart we will need to convert the infromation into lists\n",
    "date=visa_count_eirf['RECEIVEDDATE'].values.tolist() #x\n",
    "dg_count=visa_count_eirf['DOWNGRADE_PERCENTAGE'].values.tolist() #y\n",
    "dg_orders=visa_count_eirf['ORDERID'].values.tolist() #y2\n",
    "\n",
    "#let's review our dataframe variables now converted to lists\n",
    "print date\n",
    "print dg_count\n",
    "print dg_orders\n",
    "\n",
    "#let's have a look at the results in Bokeh\n",
    "output_file(\"downgrades.html\")\n",
    "\n",
    "x=date\n",
    "y=dg_count\n",
    "y2=dg_orders\n",
    "TOOLS=\"hover,save,wheel_zoom,pan,reset\"\n",
    "\n",
    "\n",
    "p5 = figure(plot_height=500, title=\"Visa Ctrip Downgrade Percentages\", toolbar_location=\"above\",tools=TOOLS,x_range=p1.x_range, y_range=p1.y_range,extra_y_ranges=p1.extra_y_ranges)\n",
    "p5.vbar(x=date, top=y, width=0.9)\n",
    "p5.y_range = Range1d(0,1)\n",
    "p5.border_fill_color = \"whitesmoke\"\n",
    "p5.min_border_left = 80\n",
    "\n",
    "#add in the axis lables\n",
    "p5.xaxis.axis_label = \"Date\"\n",
    "p5.yaxis.axis_label = \"Downgrade Percentage\"\n",
    "\n",
    "p5.extra_y_ranges={\"y2\":Range1d(start=0,end=15000)}\n",
    "p5.line(x,y2,color=\"red\",y_range_name=\"y2\",line_width=3)\n",
    "p5.circle(x,y2,color=\"black\",y_range_name=\"y2\")\n",
    "p5.add_layout(LinearAxis(y_range_name=\"y2\"),'right')\n",
    "\n",
    "#show(p5)"
   ]
  },
  {
   "cell_type": "markdown",
   "metadata": {},
   "source": [
    "## MasterCard No EIRF"
   ]
  },
  {
   "cell_type": "code",
   "execution_count": 146,
   "metadata": {},
   "outputs": [
    {
     "name": "stderr",
     "output_type": "stream",
     "text": [
      "INFO:bokeh.core.state:Session output file 'downgrades.html' already exists, will be overwritten.\n"
     ]
    },
    {
     "name": "stdout",
     "output_type": "stream",
     "text": [
      "['2017/07', '2017/08', '2017/12', '2018/01', '2018/02', '2018/03', '2018/04', '2018/05', '2018/06']\n",
      "[0.053497942386831275, 0.033860045146726865, 0.0283363802559415, 0.03871439006574142, 0.034482758620689655, 0.12994513427663876, 0.10569476082004556, 0.07272727272727272, 0.06980802792321117]\n",
      "[243L, 443L, 1094L, 1369L, 1102L, 3463L, 2195L, 1430L, 573L]\n"
     ]
    }
   ],
   "source": [
    "#visa\n",
    "mc_sum_eirf=df[['RECEIVEDDATE','DOWNGRADE']][(df['CARD_SCHEME_BIN']=='MASTERCARD')&(df['EIRF']==0)]\n",
    "mc_sum_eirf=mc_sum_eirf.groupby(['RECEIVEDDATE'],as_index=False).sum()\n",
    "mc_count_eirf=df[['RECEIVEDDATE','ORDERID']][(df['CARD_SCHEME_BIN']=='MASTERCARD')&(df['EIRF']==0)]\n",
    "mc_count_eirf=mc_count_eirf.groupby(['RECEIVEDDATE'],as_index=False).count()\n",
    "mc_count_eirf=pd.merge(mc_count_eirf,mc_sum_eirf,how='left',on=['RECEIVEDDATE'])\n",
    "mc_count_eirf['DOWNGRADE_PERCENTAGE']=mc_count_eirf['DOWNGRADE']/mc_count_eirf['ORDERID']\n",
    "\n",
    "#in order to feed the information from the dataframe into the bar chart we will need to convert the infromation into lists\n",
    "date=mc_count_eirf['RECEIVEDDATE'].values.tolist() #x\n",
    "dg_count=mc_count_eirf['DOWNGRADE_PERCENTAGE'].values.tolist() #y\n",
    "dg_orders=mc_count_eirf['ORDERID'].values.tolist() #y2\n",
    "\n",
    "#let's review our dataframe variables now converted to lists\n",
    "print date\n",
    "print dg_count\n",
    "print dg_orders\n",
    "\n",
    "#let's have a look at the results in Bokeh\n",
    "output_file(\"downgrades.html\")\n",
    "\n",
    "x=date\n",
    "y=dg_count\n",
    "y2=dg_orders\n",
    "TOOLS=\"hover,save,wheel_zoom,pan,reset\"\n",
    "\n",
    "\n",
    "p6 = figure(plot_height=500, title=\"MasterCard Ctrip Downgrade Percentages\", toolbar_location=\"above\",tools=TOOLS,x_range=p1.x_range, y_range=p1.y_range,extra_y_ranges=p1.extra_y_ranges)\n",
    "p6.vbar(x=date, top=y, width=0.9)\n",
    "p6.y_range = Range1d(0,1)\n",
    "p6.border_fill_color = \"whitesmoke\"\n",
    "p6.min_border_left = 80\n",
    "\n",
    "#add in the axis lables\n",
    "p6.xaxis.axis_label = \"Date\"\n",
    "p6.yaxis.axis_label = \"Downgrade Percentage\"\n",
    "\n",
    "p6.extra_y_ranges={\"y2\":Range1d(start=0,end=15000)}\n",
    "p6.line(x,y2,color=\"red\",y_range_name=\"y2\",line_width=3)\n",
    "p6.circle(x,y2,color=\"black\",y_range_name=\"y2\")\n",
    "p6.add_layout(LinearAxis(y_range_name=\"y2\"),'right')\n",
    "\n",
    "#show(p5)"
   ]
  },
  {
   "cell_type": "code",
   "execution_count": 148,
   "metadata": {},
   "outputs": [
    {
     "data": {
      "text/html": [
       "\n",
       "\n",
       "    <div class=\"bk-root\">\n",
       "        <div class=\"plotdiv\" id=\"eb0f7356-924a-4bc6-ae71-341a3ec76ae3\"></div>\n",
       "    </div>\n",
       "<script type=\"text/javascript\">\n",
       "  \n",
       "  (function(global) {\n",
       "    function now() {\n",
       "      return new Date();\n",
       "    }\n",
       "  \n",
       "    var force = \"\";\n",
       "  \n",
       "    if (typeof (window._bokeh_onload_callbacks) === \"undefined\" || force !== \"\") {\n",
       "      window._bokeh_onload_callbacks = [];\n",
       "      window._bokeh_is_loading = undefined;\n",
       "    }\n",
       "  \n",
       "  \n",
       "    \n",
       "    if (typeof (window._bokeh_timeout) === \"undefined\" || force !== \"\") {\n",
       "      window._bokeh_timeout = Date.now() + 0;\n",
       "      window._bokeh_failed_load = false;\n",
       "    }\n",
       "  \n",
       "    var NB_LOAD_WARNING = {'data': {'text/html':\n",
       "       \"<div style='background-color: #fdd'>\\n\"+\n",
       "       \"<p>\\n\"+\n",
       "       \"BokehJS does not appear to have successfully loaded. If loading BokehJS from CDN, this \\n\"+\n",
       "       \"may be due to a slow or bad network connection. Possible fixes:\\n\"+\n",
       "       \"</p>\\n\"+\n",
       "       \"<ul>\\n\"+\n",
       "       \"<li>re-rerun `output_notebook()` to attempt to load from CDN again, or</li>\\n\"+\n",
       "       \"<li>use INLINE resources instead, as so:</li>\\n\"+\n",
       "       \"</ul>\\n\"+\n",
       "       \"<code>\\n\"+\n",
       "       \"from bokeh.resources import INLINE\\n\"+\n",
       "       \"output_notebook(resources=INLINE)\\n\"+\n",
       "       \"</code>\\n\"+\n",
       "       \"</div>\"}};\n",
       "  \n",
       "    function display_loaded() {\n",
       "      if (window.Bokeh !== undefined) {\n",
       "        Bokeh.$(\"#eb0f7356-924a-4bc6-ae71-341a3ec76ae3\").text(\"BokehJS successfully loaded.\");\n",
       "      } else if (Date.now() < window._bokeh_timeout) {\n",
       "        setTimeout(display_loaded, 100)\n",
       "      }\n",
       "    }\n",
       "  \n",
       "    function run_callbacks() {\n",
       "      window._bokeh_onload_callbacks.forEach(function(callback) { callback() });\n",
       "      delete window._bokeh_onload_callbacks\n",
       "      console.info(\"Bokeh: all callbacks have finished\");\n",
       "    }\n",
       "  \n",
       "    function load_libs(js_urls, callback) {\n",
       "      window._bokeh_onload_callbacks.push(callback);\n",
       "      if (window._bokeh_is_loading > 0) {\n",
       "        console.log(\"Bokeh: BokehJS is being loaded, scheduling callback at\", now());\n",
       "        return null;\n",
       "      }\n",
       "      if (js_urls == null || js_urls.length === 0) {\n",
       "        run_callbacks();\n",
       "        return null;\n",
       "      }\n",
       "      console.log(\"Bokeh: BokehJS not loaded, scheduling load and callback at\", now());\n",
       "      window._bokeh_is_loading = js_urls.length;\n",
       "      for (var i = 0; i < js_urls.length; i++) {\n",
       "        var url = js_urls[i];\n",
       "        var s = document.createElement('script');\n",
       "        s.src = url;\n",
       "        s.async = false;\n",
       "        s.onreadystatechange = s.onload = function() {\n",
       "          window._bokeh_is_loading--;\n",
       "          if (window._bokeh_is_loading === 0) {\n",
       "            console.log(\"Bokeh: all BokehJS libraries loaded\");\n",
       "            run_callbacks()\n",
       "          }\n",
       "        };\n",
       "        s.onerror = function() {\n",
       "          console.warn(\"failed to load library \" + url);\n",
       "        };\n",
       "        console.log(\"Bokeh: injecting script tag for BokehJS library: \", url);\n",
       "        document.getElementsByTagName(\"head\")[0].appendChild(s);\n",
       "      }\n",
       "    };var element = document.getElementById(\"eb0f7356-924a-4bc6-ae71-341a3ec76ae3\");\n",
       "    if (element == null) {\n",
       "      console.log(\"Bokeh: ERROR: autoload.js configured with elementid 'eb0f7356-924a-4bc6-ae71-341a3ec76ae3' but no matching script tag was found. \")\n",
       "      return false;\n",
       "    }\n",
       "  \n",
       "    var js_urls = [];\n",
       "  \n",
       "    var inline_js = [\n",
       "      function(Bokeh) {\n",
       "        Bokeh.$(function() {\n",
       "            var docs_json = {\"75f9ff81-ab3f-4271-ade0-fa669ca26a31\":{\"roots\":{\"references\":[{\"attributes\":{\"fill_color\":{\"value\":\"#1f77b4\"},\"line_color\":{\"value\":\"#1f77b4\"},\"top\":{\"field\":\"top\"},\"width\":{\"value\":0.9},\"x\":{\"field\":\"x\"}},\"id\":\"20ec81cb-76f2-475c-9f6f-d2d97469e2f9\",\"type\":\"VBar\"},{\"attributes\":{\"active_drag\":\"auto\",\"active_scroll\":\"auto\",\"active_tap\":\"auto\",\"tools\":[{\"id\":\"4a102b33-fa50-4e53-8712-46fde962d9ac\",\"type\":\"HoverTool\"},{\"id\":\"de60c0bd-2285-454c-a10a-4445d6c68605\",\"type\":\"SaveTool\"},{\"id\":\"a326ca87-cb6c-43b7-8ccc-580490911659\",\"type\":\"WheelZoomTool\"},{\"id\":\"b8a181e8-ed76-47f3-9a81-aec80123b2ba\",\"type\":\"PanTool\"},{\"id\":\"5984af74-160c-42d8-ae18-77c78ba7a9a1\",\"type\":\"ResetTool\"}]},\"id\":\"22f91fa9-fe3b-4f66-9f0a-3569870d6a6d\",\"type\":\"Toolbar\"},{\"attributes\":{},\"id\":\"f3cf5c27-7fa7-43b2-a15a-fe2efa03df70\",\"type\":\"CategoricalTickFormatter\"},{\"attributes\":{\"data_source\":{\"id\":\"0080c2bd-4d2d-4f08-a768-44a08b9f110e\",\"type\":\"ColumnDataSource\"},\"glyph\":{\"id\":\"55bc54bd-fb0d-4aa9-a438-cdeeae495ba7\",\"type\":\"VBar\"},\"hover_glyph\":null,\"nonselection_glyph\":{\"id\":\"91d701c5-3f34-4ca5-9f91-25e2ba6bce01\",\"type\":\"VBar\"},\"selection_glyph\":null},\"id\":\"91ec0c6c-a3e3-4055-a518-f953a9d96352\",\"type\":\"GlyphRenderer\"},{\"attributes\":{\"children\":[{\"id\":\"581a826c-6f10-454c-bfb1-e830f0cc699f\",\"subtype\":\"Figure\",\"type\":\"Plot\"},{\"id\":\"5edfdecd-88db-4d9e-9984-66b3c7ee24c7\",\"subtype\":\"Figure\",\"type\":\"Plot\"},{\"id\":\"e85adcc7-0ccb-40f4-8533-09fc863f2ed1\",\"subtype\":\"Figure\",\"type\":\"Plot\"}]},\"id\":\"6d257f1f-f9dc-4589-bd0c-bf6ffe2a6723\",\"type\":\"Row\"},{\"attributes\":{\"children\":[{\"id\":\"373534c3-99ca-4341-9fd0-43f5b626a4ba\",\"type\":\"ToolbarBox\"},{\"id\":\"f1eeb338-7154-431d-abc7-334214137e6e\",\"type\":\"Column\"}]},\"id\":\"423d8604-3f9f-46f4-9502-b104f7cd1fbf\",\"type\":\"Column\"},{\"attributes\":{\"callback\":null,\"plot\":{\"id\":\"e85adcc7-0ccb-40f4-8533-09fc863f2ed1\",\"subtype\":\"Figure\",\"type\":\"Plot\"}},\"id\":\"9bef825b-00c3-42ac-94d7-dc0dff56f081\",\"type\":\"HoverTool\"},{\"attributes\":{},\"id\":\"571ff8f4-dccd-4e25-bec2-5df83295a782\",\"type\":\"BasicTicker\"},{\"attributes\":{\"data_source\":{\"id\":\"322f1e6a-7f34-453e-b418-0815744fc7ce\",\"type\":\"ColumnDataSource\"},\"glyph\":{\"id\":\"9c989411-1ff3-4160-85c1-2e4f6eef202d\",\"type\":\"VBar\"},\"hover_glyph\":null,\"nonselection_glyph\":{\"id\":\"20c471e9-fc61-472e-b4fe-2d2694c95cfd\",\"type\":\"VBar\"},\"selection_glyph\":null},\"id\":\"0372e227-dcb8-4745-a15f-6f296701c697\",\"type\":\"GlyphRenderer\"},{\"attributes\":{\"callback\":null,\"plot\":{\"id\":\"581a826c-6f10-454c-bfb1-e830f0cc699f\",\"subtype\":\"Figure\",\"type\":\"Plot\"}},\"id\":\"4a102b33-fa50-4e53-8712-46fde962d9ac\",\"type\":\"HoverTool\"},{\"attributes\":{\"plot\":null,\"text\":\"MasterCard Ctrip Downgrade Percentages\"},\"id\":\"e6694cf0-efcc-4778-a7b1-2785ad5cccaf\",\"type\":\"Title\"},{\"attributes\":{},\"id\":\"d886368c-8275-4ad9-8b68-857b95091428\",\"type\":\"BasicTickFormatter\"},{\"attributes\":{\"line_alpha\":{\"value\":0.1},\"line_color\":{\"value\":\"#1f77b4\"},\"line_width\":{\"value\":3},\"x\":{\"field\":\"x\"},\"y\":{\"field\":\"y\"}},\"id\":\"89711fe7-5607-4cba-8b5d-0ba7ceda7962\",\"type\":\"Line\"},{\"attributes\":{\"fill_color\":{\"value\":\"black\"},\"x\":{\"field\":\"x\"},\"y\":{\"field\":\"y\"}},\"id\":\"8a4eb7a0-66c6-4d3b-9de9-545ce83a8273\",\"type\":\"Circle\"},{\"attributes\":{\"axis_label\":\"Downgrade Percentage\",\"formatter\":{\"id\":\"10b8ff99-b2cd-42ae-8456-1429c2f7fbb6\",\"type\":\"BasicTickFormatter\"},\"plot\":{\"id\":\"e85adcc7-0ccb-40f4-8533-09fc863f2ed1\",\"subtype\":\"Figure\",\"type\":\"Plot\"},\"ticker\":{\"id\":\"d6245212-629d-4261-a7a1-22b301da0792\",\"type\":\"BasicTicker\"}},\"id\":\"c6dd23bb-f19a-4b00-9bb2-5dd05c328f34\",\"type\":\"LinearAxis\"},{\"attributes\":{},\"id\":\"c3f52c89-0325-4538-870f-262c680724eb\",\"type\":\"BasicTicker\"},{\"attributes\":{\"plot\":{\"id\":\"3127b6ad-9c73-4201-9887-b0ba5c9920d0\",\"subtype\":\"Figure\",\"type\":\"Plot\"}},\"id\":\"0037798a-e715-458f-85b3-692058ce558f\",\"type\":\"ResetTool\"},{\"attributes\":{\"plot\":{\"id\":\"581a826c-6f10-454c-bfb1-e830f0cc699f\",\"subtype\":\"Figure\",\"type\":\"Plot\"}},\"id\":\"a326ca87-cb6c-43b7-8ccc-580490911659\",\"type\":\"WheelZoomTool\"},{\"attributes\":{\"fill_color\":{\"value\":\"black\"},\"x\":{\"field\":\"x\"},\"y\":{\"field\":\"y\"}},\"id\":\"4e6e5635-cc49-4bf0-af79-70c2ba168a15\",\"type\":\"Circle\"},{\"attributes\":{},\"id\":\"0dd1ad04-ae27-424f-9f83-58d8c8987385\",\"type\":\"CategoricalTicker\"},{\"attributes\":{\"line_alpha\":{\"value\":0.1},\"line_color\":{\"value\":\"#1f77b4\"},\"line_width\":{\"value\":3},\"x\":{\"field\":\"x\"},\"y\":{\"field\":\"y\"}},\"id\":\"0f8d19d6-8a05-4468-a9bc-196b15d6cd1b\",\"type\":\"Line\"},{\"attributes\":{},\"id\":\"69e15fd7-a1dd-40ff-a3f4-af485cb85a26\",\"type\":\"BasicTicker\"},{\"attributes\":{\"fill_color\":{\"value\":\"black\"},\"x\":{\"field\":\"x\"},\"y\":{\"field\":\"y\"}},\"id\":\"6ea78b09-f112-4c4b-af0a-67cea38beda4\",\"type\":\"Circle\"},{\"attributes\":{},\"id\":\"d3a1a0ba-acd4-464e-beb0-1d65c735c3d0\",\"type\":\"CategoricalTicker\"},{\"attributes\":{\"plot\":{\"id\":\"879602e4-78d6-450c-b706-c0591e22914f\",\"subtype\":\"Figure\",\"type\":\"Plot\"},\"ticker\":{\"id\":\"668013cc-35c5-4c37-8c9e-1e9a3f17c722\",\"type\":\"CategoricalTicker\"}},\"id\":\"155a5f7b-6c17-4e1c-956a-81818512e784\",\"type\":\"Grid\"},{\"attributes\":{\"axis_label\":\"Date\",\"formatter\":{\"id\":\"f3cf5c27-7fa7-43b2-a15a-fe2efa03df70\",\"type\":\"CategoricalTickFormatter\"},\"plot\":{\"id\":\"581a826c-6f10-454c-bfb1-e830f0cc699f\",\"subtype\":\"Figure\",\"type\":\"Plot\"},\"ticker\":{\"id\":\"9dc124bc-57e9-4957-ad0b-f3e85e24e1fc\",\"type\":\"CategoricalTicker\"}},\"id\":\"93dcda55-49b6-4f47-8ece-df6696d914e1\",\"type\":\"CategoricalAxis\"},{\"attributes\":{\"plot\":null,\"text\":\"Visa Ctrip Downgrade Percentages\"},\"id\":\"e7a4ec7b-0be9-4dc8-8620-befb73b7fb0c\",\"type\":\"Title\"},{\"attributes\":{\"child\":{\"id\":\"a7dab44c-c065-490a-94bd-0163efe5e0ec\",\"type\":\"Column\"},\"title\":\"Downgrades, Excluding EIRF\"},\"id\":\"42312fda-1b01-4ca6-ba57-ffba7d60cf65\",\"type\":\"Panel\"},{\"attributes\":{\"fill_color\":{\"value\":\"black\"},\"x\":{\"field\":\"x\"},\"y\":{\"field\":\"y\"}},\"id\":\"6ffef4f2-19fd-4780-8557-ca697d3144c0\",\"type\":\"Circle\"},{\"attributes\":{\"plot\":{\"id\":\"e85adcc7-0ccb-40f4-8533-09fc863f2ed1\",\"subtype\":\"Figure\",\"type\":\"Plot\"}},\"id\":\"6de967f2-fd6e-4207-8e2c-2c1677ca30c6\",\"type\":\"PanTool\"},{\"attributes\":{\"data_source\":{\"id\":\"b9df0f50-d7df-4428-82e3-7613d0c8cc8c\",\"type\":\"ColumnDataSource\"},\"glyph\":{\"id\":\"4e6e5635-cc49-4bf0-af79-70c2ba168a15\",\"type\":\"Circle\"},\"hover_glyph\":null,\"nonselection_glyph\":{\"id\":\"0e1cfc1b-90ee-41c9-a22d-f2e0d23c79fa\",\"type\":\"Circle\"},\"selection_glyph\":null,\"y_range_name\":\"y2\"},\"id\":\"55714551-fc61-4dc7-aaa3-bd3c09f5b9ee\",\"type\":\"GlyphRenderer\"},{\"attributes\":{},\"id\":\"1b603cee-16c7-48f7-ab07-45b7736ea0bb\",\"type\":\"ToolEvents\"},{\"attributes\":{\"data_source\":{\"id\":\"625cac52-0610-457f-a359-94546fe93eda\",\"type\":\"ColumnDataSource\"},\"glyph\":{\"id\":\"20ec81cb-76f2-475c-9f6f-d2d97469e2f9\",\"type\":\"VBar\"},\"hover_glyph\":null,\"nonselection_glyph\":{\"id\":\"f725c06c-321d-4926-8190-4734de61d562\",\"type\":\"VBar\"},\"selection_glyph\":null},\"id\":\"8ca81093-23e8-4b66-b1f0-c95331d36042\",\"type\":\"GlyphRenderer\"},{\"attributes\":{\"formatter\":{\"id\":\"65228ac7-39ed-4b73-87aa-06ac7f417715\",\"type\":\"BasicTickFormatter\"},\"plot\":{\"id\":\"879602e4-78d6-450c-b706-c0591e22914f\",\"subtype\":\"Figure\",\"type\":\"Plot\"},\"ticker\":{\"id\":\"4f34b0d5-cac5-4383-a211-d2f1a0e07f31\",\"type\":\"BasicTicker\"},\"y_range_name\":\"y2\"},\"id\":\"48d3f968-963d-4ace-ab09-7d751bfdb656\",\"type\":\"LinearAxis\"},{\"attributes\":{\"fill_color\":{\"value\":\"#1f77b4\"},\"line_color\":{\"value\":\"#1f77b4\"},\"top\":{\"field\":\"top\"},\"width\":{\"value\":0.9},\"x\":{\"field\":\"x\"}},\"id\":\"f7229d1d-80a7-484a-b3ca-62841c9ae0e4\",\"type\":\"VBar\"},{\"attributes\":{},\"id\":\"45330789-60b5-4928-9a19-579e75784b91\",\"type\":\"BasicTickFormatter\"},{\"attributes\":{\"plot\":{\"id\":\"fe6d07ee-c236-4db8-ac32-d3bd24933f70\",\"subtype\":\"Figure\",\"type\":\"Plot\"}},\"id\":\"9a17eee7-4cd4-4e90-953b-3244e00c09fc\",\"type\":\"ResetTool\"},{\"attributes\":{},\"id\":\"5e56f093-de3b-4bed-a5d5-c383d91ce75d\",\"type\":\"BasicTickFormatter\"},{\"attributes\":{\"callback\":null,\"column_names\":[\"x\",\"top\"],\"data\":{\"top\":[0.3475177304964539,0.287396937573616,0.26997319034852546,0.29142143748885324,0.28721174004192873,0.6266106989457243,0.4938666666666667,0.3516271904486809,0.37734939759036146],\"x\":[\"2017/07\",\"2017/08\",\"2017/12\",\"2018/01\",\"2018/02\",\"2018/03\",\"2018/04\",\"2018/05\",\"2018/06\"]}},\"id\":\"6a841596-bc01-429e-baac-83185c80ba0d\",\"type\":\"ColumnDataSource\"},{\"attributes\":{\"plot\":{\"id\":\"5edfdecd-88db-4d9e-9984-66b3c7ee24c7\",\"subtype\":\"Figure\",\"type\":\"Plot\"}},\"id\":\"5b5a6c9c-c590-4a54-a55b-bdaafa69ff1d\",\"type\":\"SaveTool\"},{\"attributes\":{\"active_drag\":\"auto\",\"active_scroll\":\"auto\",\"active_tap\":\"auto\",\"tools\":[{\"id\":\"4e5c25fb-a656-4c68-aac7-7afa0babb2ca\",\"type\":\"HoverTool\"},{\"id\":\"6af193fc-56df-455d-a72c-947ebe84191c\",\"type\":\"SaveTool\"},{\"id\":\"96c77bb5-6e28-4f8a-b3dd-a10ef8986d9c\",\"type\":\"WheelZoomTool\"},{\"id\":\"6073d160-2c44-4e41-8501-0ffca5271c07\",\"type\":\"PanTool\"},{\"id\":\"0037798a-e715-458f-85b3-692058ce558f\",\"type\":\"ResetTool\"}]},\"id\":\"9974a2d0-2b6a-4ccf-9ac3-a95102f40669\",\"type\":\"Toolbar\"},{\"attributes\":{\"line_alpha\":{\"value\":0.1},\"line_color\":{\"value\":\"#1f77b4\"},\"line_width\":{\"value\":3},\"x\":{\"field\":\"x\"},\"y\":{\"field\":\"y\"}},\"id\":\"1f2fa02f-36c0-4884-999d-84811e661ad1\",\"type\":\"Line\"},{\"attributes\":{},\"id\":\"10b8ff99-b2cd-42ae-8456-1429c2f7fbb6\",\"type\":\"BasicTickFormatter\"},{\"attributes\":{\"below\":[{\"id\":\"8c120437-a80f-4710-8686-700f323c1158\",\"type\":\"CategoricalAxis\"}],\"border_fill_color\":{\"value\":\"whitesmoke\"},\"extra_y_ranges\":{\"y2\":{\"id\":\"bcd6ba5c-c9a6-42c4-8f6f-f07f20a03f73\",\"type\":\"Range1d\"}},\"left\":[{\"id\":\"eff09b9d-dcdc-47c4-9f54-c157fad645d5\",\"type\":\"LinearAxis\"}],\"min_border_left\":80,\"plot_height\":500,\"renderers\":[{\"id\":\"8c120437-a80f-4710-8686-700f323c1158\",\"type\":\"CategoricalAxis\"},{\"id\":\"77f5bef6-8d6c-4655-ad5c-6332779cce27\",\"type\":\"Grid\"},{\"id\":\"eff09b9d-dcdc-47c4-9f54-c157fad645d5\",\"type\":\"LinearAxis\"},{\"id\":\"ab34e750-1195-4433-91a3-235f9e290fd7\",\"type\":\"Grid\"},{\"id\":\"c8dce483-c1ca-4782-a1f2-1d2343302279\",\"type\":\"GlyphRenderer\"},{\"id\":\"6189644f-8fc5-4837-aa2b-81a61ab6f9aa\",\"type\":\"GlyphRenderer\"},{\"id\":\"55714551-fc61-4dc7-aaa3-bd3c09f5b9ee\",\"type\":\"GlyphRenderer\"},{\"id\":\"27833719-8db9-456d-83c0-e7fb88b4b20b\",\"type\":\"LinearAxis\"}],\"right\":[{\"id\":\"27833719-8db9-456d-83c0-e7fb88b4b20b\",\"type\":\"LinearAxis\"}],\"title\":{\"id\":\"fb9f5e86-62ae-4676-a5e3-bceef2a6ef72\",\"type\":\"Title\"},\"tool_events\":{\"id\":\"266b1269-44fd-4592-8b1c-0e914a92c0fc\",\"type\":\"ToolEvents\"},\"toolbar\":{\"id\":\"b460e6f6-229b-42b8-ac4f-9cabd170b314\",\"type\":\"Toolbar\"},\"toolbar_location\":null,\"x_range\":{\"id\":\"d4af99c0-0b2e-4600-a1b9-9fe511029ab6\",\"type\":\"FactorRange\"},\"y_range\":{\"id\":\"58b88a33-b124-4e4a-9da3-aa8b08984438\",\"type\":\"Range1d\"}},\"id\":\"5edfdecd-88db-4d9e-9984-66b3c7ee24c7\",\"subtype\":\"Figure\",\"type\":\"Plot\"},{\"attributes\":{},\"id\":\"9dc124bc-57e9-4957-ad0b-f3e85e24e1fc\",\"type\":\"CategoricalTicker\"},{\"attributes\":{\"sizing_mode\":\"scale_width\",\"toolbar_location\":\"above\",\"tools\":[{\"id\":\"4a102b33-fa50-4e53-8712-46fde962d9ac\",\"type\":\"HoverTool\"},{\"id\":\"de60c0bd-2285-454c-a10a-4445d6c68605\",\"type\":\"SaveTool\"},{\"id\":\"a326ca87-cb6c-43b7-8ccc-580490911659\",\"type\":\"WheelZoomTool\"},{\"id\":\"b8a181e8-ed76-47f3-9a81-aec80123b2ba\",\"type\":\"PanTool\"},{\"id\":\"5984af74-160c-42d8-ae18-77c78ba7a9a1\",\"type\":\"ResetTool\"},{\"id\":\"aa2e1a4d-0e03-4091-81a4-f2cc2def5f42\",\"type\":\"HoverTool\"},{\"id\":\"5b5a6c9c-c590-4a54-a55b-bdaafa69ff1d\",\"type\":\"SaveTool\"},{\"id\":\"8f4d6732-064d-4404-9dbb-32e0a5901af8\",\"type\":\"WheelZoomTool\"},{\"id\":\"507a7299-39db-4a22-9733-d69027663d5c\",\"type\":\"PanTool\"},{\"id\":\"974fd39e-aaab-466c-b3d3-45796a8077a0\",\"type\":\"ResetTool\"},{\"id\":\"9bef825b-00c3-42ac-94d7-dc0dff56f081\",\"type\":\"HoverTool\"},{\"id\":\"01772239-c59d-4c46-acff-37127e499978\",\"type\":\"SaveTool\"},{\"id\":\"c4d56a01-8354-41af-bc38-c98d45de78e8\",\"type\":\"WheelZoomTool\"},{\"id\":\"6de967f2-fd6e-4207-8e2c-2c1677ca30c6\",\"type\":\"PanTool\"},{\"id\":\"6014294b-f19a-4b18-acec-3f404ad355c1\",\"type\":\"ResetTool\"}]},\"id\":\"373534c3-99ca-4341-9fd0-43f5b626a4ba\",\"type\":\"ToolbarBox\"},{\"attributes\":{\"formatter\":{\"id\":\"5e56f093-de3b-4bed-a5d5-c383d91ce75d\",\"type\":\"BasicTickFormatter\"},\"plot\":{\"id\":\"3127b6ad-9c73-4201-9887-b0ba5c9920d0\",\"subtype\":\"Figure\",\"type\":\"Plot\"},\"ticker\":{\"id\":\"571ff8f4-dccd-4e25-bec2-5df83295a782\",\"type\":\"BasicTicker\"},\"y_range_name\":\"y2\"},\"id\":\"863ffd6e-ee95-4694-ad40-e522e41be379\",\"type\":\"LinearAxis\"},{\"attributes\":{\"fill_color\":{\"value\":\"#1f77b4\"},\"line_color\":{\"value\":\"#1f77b4\"},\"top\":{\"field\":\"top\"},\"width\":{\"value\":0.9},\"x\":{\"field\":\"x\"}},\"id\":\"04bba599-2dc2-4da1-9670-88524c3560fa\",\"type\":\"VBar\"},{\"attributes\":{\"plot\":{\"id\":\"879602e4-78d6-450c-b706-c0591e22914f\",\"subtype\":\"Figure\",\"type\":\"Plot\"}},\"id\":\"3e7ed4ec-d382-44e9-b230-0d712afa92b1\",\"type\":\"ResetTool\"},{\"attributes\":{},\"id\":\"09f4ba41-cf6d-4278-b936-5d5751dbce11\",\"type\":\"BasicTickFormatter\"},{\"attributes\":{\"fill_alpha\":{\"value\":0.1},\"fill_color\":{\"value\":\"#1f77b4\"},\"line_alpha\":{\"value\":0.1},\"line_color\":{\"value\":\"#1f77b4\"},\"top\":{\"field\":\"top\"},\"width\":{\"value\":0.9},\"x\":{\"field\":\"x\"}},\"id\":\"1cf97cdc-6c4b-40d3-b070-a318820ad34d\",\"type\":\"VBar\"},{\"attributes\":{},\"id\":\"0bef9c61-9c41-4e2d-9cf2-81f81c4629cb\",\"type\":\"BasicTickFormatter\"},{\"attributes\":{\"active_drag\":\"auto\",\"active_scroll\":\"auto\",\"active_tap\":\"auto\",\"tools\":[{\"id\":\"9bef825b-00c3-42ac-94d7-dc0dff56f081\",\"type\":\"HoverTool\"},{\"id\":\"01772239-c59d-4c46-acff-37127e499978\",\"type\":\"SaveTool\"},{\"id\":\"c4d56a01-8354-41af-bc38-c98d45de78e8\",\"type\":\"WheelZoomTool\"},{\"id\":\"6de967f2-fd6e-4207-8e2c-2c1677ca30c6\",\"type\":\"PanTool\"},{\"id\":\"6014294b-f19a-4b18-acec-3f404ad355c1\",\"type\":\"ResetTool\"}]},\"id\":\"2c925aff-65cd-4089-af0d-7fb16f132d0c\",\"type\":\"Toolbar\"},{\"attributes\":{\"callback\":null},\"id\":\"ccda66fc-26f6-42c0-808b-f799c58a2442\",\"type\":\"Range1d\"},{\"attributes\":{\"fill_alpha\":{\"value\":0.1},\"fill_color\":{\"value\":\"#1f77b4\"},\"line_alpha\":{\"value\":0.1},\"line_color\":{\"value\":\"#1f77b4\"},\"top\":{\"field\":\"top\"},\"width\":{\"value\":0.9},\"x\":{\"field\":\"x\"}},\"id\":\"91d701c5-3f34-4ca5-9f91-25e2ba6bce01\",\"type\":\"VBar\"},{\"attributes\":{\"plot\":{\"id\":\"e85adcc7-0ccb-40f4-8533-09fc863f2ed1\",\"subtype\":\"Figure\",\"type\":\"Plot\"}},\"id\":\"01772239-c59d-4c46-acff-37127e499978\",\"type\":\"SaveTool\"},{\"attributes\":{},\"id\":\"5b42117c-2b1e-493c-9097-7f2f51c0b7d3\",\"type\":\"CategoricalTickFormatter\"},{\"attributes\":{\"axis_label\":\"Downgrade Percentage\",\"formatter\":{\"id\":\"0bef9c61-9c41-4e2d-9cf2-81f81c4629cb\",\"type\":\"BasicTickFormatter\"},\"plot\":{\"id\":\"879602e4-78d6-450c-b706-c0591e22914f\",\"subtype\":\"Figure\",\"type\":\"Plot\"},\"ticker\":{\"id\":\"dc4e66da-6685-4b57-95b2-8627560394f9\",\"type\":\"BasicTicker\"}},\"id\":\"bc16dd18-2a6d-4779-8573-45fc458b2c66\",\"type\":\"LinearAxis\"},{\"attributes\":{\"plot\":{\"id\":\"3127b6ad-9c73-4201-9887-b0ba5c9920d0\",\"subtype\":\"Figure\",\"type\":\"Plot\"}},\"id\":\"6af193fc-56df-455d-a72c-947ebe84191c\",\"type\":\"SaveTool\"},{\"attributes\":{\"plot\":{\"id\":\"5edfdecd-88db-4d9e-9984-66b3c7ee24c7\",\"subtype\":\"Figure\",\"type\":\"Plot\"},\"ticker\":{\"id\":\"ef98d4f8-75c6-4363-aec6-dd0018836384\",\"type\":\"CategoricalTicker\"}},\"id\":\"77f5bef6-8d6c-4655-ad5c-6332779cce27\",\"type\":\"Grid\"},{\"attributes\":{\"callback\":null,\"column_names\":[\"y\",\"x\"],\"data\":{\"x\":[\"2017/07\",\"2017/08\",\"2017/12\",\"2018/01\",\"2018/02\",\"2018/03\",\"2018/04\",\"2018/05\",\"2018/06\"],\"y\":[256,458,1173,1510,1193,3829,2404,1548,617]}},\"id\":\"7b9045bb-bc90-49e4-8a98-eb384310f4ab\",\"type\":\"ColumnDataSource\"},{\"attributes\":{\"callback\":null},\"id\":\"58b88a33-b124-4e4a-9da3-aa8b08984438\",\"type\":\"Range1d\"},{\"attributes\":{},\"id\":\"65228ac7-39ed-4b73-87aa-06ac7f417715\",\"type\":\"BasicTickFormatter\"},{\"attributes\":{\"callback\":null,\"plot\":{\"id\":\"3127b6ad-9c73-4201-9887-b0ba5c9920d0\",\"subtype\":\"Figure\",\"type\":\"Plot\"}},\"id\":\"4e5c25fb-a656-4c68-aac7-7afa0babb2ca\",\"type\":\"HoverTool\"},{\"attributes\":{\"dimension\":1,\"plot\":{\"id\":\"581a826c-6f10-454c-bfb1-e830f0cc699f\",\"subtype\":\"Figure\",\"type\":\"Plot\"},\"ticker\":{\"id\":\"e2c5aa56-aa92-43aa-a48c-4d5bd726b642\",\"type\":\"BasicTicker\"}},\"id\":\"0556b72e-f4fb-4e07-8336-806cd208c620\",\"type\":\"Grid\"},{\"attributes\":{\"data_source\":{\"id\":\"70e86d77-9dc0-455e-88a3-8520ac19b8ba\",\"type\":\"ColumnDataSource\"},\"glyph\":{\"id\":\"04bba599-2dc2-4da1-9670-88524c3560fa\",\"type\":\"VBar\"},\"hover_glyph\":null,\"nonselection_glyph\":{\"id\":\"47482b1b-e4e7-46a7-9ee3-7b59db2aeeaf\",\"type\":\"VBar\"},\"selection_glyph\":null},\"id\":\"d4d7b181-1020-4223-b391-72e63c6200ef\",\"type\":\"GlyphRenderer\"},{\"attributes\":{},\"id\":\"970e6f50-b834-44bf-b835-d9317c59e9a2\",\"type\":\"BasicTicker\"},{\"attributes\":{\"plot\":{\"id\":\"fe6d07ee-c236-4db8-ac32-d3bd24933f70\",\"subtype\":\"Figure\",\"type\":\"Plot\"}},\"id\":\"c2373e33-1cc1-4c5b-9e09-0d010e58a94d\",\"type\":\"SaveTool\"},{\"attributes\":{\"callback\":null,\"tabs\":[{\"id\":\"fa4883da-99f7-4bdd-82b7-c1ac49d26087\",\"type\":\"Panel\"},{\"id\":\"42312fda-1b01-4ca6-ba57-ffba7d60cf65\",\"type\":\"Panel\"}]},\"id\":\"33d6a9c5-ea66-4c1b-ab3e-c208ec125b3b\",\"type\":\"Tabs\"},{\"attributes\":{\"data_source\":{\"id\":\"e5ee90df-2b66-4731-890e-1eaad7d07e00\",\"type\":\"ColumnDataSource\"},\"glyph\":{\"id\":\"e1e604fb-0115-4ff7-8143-3e1445abc0e4\",\"type\":\"Line\"},\"hover_glyph\":null,\"nonselection_glyph\":{\"id\":\"89711fe7-5607-4cba-8b5d-0ba7ceda7962\",\"type\":\"Line\"},\"selection_glyph\":null,\"y_range_name\":\"y2\"},\"id\":\"f005b25e-5604-441b-bd89-245960b43399\",\"type\":\"GlyphRenderer\"},{\"attributes\":{},\"id\":\"d6245212-629d-4261-a7a1-22b301da0792\",\"type\":\"BasicTicker\"},{\"attributes\":{\"plot\":null,\"text\":\"MasterCard Ctrip Downgrade Percentages\"},\"id\":\"7487b31a-260f-49ea-bdc0-b37c0a380f49\",\"type\":\"Title\"},{\"attributes\":{\"active_drag\":\"auto\",\"active_scroll\":\"auto\",\"active_tap\":\"auto\",\"tools\":[{\"id\":\"aa2e1a4d-0e03-4091-81a4-f2cc2def5f42\",\"type\":\"HoverTool\"},{\"id\":\"5b5a6c9c-c590-4a54-a55b-bdaafa69ff1d\",\"type\":\"SaveTool\"},{\"id\":\"8f4d6732-064d-4404-9dbb-32e0a5901af8\",\"type\":\"WheelZoomTool\"},{\"id\":\"507a7299-39db-4a22-9733-d69027663d5c\",\"type\":\"PanTool\"},{\"id\":\"974fd39e-aaab-466c-b3d3-45796a8077a0\",\"type\":\"ResetTool\"}]},\"id\":\"b460e6f6-229b-42b8-ac4f-9cabd170b314\",\"type\":\"Toolbar\"},{\"attributes\":{\"fill_alpha\":{\"value\":0.1},\"fill_color\":{\"value\":\"#1f77b4\"},\"line_alpha\":{\"value\":0.1},\"line_color\":{\"value\":\"#1f77b4\"},\"x\":{\"field\":\"x\"},\"y\":{\"field\":\"y\"}},\"id\":\"81b1b32e-9d6f-4e26-a1c4-05a571175d05\",\"type\":\"Circle\"},{\"attributes\":{},\"id\":\"7258a5f2-304a-4112-8877-41d28d378e0b\",\"type\":\"BasicTickFormatter\"},{\"attributes\":{},\"id\":\"e3301ba6-35c4-4d89-a995-33145d5dc39b\",\"type\":\"CategoricalTickFormatter\"},{\"attributes\":{\"fill_color\":{\"value\":\"#1f77b4\"},\"line_color\":{\"value\":\"#1f77b4\"},\"top\":{\"field\":\"top\"},\"width\":{\"value\":0.9},\"x\":{\"field\":\"x\"}},\"id\":\"9c989411-1ff3-4160-85c1-2e4f6eef202d\",\"type\":\"VBar\"},{\"attributes\":{\"plot\":{\"id\":\"fe6d07ee-c236-4db8-ac32-d3bd24933f70\",\"subtype\":\"Figure\",\"type\":\"Plot\"},\"ticker\":{\"id\":\"d3a1a0ba-acd4-464e-beb0-1d65c735c3d0\",\"type\":\"CategoricalTicker\"}},\"id\":\"7e127265-fa64-4edb-8fed-dac9dd5f4f54\",\"type\":\"Grid\"},{\"attributes\":{\"plot\":{\"id\":\"5edfdecd-88db-4d9e-9984-66b3c7ee24c7\",\"subtype\":\"Figure\",\"type\":\"Plot\"}},\"id\":\"8f4d6732-064d-4404-9dbb-32e0a5901af8\",\"type\":\"WheelZoomTool\"},{\"attributes\":{\"axis_label\":\"Date\",\"formatter\":{\"id\":\"e3301ba6-35c4-4d89-a995-33145d5dc39b\",\"type\":\"CategoricalTickFormatter\"},\"plot\":{\"id\":\"e85adcc7-0ccb-40f4-8533-09fc863f2ed1\",\"subtype\":\"Figure\",\"type\":\"Plot\"},\"ticker\":{\"id\":\"0dd1ad04-ae27-424f-9f83-58d8c8987385\",\"type\":\"CategoricalTicker\"}},\"id\":\"5d2246ef-a96b-46c6-86ae-1be75e05406c\",\"type\":\"CategoricalAxis\"},{\"attributes\":{\"callback\":null,\"plot\":{\"id\":\"5edfdecd-88db-4d9e-9984-66b3c7ee24c7\",\"subtype\":\"Figure\",\"type\":\"Plot\"}},\"id\":\"aa2e1a4d-0e03-4091-81a4-f2cc2def5f42\",\"type\":\"HoverTool\"},{\"attributes\":{\"callback\":null,\"end\":15000},\"id\":\"bcd6ba5c-c9a6-42c4-8f6f-f07f20a03f73\",\"type\":\"Range1d\"},{\"attributes\":{\"formatter\":{\"id\":\"09f4ba41-cf6d-4278-b936-5d5751dbce11\",\"type\":\"BasicTickFormatter\"},\"plot\":{\"id\":\"5edfdecd-88db-4d9e-9984-66b3c7ee24c7\",\"subtype\":\"Figure\",\"type\":\"Plot\"},\"ticker\":{\"id\":\"ea014c9c-4885-47cb-8479-f79ed161a7a4\",\"type\":\"BasicTicker\"},\"y_range_name\":\"y2\"},\"id\":\"27833719-8db9-456d-83c0-e7fb88b4b20b\",\"type\":\"LinearAxis\"},{\"attributes\":{\"fill_alpha\":{\"value\":0.1},\"fill_color\":{\"value\":\"#1f77b4\"},\"line_alpha\":{\"value\":0.1},\"line_color\":{\"value\":\"#1f77b4\"},\"top\":{\"field\":\"top\"},\"width\":{\"value\":0.9},\"x\":{\"field\":\"x\"}},\"id\":\"50540199-e9bf-4baa-b459-7a1d0a8d0648\",\"type\":\"VBar\"},{\"attributes\":{},\"id\":\"efa0cc9e-92b5-417e-8731-300507291b00\",\"type\":\"ToolEvents\"},{\"attributes\":{\"plot\":{\"id\":\"879602e4-78d6-450c-b706-c0591e22914f\",\"subtype\":\"Figure\",\"type\":\"Plot\"}},\"id\":\"8ef0ebea-c452-496e-8c48-444a06c5dbeb\",\"type\":\"WheelZoomTool\"},{\"attributes\":{\"plot\":{\"id\":\"e85adcc7-0ccb-40f4-8533-09fc863f2ed1\",\"subtype\":\"Figure\",\"type\":\"Plot\"}},\"id\":\"c4d56a01-8354-41af-bc38-c98d45de78e8\",\"type\":\"WheelZoomTool\"},{\"attributes\":{\"plot\":{\"id\":\"e85adcc7-0ccb-40f4-8533-09fc863f2ed1\",\"subtype\":\"Figure\",\"type\":\"Plot\"}},\"id\":\"6014294b-f19a-4b18-acec-3f404ad355c1\",\"type\":\"ResetTool\"},{\"attributes\":{\"plot\":{\"id\":\"581a826c-6f10-454c-bfb1-e830f0cc699f\",\"subtype\":\"Figure\",\"type\":\"Plot\"}},\"id\":\"b8a181e8-ed76-47f3-9a81-aec80123b2ba\",\"type\":\"PanTool\"},{\"attributes\":{},\"id\":\"668013cc-35c5-4c37-8c9e-1e9a3f17c722\",\"type\":\"CategoricalTicker\"},{\"attributes\":{\"axis_label\":\"Date\",\"formatter\":{\"id\":\"470b1fac-4662-4eaa-beaa-52ed48e93301\",\"type\":\"CategoricalTickFormatter\"},\"plot\":{\"id\":\"fe6d07ee-c236-4db8-ac32-d3bd24933f70\",\"subtype\":\"Figure\",\"type\":\"Plot\"},\"ticker\":{\"id\":\"d3a1a0ba-acd4-464e-beb0-1d65c735c3d0\",\"type\":\"CategoricalTicker\"}},\"id\":\"90885386-3a8f-4f71-8c4a-eb1a462f589c\",\"type\":\"CategoricalAxis\"},{\"attributes\":{},\"id\":\"61d5c313-ff78-4274-aa1d-ab06b849e169\",\"type\":\"CategoricalTicker\"},{\"attributes\":{\"data_source\":{\"id\":\"aecf4df6-b045-4502-8b52-38eb41babc8f\",\"type\":\"ColumnDataSource\"},\"glyph\":{\"id\":\"8a4eb7a0-66c6-4d3b-9de9-545ce83a8273\",\"type\":\"Circle\"},\"hover_glyph\":null,\"nonselection_glyph\":{\"id\":\"28c35c65-47f5-4873-a7c7-43431d739789\",\"type\":\"Circle\"},\"selection_glyph\":null,\"y_range_name\":\"y2\"},\"id\":\"f0126e44-c2a3-4985-b558-e9ad6ec4ccf7\",\"type\":\"GlyphRenderer\"},{\"attributes\":{},\"id\":\"a1ee6093-8901-49be-a5a8-41af2d1b3f6f\",\"type\":\"BasicTickFormatter\"},{\"attributes\":{\"callback\":null,\"column_names\":[\"y\",\"x\"],\"data\":{\"x\":[\"2017/07\",\"2017/08\",\"2017/12\",\"2018/01\",\"2018/02\",\"2018/03\",\"2018/04\",\"2018/05\",\"2018/06\"],\"y\":[405,808,3122,4593,3158,8630,6260,4357,1764]}},\"id\":\"aecf4df6-b045-4502-8b52-38eb41babc8f\",\"type\":\"ColumnDataSource\"},{\"attributes\":{\"callback\":null},\"id\":\"ae70ccc6-f500-4f48-bf88-76fac05decc2\",\"type\":\"Range1d\"},{\"attributes\":{\"data_source\":{\"id\":\"177ca552-9f82-4c8b-bc78-d316fc8cca92\",\"type\":\"ColumnDataSource\"},\"glyph\":{\"id\":\"35a17e0e-a0db-4ff3-b824-9b3b1180ebe1\",\"type\":\"Line\"},\"hover_glyph\":null,\"nonselection_glyph\":{\"id\":\"0f8d19d6-8a05-4468-a9bc-196b15d6cd1b\",\"type\":\"Line\"},\"selection_glyph\":null,\"y_range_name\":\"y2\"},\"id\":\"6189644f-8fc5-4837-aa2b-81a61ab6f9aa\",\"type\":\"GlyphRenderer\"},{\"attributes\":{\"callback\":null,\"column_names\":[\"x\",\"top\"],\"data\":{\"top\":[0.028906648529161708,0.12909441233140656,0.203017084696474,0.2568497962624701,0.2288008965259619,0.4924783881287863,0.4185177705977383,0.30361910412340554,0.3220653789004458],\"x\":[\"2017/07\",\"2017/08\",\"2017/12\",\"2018/01\",\"2018/02\",\"2018/03\",\"2018/04\",\"2018/05\",\"2018/06\"]}},\"id\":\"322f1e6a-7f34-453e-b418-0815744fc7ce\",\"type\":\"ColumnDataSource\"},{\"attributes\":{\"callback\":null,\"plot\":{\"id\":\"fe6d07ee-c236-4db8-ac32-d3bd24933f70\",\"subtype\":\"Figure\",\"type\":\"Plot\"}},\"id\":\"250e1804-c980-4f3e-899d-057865bf002a\",\"type\":\"HoverTool\"},{\"attributes\":{\"children\":[{\"id\":\"ec6bed2b-fb41-4773-9deb-7ab08f0e15e4\",\"type\":\"Row\"}]},\"id\":\"aaef2d9a-6053-452c-a1b4-0348601fe6f8\",\"type\":\"Column\"},{\"attributes\":{\"line_color\":{\"value\":\"red\"},\"line_width\":{\"value\":3},\"x\":{\"field\":\"x\"},\"y\":{\"field\":\"y\"}},\"id\":\"f5332f18-e42a-4d35-bf34-ab516fdd19d4\",\"type\":\"Line\"},{\"attributes\":{\"axis_label\":\"Downgrade Percentage\",\"formatter\":{\"id\":\"ed894a56-aa3e-4335-aef7-0222b9ea3468\",\"type\":\"BasicTickFormatter\"},\"plot\":{\"id\":\"5edfdecd-88db-4d9e-9984-66b3c7ee24c7\",\"subtype\":\"Figure\",\"type\":\"Plot\"},\"ticker\":{\"id\":\"c3f52c89-0325-4538-870f-262c680724eb\",\"type\":\"BasicTicker\"}},\"id\":\"eff09b9d-dcdc-47c4-9f54-c157fad645d5\",\"type\":\"LinearAxis\"},{\"attributes\":{\"callback\":null,\"column_names\":[\"x\",\"top\"],\"data\":{\"top\":[0.31851851851851853,0.25123762376237624,0.1284433055733504,0.13498802525582407,0.13869537682077265,0.5567786790266512,0.3936102236421725,0.2272205646086757,0.2675736961451247],\"x\":[\"2017/07\",\"2017/08\",\"2017/12\",\"2018/01\",\"2018/02\",\"2018/03\",\"2018/04\",\"2018/05\",\"2018/06\"]}},\"id\":\"625cac52-0610-457f-a359-94546fe93eda\",\"type\":\"ColumnDataSource\"},{\"attributes\":{\"fill_color\":{\"value\":\"black\"},\"x\":{\"field\":\"x\"},\"y\":{\"field\":\"y\"}},\"id\":\"0d755431-ce9b-43bd-be1e-29a51ccdb294\",\"type\":\"Circle\"},{\"attributes\":{\"sizing_mode\":\"scale_width\",\"toolbar_location\":\"above\",\"tools\":[{\"id\":\"f6125c5c-6477-4824-806a-7b153a78993e\",\"type\":\"HoverTool\"},{\"id\":\"7d7b0bd0-8aa5-4d5a-82d7-a68d54c9d21d\",\"type\":\"SaveTool\"},{\"id\":\"8ef0ebea-c452-496e-8c48-444a06c5dbeb\",\"type\":\"WheelZoomTool\"},{\"id\":\"8975cd26-b1a5-4aad-8c1d-61ca6f00c016\",\"type\":\"PanTool\"},{\"id\":\"3e7ed4ec-d382-44e9-b230-0d712afa92b1\",\"type\":\"ResetTool\"},{\"id\":\"4e5c25fb-a656-4c68-aac7-7afa0babb2ca\",\"type\":\"HoverTool\"},{\"id\":\"6af193fc-56df-455d-a72c-947ebe84191c\",\"type\":\"SaveTool\"},{\"id\":\"96c77bb5-6e28-4f8a-b3dd-a10ef8986d9c\",\"type\":\"WheelZoomTool\"},{\"id\":\"6073d160-2c44-4e41-8501-0ffca5271c07\",\"type\":\"PanTool\"},{\"id\":\"0037798a-e715-458f-85b3-692058ce558f\",\"type\":\"ResetTool\"},{\"id\":\"250e1804-c980-4f3e-899d-057865bf002a\",\"type\":\"HoverTool\"},{\"id\":\"c2373e33-1cc1-4c5b-9e09-0d010e58a94d\",\"type\":\"SaveTool\"},{\"id\":\"c3d8b0bc-c2b1-498a-91bc-55036c26d643\",\"type\":\"WheelZoomTool\"},{\"id\":\"31c18bb6-07cd-458f-bea3-5183ad33d7ee\",\"type\":\"PanTool\"},{\"id\":\"9a17eee7-4cd4-4e90-953b-3244e00c09fc\",\"type\":\"ResetTool\"}]},\"id\":\"6895fc6f-3bb9-415a-a6b6-fa230c8d271e\",\"type\":\"ToolbarBox\"},{\"attributes\":{\"callback\":null,\"end\":15000},\"id\":\"24c619b1-b75a-4548-8688-8c66879b902f\",\"type\":\"Range1d\"},{\"attributes\":{\"data_source\":{\"id\":\"822781f3-720d-4e82-b92f-2557b9b7edae\",\"type\":\"ColumnDataSource\"},\"glyph\":{\"id\":\"80769d22-c12b-4f53-a38e-418358b8f8c5\",\"type\":\"VBar\"},\"hover_glyph\":null,\"nonselection_glyph\":{\"id\":\"1cf97cdc-6c4b-40d3-b070-a318820ad34d\",\"type\":\"VBar\"},\"selection_glyph\":null},\"id\":\"afa9eefd-9bdc-4e06-8f7d-c93e5ac4a7a3\",\"type\":\"GlyphRenderer\"},{\"attributes\":{},\"id\":\"266b1269-44fd-4592-8b1c-0e914a92c0fc\",\"type\":\"ToolEvents\"},{\"attributes\":{\"plot\":{\"id\":\"fe6d07ee-c236-4db8-ac32-d3bd24933f70\",\"subtype\":\"Figure\",\"type\":\"Plot\"}},\"id\":\"c3d8b0bc-c2b1-498a-91bc-55036c26d643\",\"type\":\"WheelZoomTool\"},{\"attributes\":{\"plot\":{\"id\":\"879602e4-78d6-450c-b706-c0591e22914f\",\"subtype\":\"Figure\",\"type\":\"Plot\"}},\"id\":\"8975cd26-b1a5-4aad-8c1d-61ca6f00c016\",\"type\":\"PanTool\"},{\"attributes\":{\"plot\":{\"id\":\"581a826c-6f10-454c-bfb1-e830f0cc699f\",\"subtype\":\"Figure\",\"type\":\"Plot\"}},\"id\":\"de60c0bd-2285-454c-a10a-4445d6c68605\",\"type\":\"SaveTool\"},{\"attributes\":{\"callback\":null,\"column_names\":[\"y\",\"x\"],\"data\":{\"x\":[\"2017/07\",\"2017/08\",\"2017/12\",\"2018/01\",\"2018/02\",\"2018/03\",\"2018/04\",\"2018/05\",\"2018/06\"],\"y\":[256,458,1173,1510,1193,3829,2404,1548,617]}},\"id\":\"be59de04-9079-4d40-b093-d8e12166debb\",\"type\":\"ColumnDataSource\"},{\"attributes\":{\"plot\":{\"id\":\"5edfdecd-88db-4d9e-9984-66b3c7ee24c7\",\"subtype\":\"Figure\",\"type\":\"Plot\"}},\"id\":\"974fd39e-aaab-466c-b3d3-45796a8077a0\",\"type\":\"ResetTool\"},{\"attributes\":{},\"id\":\"e2c5aa56-aa92-43aa-a48c-4d5bd726b642\",\"type\":\"BasicTicker\"},{\"attributes\":{\"plot\":{\"id\":\"581a826c-6f10-454c-bfb1-e830f0cc699f\",\"subtype\":\"Figure\",\"type\":\"Plot\"}},\"id\":\"5984af74-160c-42d8-ae18-77c78ba7a9a1\",\"type\":\"ResetTool\"},{\"attributes\":{\"plot\":{\"id\":\"3127b6ad-9c73-4201-9887-b0ba5c9920d0\",\"subtype\":\"Figure\",\"type\":\"Plot\"},\"ticker\":{\"id\":\"61d5c313-ff78-4274-aa1d-ab06b849e169\",\"type\":\"CategoricalTicker\"}},\"id\":\"e0a5e1f4-d471-4652-88aa-b994e6e67ed0\",\"type\":\"Grid\"},{\"attributes\":{\"callback\":null,\"column_names\":[\"y\",\"x\"],\"data\":{\"x\":[\"2017/07\",\"2017/08\",\"2017/12\",\"2018/01\",\"2018/02\",\"2018/03\",\"2018/04\",\"2018/05\",\"2018/06\"],\"y\":[405,808,3122,4593,3158,8630,6260,4357,1764]}},\"id\":\"62b8fdc5-7dd1-4ef5-9420-1387247042f3\",\"type\":\"ColumnDataSource\"},{\"attributes\":{\"active_drag\":\"auto\",\"active_scroll\":\"auto\",\"active_tap\":\"auto\",\"tools\":[{\"id\":\"f6125c5c-6477-4824-806a-7b153a78993e\",\"type\":\"HoverTool\"},{\"id\":\"7d7b0bd0-8aa5-4d5a-82d7-a68d54c9d21d\",\"type\":\"SaveTool\"},{\"id\":\"8ef0ebea-c452-496e-8c48-444a06c5dbeb\",\"type\":\"WheelZoomTool\"},{\"id\":\"8975cd26-b1a5-4aad-8c1d-61ca6f00c016\",\"type\":\"PanTool\"},{\"id\":\"3e7ed4ec-d382-44e9-b230-0d712afa92b1\",\"type\":\"ResetTool\"}]},\"id\":\"51c9fb0f-4cb4-4f8b-87a9-f5466990530b\",\"type\":\"Toolbar\"},{\"attributes\":{},\"id\":\"ef98d4f8-75c6-4363-aec6-dd0018836384\",\"type\":\"CategoricalTicker\"},{\"attributes\":{\"line_alpha\":{\"value\":0.1},\"line_color\":{\"value\":\"#1f77b4\"},\"line_width\":{\"value\":3},\"x\":{\"field\":\"x\"},\"y\":{\"field\":\"y\"}},\"id\":\"50a4ef67-da87-4812-b81d-2d74339ceb84\",\"type\":\"Line\"},{\"attributes\":{\"axis_label\":\"Downgrade Percentage\",\"formatter\":{\"id\":\"7258a5f2-304a-4112-8877-41d28d378e0b\",\"type\":\"BasicTickFormatter\"},\"plot\":{\"id\":\"581a826c-6f10-454c-bfb1-e830f0cc699f\",\"subtype\":\"Figure\",\"type\":\"Plot\"},\"ticker\":{\"id\":\"e2c5aa56-aa92-43aa-a48c-4d5bd726b642\",\"type\":\"BasicTicker\"}},\"id\":\"7e455409-410e-43ed-a7ee-0d5915e09d05\",\"type\":\"LinearAxis\"},{\"attributes\":{\"data_source\":{\"id\":\"8e61b3a0-8cd7-48df-b086-6c26c025e1c4\",\"type\":\"ColumnDataSource\"},\"glyph\":{\"id\":\"6ea78b09-f112-4c4b-af0a-67cea38beda4\",\"type\":\"Circle\"},\"hover_glyph\":null,\"nonselection_glyph\":{\"id\":\"e80e23d2-a868-4922-a2b8-55abce08362b\",\"type\":\"Circle\"},\"selection_glyph\":null,\"y_range_name\":\"y2\"},\"id\":\"d51d5f66-2f49-46ee-8acc-56d620506ed8\",\"type\":\"GlyphRenderer\"},{\"attributes\":{\"fill_alpha\":{\"value\":0.1},\"fill_color\":{\"value\":\"#1f77b4\"},\"line_alpha\":{\"value\":0.1},\"line_color\":{\"value\":\"#1f77b4\"},\"x\":{\"field\":\"x\"},\"y\":{\"field\":\"y\"}},\"id\":\"0e1cfc1b-90ee-41c9-a22d-f2e0d23c79fa\",\"type\":\"Circle\"},{\"attributes\":{\"below\":[{\"id\":\"5d2246ef-a96b-46c6-86ae-1be75e05406c\",\"type\":\"CategoricalAxis\"}],\"border_fill_color\":{\"value\":\"whitesmoke\"},\"extra_y_ranges\":{\"y2\":{\"id\":\"a37ac3db-2269-424b-a31e-5917aca02328\",\"type\":\"Range1d\"}},\"left\":[{\"id\":\"c6dd23bb-f19a-4b00-9bb2-5dd05c328f34\",\"type\":\"LinearAxis\"}],\"min_border_left\":80,\"plot_height\":500,\"renderers\":[{\"id\":\"5d2246ef-a96b-46c6-86ae-1be75e05406c\",\"type\":\"CategoricalAxis\"},{\"id\":\"987c64a3-c89a-4700-92a6-1c81286ee14a\",\"type\":\"Grid\"},{\"id\":\"c6dd23bb-f19a-4b00-9bb2-5dd05c328f34\",\"type\":\"LinearAxis\"},{\"id\":\"95ef1a4b-c3f6-4a02-962c-8b031b38ed6c\",\"type\":\"Grid\"},{\"id\":\"d4d7b181-1020-4223-b391-72e63c6200ef\",\"type\":\"GlyphRenderer\"},{\"id\":\"f1c9c35d-8edb-472c-9365-e8913b0607a3\",\"type\":\"GlyphRenderer\"},{\"id\":\"039ef525-95ff-4e46-b275-acbffe138772\",\"type\":\"GlyphRenderer\"},{\"id\":\"48b8b4b3-1308-4afd-b5c7-ed09b0236445\",\"type\":\"LinearAxis\"}],\"right\":[{\"id\":\"48b8b4b3-1308-4afd-b5c7-ed09b0236445\",\"type\":\"LinearAxis\"}],\"title\":{\"id\":\"e6694cf0-efcc-4778-a7b1-2785ad5cccaf\",\"type\":\"Title\"},\"tool_events\":{\"id\":\"7cb5ad22-ef48-4624-993d-ee0461a2eb3f\",\"type\":\"ToolEvents\"},\"toolbar\":{\"id\":\"2c925aff-65cd-4089-af0d-7fb16f132d0c\",\"type\":\"Toolbar\"},\"toolbar_location\":null,\"x_range\":{\"id\":\"d4af99c0-0b2e-4600-a1b9-9fe511029ab6\",\"type\":\"FactorRange\"},\"y_range\":{\"id\":\"ccda66fc-26f6-42c0-808b-f799c58a2442\",\"type\":\"Range1d\"}},\"id\":\"e85adcc7-0ccb-40f4-8533-09fc863f2ed1\",\"subtype\":\"Figure\",\"type\":\"Plot\"},{\"attributes\":{\"callback\":null,\"end\":15000},\"id\":\"11319dd6-ac73-4cb7-93e7-1b36d3ec7a87\",\"type\":\"Range1d\"},{\"attributes\":{\"fill_color\":{\"value\":\"#1f77b4\"},\"line_color\":{\"value\":\"#1f77b4\"},\"top\":{\"field\":\"top\"},\"width\":{\"value\":0.9},\"x\":{\"field\":\"x\"}},\"id\":\"55bc54bd-fb0d-4aa9-a438-cdeeae495ba7\",\"type\":\"VBar\"},{\"attributes\":{},\"id\":\"ea014c9c-4885-47cb-8479-f79ed161a7a4\",\"type\":\"BasicTicker\"},{\"attributes\":{\"formatter\":{\"id\":\"dfec3dc8-354d-4174-b524-17cb3a7bdf66\",\"type\":\"BasicTickFormatter\"},\"plot\":{\"id\":\"fe6d07ee-c236-4db8-ac32-d3bd24933f70\",\"subtype\":\"Figure\",\"type\":\"Plot\"},\"ticker\":{\"id\":\"61349dc0-5a6a-464c-b8c8-ce78a90a386e\",\"type\":\"BasicTicker\"},\"y_range_name\":\"y2\"},\"id\":\"10fb73d2-f249-4c99-beb9-80c0d32463a5\",\"type\":\"LinearAxis\"},{\"attributes\":{\"callback\":null},\"id\":\"10dad3a8-bdfb-40ce-8c13-d667370d2a0d\",\"type\":\"Range1d\"},{\"attributes\":{\"plot\":{\"id\":\"3127b6ad-9c73-4201-9887-b0ba5c9920d0\",\"subtype\":\"Figure\",\"type\":\"Plot\"}},\"id\":\"6073d160-2c44-4e41-8501-0ffca5271c07\",\"type\":\"PanTool\"},{\"attributes\":{\"line_alpha\":{\"value\":0.1},\"line_color\":{\"value\":\"#1f77b4\"},\"line_width\":{\"value\":3},\"x\":{\"field\":\"x\"},\"y\":{\"field\":\"y\"}},\"id\":\"c6876608-35ee-4fa4-92b5-da215c8ed4bd\",\"type\":\"Line\"},{\"attributes\":{},\"id\":\"9f79064a-8c90-4e0e-aea7-ef1621d03624\",\"type\":\"BasicTicker\"},{\"attributes\":{\"data_source\":{\"id\":\"62b8fdc5-7dd1-4ef5-9420-1387247042f3\",\"type\":\"ColumnDataSource\"},\"glyph\":{\"id\":\"c9d0fc94-a2d6-4b94-9329-787a96e7c018\",\"type\":\"Line\"},\"hover_glyph\":null,\"nonselection_glyph\":{\"id\":\"c6876608-35ee-4fa4-92b5-da215c8ed4bd\",\"type\":\"Line\"},\"selection_glyph\":null,\"y_range_name\":\"y2\"},\"id\":\"58eade58-cc85-4b82-af25-f5c242695997\",\"type\":\"GlyphRenderer\"},{\"attributes\":{\"dimension\":1,\"plot\":{\"id\":\"e85adcc7-0ccb-40f4-8533-09fc863f2ed1\",\"subtype\":\"Figure\",\"type\":\"Plot\"},\"ticker\":{\"id\":\"d6245212-629d-4261-a7a1-22b301da0792\",\"type\":\"BasicTicker\"}},\"id\":\"95ef1a4b-c3f6-4a02-962c-8b031b38ed6c\",\"type\":\"Grid\"},{\"attributes\":{\"line_alpha\":{\"value\":0.1},\"line_color\":{\"value\":\"#1f77b4\"},\"line_width\":{\"value\":3},\"x\":{\"field\":\"x\"},\"y\":{\"field\":\"y\"}},\"id\":\"a8c3aca7-a20c-4a4e-b243-7fdd1ae95bcf\",\"type\":\"Line\"},{\"attributes\":{\"below\":[{\"id\":\"93dcda55-49b6-4f47-8ece-df6696d914e1\",\"type\":\"CategoricalAxis\"}],\"border_fill_color\":{\"value\":\"whitesmoke\"},\"extra_y_ranges\":{\"y2\":{\"id\":\"2b420eca-a4f4-41d7-88e4-41be79f5064f\",\"type\":\"Range1d\"}},\"left\":[{\"id\":\"7e455409-410e-43ed-a7ee-0d5915e09d05\",\"type\":\"LinearAxis\"}],\"min_border_left\":80,\"plot_height\":500,\"renderers\":[{\"id\":\"93dcda55-49b6-4f47-8ece-df6696d914e1\",\"type\":\"CategoricalAxis\"},{\"id\":\"bd88f86c-e0ee-4515-95c3-a2322bb41019\",\"type\":\"Grid\"},{\"id\":\"7e455409-410e-43ed-a7ee-0d5915e09d05\",\"type\":\"LinearAxis\"},{\"id\":\"0556b72e-f4fb-4e07-8336-806cd208c620\",\"type\":\"Grid\"},{\"id\":\"0372e227-dcb8-4745-a15f-6f296701c697\",\"type\":\"GlyphRenderer\"},{\"id\":\"74c5487e-3f67-427d-89a7-998c6cc05c43\",\"type\":\"GlyphRenderer\"},{\"id\":\"9f9cae61-4a2c-4c31-8807-810f3c6f2749\",\"type\":\"GlyphRenderer\"},{\"id\":\"e3f5858c-3709-41b4-8600-1f88f082b5be\",\"type\":\"LinearAxis\"}],\"right\":[{\"id\":\"e3f5858c-3709-41b4-8600-1f88f082b5be\",\"type\":\"LinearAxis\"}],\"title\":{\"id\":\"ca8e7ea6-1931-4322-b5e8-9a4c644d0c8b\",\"type\":\"Title\"},\"tool_events\":{\"id\":\"934fe2e8-e741-4b3a-b6e9-728f9c1dc2c0\",\"type\":\"ToolEvents\"},\"toolbar\":{\"id\":\"22f91fa9-fe3b-4f66-9f0a-3569870d6a6d\",\"type\":\"Toolbar\"},\"toolbar_location\":null,\"x_range\":{\"id\":\"d4af99c0-0b2e-4600-a1b9-9fe511029ab6\",\"type\":\"FactorRange\"},\"y_range\":{\"id\":\"10dad3a8-bdfb-40ce-8c13-d667370d2a0d\",\"type\":\"Range1d\"}},\"id\":\"581a826c-6f10-454c-bfb1-e830f0cc699f\",\"subtype\":\"Figure\",\"type\":\"Plot\"},{\"attributes\":{\"dimension\":1,\"plot\":{\"id\":\"5edfdecd-88db-4d9e-9984-66b3c7ee24c7\",\"subtype\":\"Figure\",\"type\":\"Plot\"},\"ticker\":{\"id\":\"c3f52c89-0325-4538-870f-262c680724eb\",\"type\":\"BasicTicker\"}},\"id\":\"ab34e750-1195-4433-91a3-235f9e290fd7\",\"type\":\"Grid\"},{\"attributes\":{\"fill_alpha\":{\"value\":0.1},\"fill_color\":{\"value\":\"#1f77b4\"},\"line_alpha\":{\"value\":0.1},\"line_color\":{\"value\":\"#1f77b4\"},\"top\":{\"field\":\"top\"},\"width\":{\"value\":0.9},\"x\":{\"field\":\"x\"}},\"id\":\"47482b1b-e4e7-46a7-9ee3-7b59db2aeeaf\",\"type\":\"VBar\"},{\"attributes\":{\"dimension\":1,\"plot\":{\"id\":\"879602e4-78d6-450c-b706-c0591e22914f\",\"subtype\":\"Figure\",\"type\":\"Plot\"},\"ticker\":{\"id\":\"dc4e66da-6685-4b57-95b2-8627560394f9\",\"type\":\"BasicTicker\"}},\"id\":\"13d5d9a6-5a2a-4115-91fd-a60cc5fb4051\",\"type\":\"Grid\"},{\"attributes\":{\"callback\":null,\"column_names\":[\"x\",\"top\"],\"data\":{\"top\":[0.08984375,0.05240174672489083,0.0937766410912191,0.12847682119205298,0.10813076278290025,0.21311047270827893,0.1834442595673877,0.14276485788113696,0.13614262560777957],\"x\":[\"2017/07\",\"2017/08\",\"2017/12\",\"2018/01\",\"2018/02\",\"2018/03\",\"2018/04\",\"2018/05\",\"2018/06\"]}},\"id\":\"70e86d77-9dc0-455e-88a3-8520ac19b8ba\",\"type\":\"ColumnDataSource\"},{\"attributes\":{\"data_source\":{\"id\":\"14e33054-deab-4118-aae2-70ea43d7596c\",\"type\":\"ColumnDataSource\"},\"glyph\":{\"id\":\"66f9d217-d755-4d0f-aaa1-00a3ee75f0c1\",\"type\":\"Line\"},\"hover_glyph\":null,\"nonselection_glyph\":{\"id\":\"50a4ef67-da87-4812-b81d-2d74339ceb84\",\"type\":\"Line\"},\"selection_glyph\":null,\"y_range_name\":\"y2\"},\"id\":\"74c5487e-3f67-427d-89a7-998c6cc05c43\",\"type\":\"GlyphRenderer\"},{\"attributes\":{\"formatter\":{\"id\":\"d886368c-8275-4ad9-8b68-857b95091428\",\"type\":\"BasicTickFormatter\"},\"plot\":{\"id\":\"581a826c-6f10-454c-bfb1-e830f0cc699f\",\"subtype\":\"Figure\",\"type\":\"Plot\"},\"ticker\":{\"id\":\"970e6f50-b834-44bf-b835-d9317c59e9a2\",\"type\":\"BasicTicker\"},\"y_range_name\":\"y2\"},\"id\":\"e3f5858c-3709-41b4-8600-1f88f082b5be\",\"type\":\"LinearAxis\"},{\"attributes\":{\"axis_label\":\"Date\",\"formatter\":{\"id\":\"5b42117c-2b1e-493c-9097-7f2f51c0b7d3\",\"type\":\"CategoricalTickFormatter\"},\"plot\":{\"id\":\"3127b6ad-9c73-4201-9887-b0ba5c9920d0\",\"subtype\":\"Figure\",\"type\":\"Plot\"},\"ticker\":{\"id\":\"61d5c313-ff78-4274-aa1d-ab06b849e169\",\"type\":\"CategoricalTicker\"}},\"id\":\"ddd71a86-bc84-4d99-bfed-9ddd40571d59\",\"type\":\"CategoricalAxis\"},{\"attributes\":{\"axis_label\":\"Date\",\"formatter\":{\"id\":\"c5cbe9a7-1857-4ca2-a767-de374ea5ccfe\",\"type\":\"CategoricalTickFormatter\"},\"plot\":{\"id\":\"879602e4-78d6-450c-b706-c0591e22914f\",\"subtype\":\"Figure\",\"type\":\"Plot\"},\"ticker\":{\"id\":\"668013cc-35c5-4c37-8c9e-1e9a3f17c722\",\"type\":\"CategoricalTicker\"}},\"id\":\"08f4401d-2dfc-4e19-ba5e-0df9873a034a\",\"type\":\"CategoricalAxis\"},{\"attributes\":{\"data_source\":{\"id\":\"ced4695c-3543-44c4-b75a-7c7ad4a940a6\",\"type\":\"ColumnDataSource\"},\"glyph\":{\"id\":\"6ffef4f2-19fd-4780-8557-ca697d3144c0\",\"type\":\"Circle\"},\"hover_glyph\":null,\"nonselection_glyph\":{\"id\":\"81b1b32e-9d6f-4e26-a1c4-05a571175d05\",\"type\":\"Circle\"},\"selection_glyph\":null,\"y_range_name\":\"y2\"},\"id\":\"5fac1c7f-d6d8-4d0c-a33e-4fb4e40ee0b6\",\"type\":\"GlyphRenderer\"},{\"attributes\":{\"axis_label\":\"Date\",\"formatter\":{\"id\":\"f153e01c-cbe7-44bd-837e-a181dcbd38af\",\"type\":\"CategoricalTickFormatter\"},\"plot\":{\"id\":\"5edfdecd-88db-4d9e-9984-66b3c7ee24c7\",\"subtype\":\"Figure\",\"type\":\"Plot\"},\"ticker\":{\"id\":\"ef98d4f8-75c6-4363-aec6-dd0018836384\",\"type\":\"CategoricalTicker\"}},\"id\":\"8c120437-a80f-4710-8686-700f323c1158\",\"type\":\"CategoricalAxis\"},{\"attributes\":{\"child\":{\"id\":\"423d8604-3f9f-46f4-9502-b104f7cd1fbf\",\"type\":\"Column\"},\"title\":\"Downgrades, Including EIRF\"},\"id\":\"fa4883da-99f7-4bdd-82b7-c1ac49d26087\",\"type\":\"Panel\"},{\"attributes\":{\"callback\":null,\"column_names\":[\"y\",\"x\"],\"data\":{\"x\":[\"2017/07\",\"2017/08\",\"2017/12\",\"2018/01\",\"2018/02\",\"2018/03\",\"2018/04\",\"2018/05\",\"2018/06\"],\"y\":[243,443,1094,1369,1102,3463,2195,1430,573]}},\"id\":\"8e61b3a0-8cd7-48df-b086-6c26c025e1c4\",\"type\":\"ColumnDataSource\"},{\"attributes\":{\"below\":[{\"id\":\"08f4401d-2dfc-4e19-ba5e-0df9873a034a\",\"type\":\"CategoricalAxis\"}],\"border_fill_color\":{\"value\":\"whitesmoke\"},\"extra_y_ranges\":{\"y2\":{\"id\":\"79898a43-5f59-4db8-8608-79c8b1c129a2\",\"type\":\"Range1d\"}},\"left\":[{\"id\":\"bc16dd18-2a6d-4779-8573-45fc458b2c66\",\"type\":\"LinearAxis\"}],\"min_border_left\":80,\"plot_height\":500,\"renderers\":[{\"id\":\"08f4401d-2dfc-4e19-ba5e-0df9873a034a\",\"type\":\"CategoricalAxis\"},{\"id\":\"155a5f7b-6c17-4e1c-956a-81818512e784\",\"type\":\"Grid\"},{\"id\":\"bc16dd18-2a6d-4779-8573-45fc458b2c66\",\"type\":\"LinearAxis\"},{\"id\":\"13d5d9a6-5a2a-4115-91fd-a60cc5fb4051\",\"type\":\"Grid\"},{\"id\":\"afa9eefd-9bdc-4e06-8f7d-c93e5ac4a7a3\",\"type\":\"GlyphRenderer\"},{\"id\":\"424fa170-4447-438e-8e6c-96c23bf079cc\",\"type\":\"GlyphRenderer\"},{\"id\":\"5fac1c7f-d6d8-4d0c-a33e-4fb4e40ee0b6\",\"type\":\"GlyphRenderer\"},{\"id\":\"48d3f968-963d-4ace-ab09-7d751bfdb656\",\"type\":\"LinearAxis\"}],\"right\":[{\"id\":\"48d3f968-963d-4ace-ab09-7d751bfdb656\",\"type\":\"LinearAxis\"}],\"title\":{\"id\":\"41026989-9ee5-4ba6-b05d-13c3803cd550\",\"type\":\"Title\"},\"tool_events\":{\"id\":\"1ed4472f-9f22-4357-82fb-d52945055463\",\"type\":\"ToolEvents\"},\"toolbar\":{\"id\":\"51c9fb0f-4cb4-4f8b-87a9-f5466990530b\",\"type\":\"Toolbar\"},\"toolbar_location\":null,\"x_range\":{\"id\":\"d4af99c0-0b2e-4600-a1b9-9fe511029ab6\",\"type\":\"FactorRange\"},\"y_range\":{\"id\":\"ae70ccc6-f500-4f48-bf88-76fac05decc2\",\"type\":\"Range1d\"}},\"id\":\"879602e4-78d6-450c-b706-c0591e22914f\",\"subtype\":\"Figure\",\"type\":\"Plot\"},{\"attributes\":{\"below\":[{\"id\":\"90885386-3a8f-4f71-8c4a-eb1a462f589c\",\"type\":\"CategoricalAxis\"}],\"border_fill_color\":{\"value\":\"whitesmoke\"},\"extra_y_ranges\":{\"y2\":{\"id\":\"11319dd6-ac73-4cb7-93e7-1b36d3ec7a87\",\"type\":\"Range1d\"}},\"left\":[{\"id\":\"f1167868-7d31-494c-ab1f-53c9ed09d159\",\"type\":\"LinearAxis\"}],\"min_border_left\":80,\"plot_height\":500,\"renderers\":[{\"id\":\"90885386-3a8f-4f71-8c4a-eb1a462f589c\",\"type\":\"CategoricalAxis\"},{\"id\":\"7e127265-fa64-4edb-8fed-dac9dd5f4f54\",\"type\":\"Grid\"},{\"id\":\"f1167868-7d31-494c-ab1f-53c9ed09d159\",\"type\":\"LinearAxis\"},{\"id\":\"67b7abc9-11bc-4df7-8ab3-25d669ec4261\",\"type\":\"Grid\"},{\"id\":\"91ec0c6c-a3e3-4055-a518-f953a9d96352\",\"type\":\"GlyphRenderer\"},{\"id\":\"f005b25e-5604-441b-bd89-245960b43399\",\"type\":\"GlyphRenderer\"},{\"id\":\"d51d5f66-2f49-46ee-8acc-56d620506ed8\",\"type\":\"GlyphRenderer\"},{\"id\":\"10fb73d2-f249-4c99-beb9-80c0d32463a5\",\"type\":\"LinearAxis\"}],\"right\":[{\"id\":\"10fb73d2-f249-4c99-beb9-80c0d32463a5\",\"type\":\"LinearAxis\"}],\"title\":{\"id\":\"7487b31a-260f-49ea-bdc0-b37c0a380f49\",\"type\":\"Title\"},\"tool_events\":{\"id\":\"1b603cee-16c7-48f7-ab07-45b7736ea0bb\",\"type\":\"ToolEvents\"},\"toolbar\":{\"id\":\"6330737c-8006-4dc3-85b4-cc19b077e006\",\"type\":\"Toolbar\"},\"toolbar_location\":null,\"x_range\":{\"id\":\"d4af99c0-0b2e-4600-a1b9-9fe511029ab6\",\"type\":\"FactorRange\"},\"y_range\":{\"id\":\"6ab2a0f5-8ecc-48c2-b217-0d67bfc0a92d\",\"type\":\"Range1d\"}},\"id\":\"fe6d07ee-c236-4db8-ac32-d3bd24933f70\",\"subtype\":\"Figure\",\"type\":\"Plot\"},{\"attributes\":{\"formatter\":{\"id\":\"45330789-60b5-4928-9a19-579e75784b91\",\"type\":\"BasicTickFormatter\"},\"plot\":{\"id\":\"e85adcc7-0ccb-40f4-8533-09fc863f2ed1\",\"subtype\":\"Figure\",\"type\":\"Plot\"},\"ticker\":{\"id\":\"69e15fd7-a1dd-40ff-a3f4-af485cb85a26\",\"type\":\"BasicTicker\"},\"y_range_name\":\"y2\"},\"id\":\"48b8b4b3-1308-4afd-b5c7-ed09b0236445\",\"type\":\"LinearAxis\"},{\"attributes\":{\"data_source\":{\"id\":\"22276998-9b1b-404b-886d-a26326da45a8\",\"type\":\"ColumnDataSource\"},\"glyph\":{\"id\":\"6013dfde-7688-420a-9d17-4d61cca873ec\",\"type\":\"Line\"},\"hover_glyph\":null,\"nonselection_glyph\":{\"id\":\"a8c3aca7-a20c-4a4e-b243-7fdd1ae95bcf\",\"type\":\"Line\"},\"selection_glyph\":null,\"y_range_name\":\"y2\"},\"id\":\"424fa170-4447-438e-8e6c-96c23bf079cc\",\"type\":\"GlyphRenderer\"},{\"attributes\":{},\"id\":\"470b1fac-4662-4eaa-beaa-52ed48e93301\",\"type\":\"CategoricalTickFormatter\"},{\"attributes\":{},\"id\":\"ed894a56-aa3e-4335-aef7-0222b9ea3468\",\"type\":\"BasicTickFormatter\"},{\"attributes\":{\"callback\":null},\"id\":\"e037eaf8-2364-4fbe-9880-20581d4abd8c\",\"type\":\"Range1d\"},{\"attributes\":{\"children\":[{\"id\":\"879602e4-78d6-450c-b706-c0591e22914f\",\"subtype\":\"Figure\",\"type\":\"Plot\"},{\"id\":\"3127b6ad-9c73-4201-9887-b0ba5c9920d0\",\"subtype\":\"Figure\",\"type\":\"Plot\"},{\"id\":\"fe6d07ee-c236-4db8-ac32-d3bd24933f70\",\"subtype\":\"Figure\",\"type\":\"Plot\"}]},\"id\":\"ec6bed2b-fb41-4773-9deb-7ab08f0e15e4\",\"type\":\"Row\"},{\"attributes\":{},\"id\":\"c5cbe9a7-1857-4ca2-a767-de374ea5ccfe\",\"type\":\"CategoricalTickFormatter\"},{\"attributes\":{\"dimension\":1,\"plot\":{\"id\":\"3127b6ad-9c73-4201-9887-b0ba5c9920d0\",\"subtype\":\"Figure\",\"type\":\"Plot\"},\"ticker\":{\"id\":\"9f79064a-8c90-4e0e-aea7-ef1621d03624\",\"type\":\"BasicTicker\"}},\"id\":\"37edd123-cd41-4a4e-aa32-bf593cd03570\",\"type\":\"Grid\"},{\"attributes\":{},\"id\":\"4f34b0d5-cac5-4383-a211-d2f1a0e07f31\",\"type\":\"BasicTicker\"},{\"attributes\":{},\"id\":\"dc4e66da-6685-4b57-95b2-8627560394f9\",\"type\":\"BasicTicker\"},{\"attributes\":{\"dimension\":1,\"plot\":{\"id\":\"fe6d07ee-c236-4db8-ac32-d3bd24933f70\",\"subtype\":\"Figure\",\"type\":\"Plot\"},\"ticker\":{\"id\":\"bc860368-2f9a-4062-8943-474a12b66d11\",\"type\":\"BasicTicker\"}},\"id\":\"67b7abc9-11bc-4df7-8ab3-25d669ec4261\",\"type\":\"Grid\"},{\"attributes\":{\"plot\":{\"id\":\"3127b6ad-9c73-4201-9887-b0ba5c9920d0\",\"subtype\":\"Figure\",\"type\":\"Plot\"}},\"id\":\"96c77bb5-6e28-4f8a-b3dd-a10ef8986d9c\",\"type\":\"WheelZoomTool\"},{\"attributes\":{\"callback\":null,\"factors\":[\"2017/07\",\"2017/08\",\"2017/12\",\"2018/01\",\"2018/02\",\"2018/03\",\"2018/04\",\"2018/05\",\"2018/06\"]},\"id\":\"d4af99c0-0b2e-4600-a1b9-9fe511029ab6\",\"type\":\"FactorRange\"},{\"attributes\":{},\"id\":\"bc860368-2f9a-4062-8943-474a12b66d11\",\"type\":\"BasicTicker\"},{\"attributes\":{\"callback\":null,\"end\":15000},\"id\":\"2b420eca-a4f4-41d7-88e4-41be79f5064f\",\"type\":\"Range1d\"},{\"attributes\":{\"axis_label\":\"Downgrade Percentage\",\"formatter\":{\"id\":\"895e2ba8-cd81-41d1-894e-6d195dadaabf\",\"type\":\"BasicTickFormatter\"},\"plot\":{\"id\":\"fe6d07ee-c236-4db8-ac32-d3bd24933f70\",\"subtype\":\"Figure\",\"type\":\"Plot\"},\"ticker\":{\"id\":\"bc860368-2f9a-4062-8943-474a12b66d11\",\"type\":\"BasicTicker\"}},\"id\":\"f1167868-7d31-494c-ab1f-53c9ed09d159\",\"type\":\"LinearAxis\"},{\"attributes\":{\"line_color\":{\"value\":\"red\"},\"line_width\":{\"value\":3},\"x\":{\"field\":\"x\"},\"y\":{\"field\":\"y\"}},\"id\":\"e1e604fb-0115-4ff7-8143-3e1445abc0e4\",\"type\":\"Line\"},{\"attributes\":{\"plot\":{\"id\":\"879602e4-78d6-450c-b706-c0591e22914f\",\"subtype\":\"Figure\",\"type\":\"Plot\"}},\"id\":\"7d7b0bd0-8aa5-4d5a-82d7-a68d54c9d21d\",\"type\":\"SaveTool\"},{\"attributes\":{\"callback\":null,\"plot\":{\"id\":\"879602e4-78d6-450c-b706-c0591e22914f\",\"subtype\":\"Figure\",\"type\":\"Plot\"}},\"id\":\"f6125c5c-6477-4824-806a-7b153a78993e\",\"type\":\"HoverTool\"},{\"attributes\":{\"plot\":{\"id\":\"5edfdecd-88db-4d9e-9984-66b3c7ee24c7\",\"subtype\":\"Figure\",\"type\":\"Plot\"}},\"id\":\"507a7299-39db-4a22-9733-d69027663d5c\",\"type\":\"PanTool\"},{\"attributes\":{\"data_source\":{\"id\":\"7b9045bb-bc90-49e4-8a98-eb384310f4ab\",\"type\":\"ColumnDataSource\"},\"glyph\":{\"id\":\"f5332f18-e42a-4d35-bf34-ab516fdd19d4\",\"type\":\"Line\"},\"hover_glyph\":null,\"nonselection_glyph\":{\"id\":\"1f2fa02f-36c0-4884-999d-84811e661ad1\",\"type\":\"Line\"},\"selection_glyph\":null,\"y_range_name\":\"y2\"},\"id\":\"f1c9c35d-8edb-472c-9365-e8913b0607a3\",\"type\":\"GlyphRenderer\"},{\"attributes\":{\"callback\":null,\"end\":15000},\"id\":\"a37ac3db-2269-424b-a31e-5917aca02328\",\"type\":\"Range1d\"},{\"attributes\":{\"fill_alpha\":{\"value\":0.1},\"fill_color\":{\"value\":\"#1f77b4\"},\"line_alpha\":{\"value\":0.1},\"line_color\":{\"value\":\"#1f77b4\"},\"top\":{\"field\":\"top\"},\"width\":{\"value\":0.9},\"x\":{\"field\":\"x\"}},\"id\":\"20c471e9-fc61-472e-b4fe-2d2694c95cfd\",\"type\":\"VBar\"},{\"attributes\":{\"callback\":null,\"column_names\":[\"y\",\"x\"],\"data\":{\"x\":[\"2017/07\",\"2017/08\",\"2017/12\",\"2018/01\",\"2018/02\",\"2018/03\",\"2018/04\",\"2018/05\",\"2018/06\"],\"y\":[423,849,3730,5607,3816,10244,7500,5193,2075]}},\"id\":\"177ca552-9f82-4c8b-bc78-d316fc8cca92\",\"type\":\"ColumnDataSource\"},{\"attributes\":{\"callback\":null,\"column_names\":[\"y\",\"x\"],\"data\":{\"x\":[\"2017/07\",\"2017/08\",\"2017/12\",\"2018/01\",\"2018/02\",\"2018/03\",\"2018/04\",\"2018/05\",\"2018/06\"],\"y\":[243,443,1094,1369,1102,3463,2195,1430,573]}},\"id\":\"e5ee90df-2b66-4731-890e-1eaad7d07e00\",\"type\":\"ColumnDataSource\"},{\"attributes\":{\"fill_alpha\":{\"value\":0.1},\"fill_color\":{\"value\":\"#1f77b4\"},\"line_alpha\":{\"value\":0.1},\"line_color\":{\"value\":\"#1f77b4\"},\"top\":{\"field\":\"top\"},\"width\":{\"value\":0.9},\"x\":{\"field\":\"x\"}},\"id\":\"f725c06c-321d-4926-8190-4734de61d562\",\"type\":\"VBar\"},{\"attributes\":{\"axis_label\":\"Downgrade Percentage\",\"formatter\":{\"id\":\"a1ee6093-8901-49be-a5a8-41af2d1b3f6f\",\"type\":\"BasicTickFormatter\"},\"plot\":{\"id\":\"3127b6ad-9c73-4201-9887-b0ba5c9920d0\",\"subtype\":\"Figure\",\"type\":\"Plot\"},\"ticker\":{\"id\":\"9f79064a-8c90-4e0e-aea7-ef1621d03624\",\"type\":\"BasicTicker\"}},\"id\":\"e031b1b2-d28e-421e-a526-ce31f907a5ca\",\"type\":\"LinearAxis\"},{\"attributes\":{\"below\":[{\"id\":\"ddd71a86-bc84-4d99-bfed-9ddd40571d59\",\"type\":\"CategoricalAxis\"}],\"border_fill_color\":{\"value\":\"whitesmoke\"},\"extra_y_ranges\":{\"y2\":{\"id\":\"24c619b1-b75a-4548-8688-8c66879b902f\",\"type\":\"Range1d\"}},\"left\":[{\"id\":\"e031b1b2-d28e-421e-a526-ce31f907a5ca\",\"type\":\"LinearAxis\"}],\"min_border_left\":80,\"plot_height\":500,\"renderers\":[{\"id\":\"ddd71a86-bc84-4d99-bfed-9ddd40571d59\",\"type\":\"CategoricalAxis\"},{\"id\":\"e0a5e1f4-d471-4652-88aa-b994e6e67ed0\",\"type\":\"Grid\"},{\"id\":\"e031b1b2-d28e-421e-a526-ce31f907a5ca\",\"type\":\"LinearAxis\"},{\"id\":\"37edd123-cd41-4a4e-aa32-bf593cd03570\",\"type\":\"Grid\"},{\"id\":\"8ca81093-23e8-4b66-b1f0-c95331d36042\",\"type\":\"GlyphRenderer\"},{\"id\":\"58eade58-cc85-4b82-af25-f5c242695997\",\"type\":\"GlyphRenderer\"},{\"id\":\"f0126e44-c2a3-4985-b558-e9ad6ec4ccf7\",\"type\":\"GlyphRenderer\"},{\"id\":\"863ffd6e-ee95-4694-ad40-e522e41be379\",\"type\":\"LinearAxis\"}],\"right\":[{\"id\":\"863ffd6e-ee95-4694-ad40-e522e41be379\",\"type\":\"LinearAxis\"}],\"title\":{\"id\":\"e7a4ec7b-0be9-4dc8-8620-befb73b7fb0c\",\"type\":\"Title\"},\"tool_events\":{\"id\":\"efa0cc9e-92b5-417e-8731-300507291b00\",\"type\":\"ToolEvents\"},\"toolbar\":{\"id\":\"9974a2d0-2b6a-4ccf-9ac3-a95102f40669\",\"type\":\"Toolbar\"},\"toolbar_location\":null,\"x_range\":{\"id\":\"d4af99c0-0b2e-4600-a1b9-9fe511029ab6\",\"type\":\"FactorRange\"},\"y_range\":{\"id\":\"e037eaf8-2364-4fbe-9880-20581d4abd8c\",\"type\":\"Range1d\"}},\"id\":\"3127b6ad-9c73-4201-9887-b0ba5c9920d0\",\"subtype\":\"Figure\",\"type\":\"Plot\"},{\"attributes\":{\"plot\":{\"id\":\"fe6d07ee-c236-4db8-ac32-d3bd24933f70\",\"subtype\":\"Figure\",\"type\":\"Plot\"}},\"id\":\"31c18bb6-07cd-458f-bea3-5183ad33d7ee\",\"type\":\"PanTool\"},{\"attributes\":{\"fill_alpha\":{\"value\":0.1},\"fill_color\":{\"value\":\"#1f77b4\"},\"line_alpha\":{\"value\":0.1},\"line_color\":{\"value\":\"#1f77b4\"},\"x\":{\"field\":\"x\"},\"y\":{\"field\":\"y\"}},\"id\":\"4a3782c0-560b-4e88-ad5b-278c2b16f7c1\",\"type\":\"Circle\"},{\"attributes\":{\"data_source\":{\"id\":\"d22ca6cb-e32d-467a-bcd2-338e842b3144\",\"type\":\"ColumnDataSource\"},\"glyph\":{\"id\":\"d4e02bb9-86e9-4eee-b56f-4c9c8e8a19b9\",\"type\":\"Circle\"},\"hover_glyph\":null,\"nonselection_glyph\":{\"id\":\"4a3782c0-560b-4e88-ad5b-278c2b16f7c1\",\"type\":\"Circle\"},\"selection_glyph\":null,\"y_range_name\":\"y2\"},\"id\":\"9f9cae61-4a2c-4c31-8807-810f3c6f2749\",\"type\":\"GlyphRenderer\"},{\"attributes\":{\"fill_alpha\":{\"value\":0.1},\"fill_color\":{\"value\":\"#1f77b4\"},\"line_alpha\":{\"value\":0.1},\"line_color\":{\"value\":\"#1f77b4\"},\"x\":{\"field\":\"x\"},\"y\":{\"field\":\"y\"}},\"id\":\"28c35c65-47f5-4873-a7c7-43431d739789\",\"type\":\"Circle\"},{\"attributes\":{\"data_source\":{\"id\":\"be59de04-9079-4d40-b093-d8e12166debb\",\"type\":\"ColumnDataSource\"},\"glyph\":{\"id\":\"0d755431-ce9b-43bd-be1e-29a51ccdb294\",\"type\":\"Circle\"},\"hover_glyph\":null,\"nonselection_glyph\":{\"id\":\"ca7af6cb-e752-482e-b277-5a3a30ef642b\",\"type\":\"Circle\"},\"selection_glyph\":null,\"y_range_name\":\"y2\"},\"id\":\"039ef525-95ff-4e46-b275-acbffe138772\",\"type\":\"GlyphRenderer\"},{\"attributes\":{},\"id\":\"7cb5ad22-ef48-4624-993d-ee0461a2eb3f\",\"type\":\"ToolEvents\"},{\"attributes\":{},\"id\":\"f153e01c-cbe7-44bd-837e-a181dcbd38af\",\"type\":\"CategoricalTickFormatter\"},{\"attributes\":{\"data_source\":{\"id\":\"6a841596-bc01-429e-baac-83185c80ba0d\",\"type\":\"ColumnDataSource\"},\"glyph\":{\"id\":\"f7229d1d-80a7-484a-b3ca-62841c9ae0e4\",\"type\":\"VBar\"},\"hover_glyph\":null,\"nonselection_glyph\":{\"id\":\"50540199-e9bf-4baa-b459-7a1d0a8d0648\",\"type\":\"VBar\"},\"selection_glyph\":null},\"id\":\"c8dce483-c1ca-4782-a1f2-1d2343302279\",\"type\":\"GlyphRenderer\"},{\"attributes\":{\"callback\":null,\"column_names\":[\"x\",\"top\"],\"data\":{\"top\":[0.053497942386831275,0.033860045146726865,0.0283363802559415,0.03871439006574142,0.034482758620689655,0.12994513427663876,0.10569476082004556,0.07272727272727272,0.06980802792321117],\"x\":[\"2017/07\",\"2017/08\",\"2017/12\",\"2018/01\",\"2018/02\",\"2018/03\",\"2018/04\",\"2018/05\",\"2018/06\"]}},\"id\":\"0080c2bd-4d2d-4f08-a768-44a08b9f110e\",\"type\":\"ColumnDataSource\"},{\"attributes\":{},\"id\":\"895e2ba8-cd81-41d1-894e-6d195dadaabf\",\"type\":\"BasicTickFormatter\"},{\"attributes\":{\"plot\":null,\"text\":\"Ctrip Downgrade Percentages\"},\"id\":\"ca8e7ea6-1931-4322-b5e8-9a4c644d0c8b\",\"type\":\"Title\"},{\"attributes\":{\"line_color\":{\"value\":\"red\"},\"line_width\":{\"value\":3},\"x\":{\"field\":\"x\"},\"y\":{\"field\":\"y\"}},\"id\":\"66f9d217-d755-4d0f-aaa1-00a3ee75f0c1\",\"type\":\"Line\"},{\"attributes\":{\"callback\":null,\"column_names\":[\"y\",\"x\"],\"data\":{\"x\":[\"2017/07\",\"2017/08\",\"2017/12\",\"2018/01\",\"2018/02\",\"2018/03\",\"2018/04\",\"2018/05\",\"2018/06\"],\"y\":[423,849,3730,5607,3816,10244,7500,5193,2075]}},\"id\":\"b9df0f50-d7df-4428-82e3-7613d0c8cc8c\",\"type\":\"ColumnDataSource\"},{\"attributes\":{\"callback\":null,\"column_names\":[\"y\",\"x\"],\"data\":{\"x\":[\"2017/07\",\"2017/08\",\"2017/12\",\"2018/01\",\"2018/02\",\"2018/03\",\"2018/04\",\"2018/05\",\"2018/06\"],\"y\":[5881,2076,5502,7117,5354,14691,9904,6742,2692]}},\"id\":\"14e33054-deab-4118-aae2-70ea43d7596c\",\"type\":\"ColumnDataSource\"},{\"attributes\":{},\"id\":\"934fe2e8-e741-4b3a-b6e9-728f9c1dc2c0\",\"type\":\"ToolEvents\"},{\"attributes\":{\"callback\":null,\"end\":15000},\"id\":\"79898a43-5f59-4db8-8608-79c8b1c129a2\",\"type\":\"Range1d\"},{\"attributes\":{\"line_color\":{\"value\":\"red\"},\"line_width\":{\"value\":3},\"x\":{\"field\":\"x\"},\"y\":{\"field\":\"y\"}},\"id\":\"6013dfde-7688-420a-9d17-4d61cca873ec\",\"type\":\"Line\"},{\"attributes\":{\"fill_alpha\":{\"value\":0.1},\"fill_color\":{\"value\":\"#1f77b4\"},\"line_alpha\":{\"value\":0.1},\"line_color\":{\"value\":\"#1f77b4\"},\"x\":{\"field\":\"x\"},\"y\":{\"field\":\"y\"}},\"id\":\"ca7af6cb-e752-482e-b277-5a3a30ef642b\",\"type\":\"Circle\"},{\"attributes\":{\"plot\":null,\"text\":\"Ctrip Downgrade Percentages\"},\"id\":\"41026989-9ee5-4ba6-b05d-13c3803cd550\",\"type\":\"Title\"},{\"attributes\":{\"line_color\":{\"value\":\"red\"},\"line_width\":{\"value\":3},\"x\":{\"field\":\"x\"},\"y\":{\"field\":\"y\"}},\"id\":\"c9d0fc94-a2d6-4b94-9329-787a96e7c018\",\"type\":\"Line\"},{\"attributes\":{\"callback\":null,\"column_names\":[\"x\",\"top\"],\"data\":{\"top\":[0.02414555347729978,0.10500963391136801,0.07851690294438386,0.09456231558240832,0.08890549122151663,0.3577019944183514,0.27221324717285944,0.16226638979531297,0.1901931649331352],\"x\":[\"2017/07\",\"2017/08\",\"2017/12\",\"2018/01\",\"2018/02\",\"2018/03\",\"2018/04\",\"2018/05\",\"2018/06\"]}},\"id\":\"822781f3-720d-4e82-b92f-2557b9b7edae\",\"type\":\"ColumnDataSource\"},{\"attributes\":{\"children\":[{\"id\":\"6895fc6f-3bb9-415a-a6b6-fa230c8d271e\",\"type\":\"ToolbarBox\"},{\"id\":\"aaef2d9a-6053-452c-a1b4-0348601fe6f8\",\"type\":\"Column\"}]},\"id\":\"a7dab44c-c065-490a-94bd-0163efe5e0ec\",\"type\":\"Column\"},{\"attributes\":{\"active_drag\":\"auto\",\"active_scroll\":\"auto\",\"active_tap\":\"auto\",\"tools\":[{\"id\":\"250e1804-c980-4f3e-899d-057865bf002a\",\"type\":\"HoverTool\"},{\"id\":\"c2373e33-1cc1-4c5b-9e09-0d010e58a94d\",\"type\":\"SaveTool\"},{\"id\":\"c3d8b0bc-c2b1-498a-91bc-55036c26d643\",\"type\":\"WheelZoomTool\"},{\"id\":\"31c18bb6-07cd-458f-bea3-5183ad33d7ee\",\"type\":\"PanTool\"},{\"id\":\"9a17eee7-4cd4-4e90-953b-3244e00c09fc\",\"type\":\"ResetTool\"}]},\"id\":\"6330737c-8006-4dc3-85b4-cc19b077e006\",\"type\":\"Toolbar\"},{\"attributes\":{\"callback\":null,\"column_names\":[\"y\",\"x\"],\"data\":{\"x\":[\"2017/07\",\"2017/08\",\"2017/12\",\"2018/01\",\"2018/02\",\"2018/03\",\"2018/04\",\"2018/05\",\"2018/06\"],\"y\":[648,1251,4216,5962,4260,12093,8455,5787,2337]}},\"id\":\"ced4695c-3543-44c4-b75a-7c7ad4a940a6\",\"type\":\"ColumnDataSource\"},{\"attributes\":{\"plot\":null,\"text\":\"Visa Ctrip Downgrade Percentages\"},\"id\":\"fb9f5e86-62ae-4676-a5e3-bceef2a6ef72\",\"type\":\"Title\"},{\"attributes\":{\"fill_color\":{\"value\":\"black\"},\"x\":{\"field\":\"x\"},\"y\":{\"field\":\"y\"}},\"id\":\"d4e02bb9-86e9-4eee-b56f-4c9c8e8a19b9\",\"type\":\"Circle\"},{\"attributes\":{\"children\":[{\"id\":\"6d257f1f-f9dc-4589-bd0c-bf6ffe2a6723\",\"type\":\"Row\"}]},\"id\":\"f1eeb338-7154-431d-abc7-334214137e6e\",\"type\":\"Column\"},{\"attributes\":{},\"id\":\"dfec3dc8-354d-4174-b524-17cb3a7bdf66\",\"type\":\"BasicTickFormatter\"},{\"attributes\":{\"callback\":null,\"column_names\":[\"y\",\"x\"],\"data\":{\"x\":[\"2017/07\",\"2017/08\",\"2017/12\",\"2018/01\",\"2018/02\",\"2018/03\",\"2018/04\",\"2018/05\",\"2018/06\"],\"y\":[648,1251,4216,5962,4260,12093,8455,5787,2337]}},\"id\":\"22276998-9b1b-404b-886d-a26326da45a8\",\"type\":\"ColumnDataSource\"},{\"attributes\":{\"fill_alpha\":{\"value\":0.1},\"fill_color\":{\"value\":\"#1f77b4\"},\"line_alpha\":{\"value\":0.1},\"line_color\":{\"value\":\"#1f77b4\"},\"x\":{\"field\":\"x\"},\"y\":{\"field\":\"y\"}},\"id\":\"e80e23d2-a868-4922-a2b8-55abce08362b\",\"type\":\"Circle\"},{\"attributes\":{\"callback\":null,\"column_names\":[\"y\",\"x\"],\"data\":{\"x\":[\"2017/07\",\"2017/08\",\"2017/12\",\"2018/01\",\"2018/02\",\"2018/03\",\"2018/04\",\"2018/05\",\"2018/06\"],\"y\":[5881,2076,5502,7117,5354,14691,9904,6742,2692]}},\"id\":\"d22ca6cb-e32d-467a-bcd2-338e842b3144\",\"type\":\"ColumnDataSource\"},{\"attributes\":{},\"id\":\"1ed4472f-9f22-4357-82fb-d52945055463\",\"type\":\"ToolEvents\"},{\"attributes\":{\"plot\":{\"id\":\"581a826c-6f10-454c-bfb1-e830f0cc699f\",\"subtype\":\"Figure\",\"type\":\"Plot\"},\"ticker\":{\"id\":\"9dc124bc-57e9-4957-ad0b-f3e85e24e1fc\",\"type\":\"CategoricalTicker\"}},\"id\":\"bd88f86c-e0ee-4515-95c3-a2322bb41019\",\"type\":\"Grid\"},{\"attributes\":{\"line_color\":{\"value\":\"red\"},\"line_width\":{\"value\":3},\"x\":{\"field\":\"x\"},\"y\":{\"field\":\"y\"}},\"id\":\"35a17e0e-a0db-4ff3-b824-9b3b1180ebe1\",\"type\":\"Line\"},{\"attributes\":{},\"id\":\"61349dc0-5a6a-464c-b8c8-ce78a90a386e\",\"type\":\"BasicTicker\"},{\"attributes\":{\"fill_color\":{\"value\":\"#1f77b4\"},\"line_color\":{\"value\":\"#1f77b4\"},\"top\":{\"field\":\"top\"},\"width\":{\"value\":0.9},\"x\":{\"field\":\"x\"}},\"id\":\"80769d22-c12b-4f53-a38e-418358b8f8c5\",\"type\":\"VBar\"},{\"attributes\":{\"plot\":{\"id\":\"e85adcc7-0ccb-40f4-8533-09fc863f2ed1\",\"subtype\":\"Figure\",\"type\":\"Plot\"},\"ticker\":{\"id\":\"0dd1ad04-ae27-424f-9f83-58d8c8987385\",\"type\":\"CategoricalTicker\"}},\"id\":\"987c64a3-c89a-4700-92a6-1c81286ee14a\",\"type\":\"Grid\"},{\"attributes\":{\"callback\":null},\"id\":\"6ab2a0f5-8ecc-48c2-b217-0d67bfc0a92d\",\"type\":\"Range1d\"}],\"root_ids\":[\"33d6a9c5-ea66-4c1b-ab3e-c208ec125b3b\"]},\"title\":\"Bokeh Application\",\"version\":\"0.12.2\"}};\n",
       "            var render_items = [{\"docid\":\"75f9ff81-ab3f-4271-ade0-fa669ca26a31\",\"elementid\":\"eb0f7356-924a-4bc6-ae71-341a3ec76ae3\",\"modelid\":\"33d6a9c5-ea66-4c1b-ab3e-c208ec125b3b\"}];\n",
       "            \n",
       "            Bokeh.embed.embed_items(docs_json, render_items);\n",
       "        });\n",
       "      },\n",
       "      function(Bokeh) {\n",
       "      }\n",
       "    ];\n",
       "  \n",
       "    function run_inline_js() {\n",
       "      \n",
       "      if ((window.Bokeh !== undefined) || (force === \"1\")) {\n",
       "        for (var i = 0; i < inline_js.length; i++) {\n",
       "          inline_js[i](window.Bokeh);\n",
       "        }if (force === \"1\") {\n",
       "          display_loaded();\n",
       "        }} else if (Date.now() < window._bokeh_timeout) {\n",
       "        setTimeout(run_inline_js, 100);\n",
       "      } else if (!window._bokeh_failed_load) {\n",
       "        console.log(\"Bokeh: BokehJS failed to load within specified timeout.\");\n",
       "        window._bokeh_failed_load = true;\n",
       "      } else if (!force) {\n",
       "        var cell = $(\"#eb0f7356-924a-4bc6-ae71-341a3ec76ae3\").parents('.cell').data().cell;\n",
       "        cell.output_area.append_execute_result(NB_LOAD_WARNING)\n",
       "      }\n",
       "  \n",
       "    }\n",
       "  \n",
       "    if (window._bokeh_is_loading === 0) {\n",
       "      console.log(\"Bokeh: BokehJS loaded, going straight to plotting\");\n",
       "      run_inline_js();\n",
       "    } else {\n",
       "      load_libs(js_urls, function() {\n",
       "        console.log(\"Bokeh: BokehJS plotting callback run at\", now());\n",
       "        run_inline_js();\n",
       "      });\n",
       "    }\n",
       "  }(this));\n",
       "</script>"
      ]
     },
     "metadata": {},
     "output_type": "display_data"
    }
   ],
   "source": [
    "curdoc().clear() #since running script in Jupyter and asking to run in html the sessions can duplicate since it's not on a server but in the test environment this script clears the cache clears the document and prevents the duplication error\n",
    "\n",
    "grid1 = gridplot([[p1,p2,p3]])\n",
    "grid2 = gridplot([[p4,p5,p6]])\n",
    "\n",
    "tab1=Panel(child=grid1,title='Downgrades, Including EIRF')\n",
    "tab2=Panel(child=grid2,title='Downgrades, Excluding EIRF')\n",
    "\n",
    "tabs = Tabs(tabs=[tab1,tab2])\n",
    "\n",
    "show(tabs)"
   ]
  },
  {
   "cell_type": "code",
   "execution_count": 184,
   "metadata": {},
   "outputs": [],
   "source": [
    "fruits = ['Apples', 'Pears', 'Nectarines', 'Plums', 'Grapes', 'Strawberries']\n",
    "years = [\"2015\", \"2016\", \"2017\"]\n",
    "exports = {'fruits' : fruits,\n",
    "           '2015'   : [2, 1, 4, 3, 2, 4],\n",
    "           '2016'   : [5, 3, 4, 2, 4, 6],\n",
    "           '2017'   : [3, 2, 4, 4, 5, 3]}"
   ]
  },
  {
   "cell_type": "code",
   "execution_count": 185,
   "metadata": {},
   "outputs": [
    {
     "data": {
      "text/plain": [
       "{'2015': [2, 1, 4, 3, 2, 4],\n",
       " '2016': [5, 3, 4, 2, 4, 6],\n",
       " '2017': [3, 2, 4, 4, 5, 3],\n",
       " 'fruits': ['Apples',\n",
       "  'Pears',\n",
       "  'Nectarines',\n",
       "  'Plums',\n",
       "  'Grapes',\n",
       "  'Strawberries']}"
      ]
     },
     "execution_count": 185,
     "metadata": {},
     "output_type": "execute_result"
    }
   ],
   "source": [
    "exports"
   ]
  },
  {
   "cell_type": "code",
   "execution_count": 361,
   "metadata": {},
   "outputs": [],
   "source": [
    "dates=['2017/07','2017/08','2017/12','2018/01','2018/02','2018/03','2018/04','2018/05','2018/06']\n",
    "avs_desc=['AVS Not Performed','Full AVS','Partial AVS','Neither ZIP nor address match','Unsupp/Inconc AVS','CVV Match']"
   ]
  },
  {
   "cell_type": "code",
   "execution_count": 394,
   "metadata": {},
   "outputs": [],
   "source": [
    "#a '2017/07';#b '2017/08';#c '2017/12'\n",
    "#d '2018/01';#e '2018/02';#f '2018/03'\n",
    "#g '2018/04';#h '2018/05';#i '2018/06'\n",
    "a=[];b=[];c=[];d=[];e=[];f=[];g=[];h=[];i=[]\n",
    "master_list=[a,b,c,d,e,f,g,h,i]"
   ]
  },
  {
   "cell_type": "code",
   "execution_count": 399,
   "metadata": {},
   "outputs": [],
   "source": [
    "for ml in range(0,len(master_list)):\n",
    "    master=master_list[ml]\n",
    "    date_selection=dates[ml]\n",
    "    for av in range(0,len(avs_desc)):\n",
    "        avs_selection=avs_desc[av]\n",
    "        try:\n",
    "            percentage=float(df['ORDERID'][(df['RECEIVEDDATE']==date_selection)&(df['DOWNGRADE']==1)&(df['AVSDESC']==avs_selection)].count())/float(df['ORDERID'][(df['RECEIVEDDATE']==date_selection)&(df['DOWNGRADE']==1)].count())\n",
    "        except ZeroDivisionError:\n",
    "            percentage=0\n",
    "        master.append(percentage)"
   ]
  },
  {
   "cell_type": "code",
   "execution_count": 405,
   "metadata": {},
   "outputs": [],
   "source": [
    "avs_participation={\n",
    "    'avs_desc':avs_desc,\n",
    "    '2017/07':a,\n",
    "    '2017/08':b,\n",
    "    '2017/12':c,\n",
    "    '2018/01':d,\n",
    "    '2018/02':e,\n",
    "    '2018/03':f,\n",
    "    '2018/04':g,\n",
    "    '2018/05':h,\n",
    "    '2018/06':i,\n",
    "}"
   ]
  },
  {
   "cell_type": "code",
   "execution_count": 411,
   "metadata": {},
   "outputs": [
    {
     "ename": "AttributeError",
     "evalue": "'Figure' object has no attribute 'hbar_stack'",
     "output_type": "error",
     "traceback": [
      "\u001b[0;31m\u001b[0m",
      "\u001b[0;31mAttributeError\u001b[0mTraceback (most recent call last)",
      "\u001b[0;32m<ipython-input-411-8f01bb71af6d>\u001b[0m in \u001b[0;36m<module>\u001b[0;34m()\u001b[0m\n\u001b[1;32m      1\u001b[0m \u001b[0mp\u001b[0m \u001b[1;33m=\u001b[0m \u001b[0mfigure\u001b[0m\u001b[1;33m(\u001b[0m\u001b[0my_range\u001b[0m\u001b[1;33m=\u001b[0m\u001b[0mdates\u001b[0m\u001b[1;33m,\u001b[0m \u001b[0mplot_height\u001b[0m\u001b[1;33m=\u001b[0m\u001b[1;36m350\u001b[0m\u001b[1;33m,\u001b[0m \u001b[0mx_range\u001b[0m\u001b[1;33m=\u001b[0m\u001b[1;33m(\u001b[0m\u001b[1;36m0\u001b[0m\u001b[1;33m,\u001b[0m \u001b[1;36m1\u001b[0m\u001b[1;33m)\u001b[0m\u001b[1;33m,\u001b[0m \u001b[0mtitle\u001b[0m\u001b[1;33m=\u001b[0m\u001b[1;34m\"Fruit import/export, by year\"\u001b[0m\u001b[1;33m,\u001b[0m\u001b[0mtoolbar_location\u001b[0m\u001b[1;33m=\u001b[0m\u001b[0mNone\u001b[0m\u001b[1;33m)\u001b[0m\u001b[1;33m\u001b[0m\u001b[0m\n\u001b[0;32m----> 2\u001b[0;31m \u001b[0mp\u001b[0m\u001b[1;33m.\u001b[0m\u001b[0mhbar_stack\u001b[0m\u001b[1;33m(\u001b[0m\u001b[0mdates\u001b[0m\u001b[1;33m,\u001b[0m \u001b[0my\u001b[0m\u001b[1;33m=\u001b[0m\u001b[1;34m'avs_desc'\u001b[0m\u001b[1;33m,\u001b[0m \u001b[0mheight\u001b[0m\u001b[1;33m=\u001b[0m\u001b[1;36m0.9\u001b[0m\u001b[1;33m,\u001b[0m \u001b[0mcolor\u001b[0m\u001b[1;33m=\u001b[0m\u001b[0mGnBu3\u001b[0m\u001b[1;33m,\u001b[0m \u001b[0msource\u001b[0m\u001b[1;33m=\u001b[0m\u001b[0mColumnDataSource\u001b[0m\u001b[1;33m(\u001b[0m\u001b[0mavs_participation\u001b[0m\u001b[1;33m)\u001b[0m\u001b[1;33m)\u001b[0m\u001b[1;33m\u001b[0m\u001b[0m\n\u001b[0m\u001b[1;32m      3\u001b[0m \u001b[1;33m\u001b[0m\u001b[0m\n\u001b[1;32m      4\u001b[0m \u001b[0mshow\u001b[0m\u001b[1;33m(\u001b[0m\u001b[0mp\u001b[0m\u001b[1;33m)\u001b[0m\u001b[1;33m\u001b[0m\u001b[0m\n",
      "\u001b[0;31mAttributeError\u001b[0m: 'Figure' object has no attribute 'hbar_stack'"
     ]
    }
   ],
   "source": [
    "p = figure(y_range=dates, plot_height=350, x_range=(0, 1), title=\"Fruit import/export, by year\",toolbar_location=None)\n",
    "p.hbar_stack(dates, y='avs_desc', height=0.9, color=GnBu3, source=ColumnDataSource(avs_participation))\n",
    "\n",
    "show(p)"
   ]
  },
  {
   "cell_type": "code",
   "execution_count": 412,
   "metadata": {},
   "outputs": [
    {
     "ename": "AttributeError",
     "evalue": "'Figure' object has no attribute 'hbar_stack'",
     "output_type": "error",
     "traceback": [
      "\u001b[0;31m\u001b[0m",
      "\u001b[0;31mAttributeError\u001b[0mTraceback (most recent call last)",
      "\u001b[0;32m<ipython-input-412-5d8c5921b519>\u001b[0m in \u001b[0;36m<module>\u001b[0;34m()\u001b[0m\n\u001b[1;32m     14\u001b[0m            toolbar_location=None)\n\u001b[1;32m     15\u001b[0m \u001b[1;33m\u001b[0m\u001b[0m\n\u001b[0;32m---> 16\u001b[0;31m p.hbar_stack(years, y='fruits', height=0.9, color=GnBu3, source=ColumnDataSource(exports),\n\u001b[0m\u001b[1;32m     17\u001b[0m              legend=[\"%s exports\" % x for x in years])\n\u001b[1;32m     18\u001b[0m \u001b[1;33m\u001b[0m\u001b[0m\n",
      "\u001b[0;31mAttributeError\u001b[0m: 'Figure' object has no attribute 'hbar_stack'"
     ]
    }
   ],
   "source": [
    "fruits = ['Apples', 'Pears', 'Nectarines', 'Plums', 'Grapes', 'Strawberries']\n",
    "years = [\"2015\", \"2016\", \"2017\"]\n",
    "\n",
    "exports = {'fruits' : fruits,\n",
    "           '2015'   : [2, 1, 4, 3, 2, 4],\n",
    "           '2016'   : [5, 3, 4, 2, 4, 6],\n",
    "           '2017'   : [3, 2, 4, 4, 5, 3]}\n",
    "imports = {'fruits' : fruits,\n",
    "           '2015'   : [-1, 0, -1, -3, -2, -1],\n",
    "           '2016'   : [-2, -1, -3, -1, -2, -2],\n",
    "           '2017'   : [-1, -2, -1, 0, -2, -2]}\n",
    "\n",
    "p = figure(y_range=fruits, plot_height=350, x_range=(-16, 16), title=\"Fruit import/export, by year\",\n",
    "           toolbar_location=None)\n",
    "\n",
    "p.hbar_stack(years, y='fruits', height=0.9, color=GnBu3, source=ColumnDataSource(exports),\n",
    "             legend=[\"%s exports\" % x for x in years])\n",
    "\n",
    "p.hbar_stack(years, y='fruits', height=0.9, color=OrRd3, source=ColumnDataSource(imports),\n",
    "             legend=[\"%s imports\" % x for x in years])\n",
    "\n",
    "p.y_range.range_padding = 0.1\n",
    "p.ygrid.grid_line_color = None\n",
    "p.legend.location = \"top_left\"\n",
    "p.axis.minor_tick_line_color = None\n",
    "p.outline_line_color = None\n",
    "\n",
    "show(p)"
   ]
  },
  {
   "cell_type": "markdown",
   "metadata": {},
   "source": [
    "## Lets Explore the IP Addresses"
   ]
  },
  {
   "cell_type": "code",
   "execution_count": 167,
   "metadata": {},
   "outputs": [
    {
     "name": "stdout",
     "output_type": "stream",
     "text": [
      "  ipaddressmerchant  ORDERID  DOWNGRADE  DOWNGRADE_PERC\n",
      "0       10.64.10.46        6        0.0        0.000000\n",
      "1       114.80.10.1       32        4.0        0.125000\n",
      "2    202.60.225.153    29636    10150.0        0.342489\n",
      "3     210.13.114.43    16445     5303.0        0.322469\n",
      "4    45.251.106.193     1111      328.0        0.295230\n"
     ]
    }
   ],
   "source": [
    "#EIRF Included\n",
    "#clean-up the data to ensure only IP addresses are being accounted\n",
    "ip=df[['ipaddressmerchant','ORDERID','DOWNGRADE']][(df['ipaddressmerchant']!='CREDIT')&(df['ipaddressmerchant']!='DEBIT')&(df['ipaddressmerchant']!='(null)')]\n",
    "#group the data together in a pivot format to do deeper analysis of the transactional data\n",
    "ip=ip.groupby(['ipaddressmerchant'],as_index=False).agg({'ORDERID':'count','DOWNGRADE':'sum'})\n",
    "ip['DOWNGRADE_PERC']=ip['DOWNGRADE']/ip['ORDERID']\n",
    "print ip.head()"
   ]
  },
  {
   "cell_type": "code",
   "execution_count": 166,
   "metadata": {},
   "outputs": [
    {
     "name": "stdout",
     "output_type": "stream",
     "text": [
      "  ipaddressmerchant  ORDERID  DOWNGRADE  DOWNGRADE_PERC\n",
      "0       10.64.10.46        3        0.0        0.000000\n",
      "1       114.80.10.1       30        2.0        0.066667\n",
      "2    202.60.225.153    21603     6775.0        0.313614\n",
      "3     210.13.114.43    13631     2833.0        0.207835\n",
      "4    45.251.106.193      951      169.0        0.177708\n"
     ]
    }
   ],
   "source": [
    "#EIRF Excluded\n",
    "#clean-up the data to ensure only IP addresses are being accounted\n",
    "ip=df[['ipaddressmerchant','ORDERID','DOWNGRADE']][(df['ipaddressmerchant']!='CREDIT')&(df['ipaddressmerchant']!='DEBIT')&(df['ipaddressmerchant']!='(null)')&(df['EIRF']==0)]\n",
    "#group the data together in a pivot format to do deeper analysis of the transactional data\n",
    "ip=ip.groupby(['ipaddressmerchant'],as_index=False).agg({'ORDERID':'count','DOWNGRADE':'sum'})\n",
    "ip['DOWNGRADE_PERC']=ip['DOWNGRADE']/ip['ORDERID']\n",
    "print ip.head()"
   ]
  },
  {
   "cell_type": "code",
   "execution_count": 182,
   "metadata": {},
   "outputs": [
    {
     "name": "stdout",
     "output_type": "stream",
     "text": [
      "  ipaddressmerchant RECEIVEDDATE  ORDERID  DOWNGRADE  DOWNGRADE_PERC\n",
      "0       10.64.10.46      2017/07        3        0.0        0.000000\n",
      "1       114.80.10.1      2018/03       30        2.0        0.066667\n",
      "2    202.60.225.153      2017/07      274       58.0        0.211679\n",
      "3    202.60.225.153      2017/08     1251      218.0        0.174261\n",
      "4    202.60.225.153      2017/12     4216      432.0        0.102467\n"
     ]
    }
   ],
   "source": [
    "#EIRF Excluded\n",
    "#clean-up the data to ensure only IP addresses are being accounted\n",
    "ip=df[['ipaddressmerchant','RECEIVEDDATE','ORDERID','DOWNGRADE']][(df['ipaddressmerchant']!='CREDIT')&(df['ipaddressmerchant']!='DEBIT')&(df['ipaddressmerchant']!='(null)')&(df['EIRF']==0)]\n",
    "#group the data together in a pivot format to do deeper analysis of the transactional data\n",
    "ip=ip.groupby(['ipaddressmerchant','RECEIVEDDATE'],as_index=False).agg({'ORDERID':'count','DOWNGRADE':'sum'})\n",
    "ip['DOWNGRADE_PERC']=ip['DOWNGRADE']/ip['ORDERID']\n",
    "print ip.head()"
   ]
  },
  {
   "cell_type": "code",
   "execution_count": 25,
   "metadata": {
    "collapsed": true
   },
   "outputs": [],
   "source": [
    "#we need to ask ourselves how much of this is skyscanner?"
   ]
  },
  {
   "cell_type": "code",
   "execution_count": 26,
   "metadata": {
    "collapsed": true
   },
   "outputs": [],
   "source": [
    "#lets have a look at the skyscanner breakdown by IP"
   ]
  },
  {
   "cell_type": "code",
   "execution_count": 27,
   "metadata": {},
   "outputs": [],
   "source": [
    "df.to_csv('d:\\\\djohnson\\\\Desktop\\\\ctrip_output.txt',sep=';')"
   ]
  }
 ],
 "metadata": {
  "anaconda-cloud": {},
  "kernelspec": {
   "display_name": "Python 2",
   "language": "python",
   "name": "python2"
  },
  "language_info": {
   "codemirror_mode": {
    "name": "ipython",
    "version": 2
   },
   "file_extension": ".py",
   "mimetype": "text/x-python",
   "name": "python",
   "nbconvert_exporter": "python",
   "pygments_lexer": "ipython2",
   "version": "2.7.12"
  }
 },
 "nbformat": 4,
 "nbformat_minor": 1
}
