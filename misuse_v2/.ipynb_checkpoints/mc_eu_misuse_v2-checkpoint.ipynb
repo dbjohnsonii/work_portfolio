{
 "cells": [
  {
   "cell_type": "code",
   "execution_count": 1,
   "metadata": {
    "slideshow": {
     "slide_type": "notes"
    }
   },
   "outputs": [
    {
     "data": {
      "text/html": [
       "<style>.container { width:95% !important; }</style>"
      ],
      "text/plain": [
       "<IPython.core.display.HTML object>"
      ]
     },
     "metadata": {},
     "output_type": "display_data"
    },
    {
     "name": "stdout",
     "output_type": "stream",
     "text": [
      "2.7.12 |Anaconda 4.2.0 (64-bit)| (default, Jun 29 2016, 11:07:13) [MSC v.1500 64 bit (AMD64)]\n"
     ]
    }
   ],
   "source": [
    "#widen the screen and how me the system details\n",
    "from IPython.core.display import display, HTML\n",
    "display(HTML(\"<style>.container { width:95% !important; }</style>\"))\n",
    "import sys\n",
    "print (sys.version)"
   ]
  },
  {
   "cell_type": "code",
   "execution_count": 2,
   "metadata": {},
   "outputs": [
    {
     "name": "stdout",
     "output_type": "stream",
     "text": [
      "12.1.0.2.0\n"
     ]
    }
   ],
   "source": [
    "import cx_Oracle #import the oracle database libraries\n",
    "con=cx_Oracle.connect('djohnson','Kirky2016!','ODSPEU1.ams') #enter database details\n",
    "print con.version # prnt the conversion details"
   ]
  },
  {
   "cell_type": "code",
   "execution_count": 3,
   "metadata": {},
   "outputs": [],
   "source": [
    "import pandas as pd #CONNECT TO THE PANDAS LIBRARY\n",
    "import numpy as np #IMPORT NUMPY"
   ]
  },
  {
   "cell_type": "code",
   "execution_count": 4,
   "metadata": {},
   "outputs": [],
   "source": [
    "#setup the dating details\n",
    "import datetime\n",
    "now = datetime.datetime.now()\n",
    "#day=\"%s/%s\" % (now.month-1,now.year)\n",
    "#day_save=\"%s_%s\" % (now.month-1,now.year)\n",
    "#year=now.year\n",
    "#month=now.month\n",
    "\n",
    "#day=day\n",
    "#print day\n",
    "\n",
    "#day_save=day_save\n",
    "#print day_save\n",
    "\n",
    "#month=month-1\n",
    "#print month\n",
    "month=6\n",
    "day=201806"
   ]
  },
  {
   "cell_type": "code",
   "execution_count": 5,
   "metadata": {},
   "outputs": [],
   "source": [
    "#run the visa query\n",
    "vi=pd.read_sql(\n",
    "'''\n",
    "SELECT \n",
    "extract(month from CAST(pa.statusdate AS DATE))\n",
    ",extract(year from CAST(pa.statusdate AS DATE))\n",
    ",pa.orderid\n",
    ",pa.merchantid\n",
    ",mm.merchantname\n",
    ",pa.amount\n",
    ",pa.currencycode\n",
    ",pa.statusid\n",
    ",pa.paymentproductid\n",
    ",pa.paymentmethodid\n",
    ",co.paymentprocessor\n",
    ",co.creditcardcompany\n",
    ",co.countrycode\n",
    ",co.IIN\n",
    ",invoice_currency\n",
    ",serviceaccountname\n",
    ",cc.icplus_type\n",
    ",interchange_region\n",
    "FROM eps.opr_paymentattempt pa\n",
    "LEFT JOIN eps.pco_creditcardonline co\n",
    "ON pa.MERCHANTID=co.MERCHANTID\n",
    "AND pa.ORDERID=co.ORDERID\n",
    "AND pa.ATTEMPTID=CO.ATTEMPTID\n",
    "AND pa.statusdate=co.authorisationdatetime\n",
    "AND pa.amount=co.amount\n",
    "LEFT JOIN eps.mrm_merchant mm\n",
    "ON pa.MERCHANTID=mm.MERCHANTID\n",
    "LEFT JOIN FDWO.MB_PAYMENTPROCESSOR pp\n",
    "ON co.PAYMENTPROCESSOR=pp.paymentprocessor_id\n",
    "LEFT JOIN \n",
    "(SELECT paymentprocessornumber,\n",
    "        CASE WHEN SERVICEACCOUNTNAME LIKE '%AIB%' then 'AIB'\n",
    "        WHEN SERVICEACCOUNTNAME LIKE '%Barclays%' then 'Barclays'\n",
    "        WHEN SERVICEACCOUNTNAME LIKE '%Euroline%' then 'Bambora'\n",
    "        WHEN SERVICEACCOUNTNAME LIKE '%EuroConex%' then 'Elavon'\n",
    "        ELSE SERVICEACCOUNTNAME\n",
    "        END AS \"SERVICEACCOUNTNAME\" \n",
    "FROM EPS.GPM_SERVICEACCOUNT\n",
    "group by paymentprocessornumber,SERVICEACCOUNTNAME)sa\n",
    "ON CO.PAYMENTPROCESSOR=SA.PAYMENTPROCESSORNUMBER\n",
    "LEFT JOIN \n",
    "(SELECT \n",
    "    contract_id,payment_processor_nr,transaction_currency,bin,icplus_type,invoice_currency\n",
    "    FROM fdwo.cc_processing_data_pt\n",
    "    WHERE MATCH_DATE BETWEEN TO_DATE('6/1/2018','MM/DD/YYYY') AND TO_DATE('6/30/2018','MM/DD/YYYY')\n",
    "    AND TRANSACTION_TYPE='TRANSACTION'\n",
    "    AND INVOICE_CURRENCY IS NOT NULL\n",
    "    AND TRADING_REVENUE IS NOT NULL\n",
    "    group by contract_id,payment_processor_nr,transaction_currency,icplus_type,bin,invoice_currency) cc\n",
    "ON CO.PAYMENTPROCESSOR=cc.payment_processor_nr\n",
    "AND pa.CONTRACTID=cc.contract_id\n",
    "AND pa.currencycode=cc.transaction_currency\n",
    "AND co.IIN=cc.BIN\n",
    "WHERE pa.statusdate BETWEEN TO_DATE('6/1/2018','MM/DD/YYYY') AND TO_DATE('6/30/2018','MM/DD/YYYY')\n",
    "AND pa.statusid in (525,600)\n",
    "and paymentproductid=3\n",
    "and pp.interchange_region IN('Europe','EMEA')\n",
    "and icplus_type IS NOT NULL -- DO NOT INCLUDE ANY INFORMATION WHERE AN IC PLUS TYPE COULD NOT BE LOCATED\n",
    "group by\n",
    "statusdate ,pa.orderid,pa.merchantid,mm.merchantname,pa.amount,pa.currencycode\n",
    ",pa.statusid,pa.paymentproductid,pa.paymentmethodid,co.paymentprocessor,co.IIN,invoice_currency\n",
    ",serviceaccountname,co.creditcardcompany,co.countrycode,serviceaccountname,cc.icplus_type,interchange_region\n",
    "''', con)"
   ]
  },
  {
   "cell_type": "code",
   "execution_count": 6,
   "metadata": {},
   "outputs": [],
   "source": [
    "#update the column names\n",
    "vi=vi.rename(columns={'EXTRACT(MONTHFROMCAST(PA.STATUSDATEASDATE))':'STAUSMONTH'\n",
    "                        ,'EXTRACT(YEARFROMCAST(PA.STATUSDATEASDATE))':'STATUSYEAR'\n",
    "                        ,'ORDERID':'ORDERID','MERCHANTID':'CONTRACT_ID'\n",
    "                        ,'MERCHANTNAME':'CLIENT_NAME'\n",
    "                        ,'AMOUNT':'REQUESTAUTHORIZEDAMOUNT'\n",
    "                        ,'CURRENCYCODE':'CURRENCYCODE'\n",
    "                        ,'STATUSID':'CURRENT_PAYMENTSTATUSID_UPDATED'\n",
    "                        ,'PAYMENTPRODUCTID':'PAYMENTPRODUCTID'\n",
    "                        ,'PAYMENTMETHODID':'PAYMENTMETHODID'\n",
    "                        ,'PAYMENTPROCESSOR':'PAYMENTPROCESSORNUMBER'\n",
    "                        ,'CREDITCARDCOMPANY':'CREDITCARDCOMPANY'\n",
    "                        ,'COUNTRYCODE':'COUNTRYCODE'\n",
    "                        ,'IIN':'BIN'\n",
    "                        ,'INVOICE_CURRENCY':'INVOICE_CURRENCY'\n",
    "                        ,'SERVICEACCOUNTNAME':'SERVICEPROVIDERGROUPNAME'\n",
    "                        ,'ICPLUS_TYPE':'ICPLUS_TYPE'\n",
    "                        ,'INTERCHANGE_REGION':'GEOGRAPHICAL_AREA_LOCAL_ACQUIRER_DESC'})"
   ]
  },
  {
   "cell_type": "code",
   "execution_count": 50,
   "metadata": {},
   "outputs": [],
   "source": [
    "curr=pd.read_sql(\n",
    "''' \n",
    "SELECT\n",
    "ROUND(AVG(AVERAGE_RATE_USD),3)\n",
    ",ROUND(AVG(AVERAGE_RATE_EUR),3)\n",
    ",CURRENCY\n",
    ",extract(year from CAST(DAY AS DATE)) \n",
    ",extract(month from CAST(DAY AS DATE)) \n",
    "FROM fdwo.mb_exchange_rates\n",
    "WHERE DAY BETWEEN TO_DATE('1-6-2018','DD-MM-YYYY') AND TO_DATE('30-6-2018','DD-MM-YYYY')\n",
    "GROUP BY CURRENCY,extract(year from CAST(DAY AS DATE)),extract(month from CAST(DAY AS DATE))\n",
    "''', con)"
   ]
  },
  {
   "cell_type": "code",
   "execution_count": 51,
   "metadata": {},
   "outputs": [],
   "source": [
    "curr=curr.rename(columns={'ROUND(AVG(AVERAGE_RATE_USD),3)':'us_conversion'\n",
    "                        ,'ROUND(AVG(AVERAGE_RATE_EUR),3)':'eu_conversion'\n",
    "                        ,'CURRENCY':'CURRENCYCODE'\n",
    "                        ,'EXTRACT(YEARFROMCAST(DAYASDATE))':'STATUSYEAR'\n",
    "                        ,'EXTRACT(MONTHFROMCAST(DAYASDATE))':'MONTH'})"
   ]
  },
  {
   "cell_type": "raw",
   "metadata": {},
   "source": [
    "#vi.head()"
   ]
  },
  {
   "cell_type": "code",
   "execution_count": 104,
   "metadata": {},
   "outputs": [],
   "source": [
    "#curr.head()"
   ]
  },
  {
   "cell_type": "code",
   "execution_count": 53,
   "metadata": {
    "scrolled": true
   },
   "outputs": [],
   "source": [
    "#import the supporting details\n",
    "conver=pd.read_csv('G:\\\\Pricing\\\\Pricing Intelligence\\\\Projects\\\\IC_Opt_project\\\\pi_implementation\\\\currency_conversion\\\\monthly\\\\currency_monthly_data.csv')\n",
    "excep=pd.read_csv('G:\\\\Pricing\\\\Pricing Intelligence\\\\Projects\\\\IC_Opt_project\\\\pi_implementation\\\\misuse_of_authorization_fee\\\\reference_tables\\\\mu_exceptions_tbl.csv')\n",
    "\n",
    "prd_ref_tbl=pd.read_csv('G:\\\\Pricing\\\\Pricing Intelligence\\\\Projects\\\\IC_Opt_project\\\\pi_implementation\\\\misuse_of_authorization_fee\\\\reference_tables\\\\mc_product_ref_tbl.csv')\n",
    "prd_ref_tbl=prd_ref_tbl[['CREDITDEBITINDICATOR','CURRENCYCODE','PRODUCT_CODE']]\n",
    "\n",
    "#vi=pd.read_csv('d:\\\\djohnson\\\\Desktop\\\\misuse\\\\2018\\\\may\\\\data_files\\\\mc_euro_misuse.txt',sep=';',names=acq_col_names,skiprows=66)\n",
    "#con=pd.read_csv('d:\\\\djohnson\\\\Desktop\\\\misuse\\\\2018\\\\may\\\\currency_conversion\\\\monthly_currency_average.txt',sep=';',names=curr_col_names,skiprows=9)"
   ]
  },
  {
   "cell_type": "code",
   "execution_count": 54,
   "metadata": {},
   "outputs": [],
   "source": [
    "conver=conver.drop('Unnamed: 0',axis=1)"
   ]
  },
  {
   "cell_type": "code",
   "execution_count": 55,
   "metadata": {},
   "outputs": [],
   "source": [
    "#remove the last column from the text file\n",
    "#con=con[:(len(con)-1)]\n",
    "curr['us_conversion']=curr['us_conversion'].astype(float)"
   ]
  },
  {
   "cell_type": "raw",
   "metadata": {},
   "source": [
    "#con.info()"
   ]
  },
  {
   "cell_type": "code",
   "execution_count": 56,
   "metadata": {},
   "outputs": [],
   "source": [
    "curr['STATUSMONTH']=6\n",
    "vi['STATUSMONTH']=6"
   ]
  },
  {
   "cell_type": "code",
   "execution_count": 57,
   "metadata": {},
   "outputs": [],
   "source": [
    "vi['CURRENCYCODE']=vi['CURRENCYCODE'].str.strip()\n",
    "vi['ICPLUS_TYPE']=vi['ICPLUS_TYPE'].str.strip()\n",
    "curr['CURRENCYCODE']=curr['CURRENCYCODE'].str.strip()"
   ]
  },
  {
   "cell_type": "code",
   "execution_count": 58,
   "metadata": {},
   "outputs": [],
   "source": [
    "for x in range(0,len(vi.ICPLUS_TYPE)):\n",
    "    if vi.ICPLUS_TYPE[x]=='Blended':\n",
    "        vi.ICPLUS_TYPE='-'"
   ]
  },
  {
   "cell_type": "code",
   "execution_count": 59,
   "metadata": {},
   "outputs": [],
   "source": [
    "vi_mu_working_data=vi #Create a working reference of the misuse of information"
   ]
  },
  {
   "cell_type": "code",
   "execution_count": 60,
   "metadata": {},
   "outputs": [],
   "source": [
    "vi_mu_working_data.rename(columns={'GEOGRAPHICAL_AREA_LOCAL_ACQUIRER_DESC,': 'GEOGRAPHICAL_AREA_LOCAL_ACQUIRER_DESC'}, inplace=True)#Update the name to USD conversion factor\n",
    "vi_mu_working_data['CREDITDEBITINDICATOR']='C'"
   ]
  },
  {
   "cell_type": "code",
   "execution_count": 105,
   "metadata": {},
   "outputs": [],
   "source": [
    "vi_mu_working_data['REQUESTAUTHORIZEDAMOUNT']=vi_mu_working_data['REQUESTAUTHORIZEDAMOUNT']/100.0"
   ]
  },
  {
   "cell_type": "raw",
   "metadata": {},
   "source": [
    "#vi_mu_working_data.head()"
   ]
  },
  {
   "cell_type": "code",
   "execution_count": 62,
   "metadata": {},
   "outputs": [],
   "source": [
    "vi_mu_working_data=pd.merge(vi_mu_working_data,curr,on=['CURRENCYCODE','STATUSMONTH','STATUSYEAR'],how='left')"
   ]
  },
  {
   "cell_type": "raw",
   "metadata": {},
   "source": [
    "#vi_mu_working_data.info()"
   ]
  },
  {
   "cell_type": "code",
   "execution_count": 63,
   "metadata": {},
   "outputs": [],
   "source": [
    "vi_mu_working_data['REQUESTAUTHORIZEDAMOUNT']=vi_mu_working_data['REQUESTAUTHORIZEDAMOUNT']/vi_mu_working_data['eu_conversion']"
   ]
  },
  {
   "cell_type": "raw",
   "metadata": {},
   "source": [
    "#vi_mu_working_data.info()"
   ]
  },
  {
   "cell_type": "raw",
   "metadata": {},
   "source": [
    "#vi_mu_working_data.head()"
   ]
  },
  {
   "cell_type": "code",
   "execution_count": 64,
   "metadata": {},
   "outputs": [],
   "source": [
    "vi_mu_working_data['0.25%_P/T']=vi_mu_working_data['REQUESTAUTHORIZEDAMOUNT']*.0025\n",
    "vi_mu_working_data['0.03_P/T']=1*0.03\n",
    "vi_mu_working_data['PROCESS_INTEGRITY_FEE']=vi_mu_working_data[['0.25%_P/T','0.03_P/T']].max(axis=1) # Select the max across two columns"
   ]
  },
  {
   "cell_type": "raw",
   "metadata": {},
   "source": [
    "#vi_mu_working_data.head()"
   ]
  },
  {
   "cell_type": "code",
   "execution_count": 65,
   "metadata": {
    "scrolled": true
   },
   "outputs": [],
   "source": [
    "vi_mu_working_data=vi_mu_working_data[['STATUSMONTH','STATUSYEAR','CLIENT_NAME','CONTRACT_ID','SERVICEPROVIDERGROUPNAME'\n",
    "                                       ,'GEOGRAPHICAL_AREA_LOCAL_ACQUIRER_DESC','ORDERID','CREDITDEBITINDICATOR','CURRENCYCODE'\n",
    "                                       ,'REQUESTAUTHORIZEDAMOUNT','INVOICE_CURRENCY','ICPLUS_TYPE','PROCESS_INTEGRITY_FEE']]"
   ]
  },
  {
   "cell_type": "code",
   "execution_count": 66,
   "metadata": {},
   "outputs": [],
   "source": [
    "vi_mu_working_data=pd.merge(vi_mu_working_data,prd_ref_tbl,on=['CURRENCYCODE','CREDITDEBITINDICATOR'],how='left')"
   ]
  },
  {
   "cell_type": "code",
   "execution_count": 67,
   "metadata": {},
   "outputs": [],
   "source": [
    "vi_mu_working_data=pd.merge(vi_mu_working_data,excep,on=['CONTRACT_ID'],how='left')"
   ]
  },
  {
   "cell_type": "code",
   "execution_count": 68,
   "metadata": {},
   "outputs": [],
   "source": [
    "for x in range(0,len(vi_mu_working_data.CONTRACT_ID)):\n",
    "    if vi_mu_working_data['CONTRACT_ID'][x]==7162:\n",
    "        vi_mu_working_data['ICPLUS_TYPE'][x]=\"-\"\n",
    "\n",
    "for x in range(0,len(vi_mu_working_data.INVOICE_CURRENCY[x])):\n",
    "    if vi_mu_working_data.CONTRACT_ID[x]==7162:\n",
    "        vi_mu_working_data.INVOICE_CURRENCY='USD'\n",
    "        \n",
    "#vi_mu_working_data['INVOICE_CURRENCY'][(vi_mu_working_data['CONTRACT_ID']==7162)]=\"USD\""
   ]
  },
  {
   "cell_type": "raw",
   "metadata": {},
   "source": [
    "#vi_mu_working_data.head()"
   ]
  },
  {
   "cell_type": "code",
   "execution_count": 69,
   "metadata": {},
   "outputs": [],
   "source": [
    "vi_mu_working_data=pd.merge(vi_mu_working_data,curr,on=['CURRENCYCODE'],how='left')\n",
    "vi_mu_working_data.rename(columns={'EUR_CONVERSION_RATE': 'USD_CONVERSION_FACTOR'}, inplace=True)#Update the name to USD conversion factor"
   ]
  },
  {
   "cell_type": "code",
   "execution_count": 70,
   "metadata": {},
   "outputs": [],
   "source": [
    "curr_invoice=conver\n",
    "curr_invoice.rename(columns={'CURRENCYCODE': 'INVOICE_CURRENCY'}, inplace=True)"
   ]
  },
  {
   "cell_type": "code",
   "execution_count": 71,
   "metadata": {},
   "outputs": [],
   "source": [
    "vi_mu_working_data=pd.merge(vi_mu_working_data,curr_invoice,on=['INVOICE_CURRENCY'],how='left')\n",
    "vi_mu_working_data['INVOICE_CONVERSION_FACTOR']=vi_mu_working_data['EUR_CONVERSION_RATE']"
   ]
  },
  {
   "cell_type": "code",
   "execution_count": 72,
   "metadata": {},
   "outputs": [],
   "source": [
    "vi_mu_working_data['CURRENCY_ADJUSTED_INVOICE_AMOUNT']=vi_mu_working_data['PROCESS_INTEGRITY_FEE']/vi_mu_working_data['INVOICE_CONVERSION_FACTOR']"
   ]
  },
  {
   "cell_type": "code",
   "execution_count": 73,
   "metadata": {},
   "outputs": [
    {
     "name": "stderr",
     "output_type": "stream",
     "text": [
      "C:\\Users\\djohnson\\AppData\\Local\\Continuum\\Anaconda2\\lib\\site-packages\\ipykernel\\__main__.py:1: SettingWithCopyWarning: \n",
      "A value is trying to be set on a copy of a slice from a DataFrame\n",
      "\n",
      "See the caveats in the documentation: http://pandas.pydata.org/pandas-docs/stable/indexing.html#indexing-view-versus-copy\n",
      "  if __name__ == '__main__':\n"
     ]
    }
   ],
   "source": [
    "vi_mu_working_data['INVOICE_CURRENCY'][(vi_mu_working_data['INVOICE_CURRENCY'].isnull())&(vi_mu_working_data['CURRENCYCODE']=='CAD')]='USD'"
   ]
  },
  {
   "cell_type": "code",
   "execution_count": 76,
   "metadata": {},
   "outputs": [
    {
     "name": "stderr",
     "output_type": "stream",
     "text": [
      "C:\\Users\\djohnson\\AppData\\Local\\Continuum\\Anaconda2\\lib\\site-packages\\ipykernel\\__main__.py:5: SettingWithCopyWarning: \n",
      "A value is trying to be set on a copy of a slice from a DataFrame\n",
      "\n",
      "See the caveats in the documentation: http://pandas.pydata.org/pandas-docs/stable/indexing.html#indexing-view-versus-copy\n",
      "C:\\Users\\djohnson\\AppData\\Local\\Continuum\\Anaconda2\\lib\\site-packages\\ipykernel\\__main__.py:6: SettingWithCopyWarning: \n",
      "A value is trying to be set on a copy of a slice from a DataFrame\n",
      "\n",
      "See the caveats in the documentation: http://pandas.pydata.org/pandas-docs/stable/indexing.html#indexing-view-versus-copy\n"
     ]
    }
   ],
   "source": [
    "conver[(conver['INVOICE_CURRENCY']=='EUR')]\n",
    "\n",
    "usd=conver[:].iloc[4]['EUR_CONVERSION_RATE']#Establish the European Conversion Amount\n",
    "vi_mu_working_data['EUR_TOTAL']=0\n",
    "vi_mu_working_data['EUR_TOTAL'][(vi_mu_working_data['INVOICE_CURRENCY']!=\"EUR\")]=vi_mu_working_data['CURRENCY_ADJUSTED_INVOICE_AMOUNT']/usd\n",
    "vi_mu_working_data['EUR_TOTAL'][(vi_mu_working_data['INVOICE_CURRENCY']==\"EUR\")]=vi_mu_working_data['CURRENCY_ADJUSTED_INVOICE_AMOUNT']"
   ]
  },
  {
   "cell_type": "code",
   "execution_count": 77,
   "metadata": {},
   "outputs": [
    {
     "name": "stderr",
     "output_type": "stream",
     "text": [
      "C:\\Users\\djohnson\\AppData\\Local\\Continuum\\Anaconda2\\lib\\site-packages\\ipykernel\\__main__.py:4: SettingWithCopyWarning: \n",
      "A value is trying to be set on a copy of a slice from a DataFrame\n",
      "\n",
      "See the caveats in the documentation: http://pandas.pydata.org/pandas-docs/stable/indexing.html#indexing-view-versus-copy\n",
      "C:\\Users\\djohnson\\AppData\\Local\\Continuum\\Anaconda2\\lib\\site-packages\\ipykernel\\__main__.py:5: SettingWithCopyWarning: \n",
      "A value is trying to be set on a copy of a slice from a DataFrame\n",
      "\n",
      "See the caveats in the documentation: http://pandas.pydata.org/pandas-docs/stable/indexing.html#indexing-view-versus-copy\n",
      "C:\\Users\\djohnson\\AppData\\Local\\Continuum\\Anaconda2\\lib\\site-packages\\ipykernel\\__main__.py:8: SettingWithCopyWarning: \n",
      "A value is trying to be set on a copy of a slice from a DataFrame\n",
      "\n",
      "See the caveats in the documentation: http://pandas.pydata.org/pandas-docs/stable/indexing.html#indexing-view-versus-copy\n",
      "C:\\Users\\djohnson\\AppData\\Local\\Continuum\\Anaconda2\\lib\\site-packages\\ipykernel\\__main__.py:9: SettingWithCopyWarning: \n",
      "A value is trying to be set on a copy of a slice from a DataFrame\n",
      "\n",
      "See the caveats in the documentation: http://pandas.pydata.org/pandas-docs/stable/indexing.html#indexing-view-versus-copy\n"
     ]
    }
   ],
   "source": [
    "vi_mu_working_data['Product Description']='Penalty Fees'\n",
    "\n",
    "vi_mu_working_data['Current % Tariff']=0\n",
    "vi_mu_working_data['Current % Tariff'][(vi_mu_working_data['EXCEPTION']=='YES')]=1\n",
    "vi_mu_working_data['Current % Tariff'][(vi_mu_working_data['EXCEPTION']!='YES')]=1.10\n",
    "\n",
    "vi_mu_working_data['Description']=''\n",
    "vi_mu_working_data['Description'][(vi_mu_working_data['EXCEPTION']=='YES')]='Fee 100.00% or as currently in IST ='\n",
    "vi_mu_working_data['Description'][(vi_mu_working_data['EXCEPTION']!='YES')]='Fee 110.00% or as currently in IST ='\n",
    "\n",
    "vi_mu_working_data['Product Code']=420129"
   ]
  },
  {
   "cell_type": "raw",
   "metadata": {},
   "source": [
    "#vi_mu_working_data.info()"
   ]
  },
  {
   "cell_type": "code",
   "execution_count": 86,
   "metadata": {},
   "outputs": [],
   "source": [
    "vi_mu_working_data['Total Euros Collected (including current tariff)']=vi_mu_working_data['EUR_TOTAL']*vi_mu_working_data['Current % Tariff']\n",
    "vi_mu_working_data['Invoice Amount (including tariff)']=vi_mu_working_data['CURRENCY_ADJUSTED_INVOICE_AMOUNT']*vi_mu_working_data['Current % Tariff']"
   ]
  },
  {
   "cell_type": "code",
   "execution_count": 87,
   "metadata": {},
   "outputs": [
    {
     "ename": "ValueError",
     "evalue": "labels ['STATUSMONTH_y' 'STATUSYEAR_y'] not contained in axis",
     "output_type": "error",
     "traceback": [
      "\u001b[1;31m\u001b[0m",
      "\u001b[1;31mValueError\u001b[0mTraceback (most recent call last)",
      "\u001b[1;32m<ipython-input-87-8334877b2374>\u001b[0m in \u001b[0;36m<module>\u001b[1;34m()\u001b[0m\n\u001b[1;32m----> 1\u001b[1;33m \u001b[0mvi_mu_working_data\u001b[0m\u001b[1;33m=\u001b[0m\u001b[0mvi_mu_working_data\u001b[0m\u001b[1;33m.\u001b[0m\u001b[0mdrop\u001b[0m\u001b[1;33m(\u001b[0m\u001b[1;33m[\u001b[0m\u001b[1;34m'STATUSMONTH_y'\u001b[0m\u001b[1;33m,\u001b[0m\u001b[1;34m'STATUSYEAR_y'\u001b[0m\u001b[1;33m]\u001b[0m\u001b[1;33m,\u001b[0m\u001b[0maxis\u001b[0m\u001b[1;33m=\u001b[0m\u001b[1;36m1\u001b[0m\u001b[1;33m)\u001b[0m\u001b[1;33m\u001b[0m\u001b[0m\n\u001b[0m",
      "\u001b[1;32mC:\\Users\\djohnson\\AppData\\Local\\Continuum\\Anaconda2\\lib\\site-packages\\pandas\\core\\generic.pyc\u001b[0m in \u001b[0;36mdrop\u001b[1;34m(self, labels, axis, level, inplace, errors)\u001b[0m\n\u001b[0;32m   1875\u001b[0m                 \u001b[0mnew_axis\u001b[0m \u001b[1;33m=\u001b[0m \u001b[0maxis\u001b[0m\u001b[1;33m.\u001b[0m\u001b[0mdrop\u001b[0m\u001b[1;33m(\u001b[0m\u001b[0mlabels\u001b[0m\u001b[1;33m,\u001b[0m \u001b[0mlevel\u001b[0m\u001b[1;33m=\u001b[0m\u001b[0mlevel\u001b[0m\u001b[1;33m,\u001b[0m \u001b[0merrors\u001b[0m\u001b[1;33m=\u001b[0m\u001b[0merrors\u001b[0m\u001b[1;33m)\u001b[0m\u001b[1;33m\u001b[0m\u001b[0m\n\u001b[0;32m   1876\u001b[0m             \u001b[1;32melse\u001b[0m\u001b[1;33m:\u001b[0m\u001b[1;33m\u001b[0m\u001b[0m\n\u001b[1;32m-> 1877\u001b[1;33m                 \u001b[0mnew_axis\u001b[0m \u001b[1;33m=\u001b[0m \u001b[0maxis\u001b[0m\u001b[1;33m.\u001b[0m\u001b[0mdrop\u001b[0m\u001b[1;33m(\u001b[0m\u001b[0mlabels\u001b[0m\u001b[1;33m,\u001b[0m \u001b[0merrors\u001b[0m\u001b[1;33m=\u001b[0m\u001b[0merrors\u001b[0m\u001b[1;33m)\u001b[0m\u001b[1;33m\u001b[0m\u001b[0m\n\u001b[0m\u001b[0;32m   1878\u001b[0m             \u001b[0mdropped\u001b[0m \u001b[1;33m=\u001b[0m \u001b[0mself\u001b[0m\u001b[1;33m.\u001b[0m\u001b[0mreindex\u001b[0m\u001b[1;33m(\u001b[0m\u001b[1;33m**\u001b[0m\u001b[1;33m{\u001b[0m\u001b[0maxis_name\u001b[0m\u001b[1;33m:\u001b[0m \u001b[0mnew_axis\u001b[0m\u001b[1;33m}\u001b[0m\u001b[1;33m)\u001b[0m\u001b[1;33m\u001b[0m\u001b[0m\n\u001b[0;32m   1879\u001b[0m             \u001b[1;32mtry\u001b[0m\u001b[1;33m:\u001b[0m\u001b[1;33m\u001b[0m\u001b[0m\n",
      "\u001b[1;32mC:\\Users\\djohnson\\AppData\\Local\\Continuum\\Anaconda2\\lib\\site-packages\\pandas\\indexes\\base.pyc\u001b[0m in \u001b[0;36mdrop\u001b[1;34m(self, labels, errors)\u001b[0m\n\u001b[0;32m   3049\u001b[0m             \u001b[1;32mif\u001b[0m \u001b[0merrors\u001b[0m \u001b[1;33m!=\u001b[0m \u001b[1;34m'ignore'\u001b[0m\u001b[1;33m:\u001b[0m\u001b[1;33m\u001b[0m\u001b[0m\n\u001b[0;32m   3050\u001b[0m                 raise ValueError('labels %s not contained in axis' %\n\u001b[1;32m-> 3051\u001b[1;33m                                  labels[mask])\n\u001b[0m\u001b[0;32m   3052\u001b[0m             \u001b[0mindexer\u001b[0m \u001b[1;33m=\u001b[0m \u001b[0mindexer\u001b[0m\u001b[1;33m[\u001b[0m\u001b[1;33m~\u001b[0m\u001b[0mmask\u001b[0m\u001b[1;33m]\u001b[0m\u001b[1;33m\u001b[0m\u001b[0m\n\u001b[0;32m   3053\u001b[0m         \u001b[1;32mreturn\u001b[0m \u001b[0mself\u001b[0m\u001b[1;33m.\u001b[0m\u001b[0mdelete\u001b[0m\u001b[1;33m(\u001b[0m\u001b[0mindexer\u001b[0m\u001b[1;33m)\u001b[0m\u001b[1;33m\u001b[0m\u001b[0m\n",
      "\u001b[1;31mValueError\u001b[0m: labels ['STATUSMONTH_y' 'STATUSYEAR_y'] not contained in axis"
     ]
    }
   ],
   "source": [
    "vi_mu_working_data=vi_mu_working_data.drop(['STATUSMONTH_y','STATUSYEAR_y'],axis=1)"
   ]
  },
  {
   "cell_type": "code",
   "execution_count": 89,
   "metadata": {},
   "outputs": [],
   "source": [
    "vi_mu_working_data=vi_mu_working_data.rename(columns={'STATUSMONTH_x':'STATUSMONTH','STATUSYEAR_x':'STATUSYEAR'})"
   ]
  },
  {
   "cell_type": "code",
   "execution_count": 90,
   "metadata": {},
   "outputs": [],
   "source": [
    "vi_mu_working_data_rev=vi_mu_working_data[['STATUSMONTH'\n",
    "                          ,'STATUSYEAR'\n",
    "                          ,'CLIENT_NAME'\n",
    "                          ,'CONTRACT_ID'\n",
    "                          ,'SERVICEPROVIDERGROUPNAME'\n",
    "                          ,'PRODUCT_CODE'\n",
    "                          ,'GEOGRAPHICAL_AREA_LOCAL_ACQUIRER_DESC'\n",
    "                          ,'ORDERID'\n",
    "                          ,'CREDITDEBITINDICATOR'\n",
    "                          ,'CURRENCYCODE'\n",
    "                          ,'INVOICE_CURRENCY'                         \n",
    "                          ,'REQUESTAUTHORIZEDAMOUNT'\n",
    "                          ,'PROCESS_INTEGRITY_FEE'                                         \n",
    "                          ,'INVOICE_CONVERSION_FACTOR'\n",
    "                          ,'CURRENCY_ADJUSTED_INVOICE_AMOUNT'\n",
    "                          ,'EUR_TOTAL'\n",
    "                          ,'EXCEPTION'                         \n",
    "                          ,'ICPLUS_TYPE']]"
   ]
  },
  {
   "cell_type": "code",
   "execution_count": 91,
   "metadata": {},
   "outputs": [],
   "source": [
    "vi_mu_working_data_pivot=vi_mu_working_data_rev"
   ]
  },
  {
   "cell_type": "code",
   "execution_count": null,
   "metadata": {},
   "outputs": [],
   "source": [
    "for x in range(0,len(vi_mu_working_data_pivot['EUR_TOTAL'])):\n",
    "    if vi_mu_working_data_pivot['EXCEPTION'][x]=='YES':\n",
    "        vi_mu_working_data_pivot['EUR_TOTAL'][x]*1\n",
    "    else:\n",
    "        vi_mu_working_data_pivot['EUR_TOTAL'][x]*1.10"
   ]
  },
  {
   "cell_type": "code",
   "execution_count": null,
   "metadata": {},
   "outputs": [],
   "source": [
    "#vi_mu_working_data_pivot['EUR_TOTAL'][(vi_mu_working_data_pivot['EXCEPTION']=='YES')]=vi_mu_working_data_pivot['EUR_TOTAL']*1\n",
    "#vi_mu_working_data_pivot['EUR_TOTAL'][(vi_mu_working_data_pivot['EXCEPTION']!='YES')]=vi_mu_working_data_pivot['EUR_TOTAL']*1.10"
   ]
  },
  {
   "cell_type": "code",
   "execution_count": 93,
   "metadata": {},
   "outputs": [
    {
     "name": "stdout",
     "output_type": "stream",
     "text": [
      "               EUR_TOTAL             \n",
      "ICPLUS_TYPE            -          All\n",
      "STATUSMONTH                          \n",
      "6            1673.958626  1673.958626\n",
      "All          1673.958626  1673.958626\n"
     ]
    }
   ],
   "source": [
    "vi_mu_working_data_pivot=vi_mu_working_data_pivot[(vi_mu_working_data_pivot['STATUSMONTH']>=1)]\n",
    "print vi_mu_working_data_pivot.pivot_table(['EUR_TOTAL'],index=['STATUSMONTH'],columns='ICPLUS_TYPE',aggfunc='sum',margins='all')"
   ]
  },
  {
   "cell_type": "code",
   "execution_count": 99,
   "metadata": {},
   "outputs": [
    {
     "name": "stdout",
     "output_type": "stream",
     "text": [
      "             ORDERID         \n",
      "ICPLUS_TYPE        -      All\n",
      "STATUSMONTH                  \n",
      "6            55757.0  55757.0\n",
      "All          55757.0  55757.0\n"
     ]
    }
   ],
   "source": [
    "vi_mu_working_data_pivot=vi_mu_working_data_pivot[(vi_mu_working_data_pivot['STATUSMONTH']>=1)]\n",
    "print vi_mu_working_data_pivot.pivot_table(['ORDERID'],index=['STATUSMONTH'],columns='ICPLUS_TYPE',aggfunc='count',margins='all')"
   ]
  },
  {
   "cell_type": "code",
   "execution_count": 100,
   "metadata": {},
   "outputs": [
    {
     "name": "stderr",
     "output_type": "stream",
     "text": [
      "C:\\Users\\djohnson\\AppData\\Local\\Continuum\\Anaconda2\\lib\\site-packages\\ipykernel\\__main__.py:2: SettingWithCopyWarning: \n",
      "A value is trying to be set on a copy of a slice from a DataFrame.\n",
      "Try using .loc[row_indexer,col_indexer] = value instead\n",
      "\n",
      "See the caveats in the documentation: http://pandas.pydata.org/pandas-docs/stable/indexing.html#indexing-view-versus-copy\n",
      "  from ipykernel import kernelapp as app\n",
      "C:\\Users\\djohnson\\AppData\\Local\\Continuum\\Anaconda2\\lib\\site-packages\\ipykernel\\__main__.py:4: SettingWithCopyWarning: \n",
      "A value is trying to be set on a copy of a slice from a DataFrame.\n",
      "Try using .loc[row_indexer,col_indexer] = value instead\n",
      "\n",
      "See the caveats in the documentation: http://pandas.pydata.org/pandas-docs/stable/indexing.html#indexing-view-versus-copy\n",
      "C:\\Users\\djohnson\\AppData\\Local\\Continuum\\Anaconda2\\lib\\site-packages\\ipykernel\\__main__.py:5: SettingWithCopyWarning: \n",
      "A value is trying to be set on a copy of a slice from a DataFrame\n",
      "\n",
      "See the caveats in the documentation: http://pandas.pydata.org/pandas-docs/stable/indexing.html#indexing-view-versus-copy\n",
      "C:\\Users\\djohnson\\AppData\\Local\\Continuum\\Anaconda2\\lib\\site-packages\\ipykernel\\__main__.py:6: SettingWithCopyWarning: \n",
      "A value is trying to be set on a copy of a slice from a DataFrame\n",
      "\n",
      "See the caveats in the documentation: http://pandas.pydata.org/pandas-docs/stable/indexing.html#indexing-view-versus-copy\n",
      "C:\\Users\\djohnson\\AppData\\Local\\Continuum\\Anaconda2\\lib\\site-packages\\ipykernel\\__main__.py:8: SettingWithCopyWarning: \n",
      "A value is trying to be set on a copy of a slice from a DataFrame.\n",
      "Try using .loc[row_indexer,col_indexer] = value instead\n",
      "\n",
      "See the caveats in the documentation: http://pandas.pydata.org/pandas-docs/stable/indexing.html#indexing-view-versus-copy\n",
      "C:\\Users\\djohnson\\AppData\\Local\\Continuum\\Anaconda2\\lib\\site-packages\\ipykernel\\__main__.py:9: SettingWithCopyWarning: \n",
      "A value is trying to be set on a copy of a slice from a DataFrame\n",
      "\n",
      "See the caveats in the documentation: http://pandas.pydata.org/pandas-docs/stable/indexing.html#indexing-view-versus-copy\n",
      "C:\\Users\\djohnson\\AppData\\Local\\Continuum\\Anaconda2\\lib\\site-packages\\ipykernel\\__main__.py:10: SettingWithCopyWarning: \n",
      "A value is trying to be set on a copy of a slice from a DataFrame\n",
      "\n",
      "See the caveats in the documentation: http://pandas.pydata.org/pandas-docs/stable/indexing.html#indexing-view-versus-copy\n",
      "C:\\Users\\djohnson\\AppData\\Local\\Continuum\\Anaconda2\\lib\\site-packages\\ipykernel\\__main__.py:14: SettingWithCopyWarning: \n",
      "A value is trying to be set on a copy of a slice from a DataFrame.\n",
      "Try using .loc[row_indexer,col_indexer] = value instead\n",
      "\n",
      "See the caveats in the documentation: http://pandas.pydata.org/pandas-docs/stable/indexing.html#indexing-view-versus-copy\n",
      "C:\\Users\\djohnson\\AppData\\Local\\Continuum\\Anaconda2\\lib\\site-packages\\ipykernel\\__main__.py:15: SettingWithCopyWarning: \n",
      "A value is trying to be set on a copy of a slice from a DataFrame.\n",
      "Try using .loc[row_indexer,col_indexer] = value instead\n",
      "\n",
      "See the caveats in the documentation: http://pandas.pydata.org/pandas-docs/stable/indexing.html#indexing-view-versus-copy\n"
     ]
    }
   ],
   "source": [
    "vi_mu_working_data_rev_rf=vi_mu_working_data_rev\n",
    "vi_mu_working_data_rev_rf['Product Description']='Penalty Fees'\n",
    "\n",
    "vi_mu_working_data_rev_rf['Current % Tariff']=0\n",
    "vi_mu_working_data_rev_rf['Current % Tariff'][(vi_mu_working_data_rev_rf['EXCEPTION']=='YES')]=1\n",
    "vi_mu_working_data_rev_rf['Current % Tariff'][(vi_mu_working_data_rev_rf['EXCEPTION']!='YES')]=1.10\n",
    "\n",
    "vi_mu_working_data_rev_rf['Description']=''\n",
    "vi_mu_working_data_rev_rf['Description'][(vi_mu_working_data_rev_rf['EXCEPTION']=='YES')]='Fee 100.00% or as currently in IST ='\n",
    "vi_mu_working_data_rev_rf['Description'][(vi_mu_working_data_rev_rf['EXCEPTION']!='YES')]='Fee 110.00% or as currently in IST ='\n",
    "\n",
    "\n",
    "\n",
    "vi_mu_working_data_rev_rf['Product Code']=420129\n",
    "vi_mu_working_data_rev_rf['Total invoiced amount']=0\n",
    "\n",
    "vi_mu_working_data_rev_rf=vi_mu_working_data_rev_rf[(vi_mu_working_data_rev_rf['STATUSMONTH']==month)&(vi_mu_working_data_rev_rf['ICPLUS_TYPE']=='-')]\n",
    "vi_mu_working_data_rev_rf=vi_mu_working_data_rev_rf[['CONTRACT_ID'\n",
    "                             ,'Product Code'\n",
    "                             ,'Total invoiced amount'                            \n",
    "                             ,'Product Description'\n",
    "                             ,'INVOICE_CURRENCY'\n",
    "                             ,'ORDERID'\n",
    "                             ,'REQUESTAUTHORIZEDAMOUNT'\n",
    "                             ,'Current % Tariff'\n",
    "                             ,'CURRENCY_ADJUSTED_INVOICE_AMOUNT'\n",
    "                             ,'Description']]\n",
    "\n"
   ]
  },
  {
   "cell_type": "code",
   "execution_count": 101,
   "metadata": {},
   "outputs": [],
   "source": [
    "vi_mu_working_data_rev_rf=vi_mu_working_data_rev_rf.groupby(['CONTRACT_ID','Product Code','Product Description','INVOICE_CURRENCY','Current % Tariff','Description','Total invoiced amount'])\\\n",
    ".agg({'ORDERID':'count','REQUESTAUTHORIZEDAMOUNT':'sum','CURRENCY_ADJUSTED_INVOICE_AMOUNT':'sum'}).reset_index()\n",
    "\n",
    "vi_mu_working_data_rev_rf['Current Tariff Amount']=vi_mu_working_data_rev_rf['CURRENCY_ADJUSTED_INVOICE_AMOUNT']/vi_mu_working_data_rev_rf['ORDERID']\n",
    "vi_mu_working_data_rev_rf['Total invoiced percentage']=vi_mu_working_data_rev_rf['CURRENCY_ADJUSTED_INVOICE_AMOUNT']*vi_mu_working_data_rev_rf['Current % Tariff']\n",
    "\n",
    "vi_mu_working_data_rev_rf.rename(columns={'CONTRACT_ID': 'Contract ID'\n",
    "                                            ,'Product Code': 'Product Code'\n",
    "                                            ,'INVOICE_CURRENCY': 'Invoice Currency'\n",
    "                                            ,'ORDERID':'Volume'\n",
    "                                            ,'CURRENCY_ADJUSTED_INVOICE_AMOUNT':'Flow'}, inplace=True)\n",
    "\n",
    "\n",
    "vi_mu_working_data_rev_rf=vi_mu_working_data_rev_rf[['Contract ID'\n",
    "                             ,'Product Code'\n",
    "                             ,'Product Description'\n",
    "                             ,'Invoice Currency'\n",
    "                             ,'Volume'\n",
    "                             ,'Flow'\n",
    "                             ,'Current % Tariff'\n",
    "                             ,'Current Tariff Amount'\n",
    "                             ,'Total invoiced amount'                            \n",
    "                             ,'Total invoiced percentage'\n",
    "                             ,'Description']]\n",
    "\n",
    "\n",
    "vi_mu_working_data_rev_rf['Volume']=0\n",
    "vi_mu_working_data_rev_rf['Current Tariff Amount']=0"
   ]
  },
  {
   "cell_type": "code",
   "execution_count": 102,
   "metadata": {},
   "outputs": [
    {
     "data": {
      "text/html": [
       "<div>\n",
       "<table border=\"1\" class=\"dataframe\">\n",
       "  <thead>\n",
       "    <tr style=\"text-align: right;\">\n",
       "      <th></th>\n",
       "      <th>Contract ID</th>\n",
       "      <th>Product Code</th>\n",
       "      <th>Product Description</th>\n",
       "      <th>Invoice Currency</th>\n",
       "      <th>Volume</th>\n",
       "      <th>Flow</th>\n",
       "      <th>Current % Tariff</th>\n",
       "      <th>Current Tariff Amount</th>\n",
       "      <th>Total invoiced amount</th>\n",
       "      <th>Total invoiced percentage</th>\n",
       "      <th>Description</th>\n",
       "    </tr>\n",
       "  </thead>\n",
       "  <tbody>\n",
       "    <tr>\n",
       "      <th>0</th>\n",
       "      <td>12</td>\n",
       "      <td>420129</td>\n",
       "      <td>Penalty Fees</td>\n",
       "      <td>EUR</td>\n",
       "      <td>0</td>\n",
       "      <td>0.027273</td>\n",
       "      <td>1.1</td>\n",
       "      <td>0</td>\n",
       "      <td>0</td>\n",
       "      <td>0.030000</td>\n",
       "      <td>Fee 110.00% or as currently in IST =</td>\n",
       "    </tr>\n",
       "    <tr>\n",
       "      <th>1</th>\n",
       "      <td>17</td>\n",
       "      <td>420129</td>\n",
       "      <td>Penalty Fees</td>\n",
       "      <td>EUR</td>\n",
       "      <td>0</td>\n",
       "      <td>0.027273</td>\n",
       "      <td>1.1</td>\n",
       "      <td>0</td>\n",
       "      <td>0</td>\n",
       "      <td>0.030000</td>\n",
       "      <td>Fee 110.00% or as currently in IST =</td>\n",
       "    </tr>\n",
       "    <tr>\n",
       "      <th>2</th>\n",
       "      <td>46</td>\n",
       "      <td>420129</td>\n",
       "      <td>Penalty Fees</td>\n",
       "      <td>EUR</td>\n",
       "      <td>0</td>\n",
       "      <td>1.554545</td>\n",
       "      <td>1.1</td>\n",
       "      <td>0</td>\n",
       "      <td>0</td>\n",
       "      <td>1.710000</td>\n",
       "      <td>Fee 110.00% or as currently in IST =</td>\n",
       "    </tr>\n",
       "    <tr>\n",
       "      <th>3</th>\n",
       "      <td>297</td>\n",
       "      <td>420129</td>\n",
       "      <td>Penalty Fees</td>\n",
       "      <td>GBP</td>\n",
       "      <td>0</td>\n",
       "      <td>0.741935</td>\n",
       "      <td>1.1</td>\n",
       "      <td>0</td>\n",
       "      <td>0</td>\n",
       "      <td>0.816129</td>\n",
       "      <td>Fee 110.00% or as currently in IST =</td>\n",
       "    </tr>\n",
       "    <tr>\n",
       "      <th>4</th>\n",
       "      <td>488</td>\n",
       "      <td>420129</td>\n",
       "      <td>Penalty Fees</td>\n",
       "      <td>EUR</td>\n",
       "      <td>0</td>\n",
       "      <td>0.163636</td>\n",
       "      <td>1.1</td>\n",
       "      <td>0</td>\n",
       "      <td>0</td>\n",
       "      <td>0.180000</td>\n",
       "      <td>Fee 110.00% or as currently in IST =</td>\n",
       "    </tr>\n",
       "  </tbody>\n",
       "</table>\n",
       "</div>"
      ],
      "text/plain": [
       "   Contract ID  Product Code Product Description Invoice Currency  Volume  \\\n",
       "0           12        420129        Penalty Fees              EUR       0   \n",
       "1           17        420129        Penalty Fees              EUR       0   \n",
       "2           46        420129        Penalty Fees              EUR       0   \n",
       "3          297        420129        Penalty Fees              GBP       0   \n",
       "4          488        420129        Penalty Fees              EUR       0   \n",
       "\n",
       "       Flow  Current % Tariff  Current Tariff Amount  Total invoiced amount  \\\n",
       "0  0.027273               1.1                      0                      0   \n",
       "1  0.027273               1.1                      0                      0   \n",
       "2  1.554545               1.1                      0                      0   \n",
       "3  0.741935               1.1                      0                      0   \n",
       "4  0.163636               1.1                      0                      0   \n",
       "\n",
       "   Total invoiced percentage                           Description  \n",
       "0                   0.030000  Fee 110.00% or as currently in IST =  \n",
       "1                   0.030000  Fee 110.00% or as currently in IST =  \n",
       "2                   1.710000  Fee 110.00% or as currently in IST =  \n",
       "3                   0.816129  Fee 110.00% or as currently in IST =  \n",
       "4                   0.180000  Fee 110.00% or as currently in IST =  "
      ]
     },
     "execution_count": 102,
     "metadata": {},
     "output_type": "execute_result"
    }
   ],
   "source": [
    "vi_mu_working_data_rev_rf.head()"
   ]
  },
  {
   "cell_type": "code",
   "execution_count": 103,
   "metadata": {},
   "outputs": [
    {
     "name": "stderr",
     "output_type": "stream",
     "text": [
      "C:\\Users\\djohnson\\AppData\\Local\\Continuum\\Anaconda2\\lib\\site-packages\\pandas\\core\\frame.py:2754: SettingWithCopyWarning: \n",
      "A value is trying to be set on a copy of a slice from a DataFrame\n",
      "\n",
      "See the caveats in the documentation: http://pandas.pydata.org/pandas-docs/stable/indexing.html#indexing-view-versus-copy\n",
      "  **kwargs)\n",
      "C:\\Users\\djohnson\\AppData\\Local\\Continuum\\Anaconda2\\lib\\site-packages\\ipykernel\\__main__.py:12: SettingWithCopyWarning: \n",
      "A value is trying to be set on a copy of a slice from a DataFrame.\n",
      "Try using .loc[row_indexer,col_indexer] = value instead\n",
      "\n",
      "See the caveats in the documentation: http://pandas.pydata.org/pandas-docs/stable/indexing.html#indexing-view-versus-copy\n",
      "C:\\Users\\djohnson\\AppData\\Local\\Continuum\\Anaconda2\\lib\\site-packages\\ipykernel\\__main__.py:13: SettingWithCopyWarning: \n",
      "A value is trying to be set on a copy of a slice from a DataFrame\n",
      "\n",
      "See the caveats in the documentation: http://pandas.pydata.org/pandas-docs/stable/indexing.html#indexing-view-versus-copy\n"
     ]
    },
    {
     "name": "stdout",
     "output_type": "stream",
     "text": [
      "  Contract_ID  ProductCode     Value  InvoiceDate Approved\n",
      "0          12       420129  0.030000       201806    FALSE\n",
      "1          17       420129  0.030000       201806    FALSE\n",
      "2          46       420129  1.710000       201806    FALSE\n",
      "3        0297       420129  0.816129       201806    FALSE\n",
      "4        0488       420129  0.180000       201806    FALSE\n"
     ]
    }
   ],
   "source": [
    "#display the invoice data\n",
    "vi_mu_working_data_rev_rf['Approved']='TRUE'\n",
    "vi_mu_working_data_rev_rf['InvoiceDate']=day\n",
    "vi_mu_working_data_rev_rf\n",
    "\n",
    "\n",
    "vi_mu_working_data_rev_rf_final=vi_mu_working_data_rev_rf[['Contract ID','Product Code','Total invoiced percentage','InvoiceDate','Approved']]\n",
    "vi_mu_working_data_rev_rf_final.rename(columns={'Contract ID': 'Contract_ID'\n",
    "                                            ,'Product Code':'ProductCode'\n",
    "                                            ,'Total invoiced percentage': 'Value'}, inplace=True)\n",
    "\n",
    "vi_mu_working_data_rev_rf_final['Contract_ID']=vi_mu_working_data_rev_rf_final['Contract_ID'].astype(str)\n",
    "vi_mu_working_data_rev_rf_final['Contract_ID'][(vi_mu_working_data_rev_rf_final['Contract_ID'].str.len()==3)]=\"0\"+vi_mu_working_data_rev_rf_final['Contract_ID']\n",
    "\n",
    "#vi_mu_working_data_rev_rf_final=vi_mu_working_data_rev_rf_final.set_index('Contract_ID')\n",
    "\n",
    "print vi_mu_working_data_rev_rf_final.head()\n",
    "\n",
    "# ## Export the Data for Use and Analysis\n",
    "\n",
    "#vi_mu_working_data_rev_rf.to_csv('G:\\\\Pricing\\\\Pricing Intelligence\\\\Misuse of Authorization\\\\mtm\\\\vi_misuse_month_add_rev_'+day_save+'.csv')\n",
    "#mc_mu_working_data_rev_rf_final.to_csv('d:\\\\djohnson\\\\Pricing Desktop\\\\misuse\\\\vi_integ_fee_ytd'+day_save+'.csv',sep=';')\n",
    "vi_mu_working_data_rev_rf_final.to_csv('d:\\\\djohnson\\\\Desktop\\\\misuse\\\\2018\\\\jun\\\\invoice_files\\\\mc_eu_integ.csv',sep=';')\n",
    "vi_mu_working_data.to_csv('d:\\\\djohnson\\\\Desktop\\\\misuse\\\\2018\\\\jun\\\\audit_files\\\\mc_eu_integ_fee_ytd.csv')"
   ]
  }
 ],
 "metadata": {
  "anaconda-cloud": {},
  "kernelspec": {
   "display_name": "Python 2",
   "language": "python",
   "name": "python2"
  },
  "language_info": {
   "codemirror_mode": {
    "name": "ipython",
    "version": 2
   },
   "file_extension": ".py",
   "mimetype": "text/x-python",
   "name": "python",
   "nbconvert_exporter": "python",
   "pygments_lexer": "ipython2",
   "version": "2.7.12"
  }
 },
 "nbformat": 4,
 "nbformat_minor": 2
}
