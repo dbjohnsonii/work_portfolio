{
 "cells": [
  {
   "cell_type": "code",
   "execution_count": 1,
   "metadata": {},
   "outputs": [
    {
     "data": {
      "text/html": [
       "<style>.container { width:95% !important; }</style>"
      ],
      "text/plain": [
       "<IPython.core.display.HTML object>"
      ]
     },
     "metadata": {},
     "output_type": "display_data"
    },
    {
     "name": "stdout",
     "output_type": "stream",
     "text": [
      "2.7.12 |Anaconda 4.2.0 (64-bit)| (default, Jun 29 2016, 11:07:13) [MSC v.1500 64 bit (AMD64)]\n"
     ]
    }
   ],
   "source": [
    "from IPython.core.display import display, HTML\n",
    "display(HTML(\"<style>.container { width:95% !important; }</style>\"))\n",
    "import sys\n",
    "print (sys.version)"
   ]
  },
  {
   "cell_type": "code",
   "execution_count": 2,
   "metadata": {},
   "outputs": [
    {
     "name": "stdout",
     "output_type": "stream",
     "text": [
      "12.1.0.2.0\n"
     ]
    }
   ],
   "source": [
    "import cx_Oracle #import the oracle database libraries\n",
    "import pandas as pd #CONNECT TO THE PANDAS LIBRARY\n",
    "import numpy as np #IMPORT NUMPY\n",
    "con=cx_Oracle.connect('djohnson','Kirky2016!','ODSPEU1.ams') #enter database details\n",
    "print (con.version) # prnt the conversion details"
   ]
  },
  {
   "cell_type": "code",
   "execution_count": 49,
   "metadata": {},
   "outputs": [
    {
     "name": "stdout",
     "output_type": "stream",
     "text": [
      "6\n",
      "20186\n",
      "06\n"
     ]
    }
   ],
   "source": [
    "import datetime\n",
    "now = datetime.datetime.now()\n",
    "day=\"%s%s\" % (now.year,now.month-1)\n",
    "month=now.month-1\n",
    "#month=month.astype(str)\n",
    "print(month)\n",
    "print(day)\n",
    "#month=month-1\n",
    "#print month\n",
    "#month=6\n",
    "#day=201806\n",
    "month_=str(month)\n",
    "month_='0'+month_\n",
    "print month_"
   ]
  },
  {
   "cell_type": "code",
   "execution_count": 4,
   "metadata": {},
   "outputs": [],
   "source": [
    "df2=pd.read_sql(\n",
    "''' \n",
    "SELECT\n",
    "ROUND(AVG(AVERAGE_RATE_USD),3)\n",
    ",ROUND(AVG(AVERAGE_RATE_EUR),3)\n",
    ",CURRENCY\n",
    ",extract(year from CAST(DAY AS DATE)) \n",
    ",extract(month from CAST(DAY AS DATE)) \n",
    "FROM fdwo.mb_exchange_rates\n",
    "WHERE DAY BETWEEN TO_DATE('1-6-2018','DD-MM-YYYY') AND TO_DATE('30-6-2018','DD-MM-YYYY')\n",
    "GROUP BY CURRENCY,extract(year from CAST(DAY AS DATE)),extract(month from CAST(DAY AS DATE))\n",
    "''', con)"
   ]
  },
  {
   "cell_type": "code",
   "execution_count": 5,
   "metadata": {},
   "outputs": [],
   "source": [
    "curr=df2.copy()"
   ]
  },
  {
   "cell_type": "code",
   "execution_count": 6,
   "metadata": {},
   "outputs": [],
   "source": [
    "curr=curr.rename(columns={'ROUND(AVG(AVERAGE_RATE_USD),3)':'us_conversion'\n",
    "                        ,'ROUND(AVG(AVERAGE_RATE_EUR),3)':'eu_conversion'\n",
    "                        ,'CURRENCY':'CURRENCYCODE'\n",
    "                        ,'EXTRACT(YEARFROMCAST(DAYASDATE))':'STATUSYEAR'\n",
    "                        ,'EXTRACT(MONTHFROMCAST(DAYASDATE))':'MONTH'})"
   ]
  },
  {
   "cell_type": "code",
   "execution_count": 7,
   "metadata": {},
   "outputs": [],
   "source": [
    "acq_col_names=['STATUSMONTH',\n",
    "           'STATUSYEAR',\n",
    "           'ORDERID',\n",
    "           'CONTRACT_ID',\n",
    "           'CLIENT_NAME',\n",
    "           'REQUESTAUTHORIZEDAMOUNT',\n",
    "           'CURRENCYCODE',\n",
    "           'CURRENT_PAYMENTSTATUSID_UPDATED',\n",
    "           'PAYMENTPRODUCTID',\n",
    "           'PAYMENTMETHODID',\n",
    "           'PAYMENTPROCESSORNUMBER',\n",
    "           'CREDITCARDCOMPANY',\n",
    "           'COUNTRYCODE',\n",
    "           'BIN',\n",
    "           'INVOICE_CURRENCY',\n",
    "           'SERVICEPROVIDERGROUPNAME',\n",
    "           'ICPLUS_TYPE',\n",
    "           'GEOGRAPHICAL_AREA_LOCAL_ACQUIRER_DESC']"
   ]
  },
  {
   "cell_type": "code",
   "execution_count": 8,
   "metadata": {
    "scrolled": true
   },
   "outputs": [
    {
     "name": "stderr",
     "output_type": "stream",
     "text": [
      "C:\\Users\\djohnson\\AppData\\Local\\Continuum\\Anaconda2\\lib\\site-packages\\IPython\\core\\interactiveshell.py:2714: DtypeWarning: Columns (0) have mixed types. Specify dtype option on import or set low_memory=False.\n",
      "  interactivity=interactivity, compiler=compiler, result=result)\n"
     ]
    }
   ],
   "source": [
    "conver=pd.read_csv('G:\\\\Pricing\\\\Pricing Intelligence\\\\Projects\\\\IC_Opt_project\\\\pi_implementation\\\\currency_conversion\\\\monthly\\\\currency_monthly_data.csv')\n",
    "excep=pd.read_csv('G:\\\\Pricing\\\\Pricing Intelligence\\\\Projects\\\\IC_Opt_project\\\\pi_implementation\\\\misuse_of_authorization_fee\\\\reference_tables\\\\mu_exceptions_tbl.csv')\n",
    "\n",
    "prd_ref_tbl=pd.read_csv('G:\\\\Pricing\\\\Pricing Intelligence\\\\Projects\\\\IC_Opt_project\\\\pi_implementation\\\\misuse_of_authorization_fee\\\\reference_tables\\\\vi_product_ref_tbl.csv')\n",
    "prd_ref_tbl=prd_ref_tbl[['CREDITDEBITINDICATOR','CURRENCYCODE','PRODUCT_CODE']]\n",
    "\n",
    "vi=pd.read_csv('u:\\\\visa_misuse.txt',sep=';',names=acq_col_names,skiprows=66)\n",
    "#con =pd.read_csv('d:\\\\djohnson\\\\Desktop\\\\misuse\\\\2018\\\\may\\\\currency_conversion\\\\monthly_currency_average.txt',sep=';',names=curr_col_names,skiprows=9)"
   ]
  },
  {
   "cell_type": "code",
   "execution_count": 9,
   "metadata": {},
   "outputs": [],
   "source": [
    "conver=conver.drop('Unnamed: 0',axis=1)"
   ]
  },
  {
   "cell_type": "code",
   "execution_count": 10,
   "metadata": {},
   "outputs": [],
   "source": [
    "#remove the last column from the text file\n",
    "#con=con[:(len(con)-1)]\n",
    "curr['us_conversion']=curr['us_conversion'].astype(float)"
   ]
  },
  {
   "cell_type": "code",
   "execution_count": 11,
   "metadata": {},
   "outputs": [],
   "source": [
    "curr['STATUSMONTH']=month\n",
    "vi['STATUSMONTH']=month"
   ]
  },
  {
   "cell_type": "code",
   "execution_count": 12,
   "metadata": {},
   "outputs": [],
   "source": [
    "vi['CURRENCYCODE']=vi['CURRENCYCODE'].str.strip()\n",
    "vi['ICPLUS_TYPE']=vi['ICPLUS_TYPE'].str.strip()\n",
    "conver['CURRENCYCODE']=conver['CURRENCYCODE'].str.strip()"
   ]
  },
  {
   "cell_type": "code",
   "execution_count": 13,
   "metadata": {},
   "outputs": [],
   "source": [
    "for x in range(0,len(vi.ICPLUS_TYPE)):\n",
    "    if vi.ICPLUS_TYPE[x]=='Blended':\n",
    "        vi.ICPLUS_TYPE='-'"
   ]
  },
  {
   "cell_type": "code",
   "execution_count": 14,
   "metadata": {},
   "outputs": [],
   "source": [
    "vi_mu_working_data=vi #Create a working reference of the misuse of information"
   ]
  },
  {
   "cell_type": "code",
   "execution_count": 15,
   "metadata": {},
   "outputs": [],
   "source": [
    "vi_mu_working_data.rename(columns={'GEOGRAPHICAL_AREA_LOCAL_ACQUIRER_DESC,': 'GEOGRAPHICAL_AREA_LOCAL_ACQUIRER_DESC'}, inplace=True)#Update the name to USD conversion factor\n",
    "vi_mu_working_data['CREDITDEBITINDICATOR']='C'"
   ]
  },
  {
   "cell_type": "raw",
   "metadata": {},
   "source": [
    "vi_mu_working_data.head()"
   ]
  },
  {
   "cell_type": "code",
   "execution_count": 16,
   "metadata": {},
   "outputs": [],
   "source": [
    "vi_mu_working_data['PROCESS_INTEGRITY_FEE']=1*0.09"
   ]
  },
  {
   "cell_type": "code",
   "execution_count": 17,
   "metadata": {},
   "outputs": [],
   "source": [
    "vi_mu_working_data['REQUESTAUTHORIZEDAMOUNT']=vi_mu_working_data['REQUESTAUTHORIZEDAMOUNT']/100"
   ]
  },
  {
   "cell_type": "code",
   "execution_count": 18,
   "metadata": {},
   "outputs": [],
   "source": [
    "vi_mu_working_data=vi_mu_working_data[['STATUSMONTH','STATUSYEAR','CLIENT_NAME','CONTRACT_ID','SERVICEPROVIDERGROUPNAME'\n",
    "                                       ,'GEOGRAPHICAL_AREA_LOCAL_ACQUIRER_DESC','ORDERID','CREDITDEBITINDICATOR','CURRENCYCODE'\n",
    "                                       ,'REQUESTAUTHORIZEDAMOUNT','INVOICE_CURRENCY','ICPLUS_TYPE','PROCESS_INTEGRITY_FEE']]"
   ]
  },
  {
   "cell_type": "raw",
   "metadata": {},
   "source": [
    "vi_mu_working_data.info()"
   ]
  },
  {
   "cell_type": "code",
   "execution_count": 21,
   "metadata": {},
   "outputs": [],
   "source": [
    "vi_mu_working_data=pd.merge(vi_mu_working_data,curr,on=['CURRENCYCODE','STATUSMONTH','STATUSYEAR'])\n",
    "vi_mu_working_data['REQUESTAUTHORIZEDAMOUNT']=vi_mu_working_data['REQUESTAUTHORIZEDAMOUNT']/vi_mu_working_data['us_conversion']"
   ]
  },
  {
   "cell_type": "code",
   "execution_count": 22,
   "metadata": {},
   "outputs": [],
   "source": [
    "vi_mu_working_data=pd.merge(vi_mu_working_data,prd_ref_tbl,on=['CURRENCYCODE','CREDITDEBITINDICATOR'],how='left')"
   ]
  },
  {
   "cell_type": "code",
   "execution_count": 23,
   "metadata": {},
   "outputs": [],
   "source": [
    "vi_mu_working_data=pd.merge(vi_mu_working_data,excep,on=['CONTRACT_ID'],how='left')"
   ]
  },
  {
   "cell_type": "code",
   "execution_count": 24,
   "metadata": {},
   "outputs": [],
   "source": [
    "for x in range(0,len(vi_mu_working_data.CONTRACT_ID)):\n",
    "    if vi_mu_working_data['CONTRACT_ID'][x]==7162:\n",
    "        vi_mu_working_data['ICPLUS_TYPE'][x]=\"-\"\n",
    "\n",
    "for x in range(0,len(vi_mu_working_data.INVOICE_CURRENCY[x])):\n",
    "    if vi_mu_working_data.CONTRACT_ID[x]==7162:\n",
    "        vi_mu_working_data.INVOICE_CURRENCY='USD'"
   ]
  },
  {
   "cell_type": "code",
   "execution_count": 25,
   "metadata": {},
   "outputs": [],
   "source": [
    "vi_mu_working_data=pd.merge(vi_mu_working_data,curr,on=['CURRENCYCODE'],how='left')\n",
    "vi_mu_working_data.rename(columns={'EUR_CONVERSION_RATE': 'USD_CONVERSION_FACTOR'}, inplace=True)#Update the name to USD conversion factor"
   ]
  },
  {
   "cell_type": "code",
   "execution_count": 28,
   "metadata": {},
   "outputs": [],
   "source": [
    "curr_invoice=conver\n",
    "curr_invoice.rename(columns={'CURRENCYCODE': 'INVOICE_CURRENCY'}, inplace=True)"
   ]
  },
  {
   "cell_type": "code",
   "execution_count": 29,
   "metadata": {},
   "outputs": [],
   "source": [
    "vi_mu_working_data=pd.merge(vi_mu_working_data,curr_invoice,on=['INVOICE_CURRENCY'],how='left')\n",
    "vi_mu_working_data['INVOICE_CONVERSION_FACTOR']=vi_mu_working_data['EUR_CONVERSION_RATE']"
   ]
  },
  {
   "cell_type": "code",
   "execution_count": 30,
   "metadata": {},
   "outputs": [],
   "source": [
    "vi_mu_working_data['CURRENCY_ADJUSTED_INVOICE_AMOUNT']=vi_mu_working_data['PROCESS_INTEGRITY_FEE']/vi_mu_working_data['INVOICE_CONVERSION_FACTOR']"
   ]
  },
  {
   "cell_type": "code",
   "execution_count": 31,
   "metadata": {},
   "outputs": [
    {
     "name": "stderr",
     "output_type": "stream",
     "text": [
      "C:\\Users\\djohnson\\AppData\\Local\\Continuum\\Anaconda2\\lib\\site-packages\\ipykernel\\__main__.py:1: SettingWithCopyWarning: \n",
      "A value is trying to be set on a copy of a slice from a DataFrame\n",
      "\n",
      "See the caveats in the documentation: http://pandas.pydata.org/pandas-docs/stable/indexing.html#indexing-view-versus-copy\n",
      "  if __name__ == '__main__':\n"
     ]
    }
   ],
   "source": [
    "vi_mu_working_data['INVOICE_CURRENCY'][(vi_mu_working_data['INVOICE_CURRENCY'].isnull())&(vi_mu_working_data['CURRENCYCODE']=='CAD')]='USD'"
   ]
  },
  {
   "cell_type": "code",
   "execution_count": 32,
   "metadata": {},
   "outputs": [
    {
     "name": "stderr",
     "output_type": "stream",
     "text": [
      "C:\\Users\\djohnson\\AppData\\Local\\Continuum\\Anaconda2\\lib\\site-packages\\ipykernel\\__main__.py:5: SettingWithCopyWarning: \n",
      "A value is trying to be set on a copy of a slice from a DataFrame\n",
      "\n",
      "See the caveats in the documentation: http://pandas.pydata.org/pandas-docs/stable/indexing.html#indexing-view-versus-copy\n",
      "C:\\Users\\djohnson\\AppData\\Local\\Continuum\\Anaconda2\\lib\\site-packages\\ipykernel\\__main__.py:6: SettingWithCopyWarning: \n",
      "A value is trying to be set on a copy of a slice from a DataFrame\n",
      "\n",
      "See the caveats in the documentation: http://pandas.pydata.org/pandas-docs/stable/indexing.html#indexing-view-versus-copy\n"
     ]
    }
   ],
   "source": [
    "conver[(conver['INVOICE_CURRENCY']=='EUR')]\n",
    "\n",
    "usd=conver[:].iloc[4]['EUR_CONVERSION_RATE']#Establish the European Conversion Amount\n",
    "vi_mu_working_data['EUR_TOTAL']=0\n",
    "vi_mu_working_data['EUR_TOTAL'][(vi_mu_working_data['INVOICE_CURRENCY']!=\"EUR\")]=vi_mu_working_data['CURRENCY_ADJUSTED_INVOICE_AMOUNT']/usd\n",
    "vi_mu_working_data['EUR_TOTAL'][(vi_mu_working_data['INVOICE_CURRENCY']==\"EUR\")]=vi_mu_working_data['CURRENCY_ADJUSTED_INVOICE_AMOUNT']"
   ]
  },
  {
   "cell_type": "code",
   "execution_count": 33,
   "metadata": {},
   "outputs": [
    {
     "name": "stderr",
     "output_type": "stream",
     "text": [
      "C:\\Users\\djohnson\\AppData\\Local\\Continuum\\Anaconda2\\lib\\site-packages\\ipykernel\\__main__.py:4: SettingWithCopyWarning: \n",
      "A value is trying to be set on a copy of a slice from a DataFrame\n",
      "\n",
      "See the caveats in the documentation: http://pandas.pydata.org/pandas-docs/stable/indexing.html#indexing-view-versus-copy\n",
      "C:\\Users\\djohnson\\AppData\\Local\\Continuum\\Anaconda2\\lib\\site-packages\\ipykernel\\__main__.py:5: SettingWithCopyWarning: \n",
      "A value is trying to be set on a copy of a slice from a DataFrame\n",
      "\n",
      "See the caveats in the documentation: http://pandas.pydata.org/pandas-docs/stable/indexing.html#indexing-view-versus-copy\n",
      "C:\\Users\\djohnson\\AppData\\Local\\Continuum\\Anaconda2\\lib\\site-packages\\ipykernel\\__main__.py:8: SettingWithCopyWarning: \n",
      "A value is trying to be set on a copy of a slice from a DataFrame\n",
      "\n",
      "See the caveats in the documentation: http://pandas.pydata.org/pandas-docs/stable/indexing.html#indexing-view-versus-copy\n",
      "C:\\Users\\djohnson\\AppData\\Local\\Continuum\\Anaconda2\\lib\\site-packages\\ipykernel\\__main__.py:9: SettingWithCopyWarning: \n",
      "A value is trying to be set on a copy of a slice from a DataFrame\n",
      "\n",
      "See the caveats in the documentation: http://pandas.pydata.org/pandas-docs/stable/indexing.html#indexing-view-versus-copy\n"
     ]
    }
   ],
   "source": [
    "vi_mu_working_data['Product Description']='Penalty Fees'\n",
    "\n",
    "vi_mu_working_data['Current % Tariff']=0\n",
    "vi_mu_working_data['Current % Tariff'][(vi_mu_working_data['EXCEPTION']=='YES')]=1\n",
    "vi_mu_working_data['Current % Tariff'][(vi_mu_working_data['EXCEPTION']!='YES')]=1.10\n",
    "\n",
    "vi_mu_working_data['Description']=''\n",
    "vi_mu_working_data['Description'][(vi_mu_working_data['EXCEPTION']=='YES')]='Fee 100.00% or as currently in IST ='\n",
    "vi_mu_working_data['Description'][(vi_mu_working_data['EXCEPTION']!='YES')]='Fee 110.00% or as currently in IST ='\n",
    "\n",
    "vi_mu_working_data['Product Code']=420129"
   ]
  },
  {
   "cell_type": "code",
   "execution_count": 36,
   "metadata": {},
   "outputs": [
    {
     "name": "stdout",
     "output_type": "stream",
     "text": [
      "<class 'pandas.core.frame.DataFrame'>\n",
      "Int64Index: 54630 entries, 0 to 54629\n",
      "Data columns (total 34 columns):\n",
      "STATUSMONTH                              54630 non-null int64\n",
      "STATUSYEAR                               54630 non-null float64\n",
      "CLIENT_NAME                              54630 non-null object\n",
      "CONTRACT_ID                              54630 non-null float64\n",
      "SERVICEPROVIDERGROUPNAME                 54630 non-null object\n",
      "GEOGRAPHICAL_AREA_LOCAL_ACQUIRER_DESC    54630 non-null object\n",
      "ORDERID                                  54630 non-null float64\n",
      "CREDITDEBITINDICATOR                     54630 non-null object\n",
      "CURRENCYCODE                             54630 non-null object\n",
      "REQUESTAUTHORIZEDAMOUNT                  54630 non-null float64\n",
      "INVOICE_CURRENCY                         54630 non-null object\n",
      "ICPLUS_TYPE                              54630 non-null object\n",
      "PROCESS_INTEGRITY_FEE                    54630 non-null float64\n",
      "us_conversion_x                          54630 non-null float64\n",
      "eu_conversion_x                          54630 non-null float64\n",
      "MONTH_x                                  54630 non-null int64\n",
      "PRODUCT_CODE                             54630 non-null float64\n",
      "EXCEPTION                                3944 non-null object\n",
      "us_conversion_y                          54630 non-null float64\n",
      "eu_conversion_y                          54630 non-null float64\n",
      "STATUSYEAR_y                             54630 non-null int64\n",
      "MONTH_y                                  54630 non-null int64\n",
      "us_conversion                            54630 non-null float64\n",
      "eu_conversion                            54630 non-null float64\n",
      "STATUSYEAR                               54630 non-null int64\n",
      "MONTH                                    54630 non-null int64\n",
      "EUR_CONVERSION_RATE                      54630 non-null float64\n",
      "INVOICE_CONVERSION_FACTOR                54630 non-null float64\n",
      "CURRENCY_ADJUSTED_INVOICE_AMOUNT         54630 non-null float64\n",
      "EUR_TOTAL                                54630 non-null float64\n",
      "Product Description                      54630 non-null object\n",
      "Current % Tariff                         54630 non-null float64\n",
      "Description                              54630 non-null object\n",
      "Product Code                             54630 non-null int64\n",
      "dtypes: float64(17), int64(7), object(10)\n",
      "memory usage: 14.6+ MB\n"
     ]
    }
   ],
   "source": [
    "vi_mu_working_data.info()"
   ]
  },
  {
   "cell_type": "code",
   "execution_count": 35,
   "metadata": {},
   "outputs": [],
   "source": [
    "'''drop the additional status month'''\n",
    "vi_mu_working_data=vi_mu_working_data.drop(['STATUSMONTH','STATUSMONTH_y'],axis=1)\n",
    "\n",
    "'''drop those status months and years denoted with y'''\n",
    "vi_mu_working_data=vi_mu_working_data.rename(columns={'STATUSMONTH_x':'STATUSMONTH','STATUSYEAR_x':'STATUSYEAR'})"
   ]
  },
  {
   "cell_type": "code",
   "execution_count": 37,
   "metadata": {},
   "outputs": [],
   "source": [
    "vi_mu_working_data['Total Euros Collected (including current tariff)']=vi_mu_working_data['EUR_TOTAL']*vi_mu_working_data['Current % Tariff']\n",
    "vi_mu_working_data['Invoice Amount (including tariff)']=vi_mu_working_data['CURRENCY_ADJUSTED_INVOICE_AMOUNT']*vi_mu_working_data['Current % Tariff']"
   ]
  },
  {
   "cell_type": "code",
   "execution_count": 38,
   "metadata": {},
   "outputs": [],
   "source": [
    "vi_mu_working_data_rev=vi_mu_working_data[['STATUSMONTH'\n",
    "                          ,'STATUSYEAR'\n",
    "                          ,'CLIENT_NAME'\n",
    "                          ,'CONTRACT_ID'\n",
    "                          ,'SERVICEPROVIDERGROUPNAME'\n",
    "                          ,'PRODUCT_CODE'\n",
    "                          ,'GEOGRAPHICAL_AREA_LOCAL_ACQUIRER_DESC'\n",
    "                          ,'ORDERID'\n",
    "                          ,'CREDITDEBITINDICATOR'\n",
    "                          ,'CURRENCYCODE'\n",
    "                          ,'INVOICE_CURRENCY'                         \n",
    "                          ,'REQUESTAUTHORIZEDAMOUNT'\n",
    "                          ,'PROCESS_INTEGRITY_FEE'                                         \n",
    "                          ,'INVOICE_CONVERSION_FACTOR'\n",
    "                          ,'CURRENCY_ADJUSTED_INVOICE_AMOUNT'\n",
    "                          ,'EUR_TOTAL'\n",
    "                          ,'EXCEPTION'                         \n",
    "                          ,'ICPLUS_TYPE']]"
   ]
  },
  {
   "cell_type": "code",
   "execution_count": 39,
   "metadata": {},
   "outputs": [],
   "source": [
    "vi_mu_working_data_pivot=vi_mu_working_data_rev"
   ]
  },
  {
   "cell_type": "code",
   "execution_count": 40,
   "metadata": {},
   "outputs": [],
   "source": [
    "vi_mu_working_data_pivot['EUR_TOTAL'][(vi_mu_working_data_pivot['EXCEPTION']=='YES')]=vi_mu_working_data_pivot['EUR_TOTAL']*1\n",
    "vi_mu_working_data_pivot['EUR_TOTAL'][(vi_mu_working_data_pivot['EXCEPTION']!='YES')]=vi_mu_working_data_pivot['EUR_TOTAL']*1.10"
   ]
  },
  {
   "cell_type": "code",
   "execution_count": 41,
   "metadata": {},
   "outputs": [
    {
     "name": "stdout",
     "output_type": "stream",
     "text": [
      "              EUR_TOTAL                                      \n",
      "ICPLUS_TYPE           -    Cost Plus  IC+SF Plus          All\n",
      "STATUSMONTH                                                  \n",
      "6            981.736364  2642.072727  845.918182  4469.727273\n",
      "All          981.736364  2642.072727  845.918182  4469.727273\n"
     ]
    }
   ],
   "source": [
    "vi_mu_working_data_pivot=vi_mu_working_data_pivot[(vi_mu_working_data_pivot['STATUSMONTH']>=1)]\n",
    "print vi_mu_working_data_pivot.pivot_table(['EUR_TOTAL'],index=['STATUSMONTH'],columns='ICPLUS_TYPE',aggfunc='sum',margins='all')"
   ]
  },
  {
   "cell_type": "code",
   "execution_count": 42,
   "metadata": {},
   "outputs": [
    {
     "name": "stdout",
     "output_type": "stream",
     "text": [
      "             ORDERID                              \n",
      "ICPLUS_TYPE        - Cost Plus IC+SF Plus      All\n",
      "STATUSMONTH                                       \n",
      "6            11999.0   32292.0    10339.0  54630.0\n",
      "All          11999.0   32292.0    10339.0  54630.0\n"
     ]
    }
   ],
   "source": [
    "vi_mu_working_data_pivot=vi_mu_working_data_pivot[(vi_mu_working_data_pivot['STATUSMONTH']>=1)]\n",
    "print vi_mu_working_data_pivot.pivot_table(['ORDERID'],index=['STATUSMONTH'],columns='ICPLUS_TYPE',aggfunc='count',margins='all')"
   ]
  },
  {
   "cell_type": "code",
   "execution_count": 43,
   "metadata": {},
   "outputs": [
    {
     "name": "stderr",
     "output_type": "stream",
     "text": [
      "C:\\Users\\djohnson\\AppData\\Local\\Continuum\\Anaconda2\\lib\\site-packages\\ipykernel\\__main__.py:2: SettingWithCopyWarning: \n",
      "A value is trying to be set on a copy of a slice from a DataFrame.\n",
      "Try using .loc[row_indexer,col_indexer] = value instead\n",
      "\n",
      "See the caveats in the documentation: http://pandas.pydata.org/pandas-docs/stable/indexing.html#indexing-view-versus-copy\n",
      "  from ipykernel import kernelapp as app\n",
      "C:\\Users\\djohnson\\AppData\\Local\\Continuum\\Anaconda2\\lib\\site-packages\\ipykernel\\__main__.py:4: SettingWithCopyWarning: \n",
      "A value is trying to be set on a copy of a slice from a DataFrame.\n",
      "Try using .loc[row_indexer,col_indexer] = value instead\n",
      "\n",
      "See the caveats in the documentation: http://pandas.pydata.org/pandas-docs/stable/indexing.html#indexing-view-versus-copy\n",
      "C:\\Users\\djohnson\\AppData\\Local\\Continuum\\Anaconda2\\lib\\site-packages\\ipykernel\\__main__.py:8: SettingWithCopyWarning: \n",
      "A value is trying to be set on a copy of a slice from a DataFrame.\n",
      "Try using .loc[row_indexer,col_indexer] = value instead\n",
      "\n",
      "See the caveats in the documentation: http://pandas.pydata.org/pandas-docs/stable/indexing.html#indexing-view-versus-copy\n",
      "C:\\Users\\djohnson\\AppData\\Local\\Continuum\\Anaconda2\\lib\\site-packages\\ipykernel\\__main__.py:14: SettingWithCopyWarning: \n",
      "A value is trying to be set on a copy of a slice from a DataFrame.\n",
      "Try using .loc[row_indexer,col_indexer] = value instead\n",
      "\n",
      "See the caveats in the documentation: http://pandas.pydata.org/pandas-docs/stable/indexing.html#indexing-view-versus-copy\n",
      "C:\\Users\\djohnson\\AppData\\Local\\Continuum\\Anaconda2\\lib\\site-packages\\ipykernel\\__main__.py:15: SettingWithCopyWarning: \n",
      "A value is trying to be set on a copy of a slice from a DataFrame.\n",
      "Try using .loc[row_indexer,col_indexer] = value instead\n",
      "\n",
      "See the caveats in the documentation: http://pandas.pydata.org/pandas-docs/stable/indexing.html#indexing-view-versus-copy\n"
     ]
    }
   ],
   "source": [
    "vi_mu_working_data_rev_rf=vi_mu_working_data_rev\n",
    "vi_mu_working_data_rev_rf['Product Description']='Penalty Fees'\n",
    "\n",
    "vi_mu_working_data_rev_rf['Current % Tariff']=0\n",
    "vi_mu_working_data_rev_rf['Current % Tariff'][(vi_mu_working_data_rev_rf['EXCEPTION']=='YES')]=1\n",
    "vi_mu_working_data_rev_rf['Current % Tariff'][(vi_mu_working_data_rev_rf['EXCEPTION']!='YES')]=1.10\n",
    "\n",
    "vi_mu_working_data_rev_rf['Description']=''\n",
    "vi_mu_working_data_rev_rf['Description'][(vi_mu_working_data_rev_rf['EXCEPTION']=='YES')]='Fee 100.00% or as currently in IST ='\n",
    "vi_mu_working_data_rev_rf['Description'][(vi_mu_working_data_rev_rf['EXCEPTION']!='YES')]='Fee 110.00% or as currently in IST ='\n",
    "\n",
    "\n",
    "\n",
    "vi_mu_working_data_rev_rf['Product Code']=420129\n",
    "vi_mu_working_data_rev_rf['Total invoiced amount']=0\n",
    "\n",
    "vi_mu_working_data_rev_rf=vi_mu_working_data_rev_rf[(vi_mu_working_data_rev_rf['STATUSMONTH']==month)&(vi_mu_working_data_rev_rf['ICPLUS_TYPE']=='-')]\n",
    "vi_mu_working_data_rev_rf=vi_mu_working_data_rev_rf[['CONTRACT_ID'\n",
    "                             ,'Product Code'\n",
    "                             ,'Total invoiced amount'                            \n",
    "                             ,'Product Description'\n",
    "                             ,'INVOICE_CURRENCY'\n",
    "                             ,'ORDERID'\n",
    "                             ,'REQUESTAUTHORIZEDAMOUNT'\n",
    "                             ,'Current % Tariff'\n",
    "                             ,'CURRENCY_ADJUSTED_INVOICE_AMOUNT'\n",
    "                             ,'Description']]\n",
    "\n"
   ]
  },
  {
   "cell_type": "code",
   "execution_count": 44,
   "metadata": {},
   "outputs": [],
   "source": [
    "vi_mu_working_data_rev_rf=vi_mu_working_data_rev_rf.groupby(['CONTRACT_ID','Product Code','Product Description','INVOICE_CURRENCY','Current % Tariff','Description','Total invoiced amount'])\\\n",
    ".agg({'ORDERID':'count','REQUESTAUTHORIZEDAMOUNT':'sum','CURRENCY_ADJUSTED_INVOICE_AMOUNT':'sum'}).reset_index()\n",
    "\n",
    "vi_mu_working_data_rev_rf['Current Tariff Amount']=vi_mu_working_data_rev_rf['CURRENCY_ADJUSTED_INVOICE_AMOUNT']/vi_mu_working_data_rev_rf['ORDERID']\n",
    "vi_mu_working_data_rev_rf['Total invoiced percentage']=vi_mu_working_data_rev_rf['CURRENCY_ADJUSTED_INVOICE_AMOUNT']*vi_mu_working_data_rev_rf['Current % Tariff']\n",
    "\n",
    "vi_mu_working_data_rev_rf.rename(columns={'CONTRACT_ID': 'Contract ID'\n",
    "                                            ,'Product Code': 'Product Code'\n",
    "                                            ,'INVOICE_CURRENCY': 'Invoice Currency'\n",
    "                                            ,'ORDERID':'Volume'\n",
    "                                            ,'CURRENCY_ADJUSTED_INVOICE_AMOUNT':'Flow'}, inplace=True)\n",
    "\n",
    "\n",
    "vi_mu_working_data_rev_rf=vi_mu_working_data_rev_rf[['Contract ID'\n",
    "                             ,'Product Code'\n",
    "                             ,'Product Description'\n",
    "                             ,'Invoice Currency'\n",
    "                             ,'Volume'\n",
    "                             ,'Flow'\n",
    "                             ,'Current % Tariff'\n",
    "                             ,'Current Tariff Amount'\n",
    "                             ,'Total invoiced amount'                            \n",
    "                             ,'Total invoiced percentage'\n",
    "                             ,'Description']]\n",
    "\n",
    "\n",
    "vi_mu_working_data_rev_rf['Volume']=0\n",
    "vi_mu_working_data_rev_rf['Current Tariff Amount']=0"
   ]
  },
  {
   "cell_type": "code",
   "execution_count": 45,
   "metadata": {},
   "outputs": [
    {
     "name": "stderr",
     "output_type": "stream",
     "text": [
      "C:\\Users\\djohnson\\AppData\\Local\\Continuum\\Anaconda2\\lib\\site-packages\\pandas\\core\\frame.py:2754: SettingWithCopyWarning: \n",
      "A value is trying to be set on a copy of a slice from a DataFrame\n",
      "\n",
      "See the caveats in the documentation: http://pandas.pydata.org/pandas-docs/stable/indexing.html#indexing-view-versus-copy\n",
      "  **kwargs)\n",
      "C:\\Users\\djohnson\\AppData\\Local\\Continuum\\Anaconda2\\lib\\site-packages\\ipykernel\\__main__.py:12: SettingWithCopyWarning: \n",
      "A value is trying to be set on a copy of a slice from a DataFrame.\n",
      "Try using .loc[row_indexer,col_indexer] = value instead\n",
      "\n",
      "See the caveats in the documentation: http://pandas.pydata.org/pandas-docs/stable/indexing.html#indexing-view-versus-copy\n",
      "C:\\Users\\djohnson\\AppData\\Local\\Continuum\\Anaconda2\\lib\\site-packages\\ipykernel\\__main__.py:13: SettingWithCopyWarning: \n",
      "A value is trying to be set on a copy of a slice from a DataFrame\n",
      "\n",
      "See the caveats in the documentation: http://pandas.pydata.org/pandas-docs/stable/indexing.html#indexing-view-versus-copy\n",
      "C:\\Users\\djohnson\\AppData\\Local\\Continuum\\Anaconda2\\lib\\site-packages\\pandas\\core\\generic.py:4485: SettingWithCopyWarning: \n",
      "A value is trying to be set on a copy of a slice from a DataFrame\n",
      "\n",
      "See the caveats in the documentation: http://pandas.pydata.org/pandas-docs/stable/indexing.html#indexing-view-versus-copy\n",
      "  self._update_inplace(new_data)\n",
      "C:\\Users\\djohnson\\AppData\\Local\\Continuum\\Anaconda2\\lib\\site-packages\\IPython\\core\\interactiveshell.py:2878: SettingWithCopyWarning: \n",
      "A value is trying to be set on a copy of a slice from a DataFrame\n",
      "\n",
      "See the caveats in the documentation: http://pandas.pydata.org/pandas-docs/stable/indexing.html#indexing-view-versus-copy\n",
      "  exec(code_obj, self.user_global_ns, self.user_ns)\n"
     ]
    },
    {
     "name": "stdout",
     "output_type": "stream",
     "text": [
      "  Contract_ID  ProductCode  Value InvoiceDate Approved\n",
      "0       764.0       420129    0.0       20186    FALSE\n",
      "1       766.0       420129    0.0       20186    FALSE\n",
      "2       991.0       420129    0.0       20186    FALSE\n",
      "3      1086.0       420129    0.0       20186    FALSE\n",
      "4      2415.0       420129    0.0       20186    FALSE\n"
     ]
    }
   ],
   "source": [
    "#display the invoice data\n",
    "vi_mu_working_data_rev_rf['Approved']='TRUE'\n",
    "vi_mu_working_data_rev_rf['InvoiceDate']=day\n",
    "vi_mu_working_data_rev_rf\n",
    "\n",
    "\n",
    "vi_mu_working_data_rev_rf_final=vi_mu_working_data_rev_rf[['Contract ID','Product Code','Total invoiced percentage','InvoiceDate','Approved']]\n",
    "vi_mu_working_data_rev_rf_final.rename(columns={'Contract ID': 'Contract_ID'\n",
    "                                            ,'Product Code':'ProductCode'\n",
    "                                            ,'Total invoiced percentage': 'Value'}, inplace=True)\n",
    "\n",
    "vi_mu_working_data_rev_rf_final['Contract_ID']=vi_mu_working_data_rev_rf_final['Contract_ID'].astype(str)\n",
    "vi_mu_working_data_rev_rf_final['Contract_ID'][(vi_mu_working_data_rev_rf_final['Contract_ID'].str.len()==3)]=\"0\"+vi_mu_working_data_rev_rf_final['Contract_ID']\n",
    "\n",
    "#vi_mu_working_data_rev_rf_final=vi_mu_working_data_rev_rf_final.set_index('Contract_ID')\n",
    "\n",
    "print vi_mu_working_data_rev_rf_final.head()\n",
    "\n",
    "# ## Export the Data for Use and Analysis\n",
    "\n",
    "#vi_mu_working_data_rev_rf.to_csv('G:\\\\Pricing\\\\Pricing Intelligence\\\\Misuse of Authorization\\\\mtm\\\\vi_misuse_month_add_rev_'+day_save+'.csv')\n",
    "#mc_mu_working_data_rev_rf_final.to_csv('d:\\\\djohnson\\\\Pricing Desktop\\\\misuse\\\\vi_integ_fee_ytd'+day_save+'.csv',sep=';')\n",
    "vi_mu_working_data_rev_rf_final.to_csv('d:\\\\djohnson\\\\Desktop\\\\misuse\\\\2018\\\\jun\\\\invoice_files\\\\vi_integ.csv',sep=';')\n",
    "vi_mu_working_data.to_csv('d:\\\\djohnson\\\\Desktop\\\\misuse\\\\2018\\\\jun\\\\audit_files\\\\vi_integ_fee_ytd.csv')"
   ]
  }
 ],
 "metadata": {
  "anaconda-cloud": {},
  "kernelspec": {
   "display_name": "Python 2",
   "language": "python",
   "name": "python2"
  },
  "language_info": {
   "codemirror_mode": {
    "name": "ipython",
    "version": 2
   },
   "file_extension": ".py",
   "mimetype": "text/x-python",
   "name": "python",
   "nbconvert_exporter": "python",
   "pygments_lexer": "ipython2",
   "version": "2.7.12"
  }
 },
 "nbformat": 4,
 "nbformat_minor": 2
}
