{
 "cells": [
  {
   "cell_type": "code",
   "execution_count": 1,
   "metadata": {
    "collapsed": false
   },
   "outputs": [
    {
     "data": {
      "text/html": [
       "<style>.container { width:95% !important; }</style>"
      ],
      "text/plain": [
       "<IPython.core.display.HTML object>"
      ]
     },
     "metadata": {},
     "output_type": "display_data"
    },
    {
     "name": "stdout",
     "output_type": "stream",
     "text": [
      "2.7.12 |Anaconda 4.2.0 (64-bit)| (default, Jun 29 2016, 11:07:13) [MSC v.1500 64 bit (AMD64)]\n"
     ]
    }
   ],
   "source": [
    "from IPython.core.display import display, HTML\n",
    "display(HTML(\"<style>.container { width:95% !important; }</style>\"))\n",
    "import sys\n",
    "print (sys.version)"
   ]
  },
  {
   "cell_type": "code",
   "execution_count": 2,
   "metadata": {
    "collapsed": true
   },
   "outputs": [],
   "source": [
    "import pandas as pd #CONNECT TO THE PANDAS LIBRARY\n",
    "import numpy as np #IMPORT NUMPY"
   ]
  },
  {
   "cell_type": "code",
   "execution_count": 3,
   "metadata": {
    "collapsed": true
   },
   "outputs": [],
   "source": [
    "import datetime\n",
    "now = datetime.datetime.now()\n",
    "#day=\"%s/%s\" % (now.month-1,now.year)\n",
    "#day_save=\"%s_%s\" % (now.month-1,now.year)\n",
    "#year=now.year\n",
    "#month=now.month\n",
    "\n",
    "#day=day\n",
    "#print day\n",
    "\n",
    "#day_save=day_save\n",
    "#print day_save\n",
    "\n",
    "#month=month-1\n",
    "#print month\n",
    "month=4\n",
    "day=201804"
   ]
  },
  {
   "cell_type": "code",
   "execution_count": 4,
   "metadata": {
    "collapsed": true
   },
   "outputs": [],
   "source": [
    "acq_col_names=['STATUSMONTH',\n",
    "           'STATUSYEAR',\n",
    "           'ORDERID',\n",
    "           'CONTRACT_ID',\n",
    "           'CLIENT_NAME',\n",
    "           'REQUESTAUTHORIZEDAMOUNT',\n",
    "           'CURRENCYCODE',\n",
    "           'CURRENT_PAYMENTSTATUSID_UPDATED',\n",
    "           'PAYMENTPRODUCTID',\n",
    "           'PAYMENTMETHODID',\n",
    "           'PAYMENTPROCESSORNUMBER',\n",
    "           'CREDITCARDCOMPANY',\n",
    "           'COUNTRYCODE',\n",
    "           'BIN',\n",
    "           'INVOICE_CURRENCY',\n",
    "           'SERVICEPROVIDERGROUPNAME',\n",
    "           'ICPLUS_TYPE',\n",
    "           'GEOGRAPHICAL_AREA_LOCAL_ACQUIRER_DESC']"
   ]
  },
  {
   "cell_type": "code",
   "execution_count": 5,
   "metadata": {
    "collapsed": true
   },
   "outputs": [],
   "source": [
    "curr_col_names=['us_conversion','eu_conversion','CURRENCYCODE','STATUSYEAR','STATUSMONTH']"
   ]
  },
  {
   "cell_type": "code",
   "execution_count": 6,
   "metadata": {
    "collapsed": false,
    "scrolled": true
   },
   "outputs": [],
   "source": [
    "curr=pd.read_csv('G:\\\\Pricing\\\\Pricing Intelligence\\\\Projects\\\\IC_Opt_project\\\\pi_implementation\\\\currency_conversion\\\\monthly\\\\currency_monthly_data.csv')\n",
    "excep=pd.read_csv('G:\\\\Pricing\\\\Pricing Intelligence\\\\Projects\\\\IC_Opt_project\\\\pi_implementation\\\\misuse_of_authorization_fee\\\\reference_tables\\\\mu_exceptions_tbl.csv')\n",
    "\n",
    "prd_ref_tbl=pd.read_csv('G:\\\\Pricing\\\\Pricing Intelligence\\\\Projects\\\\IC_Opt_project\\\\pi_implementation\\\\misuse_of_authorization_fee\\\\reference_tables\\\\mc_product_ref_tbl.csv')\n",
    "prd_ref_tbl=prd_ref_tbl[['CREDITDEBITINDICATOR','CURRENCYCODE','PRODUCT_CODE']]\n",
    "\n",
    "vi=pd.read_csv('d:\\\\djohnson\\\\Desktop\\\\misuse\\\\2018\\\\apr\\\\data_files\\\\mc_row_mu.csv',sep=';',names=acq_col_names,skiprows=66)\n",
    "con =pd.read_csv('d:\\\\djohnson\\\\Desktop\\\\misuse\\\\2018\\\\apr\\\\currency_conversion\\\\monthly_currency_average.csv',sep=';',names=curr_col_names,skiprows=9)"
   ]
  },
  {
   "cell_type": "code",
   "execution_count": 7,
   "metadata": {
    "collapsed": true
   },
   "outputs": [],
   "source": [
    "vi['CURRENCYCODE']=vi['CURRENCYCODE'].str.strip()\n",
    "vi['ICPLUS_TYPE']=vi['ICPLUS_TYPE'].str.strip()\n",
    "con['CURRENCYCODE']=con['CURRENCYCODE'].str.strip()"
   ]
  },
  {
   "cell_type": "code",
   "execution_count": 8,
   "metadata": {
    "collapsed": false
   },
   "outputs": [],
   "source": [
    "con['STATUSMONTH']=4"
   ]
  },
  {
   "cell_type": "code",
   "execution_count": 9,
   "metadata": {
    "collapsed": false
   },
   "outputs": [],
   "source": [
    "vi_mu_working_data=vi #Create a working reference of the misuse of information"
   ]
  },
  {
   "cell_type": "code",
   "execution_count": 10,
   "metadata": {
    "collapsed": false
   },
   "outputs": [],
   "source": [
    "vi_mu_working_data.rename(columns={'GEOGRAPHICAL_AREA_LOCAL_ACQUIRER_DESC,': 'GEOGRAPHICAL_AREA_LOCAL_ACQUIRER_DESC'}, inplace=True)#Update the name to USD conversion factor\n",
    "vi_mu_working_data['CREDITDEBITINDICATOR']='C'"
   ]
  },
  {
   "cell_type": "code",
   "execution_count": 11,
   "metadata": {
    "collapsed": false
   },
   "outputs": [],
   "source": [
    "vi_mu_working_data['REQUESTAUTHORIZEDAMOUNT']=vi_mu_working_data['REQUESTAUTHORIZEDAMOUNT']/100"
   ]
  },
  {
   "cell_type": "code",
   "execution_count": 12,
   "metadata": {
    "collapsed": false
   },
   "outputs": [
    {
     "name": "stdout",
     "output_type": "stream",
     "text": [
      "<class 'pandas.core.frame.DataFrame'>\n",
      "RangeIndex: 129869 entries, 0 to 129868\n",
      "Data columns (total 19 columns):\n",
      "STATUSMONTH                              129869 non-null int64\n",
      "STATUSYEAR                               129869 non-null int64\n",
      "ORDERID                                  129869 non-null int64\n",
      "CONTRACT_ID                              129869 non-null int64\n",
      "CLIENT_NAME                              129869 non-null object\n",
      "REQUESTAUTHORIZEDAMOUNT                  129869 non-null float64\n",
      "CURRENCYCODE                             129869 non-null object\n",
      "CURRENT_PAYMENTSTATUSID_UPDATED          129869 non-null int64\n",
      "PAYMENTPRODUCTID                         129869 non-null int64\n",
      "PAYMENTMETHODID                          129869 non-null int64\n",
      "PAYMENTPROCESSORNUMBER                   129869 non-null int64\n",
      "CREDITCARDCOMPANY                        129869 non-null object\n",
      "COUNTRYCODE                              129869 non-null object\n",
      "BIN                                      129869 non-null int64\n",
      "INVOICE_CURRENCY                         129869 non-null object\n",
      "SERVICEPROVIDERGROUPNAME                 129869 non-null object\n",
      "ICPLUS_TYPE                              129869 non-null object\n",
      "GEOGRAPHICAL_AREA_LOCAL_ACQUIRER_DESC    129869 non-null object\n",
      "CREDITDEBITINDICATOR                     129869 non-null object\n",
      "dtypes: float64(1), int64(9), object(9)\n",
      "memory usage: 18.8+ MB\n"
     ]
    }
   ],
   "source": [
    "vi_mu_working_data.info()"
   ]
  },
  {
   "cell_type": "code",
   "execution_count": 13,
   "metadata": {
    "collapsed": false
   },
   "outputs": [
    {
     "data": {
      "text/html": [
       "<div>\n",
       "<table border=\"1\" class=\"dataframe\">\n",
       "  <thead>\n",
       "    <tr style=\"text-align: right;\">\n",
       "      <th></th>\n",
       "      <th>STATUSMONTH</th>\n",
       "      <th>STATUSYEAR</th>\n",
       "      <th>ORDERID</th>\n",
       "      <th>CONTRACT_ID</th>\n",
       "      <th>CLIENT_NAME</th>\n",
       "      <th>REQUESTAUTHORIZEDAMOUNT</th>\n",
       "      <th>CURRENCYCODE</th>\n",
       "      <th>CURRENT_PAYMENTSTATUSID_UPDATED</th>\n",
       "      <th>PAYMENTPRODUCTID</th>\n",
       "      <th>PAYMENTMETHODID</th>\n",
       "      <th>PAYMENTPROCESSORNUMBER</th>\n",
       "      <th>CREDITCARDCOMPANY</th>\n",
       "      <th>COUNTRYCODE</th>\n",
       "      <th>BIN</th>\n",
       "      <th>INVOICE_CURRENCY</th>\n",
       "      <th>SERVICEPROVIDERGROUPNAME</th>\n",
       "      <th>ICPLUS_TYPE</th>\n",
       "      <th>GEOGRAPHICAL_AREA_LOCAL_ACQUIRER_DESC</th>\n",
       "      <th>CREDITDEBITINDICATOR</th>\n",
       "    </tr>\n",
       "  </thead>\n",
       "  <tbody>\n",
       "    <tr>\n",
       "      <th>0</th>\n",
       "      <td>4</td>\n",
       "      <td>2018</td>\n",
       "      <td>301835157</td>\n",
       "      <td>8865</td>\n",
       "      <td>Agoda International (M) Sdn Bh</td>\n",
       "      <td>5.0</td>\n",
       "      <td>MYR</td>\n",
       "      <td>600</td>\n",
       "      <td>3</td>\n",
       "      <td>1</td>\n",
       "      <td>317</td>\n",
       "      <td>ECMC</td>\n",
       "      <td>US</td>\n",
       "      <td>552228</td>\n",
       "      <td>USD</td>\n",
       "      <td>Merchant Solutions</td>\n",
       "      <td>Cost Plus</td>\n",
       "      <td>APAC</td>\n",
       "      <td>C</td>\n",
       "    </tr>\n",
       "    <tr>\n",
       "      <th>1</th>\n",
       "      <td>4</td>\n",
       "      <td>2018</td>\n",
       "      <td>300612882</td>\n",
       "      <td>8865</td>\n",
       "      <td>Agoda International (M) Sdn Bh</td>\n",
       "      <td>5.0</td>\n",
       "      <td>MYR</td>\n",
       "      <td>600</td>\n",
       "      <td>3</td>\n",
       "      <td>1</td>\n",
       "      <td>317</td>\n",
       "      <td>ECMC</td>\n",
       "      <td>US</td>\n",
       "      <td>552228</td>\n",
       "      <td>USD</td>\n",
       "      <td>Merchant Solutions</td>\n",
       "      <td>Cost Plus</td>\n",
       "      <td>APAC</td>\n",
       "      <td>C</td>\n",
       "    </tr>\n",
       "    <tr>\n",
       "      <th>2</th>\n",
       "      <td>4</td>\n",
       "      <td>2018</td>\n",
       "      <td>298991687</td>\n",
       "      <td>8865</td>\n",
       "      <td>Agoda International (M) Sdn Bh</td>\n",
       "      <td>5.0</td>\n",
       "      <td>MYR</td>\n",
       "      <td>600</td>\n",
       "      <td>3</td>\n",
       "      <td>1</td>\n",
       "      <td>317</td>\n",
       "      <td>ECMC</td>\n",
       "      <td>US</td>\n",
       "      <td>552228</td>\n",
       "      <td>USD</td>\n",
       "      <td>Merchant Solutions</td>\n",
       "      <td>Cost Plus</td>\n",
       "      <td>APAC</td>\n",
       "      <td>C</td>\n",
       "    </tr>\n",
       "    <tr>\n",
       "      <th>3</th>\n",
       "      <td>4</td>\n",
       "      <td>2018</td>\n",
       "      <td>296851472</td>\n",
       "      <td>8865</td>\n",
       "      <td>Agoda International (M) Sdn Bh</td>\n",
       "      <td>5.0</td>\n",
       "      <td>MYR</td>\n",
       "      <td>600</td>\n",
       "      <td>3</td>\n",
       "      <td>1</td>\n",
       "      <td>317</td>\n",
       "      <td>ECMC</td>\n",
       "      <td>US</td>\n",
       "      <td>552228</td>\n",
       "      <td>USD</td>\n",
       "      <td>Merchant Solutions</td>\n",
       "      <td>Cost Plus</td>\n",
       "      <td>APAC</td>\n",
       "      <td>C</td>\n",
       "    </tr>\n",
       "    <tr>\n",
       "      <th>4</th>\n",
       "      <td>4</td>\n",
       "      <td>2018</td>\n",
       "      <td>298480322</td>\n",
       "      <td>8865</td>\n",
       "      <td>Agoda International (M) Sdn Bh</td>\n",
       "      <td>5.0</td>\n",
       "      <td>MYR</td>\n",
       "      <td>600</td>\n",
       "      <td>3</td>\n",
       "      <td>1</td>\n",
       "      <td>317</td>\n",
       "      <td>ECMC</td>\n",
       "      <td>US</td>\n",
       "      <td>542444</td>\n",
       "      <td>USD</td>\n",
       "      <td>Merchant Solutions</td>\n",
       "      <td>Cost Plus</td>\n",
       "      <td>APAC</td>\n",
       "      <td>C</td>\n",
       "    </tr>\n",
       "  </tbody>\n",
       "</table>\n",
       "</div>"
      ],
      "text/plain": [
       "   STATUSMONTH  STATUSYEAR    ORDERID  CONTRACT_ID  \\\n",
       "0            4        2018  301835157         8865   \n",
       "1            4        2018  300612882         8865   \n",
       "2            4        2018  298991687         8865   \n",
       "3            4        2018  296851472         8865   \n",
       "4            4        2018  298480322         8865   \n",
       "\n",
       "                      CLIENT_NAME  REQUESTAUTHORIZEDAMOUNT CURRENCYCODE  \\\n",
       "0  Agoda International (M) Sdn Bh                      5.0          MYR   \n",
       "1  Agoda International (M) Sdn Bh                      5.0          MYR   \n",
       "2  Agoda International (M) Sdn Bh                      5.0          MYR   \n",
       "3  Agoda International (M) Sdn Bh                      5.0          MYR   \n",
       "4  Agoda International (M) Sdn Bh                      5.0          MYR   \n",
       "\n",
       "   CURRENT_PAYMENTSTATUSID_UPDATED  PAYMENTPRODUCTID  PAYMENTMETHODID  \\\n",
       "0                              600                 3                1   \n",
       "1                              600                 3                1   \n",
       "2                              600                 3                1   \n",
       "3                              600                 3                1   \n",
       "4                              600                 3                1   \n",
       "\n",
       "   PAYMENTPROCESSORNUMBER CREDITCARDCOMPANY COUNTRYCODE     BIN  \\\n",
       "0                     317              ECMC          US  552228   \n",
       "1                     317              ECMC          US  552228   \n",
       "2                     317              ECMC          US  552228   \n",
       "3                     317              ECMC          US  552228   \n",
       "4                     317              ECMC          US  542444   \n",
       "\n",
       "  INVOICE_CURRENCY                  SERVICEPROVIDERGROUPNAME ICPLUS_TYPE  \\\n",
       "0              USD  Merchant Solutions                         Cost Plus   \n",
       "1              USD  Merchant Solutions                         Cost Plus   \n",
       "2              USD  Merchant Solutions                         Cost Plus   \n",
       "3              USD  Merchant Solutions                         Cost Plus   \n",
       "4              USD  Merchant Solutions                         Cost Plus   \n",
       "\n",
       "  GEOGRAPHICAL_AREA_LOCAL_ACQUIRER_DESC CREDITDEBITINDICATOR  \n",
       "0                                  APAC                    C  \n",
       "1                                  APAC                    C  \n",
       "2                                  APAC                    C  \n",
       "3                                  APAC                    C  \n",
       "4                                  APAC                    C  "
      ]
     },
     "execution_count": 13,
     "metadata": {},
     "output_type": "execute_result"
    }
   ],
   "source": [
    "vi_mu_working_data.head()"
   ]
  },
  {
   "cell_type": "code",
   "execution_count": 14,
   "metadata": {
    "collapsed": true
   },
   "outputs": [],
   "source": [
    "vi_mu_working_data=pd.merge(vi_mu_working_data,con,on=['CURRENCYCODE','STATUSMONTH','STATUSYEAR'])\n",
    "vi_mu_working_data['REQUESTAUTHORIZEDAMOUNT']=vi_mu_working_data['REQUESTAUTHORIZEDAMOUNT']/vi_mu_working_data['us_conversion']"
   ]
  },
  {
   "cell_type": "code",
   "execution_count": 15,
   "metadata": {
    "collapsed": false
   },
   "outputs": [
    {
     "data": {
      "text/html": [
       "<div>\n",
       "<table border=\"1\" class=\"dataframe\">\n",
       "  <thead>\n",
       "    <tr style=\"text-align: right;\">\n",
       "      <th></th>\n",
       "      <th>STATUSMONTH</th>\n",
       "      <th>STATUSYEAR</th>\n",
       "      <th>ORDERID</th>\n",
       "      <th>CONTRACT_ID</th>\n",
       "      <th>CLIENT_NAME</th>\n",
       "      <th>REQUESTAUTHORIZEDAMOUNT</th>\n",
       "      <th>CURRENCYCODE</th>\n",
       "      <th>CURRENT_PAYMENTSTATUSID_UPDATED</th>\n",
       "      <th>PAYMENTPRODUCTID</th>\n",
       "      <th>PAYMENTMETHODID</th>\n",
       "      <th>...</th>\n",
       "      <th>CREDITCARDCOMPANY</th>\n",
       "      <th>COUNTRYCODE</th>\n",
       "      <th>BIN</th>\n",
       "      <th>INVOICE_CURRENCY</th>\n",
       "      <th>SERVICEPROVIDERGROUPNAME</th>\n",
       "      <th>ICPLUS_TYPE</th>\n",
       "      <th>GEOGRAPHICAL_AREA_LOCAL_ACQUIRER_DESC</th>\n",
       "      <th>CREDITDEBITINDICATOR</th>\n",
       "      <th>us_conversion</th>\n",
       "      <th>eu_conversion</th>\n",
       "    </tr>\n",
       "  </thead>\n",
       "  <tbody>\n",
       "    <tr>\n",
       "      <th>0</th>\n",
       "      <td>4</td>\n",
       "      <td>2018</td>\n",
       "      <td>301835157</td>\n",
       "      <td>8865</td>\n",
       "      <td>Agoda International (M) Sdn Bh</td>\n",
       "      <td>1.287333</td>\n",
       "      <td>MYR</td>\n",
       "      <td>600</td>\n",
       "      <td>3</td>\n",
       "      <td>1</td>\n",
       "      <td>...</td>\n",
       "      <td>ECMC</td>\n",
       "      <td>US</td>\n",
       "      <td>552228</td>\n",
       "      <td>USD</td>\n",
       "      <td>Merchant Solutions</td>\n",
       "      <td>Cost Plus</td>\n",
       "      <td>APAC</td>\n",
       "      <td>C</td>\n",
       "      <td>3.884</td>\n",
       "      <td>4.766</td>\n",
       "    </tr>\n",
       "    <tr>\n",
       "      <th>1</th>\n",
       "      <td>4</td>\n",
       "      <td>2018</td>\n",
       "      <td>300612882</td>\n",
       "      <td>8865</td>\n",
       "      <td>Agoda International (M) Sdn Bh</td>\n",
       "      <td>1.287333</td>\n",
       "      <td>MYR</td>\n",
       "      <td>600</td>\n",
       "      <td>3</td>\n",
       "      <td>1</td>\n",
       "      <td>...</td>\n",
       "      <td>ECMC</td>\n",
       "      <td>US</td>\n",
       "      <td>552228</td>\n",
       "      <td>USD</td>\n",
       "      <td>Merchant Solutions</td>\n",
       "      <td>Cost Plus</td>\n",
       "      <td>APAC</td>\n",
       "      <td>C</td>\n",
       "      <td>3.884</td>\n",
       "      <td>4.766</td>\n",
       "    </tr>\n",
       "    <tr>\n",
       "      <th>2</th>\n",
       "      <td>4</td>\n",
       "      <td>2018</td>\n",
       "      <td>298991687</td>\n",
       "      <td>8865</td>\n",
       "      <td>Agoda International (M) Sdn Bh</td>\n",
       "      <td>1.287333</td>\n",
       "      <td>MYR</td>\n",
       "      <td>600</td>\n",
       "      <td>3</td>\n",
       "      <td>1</td>\n",
       "      <td>...</td>\n",
       "      <td>ECMC</td>\n",
       "      <td>US</td>\n",
       "      <td>552228</td>\n",
       "      <td>USD</td>\n",
       "      <td>Merchant Solutions</td>\n",
       "      <td>Cost Plus</td>\n",
       "      <td>APAC</td>\n",
       "      <td>C</td>\n",
       "      <td>3.884</td>\n",
       "      <td>4.766</td>\n",
       "    </tr>\n",
       "    <tr>\n",
       "      <th>3</th>\n",
       "      <td>4</td>\n",
       "      <td>2018</td>\n",
       "      <td>296851472</td>\n",
       "      <td>8865</td>\n",
       "      <td>Agoda International (M) Sdn Bh</td>\n",
       "      <td>1.287333</td>\n",
       "      <td>MYR</td>\n",
       "      <td>600</td>\n",
       "      <td>3</td>\n",
       "      <td>1</td>\n",
       "      <td>...</td>\n",
       "      <td>ECMC</td>\n",
       "      <td>US</td>\n",
       "      <td>552228</td>\n",
       "      <td>USD</td>\n",
       "      <td>Merchant Solutions</td>\n",
       "      <td>Cost Plus</td>\n",
       "      <td>APAC</td>\n",
       "      <td>C</td>\n",
       "      <td>3.884</td>\n",
       "      <td>4.766</td>\n",
       "    </tr>\n",
       "    <tr>\n",
       "      <th>4</th>\n",
       "      <td>4</td>\n",
       "      <td>2018</td>\n",
       "      <td>298480322</td>\n",
       "      <td>8865</td>\n",
       "      <td>Agoda International (M) Sdn Bh</td>\n",
       "      <td>1.287333</td>\n",
       "      <td>MYR</td>\n",
       "      <td>600</td>\n",
       "      <td>3</td>\n",
       "      <td>1</td>\n",
       "      <td>...</td>\n",
       "      <td>ECMC</td>\n",
       "      <td>US</td>\n",
       "      <td>542444</td>\n",
       "      <td>USD</td>\n",
       "      <td>Merchant Solutions</td>\n",
       "      <td>Cost Plus</td>\n",
       "      <td>APAC</td>\n",
       "      <td>C</td>\n",
       "      <td>3.884</td>\n",
       "      <td>4.766</td>\n",
       "    </tr>\n",
       "  </tbody>\n",
       "</table>\n",
       "<p>5 rows × 21 columns</p>\n",
       "</div>"
      ],
      "text/plain": [
       "   STATUSMONTH  STATUSYEAR    ORDERID  CONTRACT_ID  \\\n",
       "0            4        2018  301835157         8865   \n",
       "1            4        2018  300612882         8865   \n",
       "2            4        2018  298991687         8865   \n",
       "3            4        2018  296851472         8865   \n",
       "4            4        2018  298480322         8865   \n",
       "\n",
       "                      CLIENT_NAME  REQUESTAUTHORIZEDAMOUNT CURRENCYCODE  \\\n",
       "0  Agoda International (M) Sdn Bh                 1.287333          MYR   \n",
       "1  Agoda International (M) Sdn Bh                 1.287333          MYR   \n",
       "2  Agoda International (M) Sdn Bh                 1.287333          MYR   \n",
       "3  Agoda International (M) Sdn Bh                 1.287333          MYR   \n",
       "4  Agoda International (M) Sdn Bh                 1.287333          MYR   \n",
       "\n",
       "   CURRENT_PAYMENTSTATUSID_UPDATED  PAYMENTPRODUCTID  PAYMENTMETHODID  \\\n",
       "0                              600                 3                1   \n",
       "1                              600                 3                1   \n",
       "2                              600                 3                1   \n",
       "3                              600                 3                1   \n",
       "4                              600                 3                1   \n",
       "\n",
       "       ...        CREDITCARDCOMPANY COUNTRYCODE     BIN  INVOICE_CURRENCY  \\\n",
       "0      ...                     ECMC          US  552228               USD   \n",
       "1      ...                     ECMC          US  552228               USD   \n",
       "2      ...                     ECMC          US  552228               USD   \n",
       "3      ...                     ECMC          US  552228               USD   \n",
       "4      ...                     ECMC          US  542444               USD   \n",
       "\n",
       "                   SERVICEPROVIDERGROUPNAME ICPLUS_TYPE  \\\n",
       "0  Merchant Solutions                         Cost Plus   \n",
       "1  Merchant Solutions                         Cost Plus   \n",
       "2  Merchant Solutions                         Cost Plus   \n",
       "3  Merchant Solutions                         Cost Plus   \n",
       "4  Merchant Solutions                         Cost Plus   \n",
       "\n",
       "  GEOGRAPHICAL_AREA_LOCAL_ACQUIRER_DESC CREDITDEBITINDICATOR us_conversion  \\\n",
       "0                                  APAC                    C         3.884   \n",
       "1                                  APAC                    C         3.884   \n",
       "2                                  APAC                    C         3.884   \n",
       "3                                  APAC                    C         3.884   \n",
       "4                                  APAC                    C         3.884   \n",
       "\n",
       "   eu_conversion  \n",
       "0          4.766  \n",
       "1          4.766  \n",
       "2          4.766  \n",
       "3          4.766  \n",
       "4          4.766  \n",
       "\n",
       "[5 rows x 21 columns]"
      ]
     },
     "execution_count": 15,
     "metadata": {},
     "output_type": "execute_result"
    }
   ],
   "source": [
    "vi_mu_working_data.head()"
   ]
  },
  {
   "cell_type": "code",
   "execution_count": 16,
   "metadata": {
    "collapsed": false
   },
   "outputs": [],
   "source": [
    "vi_mu_working_data['0.25%_P/T']=vi_mu_working_data['REQUESTAUTHORIZEDAMOUNT']*.0025\n",
    "vi_mu_working_data['0.04_P/T']=1*0.04\n",
    "vi_mu_working_data['PROCESS_INTEGRITY_FEE']=vi_mu_working_data[['0.25%_P/T','0.04_P/T']].max(axis=1) # Select the max across two columns"
   ]
  },
  {
   "cell_type": "code",
   "execution_count": 17,
   "metadata": {
    "collapsed": false,
    "scrolled": true
   },
   "outputs": [],
   "source": [
    "vi_mu_working_data=vi_mu_working_data[['STATUSMONTH','STATUSYEAR','CLIENT_NAME','CONTRACT_ID','SERVICEPROVIDERGROUPNAME','GEOGRAPHICAL_AREA_LOCAL_ACQUIRER_DESC','ORDERID','CREDITDEBITINDICATOR','CURRENCYCODE','REQUESTAUTHORIZEDAMOUNT','INVOICE_CURRENCY','ICPLUS_TYPE','PROCESS_INTEGRITY_FEE']]"
   ]
  },
  {
   "cell_type": "code",
   "execution_count": 18,
   "metadata": {
    "collapsed": true
   },
   "outputs": [],
   "source": [
    "vi_mu_working_data=pd.merge(vi_mu_working_data,prd_ref_tbl,on=['CURRENCYCODE','CREDITDEBITINDICATOR'],how='left')"
   ]
  },
  {
   "cell_type": "code",
   "execution_count": 19,
   "metadata": {
    "collapsed": true
   },
   "outputs": [],
   "source": [
    "vi_mu_working_data=pd.merge(vi_mu_working_data,excep,on=['CONTRACT_ID'],how='left')"
   ]
  },
  {
   "cell_type": "code",
   "execution_count": 20,
   "metadata": {
    "collapsed": false
   },
   "outputs": [
    {
     "name": "stderr",
     "output_type": "stream",
     "text": [
      "C:\\Users\\djohnson\\AppData\\Local\\Continuum\\Anaconda2\\lib\\site-packages\\ipykernel\\__main__.py:1: SettingWithCopyWarning: \n",
      "A value is trying to be set on a copy of a slice from a DataFrame\n",
      "\n",
      "See the caveats in the documentation: http://pandas.pydata.org/pandas-docs/stable/indexing.html#indexing-view-versus-copy\n",
      "  if __name__ == '__main__':\n",
      "C:\\Users\\djohnson\\AppData\\Local\\Continuum\\Anaconda2\\lib\\site-packages\\ipykernel\\__main__.py:2: SettingWithCopyWarning: \n",
      "A value is trying to be set on a copy of a slice from a DataFrame\n",
      "\n",
      "See the caveats in the documentation: http://pandas.pydata.org/pandas-docs/stable/indexing.html#indexing-view-versus-copy\n",
      "  from ipykernel import kernelapp as app\n"
     ]
    }
   ],
   "source": [
    "vi_mu_working_data['ICPLUS_TYPE'][(vi_mu_working_data['CONTRACT_ID']==7162)]=\"-\"\n",
    "vi_mu_working_data['INVOICE_CURRENCY'][(vi_mu_working_data['CONTRACT_ID']==7162)]=\"USD\""
   ]
  },
  {
   "cell_type": "code",
   "execution_count": 21,
   "metadata": {
    "collapsed": true
   },
   "outputs": [],
   "source": [
    "vi_mu_working_data=pd.merge(vi_mu_working_data,curr,on=['CURRENCYCODE'],how='left')\n",
    "vi_mu_working_data.rename(columns={'EUR_CONVERSION_RATE': 'USD_CONVERSION_FACTOR'}, inplace=True)#Update the name to USD conversion factor"
   ]
  },
  {
   "cell_type": "code",
   "execution_count": 22,
   "metadata": {
    "collapsed": true
   },
   "outputs": [],
   "source": [
    "curr_invoice=curr\n",
    "curr_invoice.rename(columns={'CURRENCYCODE': 'INVOICE_CURRENCY'}, inplace=True)"
   ]
  },
  {
   "cell_type": "code",
   "execution_count": 23,
   "metadata": {
    "collapsed": false
   },
   "outputs": [],
   "source": [
    "vi_mu_working_data=pd.merge(vi_mu_working_data,curr_invoice,on=['INVOICE_CURRENCY'],how='left')\n",
    "vi_mu_working_data['INVOICE_CONVERSION_FACTOR']=vi_mu_working_data['EUR_CONVERSION_RATE']"
   ]
  },
  {
   "cell_type": "code",
   "execution_count": 24,
   "metadata": {
    "collapsed": true
   },
   "outputs": [],
   "source": [
    "vi_mu_working_data['CURRENCY_ADJUSTED_INVOICE_AMOUNT']=vi_mu_working_data['PROCESS_INTEGRITY_FEE']/vi_mu_working_data['INVOICE_CONVERSION_FACTOR']"
   ]
  },
  {
   "cell_type": "code",
   "execution_count": 25,
   "metadata": {
    "collapsed": false
   },
   "outputs": [
    {
     "name": "stderr",
     "output_type": "stream",
     "text": [
      "C:\\Users\\djohnson\\AppData\\Local\\Continuum\\Anaconda2\\lib\\site-packages\\ipykernel\\__main__.py:1: SettingWithCopyWarning: \n",
      "A value is trying to be set on a copy of a slice from a DataFrame\n",
      "\n",
      "See the caveats in the documentation: http://pandas.pydata.org/pandas-docs/stable/indexing.html#indexing-view-versus-copy\n",
      "  if __name__ == '__main__':\n"
     ]
    }
   ],
   "source": [
    "vi_mu_working_data['INVOICE_CURRENCY'][(vi_mu_working_data['INVOICE_CURRENCY'].isnull())&(vi_mu_working_data['CURRENCYCODE']=='CAD')]='USD'"
   ]
  },
  {
   "cell_type": "code",
   "execution_count": 26,
   "metadata": {
    "collapsed": false
   },
   "outputs": [
    {
     "data": {
      "text/html": [
       "<div>\n",
       "<table border=\"1\" class=\"dataframe\">\n",
       "  <thead>\n",
       "    <tr style=\"text-align: right;\">\n",
       "      <th></th>\n",
       "      <th>STATUSMONTH</th>\n",
       "      <th>STATUSYEAR</th>\n",
       "      <th>CLIENT_NAME</th>\n",
       "      <th>CONTRACT_ID</th>\n",
       "      <th>SERVICEPROVIDERGROUPNAME</th>\n",
       "      <th>GEOGRAPHICAL_AREA_LOCAL_ACQUIRER_DESC</th>\n",
       "      <th>ORDERID</th>\n",
       "      <th>CREDITDEBITINDICATOR</th>\n",
       "      <th>CURRENCYCODE</th>\n",
       "      <th>REQUESTAUTHORIZEDAMOUNT</th>\n",
       "      <th>...</th>\n",
       "      <th>ICPLUS_TYPE</th>\n",
       "      <th>PROCESS_INTEGRITY_FEE</th>\n",
       "      <th>PRODUCT_CODE</th>\n",
       "      <th>EXCEPTION</th>\n",
       "      <th>Unnamed: 0_x</th>\n",
       "      <th>USD_CONVERSION_FACTOR</th>\n",
       "      <th>Unnamed: 0_y</th>\n",
       "      <th>EUR_CONVERSION_RATE</th>\n",
       "      <th>INVOICE_CONVERSION_FACTOR</th>\n",
       "      <th>CURRENCY_ADJUSTED_INVOICE_AMOUNT</th>\n",
       "    </tr>\n",
       "  </thead>\n",
       "  <tbody>\n",
       "    <tr>\n",
       "      <th>0</th>\n",
       "      <td>4</td>\n",
       "      <td>2018</td>\n",
       "      <td>Agoda International (M) Sdn Bh</td>\n",
       "      <td>8865</td>\n",
       "      <td>Merchant Solutions</td>\n",
       "      <td>APAC</td>\n",
       "      <td>301835157</td>\n",
       "      <td>C</td>\n",
       "      <td>MYR</td>\n",
       "      <td>1.287333</td>\n",
       "      <td>...</td>\n",
       "      <td>Cost Plus</td>\n",
       "      <td>0.04</td>\n",
       "      <td>100819</td>\n",
       "      <td>NaN</td>\n",
       "      <td>NaN</td>\n",
       "      <td>NaN</td>\n",
       "      <td>3</td>\n",
       "      <td>1.0</td>\n",
       "      <td>1.0</td>\n",
       "      <td>0.04</td>\n",
       "    </tr>\n",
       "    <tr>\n",
       "      <th>1</th>\n",
       "      <td>4</td>\n",
       "      <td>2018</td>\n",
       "      <td>Agoda International (M) Sdn Bh</td>\n",
       "      <td>8865</td>\n",
       "      <td>Merchant Solutions</td>\n",
       "      <td>APAC</td>\n",
       "      <td>300612882</td>\n",
       "      <td>C</td>\n",
       "      <td>MYR</td>\n",
       "      <td>1.287333</td>\n",
       "      <td>...</td>\n",
       "      <td>Cost Plus</td>\n",
       "      <td>0.04</td>\n",
       "      <td>100819</td>\n",
       "      <td>NaN</td>\n",
       "      <td>NaN</td>\n",
       "      <td>NaN</td>\n",
       "      <td>3</td>\n",
       "      <td>1.0</td>\n",
       "      <td>1.0</td>\n",
       "      <td>0.04</td>\n",
       "    </tr>\n",
       "    <tr>\n",
       "      <th>2</th>\n",
       "      <td>4</td>\n",
       "      <td>2018</td>\n",
       "      <td>Agoda International (M) Sdn Bh</td>\n",
       "      <td>8865</td>\n",
       "      <td>Merchant Solutions</td>\n",
       "      <td>APAC</td>\n",
       "      <td>298991687</td>\n",
       "      <td>C</td>\n",
       "      <td>MYR</td>\n",
       "      <td>1.287333</td>\n",
       "      <td>...</td>\n",
       "      <td>Cost Plus</td>\n",
       "      <td>0.04</td>\n",
       "      <td>100819</td>\n",
       "      <td>NaN</td>\n",
       "      <td>NaN</td>\n",
       "      <td>NaN</td>\n",
       "      <td>3</td>\n",
       "      <td>1.0</td>\n",
       "      <td>1.0</td>\n",
       "      <td>0.04</td>\n",
       "    </tr>\n",
       "    <tr>\n",
       "      <th>3</th>\n",
       "      <td>4</td>\n",
       "      <td>2018</td>\n",
       "      <td>Agoda International (M) Sdn Bh</td>\n",
       "      <td>8865</td>\n",
       "      <td>Merchant Solutions</td>\n",
       "      <td>APAC</td>\n",
       "      <td>296851472</td>\n",
       "      <td>C</td>\n",
       "      <td>MYR</td>\n",
       "      <td>1.287333</td>\n",
       "      <td>...</td>\n",
       "      <td>Cost Plus</td>\n",
       "      <td>0.04</td>\n",
       "      <td>100819</td>\n",
       "      <td>NaN</td>\n",
       "      <td>NaN</td>\n",
       "      <td>NaN</td>\n",
       "      <td>3</td>\n",
       "      <td>1.0</td>\n",
       "      <td>1.0</td>\n",
       "      <td>0.04</td>\n",
       "    </tr>\n",
       "    <tr>\n",
       "      <th>4</th>\n",
       "      <td>4</td>\n",
       "      <td>2018</td>\n",
       "      <td>Agoda International (M) Sdn Bh</td>\n",
       "      <td>8865</td>\n",
       "      <td>Merchant Solutions</td>\n",
       "      <td>APAC</td>\n",
       "      <td>298480322</td>\n",
       "      <td>C</td>\n",
       "      <td>MYR</td>\n",
       "      <td>1.287333</td>\n",
       "      <td>...</td>\n",
       "      <td>Cost Plus</td>\n",
       "      <td>0.04</td>\n",
       "      <td>100819</td>\n",
       "      <td>NaN</td>\n",
       "      <td>NaN</td>\n",
       "      <td>NaN</td>\n",
       "      <td>3</td>\n",
       "      <td>1.0</td>\n",
       "      <td>1.0</td>\n",
       "      <td>0.04</td>\n",
       "    </tr>\n",
       "  </tbody>\n",
       "</table>\n",
       "<p>5 rows × 21 columns</p>\n",
       "</div>"
      ],
      "text/plain": [
       "   STATUSMONTH  STATUSYEAR                     CLIENT_NAME  CONTRACT_ID  \\\n",
       "0            4        2018  Agoda International (M) Sdn Bh         8865   \n",
       "1            4        2018  Agoda International (M) Sdn Bh         8865   \n",
       "2            4        2018  Agoda International (M) Sdn Bh         8865   \n",
       "3            4        2018  Agoda International (M) Sdn Bh         8865   \n",
       "4            4        2018  Agoda International (M) Sdn Bh         8865   \n",
       "\n",
       "                   SERVICEPROVIDERGROUPNAME  \\\n",
       "0  Merchant Solutions                         \n",
       "1  Merchant Solutions                         \n",
       "2  Merchant Solutions                         \n",
       "3  Merchant Solutions                         \n",
       "4  Merchant Solutions                         \n",
       "\n",
       "  GEOGRAPHICAL_AREA_LOCAL_ACQUIRER_DESC    ORDERID CREDITDEBITINDICATOR  \\\n",
       "0                                  APAC  301835157                    C   \n",
       "1                                  APAC  300612882                    C   \n",
       "2                                  APAC  298991687                    C   \n",
       "3                                  APAC  296851472                    C   \n",
       "4                                  APAC  298480322                    C   \n",
       "\n",
       "  CURRENCYCODE  REQUESTAUTHORIZEDAMOUNT                ...                 \\\n",
       "0          MYR                 1.287333                ...                  \n",
       "1          MYR                 1.287333                ...                  \n",
       "2          MYR                 1.287333                ...                  \n",
       "3          MYR                 1.287333                ...                  \n",
       "4          MYR                 1.287333                ...                  \n",
       "\n",
       "  ICPLUS_TYPE PROCESS_INTEGRITY_FEE  PRODUCT_CODE  EXCEPTION Unnamed: 0_x  \\\n",
       "0   Cost Plus                  0.04        100819        NaN          NaN   \n",
       "1   Cost Plus                  0.04        100819        NaN          NaN   \n",
       "2   Cost Plus                  0.04        100819        NaN          NaN   \n",
       "3   Cost Plus                  0.04        100819        NaN          NaN   \n",
       "4   Cost Plus                  0.04        100819        NaN          NaN   \n",
       "\n",
       "   USD_CONVERSION_FACTOR  Unnamed: 0_y  EUR_CONVERSION_RATE  \\\n",
       "0                    NaN             3                  1.0   \n",
       "1                    NaN             3                  1.0   \n",
       "2                    NaN             3                  1.0   \n",
       "3                    NaN             3                  1.0   \n",
       "4                    NaN             3                  1.0   \n",
       "\n",
       "   INVOICE_CONVERSION_FACTOR  CURRENCY_ADJUSTED_INVOICE_AMOUNT  \n",
       "0                        1.0                              0.04  \n",
       "1                        1.0                              0.04  \n",
       "2                        1.0                              0.04  \n",
       "3                        1.0                              0.04  \n",
       "4                        1.0                              0.04  \n",
       "\n",
       "[5 rows x 21 columns]"
      ]
     },
     "execution_count": 26,
     "metadata": {},
     "output_type": "execute_result"
    }
   ],
   "source": [
    "vi_mu_working_data.head()"
   ]
  },
  {
   "cell_type": "code",
   "execution_count": 27,
   "metadata": {
    "collapsed": false
   },
   "outputs": [
    {
     "name": "stderr",
     "output_type": "stream",
     "text": [
      "C:\\Users\\djohnson\\AppData\\Local\\Continuum\\Anaconda2\\lib\\site-packages\\ipykernel\\__main__.py:5: SettingWithCopyWarning: \n",
      "A value is trying to be set on a copy of a slice from a DataFrame\n",
      "\n",
      "See the caveats in the documentation: http://pandas.pydata.org/pandas-docs/stable/indexing.html#indexing-view-versus-copy\n",
      "C:\\Users\\djohnson\\AppData\\Local\\Continuum\\Anaconda2\\lib\\site-packages\\ipykernel\\__main__.py:6: SettingWithCopyWarning: \n",
      "A value is trying to be set on a copy of a slice from a DataFrame\n",
      "\n",
      "See the caveats in the documentation: http://pandas.pydata.org/pandas-docs/stable/indexing.html#indexing-view-versus-copy\n"
     ]
    }
   ],
   "source": [
    "curr[(curr['INVOICE_CURRENCY']=='EUR')]\n",
    "\n",
    "usd=curr[:].iloc[4]['EUR_CONVERSION_RATE']#Establish the European Conversion Amount\n",
    "vi_mu_working_data['EUR_TOTAL']=0\n",
    "vi_mu_working_data['EUR_TOTAL'][(vi_mu_working_data['INVOICE_CURRENCY']!=\"EUR\")]=vi_mu_working_data['CURRENCY_ADJUSTED_INVOICE_AMOUNT']/usd\n",
    "vi_mu_working_data['EUR_TOTAL'][(vi_mu_working_data['INVOICE_CURRENCY']==\"EUR\")]=vi_mu_working_data['CURRENCY_ADJUSTED_INVOICE_AMOUNT']"
   ]
  },
  {
   "cell_type": "code",
   "execution_count": 28,
   "metadata": {
    "collapsed": false
   },
   "outputs": [
    {
     "name": "stderr",
     "output_type": "stream",
     "text": [
      "C:\\Users\\djohnson\\AppData\\Local\\Continuum\\Anaconda2\\lib\\site-packages\\ipykernel\\__main__.py:4: SettingWithCopyWarning: \n",
      "A value is trying to be set on a copy of a slice from a DataFrame\n",
      "\n",
      "See the caveats in the documentation: http://pandas.pydata.org/pandas-docs/stable/indexing.html#indexing-view-versus-copy\n",
      "C:\\Users\\djohnson\\AppData\\Local\\Continuum\\Anaconda2\\lib\\site-packages\\ipykernel\\__main__.py:5: SettingWithCopyWarning: \n",
      "A value is trying to be set on a copy of a slice from a DataFrame\n",
      "\n",
      "See the caveats in the documentation: http://pandas.pydata.org/pandas-docs/stable/indexing.html#indexing-view-versus-copy\n",
      "C:\\Users\\djohnson\\AppData\\Local\\Continuum\\Anaconda2\\lib\\site-packages\\ipykernel\\__main__.py:8: SettingWithCopyWarning: \n",
      "A value is trying to be set on a copy of a slice from a DataFrame\n",
      "\n",
      "See the caveats in the documentation: http://pandas.pydata.org/pandas-docs/stable/indexing.html#indexing-view-versus-copy\n",
      "C:\\Users\\djohnson\\AppData\\Local\\Continuum\\Anaconda2\\lib\\site-packages\\ipykernel\\__main__.py:9: SettingWithCopyWarning: \n",
      "A value is trying to be set on a copy of a slice from a DataFrame\n",
      "\n",
      "See the caveats in the documentation: http://pandas.pydata.org/pandas-docs/stable/indexing.html#indexing-view-versus-copy\n"
     ]
    }
   ],
   "source": [
    "vi_mu_working_data['Product Description']='Penalty Fees'\n",
    "\n",
    "vi_mu_working_data['Current % Tariff']=0\n",
    "vi_mu_working_data['Current % Tariff'][(vi_mu_working_data['EXCEPTION']=='YES')]=1\n",
    "vi_mu_working_data['Current % Tariff'][(vi_mu_working_data['EXCEPTION']!='YES')]=1.10\n",
    "\n",
    "vi_mu_working_data['Description']=''\n",
    "vi_mu_working_data['Description'][(vi_mu_working_data['EXCEPTION']=='YES')]='Fee 100.00% or as currently in IST ='\n",
    "vi_mu_working_data['Description'][(vi_mu_working_data['EXCEPTION']!='YES')]='Fee 110.00% or as currently in IST ='\n",
    "\n",
    "vi_mu_working_data['Product Code']=420129"
   ]
  },
  {
   "cell_type": "code",
   "execution_count": 29,
   "metadata": {
    "collapsed": false
   },
   "outputs": [
    {
     "name": "stdout",
     "output_type": "stream",
     "text": [
      "<class 'pandas.core.frame.DataFrame'>\n",
      "Int64Index: 130516 entries, 0 to 130515\n",
      "Data columns (total 26 columns):\n",
      "STATUSMONTH                              130516 non-null int64\n",
      "STATUSYEAR                               130516 non-null int64\n",
      "CLIENT_NAME                              130516 non-null object\n",
      "CONTRACT_ID                              130516 non-null int64\n",
      "SERVICEPROVIDERGROUPNAME                 130516 non-null object\n",
      "GEOGRAPHICAL_AREA_LOCAL_ACQUIRER_DESC    130516 non-null object\n",
      "ORDERID                                  130516 non-null int64\n",
      "CREDITDEBITINDICATOR                     130516 non-null object\n",
      "CURRENCYCODE                             130516 non-null object\n",
      "REQUESTAUTHORIZEDAMOUNT                  130516 non-null float64\n",
      "INVOICE_CURRENCY                         130516 non-null object\n",
      "ICPLUS_TYPE                              130516 non-null object\n",
      "PROCESS_INTEGRITY_FEE                    130516 non-null float64\n",
      "PRODUCT_CODE                             130516 non-null int64\n",
      "EXCEPTION                                1642 non-null object\n",
      "Unnamed: 0_x                             20255 non-null float64\n",
      "USD_CONVERSION_FACTOR                    20255 non-null float64\n",
      "Unnamed: 0_y                             130516 non-null int64\n",
      "EUR_CONVERSION_RATE                      130516 non-null float64\n",
      "INVOICE_CONVERSION_FACTOR                130516 non-null float64\n",
      "CURRENCY_ADJUSTED_INVOICE_AMOUNT         130516 non-null float64\n",
      "EUR_TOTAL                                130516 non-null float64\n",
      "Product Description                      130516 non-null object\n",
      "Current % Tariff                         130516 non-null float64\n",
      "Description                              130516 non-null object\n",
      "Product Code                             130516 non-null int64\n",
      "dtypes: float64(9), int64(7), object(10)\n",
      "memory usage: 26.9+ MB\n"
     ]
    }
   ],
   "source": [
    "vi_mu_working_data.info()"
   ]
  },
  {
   "cell_type": "code",
   "execution_count": 30,
   "metadata": {
    "collapsed": false
   },
   "outputs": [],
   "source": [
    "vi_mu_working_data['Total Euros Collected (including current tariff)']=vi_mu_working_data['EUR_TOTAL']*vi_mu_working_data['Current % Tariff']\n",
    "vi_mu_working_data['Invoice Amount (including tariff)']=vi_mu_working_data['CURRENCY_ADJUSTED_INVOICE_AMOUNT']*vi_mu_working_data['Current % Tariff']"
   ]
  },
  {
   "cell_type": "code",
   "execution_count": 31,
   "metadata": {
    "collapsed": false
   },
   "outputs": [],
   "source": [
    "vi_mu_working_data_rev=vi_mu_working_data[['STATUSMONTH'\n",
    "                          ,'STATUSYEAR'\n",
    "                          ,'CLIENT_NAME'\n",
    "                          ,'CONTRACT_ID'\n",
    "                          ,'SERVICEPROVIDERGROUPNAME'\n",
    "                          ,'PRODUCT_CODE'\n",
    "                          ,'GEOGRAPHICAL_AREA_LOCAL_ACQUIRER_DESC'\n",
    "                          ,'ORDERID'\n",
    "                          ,'CREDITDEBITINDICATOR'\n",
    "                          ,'CURRENCYCODE'\n",
    "                          ,'INVOICE_CURRENCY'                         \n",
    "                          ,'REQUESTAUTHORIZEDAMOUNT'\n",
    "                          ,'PROCESS_INTEGRITY_FEE'                                         \n",
    "                          ,'INVOICE_CONVERSION_FACTOR'\n",
    "                          ,'CURRENCY_ADJUSTED_INVOICE_AMOUNT'\n",
    "                          ,'EUR_TOTAL'\n",
    "                          ,'EXCEPTION'                         \n",
    "                          ,'ICPLUS_TYPE']]"
   ]
  },
  {
   "cell_type": "code",
   "execution_count": 32,
   "metadata": {
    "collapsed": true
   },
   "outputs": [],
   "source": [
    "vi_mu_working_data_pivot=vi_mu_working_data_rev"
   ]
  },
  {
   "cell_type": "code",
   "execution_count": 33,
   "metadata": {
    "collapsed": false,
    "scrolled": true
   },
   "outputs": [
    {
     "name": "stderr",
     "output_type": "stream",
     "text": [
      "C:\\Users\\djohnson\\AppData\\Local\\Continuum\\Anaconda2\\lib\\site-packages\\ipykernel\\__main__.py:1: SettingWithCopyWarning: \n",
      "A value is trying to be set on a copy of a slice from a DataFrame\n",
      "\n",
      "See the caveats in the documentation: http://pandas.pydata.org/pandas-docs/stable/indexing.html#indexing-view-versus-copy\n",
      "  if __name__ == '__main__':\n",
      "C:\\Users\\djohnson\\AppData\\Local\\Continuum\\Anaconda2\\lib\\site-packages\\pandas\\core\\generic.py:4485: SettingWithCopyWarning: \n",
      "A value is trying to be set on a copy of a slice from a DataFrame\n",
      "\n",
      "See the caveats in the documentation: http://pandas.pydata.org/pandas-docs/stable/indexing.html#indexing-view-versus-copy\n",
      "  self._update_inplace(new_data)\n",
      "C:\\Users\\djohnson\\AppData\\Local\\Continuum\\Anaconda2\\lib\\site-packages\\IPython\\core\\interactiveshell.py:2881: SettingWithCopyWarning: \n",
      "A value is trying to be set on a copy of a slice from a DataFrame\n",
      "\n",
      "See the caveats in the documentation: http://pandas.pydata.org/pandas-docs/stable/indexing.html#indexing-view-versus-copy\n",
      "  exec(code_obj, self.user_global_ns, self.user_ns)\n",
      "C:\\Users\\djohnson\\AppData\\Local\\Continuum\\Anaconda2\\lib\\site-packages\\ipykernel\\__main__.py:2: SettingWithCopyWarning: \n",
      "A value is trying to be set on a copy of a slice from a DataFrame\n",
      "\n",
      "See the caveats in the documentation: http://pandas.pydata.org/pandas-docs/stable/indexing.html#indexing-view-versus-copy\n",
      "  from ipykernel import kernelapp as app\n"
     ]
    }
   ],
   "source": [
    "vi_mu_working_data_pivot['EUR_TOTAL'][(vi_mu_working_data_pivot['EXCEPTION']=='YES')]=vi_mu_working_data_pivot['EUR_TOTAL']*1\n",
    "vi_mu_working_data_pivot['EUR_TOTAL'][(vi_mu_working_data_pivot['EXCEPTION']!='YES')]=vi_mu_working_data_pivot['EUR_TOTAL']*1.10"
   ]
  },
  {
   "cell_type": "code",
   "execution_count": 34,
   "metadata": {
    "collapsed": false
   },
   "outputs": [
    {
     "name": "stdout",
     "output_type": "stream",
     "text": [
      "               EUR_TOTAL                                    \n",
      "ICPLUS_TYPE            -   Cost Plus IC+SF Plus          All\n",
      "STATUSMONTH                                                 \n",
      "4            4634.066152  1325.40143  494.76517  6454.232751\n",
      "All          4634.066152  1325.40143  494.76517  6454.232751\n"
     ]
    }
   ],
   "source": [
    "vi_mu_working_data_pivot=vi_mu_working_data_pivot[(vi_mu_working_data_pivot['STATUSMONTH']>=1)]\n",
    "print vi_mu_working_data_pivot.pivot_table(['EUR_TOTAL'],index=['STATUSMONTH'],columns='ICPLUS_TYPE',aggfunc='sum',margins='all')"
   ]
  },
  {
   "cell_type": "code",
   "execution_count": 35,
   "metadata": {
    "collapsed": false
   },
   "outputs": [
    {
     "name": "stdout",
     "output_type": "stream",
     "text": [
      "             ORDERID                               \n",
      "ICPLUS_TYPE        - Cost Plus IC+SF Plus       All\n",
      "STATUSMONTH                                        \n",
      "4            96942.0   27837.0     5737.0  130516.0\n",
      "All          96942.0   27837.0     5737.0  130516.0\n"
     ]
    }
   ],
   "source": [
    "vi_mu_working_data_pivot=vi_mu_working_data_pivot[(vi_mu_working_data_pivot['STATUSMONTH']>=1)]\n",
    "print vi_mu_working_data_pivot.pivot_table(['ORDERID'],index=['STATUSMONTH'],columns='ICPLUS_TYPE',aggfunc='count',margins='all')"
   ]
  },
  {
   "cell_type": "code",
   "execution_count": 36,
   "metadata": {
    "collapsed": false
   },
   "outputs": [
    {
     "name": "stderr",
     "output_type": "stream",
     "text": [
      "C:\\Users\\djohnson\\AppData\\Local\\Continuum\\Anaconda2\\lib\\site-packages\\ipykernel\\__main__.py:2: SettingWithCopyWarning: \n",
      "A value is trying to be set on a copy of a slice from a DataFrame.\n",
      "Try using .loc[row_indexer,col_indexer] = value instead\n",
      "\n",
      "See the caveats in the documentation: http://pandas.pydata.org/pandas-docs/stable/indexing.html#indexing-view-versus-copy\n",
      "  from ipykernel import kernelapp as app\n",
      "C:\\Users\\djohnson\\AppData\\Local\\Continuum\\Anaconda2\\lib\\site-packages\\ipykernel\\__main__.py:4: SettingWithCopyWarning: \n",
      "A value is trying to be set on a copy of a slice from a DataFrame.\n",
      "Try using .loc[row_indexer,col_indexer] = value instead\n",
      "\n",
      "See the caveats in the documentation: http://pandas.pydata.org/pandas-docs/stable/indexing.html#indexing-view-versus-copy\n",
      "C:\\Users\\djohnson\\AppData\\Local\\Continuum\\Anaconda2\\lib\\site-packages\\ipykernel\\__main__.py:5: SettingWithCopyWarning: \n",
      "A value is trying to be set on a copy of a slice from a DataFrame\n",
      "\n",
      "See the caveats in the documentation: http://pandas.pydata.org/pandas-docs/stable/indexing.html#indexing-view-versus-copy\n",
      "C:\\Users\\djohnson\\AppData\\Local\\Continuum\\Anaconda2\\lib\\site-packages\\ipykernel\\__main__.py:6: SettingWithCopyWarning: \n",
      "A value is trying to be set on a copy of a slice from a DataFrame\n",
      "\n",
      "See the caveats in the documentation: http://pandas.pydata.org/pandas-docs/stable/indexing.html#indexing-view-versus-copy\n",
      "C:\\Users\\djohnson\\AppData\\Local\\Continuum\\Anaconda2\\lib\\site-packages\\ipykernel\\__main__.py:8: SettingWithCopyWarning: \n",
      "A value is trying to be set on a copy of a slice from a DataFrame.\n",
      "Try using .loc[row_indexer,col_indexer] = value instead\n",
      "\n",
      "See the caveats in the documentation: http://pandas.pydata.org/pandas-docs/stable/indexing.html#indexing-view-versus-copy\n",
      "C:\\Users\\djohnson\\AppData\\Local\\Continuum\\Anaconda2\\lib\\site-packages\\ipykernel\\__main__.py:9: SettingWithCopyWarning: \n",
      "A value is trying to be set on a copy of a slice from a DataFrame\n",
      "\n",
      "See the caveats in the documentation: http://pandas.pydata.org/pandas-docs/stable/indexing.html#indexing-view-versus-copy\n",
      "C:\\Users\\djohnson\\AppData\\Local\\Continuum\\Anaconda2\\lib\\site-packages\\ipykernel\\__main__.py:10: SettingWithCopyWarning: \n",
      "A value is trying to be set on a copy of a slice from a DataFrame\n",
      "\n",
      "See the caveats in the documentation: http://pandas.pydata.org/pandas-docs/stable/indexing.html#indexing-view-versus-copy\n",
      "C:\\Users\\djohnson\\AppData\\Local\\Continuum\\Anaconda2\\lib\\site-packages\\ipykernel\\__main__.py:14: SettingWithCopyWarning: \n",
      "A value is trying to be set on a copy of a slice from a DataFrame.\n",
      "Try using .loc[row_indexer,col_indexer] = value instead\n",
      "\n",
      "See the caveats in the documentation: http://pandas.pydata.org/pandas-docs/stable/indexing.html#indexing-view-versus-copy\n",
      "C:\\Users\\djohnson\\AppData\\Local\\Continuum\\Anaconda2\\lib\\site-packages\\ipykernel\\__main__.py:15: SettingWithCopyWarning: \n",
      "A value is trying to be set on a copy of a slice from a DataFrame.\n",
      "Try using .loc[row_indexer,col_indexer] = value instead\n",
      "\n",
      "See the caveats in the documentation: http://pandas.pydata.org/pandas-docs/stable/indexing.html#indexing-view-versus-copy\n"
     ]
    }
   ],
   "source": [
    "vi_mu_working_data_rev_rf=vi_mu_working_data_rev\n",
    "vi_mu_working_data_rev_rf['Product Description']='Penalty Fees'\n",
    "\n",
    "vi_mu_working_data_rev_rf['Current % Tariff']=0\n",
    "vi_mu_working_data_rev_rf['Current % Tariff'][(vi_mu_working_data_rev_rf['EXCEPTION']=='YES')]=1\n",
    "vi_mu_working_data_rev_rf['Current % Tariff'][(vi_mu_working_data_rev_rf['EXCEPTION']!='YES')]=1.10\n",
    "\n",
    "vi_mu_working_data_rev_rf['Description']=''\n",
    "vi_mu_working_data_rev_rf['Description'][(vi_mu_working_data_rev_rf['EXCEPTION']=='YES')]='Fee 100.00% or as currently in IST ='\n",
    "vi_mu_working_data_rev_rf['Description'][(vi_mu_working_data_rev_rf['EXCEPTION']!='YES')]='Fee 110.00% or as currently in IST ='\n",
    "\n",
    "\n",
    "\n",
    "vi_mu_working_data_rev_rf['Product Code']=420129\n",
    "vi_mu_working_data_rev_rf['Total invoiced amount']=0\n",
    "\n",
    "vi_mu_working_data_rev_rf=vi_mu_working_data_rev_rf[(vi_mu_working_data_rev_rf['STATUSMONTH']==month)&(vi_mu_working_data_rev_rf['ICPLUS_TYPE']=='-')]\n",
    "vi_mu_working_data_rev_rf=vi_mu_working_data_rev_rf[['CONTRACT_ID'\n",
    "                             ,'Product Code'\n",
    "                             ,'Total invoiced amount'                            \n",
    "                             ,'Product Description'\n",
    "                             ,'INVOICE_CURRENCY'\n",
    "                             ,'ORDERID'\n",
    "                             ,'REQUESTAUTHORIZEDAMOUNT'\n",
    "                             ,'Current % Tariff'\n",
    "                             ,'CURRENCY_ADJUSTED_INVOICE_AMOUNT'\n",
    "                             ,'Description']]\n",
    "\n"
   ]
  },
  {
   "cell_type": "code",
   "execution_count": 37,
   "metadata": {
    "collapsed": false
   },
   "outputs": [],
   "source": [
    "vi_mu_working_data_rev_rf=vi_mu_working_data_rev_rf.groupby(['CONTRACT_ID','Product Code','Product Description','INVOICE_CURRENCY','Current % Tariff','Description','Total invoiced amount'])\\\n",
    ".agg({'ORDERID':'count','REQUESTAUTHORIZEDAMOUNT':'sum','CURRENCY_ADJUSTED_INVOICE_AMOUNT':'sum'}).reset_index()\n",
    "\n",
    "vi_mu_working_data_rev_rf['Current Tariff Amount']=vi_mu_working_data_rev_rf['CURRENCY_ADJUSTED_INVOICE_AMOUNT']/vi_mu_working_data_rev_rf['ORDERID']\n",
    "vi_mu_working_data_rev_rf['Total invoiced percentage']=vi_mu_working_data_rev_rf['CURRENCY_ADJUSTED_INVOICE_AMOUNT']*vi_mu_working_data_rev_rf['Current % Tariff']\n",
    "\n",
    "vi_mu_working_data_rev_rf.rename(columns={'CONTRACT_ID': 'Contract ID'\n",
    "                                            ,'Product Code': 'Product Code'\n",
    "                                            ,'INVOICE_CURRENCY': 'Invoice Currency'\n",
    "                                            ,'ORDERID':'Volume'\n",
    "                                            ,'CURRENCY_ADJUSTED_INVOICE_AMOUNT':'Flow'}, inplace=True)\n",
    "\n",
    "\n",
    "vi_mu_working_data_rev_rf=vi_mu_working_data_rev_rf[['Contract ID'\n",
    "                             ,'Product Code'\n",
    "                             ,'Product Description'\n",
    "                             ,'Invoice Currency'\n",
    "                             ,'Volume'\n",
    "                             ,'Flow'\n",
    "                             ,'Current % Tariff'\n",
    "                             ,'Current Tariff Amount'\n",
    "                             ,'Total invoiced amount'                            \n",
    "                             ,'Total invoiced percentage'\n",
    "                             ,'Description']]\n",
    "\n",
    "\n",
    "vi_mu_working_data_rev_rf['Volume']=0\n",
    "vi_mu_working_data_rev_rf['Current Tariff Amount']=0"
   ]
  },
  {
   "cell_type": "code",
   "execution_count": 38,
   "metadata": {
    "collapsed": false
   },
   "outputs": [
    {
     "name": "stderr",
     "output_type": "stream",
     "text": [
      "C:\\Users\\djohnson\\AppData\\Local\\Continuum\\Anaconda2\\lib\\site-packages\\pandas\\core\\frame.py:2754: SettingWithCopyWarning: \n",
      "A value is trying to be set on a copy of a slice from a DataFrame\n",
      "\n",
      "See the caveats in the documentation: http://pandas.pydata.org/pandas-docs/stable/indexing.html#indexing-view-versus-copy\n",
      "  **kwargs)\n",
      "C:\\Users\\djohnson\\AppData\\Local\\Continuum\\Anaconda2\\lib\\site-packages\\ipykernel\\__main__.py:12: SettingWithCopyWarning: \n",
      "A value is trying to be set on a copy of a slice from a DataFrame.\n",
      "Try using .loc[row_indexer,col_indexer] = value instead\n",
      "\n",
      "See the caveats in the documentation: http://pandas.pydata.org/pandas-docs/stable/indexing.html#indexing-view-versus-copy\n",
      "C:\\Users\\djohnson\\AppData\\Local\\Continuum\\Anaconda2\\lib\\site-packages\\ipykernel\\__main__.py:13: SettingWithCopyWarning: \n",
      "A value is trying to be set on a copy of a slice from a DataFrame\n",
      "\n",
      "See the caveats in the documentation: http://pandas.pydata.org/pandas-docs/stable/indexing.html#indexing-view-versus-copy\n"
     ]
    },
    {
     "name": "stdout",
     "output_type": "stream",
     "text": [
      "  Contract_ID  ProductCode       Value  InvoiceDate Approved\n",
      "0        0766       420129    0.120000       201804    FALSE\n",
      "1        0991       420129  100.431705       201804    FALSE\n",
      "2        1086       420129   13.288000       201804    FALSE\n",
      "3        1666       420129    1.628000       201804    FALSE\n",
      "4        1968       420129    1.872455       201804    FALSE\n"
     ]
    }
   ],
   "source": [
    "#display the invoice data\n",
    "vi_mu_working_data_rev_rf['Approved']='FALSE'\n",
    "vi_mu_working_data_rev_rf['InvoiceDate']=day\n",
    "vi_mu_working_data_rev_rf\n",
    "\n",
    "\n",
    "vi_mu_working_data_rev_rf_final=vi_mu_working_data_rev_rf[['Contract ID','Product Code','Total invoiced percentage','InvoiceDate','Approved']]\n",
    "vi_mu_working_data_rev_rf_final.rename(columns={'Contract ID': 'Contract_ID'\n",
    "                                            ,'Product Code':'ProductCode'\n",
    "                                            ,'Total invoiced percentage': 'Value'}, inplace=True)\n",
    "\n",
    "vi_mu_working_data_rev_rf_final['Contract_ID']=vi_mu_working_data_rev_rf_final['Contract_ID'].astype(str)\n",
    "vi_mu_working_data_rev_rf_final['Contract_ID'][(vi_mu_working_data_rev_rf_final['Contract_ID'].str.len()==3)]=\"0\"+vi_mu_working_data_rev_rf_final['Contract_ID']\n",
    "\n",
    "#vi_mu_working_data_rev_rf_final=vi_mu_working_data_rev_rf_final.set_index('Contract_ID')\n",
    "\n",
    "print vi_mu_working_data_rev_rf_final.head()\n",
    "\n",
    "# ## Export the Data for Use and Analysis\n",
    "\n",
    "#vi_mu_working_data_rev_rf.to_csv('G:\\\\Pricing\\\\Pricing Intelligence\\\\Misuse of Authorization\\\\mtm\\\\vi_misuse_month_add_rev_'+day_save+'.csv')\n",
    "#mc_mu_working_data_rev_rf_final.to_csv('d:\\\\djohnson\\\\Pricing Desktop\\\\misuse\\\\vi_integ_fee_ytd'+day_save+'.csv',sep=';')\n",
    "vi_mu_working_data_rev_rf_final.to_csv('d:\\\\djohnson\\\\Desktop\\\\misuse\\\\2018\\\\apr\\\\invoice_files\\\\mc_row_integ.csv',sep=';')\n",
    "vi_mu_working_data.to_csv('d:\\\\djohnson\\\\Desktop\\\\misuse\\\\2018\\\\apr\\\\audit_files\\\\mc_row_integ_fee_ytd.csv')"
   ]
  }
 ],
 "metadata": {
  "anaconda-cloud": {},
  "kernelspec": {
   "display_name": "Python [conda root]",
   "language": "python",
   "name": "conda-root-py"
  },
  "language_info": {
   "codemirror_mode": {
    "name": "ipython",
    "version": 2
   },
   "file_extension": ".py",
   "mimetype": "text/x-python",
   "name": "python",
   "nbconvert_exporter": "python",
   "pygments_lexer": "ipython2",
   "version": "2.7.12"
  }
 },
 "nbformat": 4,
 "nbformat_minor": 1
}
